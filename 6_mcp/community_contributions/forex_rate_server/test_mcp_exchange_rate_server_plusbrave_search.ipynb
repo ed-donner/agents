{
 "cells": [
  {
   "cell_type": "markdown",
   "id": "5e2b8acd",
   "metadata": {},
   "source": [
    "# mcp_exchange_rates.py server with brave search \n",
    "# This is a demo do not use for personal trading decisions\n",
    "## to get current fx and exchange rate trading recommendations\n",
    "## prequisites\n",
    "### 1. uses claude-sonnet-4\n",
    "ANTHROPIC_API_KEY in .env file\n",
    "### 2. use Brave Search API key\n",
    "BRAVE_API in .env file\n",
    "\n",
    "\n"
   ]
  },
  {
   "cell_type": "code",
   "execution_count": 1,
   "id": "03c51209",
   "metadata": {},
   "outputs": [],
   "source": [
    "# import libraries\n",
    "import os\n",
    "import asyncio\n",
    "from re import I\n",
    "from agents import Agent, OpenAIChatCompletionsModel, Runner, trace\n",
    "from agents.mcp import MCPServerStdio\n",
    "from openai import AsyncOpenAI\n",
    "from dotenv import load_dotenv\n",
    "from IPython.display import Markdown, display\n"
   ]
  },
  {
   "cell_type": "code",
   "execution_count": 2,
   "id": "e5b0f282",
   "metadata": {},
   "outputs": [],
   "source": [
    "load_dotenv(override=True)\n",
    "\n",
    "# 1. Configure Claude client\n",
    "claude_client = AsyncOpenAI(\n",
    "    base_url=\"https://api.anthropic.com/v1\",\n",
    "    api_key=os.getenv(\"ANTHROPIC_API_KEY\")\n",
    ")\n",
    "\n",
    "# 2. Create Claude model\n",
    "claude_model = OpenAIChatCompletionsModel(\n",
    "    model=\"claude-sonnet-4-20250514\",\n",
    "    openai_client=claude_client\n",
    ")\n",
    "\n",
    "# 3. MCP server parameters (Brave Search)\n",
    "search_params = {\n",
    "    \"command\": \"npx\",\n",
    "    \"args\": [\"-y\", \"@modelcontextprotocol/server-brave-search\"],\n",
    "    \"env\": {\"BRAVE_API_KEY\": os.getenv(\"BRAVE_API_KEY\")}\n",
    "}\n",
    "# 4. MCP server parameters (Forex)\n",
    "exchange_rate_params = {\n",
    "    \"command\": \"uv\", \"args\": [\"run\", \"mcp_exchange_rates.py\"]\n",
    "}"
   ]
  },
  {
   "cell_type": "code",
   "execution_count": 3,
   "id": "be86c36f",
   "metadata": {},
   "outputs": [
    {
     "name": "stdout",
     "output_type": "stream",
     "text": [
      "{'command': 'uv', 'args': ['run', 'mcp_exchange_rates.py']}\n",
      "{'command': 'npx', 'args': ['-y', '@modelcontextprotocol/server-brave-search'], 'env': {'BRAVE_API_KEY': 'BSA3Y3e40UOjfP1M_2HMKvXmhf_NXRf'}}\n"
     ]
    }
   ],
   "source": [
    "print(exchange_rate_params)\n",
    "print(search_params)"
   ]
  },
  {
   "cell_type": "code",
   "execution_count": 6,
   "id": "d85c78c4",
   "metadata": {},
   "outputs": [
    {
     "name": "stdout",
     "output_type": "stream",
     "text": [
      "✅ Connected to Forex MCP server\n",
      "✅ Connected to Brave Search MCP server\n",
      "�� Available tools: [Tool(name='brave_web_search', description='Performs a web search using the Brave Search API, ideal for general queries, news, articles, and online content. Use this for broad information gathering, recent events, or when you need diverse web sources. Supports pagination, content filtering, and freshness controls. Maximum 20 results per request, with offset for pagination. ', inputSchema={'type': 'object', 'properties': {'query': {'type': 'string', 'description': 'Search query (max 400 chars, 50 words)'}, 'count': {'type': 'number', 'description': 'Number of results (1-20, default 10)', 'default': 10}, 'offset': {'type': 'number', 'description': 'Pagination offset (max 9, default 0)', 'default': 0}}, 'required': ['query']}, annotations=None), Tool(name='brave_local_search', description=\"Searches for local businesses and places using Brave's Local Search API. Best for queries related to physical locations, businesses, restaurants, services, etc. Returns detailed information including:\\n- Business names and addresses\\n- Ratings and review counts\\n- Phone numbers and opening hours\\nUse this when the query implies 'near me' or mentions specific locations. Automatically falls back to web search if no local results are found.\", inputSchema={'type': 'object', 'properties': {'query': {'type': 'string', 'description': \"Local search query (e.g. 'pizza near Central Park')\"}, 'count': {'type': 'number', 'description': 'Number of results (1-20, default 5)', 'default': 5}}, 'required': ['query']}, annotations=None), Tool(name='lookup_usd_exchange_rate', description='This tool provides the current price of the given exchange for currency code per USD.\\n    Args:\\n        exchange_rate_symbol string of currency_symbol: the symbol of the currency to get the exchange rate for example AUD\\n    ', inputSchema={'properties': {'exchange_rate_symbol': {'title': 'Exchange Rate Symbol', 'type': 'string'}}, 'required': ['exchange_rate_symbol'], 'title': 'lookup_usd_exchange_rateArguments', 'type': 'object'}, annotations=None)]\n",
      "✅ Claude agent created with MCP servers\n",
      "\n",
      "📊 Claude Agent Response:\n",
      "==================================================\n"
     ]
    },
    {
     "data": {
      "text/markdown": [
       "This is a demo do not use for personal trading decisions"
      ],
      "text/plain": [
       "<IPython.core.display.Markdown object>"
      ]
     },
     "metadata": {},
     "output_type": "display_data"
    },
    {
     "data": {
      "text/markdown": [
       "Based on the exchange rate data and market research, here's a comprehensive analysis for your $100,000 investment:\n",
       "\n",
       "## Current Exchange Rates (as of September 6, 2025)\n",
       "\n",
       "### Direct Rates (USD to Currency)\n",
       "\n",
       "| Currency Pair | Exchange Rate | Source | Last Updated |\n",
       "|---------------|---------------|---------|---------------|\n",
       "| USD/AUD | 1.5262 | exchangerate-api.com | Sept 6, 2025 |\n",
       "| USD/EUR | 0.8537 | exchangerate-api.com | Sept 6, 2025 |\n",
       "| USD/NZD | 1.6980 | exchangerate-api.com | Sept 6, 2025 |\n",
       "| USD/GBP | 0.7410 | exchangerate-api.com | Sept 6, 2025 |\n",
       "| USD/CAD | 1.3827 | exchangerate-api.com | Sept 6, 2025 |\n",
       "\n",
       "### Inverse Rates (Currency to USD)\n",
       "\n",
       "| Currency Pair | Inverse Rate | Meaning |\n",
       "|---------------|---------------|----------|\n",
       "| AUD/USD | 0.6553 | 1 AUD = 0.6553 USD |\n",
       "| EUR/USD | 1.1714 | 1 EUR = 1.1714 USD |\n",
       "| NZD/USD | 0.5889 | 1 NZD = 0.5889 USD |\n",
       "| GBP/USD | 1.3497 | 1 GBP = 1.3497 USD |\n",
       "| CAD/USD | 0.7232 | 1 CAD = 0.7232 USD |\n",
       "\n",
       "## Market Analysis Summary\n",
       "\n",
       "### USD/AUD Market Conditions:\n",
       "- **Current Rate**: 1.5262 (AUD/USD: 0.6553)\n",
       "- **Market Outlook**: Bearish for AUD\n",
       "- **Key Factors**: The AUD faces selling pressure with the USD stabilizing. Trading Economics shows AUD/USD rose to 0.6550 on September 5, up 0.42% from previous session¹\n",
       "- **Risk Warning**: Bank of Sydney suggests risk of AUD heading below US$0.60 in first half 2025²\n",
       "\n",
       "### USD/EUR Market Conditions:\n",
       "- **Current Rate**: 0.8537 (EUR/USD: 1.1714)\n",
       "- **Market Outlook**: Mixed to bearish for EUR\n",
       "- **Key Factors**: J.P. Morgan expects EUR/USD to hit 1.19 by September 2025³, while FXStreet suggests a bearish technical outlook for 2025⁴\n",
       "- **Support**: Euro supported by recent EU inflation data⁵\n",
       "\n",
       "### Other Currency Analysis:\n",
       "- **NZD**: Identified as worst G10 performer in August⁶\n",
       "- **GBP**: Mid-table performance among G10 currencies\n",
       "- **CAD**: Affected by broader USD strength trends\n",
       "\n",
       "## Trading Recommendations for $100,000 Investment\n",
       "\n",
       "### Recommended Trades:\n",
       "\n",
       "1. **Short AUD/USD (25% allocation - $25,000)**\n",
       "   - **Rationale**: Strong bearish outlook with risk of falling below 0.60\n",
       "   - **Entry**: Current levels around 0.6553\n",
       "   - **Target**: 0.60-0.62 range\n",
       "   - **Stop Loss**: 0.68\n",
       "\n",
       "2. **Long USD/CAD (20% allocation - $20,000)**\n",
       "   - **Rationale**: USD strength trend likely to continue\n",
       "   - **Entry**: Current 1.3827 level\n",
       "   - **Target**: 1.42-1.45\n",
       "   - **Stop Loss**: 1.35\n",
       "\n",
       "3. **Short NZD/USD (20% allocation - $20,000)**\n",
       "   - **Rationale**: Worst G10 performer, commodity currency weakness\n",
       "   - **Entry**: Current 0.5889 level\n",
       "   - **Target**: 0.55-0.57\n",
       "   - **Stop Loss**: 0.62\n",
       "\n",
       "4. **EUR/USD Long (15% allocation - $15,000)**\n",
       "   - **Rationale**: J.P. Morgan's bullish forecast to 1.19\n",
       "   - **Entry**: Current 1.1714 level\n",
       "   - **Target**: 1.19-1.22\n",
       "   - **Stop Loss**: 1.14\n",
       "\n",
       "5. **Cash Reserve USD (20% allocation - $20,000)**\n",
       "   - **Rationale**: Maintain liquidity for opportunities and risk management\n",
       "\n",
       "### Risk Management Strategy:\n",
       "- **Maximum risk per trade**: 2-3% of total capital\n",
       "- **Diversification**: Spread across multiple currency pairs\n",
       "- **Stop losses**: Strictly adhered to limit downside\n",
       "- **Position sizing**: Conservative approach given market volatility\n",
       "\n",
       "## Sources:\n",
       "1. Trading Economics - Australian Dollar data\n",
       "2. Bank of Sydney - AUD outlook 2025\n",
       "3. J.P. Morgan Research - EUR/USD forecasts\n",
       "4. FXStreet - EUR/USD technical analysis\n",
       "5. RoboForex - EURUSD analysis\n",
       "6. MUFG Research - Monthly FX Outlook\n",
       "\n",
       "**Disclaimer**: This analysis is for informational purposes only. Forex trading involves substantial risk and may not be suitable for all investors. Past performance does not guarantee future results. Please consult with a qualified financial advisor before making investment decisions."
      ],
      "text/plain": [
       "<IPython.core.display.Markdown object>"
      ]
     },
     "metadata": {},
     "output_type": "display_data"
    },
    {
     "name": "stdout",
     "output_type": "stream",
     "text": [
      "==================================================\n"
     ]
    }
   ],
   "source": [
    "\n",
    "\n",
    "try:\n",
    "    #5. Connect to MCP server\n",
    "    async with MCPServerStdio(\n",
    "        params=exchange_rate_params, client_session_timeout_seconds=30) as forex_server:\n",
    "        print(\"✅ Connected to Forex MCP server\")\n",
    "       # 6. Connect to MCP server\n",
    "        async with MCPServerStdio(\n",
    "            params=search_params, \n",
    "            client_session_timeout_seconds=60\n",
    "        ) as search_server:\n",
    "            \n",
    "            print(\"✅ Connected to Brave Search MCP server\")\n",
    "            \n",
    "            # 7. List available tools\n",
    "            tools = await search_server.list_tools()\n",
    "            forex_tools = await forex_server.list_tools()\n",
    "            tools = tools + forex_tools\n",
    "            print(f\"�� Available tools: {tools}\")\n",
    "            # 8. instructions and request\n",
    "            instructions=\"\"\"You are a financial research assistant. You have access to web search tools and usd conversion tools.\n",
    "                Use the search tools to find current information and provide accurate, up-to-date responses.\n",
    "                Always cite your sources when providing information.\"\"\"\n",
    "            \n",
    "            request =\"you have USD 100000 to investment and want to make a profit. provide the latest exchange rate of \\\n",
    "                        usd/aud usd/eur, usd/nzd, usd/gbp, usd/can - print the rates in a table format\\\n",
    "                        print the inverse rates table of the above rates\\\n",
    "                        include the source and date of the information\\\n",
    "                        for each currency pair based get the latest news about the summary of the current market conditions for each currency pair. \\\n",
    "                        provide citations for source of news/information. \\\n",
    "                        and \\\n",
    "                        the current exchange rates recommend trades for usd/aud, usd/eur, usd/nzd, usd/gbp, usd/can \\\n",
    "                        provide a trade idea based on the news and the current market conditions\"\n",
    "            # 9. Create Claude agent with MCP server\n",
    "            agent = Agent(\n",
    "                name=\"claude_researcher\",\n",
    "                instructions=instructions,\n",
    "                model=claude_model,\n",
    "                mcp_servers=[search_server,forex_server]\n",
    "            )\n",
    "            \n",
    "            print(\"✅ Claude agent created with MCP servers\")\n",
    "            \n",
    "            # 10. Use the agent with tracing\n",
    "            with trace(\"Claude and Forex Web Research\"):\n",
    "                result = await Runner.run(\n",
    "                    agent,\n",
    "                    request,\n",
    "                    max_turns=25\n",
    "                    )\n",
    "            \n",
    "            print(\"\\n📊 Claude Agent Response:\")\n",
    "            print(\"=\" * 50)\n",
    "            # print(result.final_output)\n",
    "            display(Markdown(\"This is a demo do not use for personal trading decisions\"))\n",
    "            display(Markdown(result.final_output))\n",
    "            print(\"=\" * 50)\n",
    "        \n",
    "except Exception as e:\n",
    "    print(f\"❌ Error: {e}\")\n",
    "    import traceback\n",
    "    traceback.print_exc()\n",
    "\n"
   ]
  },
  {
   "cell_type": "code",
   "execution_count": null,
   "id": "b17c96fa",
   "metadata": {},
   "outputs": [],
   "source": []
  }
 ],
 "metadata": {
  "kernelspec": {
   "display_name": ".venv",
   "language": "python",
   "name": "python3"
  },
  "language_info": {
   "codemirror_mode": {
    "name": "ipython",
    "version": 3
   },
   "file_extension": ".py",
   "mimetype": "text/x-python",
   "name": "python",
   "nbconvert_exporter": "python",
   "pygments_lexer": "ipython3",
   "version": "3.12.8"
  }
 },
 "nbformat": 4,
 "nbformat_minor": 5
}
