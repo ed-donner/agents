{
 "cells": [
  {
   "cell_type": "markdown",
   "metadata": {},
   "source": [
    "## Welcome to Week 4, Day 4\n",
    "\n",
    "This is the start of an AWESOME project! Really simple and very effective."
   ]
  },
  {
   "cell_type": "markdown",
   "metadata": {},
   "source": [
    "### First - a heads up for Windows PC users\n",
    "\n",
    "While executing this notebook, you might hit a problem with the Playwright browser raising a NotImplementedError.\n",
    "\n",
    "This should work when we move to python modules, but it can cause problems in Windows in a notebook.\n",
    "\n",
    "If you it this error and would like to run the notebook, you need to make a small change which seems quite hacky!\n",
    "\n",
    "1. Right click in `.venv` in the File Explorer on the left and select \"Find in folder\"\n",
    "2. Search for `asyncio.set_event_loop_policy(WindowsSelectorEventLoopPolicy())`  \n",
    "3. That code should be found in a line of code in a file called `kernelapp.py`\n",
    "4. Comment out that line of code in that file! And save the file.\n",
    "5. Restart the kernel by pressing the \"Restart\" button above\n",
    "\n",
    "Thank you to student Nicolas for finding this, and to Yaki, Zibin and Bhaskar for confirming that this worked for them!"
   ]
  },
  {
   "cell_type": "code",
   "execution_count": 1,
   "metadata": {},
   "outputs": [],
   "source": [
    "from typing import Annotated\n",
    "from typing_extensions import TypedDict\n",
    "from langgraph.graph import StateGraph, START\n",
    "from langgraph.graph.message import add_messages\n",
    "from dotenv import load_dotenv\n",
    "from IPython.display import Image, display\n",
    "import gradio as gr\n",
    "from langgraph.prebuilt import ToolNode, tools_condition\n",
    "import requests\n",
    "import os\n",
    "from langchain.agents import Tool\n",
    "\n",
    "from langchain_openai import ChatOpenAI\n",
    "from langgraph.checkpoint.memory import MemorySaver"
   ]
  },
  {
   "cell_type": "code",
   "execution_count": 2,
   "metadata": {},
   "outputs": [
    {
     "data": {
      "text/plain": [
       "True"
      ]
     },
     "execution_count": 2,
     "metadata": {},
     "output_type": "execute_result"
    }
   ],
   "source": [
    "load_dotenv(override=True)"
   ]
  },
  {
   "cell_type": "markdown",
   "metadata": {},
   "source": [
    "### Asynchronous LangGraph\n",
    "\n",
    "To run a tool:  \n",
    "Sync: `tool.run(inputs)`  \n",
    "Async: `await tool.arun(inputs)`\n",
    "\n",
    "To invoke the graph:  \n",
    "Sync: `graph.invoke(state)`  \n",
    "Async: `await graph.ainvoke(state)`"
   ]
  },
  {
   "cell_type": "code",
   "execution_count": 3,
   "metadata": {},
   "outputs": [],
   "source": [
    "class State(TypedDict):\n",
    "    \n",
    "    messages: Annotated[list, add_messages]\n",
    "\n",
    "\n",
    "graph_builder = StateGraph(State)"
   ]
  },
  {
   "cell_type": "code",
   "execution_count": 4,
   "metadata": {},
   "outputs": [],
   "source": [
    "pushover_token = os.getenv(\"PUSHOVER_TOKEN\")\n",
    "pushover_user = os.getenv(\"PUSHOVER_USER\")\n",
    "pushover_url = \"https://api.pushover.net/1/messages.json\"\n",
    "\n",
    "def push(text: str):\n",
    "    \"\"\"Send a push notification to the user\"\"\"\n",
    "    requests.post(pushover_url, data = {\"token\": pushover_token, \"user\": pushover_user, \"message\": text})\n",
    "\n",
    "tool_push = Tool(\n",
    "        name=\"send_push_notification\",\n",
    "        func=push,\n",
    "        description=\"useful for when you want to send a push notification\"\n",
    "    )"
   ]
  },
  {
   "cell_type": "markdown",
   "metadata": {},
   "source": [
    "### Next: Install Playwright\n",
    "\n",
    "On Windows and MacOS:  \n",
    "`playwright install`\n",
    "\n",
    "On Linux:  \n",
    "`playwright install —with-reps chromium`"
   ]
  },
  {
   "cell_type": "markdown",
   "metadata": {},
   "source": [
    "### Introducing nest_asyncio\n",
    "\n",
    "Python async code only allows for one \"event loop\" processing aynchronous events.\n",
    "\n",
    "The `nest_asyncio` library patches this, and is used for special situations, if you need to run a nested event loop.\n",
    "\n"
   ]
  },
  {
   "cell_type": "code",
   "execution_count": 5,
   "metadata": {},
   "outputs": [],
   "source": [
    "import nest_asyncio\n",
    "nest_asyncio.apply()"
   ]
  },
  {
   "cell_type": "markdown",
   "metadata": {},
   "source": [
    "### The LangChain community\n",
    "\n",
    "One of the remarkable things about LangChain is the rich community around it.\n",
    "\n",
    "Check this out:\n"
   ]
  },
  {
   "cell_type": "code",
   "execution_count": 6,
   "metadata": {},
   "outputs": [],
   "source": [
    "from langchain_community.agent_toolkits import PlayWrightBrowserToolkit\n",
    "from langchain_community.tools.playwright.utils import create_async_playwright_browser\n",
    "\n",
    "async_browser =  create_async_playwright_browser(headless=False)  # headful mode\n",
    "toolkit = PlayWrightBrowserToolkit.from_browser(async_browser=async_browser)\n",
    "tools = toolkit.get_tools()"
   ]
  },
  {
   "cell_type": "code",
   "execution_count": 7,
   "metadata": {},
   "outputs": [
    {
     "name": "stdout",
     "output_type": "stream",
     "text": [
      "click_element=async_browser=<Browser type=<BrowserType name=chromium executable_path=/Users/gypy/Library/Caches/ms-playwright/chromium-1169/chrome-mac/Chromium.app/Contents/MacOS/Chromium> version=136.0.7103.25>\n",
      "navigate_browser=async_browser=<Browser type=<BrowserType name=chromium executable_path=/Users/gypy/Library/Caches/ms-playwright/chromium-1169/chrome-mac/Chromium.app/Contents/MacOS/Chromium> version=136.0.7103.25>\n",
      "previous_webpage=async_browser=<Browser type=<BrowserType name=chromium executable_path=/Users/gypy/Library/Caches/ms-playwright/chromium-1169/chrome-mac/Chromium.app/Contents/MacOS/Chromium> version=136.0.7103.25>\n",
      "extract_text=async_browser=<Browser type=<BrowserType name=chromium executable_path=/Users/gypy/Library/Caches/ms-playwright/chromium-1169/chrome-mac/Chromium.app/Contents/MacOS/Chromium> version=136.0.7103.25>\n",
      "extract_hyperlinks=async_browser=<Browser type=<BrowserType name=chromium executable_path=/Users/gypy/Library/Caches/ms-playwright/chromium-1169/chrome-mac/Chromium.app/Contents/MacOS/Chromium> version=136.0.7103.25>\n",
      "get_elements=async_browser=<Browser type=<BrowserType name=chromium executable_path=/Users/gypy/Library/Caches/ms-playwright/chromium-1169/chrome-mac/Chromium.app/Contents/MacOS/Chromium> version=136.0.7103.25>\n",
      "current_webpage=async_browser=<Browser type=<BrowserType name=chromium executable_path=/Users/gypy/Library/Caches/ms-playwright/chromium-1169/chrome-mac/Chromium.app/Contents/MacOS/Chromium> version=136.0.7103.25>\n"
     ]
    }
   ],
   "source": [
    "for tool in tools:\n",
    "    print(f\"{tool.name}={tool}\")"
   ]
  },
  {
   "cell_type": "code",
   "execution_count": 10,
   "metadata": {},
   "outputs": [],
   "source": [
    "tool_dict = {tool.name:tool for tool in tools}\n",
    "\n",
    "navigate_tool = tool_dict.get(\"navigate_browser\")\n",
    "extract_text_tool = tool_dict.get(\"extract_text\")\n",
    "\n",
    "    \n",
    "await navigate_tool.arun({\"url\": \"https://www.cnn.com\"})\n",
    "text = await extract_text_tool.arun({})"
   ]
  },
  {
   "cell_type": "code",
   "execution_count": 11,
   "metadata": {},
   "outputs": [
    {
     "name": "stdout",
     "output_type": "stream",
     "text": [
      "Breaking News, Latest News and Videos | CNN CNN values your feedback\n",
      "1. How relevant is this ad to you? 2. Did you encounter any technical\n",
      "issues? No Video player was slow to load content Video content never\n",
      "loaded Ad froze or did not finish loading Video content did not start\n",
      "after ad Audio on ad was too loud Other issues Ad never loaded Ad\n",
      "prevented/slowed the page from loading Content moved around while ad\n",
      "loaded Ad was repetitive to ads I've seen previously Other issues\n",
      "Cancel Submit Thank You! Your effort and contribution in providing\n",
      "this feedback is much\n",
      "appreciated. Close Ad Feedback Close icon US World Politics Business\n",
      "Health Entertainment Style Travel Sports Science Climate Weather\n",
      "Ukraine-Russia War Israel-Hamas War Games More US World Politics\n",
      "Business Health Entertainment Style Travel Sports Science Climate\n",
      "Weather Ukraine-Russia War Israel-Hamas War Games Watch Listen Live TV\n",
      "Subscribe Sign in My Account Settings Newsletters Topics you follow\n",
      "Sign out Your CNN account Sign in to your CNN account Sign in My\n",
      "Account Settings Newsletters Topics you follow Sign out Your CNN\n",
      "account Sign in to your CNN account Live TV Listen Watch Edition US\n",
      "International Arabic Español Edition US International Arabic Español\n",
      "World Africa Americas Asia Australia China Europe India Middle East\n",
      "United Kingdom US Politics Trump Facts First CNN Polls 2025 Elections\n",
      "Business Tech Media Calculators Videos Markets Pre-markets After-Hours\n",
      "Fear & Greed Investing Markets Now Nightcap Health Life, But Better\n",
      "Fitness Food Sleep Mindfulness Relationships Entertainment Movies\n",
      "Television Celebrity Tech Innovate Foreseeable Future Mission: Ahead\n",
      "Work Transformed Innovative Cities Style Arts Design Fashion\n",
      "Architecture Luxury Beauty Video Travel Destinations Food & Drink Stay\n",
      "News Videos Sports Football Tennis Golf Motorsport US Sports Olympics\n",
      "Climbing Esports Hockey Science Space Life Unearthed Climate Solutions\n",
      "Weather Weather Video Climate Ukraine-Russia War Israel-Hamas War\n",
      "Features As Equals Call to Earth Freedom Project Impact Your World\n",
      "Inside Africa CNN Heroes Watch Live TV CNN Fast Shows A-Z CNN10 CNN\n",
      "Max CNN TV Schedules Listen CNN 5 Things Chasing Life with Dr. Sanjay\n",
      "Gupta The Assignment with Audie Cornish One Thing Tug of War CNN\n",
      "Political Briefing The Axe Files All There Is with Anderson Cooper All\n",
      "CNN Audio podcasts Games Daily Crossword Jumble Crossword Sudoblock\n",
      "Sudoku 5 Things Quiz About CNN Photos Investigations CNN Profiles CNN\n",
      "Leadership CNN Newsletters Work for CNN Follow CNN Trump travel bans\n",
      "Gender-based abuse in Australia Rare earth export controls ‘Wicked:\n",
      "For Good’ trailer ‘Ghost hurricane’ Cristiano Ronaldo Clever cockatoos\n",
      "Trump-Musk feud explodes into public view Show all • Live Updates Live\n",
      "Updates Illustration by Leah Abucayan/CNN/Getty Live Updates Trump\n",
      "floats terminating Musk’s government subsidies and contracts as an\n",
      "online back-and-forth continues Timeline of Elon Musk and Donald\n",
      "Trump’s feud Analysis The ugliest things Trump and Musk just said\n",
      "about one another Musk retorts: ‘Go ahead, make my day’ Analysis Has\n",
      "social media master Trump finally been outmatched by Elon Musk? The\n",
      "Musk-Trump fight blows up a critical alliance in American politics\n",
      "More US news Fairth Ninivaggi/Reuters/File Harvard challenges Trump’s\n",
      "proclamation to suspend visas for new international students in\n",
      "amended lawsuit Roberto Schmidt/AFP/Getty Images Qatari jet that could\n",
      "be new Air Force One will ‘probably’ cost less than $400 million to\n",
      "retrofit, Air Force Secretary says CNN What we know about the\n",
      "countries on Trump’s travel ban list, and how many people will be\n",
      "impacted Valentyn Ogirenko/Reuters Russia launches aerial assault on\n",
      "Kyiv days after Ukraine’s audacious drone attack on bomber fleet Trump\n",
      "compares Ukraine-Russia war to kids’ brawl: ‘Sometimes you’re better\n",
      "off letting them fight’ A Ukrainian firefighter rushed to the scene of\n",
      "a Russian drone attack. He found his wife, daughter and grandson dead\n",
      "Pentagon diverting key anti-drone technology from Ukraine to US forces\n",
      "in the Middle East Getty Images Trump says US and China will reopen\n",
      "trade talks after long-awaited phone call with Xi Analysis Trump is\n",
      "increasingly hostile to China. He’s playing with fire EU sounds alarm\n",
      "to China over rare earth export controls Play Catch up on today's\n",
      "global news - Source: CNN Video Catch up on today’s news ispace\n",
      "Mission controllers lose contact with Resilience moon lander Julian\n",
      "Finney/Getty Images Aryna Sabalenka reaches first final at Roland\n",
      "Garros with victory over four-time champion Iga Świątek Keith\n",
      "Bernstein/Paramount Pictures Tom Cruise is awarded Guinness World\n",
      "Record with fiery ‘Mission: Impossible 8’ stunt Boom Supersonic US\n",
      "skies may soon open to supersonic travel. But there’s still a big\n",
      "problem Sotheby's Original Hermès Birkin, one of most desired luxury\n",
      "items, now up for sale • Video 3:40 cnn Video George Clooney predicts\n",
      "what will happen to ‘Trumpism’ 3:40 Ad Feedback More top stories\n",
      "Show all Ibrahim Amro/AFP/Getty Images Israel attacks suburbs of\n",
      "Beirut, targeting alleged Hezbollah ‘drone factories’ Rubio unveils\n",
      "new sanctions targeting the International Criminal Court for attempts\n",
      "to investigate US and Israel Family of the Boulder attack suspect is\n",
      "facing deportation. What happens next? CNN Investigates CNN review\n",
      "sheds new light on deadly Gaza aid site shooting Mahmoud Khalil\n",
      "responds to charges against him for first time in legal filings,\n",
      "describes ‘irreparable harm’ of his detention Video Harvard\n",
      "international student says Trump administration is using them as\n",
      "‘poker chips’ 2:22 Serpentine Designing the Serpentine Pavillion is an\n",
      "architect’s dream job. Meet the woman behind this year’s building\n",
      "Peter Ndung'u/Fotografiska Striking images show what climate change\n",
      "looks like Perez et al. 2025/Current Biology These worms stack\n",
      "together to form living towers, new study finds Ad Feedback Jerry\n",
      "Holt/Star Tribune/AP UnitedHealthcare sues The Guardian for looking to\n",
      "‘capitalize’ on CEO’s murder Jun 5, 2025 Alex Zucco/SOPA\n",
      "Images/LightRocket/Getty Images 1 in 3 Australian men say they\n",
      "committed intimate partner violence: study Jun 5, 2025 CNN Video Do\n",
      "nasal strips enhance athletic performance? We asked an expert in\n",
      "sports medicine 1:33 Jun 5, 2025 Ad Feedback Yuichi Yamazaki/AFP/Getty\n",
      "Images Japan’s annual births fall to record low as population\n",
      "emergency deepens Jason Tschepljakow/picture-alliance/dpa/AP Nine\n",
      "injured after flight hits heavy turbulence in a thunderstorm\n",
      "Bildbyran/Sipa USA/AP Finland women’s soccer manager apologizes for\n",
      "mistakenly calling up retired 51-year-old instead of 23-year-old •\n",
      "Video 3:47 Getty Images 2188586303 Video Former Biden official\n",
      "announces exit from the Democratic Party 3:47 Craig Williamson/SNS\n",
      "Group/Getty Images Meet the star forward trying to help the\n",
      "Palestinian national soccer team reach the World Cup Getty Images What\n",
      "is D-Day? How the Normandy landings led to Germany’s defeat in World\n",
      "War II Oleg Breslavtsev/Moment RF/Getty Images Having trouble\n",
      "sleeping? Try this next Mike Blake/Reuters Media mogul Shari Redstone\n",
      "says she is being treated for cancer Angelika Warmuth/Reuters Ronaldo\n",
      "ends unwanted record after scoring winner for Portugal Frederic J.\n",
      "Brown/AFP via Getty Images Halle Berry takes on commenters ‘in their\n",
      "feelings’ about her sexy Mother’s Day post • Video 0:55 Khamploi\n",
      "Kakaew Video Hungry elephant caught on CCTV visiting convenience store\n",
      "0:55 Ad Feedback Featured Sections Space and science BSIP/Universal\n",
      "Images Group/Getty Images One of the world’s most notorious pathogens\n",
      "has survived for centuries. Scientists say they now know why Nearly\n",
      "3,000-year-old Mayan complex discovered, featuring pyramids and canals\n",
      "Popular theory about our galaxy’s fate might be wrong, astronomers say\n",
      "How 2,300-year-old gold rings bring an ancient chapter of Jerusalem’s\n",
      "history to life Global Travel Show all Courtesy Max Comer Afraid of\n",
      "flying? This is the man you need to follow on social media Even more\n",
      "mega-sized cruise ships are heading for the oceans 23 of the best\n",
      "Turkish food dishes 25 years ago, he moved to Thailand with minimal\n",
      "savings. Now he plans incredible vacations for the rich and famous Ad\n",
      "Feedback Global Business Justin Sullivan/Getty Images Why Tesla now\n",
      "needs the EV tax credit that Musk once said should go away Analysis\n",
      "Has social media master Trump finally been outmatched by Elon Musk? US\n",
      "companies are scrambling to move supply chains. This small island\n",
      "could be the answer Friday’s jobs report could show how much US\n",
      "employers will bend before they break Style Jamie\n",
      "McCarthy/WireImage/Getty Images Is Kylie Jenner’s surgery revelation a\n",
      "setback for beauty standards? No designer captures the zeitgeist more\n",
      "than he does. Now he’s taking over Dior Asian painters were ‘othered’\n",
      "in Paris a century ago. Now, the art world is taking note This ‘Sex\n",
      "and the City’ dress achieved cult status. But it has controversial\n",
      "origins SPORT Show all Angelika Warmuth/Reuters Cristiano Ronaldo ends\n",
      "unwanted record after scoring winner for Portugal against Germany\n",
      "Betting site bans individual over heckling incident with Olympic\n",
      "champion sprinter Gabby Thomas Finland women’s soccer manager\n",
      "apologizes for mistakenly calling up retired 51-year-old instead of\n",
      "23-year-old World Aquatics to ban participants of controversial\n",
      "Enhanced Games Ad Feedback US Politics Fairth Ninivaggi/Reuters/File\n",
      "Harvard challenges Trump’s proclamation to suspend visas for new\n",
      "international students in amended lawsuit Qatari jet that could be new\n",
      "Air Force One will ‘probably’ cost less than $400 million to retrofit,\n",
      "Air Force Secretary says Family of the Boulder attack suspect is\n",
      "facing deportation. What happens next? Supreme Court sides with\n",
      "straight woman in decision that makes it easier to file ‘reverse\n",
      "discrimination’ suits health and wellness Don Emmert/AFP/Getty Images\n",
      "Why are synthetic opioids so dangerous? An ER doc explains RFK Jr. is\n",
      "investigating infant formula. Here’s what’s at stake California beats\n",
      "RFK Jr. in the race against ultraprocessed foods Your coffee habit\n",
      "could be linked to healthier aging, study finds Tech Dan Kitwood/Getty\n",
      "Images Google’s DeepMind CEO has two worries when it comes to AI.\n",
      "Losing jobs isn’t one of them Analysis The ‘white-collar bloodbath’ is\n",
      "all part of the AI hype machine This fragrance company is trying to\n",
      "recreate the scent of extinct blooms Photos You Should See Kayla\n",
      "Bartkowski/Getty Images The last week in photos • Gallery Gallery\n",
      "Moviestore/Shutterstock Gallery People we’ve lost in 2025 • Gallery\n",
      "Gallery Dendrinos/MOm Gallery Mediterranean monk seals: Back from the\n",
      "brink Greg du Toit ‘I’m amazed I lived to tell the tale’: Award-\n",
      "winning photographer on a life spent in the wild • Gallery Gallery\n",
      "Albert Salemgareyev/ACBK Gallery Saiga: Back from the brink • Gallery\n",
      "Gallery Ed Jones/AFP/Getty Images Gallery Przewalski’s horse: Back\n",
      "from the brink Ad Feedback In Case You Missed It Adam Pretty/Getty\n",
      "Images Iga Świątek records 25th straight French Open win with hard-\n",
      "fought comeback Trump irritated that his team didn’t tell him about\n",
      "‘TACO,’ sources say North Korea deploys mystery balloon-like objects\n",
      "to stricken warship, satellite photos show Rampaging raccoons add to\n",
      "Airbus factory headaches Loretta Swit, Emmy-winner who played Houlihan\n",
      "on pioneering TV series ‘M.A.S.H.,’ has died The Colorado River Basin\n",
      "has lost as much groundwater as the entire volume of Lake Mead Haribo\n",
      "recalls some products in Netherlands after cannabis found in candy FBI\n",
      "probes efforts to impersonate one of Trump’s most powerful advisers\n",
      "How Rotimi and Vanessa Mdee’s chance romance became a deep dive into\n",
      "faith and purpose Subscribe Sign in My Account Settings Newsletters\n",
      "Topics you follow Sign out Your CNN account Sign in to your CNN\n",
      "account Live TV Listen Watch World Africa Americas Asia Australia\n",
      "China Europe India Middle East United Kingdom US Politics Trump Facts\n",
      "First CNN Polls 2025 Elections Business Tech Media Calculators Videos\n",
      "Markets Pre-markets After-Hours Fear & Greed Investing Markets Now\n",
      "Nightcap Health Life, But Better Fitness Food Sleep Mindfulness\n",
      "Relationships Entertainment Movies Television Celebrity Tech Innovate\n",
      "Foreseeable Future Mission: Ahead Work Transformed Innovative Cities\n",
      "Style Arts Design Fashion Architecture Luxury Beauty Video Travel\n",
      "Destinations Food & Drink Stay News Videos Sports Football Tennis Golf\n",
      "Motorsport US Sports Olympics Climbing Esports Hockey Science Space\n",
      "Life Unearthed Climate Solutions Weather Weather Video Climate\n",
      "Ukraine-Russia War Israel-Hamas War Features As Equals Call to Earth\n",
      "Freedom Project Impact Your World Inside Africa CNN Heroes Watch Live\n",
      "TV CNN Fast Shows A-Z CNN10 CNN Max CNN TV Schedules Listen CNN 5\n",
      "Things Chasing Life with Dr. Sanjay Gupta The Assignment with Audie\n",
      "Cornish One Thing Tug of War CNN Political Briefing The Axe Files All\n",
      "There Is with Anderson Cooper All CNN Audio podcasts Games Daily\n",
      "Crossword Jumble Crossword Sudoblock Sudoku 5 Things Quiz About CNN\n",
      "Photos Investigations CNN Profiles CNN Leadership CNN Newsletters Work\n",
      "for CNN Watch Listen Live TV Follow CNN Subscribe Sign in My Account\n",
      "Settings Newsletters Topics you follow Sign out Your CNN account Sign\n",
      "in to your CNN account Terms of Use Privacy Policy Cookie Settings Ad\n",
      "Choices Accessibility & CC About Newsletters Transcripts © 2025 Cable\n",
      "News Network. A Warner Bros. Discovery Company. All Rights Reserved.\n",
      "CNN Sans ™ & © 2016 Cable News Network. Privacy Policy For privacy\n",
      "options, please see our privacy policy: https://www.cnn.com/privacy .\n",
      "Back Button Cookie List Search Icon Filter Icon Clear checkbox label\n",
      "label Apply Cancel Consent Leg.Interest checkbox label label checkbox\n",
      "label label checkbox label label Close\n"
     ]
    }
   ],
   "source": [
    "import textwrap\n",
    "print(textwrap.fill(text))"
   ]
  },
  {
   "cell_type": "code",
   "execution_count": 12,
   "metadata": {},
   "outputs": [],
   "source": [
    "all_tools = tools + [tool_push]"
   ]
  },
  {
   "cell_type": "code",
   "execution_count": 13,
   "metadata": {},
   "outputs": [],
   "source": [
    "\n",
    "llm = ChatOpenAI(model=\"gpt-4o-mini\")\n",
    "llm_with_tools = llm.bind_tools(all_tools)\n",
    "\n",
    "\n",
    "def chatbot(state: State):\n",
    "    return {\"messages\": [llm_with_tools.invoke(state[\"messages\"])]}\n"
   ]
  },
  {
   "cell_type": "code",
   "execution_count": 14,
   "metadata": {},
   "outputs": [
    {
     "data": {
      "image/png": "[encoded data removed]",
      "text/plain": [
       "<IPython.core.display.Image object>"
      ]
     },
     "metadata": {},
     "output_type": "display_data"
    }
   ],
   "source": [
    "\n",
    "graph_builder = StateGraph(State)\n",
    "graph_builder.add_node(\"chatbot\", chatbot)\n",
    "graph_builder.add_node(\"tools\", ToolNode(tools=all_tools))\n",
    "graph_builder.add_conditional_edges( \"chatbot\", tools_condition, \"tools\")\n",
    "graph_builder.add_edge(\"tools\", \"chatbot\")\n",
    "graph_builder.add_edge(START, \"chatbot\")\n",
    "\n",
    "memory = MemorySaver()\n",
    "graph = graph_builder.compile(checkpointer=memory)\n",
    "display(Image(graph.get_graph().draw_mermaid_png()))"
   ]
  },
  {
   "cell_type": "code",
   "execution_count": 15,
   "metadata": {},
   "outputs": [
    {
     "name": "stdout",
     "output_type": "stream",
     "text": [
      "* Running on local URL:  http://127.0.0.1:7860\n",
      "* To create a public link, set `share=True` in `launch()`.\n"
     ]
    },
    {
     "data": {
      "text/html": [
       "<div><iframe src=\"http://127.0.0.1:7860/\" width=\"100%\" height=\"500\" allow=\"autoplay; camera; microphone; clipboard-read; clipboard-write;\" frameborder=\"0\" allowfullscreen></iframe></div>"
      ],
      "text/plain": [
       "<IPython.core.display.HTML object>"
      ]
     },
     "metadata": {},
     "output_type": "display_data"
    },
    {
     "data": {
      "text/plain": []
     },
     "execution_count": 15,
     "metadata": {},
     "output_type": "execute_result"
    }
   ],
   "source": [
    "config = {\"configurable\": {\"thread_id\": \"10\"}}\n",
    "\n",
    "async def chat(user_input: str, history):\n",
    "    result = await graph.ainvoke({\"messages\": [{\"role\": \"user\", \"content\": user_input}]}, config=config)\n",
    "    return result[\"messages\"][-1].content\n",
    "\n",
    "\n",
    "gr.ChatInterface(chat, type=\"messages\").launch()"
   ]
  },
  {
   "cell_type": "code",
   "execution_count": null,
   "metadata": {},
   "outputs": [],
   "source": []
  }
 ],
 "metadata": {
  "kernelspec": {
   "display_name": ".venv",
   "language": "python",
   "name": "python3"
  },
  "language_info": {
   "codemirror_mode": {
    "name": "ipython",
    "version": 3
   },
   "file_extension": ".py",
   "mimetype": "text/x-python",
   "name": "python",
   "nbconvert_exporter": "python",
   "pygments_lexer": "ipython3",
   "version": "3.12.10"
  }
 },
 "nbformat": 4,
 "nbformat_minor": 2
}
