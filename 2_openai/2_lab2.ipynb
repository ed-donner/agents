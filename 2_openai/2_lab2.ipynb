{
 "cells": [
  {
   "cell_type": "markdown",
   "metadata": {},
   "source": [
    "## Week 2 Day 2\n",
    "\n",
    "Our first Agentic Framework project!!\n",
    "\n",
    "Prepare yourself for something ridiculously easy.\n",
    "\n",
    "We're going to build a simple Agent system for generating cold sales outreach emails:\n",
    "1. Agent workflow\n",
    "2. Use of tools to call functions\n",
    "3. Agent collaboration via Tools and Handoffs"
   ]
  },
  {
   "cell_type": "markdown",
   "metadata": {},
   "source": [
    "## Before we start - some setup:\n",
    "\n",
    "\n",
    "Please visit Sendgrid at: https://sendgrid.com/\n",
    "\n",
    "(Sendgrid is a Twilio company for sending emails.)\n",
    "\n",
    "If SendGrid gives you problems, see the alternative implementation using \"Resend Email\" in community_contributions/2_lab2_with_resend_email\n",
    "\n",
    "Please set up an account - it's free! (at least, for me, right now).\n",
    "\n",
    "Once you've created an account, click on:\n",
    "\n",
    "Settings (left sidebar) >> API Keys >> Create API Key (button on top right)\n",
    "\n",
    "Copy the key to the clipboard, then add a new line to your .env file:\n",
    "\n",
    "`SENDGRID_API_KEY=xxxx`\n",
    "\n",
    "And also, within SendGrid, go to:\n",
    "\n",
    "Settings (left sidebar) >> Sender Authentication >> \"Verify a Single Sender\"  \n",
    "and verify that your own email address is a real email address, so that SendGrid can send emails for you.\n"
   ]
  },
  {
   "cell_type": "code",
   "execution_count": 3,
   "metadata": {},
   "outputs": [],
   "source": [
    "from dotenv import load_dotenv\n",
    "from agents import Agent, Runner, trace, function_tool\n",
    "from openai.types.responses import ResponseTextDeltaEvent\n",
    "from typing import Dict\n",
    "import sendgrid\n",
    "import os\n",
    "from sendgrid.helpers.mail import Mail, Email, To, Content\n",
    "import asyncio\n",
    "\n"
   ]
  },
  {
   "cell_type": "code",
   "execution_count": 4,
   "metadata": {},
   "outputs": [
    {
     "data": {
      "text/plain": [
       "True"
      ]
     },
     "execution_count": 4,
     "metadata": {},
     "output_type": "execute_result"
    }
   ],
   "source": [
    "load_dotenv(override=True)"
   ]
  },
  {
   "cell_type": "code",
   "execution_count": null,
   "metadata": {},
   "outputs": [],
   "source": [
    "# Let's just check emails are working for you\n",
    "\n",
    "def send_test_email():\n",
    "    sg = sendgrid.SendGridAPIClient(api_key=os.environ.get('SENDGRID_API_KEY'))\n",
    "    from_email = Email(\"ed@edwarddonner.com\")  # Change to your verified sender\n",
    "    to_email = To(\"ed.donner@gmail.com\")  # Change to your recipient\n",
    "    content = Content(\"text/plain\", \"This is an important test email\")\n",
    "    mail = Mail(from_email, to_email, \"Test email\", content).get()\n",
    "    response = sg.client.mail.send.post(request_body=mail)\n",
    "    print(response.status_code)\n",
    "\n",
    "send_test_email()"
   ]
  },
  {
   "cell_type": "markdown",
   "metadata": {},
   "source": [
    "### Did you receive the test email\n",
    "\n",
    "If you get a 202, then you're good to go!\n",
    "\n",
    "If not, you'll need to check your API key and your verified sender email address in the SendGrid dashboard\n",
    "\n",
    "Or use the alternative implementation using \"Resend Email\" in community_contributions/2_lab2_with_resend_email\n",
    "\n",
    "(Or - you could always replace the email sending code below with something to simply write to a flat file)"
   ]
  },
  {
   "cell_type": "markdown",
   "metadata": {},
   "source": [
    "## Step 1: Agent workflow"
   ]
  },
  {
   "cell_type": "code",
   "execution_count": 5,
   "metadata": {},
   "outputs": [],
   "source": [
    "instructions1 = \"You are a sales agent working for ComplAI, \\\n",
    "a company that provides a SaaS tool for ensuring SOC2 compliance and preparing for audits, powered by AI. \\\n",
    "You write professional, serious cold emails.\"\n",
    "\n",
    "instructions2 = \"You are a humorous, engaging sales agent working for ComplAI, \\\n",
    "a company that provides a SaaS tool for ensuring SOC2 compliance and preparing for audits, powered by AI. \\\n",
    "You write witty, engaging cold emails that are likely to get a response.\"\n",
    "\n",
    "instructions3 = \"You are a busy sales agent working for ComplAI, \\\n",
    "a company that provides a SaaS tool for ensuring SOC2 compliance and preparing for audits, powered by AI. \\\n",
    "You write concise, to the point cold emails.\""
   ]
  },
  {
   "cell_type": "code",
   "execution_count": 6,
   "metadata": {},
   "outputs": [],
   "source": [
    "sales_agent1 = Agent(\n",
    "        name=\"Professional Sales Agent\",\n",
    "        instructions=instructions1,\n",
    "        model=\"gpt-4o-mini\"\n",
    ")\n",
    "\n",
    "sales_agent2 = Agent(\n",
    "        name=\"Engaging Sales Agent\",\n",
    "        instructions=instructions2,\n",
    "        model=\"gpt-4o-mini\"\n",
    ")\n",
    "\n",
    "sales_agent3 = Agent(\n",
    "        name=\"Busy Sales Agent\",\n",
    "        instructions=instructions3,\n",
    "        model=\"gpt-4o-mini\"\n",
    ")"
   ]
  },
  {
   "cell_type": "code",
   "execution_count": 7,
   "metadata": {},
   "outputs": [
    {
     "name": "stdout",
     "output_type": "stream",
     "text": [
      "Subject: Simplify Your SOC2 Compliance with ComplAI\n",
      "\n",
      "Dear [Recipient's Name],\n",
      "\n",
      "I hope this message finds you well.\n",
      "\n",
      "Navigating SOC2 compliance can be a complex and time-consuming process. At ComplAI, we specialize in streamlining this journey for companies like yours, ensuring a smoother path to compliance and readiness for audits.\n",
      "\n",
      "Our AI-powered SaaS tool automates documentation, identifies gaps in your current processes, and offers tailored insights to enhance your compliance efforts. By leveraging our platform, you can save valuable time and resources, allowing your team to focus on what they do best.\n",
      "\n",
      "I would welcome the opportunity to discuss how ComplAI can support [Recipient's Company] in achieving SOC2 compliance more efficiently. Would you be available for a brief call next week?\n",
      "\n",
      "Thank you for your time, and I look forward to the possibility of working together.\n",
      "\n",
      "Best regards,\n",
      "\n",
      "[Your Name]  \n",
      "[Your Job Title]  \n",
      "ComplAI  \n",
      "[Your Phone Number]  \n",
      "[Your LinkedIn Profile or Company Website]  "
     ]
    }
   ],
   "source": [
    "\n",
    "result = Runner.run_streamed(sales_agent1, input=\"Write a cold sales email\")\n",
    "async for event in result.stream_events():\n",
    "    if event.type == \"raw_response_event\" and isinstance(event.data, ResponseTextDeltaEvent):\n",
    "        print(event.data.delta, end=\"\", flush=True)"
   ]
  },
  {
   "cell_type": "code",
   "execution_count": 8,
   "metadata": {},
   "outputs": [
    {
     "name": "stdout",
     "output_type": "stream",
     "text": [
      "Subject: Simplify Your SOC 2 Compliance Process with ComplAI\n",
      "\n",
      "Hi [Recipient's Name],\n",
      "\n",
      "I hope this message finds you well. My name is [Your Name], and I’m with ComplAI, where we specialize in helping organizations streamline their SOC 2 compliance and audit preparation processes.\n",
      "\n",
      "Navigating the complexities of compliance can be daunting and time-consuming. Our AI-powered SaaS tool not only simplifies this journey but also enhances efficiency, allowing your team to focus on what matters most—your core business.\n",
      "\n",
      "With ComplAI, you can:\n",
      "\n",
      "- **Automate documentation** and reduce manual workload.\n",
      "- **Monitor compliance** in real-time to ensure you’re always audit-ready.\n",
      "- **Access tailored insights** to strengthen your security posture.\n",
      "\n",
      "Many of our clients have seen a significant reduction in the time spent preparing for audits, freeing up valuable resources. I would love the opportunity to discuss how we can support your compliance efforts.\n",
      "\n",
      "Are you available for a brief call next week? Please let me know what works for you, and I’ll do my best to accommodate.\n",
      "\n",
      "Thank you for considering ComplAI. I look forward to the possibility of working together to enhance your compliance strategy.\n",
      "\n",
      "Best regards,\n",
      "\n",
      "[Your Name]  \n",
      "[Your Position]  \n",
      "ComplAI  \n",
      "[Your Phone Number]  \n",
      "[Your Email]  \n",
      "[Website URL]  \n",
      "\n",
      "\n",
      "Subject: Let’s Make Compliance as Easy as Pie (or Cake—No Judgment Here!)\n",
      "\n",
      "Hi [First Name],\n",
      "\n",
      "I hope this email doesn’t end up in your spam folder, because I promise this isn’t another boring compliance pitch! 🚀\n",
      "\n",
      "Picture this: You’re lounging on a beach (with a mocktail in hand, of course) while our AI-powered tool takes the wheel, ensuring your SOC2 compliance is tighter than your grandma's secret cookie jar! 🍪✨ \n",
      "\n",
      "At ComplAI, we understand that preparing for audits can feel like climbing Everest—minus the fancy gear and breathtaking views. Our solution streamlines the process, turning what used to be a mountain of paperwork into a walk in the park (with a beautiful picnic, maybe).\n",
      "\n",
      "Want to find out how we can make compliance as stress-free as a Sunday morning? Let’s chat! I promise to keep the compliance jargon to a minimum. 😄\n",
      "\n",
      "Looking forward to hearing from you!\n",
      "\n",
      "Best,  \n",
      "[Your Name]  \n",
      "[Your Position]  \n",
      "ComplAI  \n",
      "[Your Phone Number]  \n",
      "[Your Website]  \n",
      "\n",
      "P.S. Did I mention our AI doesn’t need coffee breaks? Just saying! ☕️\n",
      "\n",
      "\n",
      "Subject: Simplify Your SOC 2 Compliance Process with AI\n",
      "\n",
      "Hi [Recipient's Name],\n",
      "\n",
      "I hope this message finds you well! I'm reaching out to introduce ComplAI, a powerful SaaS tool designed to streamline your SOC 2 compliance and audit preparations.\n",
      "\n",
      "Our AI-powered platform simplifies the compliance process, saving you time and reducing stress. With features that automate documentation and monitor regulations, you can focus on what you do best—running your business.\n",
      "\n",
      "Would you be open to a quick call to discuss how ComplAI can help your team achieve SOC 2 compliance more efficiently?\n",
      "\n",
      "Looking forward to your response!\n",
      "\n",
      "Best,  \n",
      "[Your Name]  \n",
      "[Your Position]  \n",
      "ComplAI  \n",
      "[Your Phone Number]  \n",
      "[Your LinkedIn Profile]  \n",
      "\n",
      "\n"
     ]
    }
   ],
   "source": [
    "message = \"Write a cold sales email\"\n",
    "\n",
    "with trace(\"Parallel cold emails\"):\n",
    "    results = await asyncio.gather(\n",
    "        Runner.run(sales_agent1, message),\n",
    "        Runner.run(sales_agent2, message),\n",
    "        Runner.run(sales_agent3, message),\n",
    "    )\n",
    "\n",
    "outputs = [result.final_output for result in results]\n",
    "\n",
    "for output in outputs:\n",
    "    print(output + \"\\n\\n\")\n"
   ]
  },
  {
   "cell_type": "code",
   "execution_count": 9,
   "metadata": {},
   "outputs": [],
   "source": [
    "sales_picker = Agent(\n",
    "    name=\"sales_picker\",\n",
    "    instructions=\"You pick the best cold sales email from the given options. \\\n",
    "Imagine you are a customer and pick the one you are most likely to respond to. \\\n",
    "Do not give an explanation; reply with the selected email only.\",\n",
    "    model=\"gpt-4o-mini\"\n",
    ")"
   ]
  },
  {
   "cell_type": "code",
   "execution_count": 10,
   "metadata": {},
   "outputs": [
    {
     "name": "stdout",
     "output_type": "stream",
     "text": [
      "Best sales email:\n",
      "Subject: Let’s Make Compliance Less Complicated (and More Fun!)\n",
      "\n",
      "Hey [Recipient's Name],\n",
      "\n",
      "I hope this email finds you knee-deep in coffee and not buried under a mountain of compliance documents! ☕️\n",
      "\n",
      "I know, I know—SOC2 compliance feels like trying to solve a Rubik’s Cube blindfolded. But what if I told you that with ComplAI, you can not only tackle compliance with ease but also have a little fun while doing it? (Yes, we just claimed compliance can be fun—challenge accepted!)\n",
      "\n",
      "Our AI-powered platform is like having a super-smart assistant that knows all the ins and outs of SOC2. It prepares you for audits faster than you can say “where’s my stapler?” and helps ensure you stay compliant without sending your team into a spiral of stress and confusion.\n",
      "\n",
      "Imagine breezing through your next audit, giving the auditors a smile instead of a sigh. Sounds dreamy, right? 😴🌈\n",
      "\n",
      "Let’s schedule a quick chat! I promise to keep it short, sweet, and maybe even mildly entertaining. We can explore how ComplAI can transform your compliance journey from “yikes!” to “nailed it!”\n",
      "\n",
      "Looking forward to hearing from you (or at least cracking a smile) soon!\n",
      "\n",
      "Best,  \n",
      "[Your Name]  \n",
      "[Your Job Title]  \n",
      "ComplAI  \n",
      "[Your Phone Number]  \n",
      "[Your Website]  \n",
      "\n",
      "P.S. No need to bring your Rubik’s Cube; we’ll solve this compliance puzzle together! 🎉\n"
     ]
    }
   ],
   "source": [
    "message = \"Write a cold sales email\"\n",
    "\n",
    "with trace(\"Selection from sales people\"):\n",
    "    results = await asyncio.gather(\n",
    "        Runner.run(sales_agent1, message),\n",
    "        Runner.run(sales_agent2, message),\n",
    "        Runner.run(sales_agent3, message),\n",
    "    )\n",
    "    outputs = [result.final_output for result in results]\n",
    "\n",
    "    emails = \"Cold sales emails:\\n\\n\".join(outputs)\n",
    "\n",
    "    best = await Runner.run(sales_picker, emails)\n",
    "\n",
    "    print(f\"Best sales email:\\n{best.final_output}\")\n"
   ]
  },
  {
   "cell_type": "markdown",
   "metadata": {},
   "source": [
    "Now go and check out the trace:\n",
    "\n",
    "https://platform.openai.com/traces"
   ]
  },
  {
   "cell_type": "markdown",
   "metadata": {},
   "source": [
    "## Part 2: use of tools\n",
    "\n",
    "Now we will add a tool to the mix.\n",
    "\n",
    "Remember all that json boilerplate and the `handle_tool_calls()` function with the if logic.."
   ]
  },
  {
   "cell_type": "code",
   "execution_count": 11,
   "metadata": {},
   "outputs": [],
   "source": [
    "sales_agent1 = Agent(\n",
    "        name=\"Professional Sales Agent\",\n",
    "        instructions=instructions1,\n",
    "        model=\"gpt-4o-mini\",\n",
    ")\n",
    "\n",
    "sales_agent2 = Agent(\n",
    "        name=\"Engaging Sales Agent\",\n",
    "        instructions=instructions2,\n",
    "        model=\"gpt-4o-mini\",\n",
    ")\n",
    "\n",
    "sales_agent3 = Agent(\n",
    "        name=\"Busy Sales Agent\",\n",
    "        instructions=instructions3,\n",
    "        model=\"gpt-4o-mini\",\n",
    ")"
   ]
  },
  {
   "cell_type": "code",
   "execution_count": 12,
   "metadata": {},
   "outputs": [
    {
     "data": {
      "text/plain": [
       "Agent(name='Professional Sales Agent', instructions='You are a sales agent working for ComplAI, a company that provides a SaaS tool for ensuring SOC2 compliance and preparing for audits, powered by AI. You write professional, serious cold emails.', handoff_description=None, handoffs=[], model='gpt-4o-mini', model_settings=ModelSettings(temperature=None, top_p=None, frequency_penalty=None, presence_penalty=None, tool_choice=None, parallel_tool_calls=None, truncation=None, max_tokens=None, reasoning=None, metadata=None, store=None, include_usage=None, extra_query=None, extra_body=None, extra_headers=None), tools=[], mcp_servers=[], mcp_config={}, input_guardrails=[], output_guardrails=[], output_type=None, hooks=None, tool_use_behavior='run_llm_again', reset_tool_choice=True)"
      ]
     },
     "execution_count": 12,
     "metadata": {},
     "output_type": "execute_result"
    }
   ],
   "source": [
    "sales_agent1"
   ]
  },
  {
   "cell_type": "markdown",
   "metadata": {},
   "source": [
    "## Steps 2 and 3: Tools and Agent interactions\n",
    "\n",
    "Remember all that boilerplate json?\n",
    "\n",
    "Simply wrap your function with the decorator `@function_tool`"
   ]
  },
  {
   "cell_type": "code",
   "execution_count": 13,
   "metadata": {},
   "outputs": [],
   "source": [
    "@function_tool\n",
    "def send_email(body: str):\n",
    "    \"\"\" Send out an email with the given body to all sales prospects \"\"\"\n",
    "    sg = sendgrid.SendGridAPIClient(api_key=os.environ.get('SENDGRID_API_KEY'))\n",
    "    from_email = Email(\"bb@basicsofthebible.org\")  # Change to your verified sender\n",
    "    to_email = To(\"drhandran@gmail.com\")  # Change to your recipient\n",
    "    content = Content(\"text/plain\", body)\n",
    "    mail = Mail(from_email, to_email, \"Sales email\", content).get()\n",
    "    sg.client.mail.send.post(request_body=mail)\n",
    "    return {\"status\": \"success\"}"
   ]
  },
  {
   "cell_type": "markdown",
   "metadata": {},
   "source": [
    "### This has automatically been converted into a tool, with the boilerplate json created"
   ]
  },
  {
   "cell_type": "code",
   "execution_count": 14,
   "metadata": {},
   "outputs": [
    {
     "data": {
      "text/plain": [
       "FunctionTool(name='send_email', description='Send out an email with the given body to all sales prospects', params_json_schema={'properties': {'body': {'title': 'Body', 'type': 'string'}}, 'required': ['body'], 'title': 'send_email_args', 'type': 'object', 'additionalProperties': False}, on_invoke_tool=<function function_tool.<locals>._create_function_tool.<locals>._on_invoke_tool at 0x000001BCB16A1620>, strict_json_schema=True)"
      ]
     },
     "execution_count": 14,
     "metadata": {},
     "output_type": "execute_result"
    }
   ],
   "source": [
    "# Let's look at it\n",
    "send_email"
   ]
  },
  {
   "cell_type": "markdown",
   "metadata": {},
   "source": [
    "### And you can also convert an Agent into a tool"
   ]
  },
  {
   "cell_type": "code",
   "execution_count": 14,
   "metadata": {},
   "outputs": [
    {
     "data": {
      "text/plain": [
       "FunctionTool(name='sales_agent1', description='Write a cold sales email', params_json_schema={'properties': {'input': {'title': 'Input', 'type': 'string'}}, 'required': ['input'], 'title': 'sales_agent1_args', 'type': 'object', 'additionalProperties': False}, on_invoke_tool=<function function_tool.<locals>._create_function_tool.<locals>._on_invoke_tool at 0x00000261590DFCE0>, strict_json_schema=True)"
      ]
     },
     "execution_count": 14,
     "metadata": {},
     "output_type": "execute_result"
    }
   ],
   "source": [
    "tool1 = sales_agent1.as_tool(tool_name=\"sales_agent1\", tool_description=\"Write a cold sales email\")\n",
    "tool1"
   ]
  },
  {
   "cell_type": "markdown",
   "metadata": {},
   "source": [
    "### So now we can gather all the tools together:\n",
    "\n",
    "A tool for each of our 3 email-writing agents\n",
    "\n",
    "And a tool for our function to send emails"
   ]
  },
  {
   "cell_type": "code",
   "execution_count": 15,
   "metadata": {},
   "outputs": [
    {
     "data": {
      "text/plain": [
       "[FunctionTool(name='sales_agent1', description='Write a cold sales email', params_json_schema={'properties': {'input': {'title': 'Input', 'type': 'string'}}, 'required': ['input'], 'title': 'sales_agent1_args', 'type': 'object', 'additionalProperties': False}, on_invoke_tool=<function function_tool.<locals>._create_function_tool.<locals>._on_invoke_tool at 0x0000026157C8B1A0>, strict_json_schema=True),\n",
       " FunctionTool(name='sales_agent2', description='Write a cold sales email', params_json_schema={'properties': {'input': {'title': 'Input', 'type': 'string'}}, 'required': ['input'], 'title': 'sales_agent2_args', 'type': 'object', 'additionalProperties': False}, on_invoke_tool=<function function_tool.<locals>._create_function_tool.<locals>._on_invoke_tool at 0x000002615BF0CE00>, strict_json_schema=True),\n",
       " FunctionTool(name='sales_agent3', description='Write a cold sales email', params_json_schema={'properties': {'input': {'title': 'Input', 'type': 'string'}}, 'required': ['input'], 'title': 'sales_agent3_args', 'type': 'object', 'additionalProperties': False}, on_invoke_tool=<function function_tool.<locals>._create_function_tool.<locals>._on_invoke_tool at 0x000002615BDB0220>, strict_json_schema=True),\n",
       " FunctionTool(name='send_email', description='Send out an email with the given body to all sales prospects', params_json_schema={'properties': {'body': {'title': 'Body', 'type': 'string'}}, 'required': ['body'], 'title': 'send_email_args', 'type': 'object', 'additionalProperties': False}, on_invoke_tool=<function function_tool.<locals>._create_function_tool.<locals>._on_invoke_tool at 0x000002615A62BD80>, strict_json_schema=True)]"
      ]
     },
     "execution_count": 15,
     "metadata": {},
     "output_type": "execute_result"
    }
   ],
   "source": [
    "description = \"Write a cold sales email\"\n",
    "\n",
    "tool1 = sales_agent1.as_tool(tool_name=\"sales_agent1\", tool_description=description)\n",
    "tool2 = sales_agent2.as_tool(tool_name=\"sales_agent2\", tool_description=description)\n",
    "tool3 = sales_agent3.as_tool(tool_name=\"sales_agent3\", tool_description=description)\n",
    "\n",
    "tools = [tool1, tool2, tool3, send_email]\n",
    "\n",
    "tools"
   ]
  },
  {
   "cell_type": "markdown",
   "metadata": {},
   "source": [
    "## And now it's time for our Sales Manager - our planning agent"
   ]
  },
  {
   "cell_type": "code",
   "execution_count": 16,
   "metadata": {},
   "outputs": [],
   "source": [
    "instructions =\"You are a sales manager working for ComplAI. You use the tools given to you to generate cold sales emails. \\\n",
    "You never generate sales emails yourself; you always use the tools. \\\n",
    "You try all 3 sales_agent tools once before choosing the best one. \\\n",
    "You pick the single best email and use the send_email tool to send the best email (and only the best email) to the user.\"\n",
    "\n",
    "\n",
    "sales_manager = Agent(name=\"Sales Manager\", instructions=instructions, tools=tools, model=\"gpt-4o-mini\")\n",
    "\n",
    "message = \"Send a cold sales email addressed to 'Dear CEO'\"\n",
    "\n",
    "with trace(\"Sales manager\"):\n",
    "    result = await Runner.run(sales_manager, message)"
   ]
  },
  {
   "cell_type": "code",
   "execution_count": 17,
   "metadata": {},
   "outputs": [
    {
     "name": "stdout",
     "output_type": "stream",
     "text": [
      "[RunResult(input='Write a cold sales email', new_items=[MessageOutputItem(agent=Agent(name='Professional Sales Agent', instructions='You are a sales agent working for ComplAI, a company that provides a SaaS tool for ensuring SOC2 compliance and preparing for audits, powered by AI. You write professional, serious cold emails.', handoff_description=None, handoffs=[], model='gpt-4o-mini', model_settings=ModelSettings(temperature=None, top_p=None, frequency_penalty=None, presence_penalty=None, tool_choice=None, parallel_tool_calls=None, truncation=None, max_tokens=None, reasoning=None, metadata=None, store=None, include_usage=None, extra_query=None, extra_body=None, extra_headers=None), tools=[], mcp_servers=[], mcp_config={}, input_guardrails=[], output_guardrails=[], output_type=None, hooks=None, tool_use_behavior='run_llm_again', reset_tool_choice=True), raw_item=ResponseOutputMessage(id='msg_685060b5130c8191986f50e25c71af3c04204f6d96ab67f4', content=[ResponseOutputText(annotations=[], text=\"Subject: Streamline Your SOC 2 Compliance with AI-Powered Solutions\\n\\nHi [Recipient's Name],\\n\\nI hope this message finds you well. I’m reaching out to introduce you to ComplAI, a comprehensive SaaS tool designed to simplify SOC 2 compliance and streamline your audit preparations.\\n\\nWith the growing emphasis on data security and regulatory adherence, ensuring your organization meets SOC 2 standards can be both challenging and resource-intensive. ComplAI leverages cutting-edge AI technology to automate many compliance processes, helping you not only save time but also reduce the risks associated with manual oversight.\\n\\nKey benefits of our platform include:\\n\\n- **Automation of Compliance Tasks**: Significantly decrease the manual effort required for audits.\\n- **Real-time Monitoring**: Stay ahead of compliance requirements with continuous updates and alerts.\\n- **User-Friendly Dashboard**: Easily track your compliance status and manage documentation.\\n\\nI’d love to set up a brief call to discuss how ComplAI can support your compliance efforts and help you navigate the complexities of SOC 2 with confidence.\\n\\nWould you be available for a chat this week?\\n\\nBest regards,\\n\\n[Your Name]  \\n[Your Position]  \\nComplAI  \\n[Your Phone Number]  \\n[Your LinkedIn Profile]  \", type='output_text')], role='assistant', status='completed', type='message'), type='message_output_item')], raw_responses=[ModelResponse(output=[ResponseOutputMessage(id='msg_685060b5130c8191986f50e25c71af3c04204f6d96ab67f4', content=[ResponseOutputText(annotations=[], text=\"Subject: Streamline Your SOC 2 Compliance with AI-Powered Solutions\\n\\nHi [Recipient's Name],\\n\\nI hope this message finds you well. I’m reaching out to introduce you to ComplAI, a comprehensive SaaS tool designed to simplify SOC 2 compliance and streamline your audit preparations.\\n\\nWith the growing emphasis on data security and regulatory adherence, ensuring your organization meets SOC 2 standards can be both challenging and resource-intensive. ComplAI leverages cutting-edge AI technology to automate many compliance processes, helping you not only save time but also reduce the risks associated with manual oversight.\\n\\nKey benefits of our platform include:\\n\\n- **Automation of Compliance Tasks**: Significantly decrease the manual effort required for audits.\\n- **Real-time Monitoring**: Stay ahead of compliance requirements with continuous updates and alerts.\\n- **User-Friendly Dashboard**: Easily track your compliance status and manage documentation.\\n\\nI’d love to set up a brief call to discuss how ComplAI can support your compliance efforts and help you navigate the complexities of SOC 2 with confidence.\\n\\nWould you be available for a chat this week?\\n\\nBest regards,\\n\\n[Your Name]  \\n[Your Position]  \\nComplAI  \\n[Your Phone Number]  \\n[Your LinkedIn Profile]  \", type='output_text')], role='assistant', status='completed', type='message')], usage=Usage(requests=1, input_tokens=56, input_tokens_details=InputTokensDetails(cached_tokens=0), output_tokens=247, output_tokens_details=OutputTokensDetails(reasoning_tokens=0), total_tokens=303), response_id='resp_685060b4e3788191ba029c2b5c04813104204f6d96ab67f4')], final_output=\"Subject: Streamline Your SOC 2 Compliance with AI-Powered Solutions\\n\\nHi [Recipient's Name],\\n\\nI hope this message finds you well. I’m reaching out to introduce you to ComplAI, a comprehensive SaaS tool designed to simplify SOC 2 compliance and streamline your audit preparations.\\n\\nWith the growing emphasis on data security and regulatory adherence, ensuring your organization meets SOC 2 standards can be both challenging and resource-intensive. ComplAI leverages cutting-edge AI technology to automate many compliance processes, helping you not only save time but also reduce the risks associated with manual oversight.\\n\\nKey benefits of our platform include:\\n\\n- **Automation of Compliance Tasks**: Significantly decrease the manual effort required for audits.\\n- **Real-time Monitoring**: Stay ahead of compliance requirements with continuous updates and alerts.\\n- **User-Friendly Dashboard**: Easily track your compliance status and manage documentation.\\n\\nI’d love to set up a brief call to discuss how ComplAI can support your compliance efforts and help you navigate the complexities of SOC 2 with confidence.\\n\\nWould you be available for a chat this week?\\n\\nBest regards,\\n\\n[Your Name]  \\n[Your Position]  \\nComplAI  \\n[Your Phone Number]  \\n[Your LinkedIn Profile]  \", input_guardrail_results=[], output_guardrail_results=[], context_wrapper=RunContextWrapper(context=None, usage=Usage(requests=1, input_tokens=56, input_tokens_details=InputTokensDetails(cached_tokens=0), output_tokens=247, output_tokens_details=OutputTokensDetails(reasoning_tokens=0), total_tokens=303)), _last_agent=Agent(name='Professional Sales Agent', instructions='You are a sales agent working for ComplAI, a company that provides a SaaS tool for ensuring SOC2 compliance and preparing for audits, powered by AI. You write professional, serious cold emails.', handoff_description=None, handoffs=[], model='gpt-4o-mini', model_settings=ModelSettings(temperature=None, top_p=None, frequency_penalty=None, presence_penalty=None, tool_choice=None, parallel_tool_calls=None, truncation=None, max_tokens=None, reasoning=None, metadata=None, store=None, include_usage=None, extra_query=None, extra_body=None, extra_headers=None), tools=[], mcp_servers=[], mcp_config={}, input_guardrails=[], output_guardrails=[], output_type=None, hooks=None, tool_use_behavior='run_llm_again', reset_tool_choice=True)), RunResult(input='Write a cold sales email', new_items=[MessageOutputItem(agent=Agent(name='Engaging Sales Agent', instructions='You are a humorous, engaging sales agent working for ComplAI, a company that provides a SaaS tool for ensuring SOC2 compliance and preparing for audits, powered by AI. You write witty, engaging cold emails that are likely to get a response.', handoff_description=None, handoffs=[], model='gpt-4o-mini', model_settings=ModelSettings(temperature=None, top_p=None, frequency_penalty=None, presence_penalty=None, tool_choice=None, parallel_tool_calls=None, truncation=None, max_tokens=None, reasoning=None, metadata=None, store=None, include_usage=None, extra_query=None, extra_body=None, extra_headers=None), tools=[], mcp_servers=[], mcp_config={}, input_guardrails=[], output_guardrails=[], output_type=None, hooks=None, tool_use_behavior='run_llm_again', reset_tool_choice=True), raw_item=ResponseOutputMessage(id='msg_685060b53f0481a282ad7aa8d0d1e7b60c8a45afb1b66964', content=[ResponseOutputText(annotations=[], text=\"Subject: Let’s Make Compliance Less Complicated (and More Fun!)\\n\\nHey [Recipient's Name],\\n\\nI hope this email finds you knee-deep in coffee and not buried under a mountain of compliance documents! ☕️\\n\\nI know, I know—SOC2 compliance feels like trying to solve a Rubik’s Cube blindfolded. But what if I told you that with ComplAI, you can not only tackle compliance with ease but also have a little fun while doing it? (Yes, we just claimed compliance can be fun—challenge accepted!)\\n\\nOur AI-powered platform is like having a super-smart assistant that knows all the ins and outs of SOC2. It prepares you for audits faster than you can say “where’s my stapler?” and helps ensure you stay compliant without sending your team into a spiral of stress and confusion.\\n\\nImagine breezing through your next audit, giving the auditors a smile instead of a sigh. Sounds dreamy, right? 😴🌈\\n\\nLet’s schedule a quick chat! I promise to keep it short, sweet, and maybe even mildly entertaining. We can explore how ComplAI can transform your compliance journey from “yikes!” to “nailed it!”\\n\\nLooking forward to hearing from you (or at least cracking a smile) soon!\\n\\nBest,  \\n[Your Name]  \\n[Your Job Title]  \\nComplAI  \\n[Your Phone Number]  \\n[Your Website]  \\n\\nP.S. No need to bring your Rubik’s Cube; we’ll solve this compliance puzzle together! 🎉\", type='output_text')], role='assistant', status='completed', type='message'), type='message_output_item')], raw_responses=[ModelResponse(output=[ResponseOutputMessage(id='msg_685060b53f0481a282ad7aa8d0d1e7b60c8a45afb1b66964', content=[ResponseOutputText(annotations=[], text=\"Subject: Let’s Make Compliance Less Complicated (and More Fun!)\\n\\nHey [Recipient's Name],\\n\\nI hope this email finds you knee-deep in coffee and not buried under a mountain of compliance documents! ☕️\\n\\nI know, I know—SOC2 compliance feels like trying to solve a Rubik’s Cube blindfolded. But what if I told you that with ComplAI, you can not only tackle compliance with ease but also have a little fun while doing it? (Yes, we just claimed compliance can be fun—challenge accepted!)\\n\\nOur AI-powered platform is like having a super-smart assistant that knows all the ins and outs of SOC2. It prepares you for audits faster than you can say “where’s my stapler?” and helps ensure you stay compliant without sending your team into a spiral of stress and confusion.\\n\\nImagine breezing through your next audit, giving the auditors a smile instead of a sigh. Sounds dreamy, right? 😴🌈\\n\\nLet’s schedule a quick chat! I promise to keep it short, sweet, and maybe even mildly entertaining. We can explore how ComplAI can transform your compliance journey from “yikes!” to “nailed it!”\\n\\nLooking forward to hearing from you (or at least cracking a smile) soon!\\n\\nBest,  \\n[Your Name]  \\n[Your Job Title]  \\nComplAI  \\n[Your Phone Number]  \\n[Your Website]  \\n\\nP.S. No need to bring your Rubik’s Cube; we’ll solve this compliance puzzle together! 🎉\", type='output_text')], role='assistant', status='completed', type='message')], usage=Usage(requests=1, input_tokens=66, input_tokens_details=InputTokensDetails(cached_tokens=0), output_tokens=308, output_tokens_details=OutputTokensDetails(reasoning_tokens=0), total_tokens=374), response_id='resp_685060b4e2e881a2967a88e3502272db0c8a45afb1b66964')], final_output=\"Subject: Let’s Make Compliance Less Complicated (and More Fun!)\\n\\nHey [Recipient's Name],\\n\\nI hope this email finds you knee-deep in coffee and not buried under a mountain of compliance documents! ☕️\\n\\nI know, I know—SOC2 compliance feels like trying to solve a Rubik’s Cube blindfolded. But what if I told you that with ComplAI, you can not only tackle compliance with ease but also have a little fun while doing it? (Yes, we just claimed compliance can be fun—challenge accepted!)\\n\\nOur AI-powered platform is like having a super-smart assistant that knows all the ins and outs of SOC2. It prepares you for audits faster than you can say “where’s my stapler?” and helps ensure you stay compliant without sending your team into a spiral of stress and confusion.\\n\\nImagine breezing through your next audit, giving the auditors a smile instead of a sigh. Sounds dreamy, right? 😴🌈\\n\\nLet’s schedule a quick chat! I promise to keep it short, sweet, and maybe even mildly entertaining. We can explore how ComplAI can transform your compliance journey from “yikes!” to “nailed it!”\\n\\nLooking forward to hearing from you (or at least cracking a smile) soon!\\n\\nBest,  \\n[Your Name]  \\n[Your Job Title]  \\nComplAI  \\n[Your Phone Number]  \\n[Your Website]  \\n\\nP.S. No need to bring your Rubik’s Cube; we’ll solve this compliance puzzle together! 🎉\", input_guardrail_results=[], output_guardrail_results=[], context_wrapper=RunContextWrapper(context=None, usage=Usage(requests=1, input_tokens=66, input_tokens_details=InputTokensDetails(cached_tokens=0), output_tokens=308, output_tokens_details=OutputTokensDetails(reasoning_tokens=0), total_tokens=374)), _last_agent=Agent(name='Engaging Sales Agent', instructions='You are a humorous, engaging sales agent working for ComplAI, a company that provides a SaaS tool for ensuring SOC2 compliance and preparing for audits, powered by AI. You write witty, engaging cold emails that are likely to get a response.', handoff_description=None, handoffs=[], model='gpt-4o-mini', model_settings=ModelSettings(temperature=None, top_p=None, frequency_penalty=None, presence_penalty=None, tool_choice=None, parallel_tool_calls=None, truncation=None, max_tokens=None, reasoning=None, metadata=None, store=None, include_usage=None, extra_query=None, extra_body=None, extra_headers=None), tools=[], mcp_servers=[], mcp_config={}, input_guardrails=[], output_guardrails=[], output_type=None, hooks=None, tool_use_behavior='run_llm_again', reset_tool_choice=True)), RunResult(input='Write a cold sales email', new_items=[MessageOutputItem(agent=Agent(name='Busy Sales Agent', instructions='You are a busy sales agent working for ComplAI, a company that provides a SaaS tool for ensuring SOC2 compliance and preparing for audits, powered by AI. You write concise, to the point cold emails.', handoff_description=None, handoffs=[], model='gpt-4o-mini', model_settings=ModelSettings(temperature=None, top_p=None, frequency_penalty=None, presence_penalty=None, tool_choice=None, parallel_tool_calls=None, truncation=None, max_tokens=None, reasoning=None, metadata=None, store=None, include_usage=None, extra_query=None, extra_body=None, extra_headers=None), tools=[], mcp_servers=[], mcp_config={}, input_guardrails=[], output_guardrails=[], output_type=None, hooks=None, tool_use_behavior='run_llm_again', reset_tool_choice=True), raw_item=ResponseOutputMessage(id='msg_685060b65f4c819cbd2590b682e0169f09f379487ca620d9', content=[ResponseOutputText(annotations=[], text=\"Subject: Simplify Your SOC 2 Compliance Process\\n\\nHi [Recipient's Name],\\n\\nI hope this message finds you well. Managing SOC 2 compliance can be complex and time-consuming. At ComplAI, we offer a streamlined SaaS tool that automates the compliance process and prepares your team for audits with ease.\\n\\nOur AI-driven platform not only saves time but also reduces the risk of errors, ensuring you remain compliant and audit-ready. Companies like [Example Client] have already seen significant improvements.\\n\\nI’d love to share how we can help you simplify your compliance journey. Are you available for a quick call this week?\\n\\nBest,  \\n[Your Name]  \\n[Your Title]  \\nComplAI  \\n[Your Phone Number]  \\n[Your LinkedIn Profile]  \", type='output_text')], role='assistant', status='completed', type='message'), type='message_output_item')], raw_responses=[ModelResponse(output=[ResponseOutputMessage(id='msg_685060b65f4c819cbd2590b682e0169f09f379487ca620d9', content=[ResponseOutputText(annotations=[], text=\"Subject: Simplify Your SOC 2 Compliance Process\\n\\nHi [Recipient's Name],\\n\\nI hope this message finds you well. Managing SOC 2 compliance can be complex and time-consuming. At ComplAI, we offer a streamlined SaaS tool that automates the compliance process and prepares your team for audits with ease.\\n\\nOur AI-driven platform not only saves time but also reduces the risk of errors, ensuring you remain compliant and audit-ready. Companies like [Example Client] have already seen significant improvements.\\n\\nI’d love to share how we can help you simplify your compliance journey. Are you available for a quick call this week?\\n\\nBest,  \\n[Your Name]  \\n[Your Title]  \\nComplAI  \\n[Your Phone Number]  \\n[Your LinkedIn Profile]  \", type='output_text')], role='assistant', status='completed', type='message')], usage=Usage(requests=1, input_tokens=59, input_tokens_details=InputTokensDetails(cached_tokens=0), output_tokens=154, output_tokens_details=OutputTokensDetails(reasoning_tokens=0), total_tokens=213), response_id='resp_685060b5f10c819cbc7a68b41a25755e09f379487ca620d9')], final_output=\"Subject: Simplify Your SOC 2 Compliance Process\\n\\nHi [Recipient's Name],\\n\\nI hope this message finds you well. Managing SOC 2 compliance can be complex and time-consuming. At ComplAI, we offer a streamlined SaaS tool that automates the compliance process and prepares your team for audits with ease.\\n\\nOur AI-driven platform not only saves time but also reduces the risk of errors, ensuring you remain compliant and audit-ready. Companies like [Example Client] have already seen significant improvements.\\n\\nI’d love to share how we can help you simplify your compliance journey. Are you available for a quick call this week?\\n\\nBest,  \\n[Your Name]  \\n[Your Title]  \\nComplAI  \\n[Your Phone Number]  \\n[Your LinkedIn Profile]  \", input_guardrail_results=[], output_guardrail_results=[], context_wrapper=RunContextWrapper(context=None, usage=Usage(requests=1, input_tokens=59, input_tokens_details=InputTokensDetails(cached_tokens=0), output_tokens=154, output_tokens_details=OutputTokensDetails(reasoning_tokens=0), total_tokens=213)), _last_agent=Agent(name='Busy Sales Agent', instructions='You are a busy sales agent working for ComplAI, a company that provides a SaaS tool for ensuring SOC2 compliance and preparing for audits, powered by AI. You write concise, to the point cold emails.', handoff_description=None, handoffs=[], model='gpt-4o-mini', model_settings=ModelSettings(temperature=None, top_p=None, frequency_penalty=None, presence_penalty=None, tool_choice=None, parallel_tool_calls=None, truncation=None, max_tokens=None, reasoning=None, metadata=None, store=None, include_usage=None, extra_query=None, extra_body=None, extra_headers=None), tools=[], mcp_servers=[], mcp_config={}, input_guardrails=[], output_guardrails=[], output_type=None, hooks=None, tool_use_behavior='run_llm_again', reset_tool_choice=True))]\n"
     ]
    }
   ],
   "source": [
    "print(results)"
   ]
  },
  {
   "cell_type": "markdown",
   "metadata": {},
   "source": [
    "<table style=\"margin: 0; text-align: left; width:100%\">\n",
    "    <tr>\n",
    "        <td style=\"width: 150px; height: 150px; vertical-align: middle;\">\n",
    "            <img src=\"../assets/stop.png\" width=\"150\" height=\"150\" style=\"display: block;\" />\n",
    "        </td>\n",
    "        <td>\n",
    "            <h2 style=\"color:#ff7800;\">Wait - you didn't get an email??</h2>\n",
    "            <span style=\"color:#ff7800;\">With much thanks to student Chris S. for describing his issue and fixes. \n",
    "            If you don't receive an email after running the prior cell, here are some things to check: <br/>\n",
    "            First, check your Spam folder! Several students have missed that the emails arrived in Spam!<br/>Second, print(result) and see if you are receiving errors about SSL. \n",
    "            If you're receiving SSL errors, then please check out theses <a href=\"https://chatgpt.com/share/680620ec-3b30-8012-8c26-ca86693d0e3d\">networking tips</a> and see the note in the next cell. Also look at the trace in OpenAI, and investigate on the SendGrid website, to hunt for clues. Let me know if I can help!\n",
    "            </span>\n",
    "        </td>\n",
    "    </tr>\n",
    "</table>"
   ]
  },
  {
   "cell_type": "markdown",
   "metadata": {},
   "source": [
    "### And one more suggestion to send emails from student Oleksandr on Windows 11:\n",
    "\n",
    "If you are getting certificate SSL errors, then:  \n",
    "Run this in a terminal: `uv pip install --upgrade certifi`\n",
    "\n",
    "Then run this code:\n",
    "```python\n",
    "import certifi\n",
    "import os\n",
    "os.environ['SSL_CERT_FILE'] = certifi.where()\n",
    "```\n",
    "\n",
    "Thank you Oleksandr!"
   ]
  },
  {
   "cell_type": "markdown",
   "metadata": {},
   "source": [
    "## Remember to check the trace\n",
    "\n",
    "https://platform.openai.com/traces\n",
    "\n",
    "And then check your email!!\n"
   ]
  },
  {
   "cell_type": "markdown",
   "metadata": {},
   "source": [
    "### Handoffs represent a way an agent can delegate to an agent, passing control to it\n",
    "\n",
    "Handoffs and Agents-as-tools are similar:\n",
    "\n",
    "In both cases, an Agent can collaborate with another Agent\n",
    "\n",
    "With tools, control passes back\n",
    "\n",
    "With handoffs, control passes across\n",
    "\n"
   ]
  },
  {
   "cell_type": "code",
   "execution_count": 18,
   "metadata": {},
   "outputs": [],
   "source": [
    "\n",
    "subject_instructions = \"You can write a subject for a cold sales email. \\\n",
    "You are given a message and you need to write a subject for an email that is likely to get a response.\"\n",
    "\n",
    "html_instructions = \"You can convert a text email body to an HTML email body. \\\n",
    "You are given a text email body which might have some markdown \\\n",
    "and you need to convert it to an HTML email body with simple, clear, compelling layout and design.\"\n",
    "\n",
    "subject_writer = Agent(name=\"Email subject writer\", instructions=subject_instructions, model=\"gpt-4o-mini\")\n",
    "subject_tool = subject_writer.as_tool(tool_name=\"subject_writer\", tool_description=\"Write a subject for a cold sales email\")\n",
    "\n",
    "html_converter = Agent(name=\"HTML email body converter\", instructions=html_instructions, model=\"gpt-4o-mini\")\n",
    "html_tool = html_converter.as_tool(tool_name=\"html_converter\",tool_description=\"Convert a text email body to an HTML email body\")\n"
   ]
  },
  {
   "cell_type": "code",
   "execution_count": 26,
   "metadata": {},
   "outputs": [],
   "source": [
    "@function_tool\n",
    "def send_html_email(subject: str, html_body: str) -> Dict[str, str]:\n",
    "    \"\"\" Send out an email with the given subject and HTML body to all sales prospects \"\"\"\n",
    "    sg = sendgrid.SendGridAPIClient(api_key=os.environ.get('SENDGRID_API_KEY'))\n",
    "    from_email = Email(\"bb@basicsofthebible.org\")  # Change to your verified sender\n",
    "    to_email = To(\"drhandran@gmail.com\")  # Change to your recipient\n",
    "    content = Content(\"text/html\", html_body)\n",
    "    mail = Mail(from_email, to_email, subject, content).get()\n",
    "    sg.client.mail.send.post(request_body=mail)\n",
    "    return {\"status\": \"success\"}"
   ]
  },
  {
   "cell_type": "code",
   "execution_count": 27,
   "metadata": {},
   "outputs": [],
   "source": [
    "tools = [subject_tool, html_tool, send_html_email]"
   ]
  },
  {
   "cell_type": "code",
   "execution_count": 28,
   "metadata": {},
   "outputs": [
    {
     "data": {
      "text/plain": [
       "[FunctionTool(name='subject_writer', description='Write a subject for a cold sales email', params_json_schema={'properties': {'input': {'title': 'Input', 'type': 'string'}}, 'required': ['input'], 'title': 'subject_writer_args', 'type': 'object', 'additionalProperties': False}, on_invoke_tool=<function function_tool.<locals>._create_function_tool.<locals>._on_invoke_tool at 0x000001BCB1808040>, strict_json_schema=True),\n",
       " FunctionTool(name='html_converter', description='Convert a text email body to an HTML email body', params_json_schema={'properties': {'input': {'title': 'Input', 'type': 'string'}}, 'required': ['input'], 'title': 'html_converter_args', 'type': 'object', 'additionalProperties': False}, on_invoke_tool=<function function_tool.<locals>._create_function_tool.<locals>._on_invoke_tool at 0x000001BCB1808A40>, strict_json_schema=True),\n",
       " FunctionTool(name='send_html_email', description='Send out an email with the given subject and HTML body to all sales prospects', params_json_schema={'properties': {'subject': {'title': 'Subject', 'type': 'string'}, 'html_body': {'title': 'Html Body', 'type': 'string'}}, 'required': ['subject', 'html_body'], 'title': 'send_html_email_args', 'type': 'object', 'additionalProperties': False}, on_invoke_tool=<function function_tool.<locals>._create_function_tool.<locals>._on_invoke_tool at 0x000001BCB16FA2A0>, strict_json_schema=True)]"
      ]
     },
     "execution_count": 28,
     "metadata": {},
     "output_type": "execute_result"
    }
   ],
   "source": [
    "tools"
   ]
  },
  {
   "cell_type": "code",
   "execution_count": 29,
   "metadata": {},
   "outputs": [],
   "source": [
    "instructions =\"You are an email formatter and sender. You receive the body of an email to be sent. \\\n",
    "You first use the subject_writer tool to write a subject for the email, then use the html_converter tool to convert the body to HTML. \\\n",
    "Finally, you use the send_html_email tool to send the email with the subject and HTML body.\"\n",
    "\n",
    "\n",
    "emailer_agent = Agent(\n",
    "    name=\"Email Manager\",\n",
    "    instructions=instructions,\n",
    "    tools=tools,\n",
    "    model=\"gpt-4o-mini\",\n",
    "    handoff_description=\"Convert an email to HTML and send it\")\n"
   ]
  },
  {
   "cell_type": "markdown",
   "metadata": {},
   "source": [
    "### Now we have 3 tools and 1 handoff"
   ]
  },
  {
   "cell_type": "code",
   "execution_count": 30,
   "metadata": {},
   "outputs": [
    {
     "name": "stdout",
     "output_type": "stream",
     "text": [
      "[FunctionTool(name='sales_agent1', description='Write a cold sales email', params_json_schema={'properties': {'input': {'title': 'Input', 'type': 'string'}}, 'required': ['input'], 'title': 'sales_agent1_args', 'type': 'object', 'additionalProperties': False}, on_invoke_tool=<function function_tool.<locals>._create_function_tool.<locals>._on_invoke_tool at 0x000001BCB16FB9C0>, strict_json_schema=True), FunctionTool(name='sales_agent2', description='Write a cold sales email', params_json_schema={'properties': {'input': {'title': 'Input', 'type': 'string'}}, 'required': ['input'], 'title': 'sales_agent2_args', 'type': 'object', 'additionalProperties': False}, on_invoke_tool=<function function_tool.<locals>._create_function_tool.<locals>._on_invoke_tool at 0x000001BCB16FB100>, strict_json_schema=True), FunctionTool(name='sales_agent3', description='Write a cold sales email', params_json_schema={'properties': {'input': {'title': 'Input', 'type': 'string'}}, 'required': ['input'], 'title': 'sales_agent3_args', 'type': 'object', 'additionalProperties': False}, on_invoke_tool=<function function_tool.<locals>._create_function_tool.<locals>._on_invoke_tool at 0x000001BCAEF7D260>, strict_json_schema=True)]\n",
      "[Agent(name='Email Manager', instructions='You are an email formatter and sender. You receive the body of an email to be sent. You first use the subject_writer tool to write a subject for the email, then use the html_converter tool to convert the body to HTML. Finally, you use the send_html_email tool to send the email with the subject and HTML body.', handoff_description='Convert an email to HTML and send it', handoffs=[], model='gpt-4o-mini', model_settings=ModelSettings(temperature=None, top_p=None, frequency_penalty=None, presence_penalty=None, tool_choice=None, parallel_tool_calls=None, truncation=None, max_tokens=None, reasoning=None, metadata=None, store=None, include_usage=None, extra_query=None, extra_body=None, extra_headers=None), tools=[FunctionTool(name='subject_writer', description='Write a subject for a cold sales email', params_json_schema={'properties': {'input': {'title': 'Input', 'type': 'string'}}, 'required': ['input'], 'title': 'subject_writer_args', 'type': 'object', 'additionalProperties': False}, on_invoke_tool=<function function_tool.<locals>._create_function_tool.<locals>._on_invoke_tool at 0x000001BCB1808040>, strict_json_schema=True), FunctionTool(name='html_converter', description='Convert a text email body to an HTML email body', params_json_schema={'properties': {'input': {'title': 'Input', 'type': 'string'}}, 'required': ['input'], 'title': 'html_converter_args', 'type': 'object', 'additionalProperties': False}, on_invoke_tool=<function function_tool.<locals>._create_function_tool.<locals>._on_invoke_tool at 0x000001BCB1808A40>, strict_json_schema=True), FunctionTool(name='send_html_email', description='Send out an email with the given subject and HTML body to all sales prospects', params_json_schema={'properties': {'subject': {'title': 'Subject', 'type': 'string'}, 'html_body': {'title': 'Html Body', 'type': 'string'}}, 'required': ['subject', 'html_body'], 'title': 'send_html_email_args', 'type': 'object', 'additionalProperties': False}, on_invoke_tool=<function function_tool.<locals>._create_function_tool.<locals>._on_invoke_tool at 0x000001BCB16FA2A0>, strict_json_schema=True)], mcp_servers=[], mcp_config={}, input_guardrails=[], output_guardrails=[], output_type=None, hooks=None, tool_use_behavior='run_llm_again', reset_tool_choice=True)]\n"
     ]
    }
   ],
   "source": [
    "tools = [tool1, tool2, tool3]\n",
    "handoffs = [emailer_agent]\n",
    "print(tools)\n",
    "print(handoffs)"
   ]
  },
  {
   "cell_type": "code",
   "execution_count": 31,
   "metadata": {},
   "outputs": [],
   "source": [
    "sales_manager_instructions = \"You are a sales manager working for ComplAI. You use the tools given to you to generate cold sales emails. \\\n",
    "You never generate sales emails yourself; you always use the tools. \\\n",
    "You try all 3 sales agent tools at least once before choosing the best one. \\\n",
    "You can use the tools multiple times if you're not satisfied with the results from the first try. \\\n",
    "You select the single best email using your own judgement of which email will be most effective. \\\n",
    "After picking the email, you handoff to the Email Manager agent to format and send the email.\"\n",
    "\n",
    "\n",
    "sales_manager = Agent(\n",
    "    name=\"Sales Manager\",\n",
    "    instructions=sales_manager_instructions,\n",
    "    tools=tools,\n",
    "    handoffs=handoffs,\n",
    "    model=\"gpt-4o-mini\")\n",
    "\n",
    "message = \"Send out a cold sales email addressed to Dear CEO from Alice\"\n",
    "\n",
    "with trace(\"Automated SDR\"):\n",
    "    result = await Runner.run(sales_manager, message)"
   ]
  },
  {
   "cell_type": "markdown",
   "metadata": {},
   "source": [
    "### Remember to check the trace\n",
    "\n",
    "https://platform.openai.com/traces\n",
    "\n",
    "And then check your email!!"
   ]
  },
  {
   "cell_type": "markdown",
   "metadata": {},
   "source": [
    "<table style=\"margin: 0; text-align: left; width:100%\">\n",
    "    <tr>\n",
    "        <td style=\"width: 150px; height: 150px; vertical-align: middle;\">\n",
    "            <img src=\"../assets/exercise.png\" width=\"150\" height=\"150\" style=\"display: block;\" />\n",
    "        </td>\n",
    "        <td>\n",
    "            <h2 style=\"color:#ff7800;\">Exercise</h2>\n",
    "            <span style=\"color:#ff7800;\">Can you identify the Agentic design patterns that were used here?<br/>\n",
    "            What is the 1 line that changed this from being an Agentic \"workflow\" to \"agent\" under Anthropic's definition?<br/>\n",
    "            Try adding in more tools and Agents! You could have tools that handle the mail merge to send to a list.<br/><br/>\n",
    "            HARD CHALLENGE: research how you can have SendGrid call a Callback webhook when a user replies to an email,\n",
    "            Then have the SDR respond to keep the conversation going! This may require some \"vibe coding\" 😂\n",
    "            </span>\n",
    "        </td>\n",
    "    </tr>\n",
    "</table>"
   ]
  },
  {
   "cell_type": "markdown",
   "metadata": {},
   "source": [
    "<table style=\"margin: 0; text-align: left; width:100%\">\n",
    "    <tr>\n",
    "        <td style=\"width: 150px; height: 150px; vertical-align: middle;\">\n",
    "            <img src=\"../assets/business.png\" width=\"150\" height=\"150\" style=\"display: block;\" />\n",
    "        </td>\n",
    "        <td>\n",
    "            <h2 style=\"color:#00bfff;\">Commercial implications</h2>\n",
    "            <span style=\"color:#00bfff;\">This is immediately applicable to Sales Automation; but more generally this could be applied to  end-to-end automation of any business process through conversations and tools. Think of ways you could apply an Agent solution\n",
    "            like this in your day job.\n",
    "            </span>\n",
    "        </td>\n",
    "    </tr>\n",
    "</table>"
   ]
  },
  {
   "cell_type": "markdown",
   "metadata": {},
   "source": [
    "## Extra note:\n",
    "\n",
    "Google has released their Agent Development Kit (ADK). It's not yet got the traction of the other frameworks on this course, but it's getting some attention. It's interesting to note that it looks quite similar to OpenAI Agents SDK. To give you a preview, here's a peak at sample code from ADK:\n",
    "\n",
    "```\n",
    "root_agent = Agent(\n",
    "    name=\"weather_time_agent\",\n",
    "    model=\"gemini-2.0-flash\",\n",
    "    description=\"Agent to answer questions about the time and weather in a city.\",\n",
    "    instruction=\"You are a helpful agent who can answer user questions about the time and weather in a city.\",\n",
    "    tools=[get_weather, get_current_time]\n",
    ")\n",
    "```\n",
    "\n",
    "Well, that looks familiar!\n",
    "\n",
    "And a student has contributed a customer care agent in community_contributions that uses ADK."
   ]
  },
  {
   "cell_type": "markdown",
   "metadata": {},
   "source": []
  }
 ],
 "metadata": {
  "kernelspec": {
   "display_name": ".venv",
   "language": "python",
   "name": "python3"
  },
  "language_info": {
   "codemirror_mode": {
    "name": "ipython",
    "version": 3
   },
   "file_extension": ".py",
   "mimetype": "text/x-python",
   "name": "python",
   "nbconvert_exporter": "python",
   "pygments_lexer": "ipython3",
   "version": "3.12.10"
  }
 },
 "nbformat": 4,
 "nbformat_minor": 2
}
