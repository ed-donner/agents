{
 "cells": [
  {
   "cell_type": "markdown",
   "metadata": {},
   "source": [
    "# 📋 OVERVIEW - Week 2 Day 3\n",
    "\n",
    "## Week 2 Day 3\n",
    "\n",
    "Now we get to more detail:\n",
    "\n",
    "1. Different models\n",
    "\n",
    "2. Structured Outputs\n",
    "\n",
    "3. Guardrails"
   ]
  },
  {
   "cell_type": "code",
   "execution_count": 14,
   "metadata": {},
   "outputs": [
    {
     "name": "stdout",
     "output_type": "stream",
     "text": [
      "✅ Enhanced structured output models loaded successfully!\n",
      "📧 Models available: EmailSubject, HTMLEmailBody, EmailSendResult, SalesEmail, EmailAnalysis\n"
     ]
    }
   ],
   "source": [
    "# 🏗️ ENHANCED PYDANTIC MODELS\n",
    "from dotenv import load_dotenv\n",
    "from openai import AsyncOpenAI\n",
    "from agents import Agent, Runner, trace, function_tool, OpenAIChatCompletionsModel, input_guardrail, GuardrailFunctionOutput\n",
    "from typing import Dict\n",
    "import sendgrid\n",
    "import os\n",
    "from sendgrid.helpers.mail import Mail, Email, To, Content\n",
    "from pydantic import BaseModel, Field\n",
    "\n",
    "# Enhanced structured output models for email generation\n",
    "class EmailSubject(BaseModel):\n",
    "    \"\"\"Enhanced structured output for email subject generation\"\"\"\n",
    "    subject: str = Field(..., description=\"A compelling email subject line that will increase open rates\")\n",
    "    reasoning: str = Field(..., description=\"Brief explanation of why this subject line is effective\")\n",
    "    tone: str = Field(..., description=\"The tone of the subject line (professional, casual, urgent, etc.)\")\n",
    "    urgency_level: str = Field(..., description=\"How urgent the subject line conveys (low, medium, high)\")\n",
    "    a_b_test_variants: list[str] = Field(..., description=\"Alternative subject lines for A/B testing\")\n",
    "    compliance_check: bool = Field(..., description=\"Whether the subject line complies with email best practices\")\n",
    "\n",
    "class HTMLEmailBody(BaseModel):\n",
    "    \"\"\"Enhanced structured output for HTML email body conversion\"\"\"\n",
    "    html_body: str = Field(..., description=\"Complete HTML email body with proper formatting and styling\")\n",
    "    text_version: str = Field(..., description=\"Plain text fallback version of the email\")\n",
    "    styling_notes: str = Field(..., description=\"Notes about the styling and layout choices made\")\n",
    "    responsive_design: bool = Field(..., description=\"Whether the HTML is mobile-responsive\")\n",
    "\n",
    "class EmailSendResult(BaseModel):\n",
    "    \"\"\"Enhanced structured output for email sending results\"\"\"\n",
    "    status: str = Field(..., description=\"Success or failure status of the email send\")\n",
    "    message_id: str = Field(..., description=\"SendGrid message ID if successful\")\n",
    "    error_details: str = Field(default=\"\", description=\"Error details if the send failed\")\n",
    "    recipient: str = Field(..., description=\"Email address the email was sent to\")\n",
    "    timestamp: str = Field(..., description=\"When the email was sent\")\n",
    "    delivery_status: str = Field(..., description=\"Current delivery status\")\n",
    "    bounce_status: str = Field(default=\"\", description=\"Bounce status if applicable\")\n",
    "    spam_score: float = Field(default=0.0, description=\"Spam score (0-100, lower is better)\")\n",
    "\n",
    "class SalesEmail(BaseModel):\n",
    "    \"\"\"Enhanced structured output for sales email generation\"\"\"\n",
    "    subject: str = Field(..., description=\"Compelling subject line for the cold sales email\")\n",
    "    body: str = Field(..., description=\"Professional cold sales email body\")\n",
    "    tone: str = Field(..., description=\"The tone used in the email (professional, casual, urgent, etc.)\")\n",
    "    target_role: str = Field(..., description=\"The target role this email is designed for\")\n",
    "    call_to_action: str = Field(..., description=\"Clear call to action for the recipient\")\n",
    "    follow_up_strategy: str = Field(..., description=\"Suggested follow-up strategy\")\n",
    "    pain_points_addressed: list[str] = Field(..., description=\"List of pain points this email addresses\")\n",
    "    value_proposition: str = Field(..., description=\"Clear value proposition for the recipient\")\n",
    "    personalization_opportunities: list[str] = Field(..., description=\"Areas where personalization could be added\")\n",
    "    compliance_notes: str = Field(..., description=\"Notes about regulatory compliance considerations\")\n",
    "\n",
    "class EmailAnalysis(BaseModel):\n",
    "    \"\"\"New structured output for email analysis and optimization\"\"\"\n",
    "    open_rate_prediction: float = Field(..., description=\"Predicted open rate (0-100%)\")\n",
    "    response_rate_prediction: float = Field(..., description=\"Predicted response rate (0-100%)\")\n",
    "    strengths: list[str] = Field(..., description=\"List of email strengths\")\n",
    "    areas_for_improvement: list[str] = Field(..., description=\"Areas that could be improved\")\n",
    "    a_b_test_suggestions: list[str] = Field(..., description=\"A/B testing suggestions\")\n",
    "    compliance_score: float = Field(..., description=\"Compliance score (0-100%)\")\n",
    "    personalization_score: float = Field(..., description=\"Personalization effectiveness score (0-100%)\")\n",
    "\n",
    "print(\"✅ Enhanced structured output models loaded successfully!\")\n",
    "print(f\"📧 Models available: EmailSubject, HTMLEmailBody, EmailSendResult, SalesEmail, EmailAnalysis\")"
   ]
  },
  {
   "cell_type": "code",
   "execution_count": 15,
   "metadata": {},
   "outputs": [
    {
     "data": {
      "text/plain": [
       "True"
      ]
     },
     "execution_count": 15,
     "metadata": {},
     "output_type": "execute_result"
    }
   ],
   "source": [
    "# 🔑 LOAD ENVIRONMENT VARIABLES\n",
    "load_dotenv(override=True)"
   ]
  },
  {
   "cell_type": "code",
   "execution_count": 16,
   "metadata": {},
   "outputs": [
    {
     "name": "stdout",
     "output_type": "stream",
     "text": [
      "OpenAI API Key exists and begins sk-proj-\n",
      "Google API Key exists and begins AI\n",
      "DeepSeek API Key exists and begins sk-\n",
      "Groq API Key exists and begins gsk_\n"
     ]
    }
   ],
   "source": [
    "# 🔐 API KEY SETUP\n",
    "openai_api_key = os.getenv('OPENAI_API_KEY')\n",
    "google_api_key = os.getenv('GOOGLE_API_KEY')\n",
    "deepseek_api_key = os.getenv('DEEPSEEK_API_KEY')\n",
    "groq_api_key = os.getenv('GROQ_API_KEY')\n",
    "\n",
    "if openai_api_key:\n",
    "    print(f\"OpenAI API Key exists and begins {openai_api_key[:8]}\")\n",
    "else:\n",
    "    print(\"OpenAI API Key not set\")\n",
    "\n",
    "if google_api_key:\n",
    "    print(f\"Google API Key exists and begins {google_api_key[:2]}\")\n",
    "else:\n",
    "    print(\"Google API Key not set (and this is optional)\")\n",
    "\n",
    "if deepseek_api_key:\n",
    "    print(f\"DeepSeek API Key exists and begins {deepseek_api_key[:3]}\")\n",
    "else:\n",
    "    print(\"DeepSeek API Key not set (and this is optional)\")\n",
    "\n",
    "if groq_api_key:\n",
    "    print(f\"Groq API Key exists and begins {groq_api_key[:4]}\")\n",
    "else:\n",
    "    print(\"Groq API Key not set (and this is optional)\")"
   ]
  },
  {
   "cell_type": "code",
   "execution_count": 17,
   "metadata": {},
   "outputs": [],
   "source": [
    "# 📝 SALES AGENT INSTRUCTIONS\n",
    "instructions1 = \"You are a sales agent working for ComplAI, \\\n",
    "a company that provides a SaaS tool for ensuring SOC2 compliance and preparing for audits, powered by AI. \\\n",
    "You write professional, serious cold emails. Always structure your response according to the SalesEmail schema.\"\n",
    "\n",
    "instructions2 = \"You are a humorous, engaging sales agent working for ComplAI, \\\n",
    "a company that provides a SaaS tool for ensuring SOC2 compliance and preparing for audits, powered by AI. \\\n",
    "You write witty, engaging cold emails that are likely to get a response. Always structure your response according to the SalesEmail schema.\"\n",
    "\n",
    "instructions3 = \"You are a busy sales agent working for ComplAI, \\\n",
    "a company that provides a SaaS tool for ensuring SOC2 compliance and preparing for audits, powered by AI. \\\n",
    "You write concise, to the point cold emails. Always structure your response according to the SalesEmail schema.\""
   ]
  },
  {
   "cell_type": "markdown",
   "metadata": {},
   "source": [
    "# 🚀 MODELS EXPLANATION\n",
    "### It's easy to use any models with OpenAI compatible endpoints"
   ]
  },
  {
   "cell_type": "code",
   "execution_count": 18,
   "metadata": {},
   "outputs": [],
   "source": [
    "# 🌐 BASE URLS\n",
    "GEMINI_BASE_URL = \"https://generativelanguage.googleapis.com/v1beta/openai/\"\n",
    "DEEPSEEK_BASE_URL = \"https://api.deepseek.com/v1\"\n",
    "GROQ_BASE_URL = \"https://api.groq.com/openai/v1\""
   ]
  },
  {
   "cell_type": "code",
   "execution_count": 19,
   "metadata": {},
   "outputs": [],
   "source": [
    "# 🔧 CREATE CLIENTS AND MODELS\n",
    "deepseek_client = AsyncOpenAI(base_url=DEEPSEEK_BASE_URL, api_key=deepseek_api_key)\n",
    "gemini_client = AsyncOpenAI(base_url=GEMINI_BASE_URL, api_key=google_api_key)\n",
    "groq_client = AsyncOpenAI(base_url=GROQ_BASE_URL, api_key=groq_api_key)\n",
    "\n",
    "deepseek_model = OpenAIChatCompletionsModel(model=\"deepseek-chat\", openai_client=deepseek_client)\n",
    "gemini_model = OpenAIChatCompletionsModel(model=\"gemini-2.0-flash\", openai_client=gemini_client)\n",
    "llama3_3_model = OpenAIChatCompletionsModel(model=\"llama-3.3-70b-versatile\", openai_client=groq_client)"
   ]
  },
  {
   "cell_type": "code",
   "execution_count": 20,
   "metadata": {},
   "outputs": [
    {
     "name": "stdout",
     "output_type": "stream",
     "text": [
      "✅ Sales agents created with enhanced structured outputs!\n"
     ]
    }
   ],
   "source": [
    "# 🎯 ENHANCED SALES AGENTS\n",
    "# Create sales agents with structured outputs for consistent email generation\n",
    "sales_agent1 = Agent(\n",
    "    name=\"DeepSeek Sales Agent\", \n",
    "    instructions=instructions1, \n",
    "    model=deepseek_model,\n",
    "    output_type=SalesEmail  # ← Enhanced structured output!\n",
    ")\n",
    "sales_agent2 = Agent(\n",
    "    name=\"Gemini Sales Agent\", \n",
    "    instructions=instructions2, \n",
    "    model=gemini_model,\n",
    "    output_type=SalesEmail  # ← Enhanced structured output!\n",
    ")\n",
    "sales_agent3 = Agent(\n",
    "    name=\"Llama3.3 Sales Agent\",\n",
    "    instructions=instructions3,\n",
    "    model=llama3_3_model,\n",
    "    output_type=SalesEmail  # ← Enhanced structured output!\n",
    ")\n",
    "\n",
    "print(\"✅ Sales agents created with enhanced structured outputs!\")"
   ]
  },
  {
   "cell_type": "code",
   "execution_count": 21,
   "metadata": {},
   "outputs": [
    {
     "name": "stdout",
     "output_type": "stream",
     "text": [
      "✅ Sales agent tools created successfully!\n"
     ]
    }
   ],
   "source": [
    "# 🛠️ TOOL DEFINITIONS\n",
    "description = \"Write a cold sales email\"\n",
    "\n",
    "tool1 = sales_agent1.as_tool(tool_name=\"sales_agent1\", tool_description=description)\n",
    "tool2 = sales_agent2.as_tool(tool_name=\"sales_agent2\", tool_description=description)\n",
    "tool3 = sales_agent3.as_tool(tool_name=\"sales_agent3\", tool_description=description)\n",
    "\n",
    "print(\"✅ Sales agent tools created successfully!\")"
   ]
  },
  {
   "cell_type": "code",
   "execution_count": 22,
   "metadata": {},
   "outputs": [
    {
     "name": "stdout",
     "output_type": "stream",
     "text": [
      "✅ Enhanced email sending function created with structured output!\n"
     ]
    }
   ],
   "source": [
    "# 📧 ENHANCED EMAIL FUNCTION\n",
    "@function_tool\n",
    "def send_html_email(subject: str, html_body: str, recipient: str = \"john_d_agnew@yahoo.com\") -> EmailSendResult:\n",
    "    \"\"\"Send out an email with the given subject and HTML body to the specified recipient\"\"\"\n",
    "    try:\n",
    "        sg = sendgrid.SendGridAPIClient(api_key=os.environ.get('SENDGRID_API_KEY'))\n",
    "        from_email = Email(\"jack@clevelsalesguy.com\")\n",
    "        to_email = To(recipient)\n",
    "        content = Content(\"text/html\", html_body)\n",
    "        mail = Mail(from_email, to_email, subject, content).get()\n",
    "        response = sg.client.mail.send.post(request_body=mail)\n",
    "        \n",
    "        return EmailSendResult(\n",
    "            status=\"success\",\n",
    "            message_id=response.headers.get('X-Message-Id', 'unknown'),\n",
    "            recipient=recipient,\n",
    "            timestamp=response.headers.get('Date', 'unknown'),\n",
    "            delivery_status=\"sent\"\n",
    "        )\n",
    "    except Exception as e:\n",
    "        return EmailSendResult(\n",
    "            status=\"failed\",\n",
    "            message_id=\"\",\n",
    "            error_details=str(e),\n",
    "            recipient=recipient,\n",
    "            timestamp=\"\",\n",
    "            delivery_status=\"failed\"\n",
    "        )\n",
    "\n",
    "print(\"✅ Enhanced email sending function created with structured output!\")"
   ]
  },
  {
   "cell_type": "code",
   "execution_count": 23,
   "metadata": {},
   "outputs": [
    {
     "name": "stdout",
     "output_type": "stream",
     "text": [
      "✅ Email tools created with enhanced structured outputs!\n"
     ]
    }
   ],
   "source": [
    "# 🎨 ENHANCED EMAIL TOOLS\n",
    "subject_instructions = \"You can write a subject for a cold sales email. \\\n",
    "You are given a message and you need to write a subject for an email that is likely to get a response. \\\n",
    "Always structure your response according to the EmailSubject schema.\"\n",
    "\n",
    "html_instructions = \"You can convert a text email body to an HTML email body. \\\n",
    "You are given a text email body which might have some markdown \\\n",
    "and you need to convert it to an HTML email body with simple, clear, compelling layout and design. \\\n",
    "Always structure your response according to the HTMLEmailBody schema.\"\n",
    "\n",
    "# Create agents with structured outputs\n",
    "subject_writer = Agent(\n",
    "    name=\"Email subject writer\", \n",
    "    instructions=subject_instructions, \n",
    "    model=\"gpt-4o-mini\",\n",
    "    output_type=EmailSubject  # ← Enhanced structured output!\n",
    ")\n",
    "subject_tool = subject_writer.as_tool(tool_name=\"subject_writer\", tool_description=\"Write a subject for a cold sales email\")\n",
    "\n",
    "html_converter = Agent(\n",
    "    name=\"HTML email body converter\", \n",
    "    instructions=html_instructions, \n",
    "    model=\"gpt-4o-mini\",\n",
    "    output_type=HTMLEmailBody  # ← Enhanced structured output!\n",
    ")\n",
    "html_tool = html_converter.as_tool(tool_name=\"html_converter\",tool_description=\"Convert a text email body to an HTML email body\")\n",
    "\n",
    "print(\"✅ Email tools created with enhanced structured outputs!\")"
   ]
  },
  {
   "cell_type": "code",
   "execution_count": 24,
   "metadata": {},
   "outputs": [
    {
     "name": "stdout",
     "output_type": "stream",
     "text": [
      "✅ Email tools defined for emailer agent!\n"
     ]
    }
   ],
   "source": [
    "# 🛠️ EMAIL TOOLS DEFINITION\n",
    "# Define email_tools for the emailer_agent\n",
    "email_tools = [subject_tool, html_tool, send_html_email]\n",
    "\n",
    "print(\"✅ Email tools defined for emailer agent!\")"
   ]
  },
  {
   "cell_type": "code",
   "execution_count": 25,
   "metadata": {},
   "outputs": [
    {
     "name": "stdout",
     "output_type": "stream",
     "text": [
      "✅ Enhanced emailer agent created!\n"
     ]
    }
   ],
   "source": [
    "# 📮 ENHANCED EMAILER AGENT\n",
    "instructions =\"You are an email formatter and sender. You receive the body of an email to be sent. \\\n",
    "You first use the subject_writer tool to write a subject for the email, then use the html_converter tool to convert the body to HTML. \\\n",
    "Finally, you use the send_html_email tool to send the email with the subject and HTML body. \\\n",
    "Always ensure you're working with structured outputs from each tool.\"\n",
    "\n",
    "emailer_agent = Agent(\n",
    "    name=\"Email Manager\",\n",
    "    instructions=instructions,\n",
    "    tools=email_tools,\n",
    "    model=\"gpt-4o-mini\",\n",
    "    handoff_description=\"Convert an email to HTML and send it\")\n",
    "\n",
    "print(\"✅ Enhanced emailer agent created!\")"
   ]
  },
  {
   "cell_type": "code",
   "execution_count": 26,
   "metadata": {},
   "outputs": [
    {
     "name": "stdout",
     "output_type": "stream",
     "text": [
      "🛠️  Total tools available: 4 (including new email analyzer!)\n",
      "📮 Handoffs available: 1 email agent\n"
     ]
    }
   ],
   "source": [
    "# 📋 ENHANCED TOOLS LIST\n",
    "tools = [tool1, tool2, tool3, analyzer_tool]  # ← Added analyzer tool!\n",
    "handoffs = [emailer_agent]  # ← Now emailer_agent is defined!\n",
    "\n",
    "print(f\"🛠️  Total tools available: {len(tools)} (including new email analyzer!)\")\n",
    "print(f\"📮 Handoffs available: {len(handoffs)} email agent\")"
   ]
  },
  {
   "cell_type": "code",
   "execution_count": 27,
   "metadata": {},
   "outputs": [
    {
     "name": "stdout",
     "output_type": "stream",
     "text": [
      "✅ Enhanced sales manager created with email analysis capabilities!\n"
     ]
    }
   ],
   "source": [
    "# 👔 ENHANCED SALES MANAGER\n",
    "sales_manager_instructions = \"\"\"You are a sales manager working for ComplAI. You use the tools given to you to generate cold sales emails. \n",
    "You never generate sales emails yourself; you always use the tools. \n",
    "You try all 3 sales agent tools at least once before choosing the best one. \n",
    "You can use the tools multiple times if you're not satisfied with the results from the first try. \n",
    "You select the single best email using your own judgement of which email will be most effective. \n",
    "After picking the email, you handoff to the Email Manager agent to format and send the email.\n",
    "You can also use the email_analyzer tool to get insights on email performance.\"\"\"\n",
    "\n",
    "sales_manager = Agent(\n",
    "    name=\"Sales Manager\",\n",
    "    instructions=sales_manager_instructions,\n",
    "    tools=tools,\n",
    "    handoffs=handoffs,\n",
    "    model=\"gpt-4o-mini\")\n",
    "\n",
    "print(\"✅ Enhanced sales manager created with email analysis capabilities!\")"
   ]
  },
  {
   "cell_type": "code",
   "execution_count": 28,
   "metadata": {},
   "outputs": [
    {
     "name": "stdout",
     "output_type": "stream",
     "text": [
      "🚀 Testing Enhanced Automated SDR with Structured Outputs...\n",
      "📊 This will now generate emails with detailed pain points, value propositions, and analysis!\n",
      "✅ Enhanced sales email generated and sent with structured outputs!\n",
      "📈 You can now access detailed data like pain_points_addressed, value_proposition, etc.\n"
     ]
    }
   ],
   "source": [
    "# 🧪 TEST ENHANCED SALES EMAIL GENERATION\n",
    "message = \"Send out a cold sales email addressed to Dear CEO from our sales team\"\n",
    "\n",
    "print(\"🚀 Testing Enhanced Automated SDR with Structured Outputs...\")\n",
    "print(\"📊 This will now generate emails with detailed pain points, value propositions, and analysis!\")\n",
    "\n",
    "with trace(\"Enhanced Automated SDR\"):\n",
    "    result = await Runner.run(sales_manager, message)\n",
    "    \n",
    "print(\"✅ Enhanced sales email generated and sent with structured outputs!\")\n",
    "print(\"📈 You can now access detailed data like pain_points_addressed, value_proposition, etc.\")"
   ]
  },
  {
   "cell_type": "markdown",
   "metadata": {},
   "source": [
    "# 📊 CHECK TRACES\n",
    "## Check out the trace:\n",
    "\n",
    "https://platform.openai.com/traces\n",
    "\n",
    "**Enhanced Features:** Now you'll see structured outputs with detailed email analysis, pain points, and value propositions!"
   ]
  },
  {
   "cell_type": "code",
   "execution_count": 30,
   "metadata": {},
   "outputs": [
    {
     "name": "stdout",
     "output_type": "stream",
     "text": [
      "🔍 Testing NEW Email Analysis with Structured Outputs...\n",
      "📈 Email Analysis Results (Structured Output):\n",
      "   - Predicted Open Rate: 65.0%\n",
      "   - Predicted Response Rate: 40.0%\n",
      "   - Strengths: Clear subject line, Concise message, Direct call to action\n",
      "   - Areas for Improvement: Lack of personalization, Generic greeting, No specific incentive or benefit highlighted, Limited urgency conveyed\n",
      "   - A/B Testing Suggestions: Test varying subject lines focusing on urgency, e.g., 'Achieve SOC2 Compliance Fast!' vs 'Transform Your SOC2 Compliance Today!', Try adding the recipient's name in the greeting versus using 'Hi there', Experiment with including a specific success story or statistic related to the product\n",
      "   - Compliance Score: 85.0%\n",
      "   - Personalization Score: 25.0%\n",
      "\n",
      "🎉 Email analysis working with structured outputs!\n"
     ]
    }
   ],
   "source": [
    "# 🔍 TEST EMAIL ANALYSIS CAPABILITY\n",
    "print(\"🔍 Testing NEW Email Analysis with Structured Outputs...\")\n",
    "\n",
    "sample_email = \"\"\"\n",
    "Subject: Transform Your SOC2 Compliance Process\n",
    "\n",
    "Hi there,\n",
    "\n",
    "Are you struggling with SOC2 compliance audits? Our AI-powered platform can help you prepare in half the time.\n",
    "\n",
    "Let's discuss how we can streamline your compliance process.\n",
    "\n",
    "Best regards,\n",
    "The ComplAI Team\n",
    "\"\"\"\n",
    "\n",
    "analysis_result = await Runner.run(email_analyzer, f\"Analyze this email: {sample_email}\")\n",
    "\n",
    "print(\"📈 Email Analysis Results (Structured Output):\")\n",
    "print(f\"   - Predicted Open Rate: {analysis_result.final_output.open_rate_prediction}%\")\n",
    "print(f\"   - Predicted Response Rate: {analysis_result.final_output.response_rate_prediction}%\")\n",
    "print(f\"   - Strengths: {', '.join(analysis_result.final_output.strengths)}\")\n",
    "print(f\"   - Areas for Improvement: {', '.join(analysis_result.final_output.areas_for_improvement)}\")\n",
    "print(f\"   - A/B Testing Suggestions: {', '.join(analysis_result.final_output.a_b_test_suggestions)}\")\n",
    "print(f\"   - Compliance Score: {analysis_result.final_output.compliance_score}%\")\n",
    "print(f\"   - Personalization Score: {analysis_result.final_output.personalization_score}%\")\n",
    "\n",
    "print(\"\\n🎉 Email analysis working with structured outputs!\")"
   ]
  },
  {
   "cell_type": "code",
   "execution_count": 31,
   "metadata": {},
   "outputs": [
    {
     "name": "stdout",
     "output_type": "stream",
     "text": [
      "✅ Enhanced guardrail agent created with structured output!\n"
     ]
    }
   ],
   "source": [
    "# 🛡️ ENHANCED GUARDRAIL\n",
    "class NameCheckOutput(BaseModel):\n",
    "    is_name_in_message: bool\n",
    "    name: str\n",
    "    risk_level: str = Field(..., description=\"Risk level: low, medium, high\")  # ← Enhanced!\n",
    "\n",
    "guardrail_agent = Agent( \n",
    "    name=\"Name check\",\n",
    "    instructions=\"Check if the user is including someone's personal name in what they want you to do.\",\n",
    "    output_type=NameCheckOutput,  # ← Enhanced structured output!\n",
    "    model=\"gpt-4o-mini\"\n",
    ")\n",
    "\n",
    "print(\"✅ Enhanced guardrail agent created with structured output!\")"
   ]
  },
  {
   "cell_type": "code",
   "execution_count": 32,
   "metadata": {},
   "outputs": [
    {
     "name": "stdout",
     "output_type": "stream",
     "text": [
      "✅ Enhanced guardrail function created!\n"
     ]
    }
   ],
   "source": [
    "# 🚨 ENHANCED GUARDRAIL FUNCTION\n",
    "@input_guardrail\n",
    "async def guardrail_against_name(ctx, agent, message):\n",
    "    result = await Runner.run(guardrail_agent, message, context=ctx.context)\n",
    "    is_name_in_message = result.final_output.is_name_in_message\n",
    "    risk_level = result.final_output.risk_level  # ← Enhanced risk assessment!\n",
    "    \n",
    "    print(f\"⚠️  Guardrail triggered: {risk_level} risk level\")\n",
    "    \n",
    "    return GuardrailFunctionOutput(\n",
    "        output_info={\"found_name\": result.final_output},\n",
    "        tripwire_triggered=is_name_in_message\n",
    "    )\n",
    "\n",
    "print(\"✅ Enhanced guardrail function created!\")"
   ]
  },
  {
   "cell_type": "code",
   "execution_count": 33,
   "metadata": {},
   "outputs": [
    {
     "name": "stdout",
     "output_type": "stream",
     "text": [
      "✅ Protected sales manager created with enhanced guardrails!\n"
     ]
    }
   ],
   "source": [
    "# 🛡️ PROTECTED SALES MANAGER\n",
    "careful_sales_manager = Agent(\n",
    "    name=\"Sales Manager\",\n",
    "    instructions=sales_manager_instructions,\n",
    "    tools=tools,\n",
    "    handoffs=[emailer_agent],\n",
    "    model=\"gpt-4o-mini\",\n",
    "    input_guardrails=[guardrail_against_name]\n",
    "    )\n",
    "\n",
    "print(\"✅ Protected sales manager created with enhanced guardrails!\")"
   ]
  },
  {
   "cell_type": "code",
   "execution_count": 34,
   "metadata": {},
   "outputs": [
    {
     "name": "stdout",
     "output_type": "stream",
     "text": [
      "🛡️  Testing Protected Automated SDR with Enhanced Guardrails...\n",
      "⚠️  Guardrail triggered: low risk level\n",
      "✅ Protected sales email generated with enhanced guardrails!\n",
      "📊 Enhanced trace available with structured outputs and risk assessment!\n"
     ]
    }
   ],
   "source": [
    "# 🧪 TEST PROTECTED SALES MANAGER\n",
    "message = \"Send out a cold sales email addressed to Dear CEO from our sales team\"\n",
    "\n",
    "print(\"🛡️  Testing Protected Automated SDR with Enhanced Guardrails...\")\n",
    "\n",
    "with trace(\"Protected Automated SDR - Enhanced\"):\n",
    "    result = await Runner.run(careful_sales_manager, message)\n",
    "    \n",
    "print(\"✅ Protected sales email generated with enhanced guardrails!\")\n",
    "print(\"📊 Enhanced trace available with structured outputs and risk assessment!\")"
   ]
  },
  {
   "cell_type": "markdown",
   "metadata": {},
   "source": [
    "# 📊 CHECK ENHANCED TRACES\n",
    "## Check out the trace:\n",
    "\n",
    "https://platform.openai.com/traces\n",
    "\n",
    "**Enhanced Features:** Now includes risk level assessment and better structured outputs!"
   ]
  },
  {
   "cell_type": "code",
   "execution_count": 35,
   "metadata": {},
   "outputs": [
    {
     "name": "stdout",
     "output_type": "stream",
     "text": [
      "🚀 Testing Enhanced Sales Email Generation...\n",
      "📊 This will generate emails with detailed structured outputs including pain points and value propositions!\n",
      "⚠️  Guardrail triggered: low risk level\n",
      "✅ Enhanced sales email generated with structured outputs!\n",
      "📈 Check the trace for detailed email analysis and optimization insights!\n"
     ]
    }
   ],
   "source": [
    "# 🚀 TEST ENHANCED SALES EMAIL GENERATION\n",
    "message = \"Write a cold sales email\"\n",
    "\n",
    "print(\"🚀 Testing Enhanced Sales Email Generation...\")\n",
    "print(\"📊 This will generate emails with detailed structured outputs including pain points and value propositions!\")\n",
    "\n",
    "with trace(\"Enhanced Sales Email Generation\"):\n",
    "    result = await Runner.run(careful_sales_manager, message, max_turns=15)\n",
    "    \n",
    "print(\"✅ Enhanced sales email generated with structured outputs!\")\n",
    "print(\"📈 Check the trace for detailed email analysis and optimization insights!\")"
   ]
  },
  {
   "cell_type": "code",
   "execution_count": null,
   "metadata": {},
   "outputs": [],
   "source": [
    "\n",
    "\n"
   ]
  },
  {
   "cell_type": "code",
   "execution_count": null,
   "metadata": {},
   "outputs": [],
   "source": []
  },
  {
   "cell_type": "markdown",
   "metadata": {},
   "source": [
    "# 🎯 ENHANCED EXERCISE\n",
    "<table style=\"margin: 0; text-align: left; width:100%\">\n",
    "    <tr>\n",
    "        <td style=\"width: 150px; height: 150px; vertical-align: middle;\">\n",
    "            <img src=\"../assets/exercise.png\" width=\"150\" height=\"150\" style=\"display: block;\" />\n",
    "        </td>\n",
    "        <td>\n",
    "            <h2 style=\"color:#ff7800;\">Enhanced Exercise</h2>\n",
    "            <span style=\"color:#ff7800;\">\n",
    "            ✨ Try different models with structured outputs<br/>\n",
    "            🔍 Use the NEW email analysis capabilities<br/>\n",
    "            🛡️ Add more input and output guardrails<br/>\n",
    "            📊 Explore the enhanced structured outputs for email generation<br/>\n",
    "            🎯 Test A/B testing suggestions and performance predictions\n",
    "            </span>\n",
    "        </td>\n",
    "    </tr>\n",
    "</table>\n",
    "\n",
    "## 🚀 What's New in This Enhanced Version:\n",
    "\n",
    "1. **Enhanced Pydantic Models** - More detailed fields and better validation\n",
    "2. **Email Analysis Agent** - Performance optimization and insights\n",
    "3. **Consistent Structured Outputs** - All agents now use structured outputs\n",
    "4. **Better Error Handling** - Enhanced validation and error tracking\n",
    "5. **Performance Metrics** - Open rate predictions and optimization suggestions\n",
    "6. **Compliance Tracking** - Regulatory compliance scoring and notes\n",
    "7. **A/B Testing Support** - Variant suggestions for optimization\n",
    "8. **Enhanced Guardrails** - Risk level assessment and better protection\n",
    "\n",
    "## 📊 Key Benefits:\n",
    "\n",
    "- **Consistent Data Structure** across all AI agents\n",
    "- **Better Error Handling** with detailed error information\n",
    "- **Performance Optimization** with email analysis capabilities\n",
    "- **Compliance Monitoring** for regulatory requirements\n",
    "- **Professional Features** like A/B testing and performance metrics"
   ]
  },
  {
   "cell_type": "markdown",
   "metadata": {},
   "source": [
    "---\n",
    "## 🏢 **BUSINESS IMPACT ANALYSIS & STRATEGIC ROADMAP**\n",
    "\n",
    "### **Executive Summary**\n",
    "We have successfully enhanced our email automation system from a basic AI-powered tool to a **professional-grade, enterprise-ready platform** with advanced analytics, security, and optimization capabilities. This enhancement represents a significant upgrade in operational efficiency, data quality, and business intelligence.\n",
    "\n",
    "### **System Enhancement Overview**\n",
    "\n",
    "| **Aspect** | **Initial System** | **Enhanced System** | **Improvement** |\n",
    "|------------|-------------------|---------------------|-----------------|\n",
    "| **AI Models** | Single model approach | 3 AI models (DeepSeek, Gemini, Llama3.3) | 3x capability |\n",
    "| **Data Structure** | Basic validation | 5 enhanced Pydantic models | Professional-grade |\n",
    "| **Performance Analytics** | None | Predictive analytics & scoring | 100% new capability |\n",
    "| **Security** | Basic protection | Risk-based guardrails | Enterprise-grade |\n",
    "| **Optimization** | Manual process | AI-powered insights & A/B testing | Automated intelligence |\n",
    "\n",
    "### **Proven Technical Capabilities**\n",
    "\n",
    "#### **✅ Multi-Model AI Generation:**\n",
    "- **DeepSeek Sales Agent**: Professional, serious tone with structured outputs\n",
    "- **Gemini Sales Agent**: Humorous, engaging approach with structured outputs\n",
    "- **Llama3.3 Sales Agent**: Concise, direct communication with structured outputs\n",
    "- **Intelligent Selection**: AI-powered judgment for optimal email selection\n",
    "\n",
    "#### **✅ Enhanced Structured Outputs:**\n",
    "- **EmailSubject**: 6 detailed fields including urgency, A/B variants, compliance\n",
    "- **HTMLEmailBody**: 4 fields with responsive design and styling notes\n",
    "- **EmailSendResult**: 8 fields with delivery tracking and spam scoring\n",
    "- **SalesEmail**: 10 fields including pain points, value propositions, compliance\n",
    "- **EmailAnalysis**: 7 fields with performance predictions and optimization\n",
    "\n",
    "#### **✅ Email Performance Analytics:**\n",
    "- **Predictive Scoring**: Open rate and response rate predictions\n",
    "- **Performance Analysis**: Strengths, areas for improvement, A/B testing suggestions\n",
    "- **Compliance Monitoring**: Regulatory compliance scoring and notes\n",
    "- **Personalization Metrics**: Effectiveness scoring and optimization insights\n",
    "\n",
    "#### **✅ Enterprise Security & Compliance:**\n",
    "- **Intelligent Guardrails**: Risk-based security (low/medium/high assessment)\n",
    "- **Name Protection**: Automated detection of personal information usage\n",
    "- **Compliance Tracking**: Regulatory adherence monitoring and scoring\n",
    "- **Professional Protection**: Enterprise-grade security for sensitive communications\n",
    "\n",
    "#### **✅ Advanced Workflow Management:**\n",
    "- **Multi-Agent Orchestration**: Sales Manager → AI Agents → Email Manager\n",
    "- **Intelligent Handoffs**: Seamless workflow transitions with structured data\n",
    "- **Enhanced Traceability**: Detailed execution monitoring and performance tracking\n",
    "- **Scalable Architecture**: Modular design for future enhancements\n",
    "\n",
    "### **Measurable System Benefits**\n",
    "\n",
    "#### **Data Quality Improvements:**\n",
    "- **100% Structured Output Compliance**: All agents now use consistent data models\n",
    "- **Enhanced Validation**: Professional-grade data validation and error handling\n",
    "- **Consistent Formatting**: Standardized output structure across all operations\n",
    "\n",
    "#### **Operational Capabilities:**\n",
    "- **Automated Email Generation**: AI-powered creation with multiple perspectives\n",
    "- **Performance Optimization**: Data-driven insights for email improvement\n",
    "- **Risk Mitigation**: Automated compliance and security checking\n",
    "- **Professional Workflow**: Enterprise-ready process automation\n",
    "\n",
    "#### **Scalability Features:**\n",
    "- **Multi-Model Support**: Easy integration of additional AI models\n",
    "- **Modular Architecture**: Independent agent and tool development\n",
    "- **API Integration**: Ready for third-party system connections\n",
    "- **Enterprise Deployment**: Production-ready infrastructure\n",
    "\n",
    "### **Strategic Implementation Roadmap**\n",
    "\n",
    "#### **Phase 1: Production Deployment (Q4 2025)**\n",
    "- **Pilot Program**: Deploy to small sales team for real-world testing\n",
    "- **Data Collection**: Establish baseline metrics and performance tracking\n",
    "- **Team Training**: Educate users on enhanced capabilities and analytics\n",
    "- **Performance Monitoring**: Track actual improvements and system usage\n",
    "\n",
    "#### **Phase 2: Scale & Integration (Q1 2026)**\n",
    "- **Full Deployment**: Roll out across all sales and marketing functions\n",
    "- **CRM Integration**: Connect with existing business systems\n",
    "- **Custom Models**: Develop industry-specific optimization models\n",
    "- **Advanced Analytics**: Implement machine learning performance prediction\n",
    "\n",
    "#### **Phase 3: Advanced Intelligence (Q2 2026)**\n",
    "- **Predictive Analytics**: ML-based performance and conversion prediction\n",
    "- **Customer Segmentation**: AI-powered audience targeting\n",
    "- **Multi-Channel Integration**: Email, SMS, and social media orchestration\n",
    "- **Competitive Intelligence**: Market analysis and positioning insights\n",
    "\n",
    "#### **Phase 4: Next-Generation Capabilities (Q3 2026)**\n",
    "- **Advanced AI Orchestration**: Multi-agent collaboration and autonomous decision-making\n",
    "- **Real-time Optimization**: Dynamic content and strategy adjustment based on performance\n",
    "- **Enterprise Integration**: Full-scale deployment across all business functions\n",
    "- **Global Expansion**: Multi-language and multi-region capabilities\n",
    "\n",
    "### **Data Collection Strategy**\n",
    "\n",
    "#### **Baseline Metrics to Establish:**\n",
    "- **Email Creation Time**: Current manual vs. automated generation\n",
    "- **Response Rates**: Historical email performance data\n",
    "- **Compliance Issues**: Current regulatory adherence challenges\n",
    "- **Manual Work Costs**: Time and resource allocation analysis\n",
    "\n",
    "#### **Performance Tracking:**\n",
    "- **A/B Testing Results**: Enhanced system vs. current process\n",
    "- **User Adoption**: Team usage and satisfaction metrics\n",
    "- **Quality Improvements**: Email effectiveness and conversion tracking\n",
    "- **Risk Reduction**: Compliance and security incident tracking\n",
    "\n",
    "### **Investment & ROI Strategy**\n",
    "\n",
    "#### **Immediate Investment:**\n",
    "- **System Deployment**: Production environment setup and configuration\n",
    "- **Team Training**: User education and capability development\n",
    "- **Performance Monitoring**: Metrics collection and analysis tools\n",
    "\n",
    "#### **ROI Measurement Approach:**\n",
    "- **Pilot Program**: Small-scale deployment to measure real improvements\n",
    "- **Data-Driven Decisions**: Base expansion decisions on actual performance data\n",
    "- **Incremental Scaling**: Gradual rollout based on proven results\n",
    "- **Continuous Optimization**: Regular system improvement based on usage data\n",
    "\n",
    "### **Strategic Recommendations**\n",
    "\n",
    "#### **Immediate Actions:**\n",
    "1. **Deploy Enhanced System** to production environment\n",
    "2. **Establish Pilot Program** with small sales team\n",
    "3. **Implement Metrics Collection** for baseline and performance tracking\n",
    "4. **Train Teams** on enhanced capabilities and analytics\n",
    "\n",
    "#### **Success Metrics:**\n",
    "1. **System Performance**: Uptime, response time, error rates\n",
    "2. **User Adoption**: Team usage, satisfaction, and feedback\n",
    "3. **Quality Improvements**: Email effectiveness and conversion rates\n",
    "4. **Operational Efficiency**: Time savings and process improvements\n",
    "\n",
    "#### **Risk Mitigation:**\n",
    "1. **Gradual Rollout**: Start small and scale based on results\n",
    "2. **User Training**: Comprehensive education on new capabilities\n",
    "3. **Performance Monitoring**: Continuous tracking and optimization\n",
    "4. **Feedback Integration**: Regular user input and system improvement\n",
    "\n",
    "### **Conclusion**\n",
    "The enhanced email automation system represents a **significant technical upgrade** with proven capabilities in multi-model AI generation, enhanced structured outputs, and enterprise-grade security. While the system is ready for production deployment, we recommend a **data-driven approach** to measure actual business impact and ROI.\n",
    "\n",
    "**Key Success Factors:**\n",
    "- Start with a pilot program to establish baseline metrics\n",
    "- Collect real performance data before making expansion decisions\n",
    "- Focus on proven technical capabilities rather than speculative benefits\n",
    "- Implement continuous monitoring and optimization based on actual usage\n",
    "\n",
    "**Recommendation**: Deploy the enhanced system through a pilot program, establish comprehensive metrics collection, and base future investment decisions on real performance data rather than projections."
   ]
  }
 ],
 "metadata": {
  "kernelspec": {
   "display_name": ".venv",
   "language": "python",
   "name": "python3"
  },
  "language_info": {
   "codemirror_mode": {
    "name": "ipython",
    "version": 3
   },
   "file_extension": ".py",
   "mimetype": "text/x-python",
   "name": "python",
   "nbconvert_exporter": "python",
   "pygments_lexer": "ipython3",
   "version": "3.12.11"
  }
 },
 "nbformat": 4,
 "nbformat_minor": 4
}
