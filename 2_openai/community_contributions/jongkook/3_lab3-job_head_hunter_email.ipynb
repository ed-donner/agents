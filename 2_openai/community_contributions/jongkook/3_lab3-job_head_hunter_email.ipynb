{
 "cells": [
  {
   "cell_type": "code",
   "execution_count": 103,
   "id": "6eae5cf6",
   "metadata": {},
   "outputs": [],
   "source": [
    "from sendgrid.helpers.mail import Mail, Email, To, Content\n",
    "import sendgrid\n",
    "import os\n",
    "from dotenv import load_dotenv\n",
    "from agents import Agent, Runner, trace, function_tool, OpenAIChatCompletionsModel, output_guardrail, GuardrailFunctionOutput\n",
    "from pypdf import PdfReader\n",
    "from typing import Dict\n",
    "from openai import AsyncOpenAI\n",
    "from pydantic import BaseModel"
   ]
  },
  {
   "cell_type": "code",
   "execution_count": 104,
   "id": "ed3d620b",
   "metadata": {},
   "outputs": [
    {
     "data": {
      "text/plain": [
       "True"
      ]
     },
     "execution_count": 104,
     "metadata": {},
     "output_type": "execute_result"
    }
   ],
   "source": [
    "load_dotenv(override=True)"
   ]
  },
  {
   "cell_type": "code",
   "execution_count": 105,
   "id": "a1de577d",
   "metadata": {},
   "outputs": [],
   "source": [
    "@function_tool\n",
    "def read_resume():\n",
    "    \"\"\" Read client's resume\"\"\"\n",
    "    resume_reader = PdfReader(\"me/Jongkook Kim - Resume.pdf\")\n",
    "    resume = \"\"\n",
    "    for page in resume_reader.pages:\n",
    "        page_text = page.extract_text()\n",
    "        if page_text:\n",
    "            resume += page_text.replace('\\t', ' ').replace('\\n', ' ')\n",
    "\n",
    "    return resume"
   ]
  },
  {
   "cell_type": "code",
   "execution_count": 106,
   "id": "f42eeae2",
   "metadata": {},
   "outputs": [],
   "source": [
    "resume_summary_instruction = \"\"\"You are a head hunter agent working for a client who is looking a job.\n",
    "Your client is a senior level sotware engineer and looking for principle or director level poisition.\n",
    "You summarize a client's resume includes technical skills, resposibilities and accomplishments.\n",
    "Summarized resume must compily follow requriements.\n",
    "1. Modern technical skills based on current job market and IT trends in year 2025.\n",
    "2. Qualfied for director or principle software engeering role.\n",
    "3. Summarized content should be 3 ~ 4 paragraphes\n",
    "\n",
    "##Resume\\n{resume}\\n\n",
    "\"\"\"\n",
    "\n",
    "resume_summarizor = Agent(\n",
    "    name=\"Resume Summarizor\",\n",
    "    instructions=resume_summary_instruction,\n",
    "    model=\"gpt-4o-mini\",\n",
    "    tools=[read_resume]\n",
    ")\n",
    "\n",
    "resume_summarize_tool = resume_summarizor.as_tool(\n",
    "    tool_name=\"resume_summarizor\",\n",
    "    tool_description=\"Summarize client resume to apeal HR or hiring manager\"\n",
    ")"
   ]
  },
  {
   "cell_type": "code",
   "execution_count": 107,
   "id": "9a74d45b",
   "metadata": {},
   "outputs": [],
   "source": [
    "resume_summary_evaluator_instruction = \"\"\"\n",
    "You are a head hunter agent working for a client who is looking a job. \n",
    "Your role is evaluating summarized client's resume to meet following requriements.\n",
    "1. Modern technical skills based on current job market and IT trends in year 2025.\n",
    "2. Qualfied for director or principle software engeering role.\n",
    "3. Summarized content should be 3 ~ 4 paragraphes\n",
    "\n",
    "If the summarized resume doesn't meet the requrements, give feedback why it fails the evaluation, \n",
    "so resume_summarize_tool can summarize again using your feedback.\n",
    "\"\"\"\n",
    "\n",
    "resume_summary_evaluator = Agent(\n",
    "    name=\"Summarized Resume Evaluator\",\n",
    "    instructions=resume_summary_evaluator_instruction,\n",
    "    tools=[read_resume],\n",
    "    model=\"gpt-4o-mini\"\n",
    ")\n",
    "\n",
    "resume_summary_evaluator_tool = resume_summary_evaluator.as_tool(\n",
    "    tool_name=\"resume_summary_evaluator\",\n",
    "    tool_description=\"Evaluate summerized resume\"\n",
    ")"
   ]
  },
  {
   "cell_type": "code",
   "execution_count": 108,
   "id": "ad8ad0ac",
   "metadata": {},
   "outputs": [],
   "source": [
    "\n",
    "resume_summary_manager_instruction = \"\"\"\n",
    "You are a coordinator who works between resume_summarizor tool and resume_summary_evaluator tool.\n",
    "Your goal is get the best client resume summary version.\n",
    "\n",
    "\n",
    "To acomplish your goal, you need to follow below steps.\n",
    "1. resume_summarizor tool\n",
    "1-1. call this tool to get summarized resume. \n",
    "1-2. If resume_summarizor is called less than 3 times, call resume_summarizor tool. When you call resume_summarizor, pass the summarized resume, so resume_summarizor tool can evaluaate it.\n",
    "1-3. If resume_summarizor tool has been invoked 3 times, hands off the latest summary resume to email_sendor agant.\n",
    "\n",
    "2. resume_summarizor tool\n",
    "2-1. Call this tool after resume_summarizor tool completes summarizion. When you call resume_summarizor agent, pass the response of resume_summarizor agent to resume_summarizor agent\n",
    "\n",
    "Crucial Rules:\n",
    "- Make sure resume_summarizor tool is not invoked more than 2 times.\n",
    "- Consider the latest summary resume as a best version.\n",
    "\"\"\"\n",
    "\n",
    "resume_summary_manager = Agent(\n",
    "    name=\"Resume Summary Coordinator\",\n",
    "    instructions=resume_summary_manager_instruction,\n",
    "    model=\"gpt-4o-mini\",\n",
    "    tools=[resume_summarize_tool, resume_summary_evaluator_tool]\n",
    ")\n",
    "\n",
    "resume_summary_manager_tool = resume_summary_manager.as_tool(\n",
    "    tool_name=\"resume_summary_manager_tool\",\n",
    "    tool_description=\"coordinate summary and evaluation resume\"\n",
    ")"
   ]
  },
  {
   "cell_type": "code",
   "execution_count": 109,
   "id": "3553d4da",
   "metadata": {},
   "outputs": [],
   "source": [
    "class PIICheckOutput(BaseModel):\n",
    "    is_pii_in_message: bool\n",
    "    pii: str\n",
    "\n",
    "pii_check_instruction = \"\"\"\n",
    "You are a compliance officer who verifies digital content and identify client's PII information is in it.\n",
    "Check if the email body including PII.\n",
    "Examples of PII are including, but not limited to name, address, email address, phone number.\n",
    "\"\"\"\n",
    "\n",
    "pii_guardrail_agent = Agent(\n",
    "    name=\"PII Check\",\n",
    "    instructions=pii_check_instruction,\n",
    "    output_type=PIICheckOutput,\n",
    "    model=\"gpt-4o-mini\"\n",
    ")\n",
    "\n",
    "@output_guardrail\n",
    "async def guardrail_against_pii(ctx, agent, message):\n",
    "    result = await Runner.run(pii_guardrail_agent, message, context=ctx.context)\n",
    "    is_pii_in_message = result.final_output.is_pii_in_message\n",
    "    return GuardrailFunctionOutput(\n",
    "        output_info={\"found_pii\":result.final_output},\n",
    "        tripwire_triggered=is_pii_in_message)"
   ]
  },
  {
   "cell_type": "code",
   "execution_count": 110,
   "id": "329e3182",
   "metadata": {},
   "outputs": [],
   "source": [
    "@function_tool\n",
    "def send_email(subject: str, body: str) -> Dict[str, str]:\n",
    "    \"\"\" Send out an email with given subject and body to all HR or hiring managers\"\"\"\n",
    "    sg = sendgrid.SendGridAPIClient(api_key=os.getenv(\"SENDGRID_API_KEY\"))\n",
    "    from_email = Email(\"gaulbi@gmail.com\")\n",
    "    to_email = To(\"gaulbi@gmail.com\")\n",
    "    content = Content(\"text/plain\", body)\n",
    "    mail = Mail(from_email=from_email, to_emails=to_email, subject=subject, plain_text_content=content).get()\n",
    "    response = sg.client.mail.send.post(request_body=mail)\n",
    "    \n",
    "    return {\"status\": response.status_code}\n",
    "\n",
    "create_email_instruction = \"\"\"You are a head hunter agent working for a client who is looking a job.\n",
    "Your client is a senior level sotware engineer and looking for principle or director level poisition.\n",
    "You write professional, serious cold emails based on summarized client's resume.\n",
    "When you write email, do not include any client PII (including, but not limited to name, address, email address, phone number.).\n",
    "Explanation of the client professional experience in email should be accurate and appeals to HR or hiring manager. \n",
    "\n",
    "##Resume\\n{resume}\\n\n",
    "\"\"\"\n",
    "\n",
    "email_sendor = Agent(\n",
    "    name=\"Email Generator\",\n",
    "    instructions=create_email_instruction,\n",
    "    model=\"gpt-4o-mini\",\n",
    "    tools=[send_email],\n",
    "    output_guardrails=[guardrail_against_pii]\n",
    ")"
   ]
  },
  {
   "cell_type": "code",
   "execution_count": 111,
   "id": "3a877b61",
   "metadata": {},
   "outputs": [],
   "source": [
    "head_hunter_manager_instruction = \"\"\"\n",
    "You are a Job Head Hunter Manager. \n",
    "\n",
    "Follow below steps carfully.\n",
    "1. call resume_summary_manager agent to get the best summarized resume version. Call resume_summary_manager tool only one time.\n",
    "2. When step 1 is completed, generate summary bsaed on the summarized resume\n",
    "3. when step 2 is completed, call email_sendor agent and pass the subject and summaried resume\n",
    "\"\"\"\n",
    "\n",
    "head_hunter_manager = Agent(\n",
    "    name=\"Head Hunter Manager\",\n",
    "    instructions=head_hunter_manager_instruction,\n",
    "    tools=[resume_summary_manager_tool, read_resume],\n",
    "    model=\"gpt-4o-mini\",\n",
    "    handoffs=[email_sendor]\n",
    ")"
   ]
  },
  {
   "cell_type": "code",
   "execution_count": 112,
   "id": "a7a9b0f1",
   "metadata": {},
   "outputs": [
    {
     "name": "stderr",
     "output_type": "stream",
     "text": [
      "Ignoring wrong pointing object 8 0 (offset 0)\n",
      "Ignoring wrong pointing object 13 0 (offset 0)\n",
      "Ignoring wrong pointing object 22 0 (offset 0)\n",
      "Ignoring wrong pointing object 92 0 (offset 0)\n",
      "Ignoring wrong pointing object 93 0 (offset 0)\n"
     ]
    }
   ],
   "source": [
    "message = \"Summarize client resume and send email \"\n",
    "with trace(\"Automated Job Head Hunter\"):\n",
    "    result = await Runner.run(head_hunter_manager, message)"
   ]
  }
 ],
 "metadata": {
  "kernelspec": {
   "display_name": ".venv",
   "language": "python",
   "name": "python3"
  },
  "language_info": {
   "codemirror_mode": {
    "name": "ipython",
    "version": 3
   },
   "file_extension": ".py",
   "mimetype": "text/x-python",
   "name": "python",
   "nbconvert_exporter": "python",
   "pygments_lexer": "ipython3",
   "version": "3.12.11"
  }
 },
 "nbformat": 4,
 "nbformat_minor": 5
}
