{
 "cells": [
  {
   "cell_type": "code",
   "execution_count": null,
   "id": "2f9a9a45",
   "metadata": {},
   "outputs": [],
   "source": [
    "# The imports\n",
    "\n",
    "from dotenv import load_dotenv\n",
    "from agents import Agent, Runner, trace\n"
   ]
  },
  {
   "cell_type": "code",
   "execution_count": null,
   "id": "e8ca671e",
   "metadata": {},
   "outputs": [],
   "source": [
    "# The usual starting point\n",
    "\n",
    "load_dotenv(override=True)"
   ]
  },
  {
   "cell_type": "code",
   "execution_count": null,
   "id": "3f3a8b28",
   "metadata": {},
   "outputs": [],
   "source": [
    "agent = Agent(name=\"Assistant\", instructions=\"You are a helpful assistant\", model=\"gpt-4.1-mini-2025-04-14\")\n",
    "with trace(\"Hello world!\"):\n",
    "    result = await Runner.run(agent, \"Hi, My name is Anh Dang\")\n",
    "    print(result.final_output)\n",
    "    result = await Runner.run(agent, \"What's my name\")\n",
    "    print(result.final_output)"
   ]
  }
 ],
 "metadata": {
  "kernelspec": {
   "display_name": ".venv",
   "language": "python",
   "name": "python3"
  },
  "language_info": {
   "codemirror_mode": {
    "name": "ipython",
    "version": 3
   },
   "file_extension": ".py",
   "mimetype": "text/x-python",
   "name": "python",
   "nbconvert_exporter": "python",
   "pygments_lexer": "ipython3",
   "version": "3.12.11"
  }
 },
 "nbformat": 4,
 "nbformat_minor": 5
}
