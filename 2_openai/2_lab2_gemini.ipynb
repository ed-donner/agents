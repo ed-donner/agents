{
  "cells": [
    {
      "cell_type": "markdown",
      "metadata": {},
      "source": [
        "## Week 2 Day 2 - Gemini Version\n",
        "\n",
        "Sales outreach email automation using Gemini API:\n",
        "1. Multiple sales agents with different personalities  \n",
        "2. Agent collaboration and selection\n",
        "3. Email sending functionality\n",
        "\n",
        "**Note:** This is adapted from OpenAI Agents SDK to work with Gemini API\n"
      ]
    },
    {
      "cell_type": "code",
      "execution_count": null,
      "metadata": {},
      "outputs": [],
      "source": [
        "from dotenv import load_dotenv\n",
        "from openai import OpenAI\n",
        "import json\n",
        "import os\n",
        "import asyncio\n",
        "import sendgrid\n",
        "from sendgrid.helpers.mail import Mail, Email, To, Content\n",
        "from typing import Dict, List\n",
        "import time\n"
      ]
    },
    {
      "cell_type": "code",
      "execution_count": null,
      "metadata": {},
      "outputs": [],
      "source": [
        "load_dotenv(override=True)\n",
        "\n",
        "# Setup Gemini client using OpenAI-compatible API\n",
        "gemini = OpenAI(\n",
        "    api_key=os.getenv(\"GOOGLE_API_KEY\"), \n",
        "    base_url=\"https://generativelanguage.googleapis.com/v1beta/openai/\"\n",
        ")\n"
      ]
    }
  ],
  "metadata": {
    "language_info": {
      "name": "python"
    }
  },
  "nbformat": 4,
  "nbformat_minor": 2
}
