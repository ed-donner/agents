{
 "cells": [
  {
   "cell_type": "code",
   "execution_count": 1,
   "metadata": {},
   "outputs": [],
   "source": [
    "from dotenv import load_dotenv\n",
    "from google.adk.agents.llm_agent import Agent\n",
    "from typing import Dict\n",
    "import sendgrid\n",
    "import os\n",
    "from sendgrid.helpers.mail import Mail, Email, To, Content\n",
    "import asyncio\n",
    "from google.adk.tools import agent_tool"
   ]
  },
  {
   "cell_type": "code",
   "execution_count": 2,
   "metadata": {},
   "outputs": [
    {
     "data": {
      "text/plain": [
       "True"
      ]
     },
     "execution_count": 2,
     "metadata": {},
     "output_type": "execute_result"
    }
   ],
   "source": [
    "load_dotenv(override=True)"
   ]
  },
  {
   "cell_type": "code",
   "execution_count": 3,
   "metadata": {},
   "outputs": [],
   "source": [
    "gemini_api_key = os.getenv(\"GEMINI_API_KEY\")\n",
    "gemini_llm_model = os.getenv(\"GEMINI_LLM_MODEL\")"
   ]
  },
  {
   "cell_type": "code",
   "execution_count": 4,
   "metadata": {},
   "outputs": [],
   "source": [
    "instructions1 = \"You are a sales agent working for ComplAI, \\\n",
    "a company that provides a SaaS tool for ensuring SOC2 compliance and preparing for audits, powered by AI. \\\n",
    "You write professional, serious cold emails.\"\n",
    "\n",
    "sales_agent1 = Agent(\n",
    "    name=\"Professional_Sales_Agent\",\n",
    "    model=gemini_llm_model,\n",
    "    description=(\"You write professional, serious cold emails\"),\n",
    "    instruction=(instructions1)\n",
    ")\n",
    "sales_agent1_tool = agent_tool.AgentTool(agent=sales_agent1) # Wrap the agent\n",
    "\n",
    "instructions2 = \"You are a humorous, engaging sales agent working for ComplAI, \\\n",
    "a company that provides a SaaS tool for ensuring SOC2 compliance and preparing for audits, powered by AI. \\\n",
    "You write witty, engaging cold emails that are likely to get a response.\"\n",
    "\n",
    "sales_agent2 = Agent(\n",
    "        name=\"Engaging_Sales_Agent\",\n",
    "        model=gemini_llm_model,\n",
    "        description=(\"You write witty, engaging cold emails that are likely to get a response\"),\n",
    "        instruction=(instructions2)\n",
    ")\n",
    "sales_agent2_tool = agent_tool.AgentTool(agent=sales_agent2) # Wrap the agent\n",
    "\n",
    "instructions3 = \"You are a busy sales agent working for ComplAI, \\\n",
    "a company that provides a SaaS tool for ensuring SOC2 compliance and preparing for audits, powered by AI. \\\n",
    "You write concise, to the point cold emails.\"\n",
    "sales_agent3 = Agent(\n",
    "        name=\"Busy_Sales_Agent\",\n",
    "        model=gemini_llm_model,\n",
    "        description=(\"You write concise, to the point cold emails.\"),\n",
    "        instruction=(instructions3)\n",
    ")\n",
    "sales_agent3_tool = agent_tool.AgentTool(agent=sales_agent3) # Wrap the agent"
   ]
  },
  {
   "cell_type": "code",
   "execution_count": 6,
   "metadata": {},
   "outputs": [],
   "source": [
    "best_email_picker_instructions=\"You pick the best cold sales email from the given options. \\\n",
    "Imagine you are a customer and pick the one you are most likely to respond to. \\\n",
    "Do not give an explanation; reply with the selected email only.\"\n",
    "\n",
    "best_email_picker = Agent(\n",
    "    name=\"sales_picker\",\n",
    "    description=(\"You pick the best cold sales email from a set of provided emails\"),\n",
    "    instruction=(best_email_picker_instructions),\n",
    "    model=gemini_llm_model,\n",
    ")\n",
    "\n",
    "best_email_picker_agent_tool = agent_tool.AgentTool(agent=best_email_picker)\n"
   ]
  },
  {
   "cell_type": "code",
   "execution_count": 7,
   "metadata": {},
   "outputs": [],
   "source": [
    "subject_instructions = \"You can write a subject for a cold sales email. \\\n",
    "You are given a message and you need to write a subject for an email that is likely to get a response.\"\n",
    "\n",
    "subject_writer = Agent(\n",
    "    name=\"Email_subject_writer\", \n",
    "    description=(\"You write the subject of the email based on the email body provided\"),\n",
    "    instruction=(subject_instructions), \n",
    "    model=gemini_llm_model\n",
    "    )\n",
    "\n",
    "subject_writer_agent_tool = agent_tool.AgentTool(agent=subject_writer)"
   ]
  },
  {
   "cell_type": "code",
   "execution_count": 8,
   "metadata": {},
   "outputs": [],
   "source": [
    "html_instructions = \"You can convert a text email body to an HTML email body. \\\n",
    "You are given a text email body which might have some markdown \\\n",
    "and you need to convert it to an HTML email body with simple, clear, compelling layout and design.\"\n",
    "\n",
    "html_converter = Agent(\n",
    "    name=\"HTML_email_body_converter\", \n",
    "    description=(\"You convert the email into HTML format\"),\n",
    "    instruction=(html_instructions), \n",
    "    model=gemini_llm_model\n",
    "    )\n",
    "\n",
    "html_converter_agent_tool = agent_tool.AgentTool(agent=html_converter)\n"
   ]
  },
  {
   "cell_type": "code",
   "execution_count": 9,
   "metadata": {},
   "outputs": [],
   "source": [
    "def send_html_email(subject: str, html_body: str) -> Dict[str, str]:\n",
    "    \"\"\" Send out an email with the given subject and HTML body to all sales prospects \"\"\"\n",
    "    sg = sendgrid.SendGridAPIClient(api_key=os.environ.get('SENDGRID_API_KEY'))\n",
    "    from_email = os.getenv(\"FROM_EMAIL\")\n",
    "    to_email = os.getenv(\"TO_EMAIL\")\n",
    "    from_email = Email(from_email)  # Change to your verified sender\n",
    "    to_email = To(to_email)  # Change to your recipient\n",
    "    content = Content(\"text/html\", html_body)\n",
    "    mail = Mail(from_email, to_email, subject, content).get()\n",
    "    sg.client.mail.send.post(request_body=mail)\n",
    "    return {\"status\": \"success\"}"
   ]
  },
  {
   "cell_type": "code",
   "execution_count": 10,
   "metadata": {},
   "outputs": [
    {
     "data": {
      "text/plain": [
       "[<google.adk.tools.agent_tool.AgentTool at 0x164176d20>,\n",
       " <google.adk.tools.agent_tool.AgentTool at 0x1641747d0>,\n",
       " <google.adk.tools.agent_tool.AgentTool at 0x1641769f0>,\n",
       " <google.adk.tools.agent_tool.AgentTool at 0x164322d20>,\n",
       " <google.adk.tools.agent_tool.AgentTool at 0x164321160>,\n",
       " <google.adk.tools.agent_tool.AgentTool at 0x164322bd0>,\n",
       " <function __main__.send_html_email(subject: str, html_body: str) -> Dict[str, str]>]"
      ]
     },
     "execution_count": 10,
     "metadata": {},
     "output_type": "execute_result"
    }
   ],
   "source": [
    "tools = [\n",
    "    sales_agent1_tool, \n",
    "    sales_agent2_tool, \n",
    "    sales_agent3_tool, \n",
    "    best_email_picker_agent_tool,\n",
    "    subject_writer_agent_tool,\n",
    "    html_converter_agent_tool,\n",
    "    send_html_email]\n",
    "\n",
    "tools"
   ]
  },
  {
   "cell_type": "code",
   "execution_count": 11,
   "metadata": {},
   "outputs": [],
   "source": [
    "# Improved instructions thanks to student Guillermo F.\n",
    "\n",
    "sales_manager_instructions = \"\"\"\n",
    "You are a Sales Manager at ComplAI. Your goal is to find the single best cold sales email using the sales_agent tools.\n",
    " \n",
    "Follow these steps carefully:\n",
    "1. Generate Drafts: Use all three sales_agent tools to generate three different email drafts. Do not proceed until all three drafts are ready.\n",
    " \n",
    "2. Evaluate and Select: Use the email_picker_agent_tool to Review the drafts and choose the single best email using your judgment of which one is most effective.\n",
    "\n",
    "3. Create the subject line: Use the subject_writer_agent_tool to write the subject of the email chosen.\n",
    "\n",
    "4. Convert to html email format: Use the html_converter_agent_tool to convert the email to html format\n",
    " \n",
    "5. Use the send_html_email tool to send the best email (and only the best email) to the user.\n",
    " \n",
    "Crucial Rules:\n",
    "- You must use the sales agent tools to generate the drafts — do not write them yourself.\n",
    "- You must send ONE email using the send_email tool — never more than one.\n",
    "\"\"\"\n",
    "\n",
    "sales_manager = Agent(\n",
    "    name=\"Sales_Manager\", \n",
    "    instruction=(sales_manager_instructions), \n",
    "    description=(\"Your goal is to find the single best cold sales email using the sales_agent tools, pick the best email, get the subject of the email, convert to html format and send the email\"),\n",
    "    tools=tools, \n",
    "    model=gemini_llm_model,\n",
    "    )"
   ]
  },
  {
   "cell_type": "code",
   "execution_count": 12,
   "metadata": {},
   "outputs": [
    {
     "name": "stdout",
     "output_type": "stream",
     "text": [
      "Session created: App='Cold_Email_App', User='user_1', Session='session_001'\n"
     ]
    }
   ],
   "source": [
    "from google.adk.sessions import InMemorySessionService\n",
    "from google.adk.runners import Runner\n",
    "\n",
    "session_service = InMemorySessionService()\n",
    "APP_NAME = \"Cold_Email_App\"\n",
    "USER_ID = \"user_1\"\n",
    "SESSION_ID = \"session_001\" # Using a fixed ID for simplicity\n",
    "\n",
    "# Create the specific session where the conversation will happen\n",
    "session = await session_service.create_session(\n",
    "    app_name=APP_NAME,\n",
    "    user_id=USER_ID,\n",
    "    session_id=SESSION_ID\n",
    ")\n",
    "print(f\"Session created: App='{APP_NAME}', User='{USER_ID}', Session='{SESSION_ID}'\")"
   ]
  },
  {
   "cell_type": "code",
   "execution_count": 13,
   "metadata": {},
   "outputs": [
    {
     "name": "stdout",
     "output_type": "stream",
     "text": [
      "Runner created for agent 'Sales_Manager'.\n"
     ]
    }
   ],
   "source": [
    "# --- Runner ---\n",
    "# Key Concept: Runner orchestrates the agent execution loop.\n",
    "runner = Runner(\n",
    "    agent=sales_manager, # The agent we want to run\n",
    "    app_name=APP_NAME,   # Associates runs with our app\n",
    "    session_service=session_service # Uses our session manager\n",
    ")\n",
    "print(f\"Runner created for agent '{runner.agent.name}'.\")"
   ]
  },
  {
   "cell_type": "code",
   "execution_count": 14,
   "metadata": {},
   "outputs": [],
   "source": [
    "# @title Define Agent Interaction Function\n",
    "\n",
    "from google.genai import types # For creating message Content/Parts\n",
    "\n",
    "async def call_agent_async(query: str, runner, user_id, session_id):\n",
    "  \"\"\"Sends a query to the agent and prints the final response.\"\"\"\n",
    "  print(f\"\\n>>> User Query: {query}\")\n",
    "\n",
    "  # Prepare the user's message in ADK format\n",
    "  content = types.Content(role='user', parts=[types.Part(text=query)])\n",
    "\n",
    "  final_response_text = \"Agent did not produce a final response.\" # Default\n",
    "\n",
    "  # Key Concept: run_async executes the agent logic and yields Events.\n",
    "  # We iterate through events to find the final answer.\n",
    "  async for event in runner.run_async(user_id=user_id, session_id=session_id, new_message=content):\n",
    "      # You can uncomment the line below to see *all* events during execution\n",
    "      print(f\"  [Event] Author: {event.author}, Type: {type(event).__name__}, Final: {event.is_final_response()}, Content: {event.content}\")\n",
    "\n",
    "      # Key Concept: is_final_response() marks the concluding message for the turn.\n",
    "      if event.is_final_response():\n",
    "          if event.content and event.content.parts:\n",
    "             # Assuming text response in the first part\n",
    "             final_response_text = event.content.parts[0].text\n",
    "          elif event.actions and event.actions.escalate: # Handle potential errors/escalations\n",
    "             final_response_text = f\"Agent escalated: {event.error_message or 'No specific message.'}\"\n",
    "          # Add more checks here if needed (e.g., specific error codes)\n",
    "          break # Stop processing events once the final response is found\n",
    "\n",
    "  print(f\"<<< Agent Response: {final_response_text}\")"
   ]
  },
  {
   "cell_type": "code",
   "execution_count": 15,
   "metadata": {},
   "outputs": [],
   "source": [
    "async def run_conversation():\n",
    "    message = \"Send out a cold sales email addressed to Dear CEO from Alice\"\n",
    "    await call_agent_async(\n",
    "        message,\n",
    "        runner=runner,\n",
    "        user_id=USER_ID,\n",
    "        session_id=SESSION_ID\n",
    "        )"
   ]
  },
  {
   "cell_type": "code",
   "execution_count": 16,
   "metadata": {},
   "outputs": [
    {
     "name": "stderr",
     "output_type": "stream",
     "text": [
      "Both GOOGLE_API_KEY and GEMINI_API_KEY are set. Using GOOGLE_API_KEY.\n"
     ]
    },
    {
     "name": "stdout",
     "output_type": "stream",
     "text": [
      "\n",
      ">>> User Query: Send out a cold sales email addressed to Dear CEO from Alice\n"
     ]
    },
    {
     "name": "stderr",
     "output_type": "stream",
     "text": [
      "Warning: there are non-text parts in the response: ['thought_signature', 'function_call', 'function_call', 'function_call'], returning concatenated text result from text parts. Check the full candidates.content.parts accessor to get the full model response.\n",
      "Both GOOGLE_API_KEY and GEMINI_API_KEY are set. Using GOOGLE_API_KEY.\n",
      "Both GOOGLE_API_KEY and GEMINI_API_KEY are set. Using GOOGLE_API_KEY.\n",
      "Both GOOGLE_API_KEY and GEMINI_API_KEY are set. Using GOOGLE_API_KEY.\n"
     ]
    },
    {
     "name": "stdout",
     "output_type": "stream",
     "text": [
      "  [Event] Author: Sales_Manager, Type: Event, Final: False, Content: parts=[Part(\n",
      "  function_call=FunctionCall(\n",
      "    args={\n",
      "      'request': 'cold sales email addressed to Dear CEO from Alice'\n",
      "    },\n",
      "    id='adk-5e17dc13-fa5a-49ee-bfe2-830c6dce73cd',\n",
      "    name='Professional_Sales_Agent'\n",
      "  ),\n",
      "  thought_signature=b'\\n\\xf3\\x05\\x01T\\xa8\\\\\\xee0\\xd1Z\\x94~>\\xab(\\xb0A6\\x8ehoh\\xb3^v\\xa7r\\xb7\\xcf\\x97B0\\x90\\x05u\\xa5\\x89z\\xb2\\x01\\xf5TW\\xfa\\xad0\\xcaX\\xaf\\x1c\\xce\\xeb\\x85\\x191\\n\\x8d\\x85\\xe8\\r\\x82( g\\x19\\x01\\xe9@\\xb0\\xa8\\xa1\\x91l X\\xe6u\\xe3G4b&A\\xf8Y\\x9a\\t5\\t\\xa3}\\xde\\x8abD\\xab...'\n",
      "), Part(\n",
      "  function_call=FunctionCall(\n",
      "    args={\n",
      "      'request': 'cold sales email addressed to Dear CEO from Alice'\n",
      "    },\n",
      "    id='adk-2e9ab01f-37b5-402a-a8ea-22271c10128a',\n",
      "    name='Engaging_Sales_Agent'\n",
      "  )\n",
      "), Part(\n",
      "  function_call=FunctionCall(\n",
      "    args={\n",
      "      'request': 'cold sales email addressed to Dear CEO from Alice'\n",
      "    },\n",
      "    id='adk-d991e632-e546-49d4-a09d-92869b13c11e',\n",
      "    name='Busy_Sales_Agent'\n",
      "  )\n",
      ")] role='model'\n"
     ]
    },
    {
     "name": "stderr",
     "output_type": "stream",
     "text": [
      "Both GOOGLE_API_KEY and GEMINI_API_KEY are set. Using GOOGLE_API_KEY.\n"
     ]
    },
    {
     "name": "stdout",
     "output_type": "stream",
     "text": [
      "  [Event] Author: Sales_Manager, Type: Event, Final: False, Content: parts=[Part(\n",
      "  function_response=FunctionResponse(\n",
      "    id='adk-5e17dc13-fa5a-49ee-bfe2-830c6dce73cd',\n",
      "    name='Professional_Sales_Agent',\n",
      "    response={\n",
      "      'result': \"\"\"Subject: Proactive SOC 2 Compliance Management\n",
      "\n",
      "Dear CEO,\n",
      "\n",
      "My name is Alice, and I am reaching out from ComplAI. I understand that managing critical aspects of business operations, such as security compliance, often consumes significant executive attention and resources.\n",
      "\n",
      "In today's landscape, achieving and maintaining SOC 2 compliance is not just a regulatory hurdle, but a fundamental pillar of trust and growth, especially for organizations handling sensitive data. However, the process is notoriously complex, time-consuming, and prone to last-minute challenges during audits.\n",
      "\n",
      "ComplAI offers an innovative SaaS solution designed to fundamentally transform how organizations approach SOC 2 compliance. Leveraging advanced AI, our platform provides continuous monitoring, automates evidence collection, identifies compliance gaps proactively, and streamlines the entire audit preparation process. This allows your team to achieve and maintain compliance with greater efficiency and less stress, freeing up valuable internal resources.\n",
      "\n",
      "Our objective is to empower leaders like yourself with a clear, always-on view of your compliance posture, ensuring you are consistently audit-ready and can demonstrate robust security controls to your clients and partners.\n",
      "\n",
      "I would appreciate the opportunity for a brief, 15-minute conversation to explore how ComplAI could specifically benefit your organization. Please let me know if there is a convenient time for you next week.\n",
      "\n",
      "Sincerely,\n",
      "\n",
      "Alice\n",
      "[Your Title, e.g., Senior Account Executive]\n",
      "ComplAI\n",
      "[Your Website]\"\"\"\n",
      "    }\n",
      "  )\n",
      "), Part(\n",
      "  function_response=FunctionResponse(\n",
      "    id='adk-2e9ab01f-37b5-402a-a8ea-22271c10128a',\n",
      "    name='Engaging_Sales_Agent',\n",
      "    response={\n",
      "      'result': \"\"\"Subject: Ever Wish SOC2 Could Just... Do Itself? (We're Close!)\n",
      "\n",
      "Dear CEO,\n",
      "\n",
      "Let's be honest. \"SOC2 compliance\" often feels less like a strategic imperative and more like an annual root canal – necessary, but deeply unpleasant. Hours disappear, resources get stretched, and the thought of the *next* audit looms like a particularly grumpy cloud.\n",
      "\n",
      "What if I told you there's an AI-powered co-pilot that makes preparing for and passing your SOC2 audit as painless as, well, *not* having a root canal?\n",
      "\n",
      "That's where ComplAI comes in. We've built an intelligent SaaS tool that literally takes the mind-numbing complexity out of SOC2 compliance and audit readiness. Our AI works tirelessly in the background, organizing, documenting, and ensuring everything is in tip-top shape, so your team can focus on what actually moves your business forward.\n",
      "\n",
      "Imagine reclaiming hundreds of hours, reducing stress levels, and impressing your auditor with pristine, AI-generated evidence. More importantly, imagine the peace of mind knowing you're secure and compliant, without the usual headaches.\n",
      "\n",
      "Would you be open to a super quick (15-minute!) chat to see how ComplAI could transform your compliance journey from a nightmare into... well, a non-nightmare?\n",
      "\n",
      "Best,\n",
      "\n",
      "Alice\n",
      "Your Friendly Compliance Whisperer at ComplAI\n",
      "(Making SOC2 less soul-crushing, one AI at a time)\"\"\"\n",
      "    }\n",
      "  )\n",
      "), Part(\n",
      "  function_response=FunctionResponse(\n",
      "    id='adk-d991e632-e546-49d4-a09d-92869b13c11e',\n",
      "    name='Busy_Sales_Agent',\n",
      "    response={\n",
      "      'result': \"\"\"Subject: Your SOC2 Audit: Simplified.\n",
      "\n",
      "Dear CEO,\n",
      "\n",
      "I know your time is valuable.\n",
      "\n",
      "Is your team spending too much time on SOC2 compliance and audit preparation? ComplAI uses AI to streamline this process, making you audit-ready faster and with less effort.\n",
      "\n",
      "We help companies like yours save significant time and resources.\n",
      "\n",
      "Would you be open to a quick 15-minute call to see how?\n",
      "\n",
      "Best,\n",
      "\n",
      "Alice\n",
      "ComplAI\"\"\"\n",
      "    }\n",
      "  )\n",
      ")] role='user'\n"
     ]
    },
    {
     "name": "stderr",
     "output_type": "stream",
     "text": [
      "Warning: there are non-text parts in the response: ['thought_signature', 'function_call'], returning concatenated text result from text parts. Check the full candidates.content.parts accessor to get the full model response.\n",
      "Both GOOGLE_API_KEY and GEMINI_API_KEY are set. Using GOOGLE_API_KEY.\n"
     ]
    },
    {
     "name": "stdout",
     "output_type": "stream",
     "text": [
      "  [Event] Author: Sales_Manager, Type: Event, Final: False, Content: parts=[Part(\n",
      "  function_call=FunctionCall(\n",
      "    args={\n",
      "      'request': \"\"\"Draft 1 (Professional):\n",
      "Subject: Proactive SOC 2 Compliance Management\n",
      "\n",
      "Dear CEO,\n",
      "\n",
      "My name is Alice, and I am reaching out from ComplAI. I understand that managing critical aspects of business operations, such as security compliance, often consumes significant executive attention and resources.\n",
      "\n",
      "In today's landscape, achieving and maintaining SOC 2 compliance is not just a regulatory hurdle, but a fundamental pillar of trust and growth, especially for organizations handling sensitive data. However, the process is notoriously complex, time-consuming, and prone to last-minute challenges during audits.\n",
      "\n",
      "ComplAI offers an innovative SaaS solution designed to fundamentally transform how organizations approach SOC 2 compliance. Leveraging advanced AI, our platform provides continuous monitoring, automates evidence collection, identifies compliance gaps proactively, and streamlines the entire audit preparation process. This allows your team to achieve and maintain compliance with greater efficiency and less stress, freeing up valuable internal resources.\n",
      "\n",
      "Our objective is to empower leaders like yourself with a clear, always-on view of your compliance posture, ensuring you are consistently audit-ready and can demonstrate robust security controls to your clients and partners.\n",
      "\n",
      "I would appreciate the opportunity for a brief, 15-minute conversation to explore how ComplAI could specifically benefit your organization. Please let me know if there is a convenient time for you next week.\n",
      "\n",
      "Sincerely,\n",
      "\n",
      "Alice\n",
      "[Your Title, e.g., Senior Account Executive]\n",
      "ComplAI\n",
      "[Your Website]\n",
      "\n",
      "---\n",
      "\n",
      "Draft 2 (Engaging):\n",
      "Subject: Ever Wish SOC2 Could Just... Do Itself? (We're Close!)\n",
      "\n",
      "Dear CEO,\n",
      "\n",
      "Let's be honest. \"SOC2 compliance\" often feels less like a strategic imperative and more like an annual root canal – necessary, but deeply unpleasant. Hours disappear, resources get stretched, and the thought of the *next* audit looms like a particularly grumpy cloud.\n",
      "\n",
      "What if I told you there's an AI-powered co-pilot that makes preparing for and passing your SOC2 audit as painless as, well, *not* having a root canal?\n",
      "\n",
      "That's where ComplAI comes in. We've built an intelligent SaaS tool that literally takes the mind-numbing complexity out of SOC2 compliance and audit readiness. Our AI works tirelessly in the background, organizing, documenting, and ensuring everything is in tip-top shape, so your team can focus on what actually moves your business forward.\n",
      "\n",
      "Imagine reclaiming hundreds of hours, reducing stress levels, and impressing your auditor with pristine, AI-generated evidence. More importantly, imagine the peace of mind knowing you're secure and compliant, without the usual headaches.\n",
      "\n",
      "Would you be open to a super quick (15-minute!) chat to see how ComplAI could transform your compliance journey from a nightmare into... well, a non-nightmare?\n",
      "\n",
      "Best,\n",
      "\n",
      "Alice\n",
      "Your Friendly Compliance Whisperer at ComplAI\n",
      "(Making SOC2 less soul-crushing, one AI at a time)\n",
      "\n",
      "---\n",
      "\n",
      "Draft 3 (Busy):\n",
      "Subject: Your SOC2 Audit: Simplified.\n",
      "\n",
      "Dear CEO,\n",
      "\n",
      "I know your time is valuable.\n",
      "\n",
      "Is your team spending too much time on SOC2 compliance and audit preparation? ComplAI uses AI to streamline this process, making you audit-ready faster and with less effort.\n",
      "\n",
      "We help companies like yours save significant time and resources.\n",
      "\n",
      "Would you be open to a quick 15-minute call to see how?\n",
      "\n",
      "Best,\n",
      "\n",
      "Alice\n",
      "ComplAI\"\"\"\n",
      "    },\n",
      "    id='adk-eaf362aa-1db5-4b2c-be84-38e2bb0c1711',\n",
      "    name='sales_picker'\n",
      "  ),\n",
      "  thought_signature=b'\\n\\xe9\\x01\\x01T\\xa8\\\\\\xee\\x0eo\\xbc\\xb0\\x19\\xbefO\\xf3C\\xbd;R\\x99\\xfb\\xeb=\\x11\"\\xea\\t\\xf7W\\xb2\\x1e\\xfc\\x86x\\xcb\\x1b\\xff\\xf6\\xc9\\x99\\xf5\\x9afR\\xb8\\xc0\\xb7\\xcd2\\xb8)/\\xc7\\xda/\\xd1\\x94\\xfd\\x9a\\xb3\\xfe\\x15\\x14\\xf3\\x16\\xb8\\x82\\x1fH#j\\xbb\\xf0\\xfc,Dg;]D\\x91\\x05_\\x0b{\\xec\\xd7\\xb8\\x9f\\x10\\xa7\\xdc\\x852>...'\n",
      ")] role='model'\n"
     ]
    },
    {
     "name": "stderr",
     "output_type": "stream",
     "text": [
      "Both GOOGLE_API_KEY and GEMINI_API_KEY are set. Using GOOGLE_API_KEY.\n"
     ]
    },
    {
     "name": "stdout",
     "output_type": "stream",
     "text": [
      "  [Event] Author: Sales_Manager, Type: Event, Final: False, Content: parts=[Part(\n",
      "  function_response=FunctionResponse(\n",
      "    id='adk-eaf362aa-1db5-4b2c-be84-38e2bb0c1711',\n",
      "    name='sales_picker',\n",
      "    response={\n",
      "      'result': \"\"\"Subject: Ever Wish SOC2 Could Just... Do Itself? (We're Close!)\n",
      "\n",
      "Dear CEO,\n",
      "\n",
      "Let's be honest. \"SOC2 compliance\" often feels less like a strategic imperative and more like an annual root canal – necessary, but deeply unpleasant. Hours disappear, resources get stretched, and the thought of the *next* audit looms like a particularly grumpy cloud.\n",
      "\n",
      "What if I told you there's an AI-powered co-pilot that makes preparing for and passing your SOC2 audit as painless as, well, *not* having a root canal?\n",
      "\n",
      "That's where ComplAI comes in. We've built an intelligent SaaS tool that literally takes the mind-numbing complexity out of SOC2 compliance and audit readiness. Our AI works tirelessly in the background, organizing, documenting, and ensuring everything is in tip-top shape, so your team can focus on what actually moves your business forward.\n",
      "\n",
      "Imagine reclaiming hundreds of hours, reducing stress levels, and impressing your auditor with pristine, AI-generated evidence. More importantly, imagine the peace of mind knowing you're secure and compliant, without the usual headaches.\n",
      "\n",
      "Would you be open to a super quick (15-minute!) chat to see how ComplAI could transform your compliance journey from a nightmare into... well, a non-nightmare?\n",
      "\n",
      "Best,\n",
      "\n",
      "Alice\n",
      "Your Friendly Compliance Whisperer at ComplAI\n",
      "(Making SOC2 less soul-crushing, one AI at a time)\"\"\"\n",
      "    }\n",
      "  )\n",
      ")] role='user'\n"
     ]
    },
    {
     "name": "stderr",
     "output_type": "stream",
     "text": [
      "Warning: there are non-text parts in the response: ['thought_signature', 'function_call'], returning concatenated text result from text parts. Check the full candidates.content.parts accessor to get the full model response.\n",
      "Both GOOGLE_API_KEY and GEMINI_API_KEY are set. Using GOOGLE_API_KEY.\n"
     ]
    },
    {
     "name": "stdout",
     "output_type": "stream",
     "text": [
      "  [Event] Author: Sales_Manager, Type: Event, Final: False, Content: parts=[Part(\n",
      "  function_call=FunctionCall(\n",
      "    args={\n",
      "      'request': \"\"\"Dear CEO,\n",
      "\n",
      "Let's be honest. \"SOC2 compliance\" often feels less like a strategic imperative and more like an annual root canal – necessary, but deeply unpleasant. Hours disappear, resources get stretched, and the thought of the *next* audit looms like a particularly grumpy cloud.\n",
      "\n",
      "What if I told you there's an AI-powered co-pilot that makes preparing for and passing your SOC2 audit as painless as, well, *not* having a root canal?\n",
      "\n",
      "That's where ComplAI comes in. We've built an intelligent SaaS tool that literally takes the mind-numbing complexity out of SOC2 compliance and audit readiness. Our AI works tirelessly in the background, organizing, documenting, and ensuring everything is in tip-top shape, so your team can focus on what actually moves your business forward.\n",
      "\n",
      "Imagine reclaiming hundreds of hours, reducing stress levels, and impressing your auditor with pristine, AI-generated evidence. More importantly, imagine the peace of mind knowing you're secure and compliant, without the usual headaches.\n",
      "\n",
      "Would you be open to a super quick (15-minute!) chat to see how ComplAI could transform your compliance journey from a nightmare into... well, a non-nightmare?\n",
      "\n",
      "Best,\n",
      "\n",
      "Alice\n",
      "Your Friendly Compliance Whisperer at ComplAI\n",
      "(Making SOC2 less soul-crushing, one AI at a time)\"\"\"\n",
      "    },\n",
      "    id='adk-230190e2-c48f-465b-bf35-87c8ca9bfa12',\n",
      "    name='Email_subject_writer'\n",
      "  ),\n",
      "  thought_signature=b'\\n\\xb5\\x0e\\x01T\\xa8\\\\\\xee<\\xe4:\\xce\\xe6\\xc9\\x87\\x9f!\\xd16\\x8eD\\n\\x15a\\xde\\xb9\\x0e2/\\xcf\\x86\\xd4\\x06u\\x03LZ\\xa0\\xe0\\xc8E\\xe7*v\\xc8\\x91\\xec\\xb6\\xd9\\x8f)\\xb9\\xee\\x84\\x8b\\xb8\\xb4\\r8+\\x85k\\x87\\x87x\\xf2\\xa5vX\\xd4*p1\\xbe\\xf8\\x9f<\\xb6\\xc2\\xfd\\x14o\\xeb-\\xd0\\xbf33\\xaf\\x01\\x82\\xec\\x80\\x13>*p...'\n",
      ")] role='model'\n"
     ]
    },
    {
     "name": "stderr",
     "output_type": "stream",
     "text": [
      "Both GOOGLE_API_KEY and GEMINI_API_KEY are set. Using GOOGLE_API_KEY.\n"
     ]
    },
    {
     "name": "stdout",
     "output_type": "stream",
     "text": [
      "  [Event] Author: Sales_Manager, Type: Event, Final: False, Content: parts=[Part(\n",
      "  function_response=FunctionResponse(\n",
      "    id='adk-230190e2-c48f-465b-bf35-87c8ca9bfa12',\n",
      "    name='Email_subject_writer',\n",
      "    response={\n",
      "      'result': \"SOC2 Compliance: Ditch the 'Root Canal' with AI?\"\n",
      "    }\n",
      "  )\n",
      ")] role='user'\n"
     ]
    },
    {
     "name": "stderr",
     "output_type": "stream",
     "text": [
      "Warning: there are non-text parts in the response: ['thought_signature', 'function_call'], returning concatenated text result from text parts. Check the full candidates.content.parts accessor to get the full model response.\n",
      "Both GOOGLE_API_KEY and GEMINI_API_KEY are set. Using GOOGLE_API_KEY.\n"
     ]
    },
    {
     "name": "stdout",
     "output_type": "stream",
     "text": [
      "  [Event] Author: Sales_Manager, Type: Event, Final: False, Content: parts=[Part(\n",
      "  function_call=FunctionCall(\n",
      "    args={\n",
      "      'request': \"\"\"Dear CEO,\n",
      "\n",
      "Let's be honest. \"SOC2 compliance\" often feels less like a strategic imperative and more like an annual root canal – necessary, but deeply unpleasant. Hours disappear, resources get stretched, and the thought of the *next* audit looms like a particularly grumpy cloud.\n",
      "\n",
      "What if I told you there's an AI-powered co-pilot that makes preparing for and passing your SOC2 audit as painless as, well, *not* having a root canal?\n",
      "\n",
      "That's where ComplAI comes in. We've built an intelligent SaaS tool that literally takes the mind-numbing complexity out of SOC2 compliance and audit readiness. Our AI works tirelessly in the background, organizing, documenting, and ensuring everything is in tip-top shape, so your team can focus on what actually moves your business forward.\n",
      "\n",
      "Imagine reclaiming hundreds of hours, reducing stress levels, and impressing your auditor with pristine, AI-generated evidence. More importantly, imagine the peace of mind knowing you're secure and compliant, without the usual headaches.\n",
      "\n",
      "Would you be open to a super quick (15-minute!) chat to see how ComplAI could transform your compliance journey from a nightmare into... well, a non-nightmare?\n",
      "\n",
      "Best,\n",
      "\n",
      "Alice\n",
      "Your Friendly Compliance Whisperer at ComplAI\n",
      "(Making SOC2 less soul-crushing, one AI at a time)\"\"\"\n",
      "    },\n",
      "    id='adk-22fb5dff-a68e-426d-8b73-c2d19532cd08',\n",
      "    name='HTML_email_body_converter'\n",
      "  ),\n",
      "  thought_signature=b'\\n\\xed\\x0c\\x01T\\xa8\\\\\\xeeEb^l\\x0b\\xa8giC\\xcd\\xf1\\x88\\xd4\\x97\\xc1\\xe8d1\\x12;&$X[\\xcc\\x08\\xa2\\x9f6\\xb4\\x0ee\\xdd\\xbf\\xe1F$\\x18\\xe3G2 \\x90Xj\\x9d\\xbd.HgRo1\\xac\\xe6\\xec\\x04\\x9d\\xab\\xdb\\x92\\xb7\\xd4\\x92!\\xc22C\\x8f\\xe8\\xaa\\xb56\\xdc\\xfd\\xee\\xc4Gj\\xacr)\\xf6\\xb7\\x8bG\\x90t\\xe4...'\n",
      ")] role='model'\n"
     ]
    },
    {
     "name": "stderr",
     "output_type": "stream",
     "text": [
      "Both GOOGLE_API_KEY and GEMINI_API_KEY are set. Using GOOGLE_API_KEY.\n"
     ]
    },
    {
     "name": "stdout",
     "output_type": "stream",
     "text": [
      "  [Event] Author: Sales_Manager, Type: Event, Final: False, Content: parts=[Part(\n",
      "  function_response=FunctionResponse(\n",
      "    id='adk-22fb5dff-a68e-426d-8b73-c2d19532cd08',\n",
      "    name='HTML_email_body_converter',\n",
      "    response={\n",
      "      'result': \"\"\"```html\n",
      "<!DOCTYPE html>\n",
      "<html>\n",
      "<head>\n",
      "<meta charset=\"utf-8\">\n",
      "<meta http-equiv=\"X-UA-Compatible\" content=\"IE=edge\">\n",
      "<meta name=\"viewport\" content=\"width=device-width, initial-scale=1.0\">\n",
      "<title>ComplAI - Your SOC2 Co-pilot</title>\n",
      "<style type=\"text/css\">\n",
      "  body {\n",
      "    margin: 0;\n",
      "    padding: 0;\n",
      "    background-color: #f6f6f6;\n",
      "    font-family: Arial, sans-serif;\n",
      "    line-height: 1.6;\n",
      "    color: #333333;\n",
      "  }\n",
      "  .container {\n",
      "    max-width: 600px;\n",
      "    margin: 20px auto;\n",
      "    background-color: #ffffff;\n",
      "    padding: 30px;\n",
      "    border-radius: 8px;\n",
      "    box-shadow: 0 0 10px rgba(0, 0, 0, 0.05);\n",
      "  }\n",
      "  p {\n",
      "    margin-top: 0;\n",
      "    margin-bottom: 20px;\n",
      "  }\n",
      "  strong {\n",
      "    font-weight: bold;\n",
      "    color: #0056b3; /* A nice blue for emphasis */\n",
      "  }\n",
      "  em {\n",
      "    font-style: italic;\n",
      "  }\n",
      "  .signature {\n",
      "    margin-top: 30px;\n",
      "    font-size: 0.9em;\n",
      "    color: #555555;\n",
      "  }\n",
      "  .tagline {\n",
      "    font-style: italic;\n",
      "    color: #777777;\n",
      "    margin-top: 10px;\n",
      "  }\n",
      "  .call-to-action {\n",
      "    font-size: 1.1em;\n",
      "    font-weight: bold;\n",
      "    color: #0056b3;\n",
      "    margin-bottom: 25px;\n",
      "  }\n",
      "</style>\n",
      "</head>\n",
      "<body>\n",
      "  <div class=\"container\">\n",
      "    <p>Dear CEO,</p>\n",
      "\n",
      "    <p>Let's be honest. \"<strong>SOC2 compliance</strong>\" often feels less like a strategic imperative and more like an annual root canal – necessary, but deeply unpleasant. Hours disappear, resources get stretched, and the thought of the <em>next</em> audit looms like a particularly grumpy cloud.</p>\n",
      "\n",
      "    <p>What if I told you there's an <strong>AI-powered co-pilot</strong> that makes preparing for and passing your SOC2 audit as painless as, well, <em>not</em> having a root canal?</p>\n",
      "\n",
      "    <p>That's where <strong>ComplAI</strong> comes in. We've built an intelligent SaaS tool that literally takes the mind-numbing complexity out of SOC2 compliance and audit readiness. Our AI works tirelessly in the background, organizing, documenting, and ensuring everything is in tip-top shape, so your team can focus on what actually moves your business forward.</p>\n",
      "\n",
      "    <p>Imagine reclaiming hundreds of hours, reducing stress levels, and impressing your auditor with pristine, AI-generated evidence. More importantly, imagine the peace of mind knowing you're secure and compliant, without the usual headaches.</p>\n",
      "\n",
      "    <p class=\"call-to-action\">Would you be open to a <strong>super quick (15-minute!) chat</strong> to see how <strong>ComplAI</strong> could <strong>transform your compliance journey</strong> from a nightmare into... well, a non-nightmare?</p>\n",
      "\n",
      "    <p class=\"signature\">Best,</p>\n",
      "    <p class=\"signature\">Alice</p>\n",
      "    <p class=\"signature\">Your Friendly Compliance Whisperer at <strong>ComplAI</strong></p>\n",
      "    <p class=\"tagline\">(Making SOC2 less soul-crushing, one AI at a time)</p>\n",
      "  </div>\n",
      "</body>\n",
      "</html>\n",
      "```\"\"\"\n",
      "    }\n",
      "  )\n",
      ")] role='user'\n"
     ]
    },
    {
     "name": "stderr",
     "output_type": "stream",
     "text": [
      "Warning: there are non-text parts in the response: ['thought_signature', 'function_call'], returning concatenated text result from text parts. Check the full candidates.content.parts accessor to get the full model response.\n"
     ]
    },
    {
     "name": "stdout",
     "output_type": "stream",
     "text": [
      "  [Event] Author: Sales_Manager, Type: Event, Final: False, Content: parts=[Part(\n",
      "  function_call=FunctionCall(\n",
      "    args={\n",
      "      'html_body': \"\"\"<!DOCTYPE html>\n",
      "<html>\n",
      "<head>\n",
      "<meta charset=\"utf-8\">\n",
      "<meta http-equiv=\"X-UA-Compatible\" content=\"IE=edge\">\n",
      "<meta name=\"viewport\" content=\"width=device-width, initial-scale=1.0\">\n",
      "<title>ComplAI - Your SOC2 Co-pilot</title>\n",
      "<style type=\"text/css\">\n",
      "  body {\n",
      "    margin: 0;\n",
      "    padding: 0;\n",
      "    background-color: #f6f6f6;\n",
      "    font-family: Arial, sans-serif;\n",
      "    line-height: 1.6;\n",
      "    color: #333333;\n",
      "  }\n",
      "  .container {\n",
      "    max-width: 600px;\n",
      "    margin: 20px auto;\n",
      "    background-color: #ffffff;\n",
      "    padding: 30px;\n",
      "    border-radius: 8px;\n",
      "    box-shadow: 0 0 10px rgba(0, 0, 0, 0.05);\n",
      "  }\n",
      "  p {\n",
      "    margin-top: 0;\n",
      "    margin-bottom: 20px;\n",
      "  }\n",
      "  strong {\n",
      "    font-weight: bold;\n",
      "    color: #0056b3; /* A nice blue for emphasis */\n",
      "  }\n",
      "  em {\n",
      "    font-style: italic;\n",
      "  }\n",
      "  .signature {\n",
      "    margin-top: 30px;\n",
      "    font-size: 0.9em;\n",
      "    color: #555555;\n",
      "  }\n",
      "  .tagline {\n",
      "    font-style: italic;\n",
      "    color: #777777;\n",
      "    margin-top: 10px;\n",
      "  }\n",
      "  .call-to-action {\n",
      "    font-size: 1.1em;\n",
      "    font-weight: bold;\n",
      "    color: #0056b3;\n",
      "    margin-bottom: 25px;\n",
      "  }\n",
      "</style>\n",
      "</head>\n",
      "<body>\n",
      "  <div class=\"container\">\n",
      "    <p>Dear CEO,</p>\n",
      "\n",
      "    <p>Let's be honest. \"<strong>SOC2 compliance</strong>\" often feels less like a strategic imperative and more like an annual root canal – necessary, but deeply unpleasant. Hours disappear, resources get stretched, and the thought of the <em>next</em> audit looms like a particularly grumpy cloud.</p>\n",
      "\n",
      "    <p>What if I told you there's an <strong>AI-powered co-pilot</strong> that makes preparing for and passing your SOC2 audit as painless as, well, <em>not</em> having a root canal?</p>\n",
      "\n",
      "    <p>That's where <strong>ComplAI</strong> comes in. We've built an intelligent SaaS tool that literally takes the mind-numbing complexity out of SOC2 compliance and audit readiness. Our AI works tirelessly in the background, organizing, documenting, and ensuring everything is in tip-top shape, so your team can focus on what actually moves your business forward.</p>\n",
      "\n",
      "    <p>Imagine reclaiming hundreds of hours, reducing stress levels, and impressing your auditor with pristine, AI-generated evidence. More importantly, imagine the peace of mind knowing you're secure and compliant, without the usual headaches.</p>\n",
      "\n",
      "    <p class=\"call-to-action\">Would you be open to a <strong>super quick (15-minute!) chat</strong> to see how <strong>ComplAI</strong> could <strong>transform your compliance journey</strong> from a nightmare into... well, a non-nightmare?</p>\n",
      "\n",
      "    <p class=\"signature\">Best,</p>\n",
      "    <p class=\"signature\">Alice</p>\n",
      "    <p class=\"signature\">Your Friendly Compliance Whisperer at <strong>ComplAI</strong></p>\n",
      "    <p class=\"tagline\">(Making SOC2 less soul-crushing, one AI at a time)</p>\n",
      "  </div>\n",
      "</body>\n",
      "</html>\"\"\",\n",
      "      'subject': \"SOC2 Compliance: Ditch the 'Root Canal' with AI?\"\n",
      "    },\n",
      "    id='adk-17285d84-1276-473c-a8d4-3c0188a600df',\n",
      "    name='send_html_email'\n",
      "  ),\n",
      "  thought_signature=b'\\n\\xcf\\x01\\x01T\\xa8\\\\\\xeee\\xfdU\\x90\\x87\\x1e\\x1cGHR\\x85\\x90\\xdd\\x9f\\x8f\\x96M~\\x11J\\xd2.\\xdb\\xfaL\\x0e\\x80\\xc1N\\xd5O3\\x87\\xf0N`\\xf6\\x9e\\xeat?\\x0e\\xc2\\xae}\\x06d8\\xec\\xf7\\xed\\x8a\\n\\xaf\\x89\\xcd\\x14\\x99\\xfd\\xef\\x8a\\x0b\\xe09v\\x18\\xf2\\xfd\\x1e\\xb0\\x1d\\xf5\\x1d?\\xc3\\xdb5R\\xfb\"\\x9ay\\x94\\x1a\\xb8l\\x8bH\\x8d...'\n",
      ")] role='model'\n"
     ]
    },
    {
     "name": "stderr",
     "output_type": "stream",
     "text": [
      "Both GOOGLE_API_KEY and GEMINI_API_KEY are set. Using GOOGLE_API_KEY.\n"
     ]
    },
    {
     "name": "stdout",
     "output_type": "stream",
     "text": [
      "  [Event] Author: Sales_Manager, Type: Event, Final: False, Content: parts=[Part(\n",
      "  function_response=FunctionResponse(\n",
      "    id='adk-17285d84-1276-473c-a8d4-3c0188a600df',\n",
      "    name='send_html_email',\n",
      "    response={\n",
      "      'status': 'success'\n",
      "    }\n",
      "  )\n",
      ")] role='user'\n"
     ]
    },
    {
     "name": "stderr",
     "output_type": "stream",
     "text": [
      "Warning: there are non-text parts in the response: ['thought_signature'], returning concatenated text result from text parts. Check the full candidates.content.parts accessor to get the full model response.\n"
     ]
    },
    {
     "name": "stdout",
     "output_type": "stream",
     "text": [
      "  [Event] Author: Sales_Manager, Type: Event, Final: True, Content: parts=[Part(\n",
      "  text='The cold sales email has been successfully sent.',\n",
      "  thought_signature=b'\\n\\xe9\\x03\\x01T\\xa8\\\\\\xee.\\x190\\xd8\\xa0\\x05\\x99\\xe9\\xca!\\x0f\\x9a\\xce(\\x98\\x0cP\\x95\\xa6\\xec\\xca\\xbc\\x1fQ\\xa8t*\\r}\\xc6\\xa6\\xfa\\xbb\\xd7;K\\xcbkX6y\\x19\\x96\\x83\\xb4\\xa0\\x7f\\xe1\\xd0\"\\x9an\\x02\\xde\\xf2\\x1c^\\x17Z>\\xfd\\x8e\\x08\\xadVT\\xa7\\x8b\\xe434\\x16D\\x81\\xea\\xf8\\xb4a\\xdb+Su|7\\x86H0\\xf3\\xe5...'\n",
      ")] role='model'\n",
      "<<< Agent Response: The cold sales email has been successfully sent.\n"
     ]
    }
   ],
   "source": [
    "await run_conversation()"
   ]
  },
  {
   "cell_type": "markdown",
   "metadata": {},
   "source": []
  }
 ],
 "metadata": {
  "kernelspec": {
   "display_name": ".venvgoogle",
   "language": "python",
   "name": "python3"
  },
  "language_info": {
   "codemirror_mode": {
    "name": "ipython",
    "version": 3
   },
   "file_extension": ".py",
   "mimetype": "text/x-python",
   "name": "python",
   "nbconvert_exporter": "python",
   "pygments_lexer": "ipython3",
   "version": "3.12.2"
  }
 },
 "nbformat": 4,
 "nbformat_minor": 2
}
