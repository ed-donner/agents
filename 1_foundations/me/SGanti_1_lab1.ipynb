{
 "cells": [
  {
   "cell_type": "markdown",
   "metadata": {},
   "source": [
    "# Welcome to the start of your adventure in Agentic AI"
   ]
  },
  {
   "cell_type": "markdown",
   "metadata": {},
   "source": [
    "<table style=\"margin: 0; text-align: left; width:100%\">\n",
    "    <tr>\n",
    "        <td style=\"width: 150px; height: 150px; vertical-align: middle;\">\n",
    "            <img src=\"../assets/stop.png\" width=\"150\" height=\"150\" style=\"display: block;\" />\n",
    "        </td>\n",
    "        <td>\n",
    "            <h2 style=\"color:#ff7800;\">Are you ready for action??</h2>\n",
    "            <span style=\"color:#ff7800;\">Have you completed all the setup steps in the <a href=\"../setup/\">setup</a> folder?<br/>\n",
    "            Have you read the <a href=\"../README.md\">README</a>? Many common questions are answered here!<br/>\n",
    "            Have you checked out the guides in the <a href=\"../guides/01_intro.ipynb\">guides</a> folder?<br/>\n",
    "            Well in that case, you're ready!!\n",
    "            </span>\n",
    "        </td>\n",
    "    </tr>\n",
    "</table>"
   ]
  },
  {
   "cell_type": "markdown",
   "metadata": {},
   "source": [
    "<table style=\"margin: 0; text-align: left; width:100%\">\n",
    "    <tr>\n",
    "        <td style=\"width: 150px; height: 150px; vertical-align: middle;\">\n",
    "            <img src=\"../assets/tools.png\" width=\"150\" height=\"150\" style=\"display: block;\" />\n",
    "        </td>\n",
    "        <td>\n",
    "            <h2 style=\"color:#00bfff;\">This code is a live resource - keep an eye out for my updates</h2>\n",
    "            <span style=\"color:#00bfff;\">I push updates regularly. As people ask questions or have problems, I add more examples and improve explanations. As a result, the code below might not be identical to the videos, as I've added more steps and better comments. Consider this like an interactive book that accompanies the lectures.<br/><br/>\n",
    "            I try to send emails regularly with important updates related to the course. You can find this in the 'Announcements' section of Udemy in the left sidebar. You can also choose to receive my emails via your Notification Settings in Udemy. I'm respectful of your inbox and always try to add value with my emails!\n",
    "            </span>\n",
    "        </td>\n",
    "    </tr>\n",
    "</table>"
   ]
  },
  {
   "cell_type": "markdown",
   "metadata": {},
   "source": [
    "### And please do remember to contact me if I can help\n",
    "\n",
    "And I love to connect: https://www.linkedin.com/in/eddonner/\n",
    "\n",
    "\n",
    "### New to Notebooks like this one? Head over to the guides folder!\n",
    "\n",
    "Just to check you've already added the Python and Jupyter extensions to Cursor, if not already installed:\n",
    "- Open extensions (View >> extensions)\n",
    "- Search for python, and when the results show, click on the ms-python one, and Install it if not already installed\n",
    "- Search for jupyter, and when the results show, click on the Microsoft one, and Install it if not already installed  \n",
    "Then View >> Explorer to bring back the File Explorer.\n",
    "\n",
    "And then:\n",
    "1. Click where it says \"Select Kernel\" near the top right, and select the option called `.venv (Python 3.12.9)` or similar, which should be the first choice or the most prominent choice. You may need to choose \"Python Environments\" first.\n",
    "2. Click in each \"cell\" below, starting with the cell immediately below this text, and press Shift+Enter to run\n",
    "3. Enjoy!\n",
    "\n",
    "After you click \"Select Kernel\", if there is no option like `.venv (Python 3.12.9)` then please do the following:  \n",
    "1. On Mac: From the Cursor menu, choose Settings >> VS Code Settings (NOTE: be sure to select `VSCode Settings` not `Cursor Settings`);  \n",
    "On Windows PC: From the File menu, choose Preferences >> VS Code Settings(NOTE: be sure to select `VSCode Settings` not `Cursor Settings`)  \n",
    "2. In the Settings search bar, type \"venv\"  \n",
    "3. In the field \"Path to folder with a list of Virtual Environments\" put the path to the project root, like C:\\Users\\username\\projects\\agents (on a Windows PC) or /Users/username/projects/agents (on Mac or Linux).  \n",
    "And then try again.\n",
    "\n",
    "Having problems with missing Python versions in that list? Have you ever used Anaconda before? It might be interferring. Quit Cursor, bring up a new command line, and make sure that your Anaconda environment is deactivated:    \n",
    "`conda deactivate`  \n",
    "And if you still have any problems with conda and python versions, it's possible that you will need to run this too:  \n",
    "`conda config --set auto_activate_base false`  \n",
    "and then from within the Agents directory, you should be able to run `uv python list` and see the Python 3.12 version."
   ]
  },
  {
   "cell_type": "code",
   "execution_count": null,
   "metadata": {},
   "outputs": [],
   "source": [
    "# First let's do an import. If you get an Import Error, double check that your Kernel is correct..\n",
    "\n",
    "from dotenv import load_dotenv\n"
   ]
  },
  {
   "cell_type": "code",
   "execution_count": null,
   "metadata": {},
   "outputs": [],
   "source": [
    "# Next it's time to load the API keys into environment variables\n",
    "# If this returns false, see the next cell!\n",
    "\n",
    "load_dotenv(override=True)"
   ]
  },
  {
   "cell_type": "markdown",
   "metadata": {},
   "source": [
    "### Wait, did that just output `False`??\n",
    "\n",
    "If so, the most common reason is that you didn't save your `.env` file after adding the key! Be sure to have saved.\n",
    "\n",
    "Also, make sure the `.env` file is named precisely `.env` and is in the project root directory (`agents`)\n",
    "\n",
    "By the way, your `.env` file should have a stop symbol next to it in Cursor on the left, and that's actually a good thing: that's Cursor saying to you, \"hey, I realize this is a file filled with secret information, and I'm not going to send it to an external AI to suggest changes, because your keys should not be shown to anyone else.\""
   ]
  },
  {
   "cell_type": "markdown",
   "metadata": {},
   "source": [
    "<table style=\"margin: 0; text-align: left; width:100%\">\n",
    "    <tr>\n",
    "        <td style=\"width: 150px; height: 150px; vertical-align: middle;\">\n",
    "            <img src=\"../assets/stop.png\" width=\"150\" height=\"150\" style=\"display: block;\" />\n",
    "        </td>\n",
    "        <td>\n",
    "            <h2 style=\"color:#ff7800;\">Final reminders</h2>\n",
    "            <span style=\"color:#ff7800;\">1. If you're not confident about Environment Variables or Web Endpoints / APIs, please read Topics 3 and 5 in this <a href=\"../guides/04_technical_foundations.ipynb\">technical foundations guide</a>.<br/>\n",
    "            2. If you want to use AIs other than OpenAI, like Gemini, DeepSeek or Ollama (free), please see the first section in this <a href=\"../guides/09_ai_apis_and_ollama.ipynb\">AI APIs guide</a>.<br/>\n",
    "            3. If you ever get a Name Error in Python, you can always fix it immediately; see the last section of this <a href=\"../guides/06_python_foundations.ipynb\">Python Foundations guide</a> and follow both tutorials and exercises.<br/>\n",
    "            </span>\n",
    "        </td>\n",
    "    </tr>\n",
    "</table>"
   ]
  },
  {
   "cell_type": "code",
   "execution_count": 8,
   "metadata": {},
   "outputs": [
    {
     "name": "stdout",
     "output_type": "stream",
     "text": [
      "OpenAI API Key exists and begins sk-proj-\n"
     ]
    }
   ],
   "source": [
    "# Check the key - if you're not using OpenAI, check whichever key you're using! Ollama doesn't need a key.\n",
    "\n",
    "import os\n",
    "openai_api_key = os.getenv('OPENAI_API_KEY')\n",
    "\n",
    "if openai_api_key:\n",
    "    print(f\"OpenAI API Key exists and begins {openai_api_key[:8]}\")\n",
    "else:\n",
    "    print(\"OpenAI API Key not set - please head to the troubleshooting guide in the setup folder\")\n",
    "    \n"
   ]
  },
  {
   "cell_type": "code",
   "execution_count": 9,
   "metadata": {},
   "outputs": [],
   "source": [
    "# And now - the all important import statement\n",
    "# If you get an import error - head over to troubleshooting in the Setup folder\n",
    "# Even for other LLM providers like Gemini, you still use this OpenAI import - see Guide 9 for why\n",
    "\n",
    "from openai import OpenAI"
   ]
  },
  {
   "cell_type": "code",
   "execution_count": 10,
   "metadata": {},
   "outputs": [],
   "source": [
    "# And now we'll create an instance of the OpenAI class\n",
    "# If you're not sure what it means to create an instance of a class - head over to the guides folder (guide 6)!\n",
    "# If you get a NameError - head over to the guides folder (guide 6)to learn about NameErrors - always instantly fixable\n",
    "# If you're not using OpenAI, you just need to slightly modify this - precise instructions are in the AI APIs guide (guide 9)\n",
    "\n",
    "openai = OpenAI()"
   ]
  },
  {
   "cell_type": "code",
   "execution_count": 11,
   "metadata": {},
   "outputs": [],
   "source": [
    "# Create a list of messages in the familiar OpenAI format\n",
    "\n",
    "messages = [{\"role\": \"user\", \"content\": \"What is 2+2?\"}]"
   ]
  },
  {
   "cell_type": "code",
   "execution_count": 12,
   "metadata": {},
   "outputs": [
    {
     "name": "stdout",
     "output_type": "stream",
     "text": [
      "2 + 2 equals 4.\n"
     ]
    }
   ],
   "source": [
    "# And now call it! Any problems, head to the troubleshooting guide\n",
    "# This uses GPT 4.1 nano, the incredibly cheap model\n",
    "# The APIs guide (guide 9) has exact instructions for using even cheaper or free alternatives to OpenAI\n",
    "# If you get a NameError, head to the guides folder (guide 6) to learn about NameErrors - always instantly fixable\n",
    "\n",
    "response = openai.chat.completions.create(\n",
    "    model=\"gpt-4.1-nano\",\n",
    "    messages=messages\n",
    ")\n",
    "\n",
    "print(response.choices[0].message.content)\n"
   ]
  },
  {
   "cell_type": "code",
   "execution_count": 13,
   "metadata": {},
   "outputs": [],
   "source": [
    "# And now - let's ask for a question:\n",
    "\n",
    "question = \"Please propose a hard, challenging question to assess someone's IQ. Respond only with the question.\"\n",
    "messages = [{\"role\": \"user\", \"content\": question}]\n"
   ]
  },
  {
   "cell_type": "code",
   "execution_count": 14,
   "metadata": {},
   "outputs": [
    {
     "name": "stdout",
     "output_type": "stream",
     "text": [
      "If you rearrange the letters in the word \"STATISTICS,\" how many unique different words (including non-dictionary arrangements) can be formed using all the letters exactly once?\n"
     ]
    }
   ],
   "source": [
    "# ask it - this uses GPT 4.1 mini, still cheap but more powerful than nano\n",
    "\n",
    "response = openai.chat.completions.create(\n",
    "    model=\"gpt-4.1-mini\",\n",
    "    messages=messages\n",
    ")\n",
    "\n",
    "question = response.choices[0].message.content\n",
    "\n",
    "print(question)\n"
   ]
  },
  {
   "cell_type": "code",
   "execution_count": 15,
   "metadata": {},
   "outputs": [],
   "source": [
    "# form a new messages list\n",
    "messages = [{\"role\": \"user\", \"content\": question}]\n"
   ]
  },
  {
   "cell_type": "code",
   "execution_count": 16,
   "metadata": {},
   "outputs": [
    {
     "name": "stdout",
     "output_type": "stream",
     "text": [
      "We want to find how many unique permutations can be made from the letters of the word **\"STATISTICS\"** using all letters exactly once.\n",
      "\n",
      "---\n",
      "\n",
      "### Step 1: Identify the letters and their counts\n",
      "\n",
      "The word is **STATISTICS** (10 letters).\n",
      "\n",
      "Let's count each letter:\n",
      "\n",
      "- S: Count the S's\n",
      "  - Positions: S (1), S (6), S (9)\n",
      "  - Total: 3 S's\n",
      "- T: Count the T's\n",
      "  - Positions: T (2), T (4), T (8)\n",
      "  - Total: 3 T's\n",
      "- A: Count the A's\n",
      "  - Position: A (3)\n",
      "  - Total: 1 A\n",
      "- I: Count the I's\n",
      "  - Positions: I (5), I (7)\n",
      "  - Total: 2 I's\n",
      "- C: Count the C's\n",
      "  - Position: C (10)\n",
      "  - Total: 1 C\n",
      "\n",
      "Summary:\n",
      "\n",
      "| Letter | Count |\n",
      "|--------|--------|\n",
      "| S      | 3      |\n",
      "| T      | 3      |\n",
      "| A      | 1      |\n",
      "| I      | 2      |\n",
      "| C      | 1      |\n",
      "\n",
      "---\n",
      "\n",
      "### Step 2: Total number of permutations\n",
      "\n",
      "The total letters = 10.\n",
      "\n",
      "If all letters were distinct, the number of permutations would be:\n",
      "\n",
      "\\[\n",
      "10! = 3,628,800\n",
      "\\]\n",
      "\n",
      "Since letters repeat, the formula for permutations with repeated letters is:\n",
      "\n",
      "\\[\n",
      "\\frac{10!}{3! \\times 3! \\times 2! \\times 1! \\times 1!}\n",
      "\\]\n",
      "\n",
      "\\(1!\\) doesn't affect the count, so:\n",
      "\n",
      "\\[\n",
      "= \\frac{10!}{3! \\times 3! \\times 2!}\n",
      "\\]\n",
      "\n",
      "Calculate factorials:\n",
      "\n",
      "- \\(10! = 3,628,800\\)\n",
      "- \\(3! = 6\\)\n",
      "- \\(2! = 2\\)\n",
      "\n",
      "Therefore:\n",
      "\n",
      "\\[\n",
      "= \\frac{3,628,800}{6 \\times 6 \\times 2} = \\frac{3,628,800}{72} = 50,400\n",
      "\\]\n",
      "\n",
      "---\n",
      "\n",
      "### **Final Answer:**\n",
      "\n",
      "\\[\n",
      "\\boxed{50,400}\n",
      "\\]\n",
      "\n",
      "There are **50,400** unique different arrangements of the letters in \"STATISTICS\".\n"
     ]
    }
   ],
   "source": [
    "# Ask it again\n",
    "\n",
    "response = openai.chat.completions.create(\n",
    "    model=\"gpt-4.1-mini\",\n",
    "    messages=messages\n",
    ")\n",
    "\n",
    "answer = response.choices[0].message.content\n",
    "print(answer)\n"
   ]
  },
  {
   "cell_type": "code",
   "execution_count": 17,
   "metadata": {},
   "outputs": [
    {
     "data": {
      "text/markdown": [
       "We want to find how many unique permutations can be made from the letters of the word **\"STATISTICS\"** using all letters exactly once.\n",
       "\n",
       "---\n",
       "\n",
       "### Step 1: Identify the letters and their counts\n",
       "\n",
       "The word is **STATISTICS** (10 letters).\n",
       "\n",
       "Let's count each letter:\n",
       "\n",
       "- S: Count the S's\n",
       "  - Positions: S (1), S (6), S (9)\n",
       "  - Total: 3 S's\n",
       "- T: Count the T's\n",
       "  - Positions: T (2), T (4), T (8)\n",
       "  - Total: 3 T's\n",
       "- A: Count the A's\n",
       "  - Position: A (3)\n",
       "  - Total: 1 A\n",
       "- I: Count the I's\n",
       "  - Positions: I (5), I (7)\n",
       "  - Total: 2 I's\n",
       "- C: Count the C's\n",
       "  - Position: C (10)\n",
       "  - Total: 1 C\n",
       "\n",
       "Summary:\n",
       "\n",
       "| Letter | Count |\n",
       "|--------|--------|\n",
       "| S      | 3      |\n",
       "| T      | 3      |\n",
       "| A      | 1      |\n",
       "| I      | 2      |\n",
       "| C      | 1      |\n",
       "\n",
       "---\n",
       "\n",
       "### Step 2: Total number of permutations\n",
       "\n",
       "The total letters = 10.\n",
       "\n",
       "If all letters were distinct, the number of permutations would be:\n",
       "\n",
       "\\[\n",
       "10! = 3,628,800\n",
       "\\]\n",
       "\n",
       "Since letters repeat, the formula for permutations with repeated letters is:\n",
       "\n",
       "\\[\n",
       "\\frac{10!}{3! \\times 3! \\times 2! \\times 1! \\times 1!}\n",
       "\\]\n",
       "\n",
       "\\(1!\\) doesn't affect the count, so:\n",
       "\n",
       "\\[\n",
       "= \\frac{10!}{3! \\times 3! \\times 2!}\n",
       "\\]\n",
       "\n",
       "Calculate factorials:\n",
       "\n",
       "- \\(10! = 3,628,800\\)\n",
       "- \\(3! = 6\\)\n",
       "- \\(2! = 2\\)\n",
       "\n",
       "Therefore:\n",
       "\n",
       "\\[\n",
       "= \\frac{3,628,800}{6 \\times 6 \\times 2} = \\frac{3,628,800}{72} = 50,400\n",
       "\\]\n",
       "\n",
       "---\n",
       "\n",
       "### **Final Answer:**\n",
       "\n",
       "\\[\n",
       "\\boxed{50,400}\n",
       "\\]\n",
       "\n",
       "There are **50,400** unique different arrangements of the letters in \"STATISTICS\"."
      ],
      "text/plain": [
       "<IPython.core.display.Markdown object>"
      ]
     },
     "metadata": {},
     "output_type": "display_data"
    }
   ],
   "source": [
    "from IPython.display import Markdown, display\n",
    "\n",
    "display(Markdown(answer))\n",
    "\n"
   ]
  },
  {
   "cell_type": "markdown",
   "metadata": {},
   "source": [
    "# Congratulations!\n",
    "\n",
    "That was a small, simple step in the direction of Agentic AI, with your new environment!\n",
    "\n",
    "Next time things get more interesting..."
   ]
  },
  {
   "cell_type": "markdown",
   "metadata": {},
   "source": [
    "<table style=\"margin: 0; text-align: left; width:100%\">\n",
    "    <tr>\n",
    "        <td style=\"width: 150px; height: 150px; vertical-align: middle;\">\n",
    "            <img src=\"../assets/exercise.png\" width=\"150\" height=\"150\" style=\"display: block;\" />\n",
    "        </td>\n",
    "        <td>\n",
    "            <h2 style=\"color:#ff7800;\">Exercise</h2>\n",
    "            <span style=\"color:#ff7800;\">Now try this commercial application:<br/>\n",
    "            First ask the LLM to pick a business area that might be worth exploring for an Agentic AI opportunity.<br/>\n",
    "            Then ask the LLM to present a pain-point in that industry - something challenging that might be ripe for an Agentic solution.<br/>\n",
    "            Finally have 3 third LLM call propose the Agentic AI solution. <br/>\n",
    "            We will cover this at up-coming labs, so don't worry if you're unsure.. just give it a try!\n",
    "            </span>\n",
    "        </td>\n",
    "    </tr>\n",
    "</table>"
   ]
  },
  {
   "cell_type": "code",
   "execution_count": 25,
   "metadata": {},
   "outputs": [
    {
     "name": "stdout",
     "output_type": "stream",
     "text": [
      "OpenAI API Key exists and begins sk-proj-\n",
      "Please pick a business area that might be worth exploring for an Agentic AI opportunity\n",
      "One promising business area for exploring an Agentic AI opportunity is **personalized healthcare management**.\n",
      "\n",
      "### Why Personalized Healthcare Management?\n",
      "\n",
      "1. **Complex Decision-Making Needs**: Managing health involves continuous monitoring, decision-making about treatments, medications, lifestyle changes, and appointments. An agentic AI can autonomously navigate these complexities on behalf of patients.\n",
      "\n",
      "2. **Data-Rich Environment**: Patients generate vast amounts of data from wearables, electronic health records, lab results, and lifestyle inputs. Agentic AI can synthesize this information to provide real-time, adaptive care plans.\n",
      "\n",
      "3. **High Impact on Quality of Life**: Effective management can prevent hospitalizations, reduce healthcare costs, and improve patient outcomes, making AI-driven solutions valuable both economically and socially.\n",
      "\n",
      "4. **Personalization Requirement**: Each patient’s needs and conditions vary widely. Agentic AI can tailor recommendations and interventions dynamically, learning from patient preferences and responses.\n",
      "\n",
      "5. **Healthcare Provider Support**: Agentic AI can assist physicians by summarizing patient data, suggesting treatment options, and managing routine tasks, thus increasing care efficiency.\n",
      "\n",
      "### Potential Applications\n",
      "\n",
      "- An AI agent that schedules and manages medication intake, adjusting based on symptoms and side effects.\n",
      "- Autonomously coordinating appointments, lab tests, and follow-ups.\n",
      "- Providing dietary and exercise guidance adjusted to ongoing health metrics.\n",
      "- Early detection of health deterioration by continuous monitoring and alerting healthcare providers or caregivers.\n",
      "- Mental health support by monitoring mood patterns and proactively suggesting interventions.\n",
      "\n",
      "### Summary\n",
      "\n",
      "Personalized healthcare management harnesses rich data and requires complex, ongoing decision-making—an ideal playground for agentic AI to act autonomously, adaptively, and assist patients and providers effectively. Exploring this area could lead to innovative products with significant market demand and societal benefit.\n"
     ]
    }
   ],
   "source": [
    "# First create the messages:\n",
    "\n",
    "import os\n",
    "openai_api_key = os.getenv('OPENAI_API_KEY')\n",
    "\n",
    "if openai_api_key:\n",
    "    print(f\"OpenAI API Key exists and begins {openai_api_key[:8]}\")\n",
    "else:\n",
    "    print(\"OpenAI API Key not set - please head to the troubleshooting guide in the setup folder\")\n",
    "\n",
    "from openai import OpenAI\n",
    "openai = OpenAI()\n",
    "\n",
    "question = \"Please pick a business area that might be worth exploring for an Agentic AI opportunity\"\n",
    "messages = [{\"role\": \"user\", \"content\": question}]\n",
    "\n",
    "# Then make the first call:\n",
    "\n",
    "response = openai.chat.completions.create(\n",
    "    model=\"gpt-4.1-mini\",\n",
    "    messages=messages)\n",
    "\n",
    "# Then read the business idea:\n",
    "answer = response.choices[0].message.content\n",
    "#print(question)\n",
    "print(question)\n",
    "#business_idea = response.\n",
    "print(response.choices[0].message.content)\n",
    "# And repeat! In the next message, include the business idea within the message\n"
   ]
  },
  {
   "cell_type": "code",
   "execution_count": 26,
   "metadata": {},
   "outputs": [
    {
     "name": "stdout",
     "output_type": "stream",
     "text": [
      "Please present a pain-point in the personalized healthcare management and would deeply benefit from an Agentic AI solution\n",
      "A significant pain point in personalized healthcare management is **effectively integrating and synthesizing vast, heterogeneous patient data from multiple sources (e.g., electronic health records, wearable devices, genomics, lifestyle inputs) into actionable, real-time care plans tailored to individual patient needs**.\n",
      "\n",
      "### Why this is a pain point:\n",
      "- **Data fragmentation:** Patient data resides in silos — different healthcare providers, labs, devices, and patient-reported inputs — making it difficult to have a unified, longitudinal view of a patient’s health.\n",
      "- **Complex, dynamic variables:** Personalized care requires continuously adapting to changes in patient condition, environment, behaviors, and preferences.\n",
      "- **High cognitive load on clinicians:** Human providers struggle to keep up with the volume and complexity of data necessary to make truly personalized decisions.\n",
      "- **Delayed interventions:** Without real-time synthesis and prioritization, important trends or risks may go unnoticed until they escalate.\n",
      "\n",
      "### How an Agentic AI solution can deeply benefit this pain point:\n",
      "- **Autonomous data integration:** An agentic AI can autonomously collect, clean, and unify data from diverse sources in real-time without heavy manual effort or error.\n",
      "- **Context-aware reasoning:** Using sophisticated reasoning, the AI agent can interpret data in the context of a patient’s unique medical history, genetics, lifestyle, and goals.\n",
      "- **Proactive decision support:** Rather than just offering passive insights, an agentic AI can autonomously suggest personalized interventions, medication adjustments, lifestyle recommendations, or flag urgent needs for clinician review.\n",
      "- **Continuous adaptation:** The AI can dynamically update care plans as new data arrives and conditions change, providing continuous, personalized management rather than static snapshots.\n",
      "- **Reducing clinician burden:** By handling routine data synthesis and decision-making scaffolding, clinicians can focus more on complex judgments and patient interaction, improving outcomes and efficiency.\n",
      "\n",
      "In sum, an Agentic AI solution designed to autonomously manage and personalize healthcare by integrating diverse data streams, reasoning contextually, and proactively guiding care would profoundly address a core pain point in personalized healthcare management.\n"
     ]
    }
   ],
   "source": [
    "question = \"Please present a pain-point in the personalized healthcare management and would deeply benefit from an Agentic AI solution\"\n",
    "messages = [{\"role\": \"user\", \"content\": question}]\n",
    "response = openai.chat.completions.create(\n",
    "    model=\"gpt-4.1-mini\",\n",
    "    messages=messages)\n",
    "answer = response.choices[0].message.content\n",
    "print(question)\n",
    "print(answer)"
   ]
  },
  {
   "cell_type": "code",
   "execution_count": 27,
   "metadata": {},
   "outputs": [
    {
     "name": "stdout",
     "output_type": "stream",
     "text": [
      "Please propose an Agentic AI solution for effectively integrating and synthesizing vast, heterogeneous patient data from multiple sources (e.g., electronic health records, wearable devices, genomics, lifestyle inputs) into actionable, real-time care plans tailored to individual patient needs\n",
      "Certainly! Here's a detailed proposal for an **Agentic AI system** designed to integrate and synthesize vast, heterogeneous patient data from diverse sources into actionable, real-time, personalized care plans.\n",
      "\n",
      "---\n",
      "\n",
      "# Proposal: Agentic AI for Integrated, Real-time Personalized Care Planning\n",
      "\n",
      "### Overview\n",
      "Develop an **Agentic AI framework** — a system composed of multiple specialized AI agents working collaboratively — to ingest, harmonize, and synthesize multimodal patient data (EHRs, genomics, wearables, lifestyle inputs, etc.) and generate continuously updated, actionable care plans tailored to individual patient profiles.\n",
      "\n",
      "---\n",
      "\n",
      "## Key Objectives\n",
      "\n",
      "1. **Seamless integration** of heterogeneous data sources with differing formats, update frequencies, and levels of reliability.\n",
      "2. **Context-aware synthesis** to produce clinically meaningful insights and personalized recommendations.\n",
      "3. **Real-time responsiveness** enabling dynamic updates to care plans as new data arrives.\n",
      "4. **Explainability & transparency** to ensure care teams understand AI-driven recommendations.\n",
      "5. **Patient-centered customization** respecting individual preferences, goals, and constraints.\n",
      "\n",
      "---\n",
      "\n",
      "## Architectural Components\n",
      "\n",
      "### 1. Data Ingestion Agents\n",
      "\n",
      "- **EHR Parsing Agent:** Extract structured and unstructured data (notes, labs, imaging reports) using NLP and HL7/FHIR standards.\n",
      "- **Wearable Data Agent:** Stream continuous physiological signals (heart rate, activity, sleep) via IoT protocols.\n",
      "- **Genomics Agent:** Integrate variant interpretations, polygenic risk scores, and pharmacogenomics profiles.\n",
      "- **Lifestyle & Social Determinants Agent:** Gather patient-reported data, social media, environmental factors.\n",
      "\n",
      "Each agent normalizes and standardizes data into a **Common Data Model (CDM)** to ensure interoperability.\n",
      "\n",
      "---\n",
      "\n",
      "### 2. Data Harmonization & Fusion Agent\n",
      "\n",
      "- Align temporal data streams and resolve conflicts among disparate sources.\n",
      "- Perform data quality assessment, imputation of missing values, and uncertainty quantification.\n",
      "- Represent the integrated patient state in a dynamic **multimodal patient knowledge graph** that captures relationships between clinical entities, behaviors, and genomic factors.\n",
      "\n",
      "---\n",
      "\n",
      "### 3. Predictive & Diagnostic Reasoning Agents\n",
      "\n",
      "- Use machine learning and rule-based models to identify health risks, early disease signs, and deviations from baseline.\n",
      "- Include specialized subagents for chronic disease management, acute event prediction, medication interaction warnings, etc.\n",
      "\n",
      "---\n",
      "\n",
      "### 4. Care Planning and Optimization Agent\n",
      "\n",
      "- Leverage reinforcement learning and multi-criteria optimization to craft personalized care plans.\n",
      "- Incorporate clinical guidelines, patient preferences, and resource constraints.\n",
      "- Generate step-by-step action items for clinicians and patients, such as medication adjustments, recommended tests, lifestyle modifications.\n",
      "\n",
      "---\n",
      "\n",
      "### 5. Explainability & Interaction Agent\n",
      "\n",
      "- Translate AI reasoning into human-understandable explanations.\n",
      "- Provide interactive interfaces for care teams and patients to query, validate, and modify recommendations.\n",
      "- Support shared decision making with customizable alert thresholds and educational resources.\n",
      "\n",
      "---\n",
      "\n",
      "### 6. Continuous Learning and Feedback Agent\n",
      "\n",
      "- Monitor outcomes and clinician/patient feedback to iteratively improve model performance.\n",
      "- Adapt to evolving clinical knowledge and changing patient conditions.\n",
      "\n",
      "---\n",
      "\n",
      "## Workflow Example\n",
      "\n",
      "1. **Data Capture:** Wearable device detects irregular heart rhythms; EHR notes recent medication changes; genomics agent flags sensitivity to a certain drug class.\n",
      "2. **Integration:** Data harmonization agent creates an up-to-date profile reflecting risk of adverse drug events.\n",
      "3. **Analysis:** Predictive agent alerts possibility of drug-induced arrhythmia.\n",
      "4. **Care Plan Generation:** Optimization agent recommends medication adjustment and scheduling follow-up ECG.\n",
      "5. **Interaction:** Clinician reviews AI rationale, discusses options with patient, and updates care plan.\n",
      "6. **Feedback:** Follow-up data confirms rhythm normalization, improving model accuracy.\n",
      "\n",
      "---\n",
      "\n",
      "## Implementation Considerations\n",
      "\n",
      "- **Privacy & Security:** End-to-end encryption, federated learning to keep data decentralized.\n",
      "- **Compliance:** Meeting HIPAA, GDPR, and clinical regulatory standards.\n",
      "- **Interoperability:** Adoption of FHIR, OMOP CDM, and standards for genomic and wearable data.\n",
      "- **Scalability:** Cloud-native microservices architecture with edge computing for wearables.\n",
      "- **User Experience:** Mobile and desktop apps tailored to clinicians and patients.\n",
      "\n",
      "---\n",
      "\n",
      "## Summary\n",
      "\n",
      "An **Agentic AI system** offers a powerful paradigm to tackle the complexity of integrating vast, diverse patient data sources. By modularizing capabilities into specialized agents that collaborate through shared knowledge representations and optimization frameworks, such a system can generate effective, personalized, and real-time care plans. This transforms heterogeneous health data into actionable insights, ultimately improving individual patient outcomes.\n",
      "\n",
      "---\n",
      "\n",
      "If you'd like, I can also provide a more detailed technical architecture diagram, specific ML model suggestions, or a development roadmap. Would that be helpful?\n"
     ]
    }
   ],
   "source": [
    "question = \"Please propose an Agentic AI solution for effectively integrating and synthesizing vast, heterogeneous patient data from multiple sources (e.g., electronic health records, wearable devices, genomics, lifestyle inputs) into actionable, real-time care plans tailored to individual patient needs\"\n",
    "messages = [{\"role\": \"user\", \"content\": question}]\n",
    "response = openai.chat.completions.create(\n",
    "    model=\"gpt-4.1-mini\",\n",
    "    messages=messages)\n",
    "answer = response.choices[0].message.content\n",
    "print(question)\n",
    "print(answer)"
   ]
  },
  {
   "cell_type": "markdown",
   "metadata": {},
   "source": []
  }
 ],
 "metadata": {
  "kernelspec": {
   "display_name": ".venv",
   "language": "python",
   "name": "python3"
  },
  "language_info": {
   "codemirror_mode": {
    "name": "ipython",
    "version": 3
   },
   "file_extension": ".py",
   "mimetype": "text/x-python",
   "name": "python",
   "nbconvert_exporter": "python",
   "pygments_lexer": "ipython3",
   "version": "3.12.2"
  }
 },
 "nbformat": 4,
 "nbformat_minor": 2
}
