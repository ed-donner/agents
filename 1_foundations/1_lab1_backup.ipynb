{
 "cells": [
  {
   "cell_type": "markdown",
   "metadata": {},
   "source": [
    "# Welcome to the start of your adventure in Agentic AI\n"
   ]
  },
  {
   "cell_type": "markdown",
   "metadata": {},
   "source": [
    "<table style=\"margin: 0; text-align: left; width:100%\">\n",
    "    <tr>\n",
    "        <td style=\"width: 150px; height: 150px; vertical-align: middle;\">\n",
    "            <img src=\"../assets/stop.png\" width=\"150\" height=\"150\" style=\"display: block;\" />\n",
    "        </td>\n",
    "        <td>\n",
    "            <h2 style=\"color:#ff7800;\">Are you ready for action??</h2>\n",
    "            <span style=\"color:#ff7800;\">Have you completed all the setup steps in the <a href=\"../setup/\">setup</a> folder?<br/>\n",
    "            Have you read the <a href=\"../README.md\">README</a>? Many common questions are answered here!<br/>\n",
    "            Have you checked out the guides in the <a href=\"../guides/01_intro.ipynb\">guides</a> folder?<br/>\n",
    "            Well in that case, you're ready!!\n",
    "            </span>\n",
    "        </td>\n",
    "    </tr>\n",
    "</table>\n"
   ]
  },
  {
   "cell_type": "markdown",
   "metadata": {},
   "source": [
    "<table style=\"margin: 0; text-align: left; width:100%\">\n",
    "    <tr>\n",
    "        <td style=\"width: 150px; height: 150px; vertical-align: middle;\">\n",
    "            <img src=\"../assets/tools.png\" width=\"150\" height=\"150\" style=\"display: block;\" />\n",
    "        </td>\n",
    "        <td>\n",
    "            <h2 style=\"color:#00bfff;\">This code is a live resource - keep an eye out for my updates</h2>\n",
    "            <span style=\"color:#00bfff;\">I push updates regularly. As people ask questions or have problems, I add more examples and improve explanations. As a result, the code below might not be identical to the videos, as I've added more steps and better comments. Consider this like an interactive book that accompanies the lectures.<br/><br/>\n",
    "            I try to send emails regularly with important updates related to the course. You can find this in the 'Announcements' section of Udemy in the left sidebar. You can also choose to receive my emails via your Notification Settings in Udemy. I'm respectful of your inbox and always try to add value with my emails!\n",
    "            </span>\n",
    "        </td>\n",
    "    </tr>\n",
    "</table>\n"
   ]
  },
  {
   "cell_type": "code",
   "execution_count": 104,
   "metadata": {},
   "outputs": [],
   "source": [
    "# First let's do an import. If you get an Import Error, double check that your Kernel is correct..\n",
    "\n",
    "from dotenv import load_dotenv, find_dotenv\n"
   ]
  },
  {
   "cell_type": "code",
   "execution_count": 105,
   "metadata": {},
   "outputs": [
    {
     "data": {
      "text/plain": [
       "True"
      ]
     },
     "execution_count": 105,
     "metadata": {},
     "output_type": "execute_result"
    }
   ],
   "source": [
    "# Next it's time to load the API keys into environment variables\n",
    "# If this returns false, see the next cell!\n",
    "\n",
    "load_dotenv(find_dotenv(usecwd=True), override=True)\n"
   ]
  },
  {
   "cell_type": "code",
   "execution_count": 106,
   "metadata": {},
   "outputs": [
    {
     "name": "stdout",
     "output_type": "stream",
     "text": [
      "OpenAI API Key exists and begins sk-proj-\n"
     ]
    }
   ],
   "source": [
    "# Check the key - if you're not using OpenAI, check whichever key you're using! Ollama doesn't need a key.\n",
    "\n",
    "import os\n",
    "openai_api_key = os.getenv('OPENAI_API_KEY')\n",
    "\n",
    "if openai_api_key:\n",
    "    print(f\"OpenAI API Key exists and begins {openai_api_key[:8]}\")\n",
    "else:\n",
    "    print(\"OpenAI API Key not set - please head to the troubleshooting guide in the setup folder\")\n"
   ]
  },
  {
   "cell_type": "code",
   "execution_count": 107,
   "metadata": {},
   "outputs": [],
   "source": [
    "# And now - the all important import statement\n",
    "# If you get an import error - head over to troubleshooting in the Setup folder\n",
    "# Even for other LLM providers like Gemini, you still use this OpenAI import - see Guide 9 for why\n",
    "\n",
    "from openai import OpenAI\n"
   ]
  },
  {
   "cell_type": "code",
   "execution_count": 108,
   "metadata": {},
   "outputs": [],
   "source": [
    "# And now we'll create an instance of the OpenAI class\n",
    "# If you're not sure what it means to create an instance of a class - head over to the guides folder (guide 6)!\n",
    "# If you get a NameError - head over to the guides folder (guide 6)to learn about NameErrors - always instantly fixable\n",
    "# If you're not using OpenAI, you just need to slightly modify this - precise instructions are in the AI APIs guide (guide 9)\n",
    "\n",
    "openai = OpenAI()\n"
   ]
  },
  {
   "cell_type": "code",
   "execution_count": 109,
   "metadata": {},
   "outputs": [],
   "source": [
    "# Create a list of messages in the familiar OpenAI format\n",
    "\n",
    "messages = [{\"role\": \"user\", \"content\": \"What is 2+2?\"}]\n"
   ]
  },
  {
   "cell_type": "code",
   "execution_count": 110,
   "metadata": {},
   "outputs": [
    {
     "name": "stdout",
     "output_type": "stream",
     "text": [
      "2 + 2 equals 4.\n"
     ]
    }
   ],
   "source": [
    "# And now call it! Any problems, head to the troubleshooting guide\n",
    "# This uses GPT 4.1 nano, the incredibly cheap model\n",
    "# The APIs guide (guide 9) has exact instructions for using even cheaper or free alternatives to OpenAI\n",
    "# If you get a NameError, head to the guides folder (guide 6) to learn about NameErrors - always instantly fixable\n",
    "\n",
    "response = openai.chat.completions.create(\n",
    "    model=\"gpt-4.1-nano\",\n",
    "    messages=messages\n",
    ")\n",
    "\n",
    "print(response.choices[0].message.content)\n"
   ]
  },
  {
   "cell_type": "markdown",
   "metadata": {},
   "source": [
    "<table style=\"margin: 0; text-align: left; width:100%\">\n",
    "    <tr>\n",
    "        <td style=\"width: 150px; height: 150px; vertical-align: middle;\">\n",
    "            <img src=\"../assets/exercise.png\" width=\"150\" height=\"150\" style=\"display: block;\" />\n",
    "        </td>\n",
    "        <td>\n",
    "            <h2 style=\"color:#ff7800;\">Exercise</h2>\n",
    "            <span style=\"color:#ff7800;\">Now try this commercial application:<br/>\n",
    "            First ask the LLM to pick a business area that might be worth exploring for an Agentic AI opportunity.<br/>\n",
    "            Then ask the LLM to present a pain-point in that industry - something challenging that might be ripe for an Agentic solution.<br/>\n",
    "            Finally have 3 third LLM call propose the Agentic AI solution. <br/>\n",
    "            We will cover this at up-coming labs, so don't worry if you're unsure.. just give it a try!\n",
    "            </span>\n",
    "        </td>\n",
    "    </tr>\n",
    "</table>\n"
   ]
  },
  {
   "cell_type": "code",
   "execution_count": null,
   "metadata": {},
   "outputs": [
    {
     "data": {
      "text/markdown": [
       "## Business Area\n"
      ],
      "text/plain": [
       "<IPython.core.display.Markdown object>"
      ]
     },
     "metadata": {},
     "output_type": "display_data"
    },
    {
     "data": {
      "text/markdown": [
       "Pharmaceutical drug discovery — Agentic AI can autonomously design, simulate, and optimize novel compounds, drastically accelerating the R&D timeline and reducing costs."
      ],
      "text/plain": [
       "<IPython.core.display.Markdown object>"
      ]
     },
     "metadata": {},
     "output_type": "display_data"
    },
    {
     "data": {
      "text/markdown": [
       "\n",
       "## Pain-Point\n"
      ],
      "text/plain": [
       "<IPython.core.display.Markdown object>"
      ]
     },
     "metadata": {},
     "output_type": "display_data"
    },
    {
     "data": {
      "text/markdown": [
       "**Critical Pain-Point in Pharmaceutical Drug Discovery:**\n",
       "\n",
       "- **Lead compound identification and optimization is slow and resource-intensive.**\n",
       "\n",
       "**Why it persists:**\n",
       "\n",
       "- The chemical space of potential drug-like molecules is astronomically large (estimated at 10^60+), making exhaustive exploration impossible.\n",
       "- Traditional methods rely heavily on iterative cycles of synthesis and experimental testing, which are time-consuming and expensive.\n",
       "- Predictive models of biological activity, toxicity, and pharmacokinetics often lack accuracy, leading to high attrition rates in later stages.\n",
       "  \n",
       "**Current workarounds:**\n",
       "\n",
       "- Use of high-throughput screening (HTS) to test large libraries of compounds, though costly and still limited in coverage.\n",
       "- Application of classical computational methods (e.g., molecular docking, QSAR models) to prioritize candidates, but these can be imprecise or computationally expensive.\n",
       "- Incorporation of human expert intuition and domain knowledge to guide molecule design and selection, which can introduce bias and limit scalability."
      ],
      "text/plain": [
       "<IPython.core.display.Markdown object>"
      ]
     },
     "metadata": {},
     "output_type": "display_data"
    },
    {
     "data": {
      "text/markdown": [
       "\n",
       "## Agentic AI Solution\n"
      ],
      "text/plain": [
       "<IPython.core.display.Markdown object>"
      ]
     },
     "metadata": {},
     "output_type": "display_data"
    },
    {
     "data": {
      "text/markdown": [
       "**Agentic AI Solution for Accelerated Lead Compound Identification and Optimization**\n",
       "\n",
       "---\n",
       "\n",
       "### Core Agent Role and Objective\n",
       "**Role:** Autonomous Drug Discovery Agent  \n",
       "**Objective:** Rapidly generate, simulate, and optimize novel lead compounds with high predicted efficacy and safety profiles, dramatically reducing time and cost compared to traditional iterative cycles.\n",
       "\n",
       "---\n",
       "\n",
       "### Key Tools / Actions\n",
       "- **Molecule Generator:** Deep generative models (e.g., graph-based VAEs, GANs, or transformers) to design novel chemical structures.\n",
       "- **In Silico Screening:** Integrated QSAR and molecular docking APIs (e.g., AutoDock Vina, DeepChem) to predict biological activity and binding affinity.\n",
       "- **ADMET Prediction:** Automated toxicity and pharmacokinetic profiling using pretrained ML models (e.g., pkCSM, DeepTox APIs).\n",
       "- **Optimization Loop:** Reinforcement learning or Bayesian optimization agents that iteratively improve compound properties based on predicted scores.\n",
       "- **Workflow Automation:** Orchestration tools (e.g., Airflow, Prefect) to manage end-to-end pipeline execution and data flow.\n",
       "- **Expert Feedback Interface:** Lightweight UI for medicinal chemists to review and provide feedback, enabling human-in-the-loop refinement.\n",
       "\n",
       "---\n",
       "\n",
       "### Required Data Sources and Guardrails\n",
       "- **Data Sources:**\n",
       "  - Public and proprietary compound libraries with bioactivity labels (e.g., ChEMBL, PubChem BioAssay).\n",
       "  - High-quality ADMET datasets for toxicity and PK prediction models.\n",
       "  - Structural biology databases (e.g., PDB) for target protein 3D structures.\n",
       "\n",
       "- **Guardrails:**\n",
       "  - Enforce chemical validity and synthetic accessibility filters on generated molecules to prevent infeasible candidates.\n",
       "  - Implement diversity constraints to avoid mode collapse in molecule generation.\n",
       "  - Apply safety thresholds to filter out compounds with known toxicophores.\n",
       "  - Data privacy compliance and security protocols to protect proprietary information.\n",
       "\n",
       "---\n",
       "\n",
       "### KPIs for Success\n",
       "- **Throughput:** Number of novel candidate leads generated and evaluated per day.\n",
       "- **Prediction Quality:** Concordance rates of in silico predictions with any available experimental validation or literature.\n",
       "- **Optimization Efficiency:** Improvement in predicted binding affinity and ADMET profiles over baseline compounds within iterative cycles.\n",
       "- **Cost/Time Reduction:** Estimated reduction in R&D cycle duration and resource expenditure compared to traditional workflows.\n",
       "- **User Engagement:** Frequency and quality of feedback from medicinal chemists interacting with the system.\n",
       "\n",
       "---\n",
       "\n",
       "### 2-Week MVP Scope\n",
       "- Deploy an agent that:\n",
       "  1. Accepts input target protein structure (or known ligand data).\n",
       "  2. Generates a batch (e.g., 100) of novel molecules using generative models.\n",
       "  3. Automatically screens them for binding affinity (docking) and preliminary ADMET properties.\n",
       "  4. Filters candidates for chemical validity and synthetic accessibility.\n",
       "  5. Presents top 10–20 candidates in a simple UI for medicinal chemist review and feedback.\n",
       "- Include basic workflow orchestration automating steps 2–4.\n",
       "- Evaluate system performance on 1–2 well-characterized targets with available benchmark data.\n",
       "- Capture user feedback to refine models and interface in next iteration.\n",
       "\n",
       "---\n",
       "\n",
       "This MVP targets rapid iteration on the core AI-driven design and in silico evaluation loop, laying the foundation for scaling to full autonomous lead discovery pipelines that reduce dependency on costly wet-lab cycles."
      ],
      "text/plain": [
       "<IPython.core.display.Markdown object>"
      ]
     },
     "metadata": {},
     "output_type": "display_data"
    }
   ],
   "source": [
    "# Agentic AI opportunity exploration: 3-step LLM chain\n",
    "from IPython.display import Markdown, display\n",
    "import os\n",
    "\n",
    "# Ensure environment is loaded and openai client exists\n",
    "try:\n",
    "    from dotenv import load_dotenv, find_dotenv\n",
    "    load_dotenv(find_dotenv(usecwd=True), override=True)\n",
    "except:\n",
    "    pass\n",
    "\n",
    "try:\n",
    "    openai  # type: ignore # noqa\n",
    "except NameError:\n",
    "    from openai import OpenAI\n",
    "    openai = OpenAI()\n",
    "\n",
    "# Check API key\n",
    "api_key = os.getenv('OPENAI_API_KEY')\n",
    "if not api_key:\n",
    "    print(\"❌ OPENAI_API_KEY not found! Please check your .env file\")\n",
    "else:\n",
    "    print(f\"✅ API Key loaded: {api_key[:8]}...\")\n",
    "\n",
    "try:\n",
    "    # 1) Pick a business area worth exploring\n",
    "    print(\"🤖 Step 1: Finding business area...\")\n",
    "    messages = [{\n",
    "        \"role\": \"user\",\n",
    "        \"content\": (\n",
    "            \"Pick one specific business area/industry that looks promising for an Agentic AI opportunity. \"\n",
    "            \"Be concrete (e.g., 'insurance claims processing' vs 'insurance'). \"\n",
    "            \"Return only the area name and one-sentence rationale.\"\n",
    "        ),\n",
    "    }]\n",
    "\n",
    "    resp1 = openai.chat.completions.create(\n",
    "        model=\"gpt-4o-mini\",  # More reliable model name\n",
    "        messages=messages,\n",
    "    )\n",
    "\n",
    "    business_area = resp1.choices[0].message.content.strip()\n",
    "    print(f\"✅ Business area identified: {business_area[:50]}...\")\n",
    "\n",
    "    # 2) Present a pain-point in that industry\n",
    "    print(\"🤖 Step 2: Identifying pain-points...\")\n",
    "    messages = [{\n",
    "        \"role\": \"user\",\n",
    "        \"content\": (\n",
    "            f\"In the area: {business_area}\\n\"\n",
    "            \"Identify the most critical pain-point that is challenging, costly, or slow today. \"\n",
    "            \"Explain briefly why it persists and what current workarounds look like. Return 3-5 bullets.\"\n",
    "        ),\n",
    "    }]\n",
    "\n",
    "    resp2 = openai.chat.completions.create(\n",
    "        model=\"gpt-4o-mini\",\n",
    "        messages=messages,\n",
    "    )\n",
    "\n",
    "    pain_points = resp2.choices[0].message.content.strip()\n",
    "    print(\"✅ Pain-points identified\")\n",
    "\n",
    "    # 3) Propose an Agentic AI solution\n",
    "    print(\"🤖 Step 3: Proposing solution...\")\n",
    "    messages = [{\n",
    "        \"role\": \"user\",\n",
    "        \"content\": (\n",
    "            f\"Given the area: {business_area}\\n\"\n",
    "            f\"And these pain-points:\\n{pain_points}\\n\\n\"\n",
    "            \"Propose a concise Agentic AI solution. Include: \\n\"\n",
    "            \"- Core agent role and objective\\n\"\n",
    "            \"- Key tools/actions (APIs, automations)\\n\"\n",
    "            \"- Required data sources and guardrails\\n\"\n",
    "            \"- KPIs for success\\n\"\n",
    "            \"- A 2-week MVP scope\"\n",
    "        ),\n",
    "    }]\n",
    "\n",
    "    resp3 = openai.chat.completions.create(\n",
    "        model=\"gpt-4o-mini\",\n",
    "        messages=messages,\n",
    "    )\n",
    "\n",
    "    solution = resp3.choices[0].message.content.strip()\n",
    "    print(\"✅ Solution proposed\")\n",
    "\n",
    "    # Render nicely\n",
    "    print(\"\\n\" + \"=\"*60)\n",
    "    display(Markdown(\"## 🎯 Business Area\"))\n",
    "    display(Markdown(business_area))\n",
    "\n",
    "    display(Markdown(\"\\n## ⚠️ Pain-Point\"))\n",
    "    display(Markdown(pain_points))\n",
    "\n",
    "    display(Markdown(\"\\n## 🤖 Agentic AI Solution\"))\n",
    "    display(Markdown(solution))\n",
    "\n",
    "except Exception as e:\n",
    "    print(f\"❌ Error: {e}\")\n",
    "    print(\"\\nTroubleshooting tips:\")\n",
    "    print(\"1. Make sure your .env file has OPENAI_API_KEY\")\n",
    "    print(\"2. Run the earlier cells to set up the environment\")\n",
    "    print(\"3. Check your internet connection\")\n"
   ]
  },
  {
   "cell_type": "markdown",
   "metadata": {},
   "source": []
  },
  {
   "cell_type": "markdown",
   "metadata": {},
   "source": []
  },
  {
   "cell_type": "markdown",
   "metadata": {},
   "source": [
    "<table style=\"margin: 0; text-align: left; width:100%\">\n",
    "    <tr>\n",
    "        <td style=\"width: 150px; height: 150px; vertical-align: middle;\">\n",
    "            <img src=\"../assets/tools.png\" width=\"150\" height=\"150\" style=\"display: block;\" />\n",
    "        </td>\n",
    "        <td>\n",
    "            <h2 style=\"color:#00bfff;\">This code is a live resource - keep an eye out for my updates</h2>\n",
    "            <span style=\"color:#00bfff;\">I push updates regularly. As people ask questions or have problems, I add more examples and improve explanations. As a result, the code below might not be identical to the videos, as I've added more steps and better comments. Consider this like an interactive book that accompanies the lectures.<br/><br/>\n",
    "            I try to send emails regularly with important updates related to the course. You can find this in the 'Announcements' section of Udemy in the left sidebar. You can also choose to receive my emails via your Notification Settings in Udemy. I'm respectful of your inbox and always try to add value with my emails!\n",
    "            </span>\n",
    "        </td>\n",
    "    </tr>\n",
    "</table>"
   ]
  },
  {
   "cell_type": "markdown",
   "metadata": {},
   "source": [
    "### And please do remember to contact me if I can help\n",
    "\n",
    "And I love to connect: https://www.linkedin.com/in/eddonner/\n",
    "\n",
    "\n",
    "### New to Notebooks like this one? Head over to the guides folder!\n",
    "\n",
    "Just to check you've already added the Python and Jupyter extensions to Cursor, if not already installed:\n",
    "- Open extensions (View >> extensions)\n",
    "- Search for python, and when the results show, click on the ms-python one, and Install it if not already installed\n",
    "- Search for jupyter, and when the results show, click on the Microsoft one, and Install it if not already installed  \n",
    "Then View >> Explorer to bring back the File Explorer.\n",
    "\n",
    "And then:\n",
    "1. Click where it says \"Select Kernel\" near the top right, and select the option called `.venv (Python 3.12.9)` or similar, which should be the first choice or the most prominent choice. You may need to choose \"Python Environments\" first.\n",
    "2. Click in each \"cell\" below, starting with the cell immediately below this text, and press Shift+Enter to run\n",
    "3. Enjoy!\n",
    "\n",
    "After you click \"Select Kernel\", if there is no option like `.venv (Python 3.12.9)` then please do the following:  \n",
    "1. On Mac: From the Cursor menu, choose Settings >> VS Code Settings (NOTE: be sure to select `VSCode Settings` not `Cursor Settings`);  \n",
    "On Windows PC: From the File menu, choose Preferences >> VS Code Settings(NOTE: be sure to select `VSCode Settings` not `Cursor Settings`)  \n",
    "2. In the Settings search bar, type \"venv\"  \n",
    "3. In the field \"Path to folder with a list of Virtual Environments\" put the path to the project root, like C:\\Users\\username\\projects\\agents (on a Windows PC) or /Users/username/projects/agents (on Mac or Linux).  \n",
    "And then try again.\n",
    "\n",
    "Having problems with missing Python versions in that list? Have you ever used Anaconda before? It might be interferring. Quit Cursor, bring up a new command line, and make sure that your Anaconda environment is deactivated:    \n",
    "`conda deactivate`  \n",
    "And if you still have any problems with conda and python versions, it's possible that you will need to run this too:  \n",
    "`conda config --set auto_activate_base false`  \n",
    "and then from within the Agents directory, you should be able to run `uv python list` and see the Python 3.12 version."
   ]
  },
  {
   "cell_type": "code",
   "execution_count": 91,
   "metadata": {},
   "outputs": [],
   "source": [
    "# First let's do an import. If you get an Import Error, double check that your Kernel is correct..\n",
    "\n",
    "from dotenv import load_dotenv\n"
   ]
  },
  {
   "cell_type": "code",
   "execution_count": 92,
   "metadata": {},
   "outputs": [
    {
     "data": {
      "text/markdown": [
       "## Business Area\n"
      ],
      "text/plain": [
       "<IPython.core.display.Markdown object>"
      ]
     },
     "metadata": {},
     "output_type": "display_data"
    },
    {
     "data": {
      "text/markdown": [
       "Automated loan underwriting in consumer banking – because agentic AI can rapidly analyze complex financial data and customer profiles to make accurate, unbiased credit decisions, reducing turnaround times and defaults."
      ],
      "text/plain": [
       "<IPython.core.display.Markdown object>"
      ]
     },
     "metadata": {},
     "output_type": "display_data"
    },
    {
     "data": {
      "text/markdown": [
       "\n",
       "## Pain-Point\n"
      ],
      "text/plain": [
       "<IPython.core.display.Markdown object>"
      ]
     },
     "metadata": {},
     "output_type": "display_data"
    },
    {
     "data": {
      "text/markdown": [
       "**Critical Pain-Point: Manual and Time-Consuming Credit Decision Processes**\n",
       "\n",
       "- **Why it persists:** Traditional loan underwriting relies heavily on human analysts to review and interpret complex financial data, leading to bottlenecks, inconsistency, and subjective judgments. Regulatory requirements and risk aversion further slow automation adoption.\n",
       "- **Current workarounds:**\n",
       "  - Use of rule-based systems with limited automation that still require manual override or review.\n",
       "  - Parallel manual credit scoring combined with automated checks to validate final decisions.\n",
       "  - Extended turnaround times to ensure thorough reviews, which frustrate customers and increase operational costs.\n",
       "  - Relying on conservative credit policies to minimize defaults, often excluding potentially creditworthy applicants."
      ],
      "text/plain": [
       "<IPython.core.display.Markdown object>"
      ]
     },
     "metadata": {},
     "output_type": "display_data"
    },
    {
     "data": {
      "text/markdown": [
       "\n",
       "## Agentic AI Solution\n"
      ],
      "text/plain": [
       "<IPython.core.display.Markdown object>"
      ]
     },
     "metadata": {},
     "output_type": "display_data"
    },
    {
     "data": {
      "text/markdown": [
       "**Agentic AI Solution for Automated Loan Underwriting**\n",
       "\n",
       "---\n",
       "\n",
       "### Core Agent Role and Objective  \n",
       "**Role:** Autonomous Loan Underwriting Agent  \n",
       "**Objective:** Rapidly analyze complex financial and behavioral data to generate accurate, unbiased credit decisions with minimal human intervention, reducing decision time and default rates while ensuring regulatory compliance.\n",
       "\n",
       "---\n",
       "\n",
       "### Key Tools / Actions  \n",
       "- **Financial Data Aggregation APIs:** Connect to banking transaction data, credit bureaus, employment verification, and alternative data sources (e.g., utility payments, rental history).  \n",
       "- **Machine Learning Models:** Predictive credit risk scoring leveraging agentic reinforcement learning to continuously improve decision accuracy based on feedback loops.  \n",
       "- **Document Parsing Automation:** NLP-powered ingestion and validation of uploaded financial documents (pay stubs, tax returns).  \n",
       "- **Regulatory Compliance Module:** Embed rule-based guardrails aligned with lending regulations (e.g., Fair Lending laws, anti-discrimination rules)  \n",
       "- **Explainability Engine:** Generate transparent decision rationale to support audits and customer inquiries.  \n",
       "- **Automated Decision-Making Workflow:** End-to-end credit assessment, scoring, and approval/referral, triggering human review only on edge or borderline cases.\n",
       "\n",
       "---\n",
       "\n",
       "### Required Data Sources and Guardrails  \n",
       "- **Data Sources:**  \n",
       "  - Core financial data: bank statements, credit reports (Experian, TransUnion, Equifax APIs)  \n",
       "  - Employment and income verification services  \n",
       "  - Alternative data: utility payments, rent history, digital footprint (optional)  \n",
       "  - Historical loan performance data  \n",
       "- **Guardrails:**  \n",
       "  - Enforce anti-bias constraints ensuring no discriminatory factors affect underwriting  \n",
       "  - Strict data privacy and security compliance (e.g., GDPR, CCPA)  \n",
       "  - Human-in-the-loop override for flagged cases or deviations beyond confidence thresholds  \n",
       "  - Continuous monitoring for model drift and compliance updates\n",
       "\n",
       "---\n",
       "\n",
       "### KPIs for Success  \n",
       "- Reduction in average loan decision turnaround time (target: >70% reduction from baseline)  \n",
       "- Increase in loan approval accuracy (measured by subsequent default rates; target: 15-20% reduction in defaults)  \n",
       "- Percentage of loans fully automated vs. requiring manual review (target automation >80%)  \n",
       "- Customer satisfaction score improvement regarding speed and transparency  \n",
       "- Compliance audit pass rate at 100%\n",
       "\n",
       "---\n",
       "\n",
       "### 2-Week MVP Scope  \n",
       "- Integrate credit bureau API and bank transaction data ingestion  \n",
       "- Deploy baseline ML credit scoring model using historical loan and financial data  \n",
       "- Automate document parsing for key financial documents with NLP  \n",
       "- Implement a simple rule-based compliance guardrail layer  \n",
       "- Build dashboard for decision explanations and manual override interface for exceptions  \n",
       "- Measure decision time and accuracy on a pilot dataset  \n",
       "- Gather feedback from loan officers on flagged cases to refine the model\n",
       "\n",
       "---\n",
       "\n",
       "This MVP will demonstrate accelerated, accurate credit decisions with minimal manual intervention, establishing the foundation for scaling agentic AI underwriting."
      ],
      "text/plain": [
       "<IPython.core.display.Markdown object>"
      ]
     },
     "metadata": {},
     "output_type": "display_data"
    }
   ],
   "source": [
    "# Agentic AI opportunity exploration: 3-step LLM chain\n",
    "from IPython.display import Markdown, display\n",
    "\n",
    "# Ensure `openai` client exists even if earlier cells weren't run\n",
    "try:\n",
    "    openai  # type: ignore # noqa\n",
    "except NameError:  # pragma: no cover\n",
    "    from openai import OpenAI\n",
    "    openai = OpenAI()\n",
    "\n",
    "# 1) Pick a business area worth exploring\n",
    "messages = [{\n",
    "    \"role\": \"user\",\n",
    "    \"content\": (\n",
    "        \"Pick one specific business area/industry that looks promising for an Agentic AI opportunity. \"\n",
    "        \"Be concrete (e.g., 'insurance claims processing' vs 'insurance'). \"\n",
    "        \"Return only the area name and one-sentence rationale.\"\n",
    "    ),\n",
    "}]\n",
    "\n",
    "resp1 = openai.chat.completions.create(\n",
    "    model=\"gpt-4.1-mini\",\n",
    "    messages=messages,\n",
    ")\n",
    "\n",
    "business_area = resp1.choices[0].message.content.strip()\n",
    "\n",
    "# 2) Present a pain-point in that industry\n",
    "messages = [{\n",
    "    \"role\": \"user\",\n",
    "    \"content\": (\n",
    "        f\"In the area: {business_area}\\n\"\n",
    "        \"Identify the most critical pain-point that is challenging, costly, or slow today. \"\n",
    "        \"Explain briefly why it persists and what current workarounds look like. Return 3-5 bullets.\"\n",
    "    ),\n",
    "}]\n",
    "\n",
    "resp2 = openai.chat.completions.create(\n",
    "    model=\"gpt-4.1-mini\",\n",
    "    messages=messages,\n",
    ")\n",
    "\n",
    "pain_points = resp2.choices[0].message.content.strip()\n",
    "\n",
    "# 3) Propose an Agentic AI solution\n",
    "messages = [{\n",
    "    \"role\": \"user\",\n",
    "    \"content\": (\n",
    "        f\"Given the area: {business_area}\\n\"\n",
    "        f\"And these pain-points:\\n{pain_points}\\n\\n\"\n",
    "        \"Propose a concise Agentic AI solution. Include: \\n\"\n",
    "        \"- Core agent role and objective\\n\"\n",
    "        \"- Key tools/actions (APIs, automations)\\n\"\n",
    "        \"- Required data sources and guardrails\\n\"\n",
    "        \"- KPIs for success\\n\"\n",
    "        \"- A 2-week MVP scope\"\n",
    "    ),\n",
    "}]\n",
    "\n",
    "resp3 = openai.chat.completions.create(\n",
    "    model=\"gpt-4.1-mini\",\n",
    "    messages=messages,\n",
    ")\n",
    "\n",
    "solution = resp3.choices[0].message.content.strip()\n",
    "\n",
    "# Render nicely\n",
    "display(Markdown(\"## Business Area\\n\"))\n",
    "display(Markdown(business_area))\n",
    "\n",
    "display(Markdown(\"\\n## Pain-Point\\n\"))\n",
    "display(Markdown(pain_points))\n",
    "\n",
    "display(Markdown(\"\\n## Agentic AI Solution\\n\"))\n",
    "display(Markdown(solution))"
   ]
  },
  {
   "cell_type": "code",
   "execution_count": 93,
   "metadata": {},
   "outputs": [
    {
     "data": {
      "text/plain": [
       "True"
      ]
     },
     "execution_count": 93,
     "metadata": {},
     "output_type": "execute_result"
    }
   ],
   "source": [
    "# Next it's time to load the API keys into environment variables\n",
    "# If this returns false, see the next cell!\n",
    "\n",
    "load_dotenv(override=True)"
   ]
  },
  {
   "cell_type": "markdown",
   "metadata": {},
   "source": [
    "### Wait, did that just output `False`??\n",
    "\n",
    "If so, the most common reason is that you didn't save your `.env` file after adding the key! Be sure to have saved.\n",
    "\n",
    "Also, make sure the `.env` file is named precisely `.env` and is in the project root directory (`agents`)\n",
    "\n",
    "By the way, your `.env` file should have a stop symbol next to it in Cursor on the left, and that's actually a good thing: that's Cursor saying to you, \"hey, I realize this is a file filled with secret information, and I'm not going to send it to an external AI to suggest changes, because your keys should not be shown to anyone else.\""
   ]
  },
  {
   "cell_type": "markdown",
   "metadata": {},
   "source": [
    "<table style=\"margin: 0; text-align: left; width:100%\">\n",
    "    <tr>\n",
    "        <td style=\"width: 150px; height: 150px; vertical-align: middle;\">\n",
    "            <img src=\"../assets/stop.png\" width=\"150\" height=\"150\" style=\"display: block;\" />\n",
    "        </td>\n",
    "        <td>\n",
    "            <h2 style=\"color:#ff7800;\">Final reminders</h2>\n",
    "            <span style=\"color:#ff7800;\">1. If you're not confident about Environment Variables or Web Endpoints / APIs, please read Topics 3 and 5 in this <a href=\"../guides/04_technical_foundations.ipynb\">technical foundations guide</a>.<br/>\n",
    "            2. If you want to use AIs other than OpenAI, like Gemini, DeepSeek or Ollama (free), please see the first section in this <a href=\"../guides/09_ai_apis_and_ollama.ipynb\">AI APIs guide</a>.<br/>\n",
    "            3. If you ever get a Name Error in Python, you can always fix it immediately; see the last section of this <a href=\"../guides/06_python_foundations.ipynb\">Python Foundations guide</a> and follow both tutorials and exercises.<br/>\n",
    "            </span>\n",
    "        </td>\n",
    "    </tr>\n",
    "</table>"
   ]
  },
  {
   "cell_type": "code",
   "execution_count": 94,
   "metadata": {},
   "outputs": [
    {
     "name": "stdout",
     "output_type": "stream",
     "text": [
      "OpenAI API Key exists and begins sk-proj-\n"
     ]
    }
   ],
   "source": [
    "# Check the key - if you're not using OpenAI, check whichever key you're using! Ollama doesn't need a key.\n",
    "\n",
    "import os\n",
    "openai_api_key = os.getenv('OPENAI_API_KEY')\n",
    "\n",
    "if openai_api_key:\n",
    "    print(f\"OpenAI API Key exists and begins {openai_api_key[:8]}\")\n",
    "else:\n",
    "    print(\"OpenAI API Key not set - please head to the troubleshooting guide in the setup folder\")\n",
    "    \n"
   ]
  },
  {
   "cell_type": "code",
   "execution_count": 95,
   "metadata": {},
   "outputs": [],
   "source": [
    "# And now - the all important import statement\n",
    "# If you get an import error - head over to troubleshooting in the Setup folder\n",
    "# Even for other LLM providers like Gemini, you still use this OpenAI import - see Guide 9 for why\n",
    "\n",
    "from openai import OpenAI"
   ]
  },
  {
   "cell_type": "code",
   "execution_count": 96,
   "metadata": {},
   "outputs": [],
   "source": [
    "# And now we'll create an instance of the OpenAI class\n",
    "# If you're not sure what it means to create an instance of a class - head over to the guides folder (guide 6)!\n",
    "# If you get a NameError - head over to the guides folder (guide 6)to learn about NameErrors - always instantly fixable\n",
    "# If you're not using OpenAI, you just need to slightly modify this - precise instructions are in the AI APIs guide (guide 9)\n",
    "\n",
    "openai = OpenAI()"
   ]
  },
  {
   "cell_type": "code",
   "execution_count": 97,
   "metadata": {},
   "outputs": [],
   "source": [
    "# Create a list of messages in the familiar OpenAI format\n",
    "\n",
    "messages = [{\"role\": \"user\", \"content\": \"What is 2+2?\"}]"
   ]
  },
  {
   "cell_type": "code",
   "execution_count": 98,
   "metadata": {},
   "outputs": [
    {
     "name": "stdout",
     "output_type": "stream",
     "text": [
      "2 + 2 equals 4.\n"
     ]
    }
   ],
   "source": [
    "# And now call it! Any problems, head to the troubleshooting guide\n",
    "# This uses GPT 4.1 nano, the incredibly cheap model\n",
    "# The APIs guide (guide 9) has exact instructions for using even cheaper or free alternatives to OpenAI\n",
    "# If you get a NameError, head to the guides folder (guide 6) to learn about NameErrors - always instantly fixable\n",
    "\n",
    "response = openai.chat.completions.create(\n",
    "    model=\"gpt-4.1-nano\",\n",
    "    messages=messages\n",
    ")\n",
    "\n",
    "print(response.choices[0].message.content)\n"
   ]
  },
  {
   "cell_type": "code",
   "execution_count": 99,
   "metadata": {},
   "outputs": [],
   "source": [
    "# And now - let's ask for a question:\n",
    "\n",
    "question = \"Please propose a hard, challenging question to assess someone's IQ. Respond only with the question.\"\n",
    "messages = [{\"role\": \"user\", \"content\": question}]\n"
   ]
  },
  {
   "cell_type": "code",
   "execution_count": 100,
   "metadata": {},
   "outputs": [
    {
     "name": "stdout",
     "output_type": "stream",
     "text": [
      "A bat and a ball cost $1.10 in total. The bat costs $1.00 more than the ball. How much does the ball cost?\n"
     ]
    }
   ],
   "source": [
    "# ask it - this uses GPT 4.1 mini, still cheap but more powerful than nano\n",
    "\n",
    "response = openai.chat.completions.create(\n",
    "    model=\"gpt-4.1-mini\",\n",
    "    messages=messages\n",
    ")\n",
    "\n",
    "question = response.choices[0].message.content\n",
    "\n",
    "print(question)\n"
   ]
  },
  {
   "cell_type": "code",
   "execution_count": 101,
   "metadata": {},
   "outputs": [],
   "source": [
    "# form a new messages list\n",
    "messages = [{\"role\": \"user\", \"content\": question}]\n"
   ]
  },
  {
   "cell_type": "code",
   "execution_count": 102,
   "metadata": {},
   "outputs": [
    {
     "name": "stdout",
     "output_type": "stream",
     "text": [
      "Let's define the variables:\n",
      "\n",
      "- Let **x** = cost of the ball  \n",
      "- Then the bat costs **x + $1.00**\n",
      "\n",
      "According to the problem:\n",
      "\n",
      "\\[\n",
      "x + (x + 1.00) = 1.10\n",
      "\\]\n",
      "\n",
      "Simplify:\n",
      "\n",
      "\\[\n",
      "2x + 1.00 = 1.10\n",
      "\\]\n",
      "\n",
      "Subtract 1.00 from both sides:\n",
      "\n",
      "\\[\n",
      "2x = 0.10\n",
      "\\]\n",
      "\n",
      "Divide both sides by 2:\n",
      "\n",
      "\\[\n",
      "x = 0.05\n",
      "\\]\n",
      "\n",
      "**Answer:** The ball costs **5 cents**.\n"
     ]
    }
   ],
   "source": [
    "# Ask it again\n",
    "\n",
    "response = openai.chat.completions.create(\n",
    "    model=\"gpt-4.1-mini\",\n",
    "    messages=messages\n",
    ")\n",
    "\n",
    "answer = response.choices[0].message.content\n",
    "print(answer)\n"
   ]
  },
  {
   "cell_type": "code",
   "execution_count": 103,
   "metadata": {},
   "outputs": [
    {
     "data": {
      "text/markdown": [
       "Let's define the variables:\n",
       "\n",
       "- Let **x** = cost of the ball  \n",
       "- Then the bat costs **x + $1.00**\n",
       "\n",
       "According to the problem:\n",
       "\n",
       "\\[\n",
       "x + (x + 1.00) = 1.10\n",
       "\\]\n",
       "\n",
       "Simplify:\n",
       "\n",
       "\\[\n",
       "2x + 1.00 = 1.10\n",
       "\\]\n",
       "\n",
       "Subtract 1.00 from both sides:\n",
       "\n",
       "\\[\n",
       "2x = 0.10\n",
       "\\]\n",
       "\n",
       "Divide both sides by 2:\n",
       "\n",
       "\\[\n",
       "x = 0.05\n",
       "\\]\n",
       "\n",
       "**Answer:** The ball costs **5 cents**."
      ],
      "text/plain": [
       "<IPython.core.display.Markdown object>"
      ]
     },
     "metadata": {},
     "output_type": "display_data"
    }
   ],
   "source": [
    "from IPython.display import Markdown, display\n",
    "\n",
    "display(Markdown(answer))\n",
    "\n"
   ]
  },
  {
   "cell_type": "markdown",
   "metadata": {},
   "source": [
    "# Congratulations!\n",
    "\n",
    "That was a small, simple step in the direction of Agentic AI, with your new environment!\n",
    "\n",
    "Next time things get more interesting..."
   ]
  },
  {
   "cell_type": "markdown",
   "metadata": {},
   "source": [
    "<table style=\"margin: 0; text-align: left; width:100%\">\n",
    "    <tr>\n",
    "        <td style=\"width: 150px; height: 150px; vertical-align: middle;\">\n",
    "            <img src=\"../assets/exercise.png\" width=\"150\" height=\"150\" style=\"display: block;\" />\n",
    "        </td>\n",
    "        <td>\n",
    "            <h2 style=\"color:#ff7800;\">Exercise</h2>\n",
    "            <span style=\"color:#ff7800;\">Now try this commercial application:<br/>\n",
    "            First ask the LLM to pick a business area that might be worth exploring for an Agentic AI opportunity.<br/>\n",
    "            Then ask the LLM to present a pain-point in that industry - something challenging that might be ripe for an Agentic solution.<br/>\n",
    "            Finally have 3 third LLM call propose the Agentic AI solution. <br/>\n",
    "            We will cover this at up-coming labs, so don't worry if you're unsure.. just give it a try!\n",
    "            </span>\n",
    "        </td>\n",
    "    </tr>\n",
    "</table>"
   ]
  },
  {
   "cell_type": "code",
   "execution_count": 115,
   "metadata": {},
   "outputs": [
    {
     "ename": "SyntaxError",
     "evalue": "invalid syntax (2901051077.py, line 7)",
     "output_type": "error",
     "traceback": [
      "  \u001b[36mCell\u001b[39m\u001b[36m \u001b[39m\u001b[32mIn[115]\u001b[39m\u001b[32m, line 7\u001b[39m\n\u001b[31m    \u001b[39m\u001b[31mresponse =\u001b[39m\n              ^\n\u001b[31mSyntaxError\u001b[39m\u001b[31m:\u001b[39m invalid syntax\n"
     ]
    }
   ],
   "source": [
    "# First create the messages:\n",
    "\n",
    "messages = [{\"role\": \"user\", \"content\": \"Something here\"}]\n",
    "\n",
    "# Then make the first call:\n",
    "\n",
    "response =\n",
    "\n",
    "# Then read the business idea:\n",
    "\n",
    "business_idea = response.\n",
    "\n",
    "# And repeat! In the next message, include the business idea within the message"
   ]
  },
  {
   "cell_type": "markdown",
   "metadata": {},
   "source": []
  }
 ],
 "metadata": {
  "kernelspec": {
   "display_name": ".venv",
   "language": "python",
   "name": "python3"
  },
  "language_info": {
   "codemirror_mode": {
    "name": "ipython",
    "version": 3
   },
   "file_extension": ".py",
   "mimetype": "text/x-python",
   "name": "python",
   "nbconvert_exporter": "python",
   "pygments_lexer": "ipython3",
   "version": "3.12.9"
  }
 },
 "nbformat": 4,
 "nbformat_minor": 2
}
