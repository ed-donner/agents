{
 "cells": [
  {
   "cell_type": "markdown",
   "metadata": {},
   "source": [
    "# Welcome to the start of your adventure in Agentic AI"
   ]
  },
  {
   "cell_type": "markdown",
   "metadata": {},
   "source": [
    "<table style=\"margin: 0; text-align: left; width:100%\">\n",
    "    <tr>\n",
    "        <td style=\"width: 150px; height: 150px; vertical-align: middle;\">\n",
    "            <img src=\"../assets/stop.png\" width=\"150\" height=\"150\" style=\"display: block;\" />\n",
    "        </td>\n",
    "        <td>\n",
    "            <h2 style=\"color:#ff7800;\">Are you ready for action??</h2>\n",
    "            <span style=\"color:#ff7800;\">Have you completed all the setup steps in the <a href=\"../setup/\">setup</a> folder?<br/>\n",
    "            Have you read the <a href=\"../README.md\">README</a>? Many common questions are answered here!<br/>\n",
    "            Have you checked out the guides in the <a href=\"../guides/01_intro.ipynb\">guides</a> folder?<br/>\n",
    "            Well in that case, you're ready!!\n",
    "            </span>\n",
    "        </td>\n",
    "    </tr>\n",
    "</table>"
   ]
  },
  {
   "cell_type": "markdown",
   "metadata": {},
   "source": [
    "<table style=\"margin: 0; text-align: left; width:100%\">\n",
    "    <tr>\n",
    "        <td style=\"width: 150px; height: 150px; vertical-align: middle;\">\n",
    "            <img src=\"../assets/tools.png\" width=\"150\" height=\"150\" style=\"display: block;\" />\n",
    "        </td>\n",
    "        <td>\n",
    "            <h2 style=\"color:#00bfff;\">This code is a live resource - keep an eye out for my updates</h2>\n",
    "            <span style=\"color:#00bfff;\">I push updates regularly. As people ask questions or have problems, I add more examples and improve explanations. As a result, the code below might not be identical to the videos, as I've added more steps and better comments. Consider this like an interactive book that accompanies the lectures.<br/><br/>\n",
    "            I try to send emails regularly with important updates related to the course. You can find this in the 'Announcements' section of Udemy in the left sidebar. You can also choose to receive my emails via your Notification Settings in Udemy. I'm respectful of your inbox and always try to add value with my emails!\n",
    "            </span>\n",
    "        </td>\n",
    "    </tr>\n",
    "</table>"
   ]
  },
  {
   "cell_type": "markdown",
   "metadata": {},
   "source": [
    "### And please do remember to contact me if I can help\n",
    "\n",
    "And I love to connect: https://www.linkedin.com/in/eddonner/\n",
    "\n",
    "\n",
    "### New to Notebooks like this one? Head over to the guides folder!\n",
    "\n",
    "Just to check you've already added the Python and Jupyter extensions to Cursor, if not already installed:\n",
    "- Open extensions (View >> extensions)\n",
    "- Search for python, and when the results show, click on the ms-python one, and Install it if not already installed\n",
    "- Search for jupyter, and when the results show, click on the Microsoft one, and Install it if not already installed  \n",
    "Then View >> Explorer to bring back the File Explorer.\n",
    "\n",
    "And then:\n",
    "1. Click where it says \"Select Kernel\" near the top right, and select the option called `.venv (Python 3.12.9)` or similar, which should be the first choice or the most prominent choice. You may need to choose \"Python Environments\" first.\n",
    "2. Click in each \"cell\" below, starting with the cell immediately below this text, and press Shift+Enter to run\n",
    "3. Enjoy!\n",
    "\n",
    "After you click \"Select Kernel\", if there is no option like `.venv (Python 3.12.9)` then please do the following:  \n",
    "1. On Mac: From the Cursor menu, choose Settings >> VS Code Settings (NOTE: be sure to select `VSCode Settings` not `Cursor Settings`);  \n",
    "On Windows PC: From the File menu, choose Preferences >> VS Code Settings(NOTE: be sure to select `VSCode Settings` not `Cursor Settings`)  \n",
    "2. In the Settings search bar, type \"venv\"  \n",
    "3. In the field \"Path to folder with a list of Virtual Environments\" put the path to the project root, like C:\\Users\\username\\projects\\agents (on a Windows PC) or /Users/username/projects/agents (on Mac or Linux).  \n",
    "And then try again.\n",
    "\n",
    "Having problems with missing Python versions in that list? Have you ever used Anaconda before? It might be interferring. Quit Cursor, bring up a new command line, and make sure that your Anaconda environment is deactivated:    \n",
    "`conda deactivate`  \n",
    "And if you still have any problems with conda and python versions, it's possible that you will need to run this too:  \n",
    "`conda config --set auto_activate_base false`  \n",
    "and then from within the Agents directory, you should be able to run `uv python list` and see the Python 3.12 version."
   ]
  },
  {
   "cell_type": "code",
   "execution_count": 1,
   "metadata": {},
   "outputs": [],
   "source": [
    "# First let's do an import. If you get an Import Error, double check that your Kernel is correct..\n",
    "\n",
    "from dotenv import load_dotenv\n"
   ]
  },
  {
   "cell_type": "code",
   "execution_count": 2,
   "metadata": {},
   "outputs": [
    {
     "data": {
      "text/plain": [
       "True"
      ]
     },
     "execution_count": 2,
     "metadata": {},
     "output_type": "execute_result"
    }
   ],
   "source": [
    "# Next it's time to load the API keys into environment variables\n",
    "# If this returns false, see the next cell!\n",
    "\n",
    "load_dotenv(override=True)"
   ]
  },
  {
   "cell_type": "markdown",
   "metadata": {},
   "source": [
    "### Wait, did that just output `False`??\n",
    "\n",
    "If so, the most common reason is that you didn't save your `.env` file after adding the key! Be sure to have saved.\n",
    "\n",
    "Also, make sure the `.env` file is named precisely `.env` and is in the project root directory (`agents`)\n",
    "\n",
    "By the way, your `.env` file should have a stop symbol next to it in Cursor on the left, and that's actually a good thing: that's Cursor saying to you, \"hey, I realize this is a file filled with secret information, and I'm not going to send it to an external AI to suggest changes, because your keys should not be shown to anyone else.\""
   ]
  },
  {
   "cell_type": "markdown",
   "metadata": {},
   "source": [
    "<table style=\"margin: 0; text-align: left; width:100%\">\n",
    "    <tr>\n",
    "        <td style=\"width: 150px; height: 150px; vertical-align: middle;\">\n",
    "            <img src=\"../assets/stop.png\" width=\"150\" height=\"150\" style=\"display: block;\" />\n",
    "        </td>\n",
    "        <td>\n",
    "            <h2 style=\"color:#ff7800;\">Final reminders</h2>\n",
    "            <span style=\"color:#ff7800;\">1. If you're not confident about Environment Variables or Web Endpoints / APIs, please read Topics 3 and 5 in this <a href=\"../guides/04_technical_foundations.ipynb\">technical foundations guide</a>.<br/>\n",
    "            2. If you want to use AIs other than OpenAI, like Gemini, DeepSeek or Ollama (free), please see the first section in this <a href=\"../guides/09_ai_apis_and_ollama.ipynb\">AI APIs guide</a>.<br/>\n",
    "            3. If you ever get a Name Error in Python, you can always fix it immediately; see the last section of this <a href=\"../guides/06_python_foundations.ipynb\">Python Foundations guide</a> and follow both tutorials and exercises.<br/>\n",
    "            </span>\n",
    "        </td>\n",
    "    </tr>\n",
    "</table>"
   ]
  },
  {
   "cell_type": "code",
   "execution_count": 3,
   "metadata": {},
   "outputs": [
    {
     "name": "stdout",
     "output_type": "stream",
     "text": [
      "OpenAI API Key exists and begins sk-proj-\n"
     ]
    }
   ],
   "source": [
    "# Check the key - if you're not using OpenAI, check whichever key you're using! Ollama doesn't need a key.\n",
    "\n",
    "import os\n",
    "openai_api_key = os.getenv('OPENAI_API_KEY')\n",
    "\n",
    "if openai_api_key:\n",
    "    print(f\"OpenAI API Key exists and begins {openai_api_key[:8]}\")\n",
    "else:\n",
    "    print(\"OpenAI API Key not set - please head to the troubleshooting guide in the setup folder\")\n",
    "    \n"
   ]
  },
  {
   "cell_type": "code",
   "execution_count": 4,
   "metadata": {},
   "outputs": [],
   "source": [
    "# And now - the all important import statement\n",
    "# If you get an import error - head over to troubleshooting in the Setup folder\n",
    "\n",
    "from openai import OpenAI"
   ]
  },
  {
   "cell_type": "code",
   "execution_count": 5,
   "metadata": {},
   "outputs": [],
   "source": [
    "# And now we'll create an instance of the OpenAI class\n",
    "# If you're not sure what it means to create an instance of a class - head over to the guides folder (guide 6)!\n",
    "# If you get a NameError - head over to the guides folder (guide 6)to learn about NameErrors - always instantly fixable\n",
    "# If you're not using OpenAI, you just need to slightly modify this - precise instructions are in the AI APIs guide (guide 9)\n",
    "\n",
    "openai = OpenAI()"
   ]
  },
  {
   "cell_type": "code",
   "execution_count": 6,
   "metadata": {},
   "outputs": [],
   "source": [
    "# Create a list of messages in the familiar OpenAI format\n",
    "\n",
    "messages = [{\"role\": \"user\", \"content\": \"What is 2+2?\"}]"
   ]
  },
  {
   "cell_type": "code",
   "execution_count": 7,
   "metadata": {},
   "outputs": [
    {
     "name": "stdout",
     "output_type": "stream",
     "text": [
      "2 + 2 equals 4.\n"
     ]
    }
   ],
   "source": [
    "# And now call it! Any problems, head to the troubleshooting guide\n",
    "# This uses GPT 4.1 nano, the incredibly cheap model\n",
    "# The APIs guide (guide 9) has exact instructions for using even cheaper or free alternatives to OpenAI\n",
    "# If you get a NameError, head to the guides folder (guide 6) to learn about NameErrors - always instantly fixable\n",
    "\n",
    "response = openai.chat.completions.create(\n",
    "    model=\"gpt-4.1-nano\",\n",
    "    messages=messages\n",
    ")\n",
    "\n",
    "print(response.choices[0].message.content)\n"
   ]
  },
  {
   "cell_type": "code",
   "execution_count": 8,
   "metadata": {},
   "outputs": [],
   "source": [
    "# And now - let's ask for a question:\n",
    "\n",
    "question = \"Please propose a hard, challenging question to assess someone's IQ. Respond only with the question.\"\n",
    "messages = [{\"role\": \"user\", \"content\": question}]\n"
   ]
  },
  {
   "cell_type": "code",
   "execution_count": 9,
   "metadata": {},
   "outputs": [
    {
     "name": "stdout",
     "output_type": "stream",
     "text": [
      "If it takes five machines five minutes to make five widgets, how long would it take 100 machines to make 100 widgets?\n"
     ]
    }
   ],
   "source": [
    "# ask it - this uses GPT 4.1 mini, still cheap but more powerful than nano\n",
    "\n",
    "response = openai.chat.completions.create(\n",
    "    model=\"gpt-4.1-mini\",\n",
    "    messages=messages\n",
    ")\n",
    "\n",
    "question = response.choices[0].message.content\n",
    "\n",
    "print(question)\n"
   ]
  },
  {
   "cell_type": "code",
   "execution_count": 10,
   "metadata": {},
   "outputs": [],
   "source": [
    "# form a new messages list\n",
    "messages = [{\"role\": \"user\", \"content\": question}]\n"
   ]
  },
  {
   "cell_type": "code",
   "execution_count": 11,
   "metadata": {},
   "outputs": [
    {
     "name": "stdout",
     "output_type": "stream",
     "text": [
      "Let's analyze the problem step-by-step:\n",
      "\n",
      "- **Given:** 5 machines take 5 minutes to make 5 widgets.\n",
      "- We want to find: How long will 100 machines take to make 100 widgets?\n",
      "\n",
      "### Step 1: Find the rate of one machine.\n",
      "If 5 machines take 5 minutes to make 5 widgets, then they produce:\n",
      "\n",
      "\\[\n",
      "\\frac{5 \\text{ widgets}}{5 \\text{ minutes}} = 1 \\text{ widget per minute (for 5 machines)}\n",
      "\\]\n",
      "\n",
      "Since this is the rate for 5 machines together, the rate for one machine is:\n",
      "\n",
      "\\[\n",
      "\\frac{1 \\text{ widget per minute}}{5} = \\frac{1}{5} \\text{ widget per minute}\n",
      "\\]\n",
      "\n",
      "One machine makes \\(\\frac{1}{5}\\) of a widget per minute.\n",
      "\n",
      "### Step 2: Find how long 100 machines take to make 100 widgets.\n",
      "The combined rate for 100 machines is:\n",
      "\n",
      "\\[\n",
      "100 \\times \\frac{1}{5} = 20 \\text{ widgets per minute}\n",
      "\\]\n",
      "\n",
      "To make 100 widgets at this rate, time required is:\n",
      "\n",
      "\\[\n",
      "\\frac{100 \\text{ widgets}}{20 \\text{ widgets per minute}} = 5 \\text{ minutes}\n",
      "\\]\n",
      "\n",
      "### **Answer:** It takes **5 minutes** for 100 machines to make 100 widgets.\n"
     ]
    }
   ],
   "source": [
    "# Ask it again\n",
    "\n",
    "response = openai.chat.completions.create(\n",
    "    model=\"gpt-4.1-mini\",\n",
    "    messages=messages\n",
    ")\n",
    "\n",
    "answer = response.choices[0].message.content\n",
    "print(answer)\n"
   ]
  },
  {
   "cell_type": "code",
   "execution_count": 12,
   "metadata": {},
   "outputs": [
    {
     "data": {
      "text/markdown": [
       "Let's analyze the problem step-by-step:\n",
       "\n",
       "- **Given:** 5 machines take 5 minutes to make 5 widgets.\n",
       "- We want to find: How long will 100 machines take to make 100 widgets?\n",
       "\n",
       "### Step 1: Find the rate of one machine.\n",
       "If 5 machines take 5 minutes to make 5 widgets, then they produce:\n",
       "\n",
       "\\[\n",
       "\\frac{5 \\text{ widgets}}{5 \\text{ minutes}} = 1 \\text{ widget per minute (for 5 machines)}\n",
       "\\]\n",
       "\n",
       "Since this is the rate for 5 machines together, the rate for one machine is:\n",
       "\n",
       "\\[\n",
       "\\frac{1 \\text{ widget per minute}}{5} = \\frac{1}{5} \\text{ widget per minute}\n",
       "\\]\n",
       "\n",
       "One machine makes \\(\\frac{1}{5}\\) of a widget per minute.\n",
       "\n",
       "### Step 2: Find how long 100 machines take to make 100 widgets.\n",
       "The combined rate for 100 machines is:\n",
       "\n",
       "\\[\n",
       "100 \\times \\frac{1}{5} = 20 \\text{ widgets per minute}\n",
       "\\]\n",
       "\n",
       "To make 100 widgets at this rate, time required is:\n",
       "\n",
       "\\[\n",
       "\\frac{100 \\text{ widgets}}{20 \\text{ widgets per minute}} = 5 \\text{ minutes}\n",
       "\\]\n",
       "\n",
       "### **Answer:** It takes **5 minutes** for 100 machines to make 100 widgets."
      ],
      "text/plain": [
       "<IPython.core.display.Markdown object>"
      ]
     },
     "metadata": {},
     "output_type": "display_data"
    }
   ],
   "source": [
    "from IPython.display import Markdown, display\n",
    "\n",
    "display(Markdown(answer))\n",
    "\n"
   ]
  },
  {
   "cell_type": "markdown",
   "metadata": {},
   "source": [
    "# Congratulations!\n",
    "\n",
    "That was a small, simple step in the direction of Agentic AI, with your new environment!\n",
    "\n",
    "Next time things get more interesting..."
   ]
  },
  {
   "cell_type": "markdown",
   "metadata": {},
   "source": [
    "<table style=\"margin: 0; text-align: left; width:100%\">\n",
    "    <tr>\n",
    "        <td style=\"width: 150px; height: 150px; vertical-align: middle;\">\n",
    "            <img src=\"../assets/exercise.png\" width=\"150\" height=\"150\" style=\"display: block;\" />\n",
    "        </td>\n",
    "        <td>\n",
    "            <h2 style=\"color:#ff7800;\">Exercise</h2>\n",
    "            <span style=\"color:#ff7800;\">Now try this commercial application:<br/>\n",
    "            First ask the LLM to pick a business area that might be worth exploring for an Agentic AI opportunity.<br/>\n",
    "            Then ask the LLM to present a pain-point in that industry - something challenging that might be ripe for an Agentic solution.<br/>\n",
    "            Finally have 3 third LLM call propose the Agentic AI solution. <br/>\n",
    "            We will cover this at up-coming labs, so don't worry if you're unsure.. just give it a try!\n",
    "            </span>\n",
    "        </td>\n",
    "    </tr>\n",
    "</table>"
   ]
  },
  {
   "cell_type": "code",
   "execution_count": 15,
   "metadata": {},
   "outputs": [
    {
     "name": "stdout",
     "output_type": "stream",
     "text": [
      "Given your background in enterprise software sales, you have firsthand experience navigating complex B2B sales cycles, understanding diverse industry pain points, managing stakeholder relationships, and tailoring solutions to large organizations' needs. This skill set uniquely positions you to identify high-impact Agentic AI opportunities in sectors where enterprise processes are complex and where AI could both automate decision-making and drive measurable business outcomes.\n",
      "\n",
      "Here are some promising business areas where your sales expertise could provide valuable insights for developing an Agentic AI solution:\n",
      "\n",
      "### 1. **Sales Enablement and Revenue Operations**\n",
      "- **Why:** You understand the sales funnel, CRM utilization, pipeline management, forecasting, and sales coaching. Agentic AI agents could optimize these processes by automatically identifying deal risks, suggesting next best actions, generating customized outreach messages, or dynamically reallocating resources.\n",
      "- **Opportunity:** Develop an AI agent that acts as a virtual sales ops assistant, providing actionable insights, automating routine workflows (like updating CRM data), and enabling personalized customer engagement strategies at scale.\n",
      "- **Your edge:** Deep knowledge of typical sales KPIs, objections, and stakeholder dynamics allows you to design AI that truly supports sales reps and managers.\n",
      "\n",
      "### 2. **Enterprise Customer Support and Success**\n",
      "- **Why:** Enterprise companies struggle with scaling customer support and ensuring customer success outcomes, which directly affect renewals and upsells. Agentic AI could automate ticket triage, resolution, and proactive outreach.\n",
      "- **Opportunity:** Build AI agents that understand customer health scores, usage patterns, and sentiment to trigger retention workflows without human intervention, freeing up support teams to focus on complex issues.\n",
      "- **Your edge:** Sales background equips you to align AI-driven customer success efforts with revenue goals, helping prioritize accounts with expansion potential.\n",
      "\n",
      "### 3. **Procurement and Supply Chain Management**\n",
      "- **Why:** Procurement is process-heavy and involves negotiation and multi-stakeholder approvals—similar to sales cycles. AI agents can automate supplier selection, contract analysis, risk assessment, and order tracking.\n",
      "- **Opportunity:** An agentic AI solution that autonomously manages procurement workflows while negotiating contract terms based on historical data and compliance rules.\n",
      "- **Your edge:** Your experience with enterprise negotiations and contract management can inform AI designed to optimize vendor relationships and cost efficiencies.\n",
      "\n",
      "### 4. **Human Resources (Talent Acquisition and Management)**\n",
      "- **Why:** Recruiting and employee management involve complex workflows: screening resumes, scheduling interviews, managing offers, or employee engagement initiatives. AI agents can act autonomously in these processes.\n",
      "- **Opportunity:** AI-driven talent sourcing and candidate outreach agents, or AI that autonomously drives employee engagement surveys and suggests retention actions.\n",
      "- **Your edge:** Sales acumen around managing multiple stakeholders and championing solutions aligns well with the multi-party nature of HR processes.\n",
      "\n",
      "### 5. **Financial Services and Compliance**\n",
      "- **Why:** Financial institutions deal with extensive regulatory compliance and risk management. Agentic AI can help automate monitoring, reporting, fraud detection, and even customer advising.\n",
      "- **Opportunity:** AI agents proactively ensuring compliance or autonomously managing portfolio recommendations for clients based on regulatory constraints.\n",
      "- **Your edge:** Enterprise sales often involve regulated industries; your understanding of compliance at a sales level can help shape AI solutions that meet stringent enterprise criteria.\n",
      "\n",
      "---\n",
      "\n",
      "### Summary Recommendation:\n",
      "**Sales Enablement and Revenue Operations** stands out as the highest-potential niche given your background. You have deep domain expertise in sales workflows and revenue-impacting metrics, which are central to organizations’ success. Developing an Agentic AI that acts as a hands-free sales operations assistant or deal coach could revolutionize enterprise sales processes and has a clear path to ROI.\n",
      "\n",
      "---\n",
      "\n",
      "### Next Steps:\n",
      "- Conduct customer discovery with sales leaders and operations teams to identify pain points suitable for Agentic AI.\n",
      "- Assess existing sales technology stacks to find AI integration points.\n",
      "- Explore partnerships with CRM providers or revenue intelligence platforms.\n",
      "- Prototype a pilot focusing on automating one high-impact sales activity—like deal risk assessment or personalized outreach generation.\n",
      "\n",
      "Your unique combination of sales experience and interest in AI positions you well to create solutions that directly speak to enterprise needs while demonstrating clear business value. Let me know if you want me to help you draft outreach materials or develop a go-to-market strategy for this idea!\n"
     ]
    }
   ],
   "source": [
    "# First create the messages:\n",
    "business_question = \"Based on my background in enterprise software sales, what business area would be most promising for exploring an Agentic AI opportunity? Please consider industries where my sales expertise could provide valuable insights for developing an AI solution.\"\n",
    "messages = [{\"role\": \"user\", \"content\": business_question}]\n",
    "# Then make the first call:\n",
    "\n",
    "\n",
    "response = openai.chat.completions.create( \n",
    "    model=\"gpt-4.1-mini\",\n",
    "    messages=messages\n",
    ")\n",
    "\n",
    "# Then read the business idea:\n",
    "\n",
    "business_idea = response.choices[0].message.content\n",
    "\n",
    "print(business_idea)\n",
    "\n",
    "\n",
    "\n",
    "\n",
    "\n",
    "\n",
    "business_question_2 = f\"Based on the business idea: {business_idea}, what are the key challenges and opportunities for developing an AI solution? Please consider the following: 1. What are the key challenges and opportunities for developing an AI solution? 2. What are the key challenges and opportunities for developing an AI solution? 3. What are the key challenges and opportunities for developing an AI solution?\"\n",
    "messages = [{\"role\": \"user\", \"content\": business_question_2}]\n",
    "\n",
    "response = openai.chat.completions.create( \n",
    "    model=\"gpt-4.1-mini\",\n",
    "    messages=messages\n",
    ")\n",
    "\n",
    "# And repeat!\n",
    "\n",
    "\n",
    "\n",
    "\n",
    "\n",
    "\n",
    "# And repeat! In the next message, include the business idea within the message"
   ]
  },
  {
   "cell_type": "markdown",
   "metadata": {},
   "source": []
  },
  {
   "cell_type": "markdown",
   "metadata": {},
   "source": []
  }
 ],
 "metadata": {
  "kernelspec": {
   "display_name": ".venv",
   "language": "python",
   "name": "python3"
  },
  "language_info": {
   "codemirror_mode": {
    "name": "ipython",
    "version": 3
   },
   "file_extension": ".py",
   "mimetype": "text/x-python",
   "name": "python",
   "nbconvert_exporter": "python",
   "pygments_lexer": "ipython3",
   "version": "3.12.11"
  }
 },
 "nbformat": 4,
 "nbformat_minor": 2
}
