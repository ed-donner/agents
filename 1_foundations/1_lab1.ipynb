{
 "cells": [
  {
   "cell_type": "markdown",
   "metadata": {},
   "source": [
    "# Welcome to the start of your adventure in Agentic AI"
   ]
  },
  {
   "cell_type": "markdown",
   "metadata": {},
   "source": [
    "<table style=\"margin: 0; text-align: left; width:100%\">\n",
    "    <tr>\n",
    "        <td style=\"width: 150px; height: 150px; vertical-align: middle;\">\n",
    "            <img src=\"../assets/stop.png\" width=\"150\" height=\"150\" style=\"display: block;\" />\n",
    "        </td>\n",
    "        <td>\n",
    "            <h2 style=\"color:#ff7800;\">Are you ready for action??</h2>\n",
    "            <span style=\"color:#ff7800;\">Have you completed all the setup steps in the <a href=\"../setup/\">setup</a> folder?<br/>\n",
    "            Have you read the <a href=\"../README.md\">README</a>? Many common questions are answered here!<br/>\n",
    "            Have you checked out the guides in the <a href=\"../guides/01_intro.ipynb\">guides</a> folder?<br/>\n",
    "            Well in that case, you're ready!!\n",
    "            </span>\n",
    "        </td>\n",
    "    </tr>\n",
    "</table>"
   ]
  },
  {
   "cell_type": "markdown",
   "metadata": {},
   "source": [
    "<table style=\"margin: 0; text-align: left; width:100%\">\n",
    "    <tr>\n",
    "        <td style=\"width: 150px; height: 150px; vertical-align: middle;\">\n",
    "            <img src=\"../assets/tools.png\" width=\"150\" height=\"150\" style=\"display: block;\" />\n",
    "        </td>\n",
    "        <td>\n",
    "            <h2 style=\"color:#00bfff;\">This code is a live resource - keep an eye out for my updates</h2>\n",
    "            <span style=\"color:#00bfff;\">I push updates regularly. As people ask questions or have problems, I add more examples and improve explanations. As a result, the code below might not be identical to the videos, as I've added more steps and better comments. Consider this like an interactive book that accompanies the lectures.<br/><br/>\n",
    "            I try to send emails regularly with important updates related to the course. You can find this in the 'Announcements' section of Udemy in the left sidebar. You can also choose to receive my emails via your Notification Settings in Udemy. I'm respectful of your inbox and always try to add value with my emails!\n",
    "            </span>\n",
    "        </td>\n",
    "    </tr>\n",
    "</table>"
   ]
  },
  {
   "cell_type": "markdown",
   "metadata": {},
   "source": [
    "### And please do remember to contact me if I can help\n",
    "\n",
    "And I love to connect: https://www.linkedin.com/in/eddonner/\n",
    "\n",
    "\n",
    "### New to Notebooks like this one? Head over to the guides folder!\n",
    "\n",
    "Just to check you've already added the Python and Jupyter extensions to Cursor, if not already installed:\n",
    "- Open extensions (View >> extensions)\n",
    "- Search for python, and when the results show, click on the ms-python one, and Install it if not already installed\n",
    "- Search for jupyter, and when the results show, click on the Microsoft one, and Install it if not already installed  \n",
    "Then View >> Explorer to bring back the File Explorer.\n",
    "\n",
    "And then:\n",
    "1. Click where it says \"Select Kernel\" near the top right, and select the option called `.venv (Python 3.12.9)` or similar, which should be the first choice or the most prominent choice. You may need to choose \"Python Environments\" first.\n",
    "2. Click in each \"cell\" below, starting with the cell immediately below this text, and press Shift+Enter to run\n",
    "3. Enjoy!\n",
    "\n",
    "After you click \"Select Kernel\", if there is no option like `.venv (Python 3.12.9)` then please do the following:  \n",
    "1. On Mac: From the Cursor menu, choose Settings >> VS Code Settings (NOTE: be sure to select `VSCode Settings` not `Cursor Settings`);  \n",
    "On Windows PC: From the File menu, choose Preferences >> VS Code Settings(NOTE: be sure to select `VSCode Settings` not `Cursor Settings`)  \n",
    "2. In the Settings search bar, type \"venv\"  \n",
    "3. In the field \"Path to folder with a list of Virtual Environments\" put the path to the project root, like C:\\Users\\username\\projects\\agents (on a Windows PC) or /Users/username/projects/agents (on Mac or Linux).  \n",
    "And then try again.\n",
    "\n",
    "Having problems with missing Python versions in that list? Have you ever used Anaconda before? It might be interferring. Quit Cursor, bring up a new command line, and make sure that your Anaconda environment is deactivated:    \n",
    "`conda deactivate`  \n",
    "And if you still have any problems with conda and python versions, it's possible that you will need to run this too:  \n",
    "`conda config --set auto_activate_base false`  \n",
    "and then from within the Agents directory, you should be able to run `uv python list` and see the Python 3.12 version."
   ]
  },
  {
   "cell_type": "code",
   "execution_count": 1,
   "metadata": {},
   "outputs": [],
   "source": [
    "# First let's do an import. If you get an Import Error, double check that your Kernel is correct..\n",
    "\n",
    "from dotenv import load_dotenv\n"
   ]
  },
  {
   "cell_type": "code",
   "execution_count": 2,
   "metadata": {},
   "outputs": [
    {
     "data": {
      "text/plain": [
       "True"
      ]
     },
     "execution_count": 2,
     "metadata": {},
     "output_type": "execute_result"
    }
   ],
   "source": [
    "# Next it's time to load the API keys into environment variables\n",
    "# If this returns false, see the next cell!\n",
    "\n",
    "load_dotenv(override=True)"
   ]
  },
  {
   "cell_type": "markdown",
   "metadata": {},
   "source": [
    "### Wait, did that just output `False`??\n",
    "\n",
    "If so, the most common reason is that you didn't save your `.env` file after adding the key! Be sure to have saved.\n",
    "\n",
    "Also, make sure the `.env` file is named precisely `.env` and is in the project root directory (`agents`)\n",
    "\n",
    "By the way, your `.env` file should have a stop symbol next to it in Cursor on the left, and that's actually a good thing: that's Cursor saying to you, \"hey, I realize this is a file filled with secret information, and I'm not going to send it to an external AI to suggest changes, because your keys should not be shown to anyone else.\""
   ]
  },
  {
   "cell_type": "markdown",
   "metadata": {},
   "source": [
    "<table style=\"margin: 0; text-align: left; width:100%\">\n",
    "    <tr>\n",
    "        <td style=\"width: 150px; height: 150px; vertical-align: middle;\">\n",
    "            <img src=\"../assets/stop.png\" width=\"150\" height=\"150\" style=\"display: block;\" />\n",
    "        </td>\n",
    "        <td>\n",
    "            <h2 style=\"color:#ff7800;\">Final reminders</h2>\n",
    "            <span style=\"color:#ff7800;\">1. If you're not confident about Environment Variables or Web Endpoints / APIs, please read Topics 3 and 5 in this <a href=\"../guides/04_technical_foundations.ipynb\">technical foundations guide</a>.<br/>\n",
    "            2. If you want to use AIs other than OpenAI, like Gemini, DeepSeek or Ollama (free), please see the first section in this <a href=\"../guides/09_ai_apis_and_ollama.ipynb\">AI APIs guide</a>.<br/>\n",
    "            3. If you ever get a Name Error in Python, you can always fix it immediately; see the last section of this <a href=\"../guides/06_python_foundations.ipynb\">Python Foundations guide</a> and follow both tutorials and exercises.<br/>\n",
    "            </span>\n",
    "        </td>\n",
    "    </tr>\n",
    "</table>"
   ]
  },
  {
   "cell_type": "code",
   "execution_count": 3,
   "metadata": {},
   "outputs": [
    {
     "name": "stdout",
     "output_type": "stream",
     "text": [
      "OpenAI API Key exists and begins sk-proj-\n"
     ]
    }
   ],
   "source": [
    "# Check the key - if you're not using OpenAI, check whichever key you're using! Ollama doesn't need a key.\n",
    "\n",
    "import os\n",
    "openai_api_key = os.getenv('OPENAI_API_KEY')\n",
    "\n",
    "if openai_api_key:\n",
    "    print(f\"OpenAI API Key exists and begins {openai_api_key[:8]}\")\n",
    "else:\n",
    "    print(\"OpenAI API Key not set - please head to the troubleshooting guide in the setup folder\")\n",
    "    \n"
   ]
  },
  {
   "cell_type": "code",
   "execution_count": 4,
   "metadata": {},
   "outputs": [],
   "source": [
    "# And now - the all important import statement\n",
    "# If you get an import error - head over to troubleshooting in the Setup folder\n",
    "# Even for other LLM providers like Gemini, you still use this OpenAI import - see Guide 9 for why\n",
    "\n",
    "from openai import OpenAI"
   ]
  },
  {
   "cell_type": "code",
   "execution_count": 5,
   "metadata": {},
   "outputs": [],
   "source": [
    "# And now we'll create an instance of the OpenAI class\n",
    "# If you're not sure what it means to create an instance of a class - head over to the guides folder (guide 6)!\n",
    "# If you get a NameError - head over to the guides folder (guide 6)to learn about NameErrors - always instantly fixable\n",
    "# If you're not using OpenAI, you just need to slightly modify this - precise instructions are in the AI APIs guide (guide 9)\n",
    "\n",
    "openai = OpenAI()"
   ]
  },
  {
   "cell_type": "code",
   "execution_count": 6,
   "metadata": {},
   "outputs": [],
   "source": [
    "# Create a list of messages in the familiar OpenAI format\n",
    "\n",
    "messages = [{\"role\": \"user\", \"content\": \"What is 2+2?\"}]"
   ]
  },
  {
   "cell_type": "code",
   "execution_count": 7,
   "metadata": {},
   "outputs": [
    {
     "name": "stdout",
     "output_type": "stream",
     "text": [
      "2 + 2 equals 4.\n"
     ]
    }
   ],
   "source": [
    "# And now call it! Any problems, head to the troubleshooting guide\n",
    "# This uses GPT 4.1 nano, the incredibly cheap model\n",
    "# The APIs guide (guide 9) has exact instructions for using even cheaper or free alternatives to OpenAI\n",
    "# If you get a NameError, head to the guides folder (guide 6) to learn about NameErrors - always instantly fixable\n",
    "\n",
    "response = openai.chat.completions.create(\n",
    "    model=\"gpt-4.1-nano\",\n",
    "    messages=messages\n",
    ")\n",
    "\n",
    "print(response.choices[0].message.content)\n"
   ]
  },
  {
   "cell_type": "code",
   "execution_count": 8,
   "metadata": {},
   "outputs": [],
   "source": [
    "# And now - let's ask for a question:\n",
    "\n",
    "question = \"Please propose a hard, challenging question to assess someone's IQ. Respond only with the question.\"\n",
    "messages = [{\"role\": \"user\", \"content\": question}]\n"
   ]
  },
  {
   "cell_type": "code",
   "execution_count": 9,
   "metadata": {},
   "outputs": [
    {
     "name": "stdout",
     "output_type": "stream",
     "text": [
      "If 5 machines take 5 minutes to make 5 widgets, how long would 100 machines take to make 100 widgets?\n"
     ]
    }
   ],
   "source": [
    "# ask it - this uses GPT 4.1 mini, still cheap but more powerful than nano\n",
    "\n",
    "response = openai.chat.completions.create(\n",
    "    model=\"gpt-4.1-mini\",\n",
    "    messages=messages\n",
    ")\n",
    "\n",
    "question = response.choices[0].message.content\n",
    "\n",
    "print(question)\n"
   ]
  },
  {
   "cell_type": "code",
   "execution_count": 10,
   "metadata": {},
   "outputs": [],
   "source": [
    "# form a new messages list\n",
    "messages = [{\"role\": \"user\", \"content\": question}]\n"
   ]
  },
  {
   "cell_type": "code",
   "execution_count": 11,
   "metadata": {},
   "outputs": [
    {
     "name": "stdout",
     "output_type": "stream",
     "text": [
      "Let's analyze the problem step-by-step:\n",
      "\n",
      "- Given: 5 machines take 5 minutes to make 5 widgets.\n",
      "  \n",
      "  From this, we can find the rate at which the machines produce widgets.\n",
      "\n",
      "### Step 1: Calculate the rate of one machine\n",
      "- 5 machines produce 5 widgets in 5 minutes.\n",
      "- So, 5 machines produce 1 widget per minute (since 5 widgets in 5 minutes means 1 widget per minute collectively).\n",
      "- Therefore, 1 machine produces \\(\\frac{1}{5}\\) widgets per minute.\n",
      "\n",
      "### Step 2: Find the time for 100 machines to make 100 widgets\n",
      "- 1 machine produces \\(\\frac{1}{5}\\) widgets per minute.\n",
      "- 100 machines produce \\(100 \\times \\frac{1}{5} = 20\\) widgets per minute.\n",
      "- To make 100 widgets at 20 widgets per minute, the time taken is:\n",
      "\n",
      "\\[\n",
      "\\frac{100 \\text{ widgets}}{20 \\text{ widgets/min}} = 5 \\text{ minutes}.\n",
      "\\]\n",
      "\n",
      "### **Answer:**\n",
      "\n",
      "It would take **5 minutes** for 100 machines to make 100 widgets.\n"
     ]
    }
   ],
   "source": [
    "# Ask it again\n",
    "\n",
    "response = openai.chat.completions.create(\n",
    "    model=\"gpt-4.1-mini\",\n",
    "    messages=messages\n",
    ")\n",
    "\n",
    "answer = response.choices[0].message.content\n",
    "print(answer)\n"
   ]
  },
  {
   "cell_type": "code",
   "execution_count": 12,
   "metadata": {},
   "outputs": [
    {
     "data": {
      "text/markdown": [
       "Let's analyze the problem step-by-step:\n",
       "\n",
       "- Given: 5 machines take 5 minutes to make 5 widgets.\n",
       "  \n",
       "  From this, we can find the rate at which the machines produce widgets.\n",
       "\n",
       "### Step 1: Calculate the rate of one machine\n",
       "- 5 machines produce 5 widgets in 5 minutes.\n",
       "- So, 5 machines produce 1 widget per minute (since 5 widgets in 5 minutes means 1 widget per minute collectively).\n",
       "- Therefore, 1 machine produces \\(\\frac{1}{5}\\) widgets per minute.\n",
       "\n",
       "### Step 2: Find the time for 100 machines to make 100 widgets\n",
       "- 1 machine produces \\(\\frac{1}{5}\\) widgets per minute.\n",
       "- 100 machines produce \\(100 \\times \\frac{1}{5} = 20\\) widgets per minute.\n",
       "- To make 100 widgets at 20 widgets per minute, the time taken is:\n",
       "\n",
       "\\[\n",
       "\\frac{100 \\text{ widgets}}{20 \\text{ widgets/min}} = 5 \\text{ minutes}.\n",
       "\\]\n",
       "\n",
       "### **Answer:**\n",
       "\n",
       "It would take **5 minutes** for 100 machines to make 100 widgets."
      ],
      "text/plain": [
       "<IPython.core.display.Markdown object>"
      ]
     },
     "metadata": {},
     "output_type": "display_data"
    }
   ],
   "source": [
    "from IPython.display import Markdown, display\n",
    "\n",
    "display(Markdown(answer))\n",
    "\n"
   ]
  },
  {
   "cell_type": "markdown",
   "metadata": {},
   "source": [
    "# Congratulations!\n",
    "\n",
    "That was a small, simple step in the direction of Agentic AI, with your new environment!\n",
    "\n",
    "Next time things get more interesting..."
   ]
  },
  {
   "cell_type": "markdown",
   "metadata": {},
   "source": [
    "<table style=\"margin: 0; text-align: left; width:100%\">\n",
    "    <tr>\n",
    "        <td style=\"width: 150px; height: 150px; vertical-align: middle;\">\n",
    "            <img src=\"../assets/exercise.png\" width=\"150\" height=\"150\" style=\"display: block;\" />\n",
    "        </td>\n",
    "        <td>\n",
    "            <h2 style=\"color:#ff7800;\">Exercise</h2>\n",
    "            <span style=\"color:#ff7800;\">Now try this commercial application:<br/>\n",
    "            First ask the LLM to pick a business area that might be worth exploring for an Agentic AI opportunity.<br/>\n",
    "            Then ask the LLM to present a pain-point in that industry - something challenging that might be ripe for an Agentic solution.<br/>\n",
    "            Finally have 3 third LLM call propose the Agentic AI solution. <br/>\n",
    "            We will cover this at up-coming labs, so don't worry if you're unsure.. just give it a try!\n",
    "            </span>\n",
    "        </td>\n",
    "    </tr>\n",
    "</table>"
   ]
  },
  {
   "cell_type": "code",
   "execution_count": 13,
   "metadata": {},
   "outputs": [],
   "source": [
    "# First create the messages:\n",
    "\n",
    "messages = [{\"role\": \"user\", \"content\": \"Give me a business idea that might be worth exploring as a computer science student, narrow it down to one good idea\"}]\n",
    "\n",
    "# Then make the first call:\n",
    "\n",
    "response = openai.chat.completions.create(\n",
    "    model=\"gpt-4.1-mini\",\n",
    "    messages=messages\n",
    ")\n",
    "\n",
    "# Then read the business idea:\n",
    "\n",
    "business_idea = response.choices[0].message.content\n",
    "\n",
    "# And repeat! In the next message, include the business idea within the message"
   ]
  },
  {
   "cell_type": "markdown",
   "metadata": {},
   "source": []
  },
  {
   "cell_type": "code",
   "execution_count": 16,
   "metadata": {},
   "outputs": [],
   "source": [
    "messages = [{\"role\": \"user\", \"content\": \"List out of the painpoints of \"+business_idea}]\n",
    "\n",
    "# Then make the first call:\n",
    "\n",
    "response = openai.chat.completions.create(\n",
    "    model=\"gpt-4.1-mini\",\n",
    "    messages=messages\n",
    ")\n",
    "\n",
    "# Then read the business idea:\n",
    "pain_points = response.choices[0].message.content"
   ]
  },
  {
   "cell_type": "code",
   "execution_count": 17,
   "metadata": {},
   "outputs": [
    {
     "data": {
      "text/markdown": [
       "One promising business idea for a computer science student is to develop a **personalized AI-powered career coaching platform**.\n",
       "\n",
       "### Why this idea?\n",
       "- **Growing demand:** Many students and early-career professionals seek guidance on career paths, skill development, and job hunting.\n",
       "- **Leverage CS skills:** You can use machine learning and natural language processing to analyze user input, job market data, and skill requirements to provide tailored advice.\n",
       "- **Scalable model:** The platform can start as a web or mobile app and expand with features like resume analysis, interview preparation, and networking tips.\n",
       "- **Monetization:** Subscription models, premium personalized coaching, partnerships with universities, or companies seeking to recruit talent.\n",
       "\n",
       "### Core features could include:\n",
       "- AI assessment of user skills and interests.\n",
       "- Personalized career path suggestions based on data trends.\n",
       "- Automated resume and cover letter feedback.\n",
       "- Interview question generators and mock interview simulations.\n",
       "\n",
       "This idea taps into your computer science background, leverages AI and software development skills, and addresses a well-defined market need."
      ],
      "text/plain": [
       "<IPython.core.display.Markdown object>"
      ]
     },
     "metadata": {},
     "output_type": "display_data"
    },
    {
     "data": {
      "text/markdown": [
       "Here are some potential pain points or challenges related to developing and launching a **personalized AI-powered career coaching platform**:\n",
       "\n",
       "### 1. Data Collection and Quality\n",
       "- **Obtaining diverse and accurate data:** Gathering sufficient data on job markets, skills, career trajectories, and user inputs can be difficult.\n",
       "- **Data bias:** The platform’s AI recommendations might reflect biases present in the training data, leading to unfair or suboptimal advice.\n",
       "- **Privacy concerns:** Handling sensitive user data (personal backgrounds, career goals) requires strong privacy and security measures to build trust.\n",
       "\n",
       "### 2. AI and Technical Challenges\n",
       "- **Complexity of career guidance:** Career paths and decisions are complex and multifaceted, making it challenging for AI to provide meaningful personalized advice.\n",
       "- **Model accuracy and relevance:** Ensuring the AI recommendations are accurate, up-to-date with industry trends, and relevant to diverse users.\n",
       "- **Natural language understanding:** Accurately interpreting and analyzing users’ freeform input, such as career goals or personal preferences.\n",
       "\n",
       "### 3. User Experience and Engagement\n",
       "- **User trust and adoption:** Convincing users to trust AI-generated advice over human experts or anecdotal sources.\n",
       "- **Customization and flexibility:** Balancing automation with enough flexibility for users to tailor advice to their unique contexts.\n",
       "- **Retention:** Keeping users engaged over time, especially as users’ career goals and skills evolve.\n",
       "\n",
       "### 4. Market and Competition\n",
       "- **Competitive landscape:** Many career advice apps, platforms, and coaching services already exist; differentiating your platform is critical.\n",
       "- **Monetization challenges:** Finding the right pricing and business model that users are willing to pay for can be tricky.\n",
       "- **Partnerships and collaboration:** Building relationships with universities, recruiters, or industry partners takes time and effort.\n",
       "\n",
       "### 5. Regulatory and Ethical Issues\n",
       "- **Compliance:** Ensuring the platform meets legal standards related to employment advice, data protection (e.g., GDPR), and AI ethics.\n",
       "- **Ethical considerations:** Avoiding harm from incorrect or biased career advice, and being transparent about AI limitations.\n",
       "\n",
       "---\n",
       "\n",
       "Addressing these pain points early will help create a more effective, trustworthy, and user-friendly AI-powered career coaching platform. If you'd like, I can suggest ways to mitigate these challenges as well!"
      ],
      "text/plain": [
       "<IPython.core.display.Markdown object>"
      ]
     },
     "metadata": {},
     "output_type": "display_data"
    },
    {
     "data": {
      "text/markdown": [
       "Certainly! Here's a comprehensive set of solutions and strategies to tackle the pain points you listed for developing and launching a **personalized AI-powered career coaching platform**:\n",
       "\n",
       "---\n",
       "\n",
       "### 1. Data Collection and Quality\n",
       "\n",
       "- **Obtaining diverse and accurate data:**\n",
       "  - Partner with job market data providers (e.g., LinkedIn, Glassdoor, government labor statistics) for reliable market insights.\n",
       "  - Use crowdsourcing with active user participation to collect diverse input on career experiences and goals.\n",
       "  - Continuously update datasets via APIs and web scraping to keep information current.\n",
       "  \n",
       "- **Data bias:**\n",
       "  - Incorporate fairness-aware machine learning techniques that detect and mitigate bias in training data and model outputs.\n",
       "  - Regularly audit models for bias across demographics and industries.\n",
       "  - Include diverse representation in training data, ensuring underrepresented groups are accounted for.\n",
       "  \n",
       "- **Privacy concerns:**\n",
       "  - Implement strong data encryption both in transit and at rest.\n",
       "  - Use anonymization and pseudonymization where possible to minimize personally identifiable information.\n",
       "  - Be transparent about privacy policies and obtain explicit user consent.\n",
       "  - Comply with data protection laws (GDPR, CCPA) and allow users to control and delete their data.\n",
       "\n",
       "---\n",
       "\n",
       "### 2. AI and Technical Challenges\n",
       "\n",
       "- **Complexity of career guidance:**\n",
       "  - Use a hybrid AI approach combining rule-based expert systems, machine learning, and human-in-the-loop feedback.\n",
       "  - Integrate domain experts early to encode complex career decision logic and validate AI suggestions.\n",
       "  \n",
       "- **Model accuracy and relevance:**\n",
       "  - Continuously retrain models with fresh market data and user feedback to reflect evolving industries.\n",
       "  - Personalize recommendations by clustering users into segments with similar profiles and tailoring guidance accordingly.\n",
       "  \n",
       "- **Natural language understanding:**\n",
       "  - Deploy advanced NLP models fine-tuned on career-related datasets.\n",
       "  - Use multi-turn conversational AI to clarify ambiguous or incomplete user inputs through follow-up questions.\n",
       "  - Implement sentiment and intent analysis to better comprehend nuanced user goals.\n",
       "\n",
       "---\n",
       "\n",
       "### 3. User Experience and Engagement\n",
       "\n",
       "- **User trust and adoption:**\n",
       "  - Provide transparency about how recommendations are generated and their confidence levels.\n",
       "  - Include human coach support or escalation as an option to validate AI advice.\n",
       "  - Highlight success stories, case studies, and testimonials.\n",
       "  \n",
       "- **Customization and flexibility:**\n",
       "  - Allow users to adjust recommendation parameters (e.g., risk tolerance, location preference, industry interest).\n",
       "  - Enable users to input their own goals or constraints explicitly.\n",
       "  \n",
       "- **Retention:**\n",
       "  - Incorporate progress tracking and personalized reminders to help users stay on course.\n",
       "  - Regularly provide updated career advice, new resources, and learning recommendations based on evolving user profiles.\n",
       "  - Reward engagement through gamification elements (badges, points, challenges).\n",
       "\n",
       "---\n",
       "\n",
       "### 4. Market and Competition\n",
       "\n",
       "- **Competitive landscape:**\n",
       "  - Focus on unique value propositions such as deep personalization, integration with real-time job market data, or innovative AI features.\n",
       "  - Build a brand emphasizing trustworthiness, expertise, and data privacy.\n",
       "  \n",
       "- **Monetization challenges:**\n",
       "  - Test multiple models such as freemium, subscription tiers, one-time coaching sessions, or enterprise licensing.\n",
       "  - Offer free basic guidance but charge for advanced features or personalized human coaching.\n",
       "  - Explore partnerships for embedded services (e.g., resume reviews, interview prep).\n",
       "  \n",
       "- **Partnerships and collaboration:**\n",
       "  - Collaborate with universities to integrate into career services.\n",
       "  - Engage recruiters and employers for real-world hiring insights and job postings.\n",
       "  - Partner with online learning platforms to suggest skill development aligned with user goals.\n",
       "\n",
       "---\n",
       "\n",
       "### 5. Regulatory and Ethical Issues\n",
       "\n",
       "- **Compliance:**\n",
       "  - Regularly consult legal experts on employment law, data privacy, and AI regulations.\n",
       "  - Build compliance checks into product development and deployment pipelines.\n",
       "  \n",
       "- **Ethical considerations:**\n",
       "  - Clearly communicate the AI’s scope, capabilities, and limitations to users.\n",
       "  - Provide disclaimers regarding non-guarantee of outcomes and recommend human consultation if needed.\n",
       "  - Establish grievance and feedback channels for users to report incorrect or harmful advice.\n",
       "  - Adopt ethical AI frameworks (e.g., fairness, accountability, transparency) and document your approach publicly.\n",
       "\n",
       "---\n",
       "\n",
       "If you want, I can also help you draft a prioritized implementation roadmap or dig deeper into any of these areas. Would that be useful?"
      ],
      "text/plain": [
       "<IPython.core.display.Markdown object>"
      ]
     },
     "metadata": {},
     "output_type": "display_data"
    }
   ],
   "source": [
    "messages = [{\"role\": \"user\", \"content\": \"Give me a solution to solve these \"+pain_points}]\n",
    "\n",
    "# Then make the first call:\n",
    "\n",
    "response = openai.chat.completions.create(\n",
    "    model=\"gpt-4.1-mini\",\n",
    "    messages=messages\n",
    ")\n",
    "\n",
    "# Then read the business idea:\n",
    "\n",
    "solution = response.choices[0].message.content\n",
    "\n",
    "display(Markdown(business_idea))\n",
    "display(Markdown(pain_points))\n",
    "display(Markdown(solution))"
   ]
  },
  {
   "cell_type": "code",
   "execution_count": null,
   "metadata": {},
   "outputs": [],
   "source": []
  }
 ],
 "metadata": {
  "kernelspec": {
   "display_name": ".venv",
   "language": "python",
   "name": "python3"
  },
  "language_info": {
   "codemirror_mode": {
    "name": "ipython",
    "version": 3
   },
   "file_extension": ".py",
   "mimetype": "text/x-python",
   "name": "python",
   "nbconvert_exporter": "python",
   "pygments_lexer": "ipython3",
   "version": "3.12.3"
  }
 },
 "nbformat": 4,
 "nbformat_minor": 2
}
