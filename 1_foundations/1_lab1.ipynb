{
 "cells": [
  {
   "cell_type": "markdown",
   "metadata": {},
   "source": [
    "# Welcome to the start of your adventure in Agentic AI"
   ]
  },
  {
   "cell_type": "markdown",
   "metadata": {},
   "source": [
    "<table style=\"margin: 0; text-align: left; width:100%\">\n",
    "    <tr>\n",
    "        <td style=\"width: 150px; height: 150px; vertical-align: middle;\">\n",
    "            <img src=\"../assets/stop.png\" width=\"150\" height=\"150\" style=\"display: block;\" />\n",
    "        </td>\n",
    "        <td>\n",
    "            <h2 style=\"color:#ff7800;\">Are you ready for action??</h2>\n",
    "            <span style=\"color:#ff7800;\">Have you completed all the setup steps in the <a href=\"../setup/\">setup</a> folder?<br/>\n",
    "            Have you read the <a href=\"../README.md\">README</a>? Many common questions are answered here!<br/>\n",
    "            Have you checked out the guides in the <a href=\"../guides/01_intro.ipynb\">guides</a> folder?<br/>\n",
    "            Well in that case, you're ready!!\n",
    "            </span>\n",
    "        </td>\n",
    "    </tr>\n",
    "</table>"
   ]
  },
  {
   "cell_type": "markdown",
   "metadata": {},
   "source": [
    "<table style=\"margin: 0; text-align: left; width:100%\">\n",
    "    <tr>\n",
    "        <td style=\"width: 150px; height: 150px; vertical-align: middle;\">\n",
    "            <img src=\"../assets/tools.png\" width=\"150\" height=\"150\" style=\"display: block;\" />\n",
    "        </td>\n",
    "        <td>\n",
    "            <h2 style=\"color:#00bfff;\">This code is a live resource - keep an eye out for my updates</h2>\n",
    "            <span style=\"color:#00bfff;\">I push updates regularly. As people ask questions or have problems, I add more examples and improve explanations. As a result, the code below might not be identical to the videos, as I've added more steps and better comments. Consider this like an interactive book that accompanies the lectures.<br/><br/>\n",
    "            I try to send emails regularly with important updates related to the course. You can find this in the 'Announcements' section of Udemy in the left sidebar. You can also choose to receive my emails via your Notification Settings in Udemy. I'm respectful of your inbox and always try to add value with my emails!\n",
    "            </span>\n",
    "        </td>\n",
    "    </tr>\n",
    "</table>"
   ]
  },
  {
   "cell_type": "markdown",
   "metadata": {},
   "source": [
    "### And please do remember to contact me if I can help\n",
    "\n",
    "And I love to connect: https://www.linkedin.com/in/eddonner/\n",
    "\n",
    "\n",
    "### New to Notebooks like this one? Head over to the guides folder!\n",
    "\n",
    "Just to check you've already added the Python and Jupyter extensions to Cursor, if not already installed:\n",
    "- Open extensions (View >> extensions)\n",
    "- Search for python, and when the results show, click on the ms-python one, and Install it if not already installed\n",
    "- Search for jupyter, and when the results show, click on the Microsoft one, and Install it if not already installed  \n",
    "Then View >> Explorer to bring back the File Explorer.\n",
    "\n",
    "And then:\n",
    "1. Click where it says \"Select Kernel\" near the top right, and select the option called `.venv (Python 3.12.9)` or similar, which should be the first choice or the most prominent choice. You may need to choose \"Python Environments\" first.\n",
    "2. Click in each \"cell\" below, starting with the cell immediately below this text, and press Shift+Enter to run\n",
    "3. Enjoy!\n",
    "\n",
    "After you click \"Select Kernel\", if there is no option like `.venv (Python 3.12.9)` then please do the following:  \n",
    "1. On Mac: From the Cursor menu, choose Settings >> VS Code Settings (NOTE: be sure to select `VSCode Settings` not `Cursor Settings`);  \n",
    "On Windows PC: From the File menu, choose Preferences >> VS Code Settings(NOTE: be sure to select `VSCode Settings` not `Cursor Settings`)  \n",
    "2. In the Settings search bar, type \"venv\"  \n",
    "3. In the field \"Path to folder with a list of Virtual Environments\" put the path to the project root, like C:\\Users\\username\\projects\\agents (on a Windows PC) or /Users/username/projects/agents (on Mac or Linux).  \n",
    "And then try again.\n",
    "\n",
    "Having problems with missing Python versions in that list? Have you ever used Anaconda before? It might be interferring. Quit Cursor, bring up a new command line, and make sure that your Anaconda environment is deactivated:    \n",
    "`conda deactivate`  \n",
    "And if you still have any problems with conda and python versions, it's possible that you will need to run this too:  \n",
    "`conda config --set auto_activate_base false`  \n",
    "and then from within the Agents directory, you should be able to run `uv python list` and see the Python 3.12 version."
   ]
  },
  {
   "cell_type": "code",
   "execution_count": 1,
   "metadata": {},
   "outputs": [],
   "source": [
    "# First let's do an import. If you get an Import Error, double check that your Kernel is correct..\n",
    "\n",
    "from dotenv import load_dotenv\n"
   ]
  },
  {
   "cell_type": "code",
   "execution_count": 2,
   "metadata": {},
   "outputs": [
    {
     "data": {
      "text/plain": [
       "True"
      ]
     },
     "execution_count": 2,
     "metadata": {},
     "output_type": "execute_result"
    }
   ],
   "source": [
    "# Next it's time to load the API keys into environment variables\n",
    "# If this returns false, see the next cell!\n",
    "\n",
    "load_dotenv(override=True)"
   ]
  },
  {
   "cell_type": "markdown",
   "metadata": {},
   "source": [
    "### Wait, did that just output `False`??\n",
    "\n",
    "If so, the most common reason is that you didn't save your `.env` file after adding the key! Be sure to have saved.\n",
    "\n",
    "Also, make sure the `.env` file is named precisely `.env` and is in the project root directory (`agents`)\n",
    "\n",
    "By the way, your `.env` file should have a stop symbol next to it in Cursor on the left, and that's actually a good thing: that's Cursor saying to you, \"hey, I realize this is a file filled with secret information, and I'm not going to send it to an external AI to suggest changes, because your keys should not be shown to anyone else.\""
   ]
  },
  {
   "cell_type": "markdown",
   "metadata": {},
   "source": [
    "<table style=\"margin: 0; text-align: left; width:100%\">\n",
    "    <tr>\n",
    "        <td style=\"width: 150px; height: 150px; vertical-align: middle;\">\n",
    "            <img src=\"../assets/stop.png\" width=\"150\" height=\"150\" style=\"display: block;\" />\n",
    "        </td>\n",
    "        <td>\n",
    "            <h2 style=\"color:#ff7800;\">Final reminders</h2>\n",
    "            <span style=\"color:#ff7800;\">1. If you're not confident about Environment Variables or Web Endpoints / APIs, please read Topics 3 and 5 in this <a href=\"../guides/04_technical_foundations.ipynb\">technical foundations guide</a>.<br/>\n",
    "            2. If you want to use AIs other than OpenAI, like Gemini, DeepSeek or Ollama (free), please see the first section in this <a href=\"../guides/09_ai_apis_and_ollama.ipynb\">AI APIs guide</a>.<br/>\n",
    "            3. If you ever get a Name Error in Python, you can always fix it immediately; see the last section of this <a href=\"../guides/06_python_foundations.ipynb\">Python Foundations guide</a> and follow both tutorials and exercises.<br/>\n",
    "            </span>\n",
    "        </td>\n",
    "    </tr>\n",
    "</table>"
   ]
  },
  {
   "cell_type": "code",
   "execution_count": 13,
   "metadata": {},
   "outputs": [
    {
     "name": "stdout",
     "output_type": "stream",
     "text": [
      "DeepSeek API Key exists and begins sk-cf3b1\n"
     ]
    }
   ],
   "source": [
    "# Check the key - if you're not using OpenAI, check whichever key you're using! Ollama doesn't need a key.\n",
    "\n",
    "import os\n",
    "deepseek_api_key_api_key = os.getenv('DEEPSEEK_API_KEY')\n",
    "\n",
    "if deepseek_api_key_api_key:\n",
    "    print(f\"DeepSeek API Key exists and begins {openai_api_key[:8]}\")\n",
    "else:\n",
    "    print(\"DeepSeek API Key not set - please head to the troubleshooting guide in the setup folder\")\n",
    "    \n"
   ]
  },
  {
   "cell_type": "code",
   "execution_count": 12,
   "metadata": {},
   "outputs": [],
   "source": [
    "# And now - the all important import statement\n",
    "# If you get an import error - head over to troubleshooting in the Setup folder\n",
    "\n",
    "from openai import OpenAI"
   ]
  },
  {
   "cell_type": "code",
   "execution_count": 14,
   "metadata": {},
   "outputs": [],
   "source": [
    "# And now we'll create an instance of the OpenAI class\n",
    "# If you're not sure what it means to create an instance of a class - head over to the guides folder (guide 6)!\n",
    "# If you get a NameError - head over to the guides folder (guide 6)to learn about NameErrors - always instantly fixable\n",
    "# If you're not using OpenAI, you just need to slightly modify this - precise instructions are in the AI APIs guide (guide 9)\n",
    "client = OpenAI(api_key=deepseek_api_key_api_key, base_url=\"https://api.deepseek.com\")"
   ]
  },
  {
   "cell_type": "code",
   "execution_count": 21,
   "metadata": {},
   "outputs": [],
   "source": [
    "# Create a list of messages in the familiar OpenAI format\n",
    "\n",
    "messages = [{\"role\": \"user\", \"content\": \"What is 2+2? Give me the answer in a single word.\"}]"
   ]
  },
  {
   "cell_type": "code",
   "execution_count": 22,
   "metadata": {},
   "outputs": [
    {
     "name": "stdout",
     "output_type": "stream",
     "text": [
      "four\n"
     ]
    }
   ],
   "source": [
    "# And now call it! Any problems, head to the troubleshooting guide\n",
    "# This uses GPT 4.1 nano, the incredibly cheap model\n",
    "# The APIs guide (guide 9) has exact instructions for using even cheaper or free alternatives to OpenAI\n",
    "# If you get a NameError, head to the guides folder (guide 6) to learn about NameErrors - always instantly fixable\n",
    "\n",
    "response = client.chat.completions.create(\n",
    "    model=\"deepseek-chat\",\n",
    "    messages=messages\n",
    ")\n",
    "\n",
    "print(response.choices[0].message.content)\n"
   ]
  },
  {
   "cell_type": "code",
   "execution_count": 23,
   "metadata": {},
   "outputs": [],
   "source": [
    "# And now - let's ask for a question:\n",
    "\n",
    "question = \"Please propose a hard, challenging question to assess someone's IQ. Respond only with the question.\"\n",
    "messages = [{\"role\": \"user\", \"content\": question}]\n"
   ]
  },
  {
   "cell_type": "code",
   "execution_count": 24,
   "metadata": {},
   "outputs": [
    {
     "name": "stdout",
     "output_type": "stream",
     "text": [
      "If you have three boxes—one containing only apples, one containing only oranges, and one containing both apples and oranges—but all the boxes are incorrectly labeled, what is the minimum number of fruits you must draw blindly to correctly relabel all the boxes?\n"
     ]
    }
   ],
   "source": [
    "# ask it - this uses GPT 4.1 mini, still cheap but more powerful than nano\n",
    "\n",
    "response = client.chat.completions.create(\n",
    "    model=\"deepseek-chat\",\n",
    "    messages=messages\n",
    ")\n",
    "\n",
    "question = response.choices[0].message.content\n",
    "\n",
    "print(question)\n"
   ]
  },
  {
   "cell_type": "code",
   "execution_count": 25,
   "metadata": {},
   "outputs": [],
   "source": [
    "# form a new messages list\n",
    "messages = [{\"role\": \"user\", \"content\": question}]\n"
   ]
  },
  {
   "cell_type": "code",
   "execution_count": 27,
   "metadata": {},
   "outputs": [
    {
     "name": "stdout",
     "output_type": "stream",
     "text": [
      "Alright, let's tackle this puzzle step by step. I'm going to think aloud as I work through the problem to understand how to correctly relabel all the boxes with the minimum number of fruit draws.\n",
      "\n",
      "### Understanding the Problem\n",
      "\n",
      "We have three boxes, each incorrectly labeled:\n",
      "\n",
      "1. **Box A**: Labeled \"Apples\" (but it's incorrect)\n",
      "2. **Box B**: Labeled \"Oranges\" (but it's incorrect)\n",
      "3. **Box C**: Labeled \"Apples and Oranges\" (but it's incorrect)\n",
      "\n",
      "Our goal is to determine the correct labels for each box by drawing the fewest number of fruits possible.\n",
      "\n",
      "### Initial Observations\n",
      "\n",
      "Since all boxes are incorrectly labeled, this gives us some immediate information:\n",
      "\n",
      "- The box labeled \"Apples\" cannot contain only apples. It must contain only oranges or both.\n",
      "- The box labeled \"Oranges\" cannot contain only oranges. It must contain only apples or both.\n",
      "- The box labeled \"Apples and Oranges\" cannot contain both. It must contain only apples or only oranges.\n",
      "\n",
      "This is crucial because it means that the box currently labeled \"Apples and Oranges\" is definitely not a mixed box. It's either all apples or all oranges.\n",
      "\n",
      "### Strategy to Minimize Fruit Draws\n",
      "\n",
      "To minimize the number of fruits we need to draw, we should aim to get the most information from a single draw. Here's how:\n",
      "\n",
      "1. **Pick a fruit from the box labeled \"Apples and Oranges\"**:\n",
      "   - Since this label is incorrect, this box must be either all apples or all oranges.\n",
      "   - Drawing one fruit from here will tell us definitively what's inside:\n",
      "     - If it's an apple, the box is \"Apples\".\n",
      "     - If it's an orange, the box is \"Oranges\".\n",
      "\n",
      "   Let's say we draw an apple from this box. Then, this box is correctly \"Apples\".\n",
      "\n",
      "2. **Now, we know**:\n",
      "   - Box C (originally labeled \"Apples and Oranges\") is actually \"Apples\".\n",
      "   - The other two boxes are incorrectly labeled:\n",
      "     - Box A is labeled \"Apples\" but can't be \"Apples\" (since we've already identified the \"Apples\" box), and it can't be \"Apples and Oranges\" (because that label is incorrect on all boxes). So, it must be \"Oranges\".\n",
      "     - Box B is labeled \"Oranges\" but can't be \"Oranges\", and it can't be \"Apples\" (since we've identified that). So, it must be \"Apples and Oranges\".\n",
      "\n",
      "### Verifying with an Example\n",
      "\n",
      "Let's assign actual contents to the boxes to see if this holds:\n",
      "\n",
      "Suppose:\n",
      "- Box A (labeled \"Apples\") actually contains \"Oranges\".\n",
      "- Box B (labeled \"Oranges\") actually contains \"Apples and Oranges\".\n",
      "- Box C (labeled \"Apples and Oranges\") actually contains \"Apples\".\n",
      "\n",
      "Now, let's follow our steps:\n",
      "\n",
      "1. Draw from Box C (\"Apples and Oranges\" label):\n",
      "   - It's actually \"Apples\", so we draw an apple.\n",
      "   - Now we know Box C is \"Apples\".\n",
      "\n",
      "2. Now, Box A is labeled \"Apples\" but can't be \"Apples\". It also can't be \"Apples and Oranges\" (because that label is on Box C, which we've corrected to \"Apples\"), so it must be \"Oranges\".\n",
      "\n",
      "3. That leaves Box B, labeled \"Oranges\". It can't be \"Oranges\", and it can't be \"Apples\" (since Box C is \"Apples\"), so it must be \"Apples and Oranges\".\n",
      "\n",
      "This checks out!\n",
      "\n",
      "### What If We Drew an Orange First?\n",
      "\n",
      "Just to be thorough, let's see what happens if the first fruit drawn from Box C is an orange:\n",
      "\n",
      "1. Draw from Box C (\"Apples and Oranges\" label):\n",
      "   - It's actually \"Oranges\", so we draw an orange.\n",
      "   - Now we know Box C is \"Oranges\".\n",
      "\n",
      "2. Now, Box B is labeled \"Oranges\" but can't be \"Oranges\". It also can't be \"Apples and Oranges\" (since that label is incorrect on Box C), so it must be \"Apples\".\n",
      "\n",
      "3. That leaves Box A, labeled \"Apples\". It can't be \"Apples\", and it can't be \"Oranges\" (since Box C is \"Oranges\"), so it must be \"Apples and Oranges\".\n",
      "\n",
      "This also checks out!\n",
      "\n",
      "### Conclusion\n",
      "\n",
      "In both scenarios, we only needed to draw **one fruit** from the box labeled \"Apples and Oranges\" to correctly relabel all the boxes. Here's the step-by-step method:\n",
      "\n",
      "1. **Pick one fruit from the box labeled \"Apples and Oranges\"**.\n",
      "   - Since the label is wrong, it must be all apples or all oranges.\n",
      "   - If you draw an apple, this box is \"Apples\".\n",
      "   - If you draw an orange, this box is \"Oranges\".\n",
      "\n",
      "2. **Relabel the other boxes based on this information**:\n",
      "   - The box originally labeled \"Apples\" cannot be \"Apples\" (since all labels were wrong) and cannot be the same as the box you just identified (since that's already taken), so it must be the remaining option.\n",
      "   - Similarly, the box originally labeled \"Oranges\" must be the remaining label.\n",
      "\n",
      "### Final Answer\n",
      "\n",
      "**You only need to draw one fruit** from the box that is incorrectly labeled \"Apples and Oranges\" to correctly relabel all the boxes. Here's how:\n",
      "\n",
      "1. **Draw one fruit from the \"Apples and Oranges\" box**:\n",
      "   - If it's an apple, this box is \"Apples\".\n",
      "   - If it's an orange, this box is \"Oranges\".\n",
      "\n",
      "2. **Relabel the other boxes**:\n",
      "   - The box labeled \"Apples\" cannot be \"Apples\" (original incorrect label) and cannot be the same as the box you just identified, so it must be the remaining option.\n",
      "   - The box labeled \"Oranges\" will then be the last remaining label.\n",
      "\n",
      "This ensures all boxes are correctly labeled with just **one fruit drawn**.\n"
     ]
    }
   ],
   "source": [
    "# Ask it again\n",
    "\n",
    "response = client.chat.completions.create(\n",
    "    model=\"deepseek-chat\",\n",
    "    messages=messages\n",
    ")\n",
    "\n",
    "answer = response.choices[0].message.content\n",
    "print(answer)\n"
   ]
  },
  {
   "cell_type": "code",
   "execution_count": 28,
   "metadata": {},
   "outputs": [
    {
     "data": {
      "text/markdown": [
       "Alright, let's tackle this puzzle step by step. I'm going to think aloud as I work through the problem to understand how to correctly relabel all the boxes with the minimum number of fruit draws.\n",
       "\n",
       "### Understanding the Problem\n",
       "\n",
       "We have three boxes, each incorrectly labeled:\n",
       "\n",
       "1. **Box A**: Labeled \"Apples\" (but it's incorrect)\n",
       "2. **Box B**: Labeled \"Oranges\" (but it's incorrect)\n",
       "3. **Box C**: Labeled \"Apples and Oranges\" (but it's incorrect)\n",
       "\n",
       "Our goal is to determine the correct labels for each box by drawing the fewest number of fruits possible.\n",
       "\n",
       "### Initial Observations\n",
       "\n",
       "Since all boxes are incorrectly labeled, this gives us some immediate information:\n",
       "\n",
       "- The box labeled \"Apples\" cannot contain only apples. It must contain only oranges or both.\n",
       "- The box labeled \"Oranges\" cannot contain only oranges. It must contain only apples or both.\n",
       "- The box labeled \"Apples and Oranges\" cannot contain both. It must contain only apples or only oranges.\n",
       "\n",
       "This is crucial because it means that the box currently labeled \"Apples and Oranges\" is definitely not a mixed box. It's either all apples or all oranges.\n",
       "\n",
       "### Strategy to Minimize Fruit Draws\n",
       "\n",
       "To minimize the number of fruits we need to draw, we should aim to get the most information from a single draw. Here's how:\n",
       "\n",
       "1. **Pick a fruit from the box labeled \"Apples and Oranges\"**:\n",
       "   - Since this label is incorrect, this box must be either all apples or all oranges.\n",
       "   - Drawing one fruit from here will tell us definitively what's inside:\n",
       "     - If it's an apple, the box is \"Apples\".\n",
       "     - If it's an orange, the box is \"Oranges\".\n",
       "\n",
       "   Let's say we draw an apple from this box. Then, this box is correctly \"Apples\".\n",
       "\n",
       "2. **Now, we know**:\n",
       "   - Box C (originally labeled \"Apples and Oranges\") is actually \"Apples\".\n",
       "   - The other two boxes are incorrectly labeled:\n",
       "     - Box A is labeled \"Apples\" but can't be \"Apples\" (since we've already identified the \"Apples\" box), and it can't be \"Apples and Oranges\" (because that label is incorrect on all boxes). So, it must be \"Oranges\".\n",
       "     - Box B is labeled \"Oranges\" but can't be \"Oranges\", and it can't be \"Apples\" (since we've identified that). So, it must be \"Apples and Oranges\".\n",
       "\n",
       "### Verifying with an Example\n",
       "\n",
       "Let's assign actual contents to the boxes to see if this holds:\n",
       "\n",
       "Suppose:\n",
       "- Box A (labeled \"Apples\") actually contains \"Oranges\".\n",
       "- Box B (labeled \"Oranges\") actually contains \"Apples and Oranges\".\n",
       "- Box C (labeled \"Apples and Oranges\") actually contains \"Apples\".\n",
       "\n",
       "Now, let's follow our steps:\n",
       "\n",
       "1. Draw from Box C (\"Apples and Oranges\" label):\n",
       "   - It's actually \"Apples\", so we draw an apple.\n",
       "   - Now we know Box C is \"Apples\".\n",
       "\n",
       "2. Now, Box A is labeled \"Apples\" but can't be \"Apples\". It also can't be \"Apples and Oranges\" (because that label is on Box C, which we've corrected to \"Apples\"), so it must be \"Oranges\".\n",
       "\n",
       "3. That leaves Box B, labeled \"Oranges\". It can't be \"Oranges\", and it can't be \"Apples\" (since Box C is \"Apples\"), so it must be \"Apples and Oranges\".\n",
       "\n",
       "This checks out!\n",
       "\n",
       "### What If We Drew an Orange First?\n",
       "\n",
       "Just to be thorough, let's see what happens if the first fruit drawn from Box C is an orange:\n",
       "\n",
       "1. Draw from Box C (\"Apples and Oranges\" label):\n",
       "   - It's actually \"Oranges\", so we draw an orange.\n",
       "   - Now we know Box C is \"Oranges\".\n",
       "\n",
       "2. Now, Box B is labeled \"Oranges\" but can't be \"Oranges\". It also can't be \"Apples and Oranges\" (since that label is incorrect on Box C), so it must be \"Apples\".\n",
       "\n",
       "3. That leaves Box A, labeled \"Apples\". It can't be \"Apples\", and it can't be \"Oranges\" (since Box C is \"Oranges\"), so it must be \"Apples and Oranges\".\n",
       "\n",
       "This also checks out!\n",
       "\n",
       "### Conclusion\n",
       "\n",
       "In both scenarios, we only needed to draw **one fruit** from the box labeled \"Apples and Oranges\" to correctly relabel all the boxes. Here's the step-by-step method:\n",
       "\n",
       "1. **Pick one fruit from the box labeled \"Apples and Oranges\"**.\n",
       "   - Since the label is wrong, it must be all apples or all oranges.\n",
       "   - If you draw an apple, this box is \"Apples\".\n",
       "   - If you draw an orange, this box is \"Oranges\".\n",
       "\n",
       "2. **Relabel the other boxes based on this information**:\n",
       "   - The box originally labeled \"Apples\" cannot be \"Apples\" (since all labels were wrong) and cannot be the same as the box you just identified (since that's already taken), so it must be the remaining option.\n",
       "   - Similarly, the box originally labeled \"Oranges\" must be the remaining label.\n",
       "\n",
       "### Final Answer\n",
       "\n",
       "**You only need to draw one fruit** from the box that is incorrectly labeled \"Apples and Oranges\" to correctly relabel all the boxes. Here's how:\n",
       "\n",
       "1. **Draw one fruit from the \"Apples and Oranges\" box**:\n",
       "   - If it's an apple, this box is \"Apples\".\n",
       "   - If it's an orange, this box is \"Oranges\".\n",
       "\n",
       "2. **Relabel the other boxes**:\n",
       "   - The box labeled \"Apples\" cannot be \"Apples\" (original incorrect label) and cannot be the same as the box you just identified, so it must be the remaining option.\n",
       "   - The box labeled \"Oranges\" will then be the last remaining label.\n",
       "\n",
       "This ensures all boxes are correctly labeled with just **one fruit drawn**."
      ],
      "text/plain": [
       "<IPython.core.display.Markdown object>"
      ]
     },
     "metadata": {},
     "output_type": "display_data"
    }
   ],
   "source": [
    "from IPython.display import Markdown, display\n",
    "\n",
    "display(Markdown(answer))\n",
    "\n"
   ]
  },
  {
   "cell_type": "markdown",
   "metadata": {},
   "source": [
    "# Congratulations!\n",
    "\n",
    "That was a small, simple step in the direction of Agentic AI, with your new environment!\n",
    "\n",
    "Next time things get more interesting..."
   ]
  },
  {
   "cell_type": "markdown",
   "metadata": {},
   "source": [
    "<table style=\"margin: 0; text-align: left; width:100%\">\n",
    "    <tr>\n",
    "        <td style=\"width: 150px; height: 150px; vertical-align: middle;\">\n",
    "            <img src=\"../assets/exercise.png\" width=\"150\" height=\"150\" style=\"display: block;\" />\n",
    "        </td>\n",
    "        <td>\n",
    "            <h2 style=\"color:#ff7800;\">Exercise</h2>\n",
    "            <span style=\"color:#ff7800;\">Now try this commercial application:<br/>\n",
    "            First ask the LLM to pick a business area that might be worth exploring for an Agentic AI opportunity.<br/>\n",
    "            Then ask the LLM to present a pain-point in that industry - something challenging that might be ripe for an Agentic solution.<br/>\n",
    "            Finally have 3 third LLM call propose the Agentic AI solution. <br/>\n",
    "            We will cover this at up-coming labs, so don't worry if you're unsure.. just give it a try!\n",
    "            </span>\n",
    "        </td>\n",
    "    </tr>\n",
    "</table>"
   ]
  },
  {
   "cell_type": "markdown",
   "metadata": {},
   "source": []
  },
  {
   "cell_type": "code",
   "execution_count": 30,
   "metadata": {},
   "outputs": [
    {
     "data": {
      "text/markdown": [
       "**AI-Powered Personalized Education Platform for Underserved Communities**  \n",
       "\n",
       "This platform uses adaptive AI to deliver customized, low-cost (or free) education in local languages, tailored to individual learning styles and needs. It integrates offline functionality for areas with poor internet, gamification for engagement, and partnerships with NGOs/governments to scale globally, bridging the education gap for millions."
      ],
      "text/plain": [
       "<IPython.core.display.Markdown object>"
      ]
     },
     "metadata": {},
     "output_type": "display_data"
    },
    {
     "data": {
      "text/markdown": [
       "1. **Access to Technology**: Limited availability of devices (smartphones, tablets, computers) in underserved communities.  \n",
       "2. **Internet Connectivity**: Offline functionality helps, but updating content and syncing data remains a challenge in low-connectivity areas.  \n",
       "3. **Local Language Support**: Developing high-quality, contextually relevant content in diverse local languages is resource-intensive.  \n",
       "4. **AI Bias and Relevance**: Ensuring the AI adapts accurately to varied cultural contexts and learning styles without bias.  \n",
       "5. **Content Quality**: Maintaining consistent, engaging, and pedagogically sound content across subjects and grade levels.  \n",
       "6. **User Engagement**: Sustaining long-term engagement, especially without consistent teacher or mentor support.  \n",
       "7. **Partnership Dependencies**: Relying on NGOs/governments for scalability can lead to bureaucratic delays or misaligned priorities.  \n",
       "8. **Funding Sustainability**: Balancing free/low-cost models with long-term financial viability (e.g., ads, grants, subsidies).  \n",
       "9. **Digital Literacy**: Many users may lack basic skills to navigate the platform effectively.  \n",
       "10. **Data Privacy**: Safeguarding user data, especially for vulnerable populations, in compliance with local regulations.  \n",
       "11. **Offline Updates**: Distributing and managing offline content updates efficiently.  \n",
       "12. **Assessment Accuracy**: Ensuring AI-driven assessments are reliable and recognized by formal education systems.  \n",
       "13. **Scalability**: Customizing solutions for vastly different regional needs while maintaining cost-effectiveness.  \n",
       "14. **Teacher Integration**: Resistance or lack of training for local educators to adopt AI tools.  \n",
       "15. **Infrastructure**: Power shortages or unreliable electricity in remote areas hindering usage."
      ],
      "text/plain": [
       "<IPython.core.display.Markdown object>"
      ]
     },
     "metadata": {},
     "output_type": "display_data"
    },
    {
     "data": {
      "text/markdown": [
       "### **Solutions to Challenges in AI-Powered Personalized Education for Underserved Communities**  \n",
       "\n",
       "#### **1. Access to Technology**  \n",
       "- Partner with device manufacturers/NGOs for subsidized/low-cost devices.  \n",
       "- Optimize platform for low-spec devices (e.g., lightweight apps, SMS-based learning).  \n",
       "- Implement device-sharing models in community centers/schools.  \n",
       "\n",
       "#### **2. Internet Connectivity**  \n",
       "- **Offline-first design**: Allow full functionality without internet.  \n",
       "- **Local caching hubs**: Use Raspberry Pi/servers in schools to sync data when connectivity is available.  \n",
       "- **USSD/SMS-based learning**: For basic content delivery in no-internet zones.  \n",
       "\n",
       "#### **3. Local Language Support**  \n",
       "- Crowdsource translations via local educators/community contributors.  \n",
       "- Use AI-powered translation tools (e.g., OpenAI, NLLB) with human validation.  \n",
       "- Partner with local universities/NGOs for dialect-specific content.  \n",
       "\n",
       "#### **4. AI Bias and Relevance**  \n",
       "- Train AI on diverse, region-specific datasets.  \n",
       "- Involve local educators in feedback loops to refine cultural relevance.  \n",
       "- Implement bias-detection algorithms and regular audits.  \n",
       "\n",
       "#### **5. Content Quality**  \n",
       "- Collaborate with accredited educators to design curricula.  \n",
       "- Use AI to adapt content difficulty dynamically.  \n",
       "- Gamify lessons to maintain engagement while ensuring pedagogy.  \n",
       "\n",
       "#### **6. User Engagement**  \n",
       "- Gamification (badges, leaderboards, progress tracking).  \n",
       "- Peer learning features (offline/online study groups).  \n",
       "- Push notifications (via SMS if no internet) for reminders/motivation.  \n",
       "\n",
       "#### **7. Partnership Dependencies**  \n",
       "- Diversify partnerships (private sector, local startups, universities).  \n",
       "- Create clear, scalable deployment frameworks to reduce bureaucracy.  \n",
       "- Pilot small-scale models before full government/NGO adoption.  \n",
       "\n",
       "#### **8. Funding Sustainability**  \n",
       "- **Freemium model**: Free basic access, paid premium features (e.g., certifications).  \n",
       "- **Corporate sponsorships/CSR partnerships**.  \n",
       "- **Microtransactions**: Low-cost unlocks for advanced content.  \n",
       "\n",
       "#### **9. Digital Literacy**  \n",
       "- Simple, icon-based UI with voice-guided tutorials.  \n",
       "- Community \"digital champions\" to train users.  \n",
       "- Onboarding via local radio/offline workshops.  \n",
       "\n",
       "#### **10. Data Privacy**  \n",
       "- **On-device processing** for sensitive data (minimal cloud dependency).  \n",
       "- **Zero-knowledge encryption** for user data.  \n",
       "- Compliance with local regulations via legal partnerships.  \n",
       "\n",
       "#### **11. Offline Updates**  \n",
       "- **SD card/USB distribution** via schools/NGOs.  \n",
       "- **Mesh networks**: Peer-to-peer updates when one device gets connectivity.  \n",
       "- **Automatic sync** when internet is briefly available.  \n",
       "\n",
       "#### **12. Assessment Accuracy**  \n",
       "- Hybrid AI-human grading (local teachers validate AI scores).  \n",
       "- Standardized tests recognized by education boards.  \n",
       "- Blockchain-based credentialing for authenticity.  \n",
       "\n",
       "#### **13. Scalability**  \n",
       "- Modular content design (easy localization).  \n",
       "- **Franchise model**: Train local teams to adapt content.  \n",
       "- **Open-source core** for community-driven customization.  \n",
       "\n",
       "#### **14. Teacher Integration**  \n",
       "- **Teacher training programs** with incentives (certifications/stipends).  \n",
       "- **Co-creation tools**: Let educators modify/add content.  \n",
       "- **AI-assisted lesson planning** to reduce workload.  \n",
       "\n",
       "#### **15. Infrastructure**  \n",
       "- **Solar-powered/low-energy devices** (e.g., tablets with long battery life).  \n",
       "- **Hand-cranked/portable chargers** for remote areas.  \n",
       "- **Voice-based interactions** to reduce screen dependency.  \n",
       "\n",
       "By implementing these solutions, the platform can overcome key barriers and deliver equitable, scalable education."
      ],
      "text/plain": [
       "<IPython.core.display.Markdown object>"
      ]
     },
     "metadata": {},
     "output_type": "display_data"
    }
   ],
   "source": [
    "# First create the messages:\n",
    "\n",
    "messages = [{\"role\": \"user\", \"content\": \"Please propose a business idea that is innovative, scalable, and has the potential to make a significant impact on society. Respond only with the business idea.\"}]\n",
    "\n",
    "# Then make the first call:\n",
    "\n",
    "response = client.chat.completions.create(\n",
    "    model=\"deepseek-chat\",\n",
    "    messages=messages\n",
    ")\n",
    "\n",
    "# Then read the business idea:\n",
    "\n",
    "business_idea = response.choices[0].message.content\n",
    "\n",
    "display(Markdown(business_idea))\n",
    "\n",
    "\n",
    "# And repeat! In the next message, include the business idea within the message\n",
    "\n",
    "messages = [{\"role\": \"user\", \"content\": f\" What do you think difficult in this {business_idea} business idea? Respond only with the challenges.\"}]\n",
    "\n",
    "# Then make the second call:\n",
    "response = client.chat.completions.create(\n",
    "    model=\"deepseek-chat\",\n",
    "    messages=messages\n",
    ")\n",
    "# Then read the challenges:\n",
    "challenges = response.choices[0].message.content\n",
    "display(Markdown(challenges))\n",
    "\n",
    "# And repeat! In the next message, include the challenges within the message\n",
    "messages = [{\"role\": \"user\", \"content\": f\" How would you solve the challenges of {challenges} in the {business_idea} business idea? Respond only with the solutions.\"}]\n",
    "# Then make the third call:\n",
    "response = client.chat.completions.create(\n",
    "    model=\"deepseek-chat\",\n",
    "    messages=messages\n",
    ")\n",
    "# Then read the solutions:\n",
    "solutions = response.choices[0].message.content\n",
    "display(Markdown(solutions))\n"
   ]
  }
 ],
 "metadata": {
  "kernelspec": {
   "display_name": ".venv",
   "language": "python",
   "name": "python3"
  },
  "language_info": {
   "codemirror_mode": {
    "name": "ipython",
    "version": 3
   },
   "file_extension": ".py",
   "mimetype": "text/x-python",
   "name": "python",
   "nbconvert_exporter": "python",
   "pygments_lexer": "ipython3",
   "version": "3.12.11"
  }
 },
 "nbformat": 4,
 "nbformat_minor": 2
}
