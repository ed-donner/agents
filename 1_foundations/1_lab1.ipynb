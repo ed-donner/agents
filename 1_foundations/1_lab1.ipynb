{
 "cells": [
  {
   "cell_type": "markdown",
   "metadata": {},
   "source": [
    "# Welcome to the start of your adventure in Agentic AI"
   ]
  },
  {
   "cell_type": "markdown",
   "metadata": {},
   "source": [
    "<table style=\"margin: 0; text-align: left; width:100%\">\n",
    "    <tr>\n",
    "        <td style=\"width: 150px; height: 150px; vertical-align: middle;\">\n",
    "            <img src=\"../assets/stop.png\" width=\"150\" height=\"150\" style=\"display: block;\" />\n",
    "        </td>\n",
    "        <td>\n",
    "            <h2 style=\"color:#ff7800;\">Are you ready for action??</h2>\n",
    "            <span style=\"color:#ff7800;\">Have you completed all the setup steps in the <a href=\"../setup/\">setup</a> folder?<br/>\n",
    "            Have you read the <a href=\"../README.md\">README</a>? Many common questions are answered here!<br/>\n",
    "            Have you checked out the guides in the <a href=\"../guides/01_intro.ipynb\">guides</a> folder?<br/>\n",
    "            Well in that case, you're ready!!\n",
    "            </span>\n",
    "        </td>\n",
    "    </tr>\n",
    "</table>"
   ]
  },
  {
   "cell_type": "markdown",
   "metadata": {},
   "source": [
    "<table style=\"margin: 0; text-align: left; width:100%\">\n",
    "    <tr>\n",
    "        <td style=\"width: 150px; height: 150px; vertical-align: middle;\">\n",
    "            <img src=\"../assets/tools.png\" width=\"150\" height=\"150\" style=\"display: block;\" />\n",
    "        </td>\n",
    "        <td>\n",
    "            <h2 style=\"color:#00bfff;\">This code is a live resource - keep an eye out for my updates</h2>\n",
    "            <span style=\"color:#00bfff;\">I push updates regularly. As people ask questions or have problems, I add more examples and improve explanations. As a result, the code below might not be identical to the videos, as I've added more steps and better comments. Consider this like an interactive book that accompanies the lectures.<br/><br/>\n",
    "            I try to send emails regularly with important updates related to the course. You can find this in the 'Announcements' section of Udemy in the left sidebar. You can also choose to receive my emails via your Notification Settings in Udemy. I'm respectful of your inbox and always try to add value with my emails!\n",
    "            </span>\n",
    "        </td>\n",
    "    </tr>\n",
    "</table>"
   ]
  },
  {
   "cell_type": "markdown",
   "metadata": {},
   "source": [
    "### And please do remember to contact me if I can help\n",
    "\n",
    "And I love to connect: https://www.linkedin.com/in/eddonner/\n",
    "\n",
    "\n",
    "### New to Notebooks like this one? Head over to the guides folder!\n",
    "\n",
    "Just to check you've already added the Python and Jupyter extensions to Cursor, if not already installed:\n",
    "- Open extensions (View >> extensions)\n",
    "- Search for python, and when the results show, click on the ms-python one, and Install it if not already installed\n",
    "- Search for jupyter, and when the results show, click on the Microsoft one, and Install it if not already installed  \n",
    "Then View >> Explorer to bring back the File Explorer.\n",
    "\n",
    "And then:\n",
    "1. Click where it says \"Select Kernel\" near the top right, and select the option called `.venv (Python 3.12.9)` or similar, which should be the first choice or the most prominent choice. You may need to choose \"Python Environments\" first.\n",
    "2. Click in each \"cell\" below, starting with the cell immediately below this text, and press Shift+Enter to run\n",
    "3. Enjoy!\n",
    "\n",
    "After you click \"Select Kernel\", if there is no option like `.venv (Python 3.12.9)` then please do the following:  \n",
    "1. On Mac: From the Cursor menu, choose Settings >> VS Code Settings (NOTE: be sure to select `VSCode Settings` not `Cursor Settings`);  \n",
    "On Windows PC: From the File menu, choose Preferences >> VS Code Settings(NOTE: be sure to select `VSCode Settings` not `Cursor Settings`)  \n",
    "2. In the Settings search bar, type \"venv\"  \n",
    "3. In the field \"Path to folder with a list of Virtual Environments\" put the path to the project root, like C:\\Users\\username\\projects\\agents (on a Windows PC) or /Users/username/projects/agents (on Mac or Linux).  \n",
    "And then try again.\n",
    "\n",
    "Having problems with missing Python versions in that list? Have you ever used Anaconda before? It might be interferring. Quit Cursor, bring up a new command line, and make sure that your Anaconda environment is deactivated:    \n",
    "`conda deactivate`  \n",
    "And if you still have any problems with conda and python versions, it's possible that you will need to run this too:  \n",
    "`conda config --set auto_activate_base false`  \n",
    "and then from within the Agents directory, you should be able to run `uv python list` and see the Python 3.12 version."
   ]
  },
  {
   "cell_type": "code",
   "execution_count": 29,
   "metadata": {},
   "outputs": [],
   "source": [
    "# First let's do an import. If you get an Import Error, double check that your Kernel is correct..\n",
    "\n",
    "from dotenv import load_dotenv\n"
   ]
  },
  {
   "cell_type": "code",
   "execution_count": 30,
   "metadata": {},
   "outputs": [
    {
     "data": {
      "text/plain": [
       "True"
      ]
     },
     "execution_count": 30,
     "metadata": {},
     "output_type": "execute_result"
    }
   ],
   "source": [
    "# Next it's time to load the API keys into environment variables\n",
    "# If this returns false, see the next cell!\n",
    "\n",
    "load_dotenv(override=True)"
   ]
  },
  {
   "cell_type": "markdown",
   "metadata": {},
   "source": [
    "### Wait, did that just output `False`??\n",
    "\n",
    "If so, the most common reason is that you didn't save your `.env` file after adding the key! Be sure to have saved.\n",
    "\n",
    "Also, make sure the `.env` file is named precisely `.env` and is in the project root directory (`agents`)\n",
    "\n",
    "By the way, your `.env` file should have a stop symbol next to it in Cursor on the left, and that's actually a good thing: that's Cursor saying to you, \"hey, I realize this is a file filled with secret information, and I'm not going to send it to an external AI to suggest changes, because your keys should not be shown to anyone else.\""
   ]
  },
  {
   "cell_type": "markdown",
   "metadata": {},
   "source": [
    "<table style=\"margin: 0; text-align: left; width:100%\">\n",
    "    <tr>\n",
    "        <td style=\"width: 150px; height: 150px; vertical-align: middle;\">\n",
    "            <img src=\"../assets/stop.png\" width=\"150\" height=\"150\" style=\"display: block;\" />\n",
    "        </td>\n",
    "        <td>\n",
    "            <h2 style=\"color:#ff7800;\">Final reminders</h2>\n",
    "            <span style=\"color:#ff7800;\">1. If you're not confident about Environment Variables or Web Endpoints / APIs, please read Topics 3 and 5 in this <a href=\"../guides/04_technical_foundations.ipynb\">technical foundations guide</a>.<br/>\n",
    "            2. If you want to use AIs other than OpenAI, like Gemini, DeepSeek or Ollama (free), please see the first section in this <a href=\"../guides/09_ai_apis_and_ollama.ipynb\">AI APIs guide</a>.<br/>\n",
    "            3. If you ever get a Name Error in Python, you can always fix it immediately; see the last section of this <a href=\"../guides/06_python_foundations.ipynb\">Python Foundations guide</a> and follow both tutorials and exercises.<br/>\n",
    "            </span>\n",
    "        </td>\n",
    "    </tr>\n",
    "</table>"
   ]
  },
  {
   "cell_type": "code",
   "execution_count": 31,
   "metadata": {},
   "outputs": [
    {
     "name": "stdout",
     "output_type": "stream",
     "text": [
      "OpenAI API Key exists and begins sk-proj-\n"
     ]
    }
   ],
   "source": [
    "# Check the key - if you're not using OpenAI, check whichever key you're using! Ollama doesn't need a key.\n",
    "\n",
    "import os\n",
    "openai_api_key = os.getenv('OPENAI_API_KEY')\n",
    "\n",
    "if openai_api_key:\n",
    "    print(f\"OpenAI API Key exists and begins {openai_api_key[:8]}\")\n",
    "else:\n",
    "    print(\"OpenAI API Key not set - please head to the troubleshooting guide in the setup folder\")\n",
    "    \n"
   ]
  },
  {
   "cell_type": "code",
   "execution_count": 32,
   "metadata": {},
   "outputs": [],
   "source": [
    "# And now - the all important import statement\n",
    "# If you get an import error - head over to troubleshooting in the Setup folder\n",
    "\n",
    "from openai import OpenAI"
   ]
  },
  {
   "cell_type": "code",
   "execution_count": 33,
   "metadata": {},
   "outputs": [],
   "source": [
    "# And now we'll create an instance of the OpenAI class\n",
    "# If you're not sure what it means to create an instance of a class - head over to the guides folder (guide 6)!\n",
    "# If you get a NameError - head over to the guides folder (guide 6)to learn about NameErrors - always instantly fixable\n",
    "# If you're not using OpenAI, you just need to slightly modify this - precise instructions are in the AI APIs guide (guide 9)\n",
    "\n",
    "openai = OpenAI()"
   ]
  },
  {
   "cell_type": "code",
   "execution_count": 34,
   "metadata": {},
   "outputs": [],
   "source": [
    "# Create a list of messages in the familiar OpenAI format\n",
    "\n",
    "messages = [{\"role\": \"user\", \"content\": \"What is 2+2?\"}]"
   ]
  },
  {
   "cell_type": "code",
   "execution_count": 35,
   "metadata": {},
   "outputs": [
    {
     "name": "stdout",
     "output_type": "stream",
     "text": [
      "2 + 2 equals 4.\n"
     ]
    }
   ],
   "source": [
    "# And now call it! Any problems, head to the troubleshooting guide\n",
    "# This uses GPT 4.1 nano, the incredibly cheap model\n",
    "# The APIs guide (guide 9) has exact instructions for using even cheaper or free alternatives to OpenAI\n",
    "# If you get a NameError, head to the guides folder (guide 6) to learn about NameErrors - always instantly fixable\n",
    "\n",
    "response = openai.chat.completions.create(\n",
    "    model=\"gpt-4.1-nano\",\n",
    "    messages=messages\n",
    ")\n",
    "\n",
    "print(response.choices[0].message.content)\n"
   ]
  },
  {
   "cell_type": "code",
   "execution_count": 36,
   "metadata": {},
   "outputs": [],
   "source": [
    "# And now - let's ask for a question:\n",
    "\n",
    "question = \"Please propose a hard, challenging question to assess someone's IQ. Respond only with the question.\"\n",
    "messages = [{\"role\": \"user\", \"content\": question}]\n"
   ]
  },
  {
   "cell_type": "code",
   "execution_count": 37,
   "metadata": {},
   "outputs": [
    {
     "name": "stdout",
     "output_type": "stream",
     "text": [
      "If five machines take five minutes to make five widgets, how long would 100 machines take to make 100 widgets?\n"
     ]
    }
   ],
   "source": [
    "# ask it - this uses GPT 4.1 mini, still cheap but more powerful than nano\n",
    "\n",
    "response = openai.chat.completions.create(\n",
    "    model=\"gpt-4.1-mini\",\n",
    "    messages=messages\n",
    ")\n",
    "\n",
    "question = response.choices[0].message.content\n",
    "\n",
    "print(question)\n"
   ]
  },
  {
   "cell_type": "code",
   "execution_count": 38,
   "metadata": {},
   "outputs": [],
   "source": [
    "# form a new messages list\n",
    "messages = [{\"role\": \"user\", \"content\": question}]\n"
   ]
  },
  {
   "cell_type": "code",
   "execution_count": 39,
   "metadata": {},
   "outputs": [
    {
     "name": "stdout",
     "output_type": "stream",
     "text": [
      "Let's analyze the problem:\n",
      "\n",
      "- Five machines take five minutes to make five widgets.\n",
      "- We want to find out how long 100 machines take to make 100 widgets.\n",
      "\n",
      "**Step 1: Find the rate of production per machine**\n",
      "\n",
      "- If 5 machines make 5 widgets in 5 minutes, then the total production rate is 5 widgets / 5 minutes = 1 widget per minute (for 5 machines together).\n",
      "- Therefore, the rate per machine is 1 widget per minute / 5 machines = 1/5 widget per minute per machine.\n",
      "\n",
      "**Step 2: Find the time for 100 machines to make 100 widgets**\n",
      "\n",
      "- Total production rate of 100 machines = 100 machines * (1/5) widget/min per machine = 20 widgets per minute.\n",
      "- Time taken to make 100 widgets at this rate = 100 widgets / 20 widgets per minute = 5 minutes.\n",
      "\n",
      "**Answer:**\n",
      "\n",
      "It would take **5 minutes** for 100 machines to make 100 widgets.\n"
     ]
    }
   ],
   "source": [
    "# Ask it again\n",
    "\n",
    "response = openai.chat.completions.create(\n",
    "    model=\"gpt-4.1-mini\",\n",
    "    messages=messages\n",
    ")\n",
    "\n",
    "answer = response.choices[0].message.content\n",
    "print(answer)\n"
   ]
  },
  {
   "cell_type": "code",
   "execution_count": 40,
   "metadata": {},
   "outputs": [
    {
     "data": {
      "text/markdown": [
       "Let's analyze the problem:\n",
       "\n",
       "- Five machines take five minutes to make five widgets.\n",
       "- We want to find out how long 100 machines take to make 100 widgets.\n",
       "\n",
       "**Step 1: Find the rate of production per machine**\n",
       "\n",
       "- If 5 machines make 5 widgets in 5 minutes, then the total production rate is 5 widgets / 5 minutes = 1 widget per minute (for 5 machines together).\n",
       "- Therefore, the rate per machine is 1 widget per minute / 5 machines = 1/5 widget per minute per machine.\n",
       "\n",
       "**Step 2: Find the time for 100 machines to make 100 widgets**\n",
       "\n",
       "- Total production rate of 100 machines = 100 machines * (1/5) widget/min per machine = 20 widgets per minute.\n",
       "- Time taken to make 100 widgets at this rate = 100 widgets / 20 widgets per minute = 5 minutes.\n",
       "\n",
       "**Answer:**\n",
       "\n",
       "It would take **5 minutes** for 100 machines to make 100 widgets."
      ],
      "text/plain": [
       "<IPython.core.display.Markdown object>"
      ]
     },
     "metadata": {},
     "output_type": "display_data"
    }
   ],
   "source": [
    "from IPython.display import Markdown, display\n",
    "\n",
    "display(Markdown(answer))\n",
    "\n"
   ]
  },
  {
   "cell_type": "markdown",
   "metadata": {},
   "source": [
    "# Congratulations!\n",
    "\n",
    "That was a small, simple step in the direction of Agentic AI, with your new environment!\n",
    "\n",
    "Next time things get more interesting..."
   ]
  },
  {
   "cell_type": "markdown",
   "metadata": {},
   "source": [
    "<table style=\"margin: 0; text-align: left; width:100%\">\n",
    "    <tr>\n",
    "        <td style=\"width: 150px; height: 150px; vertical-align: middle;\">\n",
    "            <img src=\"../assets/exercise.png\" width=\"150\" height=\"150\" style=\"display: block;\" />\n",
    "        </td>\n",
    "        <td>\n",
    "            <h2 style=\"color:#ff7800;\">Exercise</h2>\n",
    "            <span style=\"color:#ff7800;\">Now try this commercial application:<br/>\n",
    "            First ask the LLM to pick a business area that might be worth exploring for an Agentic AI opportunity.<br/>\n",
    "            Then ask the LLM to present a pain-point in that industry - something challenging that might be ripe for an Agentic solution.<br/>\n",
    "            Finally have 3 third LLM call propose the Agentic AI solution. <br/>\n",
    "            We will cover this at up-coming labs, so don't worry if you're unsure.. just give it a try!\n",
    "            </span>\n",
    "        </td>\n",
    "    </tr>\n",
    "</table>"
   ]
  },
  {
   "cell_type": "code",
   "execution_count": 41,
   "metadata": {},
   "outputs": [
    {
     "data": {
      "text/markdown": [
       "**User:** Could you pick a business area that might be worth exploring for an Agentic AI opportunity?"
      ],
      "text/plain": [
       "<IPython.core.display.Markdown object>"
      ]
     },
     "metadata": {},
     "output_type": "display_data"
    },
    {
     "data": {
      "text/markdown": [
       "**Assistant:** Certainly! One promising business area for an Agentic AI opportunity is **Supply Chain and Logistics Optimization**.\n",
       "\n",
       "### Why Supply Chain and Logistics?\n",
       "\n",
       "1. **Complex Decision-Making Environment:**  \n",
       "   Supply chains involve numerous interdependent decisions—inventory levels, routing, demand forecasting, supplier management, and real-time disruptions—which require adaptive, autonomous decision-making.\n",
       "\n",
       "2. **High Impact from Automation and Optimization:**  \n",
       "   Even small improvements in efficiency can lead to significant cost savings and faster delivery times. Agentic AI could dynamically respond to changes in demand, weather, or transportation delays without human intervention.\n",
       "\n",
       "3. **Data-Rich Environment:**  \n",
       "   The industry has access to large datasets from IoT devices, transaction records, GPS tracking, and market trends, which an Agentic AI can leverage to learn and act effectively.\n",
       "\n",
       "4. **Growing Complexity & Uncertainty:**  \n",
       "   Globalization and increasing customer expectations have made supply chains more complex and less predictable, necessitating systems that can proactively adapt.\n",
       "\n",
       "5. **Regulatory and Sustainability Pressures:**  \n",
       "   Autonomous agents can optimize routes and inventory not only for cost but also to minimize environmental impact and comply with changing regulations.\n",
       "\n",
       "### Potential Agentic AI Applications in Supply Chain\n",
       "\n",
       "- **Autonomous Order Fulfillment Agents:** Capable of adjusting orders dynamically to optimize stock levels and minimize waste.\n",
       "- **Real-Time Disruption Management:** AI agents that reroute shipments and adjust schedules automatically upon unexpected events.\n",
       "- **Supplier Negotiation Agents:** AI negotiation agents autonomously manage supplier contracts and procurement strategies based on market conditions.\n",
       "- **Predictive Maintenance:** Autonomous agents managing fleet and equipment health to reduce downtime without manual oversight.\n",
       "\n",
       "---\n",
       "\n",
       "If you want, I can help brainstorm specific product ideas or the technical approaches to develop such agentic AI solutions in this space!"
      ],
      "text/plain": [
       "<IPython.core.display.Markdown object>"
      ]
     },
     "metadata": {},
     "output_type": "display_data"
    },
    {
     "data": {
      "text/markdown": [
       "**User:** Could you present a pain-point in that industry - something challenging that might be ripe for an Agentic solution?"
      ],
      "text/plain": [
       "<IPython.core.display.Markdown object>"
      ]
     },
     "metadata": {},
     "output_type": "display_data"
    },
    {
     "data": {
      "text/markdown": [
       "**Assistant:** Absolutely! A major pain-point in the supply chain and logistics industry that is particularly challenging—and ripe for an Agentic AI solution—is **Real-Time Disruption Management and Recovery**.\n",
       "\n",
       "---\n",
       "\n",
       "### The Pain-Point: Real-Time Disruption Management and Recovery\n",
       "\n",
       "**Context:**  \n",
       "Supply chains frequently face unexpected disruptions—such as delays due to weather, traffic congestion, equipment breakdowns, labor strikes, sudden demand spikes or drops, customs hold-ups, and more. These disruptions ripple through the network, causing delayed shipments, stockouts, increased costs, and unhappy customers.\n",
       "\n",
       "**Challenges:**  \n",
       "- **Complexity:** Supply chains often span multiple tiers of suppliers, carriers, warehouses, and distribution centers. Understanding the full impact of a single disruption requires analyzing interdependent relationships across geographies and stakeholders in real time.\n",
       "- **Dynamic Environment:** Conditions evolve rapidly, and decisions made at one node (e.g., rerouting a shipment) affect others downstream.\n",
       "- **Human Bottleneck:** Currently, response often relies on human teams who manually gather data, analyze it, coordinate with partners, and adjust plans. This leads to slow reaction times and suboptimal decisions.\n",
       "- **Limited Predictive Capability:** While many companies use forecasting tools, reacting proactively or orchestrating recovery actions autonomously remains elusive.\n",
       "\n",
       "---\n",
       "\n",
       "### Why This Pain-Point Is Ripe for an Agentic AI Solution\n",
       "\n",
       "An **Agentic AI system**—an autonomous, goal-directed intelligent agent—could continuously monitor the entire supply chain in real time, dynamically detect or even anticipate disruptions, and autonomously execute recovery plans to mitigate impact without constant human intervention.\n",
       "\n",
       "**Examples of Agentic Capabilities:**\n",
       "- **Autonomous Sensing & Awareness:** Integrate data streams (traffic, weather, shipment status, inventory levels) to maintain an up-to-the-minute model of supply chain health.\n",
       "- **Dynamic Decision-Making:** Evaluate multiple rerouting/reshuffling/sourcing options, balancing trade-offs (cost, time, carbon footprint) automatically.\n",
       "- **Proactive Negotiations:** Communicate autonomously with carriers, suppliers, or warehouses to confirm availability, expedite shipments, or renegotiate timelines.\n",
       "- **Multi-Agent Coordination:** Collaborate with other agents managing different parts of the network for coherent, end-to-end recovery strategies.\n",
       "\n",
       "---\n",
       "\n",
       "### Impact if Solved\n",
       "\n",
       "- **Faster response times**, minimizing downtime and delays.  \n",
       "- **Reduced operational costs** due to optimized rerouting and resource allocation.  \n",
       "- **Improved customer satisfaction** through more reliable deliveries.  \n",
       "- **Greater resilience** in the face of increasing volatility and uncertainties.\n",
       "\n",
       "---\n",
       "\n",
       "If you want, I can help outline a high-level solution architecture for such an agentic system or discuss viable business models around it. Would you like to proceed?"
      ],
      "text/plain": [
       "<IPython.core.display.Markdown object>"
      ]
     },
     "metadata": {},
     "output_type": "display_data"
    },
    {
     "data": {
      "text/markdown": [
       "**User:** Finally, can you propose an Agentic AI solution to address this pain-point?"
      ],
      "text/plain": [
       "<IPython.core.display.Markdown object>"
      ]
     },
     "metadata": {},
     "output_type": "display_data"
    },
    {
     "data": {
      "text/markdown": [
       "**Assistant:** Certainly! Here's a proposed **Agentic AI solution** designed to tackle the real-time disruption management and recovery pain-point in supply chain and logistics:\n",
       "\n",
       "---\n",
       "\n",
       "## Agentic AI Solution: **Dynamic Supply Chain Resilience Agent (DSCRA)**\n",
       "\n",
       "### Solution Overview:\n",
       "DSCRA is an autonomous intelligent agent platform that continuously monitors, predicts, and mitigates supply chain disruptions by dynamically coordinating logistics network adjustments in real time, without requiring manual intervention.\n",
       "\n",
       "---\n",
       "\n",
       "### Core Components and Capabilities\n",
       "\n",
       "#### 1. **Continuous Real-Time Data Integration**\n",
       "- Aggregates vast streams of heterogeneous data: GPS tracking, IoT sensor data (temperature, vehicle health), weather forecasts, traffic updates, port/airport status, inventory levels, orders, supplier capacity, and market demand signals.\n",
       "- Maintains a live “digital twin” of the supply chain network, tracking all assets and dependencies.\n",
       "\n",
       "#### 2. **Disruption Detection & Predictive Analytics**\n",
       "- Applies anomaly detection and predictive modeling to identify disruptions early (e.g., detecting shipment delays or forecasting equipment failure).\n",
       "- Uses causal inference and scenario simulations to estimate ripple effects across the supply chain.\n",
       "\n",
       "#### 3. **Autonomous Decision-Making Engine**\n",
       "- Evaluates alternative recovery actions using multi-objective optimization considering cost, time, service-level agreements (SLAs), carbon footprint, and risk.\n",
       "- Prioritizes actions based on impact severity, urgency, and contractual penalties.\n",
       "\n",
       "#### 4. **Autonomous Execution & Multi-Agent Coordination**\n",
       "- Dispatches instructions to relevant actors: rerouting a shipment, adjusting inventory orders, reallocating warehouse resources.\n",
       "- Engages in automated negotiation with suppliers, carriers, and third-party logistics providers via smart contracts and APIs to secure alternative routes, expedite deliveries, or reschedule shipments.\n",
       "- Coordinates collaboratively with specialized agents managing finance, compliance, or customer communication to maintain end-to-end consistency.\n",
       "\n",
       "#### 5. **Continuous Learning & Adaptation**\n",
       "- Learns from past disruptions and outcomes to improve predictive accuracy and decision policies.\n",
       "- Adapts dynamically to new partners, geographies, regulations, and market conditions.\n",
       "\n",
       "---\n",
       "\n",
       "### Example Scenario in Action\n",
       "\n",
       "- A DSCRA agent detects via IoT data and traffic feeds that a key truck shipment will be delayed due to an accident on the highway.\n",
       "- It immediately simulates the impact: delayed delivery to a regional warehouse would cause stockouts affecting several large customers.\n",
       "- The agent autonomously evaluates options: rerouting via a different carrier, expediting air freight for a critical subset of items, reallocating inventory from nearby warehouses.\n",
       "- It negotiates with alternative carriers via API integrations to secure capacity and rearranges warehouse schedules correspondingly.\n",
       "- Simultaneously, it alerts downstream agents (customer service bots, finance managers) to update affected stakeholders and adjust invoices.\n",
       "- The system monitors the execution and adjusts plans if further disruptions arise.\n",
       "\n",
       "---\n",
       "\n",
       "### Benefits of DSCRA\n",
       "\n",
       "- **Minimized disruption impact** with faster, data-driven autonomous responses.\n",
       "- **Reduced operational overhead** by shaving hours or days off human coordination.\n",
       "- **Increased transparency and predictability** throughout the supply chain.\n",
       "- **Scalable across complex global networks** with multiple agents collaborating.\n",
       "- **Supports sustainability** criteria by optimizing for environmental impact alongside cost and time.\n",
       "\n",
       "---\n",
       "\n",
       "### Go-to-Market Considerations\n",
       "\n",
       "- **Initial focus:** Mid-to-large enterprises with complex, multi-modal supply chains in sectors like retail, manufacturing, pharmaceuticals.\n",
       "- **Integration:** Seamless APIs to connect with existing ERP, TMS (Transportation Management Systems), WMS (Warehouse Management Systems).\n",
       "- **Revenue Model:** SaaS subscription based on volume of shipments monitored or on value saved (performance-based fees).\n",
       "- **Partnerships:** Collaborate with logistics providers and data platform vendors to access real-time data and negotiation channels.\n",
       "\n",
       "---\n",
       "\n",
       "Would you like me to help with a more detailed technical architecture, data strategy, or development roadmap for DSCRA?"
      ],
      "text/plain": [
       "<IPython.core.display.Markdown object>"
      ]
     },
     "metadata": {},
     "output_type": "display_data"
    }
   ],
   "source": [
    "# Refactored Exercise Code\n",
    "\n",
    "from IPython.display import Markdown, display\n",
    "\n",
    "def ask_llm(messages, model=\"gpt-4.1-mini\"):\n",
    "    \"\"\"Helper function to send messages to the LLM and return the response message.\"\"\"\n",
    "    response = openai.chat.completions.create(\n",
    "        model=model,\n",
    "        messages=messages\n",
    "    )\n",
    "    return response.choices[0].message\n",
    "\n",
    "# Start the conversation\n",
    "messages = [{\"role\": \"user\", \"content\": \"Could you pick a business area that might be worth exploring for an Agentic AI opportunity?\"}]\n",
    "reply = ask_llm(messages)\n",
    "messages.append({\"role\": reply.role, \"content\": reply.content})\n",
    "\n",
    "# Ask for a pain-point in that industry\n",
    "messages.append({\"role\": \"user\", \"content\": \"Could you present a pain-point in that industry - something challenging that might be ripe for an Agentic solution?\"})\n",
    "reply = ask_llm(messages)\n",
    "messages.append({\"role\": reply.role, \"content\": reply.content})\n",
    "\n",
    "# Ask for the Agentic AI solution\n",
    "messages.append({\"role\": \"user\", \"content\": \"Finally, can you propose an Agentic AI solution to address this pain-point?\"})\n",
    "reply = ask_llm(messages)\n",
    "messages.append({\"role\": reply.role, \"content\": reply.content})\n",
    "\n",
    "# Display the conversation\n",
    "for msg in messages:\n",
    "    if msg[\"role\"] == \"user\":\n",
    "        display(Markdown(f\"**User:** {msg['content']}\"))\n",
    "    else:\n",
    "        display(Markdown(f\"**Assistant:** {msg['content']}\"))"
   ]
  },
  {
   "cell_type": "markdown",
   "metadata": {},
   "source": []
  }
 ],
 "metadata": {
  "kernelspec": {
   "display_name": ".venv",
   "language": "python",
   "name": "python3"
  },
  "language_info": {
   "codemirror_mode": {
    "name": "ipython",
    "version": 3
   },
   "file_extension": ".py",
   "mimetype": "text/x-python",
   "name": "python",
   "nbconvert_exporter": "python",
   "pygments_lexer": "ipython3",
   "version": "3.12.7"
  }
 },
 "nbformat": 4,
 "nbformat_minor": 2
}
