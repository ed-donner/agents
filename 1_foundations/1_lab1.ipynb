{
 "cells": [
  {
   "cell_type": "markdown",
   "metadata": {},
   "source": [
    "# Welcome to the start of your adventure in Agentic AI"
   ]
  },
  {
   "cell_type": "markdown",
   "metadata": {},
   "source": [
    "<table style=\"margin: 0; text-align: left; width:100%\">\n",
    "    <tr>\n",
    "        <td style=\"width: 150px; height: 150px; vertical-align: middle;\">\n",
    "            <img src=\"../assets/stop.png\" width=\"150\" height=\"150\" style=\"display: block;\" />\n",
    "        </td>\n",
    "        <td>\n",
    "            <h2 style=\"color:#ff7800;\">Are you ready for action??</h2>\n",
    "            <span style=\"color:#ff7800;\">Have you completed all the setup steps in the <a href=\"../setup/\">setup</a> folder?<br/>\n",
    "            Have you read the <a href=\"../README.md\">README</a>? Many common questions are answered here!<br/>\n",
    "            Have you checked out the guides in the <a href=\"../guides/01_intro.ipynb\">guides</a> folder?<br/>\n",
    "            Well in that case, you're ready!!\n",
    "            </span>\n",
    "        </td>\n",
    "    </tr>\n",
    "</table>"
   ]
  },
  {
   "cell_type": "markdown",
   "metadata": {},
   "source": [
    "<table style=\"margin: 0; text-align: left; width:100%\">\n",
    "    <tr>\n",
    "        <td style=\"width: 150px; height: 150px; vertical-align: middle;\">\n",
    "            <img src=\"../assets/tools.png\" width=\"150\" height=\"150\" style=\"display: block;\" />\n",
    "        </td>\n",
    "        <td>\n",
    "            <h2 style=\"color:#00bfff;\">This code is a live resource - keep an eye out for my updates</h2>\n",
    "            <span style=\"color:#00bfff;\">I push updates regularly. As people ask questions or have problems, I add more examples and improve explanations. As a result, the code below might not be identical to the videos, as I've added more steps and better comments. Consider this like an interactive book that accompanies the lectures.<br/><br/>\n",
    "            I try to send emails regularly with important updates related to the course. You can find this in the 'Announcements' section of Udemy in the left sidebar. You can also choose to receive my emails via your Notification Settings in Udemy. I'm respectful of your inbox and always try to add value with my emails!\n",
    "            </span>\n",
    "        </td>\n",
    "    </tr>\n",
    "</table>"
   ]
  },
  {
   "cell_type": "markdown",
   "metadata": {},
   "source": [
    "### And please do remember to contact me if I can help\n",
    "\n",
    "And I love to connect: https://www.linkedin.com/in/eddonner/\n",
    "\n",
    "\n",
    "### New to Notebooks like this one? Head over to the guides folder!\n",
    "\n",
    "Just to check you've already added the Python and Jupyter extensions to Cursor, if not already installed:\n",
    "- Open extensions (View >> extensions)\n",
    "- Search for python, and when the results show, click on the ms-python one, and Install it if not already installed\n",
    "- Search for jupyter, and when the results show, click on the Microsoft one, and Install it if not already installed  \n",
    "Then View >> Explorer to bring back the File Explorer.\n",
    "\n",
    "And then:\n",
    "1. Click where it says \"Select Kernel\" near the top right, and select the option called `.venv (Python 3.12.9)` or similar, which should be the first choice or the most prominent choice. You may need to choose \"Python Environments\" first.\n",
    "2. Click in each \"cell\" below, starting with the cell immediately below this text, and press Shift+Enter to run\n",
    "3. Enjoy!\n",
    "\n",
    "After you click \"Select Kernel\", if there is no option like `.venv (Python 3.12.9)` then please do the following:  \n",
    "1. On Mac: From the Cursor menu, choose Settings >> VS Code Settings (NOTE: be sure to select `VSCode Settings` not `Cursor Settings`);  \n",
    "On Windows PC: From the File menu, choose Preferences >> VS Code Settings(NOTE: be sure to select `VSCode Settings` not `Cursor Settings`)  \n",
    "2. In the Settings search bar, type \"venv\"  \n",
    "3. In the field \"Path to folder with a list of Virtual Environments\" put the path to the project root, like C:\\Users\\username\\projects\\agents (on a Windows PC) or /Users/username/projects/agents (on Mac or Linux).  \n",
    "And then try again.\n",
    "\n",
    "Having problems with missing Python versions in that list? Have you ever used Anaconda before? It might be interferring. Quit Cursor, bring up a new command line, and make sure that your Anaconda environment is deactivated:    \n",
    "`conda deactivate`  \n",
    "And if you still have any problems with conda and python versions, it's possible that you will need to run this too:  \n",
    "`conda config --set auto_activate_base false`  \n",
    "and then from within the Agents directory, you should be able to run `uv python list` and see the Python 3.12 version."
   ]
  },
  {
   "cell_type": "code",
   "execution_count": null,
   "metadata": {},
   "outputs": [],
   "source": [
    "# First let's do an import. If you get an Import Error, double check that your Kernel is correct..\n",
    "\n",
    "from dotenv import load_dotenv\n",
    "\n"
   ]
  },
  {
   "cell_type": "code",
   "execution_count": 2,
   "metadata": {},
   "outputs": [
    {
     "data": {
      "text/plain": [
       "True"
      ]
     },
     "execution_count": 2,
     "metadata": {},
     "output_type": "execute_result"
    }
   ],
   "source": [
    "# Next it's time to load the API keys into environment variables\n",
    "# If this returns false, see the next cell!\n",
    "\n",
    "load_dotenv(override=True)"
   ]
  },
  {
   "cell_type": "markdown",
   "metadata": {},
   "source": [
    "### Wait, did that just output `False`??\n",
    "\n",
    "If so, the most common reason is that you didn't save your `.env` file after adding the key! Be sure to have saved.\n",
    "\n",
    "Also, make sure the `.env` file is named precisely `.env` and is in the project root directory (`agents`)\n",
    "\n",
    "By the way, your `.env` file should have a stop symbol next to it in Cursor on the left, and that's actually a good thing: that's Cursor saying to you, \"hey, I realize this is a file filled with secret information, and I'm not going to send it to an external AI to suggest changes, because your keys should not be shown to anyone else.\""
   ]
  },
  {
   "cell_type": "markdown",
   "metadata": {},
   "source": [
    "<table style=\"margin: 0; text-align: left; width:100%\">\n",
    "    <tr>\n",
    "        <td style=\"width: 150px; height: 150px; vertical-align: middle;\">\n",
    "            <img src=\"../assets/stop.png\" width=\"150\" height=\"150\" style=\"display: block;\" />\n",
    "        </td>\n",
    "        <td>\n",
    "            <h2 style=\"color:#ff7800;\">Final reminders</h2>\n",
    "            <span style=\"color:#ff7800;\">1. If you're not confident about Environment Variables or Web Endpoints / APIs, please read Topics 3 and 5 in this <a href=\"../guides/04_technical_foundations.ipynb\">technical foundations guide</a>.<br/>\n",
    "            2. If you want to use AIs other than OpenAI, like Gemini, DeepSeek or Ollama (free), please see the first section in this <a href=\"../guides/09_ai_apis_and_ollama.ipynb\">AI APIs guide</a>.<br/>\n",
    "            3. If you ever get a Name Error in Python, you can always fix it immediately; see the last section of this <a href=\"../guides/06_python_foundations.ipynb\">Python Foundations guide</a> and follow both tutorials and exercises.<br/>\n",
    "            </span>\n",
    "        </td>\n",
    "    </tr>\n",
    "</table>"
   ]
  },
  {
   "cell_type": "code",
   "execution_count": null,
   "metadata": {},
   "outputs": [
    {
     "name": "stdout",
     "output_type": "stream",
     "text": [
      "OpenAI API Key exists and begins sk-proj-\n"
     ]
    }
   ],
   "source": [
    "# Check the key - if you're not using OpenAI, check whichever key you're using! Ollama doesn't need a key.\n",
    "\n",
    "import os\n",
    "openai_api_key = os.getenv('OPENAI_API_KEY')\n",
    "\n",
    "if openai_api_key:\n",
    "    print(f\"OpenAI API Key exists and begins {openai_api_key[:8]}\")\n",
    "else:\n",
    "    print(\"OpenAI API Key not set - please head to the troubleshooting guide in the setup folder\")\n",
    "    \n"
   ]
  },
  {
   "cell_type": "code",
   "execution_count": 4,
   "metadata": {},
   "outputs": [],
   "source": [
    "# And now - the all important import statement\n",
    "# If you get an import error - head over to troubleshooting in the Setup folder\n",
    "\n",
    "from openai import OpenAI"
   ]
  },
  {
   "cell_type": "code",
   "execution_count": 5,
   "metadata": {},
   "outputs": [],
   "source": [
    "# And now we'll create an instance of the OpenAI class\n",
    "# If you're not sure what it means to create an instance of a class - head over to the guides folder (guide 6)!\n",
    "# If you get a NameError - head over to the guides folder (guide 6)to learn about NameErrors - always instantly fixable\n",
    "# If you're not using OpenAI, you just need to slightly modify this - precise instructions are in the AI APIs guide (guide 9)\n",
    "\n",
    "openai = OpenAI()"
   ]
  },
  {
   "cell_type": "code",
   "execution_count": 6,
   "metadata": {},
   "outputs": [],
   "source": [
    "# Create a list of messages in the familiar OpenAI format\n",
    "\n",
    "messages = [{\"role\": \"user\", \"content\": \"What is 2+2?\"}]"
   ]
  },
  {
   "cell_type": "code",
   "execution_count": 7,
   "metadata": {},
   "outputs": [
    {
     "name": "stdout",
     "output_type": "stream",
     "text": [
      "2 + 2 equals 4.\n"
     ]
    }
   ],
   "source": [
    "# And now call it! Any problems, head to the troubleshooting guide\n",
    "# This uses GPT 4.1 nano, the incredibly cheap model\n",
    "# The APIs guide (guide 9) has exact instructions for using even cheaper or free alternatives to OpenAI\n",
    "# If you get a NameError, head to the guides folder (guide 6) to learn about NameErrors - always instantly fixable\n",
    "\n",
    "response = openai.chat.completions.create(\n",
    "    model=\"gpt-4.1-nano\",\n",
    "    messages=messages\n",
    ")\n",
    "\n",
    "print(response.choices[0].message.content)\n"
   ]
  },
  {
   "cell_type": "code",
   "execution_count": 8,
   "metadata": {},
   "outputs": [],
   "source": [
    "# And now - let's ask for a question:\n",
    "\n",
    "question = \"Please propose a hard, challenging question to assess someone's IQ. Respond only with the question.\"\n",
    "messages = [{\"role\": \"user\", \"content\": question}]\n"
   ]
  },
  {
   "cell_type": "code",
   "execution_count": 9,
   "metadata": {},
   "outputs": [
    {
     "name": "stdout",
     "output_type": "stream",
     "text": [
      "If you rearrange the letters \"CIFAIPC\" you get the name of a(n):  \n",
      "A) City  \n",
      "B) Ocean  \n",
      "C) River  \n",
      "D) Country  \n",
      "E) Animal\n"
     ]
    }
   ],
   "source": [
    "# ask it - this uses GPT 4.1 mini, still cheap but more powerful than nano\n",
    "\n",
    "response = openai.chat.completions.create(\n",
    "    model=\"gpt-4.1-mini\",\n",
    "    messages=messages\n",
    ")\n",
    "\n",
    "question = response.choices[0].message.content\n",
    "\n",
    "print(question)\n"
   ]
  },
  {
   "cell_type": "code",
   "execution_count": 10,
   "metadata": {},
   "outputs": [],
   "source": [
    "# form a new messages list\n",
    "messages = [{\"role\": \"user\", \"content\": question}]\n"
   ]
  },
  {
   "cell_type": "code",
   "execution_count": 11,
   "metadata": {},
   "outputs": [
    {
     "name": "stdout",
     "output_type": "stream",
     "text": [
      "Let's rearrange the letters of \"CIFAIPC\":\n",
      "\n",
      "C I F A I P C\n",
      "\n",
      "Look for a familiar word, perhaps related to the options.\n",
      "\n",
      "Notice the letters can be rearranged to **PACIFIC**.\n",
      "\n",
      "The Pacific is an ocean.\n",
      "\n",
      "So, the answer is:\n",
      "\n",
      "**B) Ocean**\n"
     ]
    }
   ],
   "source": [
    "# Ask it again\n",
    "\n",
    "response = openai.chat.completions.create(\n",
    "    model=\"gpt-4.1-mini\",\n",
    "    messages=messages\n",
    ")\n",
    "\n",
    "answer = response.choices[0].message.content\n",
    "print(answer)\n"
   ]
  },
  {
   "cell_type": "code",
   "execution_count": 12,
   "metadata": {},
   "outputs": [
    {
     "data": {
      "text/markdown": [
       "Let's rearrange the letters of \"CIFAIPC\":\n",
       "\n",
       "C I F A I P C\n",
       "\n",
       "Look for a familiar word, perhaps related to the options.\n",
       "\n",
       "Notice the letters can be rearranged to **PACIFIC**.\n",
       "\n",
       "The Pacific is an ocean.\n",
       "\n",
       "So, the answer is:\n",
       "\n",
       "**B) Ocean**"
      ],
      "text/plain": [
       "<IPython.core.display.Markdown object>"
      ]
     },
     "metadata": {},
     "output_type": "display_data"
    }
   ],
   "source": [
    "from IPython.display import Markdown, display\n",
    "\n",
    "display(Markdown(answer))\n",
    "\n"
   ]
  },
  {
   "cell_type": "markdown",
   "metadata": {},
   "source": [
    "# Congratulations!\n",
    "\n",
    "That was a small, simple step in the direction of Agentic AI, with your new environment!\n",
    "\n",
    "Next time things get more interesting..."
   ]
  },
  {
   "cell_type": "markdown",
   "metadata": {},
   "source": [
    "<table style=\"margin: 0; text-align: left; width:100%\">\n",
    "    <tr>\n",
    "        <td style=\"width: 150px; height: 150px; vertical-align: middle;\">\n",
    "            <img src=\"../assets/exercise.png\" width=\"150\" height=\"150\" style=\"display: block;\" />\n",
    "        </td>\n",
    "        <td>\n",
    "            <h2 style=\"color:#ff7800;\">Exercise</h2>\n",
    "            <span style=\"color:#ff7800;\">Now try this commercial application:<br/>\n",
    "            First ask the LLM to pick a business area that might be worth exploring for an Agentic AI opportunity.<br/>\n",
    "            Then ask the LLM to present a pain-point in that industry - something challenging that might be ripe for an Agentic solution.<br/>\n",
    "            Finally have 3 third LLM call propose the Agentic AI solution. <br/>\n",
    "            We will cover this at up-coming labs, so don't worry if you're unsure.. just give it a try!\n",
    "            </span>\n",
    "        </td>\n",
    "    </tr>\n",
    "</table>"
   ]
  },
  {
   "cell_type": "code",
   "execution_count": 14,
   "metadata": {},
   "outputs": [],
   "source": [
    "# First create the messages:\n",
    "\n",
    "messages = [{\"role\": \"user\", \"content\": \"Pick the best business idea that might be worth exploring for an Agentic AI opportunity\"}]\n",
    "\n",
    "# Then make the first call:\n",
    "\n",
    "response = openai.chat.completions.create(\n",
    "    model=\"gpt-4o-mini\",\n",
    "    messages=messages\n",
    ")\n",
    "\n",
    "# Then read the business idea:\n",
    "\n",
    "business_idea = response.choices[0].message.content\n",
    "\n",
    "# And repeat! In the next message, include the business idea within the message\n",
    "\n",
    "messages.append({\"role\": \"assistant\", \"content\": business_idea})\n",
    "\n",
    "messages.append({\"role\": \"user\", \"content\": f\"Please expand on the business idea: {business_idea}\"})\n",
    "\n",
    "response = openai.chat.completions.create(\n",
    "    model=\"gpt-4o-mini\",\n",
    "    messages=messages\n",
    ")"
   ]
  },
  {
   "cell_type": "markdown",
   "metadata": {},
   "source": []
  },
  {
   "cell_type": "code",
   "execution_count": 16,
   "metadata": {},
   "outputs": [
    {
     "name": "stdout",
     "output_type": "stream",
     "text": [
      "Absolutely! Let's delve deeper into the **Personalized AI Wellness Coach** concept, exploring its architecture, the underlying technology, potential monetization strategies, marketing strategies, implementation challenges, and long-term vision.\n",
      "\n",
      "### Expanded Business Idea: Personalized AI Wellness Coach\n",
      "\n",
      "#### 1. **Concept Architecture:**\n",
      "\n",
      "- **User Interface (UI):** \n",
      "  - A mobile app and web interface where users can interact with the AI. The design should be intuitive and engaging to enhance user retention.\n",
      "  \n",
      "- **Backend Systems:**\n",
      "  - **AI Engine:** This is the heart of the coach, utilizing advanced machine learning algorithms to analyze user data and provide personalized recommendations.\n",
      "  - **Data Management:** A secure database to store user profiles, interaction logs, health data, and feedback.\n",
      "  - **APIs for Integrations:** Interfaces for integrating with health apps and wearables, ensuring seamless data flow.\n",
      "\n",
      "#### 2. **Underlying Technology:**\n",
      "\n",
      "- **Natural Language Processing (NLP):**\n",
      "  - Develop conversational models capable of understanding user input accurately and contextually to provide relevant responses.\n",
      "\n",
      "- **Machine Learning (ML):**\n",
      "  - Use predictive analytics to assess progress against health goals and adjust plans accordingly.\n",
      "  - Implement clustering algorithms to identify user segments and tailor experiences.\n",
      "\n",
      "- **Data Analytics:**\n",
      "  - Analyze large datasets from users to identify trends and improve the AI's recommendations over time.\n",
      "\n",
      "#### 3. **Key Features Expanded:**\n",
      "  \n",
      "- **Personalized Plans:**\n",
      "  - Users fill out a comprehensive initial questionnaire that includes information about their health history, preferences, and desired outcomes.\n",
      "  - Regular updates based on user feedback will refine these plans.\n",
      "\n",
      "- **Natural Language Interaction:**\n",
      "  - The AI can also reach out proactively for check-ins and motivational messages, making the interaction feel more human-like.\n",
      "\n",
      "- **Real-time Feedback:**\n",
      "  - Gamify the experience by providing badges or rewards for achieving milestones, which encourages consistent usage and engagement.\n",
      "\n",
      "- **Integration with Wearables:**\n",
      "  - Continuous data syncing allows for dynamic adjustments in the user’s fitness or nutrition regimens.\n",
      "\n",
      "- **Mindfulness and Mental Health Support:**\n",
      "  - Include features like journaling prompts, motivational quotes, or cognitive-behavioral strategies for managing anxiety or stress.\n",
      "\n",
      "- **Community and Social Features:**\n",
      "  - Enable users to form groups based on interests (e.g., running, yoga) for shared challenges, fostering community spirit and accountability.\n",
      "\n",
      "- **Safety and Health Monitoring:**\n",
      "  - Utilize AI-driven pattern recognition to flag concerning trends (e.g., declining activity levels) and offer support or alert healthcare professionals if necessary.\n",
      "\n",
      "#### 4. **Market Opportunity:**\n",
      "\n",
      "- **Target Audience:**\n",
      "  - Health-conscious individuals (Millennials and Gen Z), fitness enthusiasts, people with specific health conditions, and busy professionals looking to integrate wellness into their routine.\n",
      "\n",
      "- **Competitive Analysis:**\n",
      "  - Analyze competitors in the wellness space (such as Noom, MyFitnessPal, and Headspace) to identify gaps in their offerings and areas for your unique proposition.\n",
      "\n",
      "#### 5. **Monetization Strategies:**\n",
      "\n",
      "- **Subscription Model:**\n",
      "  - Offer tiered subscription plans (basic, premium, family) with features varying by level.\n",
      "  \n",
      "- **Freemium Model:**\n",
      "  - Provide basic features for free, with advanced functionalities (such as personalized coaching sessions or nutritional consultations) available through a paid tier.\n",
      "\n",
      "- **Partnerships:**\n",
      "  - Partner with gyms, health food brands, and wellness retreats for referral discounts and promotions, generating additional revenue streams.\n",
      "\n",
      "#### 6. **Marketing Strategies:**\n",
      "\n",
      "- **Content Marketing:**\n",
      "  - Create educational content around health and wellness that positions your AI Wellness Coach as a thought leader.\n",
      "\n",
      "- **Influencer Collaborations:**\n",
      "  - Partner with fitness influencers and wellness experts to promote the app.\n",
      "\n",
      "- **Social Media Campaigns:**\n",
      "  - Leverage platforms like Instagram and TikTok with challenges or user testimonials to foster engagement and visibility.\n",
      "\n",
      "- **Referral Programs:**\n",
      "  - Create a rewards system for users who refer new customers, encouraging word-of-mouth marketing.\n",
      "\n",
      "#### 7. **Implementation Challenges:**\n",
      "\n",
      "- **Data Security and Compliance:**\n",
      "  - Ensuring GDPR, HIPAA, and other relevant data protection compliance is critical.\n",
      "  \n",
      "- **User Trust:**\n",
      "  - Building and maintaining trust through transparency and the ethical use of AI is vital.\n",
      "\n",
      "- **User Retention:**\n",
      "  - Continuously improving the product based on user feedback will help keep churn rates low.\n",
      "\n",
      "- **Technical Scale-Up:**\n",
      "  - As the user base grows, ensuring that the platform’s infrastructure can scale without compromising performance will be essential.\n",
      "\n",
      "#### 8. **Long-Term Vision:**\n",
      "\n",
      "- **Integration into Healthcare Systems:**\n",
      "  - Explore partnerships with healthcare providers to ensure the platform serves as a complementary tool in preventive care.\n",
      "\n",
      "- **Broader Health Solutions:**\n",
      "  - Expand the offering to include genetic health profiling, chronic disease management, and personalized medication compliance.\n",
      "\n",
      "- **Global Reach:**\n",
      "  - After establishing a strong presence in local markets, explore international expansion to cater to global wellness trends.\n",
      "\n",
      "### Conclusion:\n",
      "The **Personalized AI Wellness Coach** presents a versatile business model leveraging cutting-edge technology to meet the evolving needs of wellness-seeking consumers. By combining personalized coaching with advanced AI capabilities, it stands poised to make a significant impact in the health and wellness landscape. Properly addressing technical, ethical, and operational challenges while focusing on user experience will be essential for success in this dynamic market.\n"
     ]
    }
   ],
   "source": [
    "print(response.choices[0].message.content)"
   ]
  }
 ],
 "metadata": {
  "kernelspec": {
   "display_name": ".venv",
   "language": "python",
   "name": "python3"
  },
  "language_info": {
   "codemirror_mode": {
    "name": "ipython",
    "version": 3
   },
   "file_extension": ".py",
   "mimetype": "text/x-python",
   "name": "python",
   "nbconvert_exporter": "python",
   "pygments_lexer": "ipython3",
   "version": "3.12.3"
  }
 },
 "nbformat": 4,
 "nbformat_minor": 2
}
