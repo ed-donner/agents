{
 "cells": [
  {
   "cell_type": "markdown",
   "metadata": {},
   "source": [
    "# Welcome to the start of your adventure in Agentic AI"
   ]
  },
  {
   "cell_type": "markdown",
   "metadata": {},
   "source": [
    "<table style=\"margin: 0; text-align: left; width:100%\">\n",
    "    <tr>\n",
    "        <td style=\"width: 150px; height: 150px; vertical-align: middle;\">\n",
    "            <img src=\"../assets/stop.png\" width=\"150\" height=\"150\" style=\"display: block;\" />\n",
    "        </td>\n",
    "        <td>\n",
    "            <h2 style=\"color:#ff7800;\">Are you ready for action??</h2>\n",
    "            <span style=\"color:#ff7800;\">Have you completed all the setup steps in the <a href=\"../setup/\">setup</a> folder?<br/>\n",
    "            Have you checked out the guides in the <a href=\"../guides/01_intro.ipynb\">guides</a> folder?<br/>\n",
    "            Well in that case, you're ready!!\n",
    "            </span>\n",
    "        </td>\n",
    "    </tr>\n",
    "</table>"
   ]
  },
  {
   "cell_type": "markdown",
   "metadata": {},
   "source": [
    "<table style=\"margin: 0; text-align: left; width:100%\">\n",
    "    <tr>\n",
    "        <td style=\"width: 150px; height: 150px; vertical-align: middle;\">\n",
    "            <img src=\"../assets/tools.png\" width=\"150\" height=\"150\" style=\"display: block;\" />\n",
    "        </td>\n",
    "        <td>\n",
    "            <h2 style=\"color:#00bfff;\">This code is a live resource - keep an eye out for my updates</h2>\n",
    "            <span style=\"color:#00bfff;\">I push updates regularly. As people ask questions or have problems, I add more examples and improve explanations. As a result, the code below might not be identical to the videos, as I've added more steps and better comments. Consider this like an interactive book that accompanies the lectures.<br/><br/>\n",
    "            I try to send emails regularly with important updates related to the course. You can find this in the 'Announcements' section of Udemy in the left sidebar. You can also choose to receive my emails via your Notification Settings in Udemy. I'm respectful of your inbox and always try to add value with my emails!\n",
    "            </span>\n",
    "        </td>\n",
    "    </tr>\n",
    "</table>"
   ]
  },
  {
   "cell_type": "markdown",
   "metadata": {},
   "source": [
    "### And please do remember to contact me if I can help\n",
    "\n",
    "And I love to connect: https://www.linkedin.com/in/eddonner/\n",
    "\n",
    "\n",
    "### New to Notebooks like this one? Head over to the guides folder!\n",
    "\n",
    "Just to check you've already added the Python and Jupyter extensions to Cursor, if not already installed:\n",
    "- Open extensions (View >> extensions)\n",
    "- Search for python, and when the results show, click on the ms-python one, and Install it if not already installed\n",
    "- Search for jupyter, and when the results show, click on the Microsoft one, and Install it if not already installed  \n",
    "Then View >> Explorer to bring back the File Explorer.\n",
    "\n",
    "And then:\n",
    "1. Click where it says \"Select Kernel\" near the top right, and select the option called `.venv (Python 3.12.9)` or similar, which should be the first choice or the most prominent choice. You may need to choose \"Python Environments\" first.\n",
    "2. Click in each \"cell\" below, starting with the cell immediately below this text, and press Shift+Enter to run\n",
    "3. Enjoy!\n",
    "\n",
    "After you click \"Select Kernel\", if there is no option like `.venv (Python 3.12.9)` then please do the following:  \n",
    "1. On Mac: From the Cursor menu, choose Settings >> VS Code Settings (NOTE: be sure to select `VSCode Settings` not `Cursor Settings`);  \n",
    "On Windows PC: From the File menu, choose Preferences >> VS Code Settings(NOTE: be sure to select `VSCode Settings` not `Cursor Settings`)  \n",
    "2. In the Settings search bar, type \"venv\"  \n",
    "3. In the field \"Path to folder with a list of Virtual Environments\" put the path to the project root, like C:\\Users\\username\\projects\\agents (on a Windows PC) or /Users/username/projects/agents (on Mac or Linux).  \n",
    "And then try again.\n",
    "\n",
    "Having problems with missing Python versions in that list? Have you ever used Anaconda before? It might be interferring. Quit Cursor, bring up a new command line, and make sure that your Anaconda environment is deactivated:    \n",
    "`conda deactivate`  \n",
    "And if you still have any problems with conda and python versions, it's possible that you will need to run this too:  \n",
    "`conda config --set auto_activate_base false`  \n",
    "and then from within the Agents directory, you should be able to run `uv python list` and see the Python 3.12 version."
   ]
  },
  {
   "cell_type": "code",
   "execution_count": 1,
   "metadata": {},
   "outputs": [],
   "source": [
    "# First let's do an import\n",
    "from dotenv import load_dotenv\n"
   ]
  },
  {
   "cell_type": "code",
   "execution_count": 2,
   "metadata": {},
   "outputs": [
    {
     "data": {
      "text/plain": [
       "True"
      ]
     },
     "execution_count": 2,
     "metadata": {},
     "output_type": "execute_result"
    }
   ],
   "source": [
    "# Next it's time to load the API keys into environment variables\n",
    "\n",
    "load_dotenv(override=True)"
   ]
  },
  {
   "cell_type": "code",
   "execution_count": 3,
   "metadata": {},
   "outputs": [
    {
     "name": "stdout",
     "output_type": "stream",
     "text": [
      "OpenAI API Key exists and begins sk-proj-\n"
     ]
    }
   ],
   "source": [
    "# Check the keys\n",
    "\n",
    "import os\n",
    "openai_api_key = os.getenv('OPENAI_API_KEY')\n",
    "\n",
    "if openai_api_key:\n",
    "    print(f\"OpenAI API Key exists and begins {openai_api_key[:8]}\")\n",
    "else:\n",
    "    print(\"OpenAI API Key not set - please head to the troubleshooting guide in the setup folder\")\n",
    "    \n"
   ]
  },
  {
   "cell_type": "code",
   "execution_count": 4,
   "metadata": {},
   "outputs": [],
   "source": [
    "# And now - the all important import statement\n",
    "# If you get an import error - head over to troubleshooting guide\n",
    "\n",
    "from openai import OpenAI"
   ]
  },
  {
   "cell_type": "code",
   "execution_count": 5,
   "metadata": {},
   "outputs": [],
   "source": [
    "# And now we'll create an instance of the OpenAI class\n",
    "# If you're not sure what it means to create an instance of a class - head over to the guides folder!\n",
    "# If you get a NameError - head over to the guides folder to learn about NameErrors\n",
    "\n",
    "openai = OpenAI()"
   ]
  },
  {
   "cell_type": "code",
   "execution_count": 6,
   "metadata": {},
   "outputs": [],
   "source": [
    "# Create a list of messages in the familiar OpenAI format\n",
    "\n",
    "messages = [{\"role\": \"user\", \"content\": \"What is 2+2?\"}]"
   ]
  },
  {
   "cell_type": "code",
   "execution_count": 8,
   "metadata": {},
   "outputs": [
    {
     "name": "stdout",
     "output_type": "stream",
     "text": [
      "2 + 2 equals 4.\n"
     ]
    }
   ],
   "source": [
    "# And now call it! Any problems, head to the troubleshooting guide\n",
    "# This uses GPT 4.1 nano, the incredibly cheap model\n",
    "\n",
    "response = openai.chat.completions.create(\n",
    "    model=\"gpt-4.1-nano\",\n",
    "    messages=messages\n",
    ")\n",
    "\n",
    "print(response.choices[0].message.content)\n"
   ]
  },
  {
   "cell_type": "code",
   "execution_count": 9,
   "metadata": {},
   "outputs": [],
   "source": [
    "# And now - let's ask for a question:\n",
    "\n",
    "question = \"Please propose a hard, challenging question to assess someone's IQ. Respond only with the question.\"\n",
    "messages = [{\"role\": \"user\", \"content\": question}]\n"
   ]
  },
  {
   "cell_type": "code",
   "execution_count": 10,
   "metadata": {},
   "outputs": [
    {
     "name": "stdout",
     "output_type": "stream",
     "text": [
      "A bat and a ball cost $1.10 in total. The bat costs $1.00 more than the ball. How much does the ball cost?\n"
     ]
    }
   ],
   "source": [
    "# ask it - this uses GPT 4.1 mini, still cheap but more powerful than nano\n",
    "\n",
    "response = openai.chat.completions.create(\n",
    "    model=\"gpt-4.1-mini\",\n",
    "    messages=messages\n",
    ")\n",
    "\n",
    "question = response.choices[0].message.content\n",
    "\n",
    "print(question)\n"
   ]
  },
  {
   "cell_type": "code",
   "execution_count": 11,
   "metadata": {},
   "outputs": [],
   "source": [
    "# form a new messages list\n",
    "messages = [{\"role\": \"user\", \"content\": question}]\n"
   ]
  },
  {
   "cell_type": "code",
   "execution_count": 12,
   "metadata": {},
   "outputs": [
    {
     "name": "stdout",
     "output_type": "stream",
     "text": [
      "Let's define the variables:\n",
      "\n",
      "- Let the cost of the ball be \\( x \\).\n",
      "- Then the cost of the bat is \\( x + 1.00 \\) (since it's $1 more than the ball).\n",
      "\n",
      "According to the problem, their total cost is $1.10:\n",
      "\n",
      "\\[\n",
      "x + (x + 1.00) = 1.10\n",
      "\\]\n",
      "\n",
      "Combine like terms:\n",
      "\n",
      "\\[\n",
      "2x + 1.00 = 1.10\n",
      "\\]\n",
      "\n",
      "Subtract 1.00 from both sides:\n",
      "\n",
      "\\[\n",
      "2x = 0.10\n",
      "\\]\n",
      "\n",
      "Divide both sides by 2:\n",
      "\n",
      "\\[\n",
      "x = 0.05\n",
      "\\]\n",
      "\n",
      "**Answer:** The ball costs **$0.05**.\n"
     ]
    }
   ],
   "source": [
    "# Ask it again\n",
    "\n",
    "response = openai.chat.completions.create(\n",
    "    model=\"gpt-4.1-mini\",\n",
    "    messages=messages\n",
    ")\n",
    "\n",
    "answer = response.choices[0].message.content\n",
    "print(answer)\n"
   ]
  },
  {
   "cell_type": "code",
   "execution_count": 13,
   "metadata": {},
   "outputs": [
    {
     "data": {
      "text/markdown": [
       "Let's define the variables:\n",
       "\n",
       "- Let the cost of the ball be \\( x \\).\n",
       "- Then the cost of the bat is \\( x + 1.00 \\) (since it's $1 more than the ball).\n",
       "\n",
       "According to the problem, their total cost is $1.10:\n",
       "\n",
       "\\[\n",
       "x + (x + 1.00) = 1.10\n",
       "\\]\n",
       "\n",
       "Combine like terms:\n",
       "\n",
       "\\[\n",
       "2x + 1.00 = 1.10\n",
       "\\]\n",
       "\n",
       "Subtract 1.00 from both sides:\n",
       "\n",
       "\\[\n",
       "2x = 0.10\n",
       "\\]\n",
       "\n",
       "Divide both sides by 2:\n",
       "\n",
       "\\[\n",
       "x = 0.05\n",
       "\\]\n",
       "\n",
       "**Answer:** The ball costs **$0.05**."
      ],
      "text/plain": [
       "<IPython.core.display.Markdown object>"
      ]
     },
     "metadata": {},
     "output_type": "display_data"
    }
   ],
   "source": [
    "from IPython.display import Markdown, display\n",
    "\n",
    "display(Markdown(answer))\n",
    "\n"
   ]
  },
  {
   "cell_type": "markdown",
   "metadata": {},
   "source": [
    "# Congratulations!\n",
    "\n",
    "That was a small, simple step in the direction of Agentic AI, with your new environment!\n",
    "\n",
    "Next time things get more interesting..."
   ]
  },
  {
   "cell_type": "markdown",
   "metadata": {},
   "source": [
    "<table style=\"margin: 0; text-align: left; width:100%\">\n",
    "    <tr>\n",
    "        <td style=\"width: 150px; height: 150px; vertical-align: middle;\">\n",
    "            <img src=\"../assets/exercise.png\" width=\"150\" height=\"150\" style=\"display: block;\" />\n",
    "        </td>\n",
    "        <td>\n",
    "            <h2 style=\"color:#ff7800;\">Exercise</h2>\n",
    "            <span style=\"color:#ff7800;\">Now try this commercial application:<br/>\n",
    "            First ask the LLM to pick a business area that might be worth exploring for an Agentic AI opportunity.<br/>\n",
    "            Then ask the LLM to present a pain-point in that industry - something challenging that might be ripe for an Agentic solution.<br/>\n",
    "            Finally have 3 third LLM call propose the Agentic AI solution.\n",
    "            </span>\n",
    "        </td>\n",
    "    </tr>\n",
    "</table>"
   ]
  },
  {
   "cell_type": "code",
   "execution_count": 16,
   "metadata": {},
   "outputs": [
    {
     "name": "stdout",
     "output_type": "stream",
     "text": [
      "Business Idea: One business area within the marketing department that could benefit significantly from Agentic AI is **Customer Engagement and Personalization**.\n",
      "\n",
      "Agentic AI can autonomously analyze vast amounts of customer data, identify patterns, and proactively interact with customers across multiple channels (email, social media, chatbots, etc.) to deliver highly personalized and timely content. It can adjust strategies on its own based on real-time feedback, optimizing campaigns to improve customer experience and drive higher conversion rates without constant human oversight.\n",
      "\n",
      "For example, an Agentic AI system could:\n",
      "- Automatically segment customers based on behavior and preferences.\n",
      "- Tailor marketing messages and offers dynamically.\n",
      "- Engage customers in conversational marketing.\n",
      "- Optimize the timing and channel of communication.\n",
      "- Respond autonomously to customer inquiries or behaviors to nurture leads.\n",
      "\n",
      "This level of automation and personalization could improve efficiency, increase customer loyalty, and boost overall marketing ROI.\n",
      "Pain Point: A major pain point in **Customer Engagement and Personalization** that could be solved with Agentic AI is **scaling hyper-personalized communication in real-time while managing multi-channel interactions effectively**.\n",
      "\n",
      "### Explanation:\n",
      "Marketing teams struggle to manually analyze customer data at scale and deliver personalized messages that are relevant, timely, and consistent across multiple channels (email, social media, mobile apps, websites, etc.). This process is often resource-intensive, slow, and prone to errors, leading to generic or poorly targeted communications that do not resonate well with individual customers. Additionally, reacting promptly to customer behaviors or inquiries in a personalized manner typically requires significant human intervention.\n",
      "\n",
      "### How Agentic AI solves this pain point:\n",
      "- **Automated Data Analysis & Segmentation:** Agentic AI can autonomously process large datasets to identify micro-segments based on real-time behaviors and preferences without waiting for human input.\n",
      "- **Dynamic Content Generation:** It can create personalized content or offers on the fly, tailored to each segment or individual.\n",
      "- **Multi-channel Orchestration:** It can manage and optimize customer interactions across different channels seamlessly, ensuring consistent messaging and engagement.\n",
      "- **Real-time Adaptation:** The AI can learn from customer responses and adjust engagement strategies instantly, improving relevance and effectiveness continuously.\n",
      "- **Autonomous Customer Interaction:** It can handle inbound inquiries and conversational engagement automatically, reducing response time and workload for human marketers.\n",
      "\n",
      "This directly addresses the pain point of inability to deliver scalable, truly personalized customer engagement efficiently and effectively, driving better customer experiences and improved marketing outcomes.\n",
      "Solution: ### Proposed Agentic AI Solution: HyperPersonal Engage AI\n",
      "\n",
      "**HyperPersonal Engage AI** is an autonomous marketing engine designed to scale hyper-personalized communication in real-time and seamlessly manage multi-channel customer engagement.\n",
      "\n",
      "---\n",
      "\n",
      "### Core Components & Features:\n",
      "\n",
      "1. **Autonomous Data Integration & Customer Segmentation**  \n",
      "   - Continuously aggregates and analyzes data from CRM systems, website behavior, social media, mobile apps, and third-party data sources.  \n",
      "   - Dynamically generates and updates micro-segments and individual customer profiles based on granular behavior, preferences, and purchase history — all without human intervention.\n",
      "\n",
      "2. **Real-Time Dynamic Content Generation**  \n",
      "   - Utilizes advanced language models and creative engines to autonomously produce tailored marketing messages, offers, product recommendations, and multimedia content optimized for each customer segment or individual.  \n",
      "   - Personalization extends to tone, style, and channel format (email, SMS, push notifications, social media posts, chatbots, etc.).\n",
      "\n",
      "3. **Multi-Channel Orchestration Engine**  \n",
      "   - Coordinates messaging schedules across all relevant channels to deliver cohesive, consistent communication sequences.  \n",
      "   - Automatically selects the best channel and timing for each customer interaction to maximize engagement and conversion rates.\n",
      "\n",
      "4. **Continuous Learning & Strategy Optimization**  \n",
      "   - Monitors customer responses and engagement metrics in real-time.  \n",
      "   - Adjusts segmentation, messaging strategies, and channel preferences on the fly using reinforcement learning methods to continually improve campaign effectiveness.\n",
      "\n",
      "5. **Autonomous Conversational AI & Interaction Handling**  \n",
      "   - Engages customers proactively via chatbots, social media messengers, or voice assistants to respond to inquiries, provide personalized assistance, and nurture leads.  \n",
      "   - Escalates higher complexity interactions to human agents with full customer context, streamlining handoffs.\n",
      "\n",
      "---\n",
      "\n",
      "### Business Impact:\n",
      "\n",
      "- **Scalable Personalization:** Delivers truly individualized marketing at scale without ballooning human resource costs.  \n",
      "- **Reduced Time-to-Engagement:** Reacts instantly to customer behaviors, capturing interest when it matters most.  \n",
      "- **Enhanced Customer Experience:** Provides consistent, relevant, and context-aware communication across all touchpoints.  \n",
      "- **Increased Conversion Rates & Loyalty:** Drives higher response rates, repeat purchases, and customer lifetime value.  \n",
      "- **Operational Efficiency:** Frees marketing teams from manual segmentation, content creation, and basic customer interactions, allowing focus on strategy and creative oversight.\n",
      "\n",
      "---\n",
      "\n",
      "### Summary\n",
      "\n",
      "HyperPersonal Engage AI solves the key marketing pain point of managing hyper-personalized, real-time customer engagement at scale by autonomously analyzing data, generating and orchestrating personalized messaging across multiple channels, adapting strategies in real-time, and handling conversational interactions—all with minimal human intervention. This leads to improved customer satisfaction, enhanced ROI, and a competitive advantage in customer-centric marketing.\n"
     ]
    }
   ],
   "source": [
    "# Step 1: Ask for a business area\n",
    "messages = [{\"role\": \"user\", \"content\": \"Suggest a business area in the marketing department that could benefit from Agentic AI.\"}]\n",
    "response = openai.chat.completions.create(\n",
    "    model=\"gpt-4.1-mini\",\n",
    "    messages=messages\n",
    ")\n",
    "business_idea = response.choices[0].message.content\n",
    "print(\"Business Idea:\", business_idea)\n",
    "\n",
    "# Step 2: Ask for a pain point\n",
    "messages.append({\"role\": \"assistant\", \"content\": business_idea})\n",
    "messages.append({\"role\": \"user\", \"content\": f\"What is a major pain point in {business_idea} that could be solved with Agentic AI?\"})\n",
    "response = openai.chat.completions.create(\n",
    "    model=\"gpt-4.1-mini\",\n",
    "    messages=messages\n",
    ")\n",
    "pain_point = response.choices[0].message.content\n",
    "print(\"Pain Point:\", pain_point)\n",
    "\n",
    "# Step 3: Propose an Agentic AI solution\n",
    "messages.append({\"role\": \"assistant\", \"content\": pain_point})\n",
    "messages.append({\"role\": \"user\", \"content\": f\"Propose an Agentic AI solution for the problem: {pain_point}\"})\n",
    "response = openai.chat.completions.create(\n",
    "    model=\"gpt-4.1-mini\",\n",
    "    messages=messages\n",
    ")\n",
    "solution = response.choices[0].message.content\n",
    "print(\"Solution:\", solution)\n"
   ]
  },
  {
   "cell_type": "markdown",
   "metadata": {},
   "source": []
  },
  {
   "cell_type": "markdown",
   "metadata": {},
   "source": []
  }
 ],
 "metadata": {
  "kernelspec": {
   "display_name": ".venv",
   "language": "python",
   "name": "python3"
  },
  "language_info": {
   "codemirror_mode": {
    "name": "ipython",
    "version": 3
   },
   "file_extension": ".py",
   "mimetype": "text/x-python",
   "name": "python",
   "nbconvert_exporter": "python",
   "pygments_lexer": "ipython3",
   "version": "3.12.11"
  }
 },
 "nbformat": 4,
 "nbformat_minor": 2
}
