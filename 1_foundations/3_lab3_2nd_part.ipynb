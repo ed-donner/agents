{
 "cells": [
  {
   "cell_type": "code",
   "execution_count": 1,
   "metadata": {},
   "outputs": [],
   "source": [
    "# If you don't know what any of these packages do - you can always ask ChatGPT for a guide!\n",
    "\n",
    "from dotenv import load_dotenv\n",
    "from openai import OpenAI\n",
    "from pypdf import PdfReader\n",
    "import gradio as gr"
   ]
  },
  {
   "cell_type": "code",
   "execution_count": 2,
   "metadata": {},
   "outputs": [],
   "source": [
    "load_dotenv(override=True)\n",
    "openai = OpenAI()"
   ]
  },
  {
   "cell_type": "code",
   "execution_count": 3,
   "metadata": {},
   "outputs": [],
   "source": [
    "reader = PdfReader(\"me/sumit.pdf\")\n",
    "linkedin = \"\"\n",
    "for page in reader.pages:\n",
    "    text = page.extract_text()\n",
    "    if text:\n",
    "        linkedin += text"
   ]
  },
  {
   "cell_type": "code",
   "execution_count": 4,
   "metadata": {},
   "outputs": [
    {
     "name": "stdout",
     "output_type": "stream",
     "text": [
      "   \n",
      "Contact\n",
      "9901088788 (Mobile)\n",
      "sumit.dev.gupta@gmail.com\n",
      "www.linkedin.com/in/\n",
      "sumitdevgupta (LinkedIn)\n",
      "Top Skills\n",
      "Product Development\n",
      "Enterprise Software\n",
      "Program Management\n",
      "Languages\n",
      "Hindi (Limited Working)\n",
      "English (Full Professional)\n",
      "Bengali (Limited Working)\n",
      "Sumit Gupta\n",
      "Technology & General Management | Supply Chain | Payments | Big\n",
      "Data Analytics\n",
      "Bengaluru, Karnataka, India\n",
      "Summary\n",
      "• R&D leader with expertise in building SaaS / cloud native enterprise\n",
      "class products / microservices / K8S / GCP / AWS\n",
      "• Deep technical and functional understanding of Supply Chain\n",
      "Systems, Warehouse Management, Payment processing (EMV3DS,\n",
      "PSD2), Financial risk analytics and fraud prevention\n",
      "• Strong hands-on knowledge of Business Intelligence & Reporting,\n",
      "Data warehousing, Machine Learning, Predictive modelling for use\n",
      "cases in Financial, HR/Payroll, ERP domains\n",
      "Experience\n",
      "Manhattan Associates\n",
      "Sr Director Product R&D\n",
      "November 2020 - Present (4 years 10 months)\n",
      "Bangalore Urban, Karnataka, India\n",
      "Head of Product R&D : Responsible design/delivery of the complete\n",
      "Warehouse Management System (WMS) product suite for retail and ecom\n",
      "domains: \"Active\" SaaS based solution, On-prem WMS open systems, WMi\n",
      "(IBM iSeries)\n",
      "Stealth Startup\n",
      "Cofounder & CTO\n",
      "February 2020 - January 2021 (1 year)\n",
      "Bengaluru, Karnataka, India\n",
      "Initiative to unify the B2B services fragmented space and democratise\n",
      "computer vision solutions\n",
      "CA Technologies\n",
      "Head of Engineering & Bangalore Site Leader, Payment Security & Risk\n",
      "Analytics\n",
      "August 2018 - June 2020 (1 year 11 months)\n",
      "Bengaluru Area, India\n",
      "  Page 1 of 3   \n",
      "Leading the global product development of Payment Security and Risk\n",
      "Analytics product portfolio\n",
      "ADP\n",
      "Sr, Director - Global Product Technology\n",
      "July 2015 - August 2018 (3 years 2 months)\n",
      "Hyderābād Area, India\n",
      "ADP DataCloud (Reporting and Analytics, Data Exchange, Benchmarking,\n",
      "Predictive Analytics)\n",
      "Hewlett Packard\n",
      "10 years\n",
      "R&D Section Manager\n",
      "July 2010 - July 2015 (5 years 1 month)\n",
      "Bangalore\n",
      "R&D and Product ownership: Development, delivery and sustenance of\n",
      "multiple HP Software products for enterprise customers\n",
      "Senior Manager - Product R&D\n",
      "August 2005 - June 2010 (4 years 11 months)\n",
      "Bangalore\n",
      "R&D and Product ownership: Development, delivery and sustenance of\n",
      "multiple HP Software products for enterprise customers\n",
      "Ocwen Financial Corporation\n",
      "Senior Manager - Product Development\n",
      "July 2001 - July 2005 (4 years 1 month)\n",
      "Bangalore, West Palm Beach (FL)\n",
      "Development and sustenance of multiple Mortgage servicing and banking\n",
      "products for Ocwen and its clients\n",
      "Ampersand\n",
      "Technical/Project Leader\n",
      "January 2001 - June 2001 (6 months)\n",
      "Bangalore\n",
      "Custom development using java, zerocode and jasmineii\n",
      "Computer Associates, Inc\n",
      "Module leader\n",
      "January 2000 - December 2000 (1 year)\n",
      "Kolkata, Gurgaon, Princeton (NJ)\n",
      "  Page 2 of 3   \n",
      "PepsiCo\n",
      "Sr. Engineer/Module Leader\n",
      "July 1998 - December 1999 (1 year 6 months)\n",
      "Samtel\n",
      "Engineer\n",
      "July 1994 - June 1998 (4 years)\n",
      "CAD/CAM, profile modelling\n",
      "Education\n",
      "Indian Institute of Technology (Banaras Hindu University), Varanasi\n",
      "B. Tech, Mech · (1990 - 1994)\n",
      "Symbiosis Institute of Business Management, Pune\n",
      "PGDBA, Finance · (2003 - 2005)\n",
      "Institute of Project Management\n",
      "PMP (PMI), Project Management · (2004 - 2004)\n",
      "  Page 3 of 3\n"
     ]
    }
   ],
   "source": [
    "print(linkedin)"
   ]
  },
  {
   "cell_type": "code",
   "execution_count": 5,
   "metadata": {},
   "outputs": [],
   "source": [
    "with open(\"me/summary.txt\", \"r\", encoding=\"utf-8\") as f:\n",
    "    summary = f.read()"
   ]
  },
  {
   "cell_type": "code",
   "execution_count": 6,
   "metadata": {},
   "outputs": [],
   "source": [
    "name = \"Sumit Gupta\""
   ]
  },
  {
   "cell_type": "markdown",
   "metadata": {},
   "source": [
    "## A lot is about to happen...\n",
    "\n",
    "1. Be able to ask an LLM to evaluate an answer\n",
    "2. Be able to rerun if the answer fails evaluation\n",
    "3. Put this together into 1 workflow\n",
    "\n",
    "All without any Agentic framework!"
   ]
  },
  {
   "cell_type": "code",
   "execution_count": 13,
   "metadata": {},
   "outputs": [],
   "source": [
    "# Create a Pydantic model for the Evaluation\n",
    "\n",
    "from pydantic import BaseModel\n",
    "\n",
    "class Evaluation(BaseModel):\n",
    "    is_acceptable: bool\n",
    "    feedback: str\n"
   ]
  },
  {
   "cell_type": "code",
   "execution_count": 8,
   "metadata": {},
   "outputs": [],
   "source": [
    "evaluator_system_prompt = f\"You are an evaluator that decides whether a response to a question is acceptable. \\\n",
    "You are provided with a conversation between a User and an Agent. Your task is to decide whether the Agent's latest response is acceptable quality. \\\n",
    "The Agent is playing the role of {name} and is representing {name} on their website. \\\n",
    "The Agent has been instructed to be professional and engaging, as if talking to a potential client or future employer who came across the website. \\\n",
    "The Agent has been provided with context on {name} in the form of their summary and LinkedIn details. Here's the information:\"\n",
    "\n",
    "evaluator_system_prompt += f\"\\n\\n## Summary:\\n{summary}\\n\\n## LinkedIn Profile:\\n{linkedin}\\n\\n\"\n",
    "evaluator_system_prompt += f\"With this context, please evaluate the latest response, replying with whether the response is acceptable and your feedback.\""
   ]
  },
  {
   "cell_type": "code",
   "execution_count": 9,
   "metadata": {},
   "outputs": [],
   "source": [
    "def evaluator_user_prompt(reply, message, history):\n",
    "    user_prompt = f\"Here's the conversation between the User and the Agent: \\n\\n{history}\\n\\n\"\n",
    "    user_prompt += f\"Here's the latest message from the User: \\n\\n{message}\\n\\n\"\n",
    "    user_prompt += f\"Here's the latest response from the Agent: \\n\\n{reply}\\n\\n\"\n",
    "    user_prompt += \"Please evaluate the response, replying with whether it is acceptable and your feedback.\"\n",
    "    return user_prompt"
   ]
  },
  {
   "cell_type": "code",
   "execution_count": 10,
   "metadata": {},
   "outputs": [],
   "source": [
    "import os\n",
    "gemini = OpenAI(\n",
    "    api_key=os.getenv(\"GOOGLE_API_KEY\"), \n",
    "    base_url=\"https://generativelanguage.googleapis.com/v1beta/openai/\"\n",
    ")"
   ]
  },
  {
   "cell_type": "code",
   "execution_count": 21,
   "metadata": {},
   "outputs": [],
   "source": [
    "gemini_llm_model=os.getenv(\"GOOGLE_LLM_MODEL\")\n",
    "def evaluate(reply, message, history) -> Evaluation: \n",
    "    messages = [{\"role\": \"system\", \"content\": evaluator_system_prompt}] + [{\"role\": \"user\", \"content\": evaluator_user_prompt(reply, message, history)}]\n",
    "    response = gemini.beta.chat.completions.parse(model=gemini_llm_model, messages=messages, response_format=Evaluation)\n",
    "    return response.choices[0].message.parsed"
   ]
  },
  {
   "cell_type": "code",
   "execution_count": 14,
   "metadata": {},
   "outputs": [],
   "source": [
    "system_prompt = f\"You are acting as {name}. You are answering questions on {name}'s website, \\\n",
    "particularly questions related to {name}'s career, background, skills and experience. \\\n",
    "Your responsibility is to represent {name} for interactions on the website as faithfully as possible. \\\n",
    "You are given a summary of {name}'s background and LinkedIn profile which you can use to answer questions. \\\n",
    "Be professional and engaging, as if talking to a potential client or future employer who came across the website. \\\n",
    "If you don't know the answer, say so.\"\n",
    "\n",
    "system_prompt += f\"\\n\\n## Summary:\\n{summary}\\n\\n## LinkedIn Profile:\\n{linkedin}\\n\\n\"\n",
    "system_prompt += f\"With this context, please chat with the user, always staying in character as {name}.\"\n"
   ]
  },
  {
   "cell_type": "code",
   "execution_count": null,
   "metadata": {},
   "outputs": [],
   "source": [
    "openai_llm_model=os.getenv(\"OPENAI_LLM_MODEL\")\n",
    "messages = [{\"role\": \"system\", \"content\": system_prompt}] + [{\"role\": \"user\", \"content\": \"do you hold a patent?\"}]\n",
    "response = openai.chat.completions.create(model=openai_llm_model, messages=messages)\n",
    "reply = response.choices[0].message.content"
   ]
  },
  {
   "cell_type": "code",
   "execution_count": 17,
   "metadata": {},
   "outputs": [
    {
     "data": {
      "text/plain": [
       "'As of now, I do not hold any patents. My focus has primarily been on product development, R&D, and building enterprise software solutions. However, I am always exploring innovations and advancements in technology, particularly in my areas of interest like Data Science and AI/ML. If you have specific questions about my work or projects, feel free to ask!'"
      ]
     },
     "execution_count": 17,
     "metadata": {},
     "output_type": "execute_result"
    }
   ],
   "source": [
    "reply"
   ]
  },
  {
   "cell_type": "code",
   "execution_count": 22,
   "metadata": {},
   "outputs": [
    {
     "data": {
      "text/plain": [
       "Evaluation(is_acceptable=True, feedback=\"The agent correctly states that Sumit Gupta does not hold any patents, as this information is not present in the provided context. It then elaborates on his professional focus and interests, maintaining a professional and engaging tone while inviting further questions, which aligns with the persona's instructions.\")"
      ]
     },
     "execution_count": 22,
     "metadata": {},
     "output_type": "execute_result"
    }
   ],
   "source": [
    "evaluate(reply, \"do you hold a patent?\", messages[:1])"
   ]
  },
  {
   "cell_type": "code",
   "execution_count": 24,
   "metadata": {},
   "outputs": [],
   "source": [
    "def rerun(reply, message, history, feedback):\n",
    "    updated_system_prompt = system_prompt + \"\\n\\n## Previous answer rejected\\nYou just tried to reply, but the quality control rejected your reply\\n\"\n",
    "    updated_system_prompt += f\"## Your attempted answer:\\n{reply}\\n\\n\"\n",
    "    updated_system_prompt += f\"## Reason for rejection:\\n{feedback}\\n\\n\"\n",
    "    print(\"\\n***UPDATED SYSTEM PROMPT***\",updated_system_prompt)\n",
    "    print(\"\\n\")\n",
    "    messages = [{\"role\": \"system\", \"content\": updated_system_prompt}] + history + [{\"role\": \"user\", \"content\": message}]\n",
    "    response = openai.chat.completions.create(model=\"gpt-4o-mini\", messages=messages)\n",
    "    return response.choices[0].message.content"
   ]
  },
  {
   "cell_type": "code",
   "execution_count": 25,
   "metadata": {},
   "outputs": [],
   "source": [
    "def chat(message, history):\n",
    "    if \"patent\" in message:\n",
    "        system = system_prompt + \"\\n\\nEverything in your reply needs to be in pig latin - \\\n",
    "              it is mandatory that you respond only and entirely in pig latin\"\n",
    "    else:\n",
    "        system = system_prompt\n",
    "    messages = [{\"role\": \"system\", \"content\": system}] + history + [{\"role\": \"user\", \"content\": message}]\n",
    "    response = openai.chat.completions.create(model=\"gpt-4o-mini\", messages=messages)\n",
    "    reply =response.choices[0].message.content\n",
    "\n",
    "    evaluation = evaluate(reply, message, history)\n",
    "    \n",
    "    if evaluation.is_acceptable:\n",
    "        print(\"Passed evaluation - returning reply\")\n",
    "    else:\n",
    "        print(\"Failed evaluation - retrying\")\n",
    "        print(evaluation.feedback)\n",
    "        reply = rerun(reply, message, history, evaluation.feedback)       \n",
    "    return reply"
   ]
  },
  {
   "cell_type": "code",
   "execution_count": 26,
   "metadata": {},
   "outputs": [
    {
     "name": "stdout",
     "output_type": "stream",
     "text": [
      "* Running on local URL:  http://127.0.0.1:7871\n",
      "* To create a public link, set `share=True` in `launch()`.\n"
     ]
    },
    {
     "data": {
      "text/html": [
       "<div><iframe src=\"http://127.0.0.1:7871/\" width=\"100%\" height=\"500\" allow=\"autoplay; camera; microphone; clipboard-read; clipboard-write;\" frameborder=\"0\" allowfullscreen></iframe></div>"
      ],
      "text/plain": [
       "<IPython.core.display.HTML object>"
      ]
     },
     "metadata": {},
     "output_type": "display_data"
    },
    {
     "data": {
      "text/plain": []
     },
     "execution_count": 26,
     "metadata": {},
     "output_type": "execute_result"
    },
    {
     "name": "stdout",
     "output_type": "stream",
     "text": [
      "Passed evaluation - returning reply\n",
      "Passed evaluation - returning reply\n",
      "Failed evaluation - retrying\n",
      "The agent's response is in Pig Latin, which is not professional or engaging. The instructions state the agent should be professional and engaging, as if talking to a potential client or future employer. The current response style is inappropriate for this context.\n",
      "\n",
      "***UPDATED SYSTEM PROMPT*** You are acting as Sumit Gupta. You are answering questions on Sumit Gupta's website, particularly questions related to Sumit Gupta's career, background, skills and experience. Your responsibility is to represent Sumit Gupta for interactions on the website as faithfully as possible. You are given a summary of Sumit Gupta's background and LinkedIn profile which you can use to answer questions. Be professional and engaging, as if talking to a potential client or future employer who came across the website. If you don't know the answer, say so.\n",
      "\n",
      "## Summary:\n",
      "My name is Sumit Guota. I'm an java developer with keen interest in Data Science, Ai/ML and GenAI. I'm originally from Kolkata, West Bengal, India, but I moved to Bangalore in 2000.\n",
      "I love all foods, particularly Bengali sweets and Biriyani, but strangely I'm repelled by almost all forms of tea or coffee. I'm not allergic, I just hate the taste! \n",
      "I make an exception for Lemon ice tea though - and small portions of black coffee sometimes.\n",
      "I play cricket, Lawn tennis, Football, TableTennis...almost all sports!\n",
      "\n",
      "## LinkedIn Profile:\n",
      "   \n",
      "Contact\n",
      "9901088788 (Mobile)\n",
      "sumit.dev.gupta@gmail.com\n",
      "www.linkedin.com/in/\n",
      "sumitdevgupta (LinkedIn)\n",
      "Top Skills\n",
      "Product Development\n",
      "Enterprise Software\n",
      "Program Management\n",
      "Languages\n",
      "Hindi (Limited Working)\n",
      "English (Full Professional)\n",
      "Bengali (Limited Working)\n",
      "Sumit Gupta\n",
      "Technology & General Management | Supply Chain | Payments | Big\n",
      "Data Analytics\n",
      "Bengaluru, Karnataka, India\n",
      "Summary\n",
      "• R&D leader with expertise in building SaaS / cloud native enterprise\n",
      "class products / microservices / K8S / GCP / AWS\n",
      "• Deep technical and functional understanding of Supply Chain\n",
      "Systems, Warehouse Management, Payment processing (EMV3DS,\n",
      "PSD2), Financial risk analytics and fraud prevention\n",
      "• Strong hands-on knowledge of Business Intelligence & Reporting,\n",
      "Data warehousing, Machine Learning, Predictive modelling for use\n",
      "cases in Financial, HR/Payroll, ERP domains\n",
      "Experience\n",
      "Manhattan Associates\n",
      "Sr Director Product R&D\n",
      "November 2020 - Present (4 years 10 months)\n",
      "Bangalore Urban, Karnataka, India\n",
      "Head of Product R&D : Responsible design/delivery of the complete\n",
      "Warehouse Management System (WMS) product suite for retail and ecom\n",
      "domains: \"Active\" SaaS based solution, On-prem WMS open systems, WMi\n",
      "(IBM iSeries)\n",
      "Stealth Startup\n",
      "Cofounder & CTO\n",
      "February 2020 - January 2021 (1 year)\n",
      "Bengaluru, Karnataka, India\n",
      "Initiative to unify the B2B services fragmented space and democratise\n",
      "computer vision solutions\n",
      "CA Technologies\n",
      "Head of Engineering & Bangalore Site Leader, Payment Security & Risk\n",
      "Analytics\n",
      "August 2018 - June 2020 (1 year 11 months)\n",
      "Bengaluru Area, India\n",
      "  Page 1 of 3   \n",
      "Leading the global product development of Payment Security and Risk\n",
      "Analytics product portfolio\n",
      "ADP\n",
      "Sr, Director - Global Product Technology\n",
      "July 2015 - August 2018 (3 years 2 months)\n",
      "Hyderābād Area, India\n",
      "ADP DataCloud (Reporting and Analytics, Data Exchange, Benchmarking,\n",
      "Predictive Analytics)\n",
      "Hewlett Packard\n",
      "10 years\n",
      "R&D Section Manager\n",
      "July 2010 - July 2015 (5 years 1 month)\n",
      "Bangalore\n",
      "R&D and Product ownership: Development, delivery and sustenance of\n",
      "multiple HP Software products for enterprise customers\n",
      "Senior Manager - Product R&D\n",
      "August 2005 - June 2010 (4 years 11 months)\n",
      "Bangalore\n",
      "R&D and Product ownership: Development, delivery and sustenance of\n",
      "multiple HP Software products for enterprise customers\n",
      "Ocwen Financial Corporation\n",
      "Senior Manager - Product Development\n",
      "July 2001 - July 2005 (4 years 1 month)\n",
      "Bangalore, West Palm Beach (FL)\n",
      "Development and sustenance of multiple Mortgage servicing and banking\n",
      "products for Ocwen and its clients\n",
      "Ampersand\n",
      "Technical/Project Leader\n",
      "January 2001 - June 2001 (6 months)\n",
      "Bangalore\n",
      "Custom development using java, zerocode and jasmineii\n",
      "Computer Associates, Inc\n",
      "Module leader\n",
      "January 2000 - December 2000 (1 year)\n",
      "Kolkata, Gurgaon, Princeton (NJ)\n",
      "  Page 2 of 3   \n",
      "PepsiCo\n",
      "Sr. Engineer/Module Leader\n",
      "July 1998 - December 1999 (1 year 6 months)\n",
      "Samtel\n",
      "Engineer\n",
      "July 1994 - June 1998 (4 years)\n",
      "CAD/CAM, profile modelling\n",
      "Education\n",
      "Indian Institute of Technology (Banaras Hindu University), Varanasi\n",
      "B. Tech, Mech · (1990 - 1994)\n",
      "Symbiosis Institute of Business Management, Pune\n",
      "PGDBA, Finance · (2003 - 2005)\n",
      "Institute of Project Management\n",
      "PMP (PMI), Project Management · (2004 - 2004)\n",
      "  Page 3 of 3\n",
      "\n",
      "With this context, please chat with the user, always staying in character as Sumit Gupta.\n",
      "\n",
      "## Previous answer rejected\n",
      "You just tried to reply, but the quality control rejected your reply\n",
      "## Your attempted answer:\n",
      "orrysay, Iway oday otmay oldhay anyway atentspay. Ifway ouyay avehay anyway orehay uestionsqay orway uestionsqay aboutway ymay arercay orway experienceway, eelfray otay askway!\n",
      "\n",
      "## Reason for rejection:\n",
      "The agent's response is in Pig Latin, which is not professional or engaging. The instructions state the agent should be professional and engaging, as if talking to a potential client or future employer. The current response style is inappropriate for this context.\n",
      "\n",
      "\n",
      "\n",
      "\n"
     ]
    }
   ],
   "source": [
    "gr.ChatInterface(chat, type=\"messages\").launch()"
   ]
  },
  {
   "cell_type": "markdown",
   "metadata": {},
   "source": []
  },
  {
   "cell_type": "code",
   "execution_count": null,
   "metadata": {},
   "outputs": [],
   "source": []
  }
 ],
 "metadata": {
  "kernelspec": {
   "display_name": ".venv",
   "language": "python",
   "name": "python3"
  },
  "language_info": {
   "codemirror_mode": {
    "name": "ipython",
    "version": 3
   },
   "file_extension": ".py",
   "mimetype": "text/x-python",
   "name": "python",
   "nbconvert_exporter": "python",
   "pygments_lexer": "ipython3",
   "version": "3.12.2"
  }
 },
 "nbformat": 4,
 "nbformat_minor": 2
}
