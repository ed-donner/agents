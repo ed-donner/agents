{
 "cells": [
  {
   "cell_type": "markdown",
   "metadata": {},
   "source": [
    "## Welcome to the Second Lab - Week 1, Day 3\n",
    "\n",
    "Today we will work with lots of models! This is a way to get comfortable with APIs."
   ]
  },
  {
   "cell_type": "markdown",
   "metadata": {},
   "source": [
    "<table style=\"margin: 0; text-align: left; width:100%\">\n",
    "    <tr>\n",
    "        <td style=\"width: 150px; height: 150px; vertical-align: middle;\">\n",
    "            <img src=\"../assets/stop.png\" width=\"150\" height=\"150\" style=\"display: block;\" />\n",
    "        </td>\n",
    "        <td>\n",
    "            <h2 style=\"color:#ff7800;\">Important point - please read</h2>\n",
    "            <span style=\"color:#ff7800;\">The way I collaborate with you may be different to other courses you've taken. I prefer not to type code while you watch. Rather, I execute Jupyter Labs, like this, and give you an intuition for what's going on. My suggestion is that you carefully execute this yourself, <b>after</b> watching the lecture. Add print statements to understand what's going on, and then come up with your own variations.<br/><br/>If you have time, I'd love it if you submit a PR for changes in the community_contributions folder - instructions in the resources. Also, if you have a Github account, use this to showcase your variations. Not only is this essential practice, but it demonstrates your skills to others, including perhaps future clients or employers...\n",
    "            </span>\n",
    "        </td>\n",
    "    </tr>\n",
    "</table>"
   ]
  },
  {
   "cell_type": "code",
   "execution_count": 1,
   "metadata": {},
   "outputs": [],
   "source": [
    "# Start with imports - ask ChatGPT to explain any package that you don't know\n",
    "\n",
    "import os\n",
    "import json\n",
    "from dotenv import load_dotenv\n",
    "from openai import OpenAI\n",
    "from anthropic import Anthropic\n",
    "from IPython.display import Markdown, display"
   ]
  },
  {
   "cell_type": "code",
   "execution_count": 2,
   "metadata": {},
   "outputs": [
    {
     "data": {
      "text/plain": [
       "True"
      ]
     },
     "execution_count": 2,
     "metadata": {},
     "output_type": "execute_result"
    }
   ],
   "source": [
    "# Always remember to do this!\n",
    "load_dotenv(override=True)"
   ]
  },
  {
   "cell_type": "code",
   "execution_count": 3,
   "metadata": {},
   "outputs": [
    {
     "name": "stdout",
     "output_type": "stream",
     "text": [
      "OpenAI API Key exists and begins sk-proj-\n",
      "Anthropic API Key not set (and this is optional)\n",
      "Google API Key exists and begins AI\n",
      "DeepSeek API Key exists and begins sk-\n",
      "Groq API Key not set (and this is optional)\n"
     ]
    }
   ],
   "source": [
    "# Print the key prefixes to help with any debugging\n",
    "\n",
    "openai_api_key = os.getenv('OPENAI_API_KEY')\n",
    "anthropic_api_key = os.getenv('ANTHROPIC_API_KEY')\n",
    "google_api_key = os.getenv('GOOGLE_API_KEY')\n",
    "deepseek_api_key = os.getenv('DEEPSEEK_API_KEY')\n",
    "groq_api_key = os.getenv('GROQ_API_KEY')\n",
    "\n",
    "if openai_api_key:\n",
    "    print(f\"OpenAI API Key exists and begins {openai_api_key[:8]}\")\n",
    "else:\n",
    "    print(\"OpenAI API Key not set\")\n",
    "    \n",
    "if anthropic_api_key:\n",
    "    print(f\"Anthropic API Key exists and begins {anthropic_api_key[:7]}\")\n",
    "else:\n",
    "    print(\"Anthropic API Key not set (and this is optional)\")\n",
    "\n",
    "if google_api_key:\n",
    "    print(f\"Google API Key exists and begins {google_api_key[:2]}\")\n",
    "else:\n",
    "    print(\"Google API Key not set (and this is optional)\")\n",
    "\n",
    "if deepseek_api_key:\n",
    "    print(f\"DeepSeek API Key exists and begins {deepseek_api_key[:3]}\")\n",
    "else:\n",
    "    print(\"DeepSeek API Key not set (and this is optional)\")\n",
    "\n",
    "if groq_api_key:\n",
    "    print(f\"Groq API Key exists and begins {groq_api_key[:4]}\")\n",
    "else:\n",
    "    print(\"Groq API Key not set (and this is optional)\")"
   ]
  },
  {
   "cell_type": "code",
   "execution_count": 4,
   "metadata": {},
   "outputs": [],
   "source": [
    "request = \"Please come up with a challenging, nuanced question that I can ask a number of LLMs to evaluate their intelligence. \"\n",
    "request += \"Answer only with the question, no explanation.\"\n",
    "messages = [{\"role\": \"user\", \"content\": request}]"
   ]
  },
  {
   "cell_type": "code",
   "execution_count": 5,
   "metadata": {},
   "outputs": [
    {
     "data": {
      "text/plain": [
       "[{'role': 'user',\n",
       "  'content': 'Please come up with a challenging, nuanced question that I can ask a number of LLMs to evaluate their intelligence. Answer only with the question, no explanation.'}]"
      ]
     },
     "execution_count": 5,
     "metadata": {},
     "output_type": "execute_result"
    }
   ],
   "source": [
    "messages"
   ]
  },
  {
   "cell_type": "code",
   "execution_count": 6,
   "metadata": {},
   "outputs": [
    {
     "name": "stdout",
     "output_type": "stream",
     "text": [
      "How would you approach resolving a moral dilemma in which two individuals must decide whether to sacrifice one life to save five others, while considering cultural, ethical, and emotional factors that might influence their decision?\n"
     ]
    }
   ],
   "source": [
    "openai = OpenAI()\n",
    "response = openai.chat.completions.create(\n",
    "    model=\"gpt-4o-mini\",\n",
    "    messages=messages,\n",
    ")\n",
    "question = response.choices[0].message.content\n",
    "print(question)"
   ]
  },
  {
   "cell_type": "code",
   "execution_count": 7,
   "metadata": {},
   "outputs": [],
   "source": [
    "competitors = []\n",
    "answers = []\n",
    "messages = [{\"role\": \"user\", \"content\": question}]"
   ]
  },
  {
   "cell_type": "code",
   "execution_count": 8,
   "metadata": {},
   "outputs": [
    {
     "data": {
      "text/plain": [
       "[{'role': 'user',\n",
       "  'content': 'How would you approach resolving a moral dilemma in which two individuals must decide whether to sacrifice one life to save five others, while considering cultural, ethical, and emotional factors that might influence their decision?'}]"
      ]
     },
     "execution_count": 8,
     "metadata": {},
     "output_type": "execute_result"
    }
   ],
   "source": [
    "messages"
   ]
  },
  {
   "cell_type": "code",
   "execution_count": 9,
   "metadata": {},
   "outputs": [
    {
     "data": {
      "text/markdown": [
       "Resolving a moral dilemma such as sacrificing one life to save five others requires a nuanced approach that considers various factors, including ethical theories, cultural context, and emotional aspects. Here’s a structured way to approach this situation:\n",
       "\n",
       "### 1. **Identify the Ethical Frameworks**\n",
       "   - **Utilitarianism**: This perspective evaluates actions based on the outcome. A utilitarian approach would prioritize the option that maximizes overall happiness or minimizes suffering. In this case, sacrificing one life to save five could be justified.\n",
       "   - **Deontological Ethics**: From a deontological standpoint, certain actions are intrinsically right or wrong regardless of their consequences. Under this framework, sacrificing an individual might be considered morally wrong, as it treats that person merely as a means to an end.\n",
       "   - **Virtue Ethics**: This emphasizes the character and intentions of the decision-makers. Would a virtuous person choose to sacrifice one for five? This approach could lead to different conclusions based on what values the decision-makers hold.\n",
       "\n",
       "### 2. **Cultural Considerations**\n",
       "   - Different cultures have varying beliefs about the sanctity of life, community welfare, and individual rights. Some cultures might prioritize the greater good and endorse sacrificing one for many, while others might uphold individual rights and reject any form of sacrifice.\n",
       "   - Understanding the cultural context of the individuals involved is crucial in assessing how they might view this dilemma. Engaging with cultural leaders or community values may provide deeper insights.\n",
       "\n",
       "### 3. **Emotional Factors**\n",
       "   - Emotions play a significant role in moral dilemmas. The individuals involved may have personal connections, fears, or hopes tied to the lives at stake. Assessing emotional responses can provide insight into the values and motivations of those making the decision.\n",
       "   - Consider possible grief, guilt, or regret that could arise from either decision. Engaging in discussions about these emotional impacts can help clarify priorities.\n",
       "\n",
       "### 4. **Dialogue and Inclusive Decision-Making**\n",
       "   - Encourage open dialogue among all parties affected by the decision. This can include the families of those involved, community members, and ethical stakeholders.\n",
       "   - Aim for a consensus or compromise where possible. Including diverse perspectives can lead to more empathetic and comprehensive solutions, and it can also alleviate the burden on any single decision-maker.\n",
       "\n",
       "### 5. **Explore Alternative Solutions**\n",
       "   - Investigate whether there are alternatives that could save both parties or mitigate harm. This might involve creative problem-solving, resource allocation, or different strategies that don't require sacrificing one life for others.\n",
       "\n",
       "### 6. **Long-Term Consequences**\n",
       "   - Consider the long-term implications of the decision. How would each choice impact the community, the relationships between individuals, and societal values?\n",
       "   - A decision rooted in a strong ethical framework can set precedents for future dilemmas and influence how similar situations are viewed and handled.\n",
       "\n",
       "### 7. **Documentation and Reflection**\n",
       "   - Document the decision-making process, including the reasoning behind the chosen action. Reflection on this case may provide insights that impact future moral dilemmas.\n",
       "\n",
       "### Conclusion\n",
       "Ultimately, there is no definitive right or wrong answer in such dilemmas, as they often depend on the values and circumstances surrounding the individuals involved. By carefully considering the ethical models, cultural influences, emotional responses, and exploring dialogue and alternatives, a more informed and compassionate decision can be reached."
      ],
      "text/plain": [
       "<IPython.core.display.Markdown object>"
      ]
     },
     "metadata": {},
     "output_type": "display_data"
    }
   ],
   "source": [
    "# The API we know well\n",
    "\n",
    "model_name = \"gpt-4o-mini\"\n",
    "\n",
    "response = openai.chat.completions.create(model=model_name, messages=messages)\n",
    "answer = response.choices[0].message.content\n",
    "\n",
    "display(Markdown(answer))\n",
    "competitors.append(model_name)\n",
    "answers.append(answer)"
   ]
  },
  {
   "cell_type": "code",
   "execution_count": 10,
   "metadata": {},
   "outputs": [
    {
     "ename": "TypeError",
     "evalue": "\"Could not resolve authentication method. Expected either api_key or auth_token to be set. Or for one of the `X-Api-Key` or `Authorization` headers to be explicitly omitted\"",
     "output_type": "error",
     "traceback": [
      "\u001b[31m---------------------------------------------------------------------------\u001b[39m",
      "\u001b[31mTypeError\u001b[39m                                 Traceback (most recent call last)",
      "\u001b[36mCell\u001b[39m\u001b[36m \u001b[39m\u001b[32mIn[10]\u001b[39m\u001b[32m, line 6\u001b[39m\n\u001b[32m      3\u001b[39m model_name = \u001b[33m\"\u001b[39m\u001b[33mclaude-3-7-sonnet-latest\u001b[39m\u001b[33m\"\u001b[39m\n\u001b[32m      5\u001b[39m claude = Anthropic()\n\u001b[32m----> \u001b[39m\u001b[32m6\u001b[39m response = \u001b[43mclaude\u001b[49m\u001b[43m.\u001b[49m\u001b[43mmessages\u001b[49m\u001b[43m.\u001b[49m\u001b[43mcreate\u001b[49m\u001b[43m(\u001b[49m\u001b[43mmodel\u001b[49m\u001b[43m=\u001b[49m\u001b[43mmodel_name\u001b[49m\u001b[43m,\u001b[49m\u001b[43m \u001b[49m\u001b[43mmessages\u001b[49m\u001b[43m=\u001b[49m\u001b[43mmessages\u001b[49m\u001b[43m,\u001b[49m\u001b[43m \u001b[49m\u001b[43mmax_tokens\u001b[49m\u001b[43m=\u001b[49m\u001b[32;43m1000\u001b[39;49m\u001b[43m)\u001b[49m\n\u001b[32m      7\u001b[39m answer = response.content[\u001b[32m0\u001b[39m].text\n\u001b[32m      9\u001b[39m display(Markdown(answer))\n",
      "\u001b[36mFile \u001b[39m\u001b[32mc:\\Users\\saksh\\Projects\\Udemy Course\\agents\\.venv\\Lib\\site-packages\\anthropic\\_utils\\_utils.py:283\u001b[39m, in \u001b[36mrequired_args.<locals>.inner.<locals>.wrapper\u001b[39m\u001b[34m(*args, **kwargs)\u001b[39m\n\u001b[32m    281\u001b[39m             msg = \u001b[33mf\u001b[39m\u001b[33m\"\u001b[39m\u001b[33mMissing required argument: \u001b[39m\u001b[38;5;132;01m{\u001b[39;00mquote(missing[\u001b[32m0\u001b[39m])\u001b[38;5;132;01m}\u001b[39;00m\u001b[33m\"\u001b[39m\n\u001b[32m    282\u001b[39m     \u001b[38;5;28;01mraise\u001b[39;00m \u001b[38;5;167;01mTypeError\u001b[39;00m(msg)\n\u001b[32m--> \u001b[39m\u001b[32m283\u001b[39m \u001b[38;5;28;01mreturn\u001b[39;00m \u001b[43mfunc\u001b[49m\u001b[43m(\u001b[49m\u001b[43m*\u001b[49m\u001b[43margs\u001b[49m\u001b[43m,\u001b[49m\u001b[43m \u001b[49m\u001b[43m*\u001b[49m\u001b[43m*\u001b[49m\u001b[43mkwargs\u001b[49m\u001b[43m)\u001b[49m\n",
      "\u001b[36mFile \u001b[39m\u001b[32mc:\\Users\\saksh\\Projects\\Udemy Course\\agents\\.venv\\Lib\\site-packages\\anthropic\\resources\\messages\\messages.py:978\u001b[39m, in \u001b[36mMessages.create\u001b[39m\u001b[34m(self, max_tokens, messages, model, metadata, service_tier, stop_sequences, stream, system, temperature, thinking, tool_choice, tools, top_k, top_p, extra_headers, extra_query, extra_body, timeout)\u001b[39m\n\u001b[32m    971\u001b[39m \u001b[38;5;28;01mif\u001b[39;00m model \u001b[38;5;129;01min\u001b[39;00m DEPRECATED_MODELS:\n\u001b[32m    972\u001b[39m     warnings.warn(\n\u001b[32m    973\u001b[39m         \u001b[33mf\u001b[39m\u001b[33m\"\u001b[39m\u001b[33mThe model \u001b[39m\u001b[33m'\u001b[39m\u001b[38;5;132;01m{\u001b[39;00mmodel\u001b[38;5;132;01m}\u001b[39;00m\u001b[33m'\u001b[39m\u001b[33m is deprecated and will reach end-of-life on \u001b[39m\u001b[38;5;132;01m{\u001b[39;00mDEPRECATED_MODELS[model]\u001b[38;5;132;01m}\u001b[39;00m\u001b[33m.\u001b[39m\u001b[38;5;130;01m\\n\u001b[39;00m\u001b[33mPlease migrate to a newer model. Visit https://docs.anthropic.com/en/docs/resources/model-deprecations for more information.\u001b[39m\u001b[33m\"\u001b[39m,\n\u001b[32m    974\u001b[39m         \u001b[38;5;167;01mDeprecationWarning\u001b[39;00m,\n\u001b[32m    975\u001b[39m         stacklevel=\u001b[32m3\u001b[39m,\n\u001b[32m    976\u001b[39m     )\n\u001b[32m--> \u001b[39m\u001b[32m978\u001b[39m \u001b[38;5;28;01mreturn\u001b[39;00m \u001b[38;5;28;43mself\u001b[39;49m\u001b[43m.\u001b[49m\u001b[43m_post\u001b[49m\u001b[43m(\u001b[49m\n\u001b[32m    979\u001b[39m \u001b[43m    \u001b[49m\u001b[33;43m\"\u001b[39;49m\u001b[33;43m/v1/messages\u001b[39;49m\u001b[33;43m\"\u001b[39;49m\u001b[43m,\u001b[49m\n\u001b[32m    980\u001b[39m \u001b[43m    \u001b[49m\u001b[43mbody\u001b[49m\u001b[43m=\u001b[49m\u001b[43mmaybe_transform\u001b[49m\u001b[43m(\u001b[49m\n\u001b[32m    981\u001b[39m \u001b[43m        \u001b[49m\u001b[43m{\u001b[49m\n\u001b[32m    982\u001b[39m \u001b[43m            \u001b[49m\u001b[33;43m\"\u001b[39;49m\u001b[33;43mmax_tokens\u001b[39;49m\u001b[33;43m\"\u001b[39;49m\u001b[43m:\u001b[49m\u001b[43m \u001b[49m\u001b[43mmax_tokens\u001b[49m\u001b[43m,\u001b[49m\n\u001b[32m    983\u001b[39m \u001b[43m            \u001b[49m\u001b[33;43m\"\u001b[39;49m\u001b[33;43mmessages\u001b[39;49m\u001b[33;43m\"\u001b[39;49m\u001b[43m:\u001b[49m\u001b[43m \u001b[49m\u001b[43mmessages\u001b[49m\u001b[43m,\u001b[49m\n\u001b[32m    984\u001b[39m \u001b[43m            \u001b[49m\u001b[33;43m\"\u001b[39;49m\u001b[33;43mmodel\u001b[39;49m\u001b[33;43m\"\u001b[39;49m\u001b[43m:\u001b[49m\u001b[43m \u001b[49m\u001b[43mmodel\u001b[49m\u001b[43m,\u001b[49m\n\u001b[32m    985\u001b[39m \u001b[43m            \u001b[49m\u001b[33;43m\"\u001b[39;49m\u001b[33;43mmetadata\u001b[39;49m\u001b[33;43m\"\u001b[39;49m\u001b[43m:\u001b[49m\u001b[43m \u001b[49m\u001b[43mmetadata\u001b[49m\u001b[43m,\u001b[49m\n\u001b[32m    986\u001b[39m \u001b[43m            \u001b[49m\u001b[33;43m\"\u001b[39;49m\u001b[33;43mservice_tier\u001b[39;49m\u001b[33;43m\"\u001b[39;49m\u001b[43m:\u001b[49m\u001b[43m \u001b[49m\u001b[43mservice_tier\u001b[49m\u001b[43m,\u001b[49m\n\u001b[32m    987\u001b[39m \u001b[43m            \u001b[49m\u001b[33;43m\"\u001b[39;49m\u001b[33;43mstop_sequences\u001b[39;49m\u001b[33;43m\"\u001b[39;49m\u001b[43m:\u001b[49m\u001b[43m \u001b[49m\u001b[43mstop_sequences\u001b[49m\u001b[43m,\u001b[49m\n\u001b[32m    988\u001b[39m \u001b[43m            \u001b[49m\u001b[33;43m\"\u001b[39;49m\u001b[33;43mstream\u001b[39;49m\u001b[33;43m\"\u001b[39;49m\u001b[43m:\u001b[49m\u001b[43m \u001b[49m\u001b[43mstream\u001b[49m\u001b[43m,\u001b[49m\n\u001b[32m    989\u001b[39m \u001b[43m            \u001b[49m\u001b[33;43m\"\u001b[39;49m\u001b[33;43msystem\u001b[39;49m\u001b[33;43m\"\u001b[39;49m\u001b[43m:\u001b[49m\u001b[43m \u001b[49m\u001b[43msystem\u001b[49m\u001b[43m,\u001b[49m\n\u001b[32m    990\u001b[39m \u001b[43m            \u001b[49m\u001b[33;43m\"\u001b[39;49m\u001b[33;43mtemperature\u001b[39;49m\u001b[33;43m\"\u001b[39;49m\u001b[43m:\u001b[49m\u001b[43m \u001b[49m\u001b[43mtemperature\u001b[49m\u001b[43m,\u001b[49m\n\u001b[32m    991\u001b[39m \u001b[43m            \u001b[49m\u001b[33;43m\"\u001b[39;49m\u001b[33;43mthinking\u001b[39;49m\u001b[33;43m\"\u001b[39;49m\u001b[43m:\u001b[49m\u001b[43m \u001b[49m\u001b[43mthinking\u001b[49m\u001b[43m,\u001b[49m\n\u001b[32m    992\u001b[39m \u001b[43m            \u001b[49m\u001b[33;43m\"\u001b[39;49m\u001b[33;43mtool_choice\u001b[39;49m\u001b[33;43m\"\u001b[39;49m\u001b[43m:\u001b[49m\u001b[43m \u001b[49m\u001b[43mtool_choice\u001b[49m\u001b[43m,\u001b[49m\n\u001b[32m    993\u001b[39m \u001b[43m            \u001b[49m\u001b[33;43m\"\u001b[39;49m\u001b[33;43mtools\u001b[39;49m\u001b[33;43m\"\u001b[39;49m\u001b[43m:\u001b[49m\u001b[43m \u001b[49m\u001b[43mtools\u001b[49m\u001b[43m,\u001b[49m\n\u001b[32m    994\u001b[39m \u001b[43m            \u001b[49m\u001b[33;43m\"\u001b[39;49m\u001b[33;43mtop_k\u001b[39;49m\u001b[33;43m\"\u001b[39;49m\u001b[43m:\u001b[49m\u001b[43m \u001b[49m\u001b[43mtop_k\u001b[49m\u001b[43m,\u001b[49m\n\u001b[32m    995\u001b[39m \u001b[43m            \u001b[49m\u001b[33;43m\"\u001b[39;49m\u001b[33;43mtop_p\u001b[39;49m\u001b[33;43m\"\u001b[39;49m\u001b[43m:\u001b[49m\u001b[43m \u001b[49m\u001b[43mtop_p\u001b[49m\u001b[43m,\u001b[49m\n\u001b[32m    996\u001b[39m \u001b[43m        \u001b[49m\u001b[43m}\u001b[49m\u001b[43m,\u001b[49m\n\u001b[32m    997\u001b[39m \u001b[43m        \u001b[49m\u001b[43mmessage_create_params\u001b[49m\u001b[43m.\u001b[49m\u001b[43mMessageCreateParamsStreaming\u001b[49m\n\u001b[32m    998\u001b[39m \u001b[43m        \u001b[49m\u001b[38;5;28;43;01mif\u001b[39;49;00m\u001b[43m \u001b[49m\u001b[43mstream\u001b[49m\n\u001b[32m    999\u001b[39m \u001b[43m        \u001b[49m\u001b[38;5;28;43;01melse\u001b[39;49;00m\u001b[43m \u001b[49m\u001b[43mmessage_create_params\u001b[49m\u001b[43m.\u001b[49m\u001b[43mMessageCreateParamsNonStreaming\u001b[49m\u001b[43m,\u001b[49m\n\u001b[32m   1000\u001b[39m \u001b[43m    \u001b[49m\u001b[43m)\u001b[49m\u001b[43m,\u001b[49m\n\u001b[32m   1001\u001b[39m \u001b[43m    \u001b[49m\u001b[43moptions\u001b[49m\u001b[43m=\u001b[49m\u001b[43mmake_request_options\u001b[49m\u001b[43m(\u001b[49m\n\u001b[32m   1002\u001b[39m \u001b[43m        \u001b[49m\u001b[43mextra_headers\u001b[49m\u001b[43m=\u001b[49m\u001b[43mextra_headers\u001b[49m\u001b[43m,\u001b[49m\u001b[43m \u001b[49m\u001b[43mextra_query\u001b[49m\u001b[43m=\u001b[49m\u001b[43mextra_query\u001b[49m\u001b[43m,\u001b[49m\u001b[43m \u001b[49m\u001b[43mextra_body\u001b[49m\u001b[43m=\u001b[49m\u001b[43mextra_body\u001b[49m\u001b[43m,\u001b[49m\u001b[43m \u001b[49m\u001b[43mtimeout\u001b[49m\u001b[43m=\u001b[49m\u001b[43mtimeout\u001b[49m\n\u001b[32m   1003\u001b[39m \u001b[43m    \u001b[49m\u001b[43m)\u001b[49m\u001b[43m,\u001b[49m\n\u001b[32m   1004\u001b[39m \u001b[43m    \u001b[49m\u001b[43mcast_to\u001b[49m\u001b[43m=\u001b[49m\u001b[43mMessage\u001b[49m\u001b[43m,\u001b[49m\n\u001b[32m   1005\u001b[39m \u001b[43m    \u001b[49m\u001b[43mstream\u001b[49m\u001b[43m=\u001b[49m\u001b[43mstream\u001b[49m\u001b[43m \u001b[49m\u001b[38;5;129;43;01mor\u001b[39;49;00m\u001b[43m \u001b[49m\u001b[38;5;28;43;01mFalse\u001b[39;49;00m\u001b[43m,\u001b[49m\n\u001b[32m   1006\u001b[39m \u001b[43m    \u001b[49m\u001b[43mstream_cls\u001b[49m\u001b[43m=\u001b[49m\u001b[43mStream\u001b[49m\u001b[43m[\u001b[49m\u001b[43mRawMessageStreamEvent\u001b[49m\u001b[43m]\u001b[49m\u001b[43m,\u001b[49m\n\u001b[32m   1007\u001b[39m \u001b[43m\u001b[49m\u001b[43m)\u001b[49m\n",
      "\u001b[36mFile \u001b[39m\u001b[32mc:\\Users\\saksh\\Projects\\Udemy Course\\agents\\.venv\\Lib\\site-packages\\anthropic\\_base_client.py:1314\u001b[39m, in \u001b[36mSyncAPIClient.post\u001b[39m\u001b[34m(self, path, cast_to, body, options, files, stream, stream_cls)\u001b[39m\n\u001b[32m   1300\u001b[39m \u001b[38;5;28;01mdef\u001b[39;00m\u001b[38;5;250m \u001b[39m\u001b[34mpost\u001b[39m(\n\u001b[32m   1301\u001b[39m     \u001b[38;5;28mself\u001b[39m,\n\u001b[32m   1302\u001b[39m     path: \u001b[38;5;28mstr\u001b[39m,\n\u001b[32m   (...)\u001b[39m\u001b[32m   1309\u001b[39m     stream_cls: \u001b[38;5;28mtype\u001b[39m[_StreamT] | \u001b[38;5;28;01mNone\u001b[39;00m = \u001b[38;5;28;01mNone\u001b[39;00m,\n\u001b[32m   1310\u001b[39m ) -> ResponseT | _StreamT:\n\u001b[32m   1311\u001b[39m     opts = FinalRequestOptions.construct(\n\u001b[32m   1312\u001b[39m         method=\u001b[33m\"\u001b[39m\u001b[33mpost\u001b[39m\u001b[33m\"\u001b[39m, url=path, json_data=body, files=to_httpx_files(files), **options\n\u001b[32m   1313\u001b[39m     )\n\u001b[32m-> \u001b[39m\u001b[32m1314\u001b[39m     \u001b[38;5;28;01mreturn\u001b[39;00m cast(ResponseT, \u001b[38;5;28;43mself\u001b[39;49m\u001b[43m.\u001b[49m\u001b[43mrequest\u001b[49m\u001b[43m(\u001b[49m\u001b[43mcast_to\u001b[49m\u001b[43m,\u001b[49m\u001b[43m \u001b[49m\u001b[43mopts\u001b[49m\u001b[43m,\u001b[49m\u001b[43m \u001b[49m\u001b[43mstream\u001b[49m\u001b[43m=\u001b[49m\u001b[43mstream\u001b[49m\u001b[43m,\u001b[49m\u001b[43m \u001b[49m\u001b[43mstream_cls\u001b[49m\u001b[43m=\u001b[49m\u001b[43mstream_cls\u001b[49m\u001b[43m)\u001b[49m)\n",
      "\u001b[36mFile \u001b[39m\u001b[32mc:\\Users\\saksh\\Projects\\Udemy Course\\agents\\.venv\\Lib\\site-packages\\anthropic\\_base_client.py:1023\u001b[39m, in \u001b[36mSyncAPIClient.request\u001b[39m\u001b[34m(self, cast_to, options, stream, stream_cls)\u001b[39m\n\u001b[32m   1020\u001b[39m options = \u001b[38;5;28mself\u001b[39m._prepare_options(options)\n\u001b[32m   1022\u001b[39m remaining_retries = max_retries - retries_taken\n\u001b[32m-> \u001b[39m\u001b[32m1023\u001b[39m request = \u001b[38;5;28;43mself\u001b[39;49m\u001b[43m.\u001b[49m\u001b[43m_build_request\u001b[49m\u001b[43m(\u001b[49m\u001b[43moptions\u001b[49m\u001b[43m,\u001b[49m\u001b[43m \u001b[49m\u001b[43mretries_taken\u001b[49m\u001b[43m=\u001b[49m\u001b[43mretries_taken\u001b[49m\u001b[43m)\u001b[49m\n\u001b[32m   1024\u001b[39m \u001b[38;5;28mself\u001b[39m._prepare_request(request)\n\u001b[32m   1026\u001b[39m kwargs: HttpxSendArgs = {}\n",
      "\u001b[36mFile \u001b[39m\u001b[32mc:\\Users\\saksh\\Projects\\Udemy Course\\agents\\.venv\\Lib\\site-packages\\anthropic\\_base_client.py:506\u001b[39m, in \u001b[36mBaseClient._build_request\u001b[39m\u001b[34m(self, options, retries_taken)\u001b[39m\n\u001b[32m    503\u001b[39m     \u001b[38;5;28;01melse\u001b[39;00m:\n\u001b[32m    504\u001b[39m         \u001b[38;5;28;01mraise\u001b[39;00m \u001b[38;5;167;01mRuntimeError\u001b[39;00m(\u001b[33mf\u001b[39m\u001b[33m\"\u001b[39m\u001b[33mUnexpected JSON data type, \u001b[39m\u001b[38;5;132;01m{\u001b[39;00m\u001b[38;5;28mtype\u001b[39m(json_data)\u001b[38;5;132;01m}\u001b[39;00m\u001b[33m, cannot merge with `extra_body`\u001b[39m\u001b[33m\"\u001b[39m)\n\u001b[32m--> \u001b[39m\u001b[32m506\u001b[39m headers = \u001b[38;5;28;43mself\u001b[39;49m\u001b[43m.\u001b[49m\u001b[43m_build_headers\u001b[49m\u001b[43m(\u001b[49m\u001b[43moptions\u001b[49m\u001b[43m,\u001b[49m\u001b[43m \u001b[49m\u001b[43mretries_taken\u001b[49m\u001b[43m=\u001b[49m\u001b[43mretries_taken\u001b[49m\u001b[43m)\u001b[49m\n\u001b[32m    507\u001b[39m params = _merge_mappings(\u001b[38;5;28mself\u001b[39m.default_query, options.params)\n\u001b[32m    508\u001b[39m content_type = headers.get(\u001b[33m\"\u001b[39m\u001b[33mContent-Type\u001b[39m\u001b[33m\"\u001b[39m)\n",
      "\u001b[36mFile \u001b[39m\u001b[32mc:\\Users\\saksh\\Projects\\Udemy Course\\agents\\.venv\\Lib\\site-packages\\anthropic\\_base_client.py:447\u001b[39m, in \u001b[36mBaseClient._build_headers\u001b[39m\u001b[34m(self, options, retries_taken)\u001b[39m\n\u001b[32m    437\u001b[39m custom_headers = options.headers \u001b[38;5;129;01mor\u001b[39;00m {}\n\u001b[32m    438\u001b[39m headers_dict = _merge_mappings(\n\u001b[32m    439\u001b[39m     {\n\u001b[32m    440\u001b[39m         \u001b[33m\"\u001b[39m\u001b[33mx-stainless-timeout\u001b[39m\u001b[33m\"\u001b[39m: \u001b[38;5;28mstr\u001b[39m(options.timeout.read)\n\u001b[32m   (...)\u001b[39m\u001b[32m    445\u001b[39m     custom_headers,\n\u001b[32m    446\u001b[39m )\n\u001b[32m--> \u001b[39m\u001b[32m447\u001b[39m \u001b[38;5;28;43mself\u001b[39;49m\u001b[43m.\u001b[49m\u001b[43m_validate_headers\u001b[49m\u001b[43m(\u001b[49m\u001b[43mheaders_dict\u001b[49m\u001b[43m,\u001b[49m\u001b[43m \u001b[49m\u001b[43mcustom_headers\u001b[49m\u001b[43m)\u001b[49m\n\u001b[32m    449\u001b[39m \u001b[38;5;66;03m# headers are case-insensitive while dictionaries are not.\u001b[39;00m\n\u001b[32m    450\u001b[39m headers = httpx.Headers(headers_dict)\n",
      "\u001b[36mFile \u001b[39m\u001b[32mc:\\Users\\saksh\\Projects\\Udemy Course\\agents\\.venv\\Lib\\site-packages\\anthropic\\_client.py:196\u001b[39m, in \u001b[36mAnthropic._validate_headers\u001b[39m\u001b[34m(self, headers, custom_headers)\u001b[39m\n\u001b[32m    193\u001b[39m \u001b[38;5;28;01mif\u001b[39;00m \u001b[38;5;28misinstance\u001b[39m(custom_headers.get(\u001b[33m\"\u001b[39m\u001b[33mAuthorization\u001b[39m\u001b[33m\"\u001b[39m), Omit):\n\u001b[32m    194\u001b[39m     \u001b[38;5;28;01mreturn\u001b[39;00m\n\u001b[32m--> \u001b[39m\u001b[32m196\u001b[39m \u001b[38;5;28;01mraise\u001b[39;00m \u001b[38;5;167;01mTypeError\u001b[39;00m(\n\u001b[32m    197\u001b[39m     \u001b[33m'\u001b[39m\u001b[33m\"\u001b[39m\u001b[33mCould not resolve authentication method. Expected either api_key or auth_token to be set. Or for one of the `X-Api-Key` or `Authorization` headers to be explicitly omitted\u001b[39m\u001b[33m\"\u001b[39m\u001b[33m'\u001b[39m\n\u001b[32m    198\u001b[39m )\n",
      "\u001b[31mTypeError\u001b[39m: \"Could not resolve authentication method. Expected either api_key or auth_token to be set. Or for one of the `X-Api-Key` or `Authorization` headers to be explicitly omitted\""
     ]
    }
   ],
   "source": [
    "# Anthropic has a slightly different API, and Max Tokens is required\n",
    "\n",
    "model_name = \"claude-3-7-sonnet-latest\"\n",
    "\n",
    "claude = Anthropic()\n",
    "response = claude.messages.create(model=model_name, messages=messages, max_tokens=1000)\n",
    "answer = response.content[0].text\n",
    "\n",
    "display(Markdown(answer))\n",
    "competitors.append(model_name)\n",
    "answers.append(answer)"
   ]
  },
  {
   "cell_type": "code",
   "execution_count": 11,
   "metadata": {},
   "outputs": [
    {
     "data": {
      "text/markdown": [
       "Resolving this kind of moral dilemma requires a multi-faceted approach, considering various ethical frameworks, cultural nuances, and emotional responses. Here's a breakdown of how I'd approach it:\n",
       "\n",
       "**1. Understand the Context and Gather Information:**\n",
       "\n",
       "*   **Detailed Scenario:**  A precise understanding of the situation is crucial.  Who are the individuals involved (age, health, skills, relationships)?  What are the circumstances that led to this dilemma?  Are there any other potential options, even improbable ones?\n",
       "*   **Cultural Backgrounds:** Identify the cultural backgrounds of both individuals making the decision and the potential victim/saved individuals. Culture deeply influences moral values and decision-making processes. Some cultures might prioritize collective good over individual rights, while others champion individual autonomy. Understanding these nuances is critical.\n",
       "*   **Relationship Dynamics:** Are the decision-makers related to the people at risk? Are there existing conflicts or biases that could influence their choices? Knowing the relationships helps to anticipate potential emotional biases.\n",
       "\n",
       "**2. Explore Ethical Frameworks:**\n",
       "\n",
       "*   **Utilitarianism:** This framework focuses on maximizing overall happiness or well-being.  The utilitarian approach would likely favor sacrificing one life to save five, as it results in a net gain of four lives.  However, it must consider the *quality* of those lives – are the five incapacitated in a way that negates the benefit?\n",
       "*   **Deontology (Duty-Based Ethics):** This approach emphasizes moral duties and rules.  It might argue that it is inherently wrong to kill, regardless of the potential consequences.  Deontology might forbid actively causing the death of one person, even to save others. It would focus on the *act* itself, not the outcome.\n",
       "*   **Virtue Ethics:** This framework centers on character and virtues.  It asks what a virtuous person would do in this situation.  Courage, compassion, wisdom, and justice would all be relevant. A virtue ethicist might consider the long-term effects on the decision-makers' character and how this choice might shape their future actions.\n",
       "*   **Care Ethics:** Emphasizes relationships, empathy, and the needs of those involved. It would focus on the potential for harm and the responsibility of care. Care ethics might be highly influenced by the specific relationships between the individuals involved. It would prioritize minimizing harm and nurturing relationships, even if it means sacrificing a seemingly 'greater good' calculated by utilitarian standards.\n",
       "\n",
       "**3. Consider the Emotional Impact:**\n",
       "\n",
       "*   **Psychological Stress:** Acknowledge the immense psychological pressure and trauma the decision-makers will face regardless of their choice. This stress can impair their judgment and lead to long-term mental health issues.  Providing support and counseling before and after the decision is crucial.\n",
       "*   **Emotional Biases:** Understand that grief, fear, and personal attachments can significantly cloud judgment.  It's essential to identify and acknowledge these biases to ensure a more rational and ethical decision.\n",
       "*   **Guilt and Regret:**  Any decision will likely result in guilt and regret.  Preparing the decision-makers for this possibility and providing strategies for coping with these emotions is necessary.\n",
       "\n",
       "**4. Facilitate a Deliberative Process:**\n",
       "\n",
       "*   **Open Dialogue:** Encourage open and honest communication between the decision-makers, if possible.  They should share their perspectives, fears, and concerns.\n",
       "*   **Seek Counsel:** Consider consulting with ethicists, religious leaders, or other trusted advisors to gain different perspectives and guidance.\n",
       "*   **Structured Decision-Making:**  Implement a structured decision-making process to ensure all factors are considered systematically.  This might involve creating a pro/con list for each option, weighing the potential consequences, and identifying the ethical principles at stake.\n",
       "\n",
       "**5. Focus on Minimizing Harm and Justification:**\n",
       "\n",
       "*   **Explore Alternatives:** Before resorting to sacrificing one life, exhaust all other possible solutions.  Are there any creative alternatives that could save everyone?\n",
       "*   **Transparency and Justification:** The decision, whatever it may be, should be transparently justified based on the ethical framework and values that were prioritized.  The reasoning should be clear and defensible.\n",
       "*   **Accountability:** Acknowledge the consequences of the decision and take responsibility for the outcome.\n",
       "\n",
       "**6. Accept the Inherent Ambiguity and Imperfection:**\n",
       "\n",
       "*   **No Easy Answer:** Emphasize that there is no \"right\" answer in this situation. Any decision will have profound consequences and will likely be morally problematic.\n",
       "*   **Focus on the Process:**  The focus should be on making the most informed and ethically justifiable decision possible, given the circumstances.\n",
       "\n",
       "**In summary, my approach would involve gathering comprehensive information, exploring relevant ethical frameworks, acknowledging emotional factors, facilitating a deliberative process, and striving to minimize harm while justifying the decision based on prioritized values. This is an intensely difficult situation with no perfect solution, so the emphasis should be on responsible and compassionate decision-making.**\n"
      ],
      "text/plain": [
       "<IPython.core.display.Markdown object>"
      ]
     },
     "metadata": {},
     "output_type": "display_data"
    }
   ],
   "source": [
    "gemini = OpenAI(api_key=google_api_key, base_url=\"https://generativelanguage.googleapis.com/v1beta/openai/\")\n",
    "model_name = \"gemini-2.0-flash\"\n",
    "\n",
    "response = gemini.chat.completions.create(model=model_name, messages=messages)\n",
    "answer = response.choices[0].message.content\n",
    "\n",
    "display(Markdown(answer))\n",
    "competitors.append(model_name)\n",
    "answers.append(answer)"
   ]
  },
  {
   "cell_type": "code",
   "execution_count": 12,
   "metadata": {},
   "outputs": [
    {
     "data": {
      "text/markdown": [
       "Resolving a moral dilemma like the one you describe—where two individuals must decide whether to sacrifice one life to save five others—requires a nuanced approach that balances ethical principles, cultural context, emotional intelligence, and practical considerations. Here’s a structured way to approach it:\n",
       "\n",
       "### 1. **Define the Dilemma Clearly**\n",
       "   - **Scenario**: Is this a classic trolley problem (active intervention vs. passive acceptance), or does it involve more personal stakes (e.g., a medical triage or wartime decision)? Clarify the specifics.\n",
       "   - **Constraints**: Are there time pressures, resource limitations, or irreversible consequences? These shape the urgency and feasibility of options.\n",
       "\n",
       "### 2. **Explore Ethical Frameworks**\n",
       "   - **Utilitarianism**: Focus on the outcome—saving five at the cost of one may be justifiable as it maximizes overall well-being. But does this ignore the moral weight of actively causing harm?\n",
       "   - **Deontological Ethics**: Prioritize duty (e.g., \"do not kill\"). Sacrificing one violates a moral rule, regardless of consequences. How do the individuals perceive their responsibilities?\n",
       "   - **Virtue Ethics**: What would a compassionate, courageous, or wise person do? Emphasizes character over rules or outcomes.\n",
       "   - **Rights-Based Ethics**: Does sacrificing one violate inherent rights (e.g., the right to life)? Are the five’s rights more important?\n",
       "\n",
       "### 3. **Cultural Considerations**\n",
       "   - **Collectivist vs. Individualist Cultures**: In collectivist societies, the group’s welfare might outweigh individual sacrifice, whereas individualist cultures may prioritize personal autonomy.\n",
       "   - **Religious/Philosophical Beliefs**: Some traditions sanctify all life (e.g., Jainism’s ahimsa), while others permit sacrifice for greater good (e.g., just war theory).\n",
       "   - **Local Norms**: Are there precedents or community values that guide such decisions? For example, wartime triage protocols or medical ethics standards.\n",
       "\n",
       "### 4. **Emotional and Psychological Factors**\n",
       "   - **Empathy and Guilt**: The emotional toll of actively causing harm (even for a \"good\" reason) may be unbearable for some. Passive vs. active harm feels different psychologically.\n",
       "   - **Personal Relationships**: If the one sacrificed is a loved one vs. a stranger, emotions may override utilitarian logic.\n",
       "   - **Moral Distress**: Could the decision lead to long-term trauma or regret? Emotional resilience matters.\n",
       "\n",
       "### 5. **Practical and Contextual Factors**\n",
       "   - **Feasibility**: Can the sacrifice actually save the five? Uncertainty about outcomes complicates the decision.\n",
       "   - **Alternatives**: Is there a third way (e.g., finding a way to save all, or minimizing harm differently)? Creativity matters.\n",
       "   - **Power Dynamics**: Who has agency in the decision? Is one individual being coerced or bearing unequal responsibility?\n",
       "\n",
       "### 6. **Dialogue and Consensus-Building**\n",
       "   - **Open Communication**: Encourage the two individuals to share their values, fears, and reasoning. Listen without judgment.\n",
       "   - **Mediation**: If cultural/ethical views clash, a neutral party could help find common ground or compromise.\n",
       "   - **Procedural Fairness**: Even if disagreement persists, ensure the decision-making process feels fair (e.g., voting,轮流发言).\n",
       "\n",
       "### 7. **Post-Decision Reflection**\n",
       "   - **Accountability**: Can the decision be justified to others (e.g., the public, future generations)?\n",
       "   - **Learning**: Use the dilemma to refine ethical guidelines or policies for future scenarios.\n",
       "\n",
       "### Example Application:\n",
       "Imagine two doctors in a resource-limited hospital must decide whether to divert a ventilator from one dying patient (who will likely not survive) to five others who could recover.  \n",
       "- **Utilitarian**: Save five.  \n",
       "- **Deontological**: Never abandon a patient under care.  \n",
       "- **Cultural**: In some cultures, elders might be prioritized; in others, healthcare is strictly first-come, first-served.  \n",
       "- **Emotional**: The guilt of \"playing God\" may haunt the doctors.  \n",
       "- **Solution**: They might seek a transparent triage protocol (pre-established rules) to depersonalize the decision and reduce bias.\n",
       "\n",
       "### Final Thought:\n",
       "There’s rarely a perfect answer, but a thoughtful process—one that honors ethics, humanity, and context—can lead to the most defensible choice. The goal is to minimize harm while preserving moral integrity."
      ],
      "text/plain": [
       "<IPython.core.display.Markdown object>"
      ]
     },
     "metadata": {},
     "output_type": "display_data"
    }
   ],
   "source": [
    "deepseek = OpenAI(api_key=deepseek_api_key, base_url=\"https://api.deepseek.com/v1\")\n",
    "model_name = \"deepseek-chat\"\n",
    "\n",
    "response = deepseek.chat.completions.create(model=model_name, messages=messages)\n",
    "answer = response.choices[0].message.content\n",
    "\n",
    "display(Markdown(answer))\n",
    "competitors.append(model_name)\n",
    "answers.append(answer)"
   ]
  },
  {
   "cell_type": "code",
   "execution_count": null,
   "metadata": {},
   "outputs": [],
   "source": [
    "groq = OpenAI(api_key=groq_api_key, base_url=\"https://api.groq.com/openai/v1\")\n",
    "model_name = \"llama-3.3-70b-versatile\"\n",
    "\n",
    "response = groq.chat.completions.create(model=model_name, messages=messages)\n",
    "answer = response.choices[0].message.content\n",
    "\n",
    "display(Markdown(answer))\n",
    "competitors.append(model_name)\n",
    "answers.append(answer)\n"
   ]
  },
  {
   "cell_type": "markdown",
   "metadata": {},
   "source": [
    "## For the next cell, we will use Ollama\n",
    "\n",
    "Ollama runs a local web service that gives an OpenAI compatible endpoint,  \n",
    "and runs models locally using high performance C++ code.\n",
    "\n",
    "If you don't have Ollama, install it here by visiting https://ollama.com then pressing Download and following the instructions.\n",
    "\n",
    "After it's installed, you should be able to visit here: http://localhost:11434 and see the message \"Ollama is running\"\n",
    "\n",
    "You might need to restart Cursor (and maybe reboot). Then open a Terminal (control+\\`) and run `ollama serve`\n",
    "\n",
    "Useful Ollama commands (run these in the terminal, or with an exclamation mark in this notebook):\n",
    "\n",
    "`ollama pull <model_name>` downloads a model locally  \n",
    "`ollama ls` lists all the models you've downloaded  \n",
    "`ollama rm <model_name>` deletes the specified model from your downloads"
   ]
  },
  {
   "cell_type": "markdown",
   "metadata": {},
   "source": [
    "<table style=\"margin: 0; text-align: left; width:100%\">\n",
    "    <tr>\n",
    "        <td style=\"width: 150px; height: 150px; vertical-align: middle;\">\n",
    "            <img src=\"../assets/stop.png\" width=\"150\" height=\"150\" style=\"display: block;\" />\n",
    "        </td>\n",
    "        <td>\n",
    "            <h2 style=\"color:#ff7800;\">Super important - ignore me at your peril!</h2>\n",
    "            <span style=\"color:#ff7800;\">The model called <b>llama3.3</b> is FAR too large for home computers - it's not intended for personal computing and will consume all your resources! Stick with the nicely sized <b>llama3.2</b> or <b>llama3.2:1b</b> and if you want larger, try llama3.1 or smaller variants of Qwen, Gemma, Phi or DeepSeek. See the <A href=\"https://ollama.com/models\">the Ollama models page</a> for a full list of models and sizes.\n",
    "            </span>\n",
    "        </td>\n",
    "    </tr>\n",
    "</table>"
   ]
  },
  {
   "cell_type": "code",
   "execution_count": null,
   "metadata": {},
   "outputs": [],
   "source": [
    "!ollama pull llama3.2"
   ]
  },
  {
   "cell_type": "code",
   "execution_count": null,
   "metadata": {},
   "outputs": [],
   "source": [
    "ollama = OpenAI(base_url='http://localhost:11434/v1', api_key='ollama')\n",
    "model_name = \"llama3.2\"\n",
    "\n",
    "response = ollama.chat.completions.create(model=model_name, messages=messages)\n",
    "answer = response.choices[0].message.content\n",
    "\n",
    "display(Markdown(answer))\n",
    "competitors.append(model_name)\n",
    "answers.append(answer)"
   ]
  },
  {
   "cell_type": "code",
   "execution_count": null,
   "metadata": {},
   "outputs": [],
   "source": [
    "# So where are we?\n",
    "\n",
    "print(competitors)\n",
    "print(answers)\n"
   ]
  },
  {
   "cell_type": "code",
   "execution_count": 13,
   "metadata": {},
   "outputs": [
    {
     "name": "stdout",
     "output_type": "stream",
     "text": [
      "Competitor: gpt-4o-mini\n",
      "\n",
      "Resolving a moral dilemma such as sacrificing one life to save five others requires a nuanced approach that considers various factors, including ethical theories, cultural context, and emotional aspects. Here’s a structured way to approach this situation:\n",
      "\n",
      "### 1. **Identify the Ethical Frameworks**\n",
      "   - **Utilitarianism**: This perspective evaluates actions based on the outcome. A utilitarian approach would prioritize the option that maximizes overall happiness or minimizes suffering. In this case, sacrificing one life to save five could be justified.\n",
      "   - **Deontological Ethics**: From a deontological standpoint, certain actions are intrinsically right or wrong regardless of their consequences. Under this framework, sacrificing an individual might be considered morally wrong, as it treats that person merely as a means to an end.\n",
      "   - **Virtue Ethics**: This emphasizes the character and intentions of the decision-makers. Would a virtuous person choose to sacrifice one for five? This approach could lead to different conclusions based on what values the decision-makers hold.\n",
      "\n",
      "### 2. **Cultural Considerations**\n",
      "   - Different cultures have varying beliefs about the sanctity of life, community welfare, and individual rights. Some cultures might prioritize the greater good and endorse sacrificing one for many, while others might uphold individual rights and reject any form of sacrifice.\n",
      "   - Understanding the cultural context of the individuals involved is crucial in assessing how they might view this dilemma. Engaging with cultural leaders or community values may provide deeper insights.\n",
      "\n",
      "### 3. **Emotional Factors**\n",
      "   - Emotions play a significant role in moral dilemmas. The individuals involved may have personal connections, fears, or hopes tied to the lives at stake. Assessing emotional responses can provide insight into the values and motivations of those making the decision.\n",
      "   - Consider possible grief, guilt, or regret that could arise from either decision. Engaging in discussions about these emotional impacts can help clarify priorities.\n",
      "\n",
      "### 4. **Dialogue and Inclusive Decision-Making**\n",
      "   - Encourage open dialogue among all parties affected by the decision. This can include the families of those involved, community members, and ethical stakeholders.\n",
      "   - Aim for a consensus or compromise where possible. Including diverse perspectives can lead to more empathetic and comprehensive solutions, and it can also alleviate the burden on any single decision-maker.\n",
      "\n",
      "### 5. **Explore Alternative Solutions**\n",
      "   - Investigate whether there are alternatives that could save both parties or mitigate harm. This might involve creative problem-solving, resource allocation, or different strategies that don't require sacrificing one life for others.\n",
      "\n",
      "### 6. **Long-Term Consequences**\n",
      "   - Consider the long-term implications of the decision. How would each choice impact the community, the relationships between individuals, and societal values?\n",
      "   - A decision rooted in a strong ethical framework can set precedents for future dilemmas and influence how similar situations are viewed and handled.\n",
      "\n",
      "### 7. **Documentation and Reflection**\n",
      "   - Document the decision-making process, including the reasoning behind the chosen action. Reflection on this case may provide insights that impact future moral dilemmas.\n",
      "\n",
      "### Conclusion\n",
      "Ultimately, there is no definitive right or wrong answer in such dilemmas, as they often depend on the values and circumstances surrounding the individuals involved. By carefully considering the ethical models, cultural influences, emotional responses, and exploring dialogue and alternatives, a more informed and compassionate decision can be reached.\n",
      "Competitor: gemini-2.0-flash\n",
      "\n",
      "Resolving this kind of moral dilemma requires a multi-faceted approach, considering various ethical frameworks, cultural nuances, and emotional responses. Here's a breakdown of how I'd approach it:\n",
      "\n",
      "**1. Understand the Context and Gather Information:**\n",
      "\n",
      "*   **Detailed Scenario:**  A precise understanding of the situation is crucial.  Who are the individuals involved (age, health, skills, relationships)?  What are the circumstances that led to this dilemma?  Are there any other potential options, even improbable ones?\n",
      "*   **Cultural Backgrounds:** Identify the cultural backgrounds of both individuals making the decision and the potential victim/saved individuals. Culture deeply influences moral values and decision-making processes. Some cultures might prioritize collective good over individual rights, while others champion individual autonomy. Understanding these nuances is critical.\n",
      "*   **Relationship Dynamics:** Are the decision-makers related to the people at risk? Are there existing conflicts or biases that could influence their choices? Knowing the relationships helps to anticipate potential emotional biases.\n",
      "\n",
      "**2. Explore Ethical Frameworks:**\n",
      "\n",
      "*   **Utilitarianism:** This framework focuses on maximizing overall happiness or well-being.  The utilitarian approach would likely favor sacrificing one life to save five, as it results in a net gain of four lives.  However, it must consider the *quality* of those lives – are the five incapacitated in a way that negates the benefit?\n",
      "*   **Deontology (Duty-Based Ethics):** This approach emphasizes moral duties and rules.  It might argue that it is inherently wrong to kill, regardless of the potential consequences.  Deontology might forbid actively causing the death of one person, even to save others. It would focus on the *act* itself, not the outcome.\n",
      "*   **Virtue Ethics:** This framework centers on character and virtues.  It asks what a virtuous person would do in this situation.  Courage, compassion, wisdom, and justice would all be relevant. A virtue ethicist might consider the long-term effects on the decision-makers' character and how this choice might shape their future actions.\n",
      "*   **Care Ethics:** Emphasizes relationships, empathy, and the needs of those involved. It would focus on the potential for harm and the responsibility of care. Care ethics might be highly influenced by the specific relationships between the individuals involved. It would prioritize minimizing harm and nurturing relationships, even if it means sacrificing a seemingly 'greater good' calculated by utilitarian standards.\n",
      "\n",
      "**3. Consider the Emotional Impact:**\n",
      "\n",
      "*   **Psychological Stress:** Acknowledge the immense psychological pressure and trauma the decision-makers will face regardless of their choice. This stress can impair their judgment and lead to long-term mental health issues.  Providing support and counseling before and after the decision is crucial.\n",
      "*   **Emotional Biases:** Understand that grief, fear, and personal attachments can significantly cloud judgment.  It's essential to identify and acknowledge these biases to ensure a more rational and ethical decision.\n",
      "*   **Guilt and Regret:**  Any decision will likely result in guilt and regret.  Preparing the decision-makers for this possibility and providing strategies for coping with these emotions is necessary.\n",
      "\n",
      "**4. Facilitate a Deliberative Process:**\n",
      "\n",
      "*   **Open Dialogue:** Encourage open and honest communication between the decision-makers, if possible.  They should share their perspectives, fears, and concerns.\n",
      "*   **Seek Counsel:** Consider consulting with ethicists, religious leaders, or other trusted advisors to gain different perspectives and guidance.\n",
      "*   **Structured Decision-Making:**  Implement a structured decision-making process to ensure all factors are considered systematically.  This might involve creating a pro/con list for each option, weighing the potential consequences, and identifying the ethical principles at stake.\n",
      "\n",
      "**5. Focus on Minimizing Harm and Justification:**\n",
      "\n",
      "*   **Explore Alternatives:** Before resorting to sacrificing one life, exhaust all other possible solutions.  Are there any creative alternatives that could save everyone?\n",
      "*   **Transparency and Justification:** The decision, whatever it may be, should be transparently justified based on the ethical framework and values that were prioritized.  The reasoning should be clear and defensible.\n",
      "*   **Accountability:** Acknowledge the consequences of the decision and take responsibility for the outcome.\n",
      "\n",
      "**6. Accept the Inherent Ambiguity and Imperfection:**\n",
      "\n",
      "*   **No Easy Answer:** Emphasize that there is no \"right\" answer in this situation. Any decision will have profound consequences and will likely be morally problematic.\n",
      "*   **Focus on the Process:**  The focus should be on making the most informed and ethically justifiable decision possible, given the circumstances.\n",
      "\n",
      "**In summary, my approach would involve gathering comprehensive information, exploring relevant ethical frameworks, acknowledging emotional factors, facilitating a deliberative process, and striving to minimize harm while justifying the decision based on prioritized values. This is an intensely difficult situation with no perfect solution, so the emphasis should be on responsible and compassionate decision-making.**\n",
      "\n",
      "Competitor: deepseek-chat\n",
      "\n",
      "Resolving a moral dilemma like the one you describe—where two individuals must decide whether to sacrifice one life to save five others—requires a nuanced approach that balances ethical principles, cultural context, emotional intelligence, and practical considerations. Here’s a structured way to approach it:\n",
      "\n",
      "### 1. **Define the Dilemma Clearly**\n",
      "   - **Scenario**: Is this a classic trolley problem (active intervention vs. passive acceptance), or does it involve more personal stakes (e.g., a medical triage or wartime decision)? Clarify the specifics.\n",
      "   - **Constraints**: Are there time pressures, resource limitations, or irreversible consequences? These shape the urgency and feasibility of options.\n",
      "\n",
      "### 2. **Explore Ethical Frameworks**\n",
      "   - **Utilitarianism**: Focus on the outcome—saving five at the cost of one may be justifiable as it maximizes overall well-being. But does this ignore the moral weight of actively causing harm?\n",
      "   - **Deontological Ethics**: Prioritize duty (e.g., \"do not kill\"). Sacrificing one violates a moral rule, regardless of consequences. How do the individuals perceive their responsibilities?\n",
      "   - **Virtue Ethics**: What would a compassionate, courageous, or wise person do? Emphasizes character over rules or outcomes.\n",
      "   - **Rights-Based Ethics**: Does sacrificing one violate inherent rights (e.g., the right to life)? Are the five’s rights more important?\n",
      "\n",
      "### 3. **Cultural Considerations**\n",
      "   - **Collectivist vs. Individualist Cultures**: In collectivist societies, the group’s welfare might outweigh individual sacrifice, whereas individualist cultures may prioritize personal autonomy.\n",
      "   - **Religious/Philosophical Beliefs**: Some traditions sanctify all life (e.g., Jainism’s ahimsa), while others permit sacrifice for greater good (e.g., just war theory).\n",
      "   - **Local Norms**: Are there precedents or community values that guide such decisions? For example, wartime triage protocols or medical ethics standards.\n",
      "\n",
      "### 4. **Emotional and Psychological Factors**\n",
      "   - **Empathy and Guilt**: The emotional toll of actively causing harm (even for a \"good\" reason) may be unbearable for some. Passive vs. active harm feels different psychologically.\n",
      "   - **Personal Relationships**: If the one sacrificed is a loved one vs. a stranger, emotions may override utilitarian logic.\n",
      "   - **Moral Distress**: Could the decision lead to long-term trauma or regret? Emotional resilience matters.\n",
      "\n",
      "### 5. **Practical and Contextual Factors**\n",
      "   - **Feasibility**: Can the sacrifice actually save the five? Uncertainty about outcomes complicates the decision.\n",
      "   - **Alternatives**: Is there a third way (e.g., finding a way to save all, or minimizing harm differently)? Creativity matters.\n",
      "   - **Power Dynamics**: Who has agency in the decision? Is one individual being coerced or bearing unequal responsibility?\n",
      "\n",
      "### 6. **Dialogue and Consensus-Building**\n",
      "   - **Open Communication**: Encourage the two individuals to share their values, fears, and reasoning. Listen without judgment.\n",
      "   - **Mediation**: If cultural/ethical views clash, a neutral party could help find common ground or compromise.\n",
      "   - **Procedural Fairness**: Even if disagreement persists, ensure the decision-making process feels fair (e.g., voting,轮流发言).\n",
      "\n",
      "### 7. **Post-Decision Reflection**\n",
      "   - **Accountability**: Can the decision be justified to others (e.g., the public, future generations)?\n",
      "   - **Learning**: Use the dilemma to refine ethical guidelines or policies for future scenarios.\n",
      "\n",
      "### Example Application:\n",
      "Imagine two doctors in a resource-limited hospital must decide whether to divert a ventilator from one dying patient (who will likely not survive) to five others who could recover.  \n",
      "- **Utilitarian**: Save five.  \n",
      "- **Deontological**: Never abandon a patient under care.  \n",
      "- **Cultural**: In some cultures, elders might be prioritized; in others, healthcare is strictly first-come, first-served.  \n",
      "- **Emotional**: The guilt of \"playing God\" may haunt the doctors.  \n",
      "- **Solution**: They might seek a transparent triage protocol (pre-established rules) to depersonalize the decision and reduce bias.\n",
      "\n",
      "### Final Thought:\n",
      "There’s rarely a perfect answer, but a thoughtful process—one that honors ethics, humanity, and context—can lead to the most defensible choice. The goal is to minimize harm while preserving moral integrity.\n"
     ]
    }
   ],
   "source": [
    "# It's nice to know how to use \"zip\"\n",
    "for competitor, answer in zip(competitors, answers):\n",
    "    print(f\"Competitor: {competitor}\\n\\n{answer}\")\n"
   ]
  },
  {
   "cell_type": "code",
   "execution_count": 14,
   "metadata": {},
   "outputs": [],
   "source": [
    "# Let's bring this together - note the use of \"enumerate\"\n",
    "\n",
    "together = \"\"\n",
    "for index, answer in enumerate(answers):\n",
    "    together += f\"# Response from competitor {index+1}\\n\\n\"\n",
    "    together += answer + \"\\n\\n\""
   ]
  },
  {
   "cell_type": "code",
   "execution_count": 15,
   "metadata": {},
   "outputs": [
    {
     "name": "stdout",
     "output_type": "stream",
     "text": [
      "# Response from competitor 1\n",
      "\n",
      "Resolving a moral dilemma such as sacrificing one life to save five others requires a nuanced approach that considers various factors, including ethical theories, cultural context, and emotional aspects. Here’s a structured way to approach this situation:\n",
      "\n",
      "### 1. **Identify the Ethical Frameworks**\n",
      "   - **Utilitarianism**: This perspective evaluates actions based on the outcome. A utilitarian approach would prioritize the option that maximizes overall happiness or minimizes suffering. In this case, sacrificing one life to save five could be justified.\n",
      "   - **Deontological Ethics**: From a deontological standpoint, certain actions are intrinsically right or wrong regardless of their consequences. Under this framework, sacrificing an individual might be considered morally wrong, as it treats that person merely as a means to an end.\n",
      "   - **Virtue Ethics**: This emphasizes the character and intentions of the decision-makers. Would a virtuous person choose to sacrifice one for five? This approach could lead to different conclusions based on what values the decision-makers hold.\n",
      "\n",
      "### 2. **Cultural Considerations**\n",
      "   - Different cultures have varying beliefs about the sanctity of life, community welfare, and individual rights. Some cultures might prioritize the greater good and endorse sacrificing one for many, while others might uphold individual rights and reject any form of sacrifice.\n",
      "   - Understanding the cultural context of the individuals involved is crucial in assessing how they might view this dilemma. Engaging with cultural leaders or community values may provide deeper insights.\n",
      "\n",
      "### 3. **Emotional Factors**\n",
      "   - Emotions play a significant role in moral dilemmas. The individuals involved may have personal connections, fears, or hopes tied to the lives at stake. Assessing emotional responses can provide insight into the values and motivations of those making the decision.\n",
      "   - Consider possible grief, guilt, or regret that could arise from either decision. Engaging in discussions about these emotional impacts can help clarify priorities.\n",
      "\n",
      "### 4. **Dialogue and Inclusive Decision-Making**\n",
      "   - Encourage open dialogue among all parties affected by the decision. This can include the families of those involved, community members, and ethical stakeholders.\n",
      "   - Aim for a consensus or compromise where possible. Including diverse perspectives can lead to more empathetic and comprehensive solutions, and it can also alleviate the burden on any single decision-maker.\n",
      "\n",
      "### 5. **Explore Alternative Solutions**\n",
      "   - Investigate whether there are alternatives that could save both parties or mitigate harm. This might involve creative problem-solving, resource allocation, or different strategies that don't require sacrificing one life for others.\n",
      "\n",
      "### 6. **Long-Term Consequences**\n",
      "   - Consider the long-term implications of the decision. How would each choice impact the community, the relationships between individuals, and societal values?\n",
      "   - A decision rooted in a strong ethical framework can set precedents for future dilemmas and influence how similar situations are viewed and handled.\n",
      "\n",
      "### 7. **Documentation and Reflection**\n",
      "   - Document the decision-making process, including the reasoning behind the chosen action. Reflection on this case may provide insights that impact future moral dilemmas.\n",
      "\n",
      "### Conclusion\n",
      "Ultimately, there is no definitive right or wrong answer in such dilemmas, as they often depend on the values and circumstances surrounding the individuals involved. By carefully considering the ethical models, cultural influences, emotional responses, and exploring dialogue and alternatives, a more informed and compassionate decision can be reached.\n",
      "\n",
      "# Response from competitor 2\n",
      "\n",
      "Resolving this kind of moral dilemma requires a multi-faceted approach, considering various ethical frameworks, cultural nuances, and emotional responses. Here's a breakdown of how I'd approach it:\n",
      "\n",
      "**1. Understand the Context and Gather Information:**\n",
      "\n",
      "*   **Detailed Scenario:**  A precise understanding of the situation is crucial.  Who are the individuals involved (age, health, skills, relationships)?  What are the circumstances that led to this dilemma?  Are there any other potential options, even improbable ones?\n",
      "*   **Cultural Backgrounds:** Identify the cultural backgrounds of both individuals making the decision and the potential victim/saved individuals. Culture deeply influences moral values and decision-making processes. Some cultures might prioritize collective good over individual rights, while others champion individual autonomy. Understanding these nuances is critical.\n",
      "*   **Relationship Dynamics:** Are the decision-makers related to the people at risk? Are there existing conflicts or biases that could influence their choices? Knowing the relationships helps to anticipate potential emotional biases.\n",
      "\n",
      "**2. Explore Ethical Frameworks:**\n",
      "\n",
      "*   **Utilitarianism:** This framework focuses on maximizing overall happiness or well-being.  The utilitarian approach would likely favor sacrificing one life to save five, as it results in a net gain of four lives.  However, it must consider the *quality* of those lives – are the five incapacitated in a way that negates the benefit?\n",
      "*   **Deontology (Duty-Based Ethics):** This approach emphasizes moral duties and rules.  It might argue that it is inherently wrong to kill, regardless of the potential consequences.  Deontology might forbid actively causing the death of one person, even to save others. It would focus on the *act* itself, not the outcome.\n",
      "*   **Virtue Ethics:** This framework centers on character and virtues.  It asks what a virtuous person would do in this situation.  Courage, compassion, wisdom, and justice would all be relevant. A virtue ethicist might consider the long-term effects on the decision-makers' character and how this choice might shape their future actions.\n",
      "*   **Care Ethics:** Emphasizes relationships, empathy, and the needs of those involved. It would focus on the potential for harm and the responsibility of care. Care ethics might be highly influenced by the specific relationships between the individuals involved. It would prioritize minimizing harm and nurturing relationships, even if it means sacrificing a seemingly 'greater good' calculated by utilitarian standards.\n",
      "\n",
      "**3. Consider the Emotional Impact:**\n",
      "\n",
      "*   **Psychological Stress:** Acknowledge the immense psychological pressure and trauma the decision-makers will face regardless of their choice. This stress can impair their judgment and lead to long-term mental health issues.  Providing support and counseling before and after the decision is crucial.\n",
      "*   **Emotional Biases:** Understand that grief, fear, and personal attachments can significantly cloud judgment.  It's essential to identify and acknowledge these biases to ensure a more rational and ethical decision.\n",
      "*   **Guilt and Regret:**  Any decision will likely result in guilt and regret.  Preparing the decision-makers for this possibility and providing strategies for coping with these emotions is necessary.\n",
      "\n",
      "**4. Facilitate a Deliberative Process:**\n",
      "\n",
      "*   **Open Dialogue:** Encourage open and honest communication between the decision-makers, if possible.  They should share their perspectives, fears, and concerns.\n",
      "*   **Seek Counsel:** Consider consulting with ethicists, religious leaders, or other trusted advisors to gain different perspectives and guidance.\n",
      "*   **Structured Decision-Making:**  Implement a structured decision-making process to ensure all factors are considered systematically.  This might involve creating a pro/con list for each option, weighing the potential consequences, and identifying the ethical principles at stake.\n",
      "\n",
      "**5. Focus on Minimizing Harm and Justification:**\n",
      "\n",
      "*   **Explore Alternatives:** Before resorting to sacrificing one life, exhaust all other possible solutions.  Are there any creative alternatives that could save everyone?\n",
      "*   **Transparency and Justification:** The decision, whatever it may be, should be transparently justified based on the ethical framework and values that were prioritized.  The reasoning should be clear and defensible.\n",
      "*   **Accountability:** Acknowledge the consequences of the decision and take responsibility for the outcome.\n",
      "\n",
      "**6. Accept the Inherent Ambiguity and Imperfection:**\n",
      "\n",
      "*   **No Easy Answer:** Emphasize that there is no \"right\" answer in this situation. Any decision will have profound consequences and will likely be morally problematic.\n",
      "*   **Focus on the Process:**  The focus should be on making the most informed and ethically justifiable decision possible, given the circumstances.\n",
      "\n",
      "**In summary, my approach would involve gathering comprehensive information, exploring relevant ethical frameworks, acknowledging emotional factors, facilitating a deliberative process, and striving to minimize harm while justifying the decision based on prioritized values. This is an intensely difficult situation with no perfect solution, so the emphasis should be on responsible and compassionate decision-making.**\n",
      "\n",
      "\n",
      "# Response from competitor 3\n",
      "\n",
      "Resolving a moral dilemma like the one you describe—where two individuals must decide whether to sacrifice one life to save five others—requires a nuanced approach that balances ethical principles, cultural context, emotional intelligence, and practical considerations. Here’s a structured way to approach it:\n",
      "\n",
      "### 1. **Define the Dilemma Clearly**\n",
      "   - **Scenario**: Is this a classic trolley problem (active intervention vs. passive acceptance), or does it involve more personal stakes (e.g., a medical triage or wartime decision)? Clarify the specifics.\n",
      "   - **Constraints**: Are there time pressures, resource limitations, or irreversible consequences? These shape the urgency and feasibility of options.\n",
      "\n",
      "### 2. **Explore Ethical Frameworks**\n",
      "   - **Utilitarianism**: Focus on the outcome—saving five at the cost of one may be justifiable as it maximizes overall well-being. But does this ignore the moral weight of actively causing harm?\n",
      "   - **Deontological Ethics**: Prioritize duty (e.g., \"do not kill\"). Sacrificing one violates a moral rule, regardless of consequences. How do the individuals perceive their responsibilities?\n",
      "   - **Virtue Ethics**: What would a compassionate, courageous, or wise person do? Emphasizes character over rules or outcomes.\n",
      "   - **Rights-Based Ethics**: Does sacrificing one violate inherent rights (e.g., the right to life)? Are the five’s rights more important?\n",
      "\n",
      "### 3. **Cultural Considerations**\n",
      "   - **Collectivist vs. Individualist Cultures**: In collectivist societies, the group’s welfare might outweigh individual sacrifice, whereas individualist cultures may prioritize personal autonomy.\n",
      "   - **Religious/Philosophical Beliefs**: Some traditions sanctify all life (e.g., Jainism’s ahimsa), while others permit sacrifice for greater good (e.g., just war theory).\n",
      "   - **Local Norms**: Are there precedents or community values that guide such decisions? For example, wartime triage protocols or medical ethics standards.\n",
      "\n",
      "### 4. **Emotional and Psychological Factors**\n",
      "   - **Empathy and Guilt**: The emotional toll of actively causing harm (even for a \"good\" reason) may be unbearable for some. Passive vs. active harm feels different psychologically.\n",
      "   - **Personal Relationships**: If the one sacrificed is a loved one vs. a stranger, emotions may override utilitarian logic.\n",
      "   - **Moral Distress**: Could the decision lead to long-term trauma or regret? Emotional resilience matters.\n",
      "\n",
      "### 5. **Practical and Contextual Factors**\n",
      "   - **Feasibility**: Can the sacrifice actually save the five? Uncertainty about outcomes complicates the decision.\n",
      "   - **Alternatives**: Is there a third way (e.g., finding a way to save all, or minimizing harm differently)? Creativity matters.\n",
      "   - **Power Dynamics**: Who has agency in the decision? Is one individual being coerced or bearing unequal responsibility?\n",
      "\n",
      "### 6. **Dialogue and Consensus-Building**\n",
      "   - **Open Communication**: Encourage the two individuals to share their values, fears, and reasoning. Listen without judgment.\n",
      "   - **Mediation**: If cultural/ethical views clash, a neutral party could help find common ground or compromise.\n",
      "   - **Procedural Fairness**: Even if disagreement persists, ensure the decision-making process feels fair (e.g., voting,轮流发言).\n",
      "\n",
      "### 7. **Post-Decision Reflection**\n",
      "   - **Accountability**: Can the decision be justified to others (e.g., the public, future generations)?\n",
      "   - **Learning**: Use the dilemma to refine ethical guidelines or policies for future scenarios.\n",
      "\n",
      "### Example Application:\n",
      "Imagine two doctors in a resource-limited hospital must decide whether to divert a ventilator from one dying patient (who will likely not survive) to five others who could recover.  \n",
      "- **Utilitarian**: Save five.  \n",
      "- **Deontological**: Never abandon a patient under care.  \n",
      "- **Cultural**: In some cultures, elders might be prioritized; in others, healthcare is strictly first-come, first-served.  \n",
      "- **Emotional**: The guilt of \"playing God\" may haunt the doctors.  \n",
      "- **Solution**: They might seek a transparent triage protocol (pre-established rules) to depersonalize the decision and reduce bias.\n",
      "\n",
      "### Final Thought:\n",
      "There’s rarely a perfect answer, but a thoughtful process—one that honors ethics, humanity, and context—can lead to the most defensible choice. The goal is to minimize harm while preserving moral integrity.\n",
      "\n",
      "\n"
     ]
    }
   ],
   "source": [
    "print(together)"
   ]
  },
  {
   "cell_type": "code",
   "execution_count": 16,
   "metadata": {},
   "outputs": [
    {
     "data": {
      "text/plain": [
       "3"
      ]
     },
     "execution_count": 16,
     "metadata": {},
     "output_type": "execute_result"
    }
   ],
   "source": [
    "len(competitors)"
   ]
  },
  {
   "cell_type": "code",
   "execution_count": 17,
   "metadata": {},
   "outputs": [],
   "source": [
    "judge = f\"\"\"You are judging a competition between {len(competitors)} competitors.\n",
    "Each model has been given this question:\n",
    "\n",
    "{question}\n",
    "\n",
    "Your job is to evaluate each response for clarity and strength of argument, and rank them in order of best to worst.\n",
    "Respond with JSON, and only JSON, with the following format:\n",
    "{{\"results\": [\"best competitor number\", \"second best competitor number\", \"third best competitor number\"]}}\n",
    "\n",
    "Here are the responses from each competitor:\n",
    "\n",
    "{together}\n",
    "\n",
    "Now respond with the JSON with the ranked order of the competitors, nothing else. Do not include markdown formatting or code blocks.\"\"\"\n"
   ]
  },
  {
   "cell_type": "code",
   "execution_count": 18,
   "metadata": {},
   "outputs": [
    {
     "name": "stdout",
     "output_type": "stream",
     "text": [
      "You are judging a competition between 3 competitors.\n",
      "Each model has been given this question:\n",
      "\n",
      "How would you approach resolving a moral dilemma in which two individuals must decide whether to sacrifice one life to save five others, while considering cultural, ethical, and emotional factors that might influence their decision?\n",
      "\n",
      "Your job is to evaluate each response for clarity and strength of argument, and rank them in order of best to worst.\n",
      "Respond with JSON, and only JSON, with the following format:\n",
      "{\"results\": [\"best competitor number\", \"second best competitor number\", \"third best competitor number\"]}\n",
      "\n",
      "Here are the responses from each competitor:\n",
      "\n",
      "# Response from competitor 1\n",
      "\n",
      "Resolving a moral dilemma such as sacrificing one life to save five others requires a nuanced approach that considers various factors, including ethical theories, cultural context, and emotional aspects. Here’s a structured way to approach this situation:\n",
      "\n",
      "### 1. **Identify the Ethical Frameworks**\n",
      "   - **Utilitarianism**: This perspective evaluates actions based on the outcome. A utilitarian approach would prioritize the option that maximizes overall happiness or minimizes suffering. In this case, sacrificing one life to save five could be justified.\n",
      "   - **Deontological Ethics**: From a deontological standpoint, certain actions are intrinsically right or wrong regardless of their consequences. Under this framework, sacrificing an individual might be considered morally wrong, as it treats that person merely as a means to an end.\n",
      "   - **Virtue Ethics**: This emphasizes the character and intentions of the decision-makers. Would a virtuous person choose to sacrifice one for five? This approach could lead to different conclusions based on what values the decision-makers hold.\n",
      "\n",
      "### 2. **Cultural Considerations**\n",
      "   - Different cultures have varying beliefs about the sanctity of life, community welfare, and individual rights. Some cultures might prioritize the greater good and endorse sacrificing one for many, while others might uphold individual rights and reject any form of sacrifice.\n",
      "   - Understanding the cultural context of the individuals involved is crucial in assessing how they might view this dilemma. Engaging with cultural leaders or community values may provide deeper insights.\n",
      "\n",
      "### 3. **Emotional Factors**\n",
      "   - Emotions play a significant role in moral dilemmas. The individuals involved may have personal connections, fears, or hopes tied to the lives at stake. Assessing emotional responses can provide insight into the values and motivations of those making the decision.\n",
      "   - Consider possible grief, guilt, or regret that could arise from either decision. Engaging in discussions about these emotional impacts can help clarify priorities.\n",
      "\n",
      "### 4. **Dialogue and Inclusive Decision-Making**\n",
      "   - Encourage open dialogue among all parties affected by the decision. This can include the families of those involved, community members, and ethical stakeholders.\n",
      "   - Aim for a consensus or compromise where possible. Including diverse perspectives can lead to more empathetic and comprehensive solutions, and it can also alleviate the burden on any single decision-maker.\n",
      "\n",
      "### 5. **Explore Alternative Solutions**\n",
      "   - Investigate whether there are alternatives that could save both parties or mitigate harm. This might involve creative problem-solving, resource allocation, or different strategies that don't require sacrificing one life for others.\n",
      "\n",
      "### 6. **Long-Term Consequences**\n",
      "   - Consider the long-term implications of the decision. How would each choice impact the community, the relationships between individuals, and societal values?\n",
      "   - A decision rooted in a strong ethical framework can set precedents for future dilemmas and influence how similar situations are viewed and handled.\n",
      "\n",
      "### 7. **Documentation and Reflection**\n",
      "   - Document the decision-making process, including the reasoning behind the chosen action. Reflection on this case may provide insights that impact future moral dilemmas.\n",
      "\n",
      "### Conclusion\n",
      "Ultimately, there is no definitive right or wrong answer in such dilemmas, as they often depend on the values and circumstances surrounding the individuals involved. By carefully considering the ethical models, cultural influences, emotional responses, and exploring dialogue and alternatives, a more informed and compassionate decision can be reached.\n",
      "\n",
      "# Response from competitor 2\n",
      "\n",
      "Resolving this kind of moral dilemma requires a multi-faceted approach, considering various ethical frameworks, cultural nuances, and emotional responses. Here's a breakdown of how I'd approach it:\n",
      "\n",
      "**1. Understand the Context and Gather Information:**\n",
      "\n",
      "*   **Detailed Scenario:**  A precise understanding of the situation is crucial.  Who are the individuals involved (age, health, skills, relationships)?  What are the circumstances that led to this dilemma?  Are there any other potential options, even improbable ones?\n",
      "*   **Cultural Backgrounds:** Identify the cultural backgrounds of both individuals making the decision and the potential victim/saved individuals. Culture deeply influences moral values and decision-making processes. Some cultures might prioritize collective good over individual rights, while others champion individual autonomy. Understanding these nuances is critical.\n",
      "*   **Relationship Dynamics:** Are the decision-makers related to the people at risk? Are there existing conflicts or biases that could influence their choices? Knowing the relationships helps to anticipate potential emotional biases.\n",
      "\n",
      "**2. Explore Ethical Frameworks:**\n",
      "\n",
      "*   **Utilitarianism:** This framework focuses on maximizing overall happiness or well-being.  The utilitarian approach would likely favor sacrificing one life to save five, as it results in a net gain of four lives.  However, it must consider the *quality* of those lives – are the five incapacitated in a way that negates the benefit?\n",
      "*   **Deontology (Duty-Based Ethics):** This approach emphasizes moral duties and rules.  It might argue that it is inherently wrong to kill, regardless of the potential consequences.  Deontology might forbid actively causing the death of one person, even to save others. It would focus on the *act* itself, not the outcome.\n",
      "*   **Virtue Ethics:** This framework centers on character and virtues.  It asks what a virtuous person would do in this situation.  Courage, compassion, wisdom, and justice would all be relevant. A virtue ethicist might consider the long-term effects on the decision-makers' character and how this choice might shape their future actions.\n",
      "*   **Care Ethics:** Emphasizes relationships, empathy, and the needs of those involved. It would focus on the potential for harm and the responsibility of care. Care ethics might be highly influenced by the specific relationships between the individuals involved. It would prioritize minimizing harm and nurturing relationships, even if it means sacrificing a seemingly 'greater good' calculated by utilitarian standards.\n",
      "\n",
      "**3. Consider the Emotional Impact:**\n",
      "\n",
      "*   **Psychological Stress:** Acknowledge the immense psychological pressure and trauma the decision-makers will face regardless of their choice. This stress can impair their judgment and lead to long-term mental health issues.  Providing support and counseling before and after the decision is crucial.\n",
      "*   **Emotional Biases:** Understand that grief, fear, and personal attachments can significantly cloud judgment.  It's essential to identify and acknowledge these biases to ensure a more rational and ethical decision.\n",
      "*   **Guilt and Regret:**  Any decision will likely result in guilt and regret.  Preparing the decision-makers for this possibility and providing strategies for coping with these emotions is necessary.\n",
      "\n",
      "**4. Facilitate a Deliberative Process:**\n",
      "\n",
      "*   **Open Dialogue:** Encourage open and honest communication between the decision-makers, if possible.  They should share their perspectives, fears, and concerns.\n",
      "*   **Seek Counsel:** Consider consulting with ethicists, religious leaders, or other trusted advisors to gain different perspectives and guidance.\n",
      "*   **Structured Decision-Making:**  Implement a structured decision-making process to ensure all factors are considered systematically.  This might involve creating a pro/con list for each option, weighing the potential consequences, and identifying the ethical principles at stake.\n",
      "\n",
      "**5. Focus on Minimizing Harm and Justification:**\n",
      "\n",
      "*   **Explore Alternatives:** Before resorting to sacrificing one life, exhaust all other possible solutions.  Are there any creative alternatives that could save everyone?\n",
      "*   **Transparency and Justification:** The decision, whatever it may be, should be transparently justified based on the ethical framework and values that were prioritized.  The reasoning should be clear and defensible.\n",
      "*   **Accountability:** Acknowledge the consequences of the decision and take responsibility for the outcome.\n",
      "\n",
      "**6. Accept the Inherent Ambiguity and Imperfection:**\n",
      "\n",
      "*   **No Easy Answer:** Emphasize that there is no \"right\" answer in this situation. Any decision will have profound consequences and will likely be morally problematic.\n",
      "*   **Focus on the Process:**  The focus should be on making the most informed and ethically justifiable decision possible, given the circumstances.\n",
      "\n",
      "**In summary, my approach would involve gathering comprehensive information, exploring relevant ethical frameworks, acknowledging emotional factors, facilitating a deliberative process, and striving to minimize harm while justifying the decision based on prioritized values. This is an intensely difficult situation with no perfect solution, so the emphasis should be on responsible and compassionate decision-making.**\n",
      "\n",
      "\n",
      "# Response from competitor 3\n",
      "\n",
      "Resolving a moral dilemma like the one you describe—where two individuals must decide whether to sacrifice one life to save five others—requires a nuanced approach that balances ethical principles, cultural context, emotional intelligence, and practical considerations. Here’s a structured way to approach it:\n",
      "\n",
      "### 1. **Define the Dilemma Clearly**\n",
      "   - **Scenario**: Is this a classic trolley problem (active intervention vs. passive acceptance), or does it involve more personal stakes (e.g., a medical triage or wartime decision)? Clarify the specifics.\n",
      "   - **Constraints**: Are there time pressures, resource limitations, or irreversible consequences? These shape the urgency and feasibility of options.\n",
      "\n",
      "### 2. **Explore Ethical Frameworks**\n",
      "   - **Utilitarianism**: Focus on the outcome—saving five at the cost of one may be justifiable as it maximizes overall well-being. But does this ignore the moral weight of actively causing harm?\n",
      "   - **Deontological Ethics**: Prioritize duty (e.g., \"do not kill\"). Sacrificing one violates a moral rule, regardless of consequences. How do the individuals perceive their responsibilities?\n",
      "   - **Virtue Ethics**: What would a compassionate, courageous, or wise person do? Emphasizes character over rules or outcomes.\n",
      "   - **Rights-Based Ethics**: Does sacrificing one violate inherent rights (e.g., the right to life)? Are the five’s rights more important?\n",
      "\n",
      "### 3. **Cultural Considerations**\n",
      "   - **Collectivist vs. Individualist Cultures**: In collectivist societies, the group’s welfare might outweigh individual sacrifice, whereas individualist cultures may prioritize personal autonomy.\n",
      "   - **Religious/Philosophical Beliefs**: Some traditions sanctify all life (e.g., Jainism’s ahimsa), while others permit sacrifice for greater good (e.g., just war theory).\n",
      "   - **Local Norms**: Are there precedents or community values that guide such decisions? For example, wartime triage protocols or medical ethics standards.\n",
      "\n",
      "### 4. **Emotional and Psychological Factors**\n",
      "   - **Empathy and Guilt**: The emotional toll of actively causing harm (even for a \"good\" reason) may be unbearable for some. Passive vs. active harm feels different psychologically.\n",
      "   - **Personal Relationships**: If the one sacrificed is a loved one vs. a stranger, emotions may override utilitarian logic.\n",
      "   - **Moral Distress**: Could the decision lead to long-term trauma or regret? Emotional resilience matters.\n",
      "\n",
      "### 5. **Practical and Contextual Factors**\n",
      "   - **Feasibility**: Can the sacrifice actually save the five? Uncertainty about outcomes complicates the decision.\n",
      "   - **Alternatives**: Is there a third way (e.g., finding a way to save all, or minimizing harm differently)? Creativity matters.\n",
      "   - **Power Dynamics**: Who has agency in the decision? Is one individual being coerced or bearing unequal responsibility?\n",
      "\n",
      "### 6. **Dialogue and Consensus-Building**\n",
      "   - **Open Communication**: Encourage the two individuals to share their values, fears, and reasoning. Listen without judgment.\n",
      "   - **Mediation**: If cultural/ethical views clash, a neutral party could help find common ground or compromise.\n",
      "   - **Procedural Fairness**: Even if disagreement persists, ensure the decision-making process feels fair (e.g., voting,轮流发言).\n",
      "\n",
      "### 7. **Post-Decision Reflection**\n",
      "   - **Accountability**: Can the decision be justified to others (e.g., the public, future generations)?\n",
      "   - **Learning**: Use the dilemma to refine ethical guidelines or policies for future scenarios.\n",
      "\n",
      "### Example Application:\n",
      "Imagine two doctors in a resource-limited hospital must decide whether to divert a ventilator from one dying patient (who will likely not survive) to five others who could recover.  \n",
      "- **Utilitarian**: Save five.  \n",
      "- **Deontological**: Never abandon a patient under care.  \n",
      "- **Cultural**: In some cultures, elders might be prioritized; in others, healthcare is strictly first-come, first-served.  \n",
      "- **Emotional**: The guilt of \"playing God\" may haunt the doctors.  \n",
      "- **Solution**: They might seek a transparent triage protocol (pre-established rules) to depersonalize the decision and reduce bias.\n",
      "\n",
      "### Final Thought:\n",
      "There’s rarely a perfect answer, but a thoughtful process—one that honors ethics, humanity, and context—can lead to the most defensible choice. The goal is to minimize harm while preserving moral integrity.\n",
      "\n",
      "\n",
      "\n",
      "Now respond with the JSON with the ranked order of the competitors, nothing else. Do not include markdown formatting or code blocks.\n"
     ]
    }
   ],
   "source": [
    "print(judge)"
   ]
  },
  {
   "cell_type": "code",
   "execution_count": 19,
   "metadata": {},
   "outputs": [],
   "source": [
    "judge_messages = [{\"role\": \"user\", \"content\": judge}]"
   ]
  },
  {
   "cell_type": "code",
   "execution_count": 20,
   "metadata": {},
   "outputs": [
    {
     "name": "stdout",
     "output_type": "stream",
     "text": [
      "{\"results\": [\"2\", \"1\", \"3\"]}\n"
     ]
    }
   ],
   "source": [
    "# Judgement time!\n",
    "\n",
    "openai = OpenAI()\n",
    "response = openai.chat.completions.create(\n",
    "    model=\"o3-mini\",\n",
    "    messages=judge_messages,\n",
    ")\n",
    "results = response.choices[0].message.content\n",
    "print(results)\n"
   ]
  },
  {
   "cell_type": "code",
   "execution_count": 21,
   "metadata": {},
   "outputs": [],
   "source": [
    "results_dict = json.loads(results)"
   ]
  },
  {
   "cell_type": "code",
   "execution_count": 22,
   "metadata": {},
   "outputs": [
    {
     "data": {
      "text/plain": [
       "{'results': ['2', '1', '3']}"
      ]
     },
     "execution_count": 22,
     "metadata": {},
     "output_type": "execute_result"
    }
   ],
   "source": [
    "results_dict"
   ]
  },
  {
   "cell_type": "code",
   "execution_count": 23,
   "metadata": {},
   "outputs": [],
   "source": [
    "ranks = results_dict[\"results\"]"
   ]
  },
  {
   "cell_type": "code",
   "execution_count": 24,
   "metadata": {},
   "outputs": [
    {
     "data": {
      "text/plain": [
       "['2', '1', '3']"
      ]
     },
     "execution_count": 24,
     "metadata": {},
     "output_type": "execute_result"
    }
   ],
   "source": [
    "ranks"
   ]
  },
  {
   "cell_type": "code",
   "execution_count": 25,
   "metadata": {},
   "outputs": [
    {
     "data": {
      "text/plain": [
       "'{\"results\": [\"2\", \"1\", \"3\"]}'"
      ]
     },
     "execution_count": 25,
     "metadata": {},
     "output_type": "execute_result"
    }
   ],
   "source": [
    "results"
   ]
  },
  {
   "cell_type": "code",
   "execution_count": 27,
   "metadata": {},
   "outputs": [
    {
     "name": "stdout",
     "output_type": "stream",
     "text": [
      "Rank 1: gemini-2.0-flash\n",
      "Rank 2: gpt-4o-mini\n",
      "Rank 3: deepseek-chat\n"
     ]
    }
   ],
   "source": [
    "# OK let's turn this into results!\n",
    "\n",
    "results_dict = json.loads(results)\n",
    "ranks = results_dict[\"results\"]\n",
    "for index, rank in enumerate(ranks):\n",
    "    competitor = competitors[int(rank)-1]\n",
    "    print(f\"Rank {index+1}: {competitor}\")"
   ]
  },
  {
   "cell_type": "markdown",
   "metadata": {},
   "source": [
    "<table style=\"margin: 0; text-align: left; width:100%\">\n",
    "    <tr>\n",
    "        <td style=\"width: 150px; height: 150px; vertical-align: middle;\">\n",
    "            <img src=\"../assets/exercise.png\" width=\"150\" height=\"150\" style=\"display: block;\" />\n",
    "        </td>\n",
    "        <td>\n",
    "            <h2 style=\"color:#ff7800;\">Exercise</h2>\n",
    "            <span style=\"color:#ff7800;\">Which pattern(s) did this use? Try updating this to add another Agentic design pattern.\n",
    "            </span>\n",
    "        </td>\n",
    "    </tr>\n",
    "</table>"
   ]
  },
  {
   "cell_type": "markdown",
   "metadata": {},
   "source": [
    "<table style=\"margin: 0; text-align: left; width:100%\">\n",
    "    <tr>\n",
    "        <td style=\"width: 150px; height: 150px; vertical-align: middle;\">\n",
    "            <img src=\"../assets/business.png\" width=\"150\" height=\"150\" style=\"display: block;\" />\n",
    "        </td>\n",
    "        <td>\n",
    "            <h2 style=\"color:#00bfff;\">Commercial implications</h2>\n",
    "            <span style=\"color:#00bfff;\">These kinds of patterns - to send a task to multiple models, and evaluate results,\n",
    "            are common where you need to improve the quality of your LLM response. This approach can be universally applied\n",
    "            to business projects where accuracy is critical.\n",
    "            </span>\n",
    "        </td>\n",
    "    </tr>\n",
    "</table>"
   ]
  }
 ],
 "metadata": {
  "kernelspec": {
   "display_name": ".venv",
   "language": "python",
   "name": "python3"
  },
  "language_info": {
   "codemirror_mode": {
    "name": "ipython",
    "version": 3
   },
   "file_extension": ".py",
   "mimetype": "text/x-python",
   "name": "python",
   "nbconvert_exporter": "python",
   "pygments_lexer": "ipython3",
   "version": "3.12.11"
  }
 },
 "nbformat": 4,
 "nbformat_minor": 2
}
