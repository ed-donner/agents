{
 "cells": [
  {
   "cell_type": "markdown",
   "metadata": {},
   "source": [
    "## Welcome to the Second Lab - Week 1, Day 3\n",
    "\n",
    "Today we will work with lots of models! This is a way to get comfortable with APIs."
   ]
  },
  {
   "cell_type": "markdown",
   "metadata": {},
   "source": [
    "<table style=\"margin: 0; text-align: left; width:100%\">\n",
    "    <tr>\n",
    "        <td style=\"width: 150px; height: 150px; vertical-align: middle;\">\n",
    "            <img src=\"../assets/stop.png\" width=\"150\" height=\"150\" style=\"display: block;\" />\n",
    "        </td>\n",
    "        <td>\n",
    "            <h2 style=\"color:#ff7800;\">Important point - please read</h2>\n",
    "            <span style=\"color:#ff7800;\">The way I collaborate with you may be different to other courses you've taken. I prefer not to type code while you watch. Rather, I execute Jupyter Labs, like this, and give you an intuition for what's going on. My suggestion is that you carefully execute this yourself, <b>after</b> watching the lecture. Add print statements to understand what's going on, and then come up with your own variations.<br/><br/>If you have time, I'd love it if you submit a PR for changes in the community_contributions folder - instructions in the resources. Also, if you have a Github account, use this to showcase your variations. Not only is this essential practice, but it demonstrates your skills to others, including perhaps future clients or employers...\n",
    "            </span>\n",
    "        </td>\n",
    "    </tr>\n",
    "</table>"
   ]
  },
  {
   "cell_type": "code",
   "execution_count": 1,
   "metadata": {},
   "outputs": [],
   "source": [
    "# Start with imports - ask ChatGPT to explain any package that you don't know\n",
    "\n",
    "import os\n",
    "import json\n",
    "from dotenv import load_dotenv\n",
    "from openai import OpenAI\n",
    "from anthropic import Anthropic\n",
    "from IPython.display import Markdown, display"
   ]
  },
  {
   "cell_type": "code",
   "execution_count": 2,
   "metadata": {},
   "outputs": [
    {
     "data": {
      "text/plain": [
       "True"
      ]
     },
     "execution_count": 2,
     "metadata": {},
     "output_type": "execute_result"
    }
   ],
   "source": [
    "# Always remember to do this!\n",
    "load_dotenv(override=True)"
   ]
  },
  {
   "cell_type": "code",
   "execution_count": 3,
   "metadata": {},
   "outputs": [
    {
     "name": "stdout",
     "output_type": "stream",
     "text": [
      "Anthropic API Key exists and begins sk-ant-\n",
      "Google API Key exists and begins AI\n",
      "DeepSeek API Key exists and begins sk-\n",
      "Groq API Key exists and begins gsk_\n"
     ]
    }
   ],
   "source": [
    "# Print the key prefixes to help with any debugging\n",
    "\n",
    "# openai_api_key = os.getenv('OPENAI_API_KEY')\n",
    "anthropic_api_key = os.getenv('ANTHROPIC_API_KEY')\n",
    "google_api_key = os.getenv('GOOGLE_API_KEY')\n",
    "deepseek_api_key = os.getenv('DEEPSEEK_API_KEY')\n",
    "groq_api_key = os.getenv('GROQ_API_KEY')\n",
    "\n",
    "# if openai_api_key:\n",
    "    # print(f\"OpenAI API Key exists and begins {openai_api_key[:8]}\")\n",
    "# else:\n",
    "    # print(\"OpenAI API Key not set\")\n",
    "    \n",
    "if anthropic_api_key:\n",
    "    print(f\"Anthropic API Key exists and begins {anthropic_api_key[:7]}\")\n",
    "else:\n",
    "    print(\"Anthropic API Key not set (and this is optional)\")\n",
    "\n",
    "if google_api_key:\n",
    "    print(f\"Google API Key exists and begins {google_api_key[:2]}\")\n",
    "else:\n",
    "    print(\"Google API Key not set (and this is optional)\")\n",
    "\n",
    "if deepseek_api_key:\n",
    "    print(f\"DeepSeek API Key exists and begins {deepseek_api_key[:3]}\")\n",
    "else:\n",
    "    print(\"DeepSeek API Key not set (and this is optional)\")\n",
    "\n",
    "if groq_api_key:\n",
    "    print(f\"Groq API Key exists and begins {groq_api_key[:4]}\")\n",
    "else:\n",
    "    print(\"Groq API Key not set (and this is optional)\")"
   ]
  },
  {
   "cell_type": "code",
   "execution_count": 4,
   "metadata": {},
   "outputs": [],
   "source": [
    "request = \"Please come up with a challenging, nuanced question that I can ask a number of LLMs to evaluate their intelligence. \"\n",
    "request += \"Answer only with the question, no explanation.\"\n",
    "messages = [{\"role\": \"user\", \"content\": request}]"
   ]
  },
  {
   "cell_type": "code",
   "execution_count": 5,
   "metadata": {},
   "outputs": [
    {
     "data": {
      "text/plain": [
       "[{'role': 'user',\n",
       "  'content': 'Please come up with a challenging, nuanced question that I can ask a number of LLMs to evaluate their intelligence. Answer only with the question, no explanation.'}]"
      ]
     },
     "execution_count": 5,
     "metadata": {},
     "output_type": "execute_result"
    }
   ],
   "source": [
    "messages"
   ]
  },
  {
   "cell_type": "code",
   "execution_count": 6,
   "metadata": {},
   "outputs": [
    {
     "name": "stdout",
     "output_type": "stream",
     "text": [
      "Considering the inherent trade-offs in any complex system, if you had to design a society that maximized individual freedom and minimized collective suffering, what fundamental principle or rule would you prioritize above all others, and what would be the most significant, unavoidable negative consequence of enshrining that principle?\n"
     ]
    }
   ],
   "source": [
    "\n",
    "\n",
    "DEEPSEEK_BASE_URL = \"https://api.deepseek.com/v1\"\n",
    "deepseek_api_key = os.getenv(\"DEEPSEEK_API_KEY\")\n",
    "deepseek = OpenAI(base_url=DEEPSEEK_BASE_URL, api_key=deepseek_api_key)\n",
    "response = deepseek.chat.completions.create(model=\"deepseek-chat\", messages=messages)\n",
    "question = response.choices[0].message.content\n",
    "print(question)\n",
    "\n"
   ]
  },
  {
   "cell_type": "code",
   "execution_count": 7,
   "metadata": {},
   "outputs": [],
   "source": [
    "competitors = []\n",
    "answers = []\n",
    "messages = [{\"role\": \"user\", \"content\": question}]"
   ]
  },
  {
   "cell_type": "code",
   "execution_count": null,
   "metadata": {},
   "outputs": [],
   "source": [
    "# The API we know well\n",
    "\n",
    "model_name = \"gpt-4o-mini\"\n",
    "\n",
    "response = openai.chat.completions.create(model=model_name, messages=messages)\n",
    "answer = response.choices[0].message.content\n",
    "\n",
    "display(Markdown(answer))\n",
    "competitors.append(model_name)\n",
    "answers.append(answer)"
   ]
  },
  {
   "cell_type": "code",
   "execution_count": 26,
   "metadata": {},
   "outputs": [
    {
     "ename": "BadRequestError",
     "evalue": "Error code: 400 - {'type': 'error', 'error': {'type': 'invalid_request_error', 'message': 'Your credit balance is too low to access the Anthropic API. Please go to Plans & Billing to upgrade or purchase credits.'}, 'request_id': 'req_011CTnJfUwhcrdXAWeMKWgur'}",
     "output_type": "error",
     "traceback": [
      "\u001b[31m---------------------------------------------------------------------------\u001b[39m",
      "\u001b[31mBadRequestError\u001b[39m                           Traceback (most recent call last)",
      "\u001b[36mCell\u001b[39m\u001b[36m \u001b[39m\u001b[32mIn[26]\u001b[39m\u001b[32m, line 6\u001b[39m\n\u001b[32m      3\u001b[39m model_name = \u001b[33m\"\u001b[39m\u001b[33mclaude-3-5-sonnet-latest\u001b[39m\u001b[33m\"\u001b[39m\n\u001b[32m      5\u001b[39m claude = Anthropic()\n\u001b[32m----> \u001b[39m\u001b[32m6\u001b[39m response = \u001b[43mclaude\u001b[49m\u001b[43m.\u001b[49m\u001b[43mmessages\u001b[49m\u001b[43m.\u001b[49m\u001b[43mcreate\u001b[49m\u001b[43m(\u001b[49m\u001b[43mmodel\u001b[49m\u001b[43m=\u001b[49m\u001b[43mmodel_name\u001b[49m\u001b[43m,\u001b[49m\u001b[43m \u001b[49m\u001b[43mmessages\u001b[49m\u001b[43m=\u001b[49m\u001b[43mmessages\u001b[49m\u001b[43m,\u001b[49m\u001b[43m \u001b[49m\u001b[43mmax_tokens\u001b[49m\u001b[43m=\u001b[49m\u001b[32;43m1000\u001b[39;49m\u001b[43m)\u001b[49m\n\u001b[32m      7\u001b[39m answer = response.content[\u001b[32m0\u001b[39m].text\n\u001b[32m      9\u001b[39m display(Markdown(answer))\n",
      "\u001b[36mFile \u001b[39m\u001b[32mc:\\Users\\shpat\\Projects\\agents-ai-course\\.venv\\Lib\\site-packages\\anthropic\\_utils\\_utils.py:283\u001b[39m, in \u001b[36mrequired_args.<locals>.inner.<locals>.wrapper\u001b[39m\u001b[34m(*args, **kwargs)\u001b[39m\n\u001b[32m    281\u001b[39m             msg = \u001b[33mf\u001b[39m\u001b[33m\"\u001b[39m\u001b[33mMissing required argument: \u001b[39m\u001b[38;5;132;01m{\u001b[39;00mquote(missing[\u001b[32m0\u001b[39m])\u001b[38;5;132;01m}\u001b[39;00m\u001b[33m\"\u001b[39m\n\u001b[32m    282\u001b[39m     \u001b[38;5;28;01mraise\u001b[39;00m \u001b[38;5;167;01mTypeError\u001b[39;00m(msg)\n\u001b[32m--> \u001b[39m\u001b[32m283\u001b[39m \u001b[38;5;28;01mreturn\u001b[39;00m \u001b[43mfunc\u001b[49m\u001b[43m(\u001b[49m\u001b[43m*\u001b[49m\u001b[43margs\u001b[49m\u001b[43m,\u001b[49m\u001b[43m \u001b[49m\u001b[43m*\u001b[49m\u001b[43m*\u001b[49m\u001b[43mkwargs\u001b[49m\u001b[43m)\u001b[49m\n",
      "\u001b[36mFile \u001b[39m\u001b[32mc:\\Users\\shpat\\Projects\\agents-ai-course\\.venv\\Lib\\site-packages\\anthropic\\resources\\messages\\messages.py:978\u001b[39m, in \u001b[36mMessages.create\u001b[39m\u001b[34m(self, max_tokens, messages, model, metadata, service_tier, stop_sequences, stream, system, temperature, thinking, tool_choice, tools, top_k, top_p, extra_headers, extra_query, extra_body, timeout)\u001b[39m\n\u001b[32m    971\u001b[39m \u001b[38;5;28;01mif\u001b[39;00m model \u001b[38;5;129;01min\u001b[39;00m DEPRECATED_MODELS:\n\u001b[32m    972\u001b[39m     warnings.warn(\n\u001b[32m    973\u001b[39m         \u001b[33mf\u001b[39m\u001b[33m\"\u001b[39m\u001b[33mThe model \u001b[39m\u001b[33m'\u001b[39m\u001b[38;5;132;01m{\u001b[39;00mmodel\u001b[38;5;132;01m}\u001b[39;00m\u001b[33m'\u001b[39m\u001b[33m is deprecated and will reach end-of-life on \u001b[39m\u001b[38;5;132;01m{\u001b[39;00mDEPRECATED_MODELS[model]\u001b[38;5;132;01m}\u001b[39;00m\u001b[33m.\u001b[39m\u001b[38;5;130;01m\\n\u001b[39;00m\u001b[33mPlease migrate to a newer model. Visit https://docs.anthropic.com/en/docs/resources/model-deprecations for more information.\u001b[39m\u001b[33m\"\u001b[39m,\n\u001b[32m    974\u001b[39m         \u001b[38;5;167;01mDeprecationWarning\u001b[39;00m,\n\u001b[32m    975\u001b[39m         stacklevel=\u001b[32m3\u001b[39m,\n\u001b[32m    976\u001b[39m     )\n\u001b[32m--> \u001b[39m\u001b[32m978\u001b[39m \u001b[38;5;28;01mreturn\u001b[39;00m \u001b[38;5;28;43mself\u001b[39;49m\u001b[43m.\u001b[49m\u001b[43m_post\u001b[49m\u001b[43m(\u001b[49m\n\u001b[32m    979\u001b[39m \u001b[43m    \u001b[49m\u001b[33;43m\"\u001b[39;49m\u001b[33;43m/v1/messages\u001b[39;49m\u001b[33;43m\"\u001b[39;49m\u001b[43m,\u001b[49m\n\u001b[32m    980\u001b[39m \u001b[43m    \u001b[49m\u001b[43mbody\u001b[49m\u001b[43m=\u001b[49m\u001b[43mmaybe_transform\u001b[49m\u001b[43m(\u001b[49m\n\u001b[32m    981\u001b[39m \u001b[43m        \u001b[49m\u001b[43m{\u001b[49m\n\u001b[32m    982\u001b[39m \u001b[43m            \u001b[49m\u001b[33;43m\"\u001b[39;49m\u001b[33;43mmax_tokens\u001b[39;49m\u001b[33;43m\"\u001b[39;49m\u001b[43m:\u001b[49m\u001b[43m \u001b[49m\u001b[43mmax_tokens\u001b[49m\u001b[43m,\u001b[49m\n\u001b[32m    983\u001b[39m \u001b[43m            \u001b[49m\u001b[33;43m\"\u001b[39;49m\u001b[33;43mmessages\u001b[39;49m\u001b[33;43m\"\u001b[39;49m\u001b[43m:\u001b[49m\u001b[43m \u001b[49m\u001b[43mmessages\u001b[49m\u001b[43m,\u001b[49m\n\u001b[32m    984\u001b[39m \u001b[43m            \u001b[49m\u001b[33;43m\"\u001b[39;49m\u001b[33;43mmodel\u001b[39;49m\u001b[33;43m\"\u001b[39;49m\u001b[43m:\u001b[49m\u001b[43m \u001b[49m\u001b[43mmodel\u001b[49m\u001b[43m,\u001b[49m\n\u001b[32m    985\u001b[39m \u001b[43m            \u001b[49m\u001b[33;43m\"\u001b[39;49m\u001b[33;43mmetadata\u001b[39;49m\u001b[33;43m\"\u001b[39;49m\u001b[43m:\u001b[49m\u001b[43m \u001b[49m\u001b[43mmetadata\u001b[49m\u001b[43m,\u001b[49m\n\u001b[32m    986\u001b[39m \u001b[43m            \u001b[49m\u001b[33;43m\"\u001b[39;49m\u001b[33;43mservice_tier\u001b[39;49m\u001b[33;43m\"\u001b[39;49m\u001b[43m:\u001b[49m\u001b[43m \u001b[49m\u001b[43mservice_tier\u001b[49m\u001b[43m,\u001b[49m\n\u001b[32m    987\u001b[39m \u001b[43m            \u001b[49m\u001b[33;43m\"\u001b[39;49m\u001b[33;43mstop_sequences\u001b[39;49m\u001b[33;43m\"\u001b[39;49m\u001b[43m:\u001b[49m\u001b[43m \u001b[49m\u001b[43mstop_sequences\u001b[49m\u001b[43m,\u001b[49m\n\u001b[32m    988\u001b[39m \u001b[43m            \u001b[49m\u001b[33;43m\"\u001b[39;49m\u001b[33;43mstream\u001b[39;49m\u001b[33;43m\"\u001b[39;49m\u001b[43m:\u001b[49m\u001b[43m \u001b[49m\u001b[43mstream\u001b[49m\u001b[43m,\u001b[49m\n\u001b[32m    989\u001b[39m \u001b[43m            \u001b[49m\u001b[33;43m\"\u001b[39;49m\u001b[33;43msystem\u001b[39;49m\u001b[33;43m\"\u001b[39;49m\u001b[43m:\u001b[49m\u001b[43m \u001b[49m\u001b[43msystem\u001b[49m\u001b[43m,\u001b[49m\n\u001b[32m    990\u001b[39m \u001b[43m            \u001b[49m\u001b[33;43m\"\u001b[39;49m\u001b[33;43mtemperature\u001b[39;49m\u001b[33;43m\"\u001b[39;49m\u001b[43m:\u001b[49m\u001b[43m \u001b[49m\u001b[43mtemperature\u001b[49m\u001b[43m,\u001b[49m\n\u001b[32m    991\u001b[39m \u001b[43m            \u001b[49m\u001b[33;43m\"\u001b[39;49m\u001b[33;43mthinking\u001b[39;49m\u001b[33;43m\"\u001b[39;49m\u001b[43m:\u001b[49m\u001b[43m \u001b[49m\u001b[43mthinking\u001b[49m\u001b[43m,\u001b[49m\n\u001b[32m    992\u001b[39m \u001b[43m            \u001b[49m\u001b[33;43m\"\u001b[39;49m\u001b[33;43mtool_choice\u001b[39;49m\u001b[33;43m\"\u001b[39;49m\u001b[43m:\u001b[49m\u001b[43m \u001b[49m\u001b[43mtool_choice\u001b[49m\u001b[43m,\u001b[49m\n\u001b[32m    993\u001b[39m \u001b[43m            \u001b[49m\u001b[33;43m\"\u001b[39;49m\u001b[33;43mtools\u001b[39;49m\u001b[33;43m\"\u001b[39;49m\u001b[43m:\u001b[49m\u001b[43m \u001b[49m\u001b[43mtools\u001b[49m\u001b[43m,\u001b[49m\n\u001b[32m    994\u001b[39m \u001b[43m            \u001b[49m\u001b[33;43m\"\u001b[39;49m\u001b[33;43mtop_k\u001b[39;49m\u001b[33;43m\"\u001b[39;49m\u001b[43m:\u001b[49m\u001b[43m \u001b[49m\u001b[43mtop_k\u001b[49m\u001b[43m,\u001b[49m\n\u001b[32m    995\u001b[39m \u001b[43m            \u001b[49m\u001b[33;43m\"\u001b[39;49m\u001b[33;43mtop_p\u001b[39;49m\u001b[33;43m\"\u001b[39;49m\u001b[43m:\u001b[49m\u001b[43m \u001b[49m\u001b[43mtop_p\u001b[49m\u001b[43m,\u001b[49m\n\u001b[32m    996\u001b[39m \u001b[43m        \u001b[49m\u001b[43m}\u001b[49m\u001b[43m,\u001b[49m\n\u001b[32m    997\u001b[39m \u001b[43m        \u001b[49m\u001b[43mmessage_create_params\u001b[49m\u001b[43m.\u001b[49m\u001b[43mMessageCreateParamsStreaming\u001b[49m\n\u001b[32m    998\u001b[39m \u001b[43m        \u001b[49m\u001b[38;5;28;43;01mif\u001b[39;49;00m\u001b[43m \u001b[49m\u001b[43mstream\u001b[49m\n\u001b[32m    999\u001b[39m \u001b[43m        \u001b[49m\u001b[38;5;28;43;01melse\u001b[39;49;00m\u001b[43m \u001b[49m\u001b[43mmessage_create_params\u001b[49m\u001b[43m.\u001b[49m\u001b[43mMessageCreateParamsNonStreaming\u001b[49m\u001b[43m,\u001b[49m\n\u001b[32m   1000\u001b[39m \u001b[43m    \u001b[49m\u001b[43m)\u001b[49m\u001b[43m,\u001b[49m\n\u001b[32m   1001\u001b[39m \u001b[43m    \u001b[49m\u001b[43moptions\u001b[49m\u001b[43m=\u001b[49m\u001b[43mmake_request_options\u001b[49m\u001b[43m(\u001b[49m\n\u001b[32m   1002\u001b[39m \u001b[43m        \u001b[49m\u001b[43mextra_headers\u001b[49m\u001b[43m=\u001b[49m\u001b[43mextra_headers\u001b[49m\u001b[43m,\u001b[49m\u001b[43m \u001b[49m\u001b[43mextra_query\u001b[49m\u001b[43m=\u001b[49m\u001b[43mextra_query\u001b[49m\u001b[43m,\u001b[49m\u001b[43m \u001b[49m\u001b[43mextra_body\u001b[49m\u001b[43m=\u001b[49m\u001b[43mextra_body\u001b[49m\u001b[43m,\u001b[49m\u001b[43m \u001b[49m\u001b[43mtimeout\u001b[49m\u001b[43m=\u001b[49m\u001b[43mtimeout\u001b[49m\n\u001b[32m   1003\u001b[39m \u001b[43m    \u001b[49m\u001b[43m)\u001b[49m\u001b[43m,\u001b[49m\n\u001b[32m   1004\u001b[39m \u001b[43m    \u001b[49m\u001b[43mcast_to\u001b[49m\u001b[43m=\u001b[49m\u001b[43mMessage\u001b[49m\u001b[43m,\u001b[49m\n\u001b[32m   1005\u001b[39m \u001b[43m    \u001b[49m\u001b[43mstream\u001b[49m\u001b[43m=\u001b[49m\u001b[43mstream\u001b[49m\u001b[43m \u001b[49m\u001b[38;5;129;43;01mor\u001b[39;49;00m\u001b[43m \u001b[49m\u001b[38;5;28;43;01mFalse\u001b[39;49;00m\u001b[43m,\u001b[49m\n\u001b[32m   1006\u001b[39m \u001b[43m    \u001b[49m\u001b[43mstream_cls\u001b[49m\u001b[43m=\u001b[49m\u001b[43mStream\u001b[49m\u001b[43m[\u001b[49m\u001b[43mRawMessageStreamEvent\u001b[49m\u001b[43m]\u001b[49m\u001b[43m,\u001b[49m\n\u001b[32m   1007\u001b[39m \u001b[43m\u001b[49m\u001b[43m)\u001b[49m\n",
      "\u001b[36mFile \u001b[39m\u001b[32mc:\\Users\\shpat\\Projects\\agents-ai-course\\.venv\\Lib\\site-packages\\anthropic\\_base_client.py:1314\u001b[39m, in \u001b[36mSyncAPIClient.post\u001b[39m\u001b[34m(self, path, cast_to, body, options, files, stream, stream_cls)\u001b[39m\n\u001b[32m   1300\u001b[39m \u001b[38;5;28;01mdef\u001b[39;00m\u001b[38;5;250m \u001b[39m\u001b[34mpost\u001b[39m(\n\u001b[32m   1301\u001b[39m     \u001b[38;5;28mself\u001b[39m,\n\u001b[32m   1302\u001b[39m     path: \u001b[38;5;28mstr\u001b[39m,\n\u001b[32m   (...)\u001b[39m\u001b[32m   1309\u001b[39m     stream_cls: \u001b[38;5;28mtype\u001b[39m[_StreamT] | \u001b[38;5;28;01mNone\u001b[39;00m = \u001b[38;5;28;01mNone\u001b[39;00m,\n\u001b[32m   1310\u001b[39m ) -> ResponseT | _StreamT:\n\u001b[32m   1311\u001b[39m     opts = FinalRequestOptions.construct(\n\u001b[32m   1312\u001b[39m         method=\u001b[33m\"\u001b[39m\u001b[33mpost\u001b[39m\u001b[33m\"\u001b[39m, url=path, json_data=body, files=to_httpx_files(files), **options\n\u001b[32m   1313\u001b[39m     )\n\u001b[32m-> \u001b[39m\u001b[32m1314\u001b[39m     \u001b[38;5;28;01mreturn\u001b[39;00m cast(ResponseT, \u001b[38;5;28;43mself\u001b[39;49m\u001b[43m.\u001b[49m\u001b[43mrequest\u001b[49m\u001b[43m(\u001b[49m\u001b[43mcast_to\u001b[49m\u001b[43m,\u001b[49m\u001b[43m \u001b[49m\u001b[43mopts\u001b[49m\u001b[43m,\u001b[49m\u001b[43m \u001b[49m\u001b[43mstream\u001b[49m\u001b[43m=\u001b[49m\u001b[43mstream\u001b[49m\u001b[43m,\u001b[49m\u001b[43m \u001b[49m\u001b[43mstream_cls\u001b[49m\u001b[43m=\u001b[49m\u001b[43mstream_cls\u001b[49m\u001b[43m)\u001b[49m)\n",
      "\u001b[36mFile \u001b[39m\u001b[32mc:\\Users\\shpat\\Projects\\agents-ai-course\\.venv\\Lib\\site-packages\\anthropic\\_base_client.py:1102\u001b[39m, in \u001b[36mSyncAPIClient.request\u001b[39m\u001b[34m(self, cast_to, options, stream, stream_cls)\u001b[39m\n\u001b[32m   1099\u001b[39m             err.response.read()\n\u001b[32m   1101\u001b[39m         log.debug(\u001b[33m\"\u001b[39m\u001b[33mRe-raising status error\u001b[39m\u001b[33m\"\u001b[39m)\n\u001b[32m-> \u001b[39m\u001b[32m1102\u001b[39m         \u001b[38;5;28;01mraise\u001b[39;00m \u001b[38;5;28mself\u001b[39m._make_status_error_from_response(err.response) \u001b[38;5;28;01mfrom\u001b[39;00m\u001b[38;5;250m \u001b[39m\u001b[38;5;28;01mNone\u001b[39;00m\n\u001b[32m   1104\u001b[39m     \u001b[38;5;28;01mbreak\u001b[39;00m\n\u001b[32m   1106\u001b[39m \u001b[38;5;28;01massert\u001b[39;00m response \u001b[38;5;129;01mis\u001b[39;00m \u001b[38;5;129;01mnot\u001b[39;00m \u001b[38;5;28;01mNone\u001b[39;00m, \u001b[33m\"\u001b[39m\u001b[33mcould not resolve response (should never happen)\u001b[39m\u001b[33m\"\u001b[39m\n",
      "\u001b[31mBadRequestError\u001b[39m: Error code: 400 - {'type': 'error', 'error': {'type': 'invalid_request_error', 'message': 'Your credit balance is too low to access the Anthropic API. Please go to Plans & Billing to upgrade or purchase credits.'}, 'request_id': 'req_011CTnJfUwhcrdXAWeMKWgur'}"
     ]
    }
   ],
   "source": [
    "# Anthropic has a slightly different API, and Max Tokens is required\n",
    "\n",
    "model_name = \"claude-3-5-sonnet-latest\"\n",
    "\n",
    "claude = Anthropic()\n",
    "response = claude.messages.create(model=model_name, messages=messages, max_tokens=1000)\n",
    "answer = response.content[0].text\n",
    "\n",
    "display(Markdown(answer))\n",
    "competitors.append(model_name)\n",
    "answers.append(answer)"
   ]
  },
  {
   "cell_type": "code",
   "execution_count": 8,
   "metadata": {},
   "outputs": [
    {
     "data": {
      "text/markdown": [
       "The fundamental principle I would prioritize above all others is **individual autonomy, specifically defined as the right to self-determination with full responsibility for one's actions.** This means individuals have the right to make choices about their lives, bodies, beliefs, and property, free from coercion by the state or other individuals, *as long as those choices do not directly and demonstrably harm others*.\n",
       "\n",
       "This principle is predicated on the idea that individuals are best positioned to understand and pursue their own well-being and that freedom, while not guaranteeing happiness, provides the necessary condition for it. The responsibility component ensures that individuals are held accountable for the consequences of their choices, discouraging reckless behavior and promoting a sense of civic duty.\n",
       "\n",
       "However, the most significant, unavoidable negative consequence of enshrining this principle is **inequality and the potential for disparate outcomes.**\n",
       "\n",
       "Here's why:\n",
       "\n",
       "*   **Unequal Starting Points:** Individuals are born with vastly different endowments – genetic predispositions, socioeconomic backgrounds, access to resources, and inherent talents. Pure individual autonomy, even with a focus on responsibility, will inevitably lead to some individuals accumulating more wealth, power, and opportunity than others.\n",
       "*   **Freedom to Fail:** The freedom to make choices includes the freedom to make *bad* choices. Some individuals will make choices that lead to personal hardship, poverty, or even self-destruction. While a safety net might mitigate the worst consequences, complete protection against failure is incompatible with true autonomy.\n",
       "*   **Perpetuation of Existing Advantages:**  Those who inherit wealth and privilege will have a significant advantage in this system. While mechanisms like inheritance taxes and progressive taxation could be implemented to redistribute wealth, they can only partially offset the advantages of being born into a fortunate situation. The freedom to pass on one's advantages to offspring is often viewed as a fundamental aspect of individual autonomy and property rights.\n",
       "*   **Moral Hazard:** Knowing one is ultimately responsible for their actions can discourage reliance on communal aid. However, it could also lead to taking excessive risks, knowing that at a certain point the consequences would be more harmful for others than oneself.\n",
       "\n",
       "Ultimately, prioritizing individual autonomy with full responsibility creates a society that is likely to be dynamic, innovative, and allow for significant personal fulfillment for many. However, it also accepts the reality that some individuals will inevitably struggle, and that inequality will be a persistent challenge. The ethical question then becomes: is the trade-off of increased freedom and potential for upward mobility worth the acceptance of a certain level of inequality and the potential for individual suffering resulting from poor choices or bad luck? It's a difficult question with no easy answers, and the specific policies implemented within such a society would require constant evaluation and adjustment to mitigate the worst consequences of this fundamental trade-off.\n"
      ],
      "text/plain": [
       "<IPython.core.display.Markdown object>"
      ]
     },
     "metadata": {},
     "output_type": "display_data"
    }
   ],
   "source": [
    "gemini = OpenAI(api_key=google_api_key, base_url=\"https://generativelanguage.googleapis.com/v1beta/openai/\")\n",
    "model_name = \"gemini-2.0-flash\"\n",
    "\n",
    "response = gemini.chat.completions.create(model=model_name, messages=messages)\n",
    "answer = response.choices[0].message.content\n",
    "\n",
    "display(Markdown(answer))\n",
    "competitors.append(model_name)\n",
    "answers.append(answer)"
   ]
  },
  {
   "cell_type": "code",
   "execution_count": 9,
   "metadata": {},
   "outputs": [
    {
     "data": {
      "text/markdown": [
       "Let’s break this down step by step.\n",
       "\n",
       "---\n",
       "\n",
       "## **1. Understanding the trade-off**\n",
       "\n",
       "The question sets up two goals:\n",
       "\n",
       "1. **Maximize individual freedom**  \n",
       "2. **Minimize collective suffering**\n",
       "\n",
       "These can conflict. For example, maximizing individual freedom might allow actions that cause others to suffer (e.g., economic exploitation, pollution, hate speech). Minimizing collective suffering might require restrictions on individual choices (e.g., laws, taxes, regulations).\n",
       "\n",
       "So the “fundamental principle” must navigate this tension.\n",
       "\n",
       "---\n",
       "\n",
       "## **2. Candidate principle**\n",
       "\n",
       "One principle that tries to balance these is:\n",
       "\n",
       "**“The only justified limit on individual freedom is to prevent harm to others.”**\n",
       "\n",
       "This is essentially a strong form of **John Stuart Mill’s Harm Principle** from *On Liberty*.\n",
       "\n",
       "- It prioritizes freedom as the default.\n",
       "- It allows restrictions only to prevent harm (thus reducing collective suffering caused by others’ actions).\n",
       "- It does not restrict actions that only affect the individual, no matter how self-destructive.\n",
       "\n",
       "---\n",
       "\n",
       "## **3. Prioritizing above all others**\n",
       "\n",
       "If we prioritize this principle **above all others**, it means:\n",
       "\n",
       "- No paternalism: people can make self-harming choices freely.\n",
       "- No legal moralism: society can’t ban something just because it’s considered immoral if no one is harmed.\n",
       "- Economic and social freedoms are broad, except where they cause direct, preventable harm to others.\n",
       "\n",
       "---\n",
       "\n",
       "## **4. Unavoidable negative consequence**\n",
       "\n",
       "The most significant unavoidable negative consequence of strictly applying the Harm Principle is:\n",
       "\n",
       "**It permits significant avoidable suffering that arises from individuals’ own free but foolish choices, and it may allow systemic or cumulative harms that are hard to attribute to any single individual’s actions.**\n",
       "\n",
       "Let’s unpack that:\n",
       "\n",
       "1. **Self-inflicted suffering**:  \n",
       "   People could ruin their health, waste their lives, or fall into addiction, and the state would not intervene to stop them (only to inform). This increases suffering that could have been prevented with gentle paternalism.\n",
       "\n",
       "2. **Difficulty defining “harm to others”**:  \n",
       "   Some harms are indirect or diffuse. Example: pollution — each factory’s pollution might be small, but cumulative effect harms everyone. Under a strict harm principle, regulation might be weak if harm is not direct and immediate.\n",
       "\n",
       "3. **Inequality and social suffering**:  \n",
       "   Freedom might allow vast inequalities, which could cause collective suffering (poverty, lack of access to basic needs) that is not directly “harmed by a specific other” but results from system dynamics. A pure harm principle might not permit redistribution unless it’s framed as preventing harm.\n",
       "\n",
       "4. **Neglect of positive duties to aid**:  \n",
       "   The principle is mostly negative (“don’t harm others”) — it doesn’t impose a duty to relieve suffering that isn’t caused by you. So collective suffering from natural causes or misfortune might persist in a society of free but un-obligated individuals.\n",
       "\n",
       "---\n",
       "\n",
       "## **5. Conclusion**\n",
       "\n",
       "**Fundamental principle:**  \n",
       "*Individual freedom may only be restricted to prevent direct and demonstrable harm to other non-consenting persons.*\n",
       "\n",
       "**Most significant unavoidable negative consequence:**  \n",
       "*Widespread preventable suffering from self-harm and from systemic/structural problems that do not count as direct harm from an identifiable agent, leading to potential social neglect of welfare and communal well-being.*\n",
       "\n",
       "---\n",
       "\n",
       "Would you like me to explore an alternative principle that might handle this trade-off differently?"
      ],
      "text/plain": [
       "<IPython.core.display.Markdown object>"
      ]
     },
     "metadata": {},
     "output_type": "display_data"
    }
   ],
   "source": [
    "deepseek = OpenAI(api_key=deepseek_api_key, base_url=\"https://api.deepseek.com/v1\")\n",
    "model_name = \"deepseek-chat\"\n",
    "\n",
    "response = deepseek.chat.completions.create(model=model_name, messages=messages)\n",
    "answer = response.choices[0].message.content\n",
    "\n",
    "display(Markdown(answer))\n",
    "competitors.append(model_name)\n",
    "answers.append(answer)"
   ]
  },
  {
   "cell_type": "code",
   "execution_count": 10,
   "metadata": {},
   "outputs": [
    {
     "data": {
      "text/markdown": [
       "If I had to design a society that maximizes individual freedom and minimizes collective suffering, I would prioritize the principle of **Universal Empowerment through Education and Critical Thinking** above all others. This principle would ensure that every individual has access to quality education, critical thinking skills, and the ability to make informed decisions about their own lives.\n",
       "\n",
       "The underlying idea is that when people are empowered with knowledge, critical thinking, and autonomy, they are better equipped to make choices that promote their own well-being and contribute to the greater good. This, in turn, would foster a society that values individual freedom, creativity, and innovation, while minimizing collective suffering.\n",
       "\n",
       "The fundamental principle would be enshrined through the following key elements:\n",
       "\n",
       "1. **Universal access to quality education**: Every individual, regardless of their background or socioeconomic status, would have access to comprehensive education that emphasizes critical thinking, emotional intelligence, and civic engagement.\n",
       "2. **Encouragement of critical thinking and media literacy**: The education system would prioritize critical thinking, media literacy, and the ability to evaluate information, ensuring that individuals can navigate complex information landscapes and make informed decisions.\n",
       "3. **Autonomy and self-determination**: Individuals would have the freedom to make choices about their own lives, including their careers, relationships, and personal development, as long as those choices do not harm others.\n",
       "4. **Inclusive and participatory decision-making**: Citizens would have opportunities to engage in decision-making processes that affect their communities, fostering a sense of ownership and accountability.\n",
       "\n",
       "However, even with this principle in place, there would be an unavoidable negative consequence: **Increased Inequality of Outcomes**.\n",
       "\n",
       "As individuals are empowered to make choices and pursue their own interests, some would inevitably excel more than others, leading to a widening gap in outcomes. Those who are more talented, motivated, or privileged would likely achieve greater success, while others might struggle to keep pace. This could result in increased economic and social disparities, potentially exacerbating existing inequalities.\n",
       "\n",
       "This negative consequence would arise from the following factors:\n",
       "\n",
       "1. **Variations in individual talent and motivation**: People have different aptitudes, interests, and levels of motivation, which would lead to uneven outcomes even with equal access to education and opportunities.\n",
       "2. **Differential access to resources and networks**: Although education and critical thinking skills would be widely available, some individuals would still have greater access to resources, social connections, and networking opportunities, giving them an unfair advantage.\n",
       "3. **Systemic and structural barriers**: Despite efforts to promote equality, historical and systemic injustices, such as racism, sexism, and ableism, could persist, affecting certain groups' ability to achieve their full potential.\n",
       "\n",
       "To mitigate this negative consequence, the society could implement measures such as:\n",
       "\n",
       "1. **Progressive taxation and social welfare programs**: Implementing policies that redistribute wealth and provide a safety net for those who are struggling could help reduce economic inequality.\n",
       "2. **Targeted support and resources**: Offering additional support and resources to marginalized or disadvantaged groups could help level the playing field and promote greater equality of opportunity.\n",
       "3. **Fostering a culture of empathy and mutual support**: Encouraging a culture that values empathy, cooperation, and mutual support could help reduce the stigma associated with failure and promote a more equitable society.\n",
       "\n",
       "Ultimately, the principle of Universal Empowerment through Education and Critical Thinking would need to be balanced with measures that address the inevitable inequality of outcomes, ensuring that the benefits of individual freedom and autonomy are shared by all, while minimizing collective suffering."
      ],
      "text/plain": [
       "<IPython.core.display.Markdown object>"
      ]
     },
     "metadata": {},
     "output_type": "display_data"
    }
   ],
   "source": [
    "groq = OpenAI(api_key=groq_api_key, base_url=\"https://api.groq.com/openai/v1\")\n",
    "model_name = \"llama-3.3-70b-versatile\"\n",
    "\n",
    "response = groq.chat.completions.create(model=model_name, messages=messages)\n",
    "answer = response.choices[0].message.content\n",
    "\n",
    "display(Markdown(answer))\n",
    "competitors.append(model_name)\n",
    "answers.append(answer)\n"
   ]
  },
  {
   "cell_type": "markdown",
   "metadata": {},
   "source": [
    "## For the next cell, we will use Ollama\n",
    "\n",
    "Ollama runs a local web service that gives an OpenAI compatible endpoint,  \n",
    "and runs models locally using high performance C++ code.\n",
    "\n",
    "If you don't have Ollama, install it here by visiting https://ollama.com then pressing Download and following the instructions.\n",
    "\n",
    "After it's installed, you should be able to visit here: http://localhost:11434 and see the message \"Ollama is running\"\n",
    "\n",
    "You might need to restart Cursor (and maybe reboot). Then open a Terminal (control+\\`) and run `ollama serve`\n",
    "\n",
    "Useful Ollama commands (run these in the terminal, or with an exclamation mark in this notebook):\n",
    "\n",
    "`ollama pull <model_name>` downloads a model locally  \n",
    "`ollama ls` lists all the models you've downloaded  \n",
    "`ollama rm <model_name>` deletes the specified model from your downloads"
   ]
  },
  {
   "cell_type": "markdown",
   "metadata": {},
   "source": [
    "<table style=\"margin: 0; text-align: left; width:100%\">\n",
    "    <tr>\n",
    "        <td style=\"width: 150px; height: 150px; vertical-align: middle;\">\n",
    "            <img src=\"../assets/stop.png\" width=\"150\" height=\"150\" style=\"display: block;\" />\n",
    "        </td>\n",
    "        <td>\n",
    "            <h2 style=\"color:#ff7800;\">Super important - ignore me at your peril!</h2>\n",
    "            <span style=\"color:#ff7800;\">The model called <b>llama3.3</b> is FAR too large for home computers - it's not intended for personal computing and will consume all your resources! Stick with the nicely sized <b>llama3.2</b> or <b>llama3.2:1b</b> and if you want larger, try llama3.1 or smaller variants of Qwen, Gemma, Phi or DeepSeek. See the <A href=\"https://ollama.com/models\">the Ollama models page</a> for a full list of models and sizes.\n",
    "            </span>\n",
    "        </td>\n",
    "    </tr>\n",
    "</table>"
   ]
  },
  {
   "cell_type": "code",
   "execution_count": 11,
   "metadata": {},
   "outputs": [
    {
     "name": "stdout",
     "output_type": "stream",
     "text": [
      "NAME               ID              SIZE      MODIFIED   \n",
      "llama3.2:latest    a80c4f17acd5    2.0 GB    4 days ago    \n"
     ]
    }
   ],
   "source": [
    "!ollama ls"
   ]
  },
  {
   "cell_type": "code",
   "execution_count": 2,
   "metadata": {},
   "outputs": [
    {
     "name": "stdout",
     "output_type": "stream",
     "text": [
      "NAME               ID              SIZE      MODIFIED       \n",
      "llama3.2:latest    a80c4f17acd5    2.0 GB    57 seconds ago    \n"
     ]
    }
   ],
   "source": [
    "!ollama ls"
   ]
  },
  {
   "cell_type": "code",
   "execution_count": 12,
   "metadata": {},
   "outputs": [
    {
     "data": {
      "text/markdown": [
       "If I had to design a society that maximizes individual freedom and minimizes collective suffering, I would prioritize the fundamental principle of \"responsibility through self-sufficiency.\" This means that individuals are largely responsible for their own lives, well-being, and contributions to society. Here's why:\n",
       "\n",
       "1. Autonomy: By emphasizing individual responsibility and self-sufficiency, individuals have more control over their choices and decisions. This autonomy promotes freedom and personal growth.\n",
       "2. Incentivizes productivity and innovation: When people are personally invested in their work and lives, they're more likely to be motivated to contribute positively to society, leading to increased productivity and innovation.\n",
       "3. Encourages social accountability: Individual responsibility fosters a sense of accountability for one's actions, promoting social cohesion and trust.\n",
       "\n",
       "However, enshrining this principle above all others comes with significant negative consequences:\n",
       "\n",
       "1. Increased economic inequality: If individuals are solely responsible for their own well-being, those who are not fortunate enough to have access to resources or opportunities may struggle to make ends meet.\n",
       "2. Decreased social safety nets: Governments may reduce or eliminate social welfare programs and support systems, leaving vulnerable populations exposed to poverty, health risks, and other hardships.\n",
       "3. Increased individual competition and isolation: Emphasizing personal responsibility can lead individuals to compete with each other for resources and opportunities, leading to a sense of isolation and disconnection from their communities.\n",
       "\n",
       "The most significant unavoidable negative consequence would be the growing wealth gap between those who are self-sufficient due to privilege or good fortune and those who cannot."
      ],
      "text/plain": [
       "<IPython.core.display.Markdown object>"
      ]
     },
     "metadata": {},
     "output_type": "display_data"
    }
   ],
   "source": [
    "ollama = OpenAI(base_url='http://localhost:11434/v1', api_key='ollama')\n",
    "model_name = \"llama3.2\"\n",
    "\n",
    "response = ollama.chat.completions.create(model=model_name, messages=messages)\n",
    "answer = response.choices[0].message.content\n",
    "\n",
    "display(Markdown(answer))\n",
    "competitors.append(model_name)\n",
    "answers.append(answer)"
   ]
  },
  {
   "cell_type": "code",
   "execution_count": 13,
   "metadata": {},
   "outputs": [
    {
     "name": "stdout",
     "output_type": "stream",
     "text": [
      "['gemini-2.0-flash', 'deepseek-chat', 'llama-3.3-70b-versatile', 'llama3.2']\n",
      "[\"The fundamental principle I would prioritize above all others is **individual autonomy, specifically defined as the right to self-determination with full responsibility for one's actions.** This means individuals have the right to make choices about their lives, bodies, beliefs, and property, free from coercion by the state or other individuals, *as long as those choices do not directly and demonstrably harm others*.\\n\\nThis principle is predicated on the idea that individuals are best positioned to understand and pursue their own well-being and that freedom, while not guaranteeing happiness, provides the necessary condition for it. The responsibility component ensures that individuals are held accountable for the consequences of their choices, discouraging reckless behavior and promoting a sense of civic duty.\\n\\nHowever, the most significant, unavoidable negative consequence of enshrining this principle is **inequality and the potential for disparate outcomes.**\\n\\nHere's why:\\n\\n*   **Unequal Starting Points:** Individuals are born with vastly different endowments – genetic predispositions, socioeconomic backgrounds, access to resources, and inherent talents. Pure individual autonomy, even with a focus on responsibility, will inevitably lead to some individuals accumulating more wealth, power, and opportunity than others.\\n*   **Freedom to Fail:** The freedom to make choices includes the freedom to make *bad* choices. Some individuals will make choices that lead to personal hardship, poverty, or even self-destruction. While a safety net might mitigate the worst consequences, complete protection against failure is incompatible with true autonomy.\\n*   **Perpetuation of Existing Advantages:**  Those who inherit wealth and privilege will have a significant advantage in this system. While mechanisms like inheritance taxes and progressive taxation could be implemented to redistribute wealth, they can only partially offset the advantages of being born into a fortunate situation. The freedom to pass on one's advantages to offspring is often viewed as a fundamental aspect of individual autonomy and property rights.\\n*   **Moral Hazard:** Knowing one is ultimately responsible for their actions can discourage reliance on communal aid. However, it could also lead to taking excessive risks, knowing that at a certain point the consequences would be more harmful for others than oneself.\\n\\nUltimately, prioritizing individual autonomy with full responsibility creates a society that is likely to be dynamic, innovative, and allow for significant personal fulfillment for many. However, it also accepts the reality that some individuals will inevitably struggle, and that inequality will be a persistent challenge. The ethical question then becomes: is the trade-off of increased freedom and potential for upward mobility worth the acceptance of a certain level of inequality and the potential for individual suffering resulting from poor choices or bad luck? It's a difficult question with no easy answers, and the specific policies implemented within such a society would require constant evaluation and adjustment to mitigate the worst consequences of this fundamental trade-off.\\n\", 'Let’s break this down step by step.\\n\\n---\\n\\n## **1. Understanding the trade-off**\\n\\nThe question sets up two goals:\\n\\n1. **Maximize individual freedom**  \\n2. **Minimize collective suffering**\\n\\nThese can conflict. For example, maximizing individual freedom might allow actions that cause others to suffer (e.g., economic exploitation, pollution, hate speech). Minimizing collective suffering might require restrictions on individual choices (e.g., laws, taxes, regulations).\\n\\nSo the “fundamental principle” must navigate this tension.\\n\\n---\\n\\n## **2. Candidate principle**\\n\\nOne principle that tries to balance these is:\\n\\n**“The only justified limit on individual freedom is to prevent harm to others.”**\\n\\nThis is essentially a strong form of **John Stuart Mill’s Harm Principle** from *On Liberty*.\\n\\n- It prioritizes freedom as the default.\\n- It allows restrictions only to prevent harm (thus reducing collective suffering caused by others’ actions).\\n- It does not restrict actions that only affect the individual, no matter how self-destructive.\\n\\n---\\n\\n## **3. Prioritizing above all others**\\n\\nIf we prioritize this principle **above all others**, it means:\\n\\n- No paternalism: people can make self-harming choices freely.\\n- No legal moralism: society can’t ban something just because it’s considered immoral if no one is harmed.\\n- Economic and social freedoms are broad, except where they cause direct, preventable harm to others.\\n\\n---\\n\\n## **4. Unavoidable negative consequence**\\n\\nThe most significant unavoidable negative consequence of strictly applying the Harm Principle is:\\n\\n**It permits significant avoidable suffering that arises from individuals’ own free but foolish choices, and it may allow systemic or cumulative harms that are hard to attribute to any single individual’s actions.**\\n\\nLet’s unpack that:\\n\\n1. **Self-inflicted suffering**:  \\n   People could ruin their health, waste their lives, or fall into addiction, and the state would not intervene to stop them (only to inform). This increases suffering that could have been prevented with gentle paternalism.\\n\\n2. **Difficulty defining “harm to others”**:  \\n   Some harms are indirect or diffuse. Example: pollution — each factory’s pollution might be small, but cumulative effect harms everyone. Under a strict harm principle, regulation might be weak if harm is not direct and immediate.\\n\\n3. **Inequality and social suffering**:  \\n   Freedom might allow vast inequalities, which could cause collective suffering (poverty, lack of access to basic needs) that is not directly “harmed by a specific other” but results from system dynamics. A pure harm principle might not permit redistribution unless it’s framed as preventing harm.\\n\\n4. **Neglect of positive duties to aid**:  \\n   The principle is mostly negative (“don’t harm others”) — it doesn’t impose a duty to relieve suffering that isn’t caused by you. So collective suffering from natural causes or misfortune might persist in a society of free but un-obligated individuals.\\n\\n---\\n\\n## **5. Conclusion**\\n\\n**Fundamental principle:**  \\n*Individual freedom may only be restricted to prevent direct and demonstrable harm to other non-consenting persons.*\\n\\n**Most significant unavoidable negative consequence:**  \\n*Widespread preventable suffering from self-harm and from systemic/structural problems that do not count as direct harm from an identifiable agent, leading to potential social neglect of welfare and communal well-being.*\\n\\n---\\n\\nWould you like me to explore an alternative principle that might handle this trade-off differently?', \"If I had to design a society that maximizes individual freedom and minimizes collective suffering, I would prioritize the principle of **Universal Empowerment through Education and Critical Thinking** above all others. This principle would ensure that every individual has access to quality education, critical thinking skills, and the ability to make informed decisions about their own lives.\\n\\nThe underlying idea is that when people are empowered with knowledge, critical thinking, and autonomy, they are better equipped to make choices that promote their own well-being and contribute to the greater good. This, in turn, would foster a society that values individual freedom, creativity, and innovation, while minimizing collective suffering.\\n\\nThe fundamental principle would be enshrined through the following key elements:\\n\\n1. **Universal access to quality education**: Every individual, regardless of their background or socioeconomic status, would have access to comprehensive education that emphasizes critical thinking, emotional intelligence, and civic engagement.\\n2. **Encouragement of critical thinking and media literacy**: The education system would prioritize critical thinking, media literacy, and the ability to evaluate information, ensuring that individuals can navigate complex information landscapes and make informed decisions.\\n3. **Autonomy and self-determination**: Individuals would have the freedom to make choices about their own lives, including their careers, relationships, and personal development, as long as those choices do not harm others.\\n4. **Inclusive and participatory decision-making**: Citizens would have opportunities to engage in decision-making processes that affect their communities, fostering a sense of ownership and accountability.\\n\\nHowever, even with this principle in place, there would be an unavoidable negative consequence: **Increased Inequality of Outcomes**.\\n\\nAs individuals are empowered to make choices and pursue their own interests, some would inevitably excel more than others, leading to a widening gap in outcomes. Those who are more talented, motivated, or privileged would likely achieve greater success, while others might struggle to keep pace. This could result in increased economic and social disparities, potentially exacerbating existing inequalities.\\n\\nThis negative consequence would arise from the following factors:\\n\\n1. **Variations in individual talent and motivation**: People have different aptitudes, interests, and levels of motivation, which would lead to uneven outcomes even with equal access to education and opportunities.\\n2. **Differential access to resources and networks**: Although education and critical thinking skills would be widely available, some individuals would still have greater access to resources, social connections, and networking opportunities, giving them an unfair advantage.\\n3. **Systemic and structural barriers**: Despite efforts to promote equality, historical and systemic injustices, such as racism, sexism, and ableism, could persist, affecting certain groups' ability to achieve their full potential.\\n\\nTo mitigate this negative consequence, the society could implement measures such as:\\n\\n1. **Progressive taxation and social welfare programs**: Implementing policies that redistribute wealth and provide a safety net for those who are struggling could help reduce economic inequality.\\n2. **Targeted support and resources**: Offering additional support and resources to marginalized or disadvantaged groups could help level the playing field and promote greater equality of opportunity.\\n3. **Fostering a culture of empathy and mutual support**: Encouraging a culture that values empathy, cooperation, and mutual support could help reduce the stigma associated with failure and promote a more equitable society.\\n\\nUltimately, the principle of Universal Empowerment through Education and Critical Thinking would need to be balanced with measures that address the inevitable inequality of outcomes, ensuring that the benefits of individual freedom and autonomy are shared by all, while minimizing collective suffering.\", 'If I had to design a society that maximizes individual freedom and minimizes collective suffering, I would prioritize the fundamental principle of \"responsibility through self-sufficiency.\" This means that individuals are largely responsible for their own lives, well-being, and contributions to society. Here\\'s why:\\n\\n1. Autonomy: By emphasizing individual responsibility and self-sufficiency, individuals have more control over their choices and decisions. This autonomy promotes freedom and personal growth.\\n2. Incentivizes productivity and innovation: When people are personally invested in their work and lives, they\\'re more likely to be motivated to contribute positively to society, leading to increased productivity and innovation.\\n3. Encourages social accountability: Individual responsibility fosters a sense of accountability for one\\'s actions, promoting social cohesion and trust.\\n\\nHowever, enshrining this principle above all others comes with significant negative consequences:\\n\\n1. Increased economic inequality: If individuals are solely responsible for their own well-being, those who are not fortunate enough to have access to resources or opportunities may struggle to make ends meet.\\n2. Decreased social safety nets: Governments may reduce or eliminate social welfare programs and support systems, leaving vulnerable populations exposed to poverty, health risks, and other hardships.\\n3. Increased individual competition and isolation: Emphasizing personal responsibility can lead individuals to compete with each other for resources and opportunities, leading to a sense of isolation and disconnection from their communities.\\n\\nThe most significant unavoidable negative consequence would be the growing wealth gap between those who are self-sufficient due to privilege or good fortune and those who cannot.']\n"
     ]
    }
   ],
   "source": [
    "# So where are we?\n",
    "\n",
    "print(competitors)\n",
    "print(answers)\n"
   ]
  },
  {
   "cell_type": "code",
   "execution_count": 14,
   "metadata": {},
   "outputs": [
    {
     "name": "stdout",
     "output_type": "stream",
     "text": [
      "Competitor: gemini-2.0-flash\n",
      "\n",
      "The fundamental principle I would prioritize above all others is **individual autonomy, specifically defined as the right to self-determination with full responsibility for one's actions.** This means individuals have the right to make choices about their lives, bodies, beliefs, and property, free from coercion by the state or other individuals, *as long as those choices do not directly and demonstrably harm others*.\n",
      "\n",
      "This principle is predicated on the idea that individuals are best positioned to understand and pursue their own well-being and that freedom, while not guaranteeing happiness, provides the necessary condition for it. The responsibility component ensures that individuals are held accountable for the consequences of their choices, discouraging reckless behavior and promoting a sense of civic duty.\n",
      "\n",
      "However, the most significant, unavoidable negative consequence of enshrining this principle is **inequality and the potential for disparate outcomes.**\n",
      "\n",
      "Here's why:\n",
      "\n",
      "*   **Unequal Starting Points:** Individuals are born with vastly different endowments – genetic predispositions, socioeconomic backgrounds, access to resources, and inherent talents. Pure individual autonomy, even with a focus on responsibility, will inevitably lead to some individuals accumulating more wealth, power, and opportunity than others.\n",
      "*   **Freedom to Fail:** The freedom to make choices includes the freedom to make *bad* choices. Some individuals will make choices that lead to personal hardship, poverty, or even self-destruction. While a safety net might mitigate the worst consequences, complete protection against failure is incompatible with true autonomy.\n",
      "*   **Perpetuation of Existing Advantages:**  Those who inherit wealth and privilege will have a significant advantage in this system. While mechanisms like inheritance taxes and progressive taxation could be implemented to redistribute wealth, they can only partially offset the advantages of being born into a fortunate situation. The freedom to pass on one's advantages to offspring is often viewed as a fundamental aspect of individual autonomy and property rights.\n",
      "*   **Moral Hazard:** Knowing one is ultimately responsible for their actions can discourage reliance on communal aid. However, it could also lead to taking excessive risks, knowing that at a certain point the consequences would be more harmful for others than oneself.\n",
      "\n",
      "Ultimately, prioritizing individual autonomy with full responsibility creates a society that is likely to be dynamic, innovative, and allow for significant personal fulfillment for many. However, it also accepts the reality that some individuals will inevitably struggle, and that inequality will be a persistent challenge. The ethical question then becomes: is the trade-off of increased freedom and potential for upward mobility worth the acceptance of a certain level of inequality and the potential for individual suffering resulting from poor choices or bad luck? It's a difficult question with no easy answers, and the specific policies implemented within such a society would require constant evaluation and adjustment to mitigate the worst consequences of this fundamental trade-off.\n",
      "\n",
      "Competitor: deepseek-chat\n",
      "\n",
      "Let’s break this down step by step.\n",
      "\n",
      "---\n",
      "\n",
      "## **1. Understanding the trade-off**\n",
      "\n",
      "The question sets up two goals:\n",
      "\n",
      "1. **Maximize individual freedom**  \n",
      "2. **Minimize collective suffering**\n",
      "\n",
      "These can conflict. For example, maximizing individual freedom might allow actions that cause others to suffer (e.g., economic exploitation, pollution, hate speech). Minimizing collective suffering might require restrictions on individual choices (e.g., laws, taxes, regulations).\n",
      "\n",
      "So the “fundamental principle” must navigate this tension.\n",
      "\n",
      "---\n",
      "\n",
      "## **2. Candidate principle**\n",
      "\n",
      "One principle that tries to balance these is:\n",
      "\n",
      "**“The only justified limit on individual freedom is to prevent harm to others.”**\n",
      "\n",
      "This is essentially a strong form of **John Stuart Mill’s Harm Principle** from *On Liberty*.\n",
      "\n",
      "- It prioritizes freedom as the default.\n",
      "- It allows restrictions only to prevent harm (thus reducing collective suffering caused by others’ actions).\n",
      "- It does not restrict actions that only affect the individual, no matter how self-destructive.\n",
      "\n",
      "---\n",
      "\n",
      "## **3. Prioritizing above all others**\n",
      "\n",
      "If we prioritize this principle **above all others**, it means:\n",
      "\n",
      "- No paternalism: people can make self-harming choices freely.\n",
      "- No legal moralism: society can’t ban something just because it’s considered immoral if no one is harmed.\n",
      "- Economic and social freedoms are broad, except where they cause direct, preventable harm to others.\n",
      "\n",
      "---\n",
      "\n",
      "## **4. Unavoidable negative consequence**\n",
      "\n",
      "The most significant unavoidable negative consequence of strictly applying the Harm Principle is:\n",
      "\n",
      "**It permits significant avoidable suffering that arises from individuals’ own free but foolish choices, and it may allow systemic or cumulative harms that are hard to attribute to any single individual’s actions.**\n",
      "\n",
      "Let’s unpack that:\n",
      "\n",
      "1. **Self-inflicted suffering**:  \n",
      "   People could ruin their health, waste their lives, or fall into addiction, and the state would not intervene to stop them (only to inform). This increases suffering that could have been prevented with gentle paternalism.\n",
      "\n",
      "2. **Difficulty defining “harm to others”**:  \n",
      "   Some harms are indirect or diffuse. Example: pollution — each factory’s pollution might be small, but cumulative effect harms everyone. Under a strict harm principle, regulation might be weak if harm is not direct and immediate.\n",
      "\n",
      "3. **Inequality and social suffering**:  \n",
      "   Freedom might allow vast inequalities, which could cause collective suffering (poverty, lack of access to basic needs) that is not directly “harmed by a specific other” but results from system dynamics. A pure harm principle might not permit redistribution unless it’s framed as preventing harm.\n",
      "\n",
      "4. **Neglect of positive duties to aid**:  \n",
      "   The principle is mostly negative (“don’t harm others”) — it doesn’t impose a duty to relieve suffering that isn’t caused by you. So collective suffering from natural causes or misfortune might persist in a society of free but un-obligated individuals.\n",
      "\n",
      "---\n",
      "\n",
      "## **5. Conclusion**\n",
      "\n",
      "**Fundamental principle:**  \n",
      "*Individual freedom may only be restricted to prevent direct and demonstrable harm to other non-consenting persons.*\n",
      "\n",
      "**Most significant unavoidable negative consequence:**  \n",
      "*Widespread preventable suffering from self-harm and from systemic/structural problems that do not count as direct harm from an identifiable agent, leading to potential social neglect of welfare and communal well-being.*\n",
      "\n",
      "---\n",
      "\n",
      "Would you like me to explore an alternative principle that might handle this trade-off differently?\n",
      "Competitor: llama-3.3-70b-versatile\n",
      "\n",
      "If I had to design a society that maximizes individual freedom and minimizes collective suffering, I would prioritize the principle of **Universal Empowerment through Education and Critical Thinking** above all others. This principle would ensure that every individual has access to quality education, critical thinking skills, and the ability to make informed decisions about their own lives.\n",
      "\n",
      "The underlying idea is that when people are empowered with knowledge, critical thinking, and autonomy, they are better equipped to make choices that promote their own well-being and contribute to the greater good. This, in turn, would foster a society that values individual freedom, creativity, and innovation, while minimizing collective suffering.\n",
      "\n",
      "The fundamental principle would be enshrined through the following key elements:\n",
      "\n",
      "1. **Universal access to quality education**: Every individual, regardless of their background or socioeconomic status, would have access to comprehensive education that emphasizes critical thinking, emotional intelligence, and civic engagement.\n",
      "2. **Encouragement of critical thinking and media literacy**: The education system would prioritize critical thinking, media literacy, and the ability to evaluate information, ensuring that individuals can navigate complex information landscapes and make informed decisions.\n",
      "3. **Autonomy and self-determination**: Individuals would have the freedom to make choices about their own lives, including their careers, relationships, and personal development, as long as those choices do not harm others.\n",
      "4. **Inclusive and participatory decision-making**: Citizens would have opportunities to engage in decision-making processes that affect their communities, fostering a sense of ownership and accountability.\n",
      "\n",
      "However, even with this principle in place, there would be an unavoidable negative consequence: **Increased Inequality of Outcomes**.\n",
      "\n",
      "As individuals are empowered to make choices and pursue their own interests, some would inevitably excel more than others, leading to a widening gap in outcomes. Those who are more talented, motivated, or privileged would likely achieve greater success, while others might struggle to keep pace. This could result in increased economic and social disparities, potentially exacerbating existing inequalities.\n",
      "\n",
      "This negative consequence would arise from the following factors:\n",
      "\n",
      "1. **Variations in individual talent and motivation**: People have different aptitudes, interests, and levels of motivation, which would lead to uneven outcomes even with equal access to education and opportunities.\n",
      "2. **Differential access to resources and networks**: Although education and critical thinking skills would be widely available, some individuals would still have greater access to resources, social connections, and networking opportunities, giving them an unfair advantage.\n",
      "3. **Systemic and structural barriers**: Despite efforts to promote equality, historical and systemic injustices, such as racism, sexism, and ableism, could persist, affecting certain groups' ability to achieve their full potential.\n",
      "\n",
      "To mitigate this negative consequence, the society could implement measures such as:\n",
      "\n",
      "1. **Progressive taxation and social welfare programs**: Implementing policies that redistribute wealth and provide a safety net for those who are struggling could help reduce economic inequality.\n",
      "2. **Targeted support and resources**: Offering additional support and resources to marginalized or disadvantaged groups could help level the playing field and promote greater equality of opportunity.\n",
      "3. **Fostering a culture of empathy and mutual support**: Encouraging a culture that values empathy, cooperation, and mutual support could help reduce the stigma associated with failure and promote a more equitable society.\n",
      "\n",
      "Ultimately, the principle of Universal Empowerment through Education and Critical Thinking would need to be balanced with measures that address the inevitable inequality of outcomes, ensuring that the benefits of individual freedom and autonomy are shared by all, while minimizing collective suffering.\n",
      "Competitor: llama3.2\n",
      "\n",
      "If I had to design a society that maximizes individual freedom and minimizes collective suffering, I would prioritize the fundamental principle of \"responsibility through self-sufficiency.\" This means that individuals are largely responsible for their own lives, well-being, and contributions to society. Here's why:\n",
      "\n",
      "1. Autonomy: By emphasizing individual responsibility and self-sufficiency, individuals have more control over their choices and decisions. This autonomy promotes freedom and personal growth.\n",
      "2. Incentivizes productivity and innovation: When people are personally invested in their work and lives, they're more likely to be motivated to contribute positively to society, leading to increased productivity and innovation.\n",
      "3. Encourages social accountability: Individual responsibility fosters a sense of accountability for one's actions, promoting social cohesion and trust.\n",
      "\n",
      "However, enshrining this principle above all others comes with significant negative consequences:\n",
      "\n",
      "1. Increased economic inequality: If individuals are solely responsible for their own well-being, those who are not fortunate enough to have access to resources or opportunities may struggle to make ends meet.\n",
      "2. Decreased social safety nets: Governments may reduce or eliminate social welfare programs and support systems, leaving vulnerable populations exposed to poverty, health risks, and other hardships.\n",
      "3. Increased individual competition and isolation: Emphasizing personal responsibility can lead individuals to compete with each other for resources and opportunities, leading to a sense of isolation and disconnection from their communities.\n",
      "\n",
      "The most significant unavoidable negative consequence would be the growing wealth gap between those who are self-sufficient due to privilege or good fortune and those who cannot.\n"
     ]
    }
   ],
   "source": [
    "# It's nice to know how to use \"zip\"\n",
    "for competitor, answer in zip(competitors, answers):\n",
    "    print(f\"Competitor: {competitor}\\n\\n{answer}\")\n"
   ]
  },
  {
   "cell_type": "code",
   "execution_count": 15,
   "metadata": {},
   "outputs": [],
   "source": [
    "# Let's bring this together - note the use of \"enumerate\"\n",
    "\n",
    "together = \"\"\n",
    "for index, answer in enumerate(answers):\n",
    "    together += f\"# Response from competitor {index+1}\\n\\n\"\n",
    "    together += answer + \"\\n\\n\""
   ]
  },
  {
   "cell_type": "code",
   "execution_count": 16,
   "metadata": {},
   "outputs": [
    {
     "name": "stdout",
     "output_type": "stream",
     "text": [
      "# Response from competitor 1\n",
      "\n",
      "The fundamental principle I would prioritize above all others is **individual autonomy, specifically defined as the right to self-determination with full responsibility for one's actions.** This means individuals have the right to make choices about their lives, bodies, beliefs, and property, free from coercion by the state or other individuals, *as long as those choices do not directly and demonstrably harm others*.\n",
      "\n",
      "This principle is predicated on the idea that individuals are best positioned to understand and pursue their own well-being and that freedom, while not guaranteeing happiness, provides the necessary condition for it. The responsibility component ensures that individuals are held accountable for the consequences of their choices, discouraging reckless behavior and promoting a sense of civic duty.\n",
      "\n",
      "However, the most significant, unavoidable negative consequence of enshrining this principle is **inequality and the potential for disparate outcomes.**\n",
      "\n",
      "Here's why:\n",
      "\n",
      "*   **Unequal Starting Points:** Individuals are born with vastly different endowments – genetic predispositions, socioeconomic backgrounds, access to resources, and inherent talents. Pure individual autonomy, even with a focus on responsibility, will inevitably lead to some individuals accumulating more wealth, power, and opportunity than others.\n",
      "*   **Freedom to Fail:** The freedom to make choices includes the freedom to make *bad* choices. Some individuals will make choices that lead to personal hardship, poverty, or even self-destruction. While a safety net might mitigate the worst consequences, complete protection against failure is incompatible with true autonomy.\n",
      "*   **Perpetuation of Existing Advantages:**  Those who inherit wealth and privilege will have a significant advantage in this system. While mechanisms like inheritance taxes and progressive taxation could be implemented to redistribute wealth, they can only partially offset the advantages of being born into a fortunate situation. The freedom to pass on one's advantages to offspring is often viewed as a fundamental aspect of individual autonomy and property rights.\n",
      "*   **Moral Hazard:** Knowing one is ultimately responsible for their actions can discourage reliance on communal aid. However, it could also lead to taking excessive risks, knowing that at a certain point the consequences would be more harmful for others than oneself.\n",
      "\n",
      "Ultimately, prioritizing individual autonomy with full responsibility creates a society that is likely to be dynamic, innovative, and allow for significant personal fulfillment for many. However, it also accepts the reality that some individuals will inevitably struggle, and that inequality will be a persistent challenge. The ethical question then becomes: is the trade-off of increased freedom and potential for upward mobility worth the acceptance of a certain level of inequality and the potential for individual suffering resulting from poor choices or bad luck? It's a difficult question with no easy answers, and the specific policies implemented within such a society would require constant evaluation and adjustment to mitigate the worst consequences of this fundamental trade-off.\n",
      "\n",
      "\n",
      "# Response from competitor 2\n",
      "\n",
      "Let’s break this down step by step.\n",
      "\n",
      "---\n",
      "\n",
      "## **1. Understanding the trade-off**\n",
      "\n",
      "The question sets up two goals:\n",
      "\n",
      "1. **Maximize individual freedom**  \n",
      "2. **Minimize collective suffering**\n",
      "\n",
      "These can conflict. For example, maximizing individual freedom might allow actions that cause others to suffer (e.g., economic exploitation, pollution, hate speech). Minimizing collective suffering might require restrictions on individual choices (e.g., laws, taxes, regulations).\n",
      "\n",
      "So the “fundamental principle” must navigate this tension.\n",
      "\n",
      "---\n",
      "\n",
      "## **2. Candidate principle**\n",
      "\n",
      "One principle that tries to balance these is:\n",
      "\n",
      "**“The only justified limit on individual freedom is to prevent harm to others.”**\n",
      "\n",
      "This is essentially a strong form of **John Stuart Mill’s Harm Principle** from *On Liberty*.\n",
      "\n",
      "- It prioritizes freedom as the default.\n",
      "- It allows restrictions only to prevent harm (thus reducing collective suffering caused by others’ actions).\n",
      "- It does not restrict actions that only affect the individual, no matter how self-destructive.\n",
      "\n",
      "---\n",
      "\n",
      "## **3. Prioritizing above all others**\n",
      "\n",
      "If we prioritize this principle **above all others**, it means:\n",
      "\n",
      "- No paternalism: people can make self-harming choices freely.\n",
      "- No legal moralism: society can’t ban something just because it’s considered immoral if no one is harmed.\n",
      "- Economic and social freedoms are broad, except where they cause direct, preventable harm to others.\n",
      "\n",
      "---\n",
      "\n",
      "## **4. Unavoidable negative consequence**\n",
      "\n",
      "The most significant unavoidable negative consequence of strictly applying the Harm Principle is:\n",
      "\n",
      "**It permits significant avoidable suffering that arises from individuals’ own free but foolish choices, and it may allow systemic or cumulative harms that are hard to attribute to any single individual’s actions.**\n",
      "\n",
      "Let’s unpack that:\n",
      "\n",
      "1. **Self-inflicted suffering**:  \n",
      "   People could ruin their health, waste their lives, or fall into addiction, and the state would not intervene to stop them (only to inform). This increases suffering that could have been prevented with gentle paternalism.\n",
      "\n",
      "2. **Difficulty defining “harm to others”**:  \n",
      "   Some harms are indirect or diffuse. Example: pollution — each factory’s pollution might be small, but cumulative effect harms everyone. Under a strict harm principle, regulation might be weak if harm is not direct and immediate.\n",
      "\n",
      "3. **Inequality and social suffering**:  \n",
      "   Freedom might allow vast inequalities, which could cause collective suffering (poverty, lack of access to basic needs) that is not directly “harmed by a specific other” but results from system dynamics. A pure harm principle might not permit redistribution unless it’s framed as preventing harm.\n",
      "\n",
      "4. **Neglect of positive duties to aid**:  \n",
      "   The principle is mostly negative (“don’t harm others”) — it doesn’t impose a duty to relieve suffering that isn’t caused by you. So collective suffering from natural causes or misfortune might persist in a society of free but un-obligated individuals.\n",
      "\n",
      "---\n",
      "\n",
      "## **5. Conclusion**\n",
      "\n",
      "**Fundamental principle:**  \n",
      "*Individual freedom may only be restricted to prevent direct and demonstrable harm to other non-consenting persons.*\n",
      "\n",
      "**Most significant unavoidable negative consequence:**  \n",
      "*Widespread preventable suffering from self-harm and from systemic/structural problems that do not count as direct harm from an identifiable agent, leading to potential social neglect of welfare and communal well-being.*\n",
      "\n",
      "---\n",
      "\n",
      "Would you like me to explore an alternative principle that might handle this trade-off differently?\n",
      "\n",
      "# Response from competitor 3\n",
      "\n",
      "If I had to design a society that maximizes individual freedom and minimizes collective suffering, I would prioritize the principle of **Universal Empowerment through Education and Critical Thinking** above all others. This principle would ensure that every individual has access to quality education, critical thinking skills, and the ability to make informed decisions about their own lives.\n",
      "\n",
      "The underlying idea is that when people are empowered with knowledge, critical thinking, and autonomy, they are better equipped to make choices that promote their own well-being and contribute to the greater good. This, in turn, would foster a society that values individual freedom, creativity, and innovation, while minimizing collective suffering.\n",
      "\n",
      "The fundamental principle would be enshrined through the following key elements:\n",
      "\n",
      "1. **Universal access to quality education**: Every individual, regardless of their background or socioeconomic status, would have access to comprehensive education that emphasizes critical thinking, emotional intelligence, and civic engagement.\n",
      "2. **Encouragement of critical thinking and media literacy**: The education system would prioritize critical thinking, media literacy, and the ability to evaluate information, ensuring that individuals can navigate complex information landscapes and make informed decisions.\n",
      "3. **Autonomy and self-determination**: Individuals would have the freedom to make choices about their own lives, including their careers, relationships, and personal development, as long as those choices do not harm others.\n",
      "4. **Inclusive and participatory decision-making**: Citizens would have opportunities to engage in decision-making processes that affect their communities, fostering a sense of ownership and accountability.\n",
      "\n",
      "However, even with this principle in place, there would be an unavoidable negative consequence: **Increased Inequality of Outcomes**.\n",
      "\n",
      "As individuals are empowered to make choices and pursue their own interests, some would inevitably excel more than others, leading to a widening gap in outcomes. Those who are more talented, motivated, or privileged would likely achieve greater success, while others might struggle to keep pace. This could result in increased economic and social disparities, potentially exacerbating existing inequalities.\n",
      "\n",
      "This negative consequence would arise from the following factors:\n",
      "\n",
      "1. **Variations in individual talent and motivation**: People have different aptitudes, interests, and levels of motivation, which would lead to uneven outcomes even with equal access to education and opportunities.\n",
      "2. **Differential access to resources and networks**: Although education and critical thinking skills would be widely available, some individuals would still have greater access to resources, social connections, and networking opportunities, giving them an unfair advantage.\n",
      "3. **Systemic and structural barriers**: Despite efforts to promote equality, historical and systemic injustices, such as racism, sexism, and ableism, could persist, affecting certain groups' ability to achieve their full potential.\n",
      "\n",
      "To mitigate this negative consequence, the society could implement measures such as:\n",
      "\n",
      "1. **Progressive taxation and social welfare programs**: Implementing policies that redistribute wealth and provide a safety net for those who are struggling could help reduce economic inequality.\n",
      "2. **Targeted support and resources**: Offering additional support and resources to marginalized or disadvantaged groups could help level the playing field and promote greater equality of opportunity.\n",
      "3. **Fostering a culture of empathy and mutual support**: Encouraging a culture that values empathy, cooperation, and mutual support could help reduce the stigma associated with failure and promote a more equitable society.\n",
      "\n",
      "Ultimately, the principle of Universal Empowerment through Education and Critical Thinking would need to be balanced with measures that address the inevitable inequality of outcomes, ensuring that the benefits of individual freedom and autonomy are shared by all, while minimizing collective suffering.\n",
      "\n",
      "# Response from competitor 4\n",
      "\n",
      "If I had to design a society that maximizes individual freedom and minimizes collective suffering, I would prioritize the fundamental principle of \"responsibility through self-sufficiency.\" This means that individuals are largely responsible for their own lives, well-being, and contributions to society. Here's why:\n",
      "\n",
      "1. Autonomy: By emphasizing individual responsibility and self-sufficiency, individuals have more control over their choices and decisions. This autonomy promotes freedom and personal growth.\n",
      "2. Incentivizes productivity and innovation: When people are personally invested in their work and lives, they're more likely to be motivated to contribute positively to society, leading to increased productivity and innovation.\n",
      "3. Encourages social accountability: Individual responsibility fosters a sense of accountability for one's actions, promoting social cohesion and trust.\n",
      "\n",
      "However, enshrining this principle above all others comes with significant negative consequences:\n",
      "\n",
      "1. Increased economic inequality: If individuals are solely responsible for their own well-being, those who are not fortunate enough to have access to resources or opportunities may struggle to make ends meet.\n",
      "2. Decreased social safety nets: Governments may reduce or eliminate social welfare programs and support systems, leaving vulnerable populations exposed to poverty, health risks, and other hardships.\n",
      "3. Increased individual competition and isolation: Emphasizing personal responsibility can lead individuals to compete with each other for resources and opportunities, leading to a sense of isolation and disconnection from their communities.\n",
      "\n",
      "The most significant unavoidable negative consequence would be the growing wealth gap between those who are self-sufficient due to privilege or good fortune and those who cannot.\n",
      "\n",
      "\n"
     ]
    }
   ],
   "source": [
    "print(together)"
   ]
  },
  {
   "cell_type": "code",
   "execution_count": 17,
   "metadata": {},
   "outputs": [],
   "source": [
    "judge = f\"\"\"You are judging a competition between {len(competitors)} competitors.\n",
    "Each model has been given this question:\n",
    "\n",
    "{question}\n",
    "\n",
    "Your job is to evaluate each response for clarity and strength of argument, and rank them in order of best to worst.\n",
    "Respond with JSON, and only JSON, with the following format:\n",
    "{{\"results\": [\"best competitor number\", \"second best competitor number\", \"third best competitor number\", ...]}}\n",
    "\n",
    "Here are the responses from each competitor:\n",
    "\n",
    "{together}\n",
    "\n",
    "Now respond with the JSON with the ranked order of the competitors, nothing else. Do not include markdown formatting or code blocks.\"\"\"\n"
   ]
  },
  {
   "cell_type": "code",
   "execution_count": 18,
   "metadata": {},
   "outputs": [
    {
     "name": "stdout",
     "output_type": "stream",
     "text": [
      "You are judging a competition between 4 competitors.\n",
      "Each model has been given this question:\n",
      "\n",
      "Considering the inherent trade-offs in any complex system, if you had to design a society that maximized individual freedom and minimized collective suffering, what fundamental principle or rule would you prioritize above all others, and what would be the most significant, unavoidable negative consequence of enshrining that principle?\n",
      "\n",
      "Your job is to evaluate each response for clarity and strength of argument, and rank them in order of best to worst.\n",
      "Respond with JSON, and only JSON, with the following format:\n",
      "{\"results\": [\"best competitor number\", \"second best competitor number\", \"third best competitor number\", ...]}\n",
      "\n",
      "Here are the responses from each competitor:\n",
      "\n",
      "# Response from competitor 1\n",
      "\n",
      "The fundamental principle I would prioritize above all others is **individual autonomy, specifically defined as the right to self-determination with full responsibility for one's actions.** This means individuals have the right to make choices about their lives, bodies, beliefs, and property, free from coercion by the state or other individuals, *as long as those choices do not directly and demonstrably harm others*.\n",
      "\n",
      "This principle is predicated on the idea that individuals are best positioned to understand and pursue their own well-being and that freedom, while not guaranteeing happiness, provides the necessary condition for it. The responsibility component ensures that individuals are held accountable for the consequences of their choices, discouraging reckless behavior and promoting a sense of civic duty.\n",
      "\n",
      "However, the most significant, unavoidable negative consequence of enshrining this principle is **inequality and the potential for disparate outcomes.**\n",
      "\n",
      "Here's why:\n",
      "\n",
      "*   **Unequal Starting Points:** Individuals are born with vastly different endowments – genetic predispositions, socioeconomic backgrounds, access to resources, and inherent talents. Pure individual autonomy, even with a focus on responsibility, will inevitably lead to some individuals accumulating more wealth, power, and opportunity than others.\n",
      "*   **Freedom to Fail:** The freedom to make choices includes the freedom to make *bad* choices. Some individuals will make choices that lead to personal hardship, poverty, or even self-destruction. While a safety net might mitigate the worst consequences, complete protection against failure is incompatible with true autonomy.\n",
      "*   **Perpetuation of Existing Advantages:**  Those who inherit wealth and privilege will have a significant advantage in this system. While mechanisms like inheritance taxes and progressive taxation could be implemented to redistribute wealth, they can only partially offset the advantages of being born into a fortunate situation. The freedom to pass on one's advantages to offspring is often viewed as a fundamental aspect of individual autonomy and property rights.\n",
      "*   **Moral Hazard:** Knowing one is ultimately responsible for their actions can discourage reliance on communal aid. However, it could also lead to taking excessive risks, knowing that at a certain point the consequences would be more harmful for others than oneself.\n",
      "\n",
      "Ultimately, prioritizing individual autonomy with full responsibility creates a society that is likely to be dynamic, innovative, and allow for significant personal fulfillment for many. However, it also accepts the reality that some individuals will inevitably struggle, and that inequality will be a persistent challenge. The ethical question then becomes: is the trade-off of increased freedom and potential for upward mobility worth the acceptance of a certain level of inequality and the potential for individual suffering resulting from poor choices or bad luck? It's a difficult question with no easy answers, and the specific policies implemented within such a society would require constant evaluation and adjustment to mitigate the worst consequences of this fundamental trade-off.\n",
      "\n",
      "\n",
      "# Response from competitor 2\n",
      "\n",
      "Let’s break this down step by step.\n",
      "\n",
      "---\n",
      "\n",
      "## **1. Understanding the trade-off**\n",
      "\n",
      "The question sets up two goals:\n",
      "\n",
      "1. **Maximize individual freedom**  \n",
      "2. **Minimize collective suffering**\n",
      "\n",
      "These can conflict. For example, maximizing individual freedom might allow actions that cause others to suffer (e.g., economic exploitation, pollution, hate speech). Minimizing collective suffering might require restrictions on individual choices (e.g., laws, taxes, regulations).\n",
      "\n",
      "So the “fundamental principle” must navigate this tension.\n",
      "\n",
      "---\n",
      "\n",
      "## **2. Candidate principle**\n",
      "\n",
      "One principle that tries to balance these is:\n",
      "\n",
      "**“The only justified limit on individual freedom is to prevent harm to others.”**\n",
      "\n",
      "This is essentially a strong form of **John Stuart Mill’s Harm Principle** from *On Liberty*.\n",
      "\n",
      "- It prioritizes freedom as the default.\n",
      "- It allows restrictions only to prevent harm (thus reducing collective suffering caused by others’ actions).\n",
      "- It does not restrict actions that only affect the individual, no matter how self-destructive.\n",
      "\n",
      "---\n",
      "\n",
      "## **3. Prioritizing above all others**\n",
      "\n",
      "If we prioritize this principle **above all others**, it means:\n",
      "\n",
      "- No paternalism: people can make self-harming choices freely.\n",
      "- No legal moralism: society can’t ban something just because it’s considered immoral if no one is harmed.\n",
      "- Economic and social freedoms are broad, except where they cause direct, preventable harm to others.\n",
      "\n",
      "---\n",
      "\n",
      "## **4. Unavoidable negative consequence**\n",
      "\n",
      "The most significant unavoidable negative consequence of strictly applying the Harm Principle is:\n",
      "\n",
      "**It permits significant avoidable suffering that arises from individuals’ own free but foolish choices, and it may allow systemic or cumulative harms that are hard to attribute to any single individual’s actions.**\n",
      "\n",
      "Let’s unpack that:\n",
      "\n",
      "1. **Self-inflicted suffering**:  \n",
      "   People could ruin their health, waste their lives, or fall into addiction, and the state would not intervene to stop them (only to inform). This increases suffering that could have been prevented with gentle paternalism.\n",
      "\n",
      "2. **Difficulty defining “harm to others”**:  \n",
      "   Some harms are indirect or diffuse. Example: pollution — each factory’s pollution might be small, but cumulative effect harms everyone. Under a strict harm principle, regulation might be weak if harm is not direct and immediate.\n",
      "\n",
      "3. **Inequality and social suffering**:  \n",
      "   Freedom might allow vast inequalities, which could cause collective suffering (poverty, lack of access to basic needs) that is not directly “harmed by a specific other” but results from system dynamics. A pure harm principle might not permit redistribution unless it’s framed as preventing harm.\n",
      "\n",
      "4. **Neglect of positive duties to aid**:  \n",
      "   The principle is mostly negative (“don’t harm others”) — it doesn’t impose a duty to relieve suffering that isn’t caused by you. So collective suffering from natural causes or misfortune might persist in a society of free but un-obligated individuals.\n",
      "\n",
      "---\n",
      "\n",
      "## **5. Conclusion**\n",
      "\n",
      "**Fundamental principle:**  \n",
      "*Individual freedom may only be restricted to prevent direct and demonstrable harm to other non-consenting persons.*\n",
      "\n",
      "**Most significant unavoidable negative consequence:**  \n",
      "*Widespread preventable suffering from self-harm and from systemic/structural problems that do not count as direct harm from an identifiable agent, leading to potential social neglect of welfare and communal well-being.*\n",
      "\n",
      "---\n",
      "\n",
      "Would you like me to explore an alternative principle that might handle this trade-off differently?\n",
      "\n",
      "# Response from competitor 3\n",
      "\n",
      "If I had to design a society that maximizes individual freedom and minimizes collective suffering, I would prioritize the principle of **Universal Empowerment through Education and Critical Thinking** above all others. This principle would ensure that every individual has access to quality education, critical thinking skills, and the ability to make informed decisions about their own lives.\n",
      "\n",
      "The underlying idea is that when people are empowered with knowledge, critical thinking, and autonomy, they are better equipped to make choices that promote their own well-being and contribute to the greater good. This, in turn, would foster a society that values individual freedom, creativity, and innovation, while minimizing collective suffering.\n",
      "\n",
      "The fundamental principle would be enshrined through the following key elements:\n",
      "\n",
      "1. **Universal access to quality education**: Every individual, regardless of their background or socioeconomic status, would have access to comprehensive education that emphasizes critical thinking, emotional intelligence, and civic engagement.\n",
      "2. **Encouragement of critical thinking and media literacy**: The education system would prioritize critical thinking, media literacy, and the ability to evaluate information, ensuring that individuals can navigate complex information landscapes and make informed decisions.\n",
      "3. **Autonomy and self-determination**: Individuals would have the freedom to make choices about their own lives, including their careers, relationships, and personal development, as long as those choices do not harm others.\n",
      "4. **Inclusive and participatory decision-making**: Citizens would have opportunities to engage in decision-making processes that affect their communities, fostering a sense of ownership and accountability.\n",
      "\n",
      "However, even with this principle in place, there would be an unavoidable negative consequence: **Increased Inequality of Outcomes**.\n",
      "\n",
      "As individuals are empowered to make choices and pursue their own interests, some would inevitably excel more than others, leading to a widening gap in outcomes. Those who are more talented, motivated, or privileged would likely achieve greater success, while others might struggle to keep pace. This could result in increased economic and social disparities, potentially exacerbating existing inequalities.\n",
      "\n",
      "This negative consequence would arise from the following factors:\n",
      "\n",
      "1. **Variations in individual talent and motivation**: People have different aptitudes, interests, and levels of motivation, which would lead to uneven outcomes even with equal access to education and opportunities.\n",
      "2. **Differential access to resources and networks**: Although education and critical thinking skills would be widely available, some individuals would still have greater access to resources, social connections, and networking opportunities, giving them an unfair advantage.\n",
      "3. **Systemic and structural barriers**: Despite efforts to promote equality, historical and systemic injustices, such as racism, sexism, and ableism, could persist, affecting certain groups' ability to achieve their full potential.\n",
      "\n",
      "To mitigate this negative consequence, the society could implement measures such as:\n",
      "\n",
      "1. **Progressive taxation and social welfare programs**: Implementing policies that redistribute wealth and provide a safety net for those who are struggling could help reduce economic inequality.\n",
      "2. **Targeted support and resources**: Offering additional support and resources to marginalized or disadvantaged groups could help level the playing field and promote greater equality of opportunity.\n",
      "3. **Fostering a culture of empathy and mutual support**: Encouraging a culture that values empathy, cooperation, and mutual support could help reduce the stigma associated with failure and promote a more equitable society.\n",
      "\n",
      "Ultimately, the principle of Universal Empowerment through Education and Critical Thinking would need to be balanced with measures that address the inevitable inequality of outcomes, ensuring that the benefits of individual freedom and autonomy are shared by all, while minimizing collective suffering.\n",
      "\n",
      "# Response from competitor 4\n",
      "\n",
      "If I had to design a society that maximizes individual freedom and minimizes collective suffering, I would prioritize the fundamental principle of \"responsibility through self-sufficiency.\" This means that individuals are largely responsible for their own lives, well-being, and contributions to society. Here's why:\n",
      "\n",
      "1. Autonomy: By emphasizing individual responsibility and self-sufficiency, individuals have more control over their choices and decisions. This autonomy promotes freedom and personal growth.\n",
      "2. Incentivizes productivity and innovation: When people are personally invested in their work and lives, they're more likely to be motivated to contribute positively to society, leading to increased productivity and innovation.\n",
      "3. Encourages social accountability: Individual responsibility fosters a sense of accountability for one's actions, promoting social cohesion and trust.\n",
      "\n",
      "However, enshrining this principle above all others comes with significant negative consequences:\n",
      "\n",
      "1. Increased economic inequality: If individuals are solely responsible for their own well-being, those who are not fortunate enough to have access to resources or opportunities may struggle to make ends meet.\n",
      "2. Decreased social safety nets: Governments may reduce or eliminate social welfare programs and support systems, leaving vulnerable populations exposed to poverty, health risks, and other hardships.\n",
      "3. Increased individual competition and isolation: Emphasizing personal responsibility can lead individuals to compete with each other for resources and opportunities, leading to a sense of isolation and disconnection from their communities.\n",
      "\n",
      "The most significant unavoidable negative consequence would be the growing wealth gap between those who are self-sufficient due to privilege or good fortune and those who cannot.\n",
      "\n",
      "\n",
      "\n",
      "Now respond with the JSON with the ranked order of the competitors, nothing else. Do not include markdown formatting or code blocks.\n"
     ]
    }
   ],
   "source": [
    "print(judge)"
   ]
  },
  {
   "cell_type": "code",
   "execution_count": 19,
   "metadata": {},
   "outputs": [],
   "source": [
    "judge_messages = [{\"role\": \"user\", \"content\": judge}]"
   ]
  },
  {
   "cell_type": "code",
   "execution_count": 20,
   "metadata": {},
   "outputs": [
    {
     "name": "stdout",
     "output_type": "stream",
     "text": [
      "{\"results\": [\"2\", \"1\", \"3\", \"4\"]}\n"
     ]
    }
   ],
   "source": [
    "# Judgement time!\n",
    "\n",
    "# openai = OpenAI()\n",
    "# response = openai.chat.completions.create(\n",
    "    # model=\"o3-mini\",\n",
    "    # messages=judge_messages,\n",
    "# )\n",
    "# results = response.choices[0].message.content\n",
    "deepseek = OpenAI(base_url=DEEPSEEK_BASE_URL, api_key=deepseek_api_key)\n",
    "response = deepseek.chat.completions.create(model=\"deepseek-chat\", messages=judge_messages)\n",
    "results = response.choices[0].message.content\n",
    "print(results)\n",
    "\n"
   ]
  },
  {
   "cell_type": "code",
   "execution_count": 21,
   "metadata": {},
   "outputs": [
    {
     "name": "stdout",
     "output_type": "stream",
     "text": [
      "Rank 1: deepseek-chat\n",
      "Rank 2: gemini-2.0-flash\n",
      "Rank 3: llama-3.3-70b-versatile\n",
      "Rank 4: llama3.2\n"
     ]
    }
   ],
   "source": [
    "# OK let's turn this into results!\n",
    "\n",
    "results_dict = json.loads(results)\n",
    "ranks = results_dict[\"results\"]\n",
    "for index, result in enumerate(ranks):\n",
    "    competitor = competitors[int(result)-1]\n",
    "    print(f\"Rank {index+1}: {competitor}\")"
   ]
  },
  {
   "cell_type": "markdown",
   "metadata": {},
   "source": [
    "<table style=\"margin: 0; text-align: left; width:100%\">\n",
    "    <tr>\n",
    "        <td style=\"width: 150px; height: 150px; vertical-align: middle;\">\n",
    "            <img src=\"../assets/exercise.png\" width=\"150\" height=\"150\" style=\"display: block;\" />\n",
    "        </td>\n",
    "        <td>\n",
    "            <h2 style=\"color:#ff7800;\">Exercise</h2>\n",
    "            <span style=\"color:#ff7800;\">Which pattern(s) did this use? Try updating this to add another Agentic design pattern.\n",
    "            </span>\n",
    "        </td>\n",
    "    </tr>\n",
    "</table>"
   ]
  },
  {
   "cell_type": "markdown",
   "metadata": {},
   "source": [
    "<table style=\"margin: 0; text-align: left; width:100%\">\n",
    "    <tr>\n",
    "        <td style=\"width: 150px; height: 150px; vertical-align: middle;\">\n",
    "            <img src=\"../assets/business.png\" width=\"150\" height=\"150\" style=\"display: block;\" />\n",
    "        </td>\n",
    "        <td>\n",
    "            <h2 style=\"color:#00bfff;\">Commercial implications</h2>\n",
    "            <span style=\"color:#00bfff;\">These kinds of patterns - to send a task to multiple models, and evaluate results,\n",
    "            are common where you need to improve the quality of your LLM response. This approach can be universally applied\n",
    "            to business projects where accuracy is critical.\n",
    "            </span>\n",
    "        </td>\n",
    "    </tr>\n",
    "</table>"
   ]
  }
 ],
 "metadata": {
  "kernelspec": {
   "display_name": ".venv",
   "language": "python",
   "name": "python3"
  },
  "language_info": {
   "codemirror_mode": {
    "name": "ipython",
    "version": 3
   },
   "file_extension": ".py",
   "mimetype": "text/x-python",
   "name": "python",
   "nbconvert_exporter": "python",
   "pygments_lexer": "ipython3",
   "version": "3.12.0"
  }
 },
 "nbformat": 4,
 "nbformat_minor": 2
}
