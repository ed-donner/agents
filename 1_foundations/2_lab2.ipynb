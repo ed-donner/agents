{
 "cells": [
  {
   "cell_type": "markdown",
   "metadata": {
    "jp-MarkdownHeadingCollapsed": true
   },
   "source": [
    "## Welcome to the Second Lab - Week 1, Day 3\n",
    "\n",
    "Today we will work with lots of models! This is a way to get comfortable with APIs."
   ]
  },
  {
   "cell_type": "markdown",
   "metadata": {},
   "source": [
    "<table style=\"margin: 0; text-align: left; width:100%\">\n",
    "    <tr>\n",
    "        <td style=\"width: 150px; height: 150px; vertical-align: middle;\">\n",
    "            <img src=\"../assets/stop.png\" width=\"150\" height=\"150\" style=\"display: block;\" />\n",
    "        </td>\n",
    "        <td>\n",
    "            <h2 style=\"color:#ff7800;\">Important point - please read</h2>\n",
    "            <span style=\"color:#ff7800;\">The way I collaborate with you may be different to other courses you've taken. I prefer not to type code while you watch. Rather, I execute Jupyter Labs, like this, and give you an intuition for what's going on. My suggestion is that you carefully execute this yourself, <b>after</b> watching the lecture. Add print statements to understand what's going on, and then come up with your own variations.<br/><br/>If you have time, I'd love it if you submit a PR for changes in the community_contributions folder - instructions in the resources. Also, if you have a Github account, use this to showcase your variations. Not only is this essential practice, but it demonstrates your skills to others, including perhaps future clients or employers...\n",
    "            </span>\n",
    "        </td>\n",
    "    </tr>\n",
    "</table>"
   ]
  },
  {
   "cell_type": "code",
   "execution_count": 1,
   "metadata": {},
   "outputs": [],
   "source": [
    "# Start with imports - ask ChatGPT to explain any package that you don't know\n",
    "\n",
    "import os\n",
    "import json\n",
    "from dotenv import load_dotenv\n",
    "from openai import OpenAI\n",
    "from anthropic import Anthropic\n",
    "from IPython.display import Markdown, display"
   ]
  },
  {
   "cell_type": "code",
   "execution_count": 2,
   "metadata": {},
   "outputs": [
    {
     "data": {
      "text/plain": [
       "True"
      ]
     },
     "execution_count": 2,
     "metadata": {},
     "output_type": "execute_result"
    }
   ],
   "source": [
    "# Always remember to do this!\n",
    "load_dotenv(override=True)"
   ]
  },
  {
   "cell_type": "code",
   "execution_count": 3,
   "metadata": {},
   "outputs": [
    {
     "name": "stdout",
     "output_type": "stream",
     "text": [
      "OpenAI API Key exists and begins sk-proj-\n",
      "Anthropic API Key exists and begins sk-ant-\n",
      "Google API Key exists and begins AI\n",
      "DeepSeek API Key exists and begins sk-\n",
      "Groq API Key not set (and this is optional)\n"
     ]
    }
   ],
   "source": [
    "# Print the key prefixes to help with any debugging\n",
    "\n",
    "openai_api_key = os.getenv('OPENAI_API_KEY')\n",
    "anthropic_api_key = os.getenv('ANTHROPIC_API_KEY')\n",
    "google_api_key = os.getenv('GOOGLE_API_KEY')\n",
    "deepseek_api_key = os.getenv('DEEPSEEK_API_KEY')\n",
    "groq_api_key = os.getenv('GROQ_API_KEY')\n",
    "\n",
    "if openai_api_key:\n",
    "    print(f\"OpenAI API Key exists and begins {openai_api_key[:8]}\")\n",
    "else:\n",
    "    print(\"OpenAI API Key not set\")\n",
    "    \n",
    "if anthropic_api_key:\n",
    "    print(f\"Anthropic API Key exists and begins {anthropic_api_key[:7]}\")\n",
    "else:\n",
    "    print(\"Anthropic API Key not set (and this is optional)\")\n",
    "\n",
    "if google_api_key:\n",
    "    print(f\"Google API Key exists and begins {google_api_key[:2]}\")\n",
    "else:\n",
    "    print(\"Google API Key not set (and this is optional)\")\n",
    "\n",
    "if deepseek_api_key:\n",
    "    print(f\"DeepSeek API Key exists and begins {deepseek_api_key[:3]}\")\n",
    "else:\n",
    "    print(\"DeepSeek API Key not set (and this is optional)\")\n",
    "\n",
    "if groq_api_key:\n",
    "    print(f\"Groq API Key exists and begins {groq_api_key[:4]}\")\n",
    "else:\n",
    "    print(\"Groq API Key not set (and this is optional)\")"
   ]
  },
  {
   "cell_type": "code",
   "execution_count": 4,
   "metadata": {},
   "outputs": [],
   "source": [
    "request = \"Please come up with a challenging, nuanced question that I can ask a number of LLMs to evaluate their intelligence. \"\n",
    "request += \"Answer only with the question, no explanation.\"\n",
    "messages = [{\"role\": \"user\", \"content\": request}]"
   ]
  },
  {
   "cell_type": "code",
   "execution_count": 5,
   "metadata": {},
   "outputs": [
    {
     "data": {
      "text/plain": [
       "[{'role': 'user',\n",
       "  'content': 'Please come up with a challenging, nuanced question that I can ask a number of LLMs to evaluate their intelligence. Answer only with the question, no explanation.'}]"
      ]
     },
     "execution_count": 5,
     "metadata": {},
     "output_type": "execute_result"
    }
   ],
   "source": [
    "messages"
   ]
  },
  {
   "cell_type": "code",
   "execution_count": 6,
   "metadata": {},
   "outputs": [
    {
     "name": "stdout",
     "output_type": "stream",
     "text": [
      "How would you approach resolving a moral dilemma where the utilitarian outcome benefits the majority but causes significant harm to a vulnerable minority, and what ethical principles would guide your decision-making process?\n"
     ]
    }
   ],
   "source": [
    "openai = OpenAI()\n",
    "response = openai.chat.completions.create(\n",
    "    model=\"gpt-4o-mini\",\n",
    "    messages=messages,\n",
    ")\n",
    "question = response.choices[0].message.content\n",
    "print(question)\n"
   ]
  },
  {
   "cell_type": "code",
   "execution_count": 7,
   "metadata": {},
   "outputs": [],
   "source": [
    "competitors = []\n",
    "answers = []\n",
    "messages = [{\"role\": \"user\", \"content\": question}]"
   ]
  },
  {
   "cell_type": "code",
   "execution_count": 8,
   "metadata": {},
   "outputs": [
    {
     "data": {
      "text/markdown": [
       "Resolving a moral dilemma that pits utilitarian outcomes against the rights and well-being of a vulnerable minority requires a careful and nuanced approach. Here are the steps I would consider, along with the ethical principles that would guide my decision-making:\n",
       "\n",
       "1. **Identify the Stakeholders**: Begin by clearly identifying all stakeholders involved, including the majority that would benefit from the utilitarian outcome and the vulnerable minority that would be harmed. Understanding their circumstances and needs is crucial.\n",
       "\n",
       "2. **Consider the Consequences**: Utilize a utilitarian framework to assess the overall consequences of the decision. This means evaluating the benefits to the majority and the harms to the minority. However, it's important to go beyond mere numbers and consider the nature and severity of the harm to the minority.\n",
       "\n",
       "3. **Examine Ethical Principles**:\n",
       "   - **Rights-Based Ethics**: Consider the rights of the vulnerable minority. A rights-based approach emphasizes that certain rights (such as the right to life, liberty, and security) should not be violated, even for the greater good. If the harm to the minority is severe, it may override utilitarian calculations.\n",
       "   - **Justice and Fairness**: Reflect on principles of justice and fairness. Are the burdens and benefits distributed equitably? A fair distribution of harms and benefits is essential to ethical decision-making.\n",
       "   - **Care Ethics**: Consider the relationships involved and the importance of care and compassion for the vulnerable. This perspective emphasizes empathy and the moral imperative to support those who are most at risk.\n",
       "\n",
       "4. **Alternative Solutions**: Look for alternative approaches that could achieve the desired outcomes for the majority without causing significant harm to the minority. This might include compromise solutions or interventions that provide support to the vulnerable group.\n",
       "\n",
       "5. **Seek Input and Dialogue**: Engage with the affected groups, particularly the vulnerable minority, to understand their perspectives and insights. This can lead to more informed and inclusive decision-making.\n",
       "\n",
       "6. **Make a Decision with Transparency**: After careful consideration of all factors and principles, make a decision and be open about the reasoning behind it. Transparency fosters trust and accountability.\n",
       "\n",
       "7. **Monitor and Adjust**: If the decision is implemented, monitor its outcomes and be ready to make adjustments if the impacts on the vulnerable minority are more harmful than anticipated or if unforeseen consequences arise.\n",
       "\n",
       "In summary, the decision-making process should balance utilitarian principles with an acknowledgment of rights, justice, compassion, and the voices of those affected. It is vital to act thoughtfully and consider every angle to foster a more ethical and inclusive outcome."
      ],
      "text/plain": [
       "<IPython.core.display.Markdown object>"
      ]
     },
     "metadata": {},
     "output_type": "display_data"
    }
   ],
   "source": [
    "# The API we know well\n",
    "\n",
    "model_name = \"gpt-4o-mini\"\n",
    "\n",
    "response = openai.chat.completions.create(model=model_name, messages=messages)\n",
    "answer = response.choices[0].message.content\n",
    "\n",
    "display(Markdown(answer))\n",
    "competitors.append(model_name)\n",
    "answers.append(answer)"
   ]
  },
  {
   "cell_type": "code",
   "execution_count": 9,
   "metadata": {},
   "outputs": [
    {
     "data": {
      "text/markdown": [
       "# Approaching the Moral Dilemma\n",
       "\n",
       "This is a classic ethical tension that challenges pure utilitarian thinking. I'd approach it through multiple ethical frameworks:\n",
       "\n",
       "First, I'd examine if the utilitarian calculation itself is complete. Does it account for:\n",
       "- Long-term psychological impacts on society from normalizing harm to minorities\n",
       "- Precedent-setting effects\n",
       "- Erosion of rights protections\n",
       "\n",
       "I'd particularly consider:\n",
       "\n",
       "**Rights-based principles**: Are fundamental rights of the minority being violated? Rights typically function as constraints on utilitarian calculations.\n",
       "\n",
       "**Justice and fairness**: Would the distribution of benefits and harms reinforce existing inequities?\n",
       "\n",
       "**Care ethics**: How does the solution affect our relationships and obligations to the vulnerable?\n",
       "\n",
       "In my decision-making, I'd seek solutions that:\n",
       "1. Preserve core rights while maximizing welfare\n",
       "2. Distribute unavoidable harms equitably\n",
       "3. Include compensatory measures if harm cannot be avoided\n",
       "4. Engage the affected minority in the decision process\n",
       "\n",
       "Rather than simply accepting the majority-benefit outcome, I'd work to find creative alternatives that achieve the utilitarian goal while better protecting the vulnerable."
      ],
      "text/plain": [
       "<IPython.core.display.Markdown object>"
      ]
     },
     "metadata": {},
     "output_type": "display_data"
    }
   ],
   "source": [
    "# Anthropic has a slightly different API, and Max Tokens is required\n",
    "\n",
    "model_name = \"claude-3-7-sonnet-latest\"\n",
    "\n",
    "claude = Anthropic()\n",
    "response = claude.messages.create(model=model_name, messages=messages, max_tokens=1000)\n",
    "answer = response.content[0].text\n",
    "\n",
    "display(Markdown(answer))\n",
    "competitors.append(model_name)\n",
    "answers.append(answer)"
   ]
  },
  {
   "cell_type": "code",
   "execution_count": 11,
   "metadata": {},
   "outputs": [
    {
     "data": {
      "text/markdown": [
       "This is a classic and incredibly difficult ethical dilemma, highlighting the inherent tension between utilitarianism and other ethical principles like rights-based ethics and justice. Here's how I would approach resolving it, along with the guiding principles:\n",
       "\n",
       "**1. Understanding the Situation Thoroughly:**\n",
       "\n",
       "*   **Fact-Finding:**  I would start by gathering as much detailed information as possible.  This includes:\n",
       "    *   **Specifics of the benefit to the majority:**  How large is the benefit?  How many people are affected?  Is it a critical benefit (e.g., saving lives) or a more minor one (e.g., increased convenience)?  Are there alternative ways to achieve the benefit, even if they are less efficient?\n",
       "    *   **Specifics of the harm to the minority:** How severe is the harm? Is it physical, emotional, economic, or a combination? How many people are affected? Is the harm reversible? Is the minority group already disadvantaged or vulnerable?\n",
       "    *   **Long-term consequences:**  What are the potential long-term effects of both the benefit to the majority and the harm to the minority? Will the harm to the minority create a precedent that could lead to future injustices? Will the benefit to the majority create dependencies or unintended negative consequences?\n",
       "    *   **Stakeholder perspectives:**  I would seek to understand the perspectives of all stakeholders, including those in the majority, the vulnerable minority, and any neutral parties who might be affected.\n",
       "\n",
       "*   **Clarifying Values:**  I would explicitly acknowledge the conflicting values at play:\n",
       "    *   **Maximizing overall happiness (Utilitarianism):**  Seeking the greatest good for the greatest number.\n",
       "    *   **Protecting individual rights:** Ensuring that every individual, especially the vulnerable, is treated with dignity and respect.\n",
       "    *   **Promoting justice and fairness:**  Ensuring that burdens and benefits are distributed equitably.\n",
       "    *   **Minimizing harm:** Avoiding actions that cause unnecessary suffering.\n",
       "\n",
       "**2. Exploring Alternatives:**\n",
       "\n",
       "The goal is to find a solution that minimizes harm to the minority while still providing as much benefit as possible to the majority. This involves brainstorming and evaluating different approaches:\n",
       "\n",
       "*   **Mitigation Strategies:**  Can the harm to the minority be mitigated or minimized?  For example, can compensation be provided, support services offered, or protections put in place to lessen the negative impact?\n",
       "*   **Benefit Sharing:** Can some of the benefits enjoyed by the majority be shared with the minority to offset the harm they are experiencing?\n",
       "*   **Targeted Assistance:** Can specific assistance be provided to the minority to help them adapt to the changes and improve their situation?\n",
       "*   **Finding Alternative Solutions:**  Are there alternative solutions that would achieve the desired outcome for the majority without causing harm to the minority, even if they are less efficient or more costly?  Think creatively.  Can technology help?  Can policy changes help?  Can a different approach altogether be considered?\n",
       "*   **Phased Implementation:**  Could the solution be implemented in phases, allowing time to monitor the impact on the minority and adjust the approach as needed?\n",
       "\n",
       "**3. Ethical Frameworks for Decision-Making:**\n",
       "\n",
       "I would use a combination of ethical frameworks to guide my decision, rather than relying solely on utilitarianism:\n",
       "\n",
       "*   **Utilitarianism (as a starting point):**  Weigh the overall benefits to the majority against the harm to the minority.  Quantify the impacts as much as possible (though recognizing the limitations of quantifying subjective experiences).  Consider long-term consequences.  However, utilitarianism alone is insufficient.\n",
       "\n",
       "*   **Deontology (Rights-Based Ethics):**  This framework emphasizes moral duties and rights.  Consider whether the proposed action violates any fundamental rights of the minority, such as the right to life, liberty, or security.  It focuses on the *intrinsic* wrongness of an action, regardless of its consequences.  Are we using the minority as a mere means to an end?\n",
       "\n",
       "*   **Justice and Fairness:**  Consider the principles of distributive justice.  Is the burden being placed on the minority disproportionate? Is the decision fair and equitable to all affected parties? Are the vulnerable members of society being treated with special consideration?  John Rawls's \"veil of ignorance\" thought experiment can be helpful here: imagine you don't know which group you'll belong to – would you still find the decision acceptable?\n",
       "\n",
       "*   **Virtue Ethics:**  What would a virtuous person do in this situation?  What virtues are relevant, such as compassion, fairness, integrity, and responsibility?  How can these virtues guide the decision-making process?\n",
       "\n",
       "*   **The \"Moral Minimum\":**  At an absolute minimum, ensure that the proposed solution does not violate basic human rights and provides a level of protection to the minority that respects their dignity and worth.\n",
       "\n",
       "**4. Making the Decision:**\n",
       "\n",
       "*   **Balancing Competing Values:**  The decision-making process requires a careful balancing of competing values.  There is no easy answer, and the \"right\" decision will often depend on the specific circumstances.\n",
       "\n",
       "*   **Transparency and Accountability:**  The decision-making process should be transparent and accountable.  The rationale for the decision should be clearly explained to all stakeholders, and there should be mechanisms in place to ensure that the decision is implemented fairly and effectively.\n",
       "\n",
       "*   **Prioritizing the Vulnerable:**  When in doubt, prioritize the well-being of the vulnerable minority.  A just society is judged by how it treats its most vulnerable members.\n",
       "\n",
       "*   **Ongoing Monitoring and Evaluation:**  After the decision is implemented, it is crucial to monitor its impact on all stakeholders, especially the minority.  If the harm to the minority is greater than anticipated, the decision should be re-evaluated and adjusted accordingly.\n",
       "\n",
       "**Example Scenario:**\n",
       "\n",
       "Imagine a city needs to build a new highway to alleviate traffic congestion.  The proposed route goes through a low-income neighborhood with a predominantly minority population, displacing many residents and potentially increasing pollution in the area.\n",
       "\n",
       "Applying the above framework, I would:\n",
       "\n",
       "1.  **Investigate:**  Research alternative routes, mitigation strategies (e.g., noise barriers, pollution reduction measures), and compensation packages for displaced residents.\n",
       "2.  **Evaluate:**  Assess the economic benefits of the highway versus the social and environmental costs to the neighborhood.\n",
       "3.  **Consider Ethics:**  Recognize the potential violation of the residents' right to housing and a healthy environment.  Explore whether the proposed action perpetuates existing inequalities.\n",
       "4.  **Seek Alternatives:**  Consider public transportation improvements, traffic management strategies, or a different highway route, even if more expensive.\n",
       "5.  **Implement:** If the highway is deemed necessary, implement it with maximum mitigation efforts, generous compensation, and community engagement to ensure the residents' voices are heard. Continuously monitor and address negative impacts.\n",
       "\n",
       "**Conclusion:**\n",
       "\n",
       "Resolving these dilemmas is rarely simple.  It requires careful analysis, thoughtful consideration of ethical principles, a willingness to explore alternatives, and a commitment to minimizing harm to the most vulnerable.  The goal should not be simply to maximize overall happiness, but to create a just and equitable society where the rights and well-being of all individuals are respected.\n"
      ],
      "text/plain": [
       "<IPython.core.display.Markdown object>"
      ]
     },
     "metadata": {},
     "output_type": "display_data"
    }
   ],
   "source": [
    "gemini = OpenAI(api_key=google_api_key, base_url=\"https://generativelanguage.googleapis.com/v1beta/openai/\")\n",
    "model_name = \"gemini-2.0-flash\"\n",
    "\n",
    "response = gemini.chat.completions.create(model=model_name, messages=messages)\n",
    "answer = response.choices[0].message.content\n",
    "\n",
    "display(Markdown(answer))\n",
    "competitors.append(model_name)\n",
    "answers.append(answer)"
   ]
  },
  {
   "cell_type": "code",
   "execution_count": 13,
   "metadata": {},
   "outputs": [
    {
     "data": {
      "text/markdown": [
       "Resolving a moral dilemma where utilitarian outcomes conflict with the rights of a vulnerable minority requires a careful balancing of ethical principles. Here’s a structured approach to navigating such a dilemma:\n",
       "\n",
       "### **1. Clarify the Situation**\n",
       "   - **Identify Stakeholders:** Who benefits, and who is harmed? How significant are the benefits and harms?\n",
       "   - **Assess Consequences:** What are the short-term and long-term effects on both the majority and the minority?\n",
       "   - **Examine Alternatives:** Are there other solutions that could maximize well-being without harming the minority?\n",
       "\n",
       "### **2. Apply Multiple Ethical Frameworks**\n",
       "   - **Utilitarianism:** Does the action truly maximize overall happiness, or are there hidden costs (e.g., erosion of trust, systemic injustice)?\n",
       "   - **Deontological Ethics:** Are fundamental rights (e.g., autonomy, dignity) being violated, regardless of outcomes?\n",
       "   - **Virtue Ethics:** What would a just, compassionate, and wise person do in this situation?\n",
       "   - **Justice & Fairness (Rawlsian Ethics):** Would this decision be acceptable behind a \"veil of ignorance\" (not knowing if you'd be in the majority or minority)?\n",
       "\n",
       "### **3. Prioritize Protection of the Vulnerable**\n",
       "   - **Principle of Least Harm:** Even if the majority benefits, is the harm to the minority avoidable or disproportionate?\n",
       "   - **Rights-Based Approach:** Certain rights (e.g., freedom from exploitation, equal treatment) may be non-negotiable, even for greater utility.\n",
       "   - **Social Contract Theory:** Does the decision uphold societal trust and fairness, or does it set a dangerous precedent for marginalizing groups?\n",
       "\n",
       "### **4. Seek a Compromise or Alternative Solution**\n",
       "   - **Mitigate Harm:** Can safeguards or reparations be implemented to reduce harm to the minority?\n",
       "   - **Deliberative Democracy:** Engage affected parties in dialogue to find a more just solution.\n",
       "   - **Long-Term Perspective:** Could short-term gains lead to long-term societal harm (e.g., increased inequality, loss of solidarity)?\n",
       "\n",
       "### **5. Make a Decision with Ethical Justification**\n",
       "   - If no perfect solution exists, choose the option that:\n",
       "     - Minimizes harm to the most vulnerable.\n",
       "     - Respects fundamental rights.\n",
       "     - Maintains transparency and accountability.\n",
       "   - Be prepared to defend the decision based on ethical reasoning, not just outcomes.\n",
       "\n",
       "### **Key Guiding Principles**\n",
       "   - **Non-Exploitation:** Avoid sacrificing the few for the many in a way that treats them as mere means.\n",
       "   - **Proportionality:** The harm to the minority should not vastly outweigh the benefits to the majority.\n",
       "   - **Moral Integrity:** Upholding justice and dignity may sometimes require rejecting pure utilitarianism.\n",
       "\n",
       "### **Conclusion**\n",
       "While utilitarianism provides a useful lens, ethical decision-making should integrate justice, rights, and compassion—especially when vulnerable groups are at risk. The best resolution often lies in finding a middle path that respects all stakeholders rather than accepting a harmful trade-off."
      ],
      "text/plain": [
       "<IPython.core.display.Markdown object>"
      ]
     },
     "metadata": {},
     "output_type": "display_data"
    }
   ],
   "source": [
    "deepseek = OpenAI(api_key=deepseek_api_key, base_url=\"https://api.deepseek.com/v1\")\n",
    "model_name = \"deepseek-chat\"\n",
    "\n",
    "response = deepseek.chat.completions.create(model=model_name, messages=messages)\n",
    "answer = response.choices[0].message.content\n",
    "\n",
    "display(Markdown(answer))\n",
    "competitors.append(model_name)\n",
    "answers.append(answer)"
   ]
  },
  {
   "cell_type": "code",
   "execution_count": null,
   "metadata": {},
   "outputs": [],
   "source": [
    "groq = OpenAI(api_key=groq_api_key, base_url=\"https://api.groq.com/openai/v1\")\n",
    "model_name = \"llama-3.3-70b-versatile\"\n",
    "\n",
    "response = groq.chat.completions.create(model=model_name, messages=messages)\n",
    "answer = response.choices[0].message.content\n",
    "\n",
    "display(Markdown(answer))\n",
    "competitors.append(model_name)\n",
    "answers.append(answer)\n"
   ]
  },
  {
   "cell_type": "markdown",
   "metadata": {},
   "source": [
    "## For the next cell, we will use Ollama\n",
    "\n",
    "Ollama runs a local web service that gives an OpenAI compatible endpoint,  \n",
    "and runs models locally using high performance C++ code.\n",
    "\n",
    "If you don't have Ollama, install it here by visiting https://ollama.com then pressing Download and following the instructions.\n",
    "\n",
    "After it's installed, you should be able to visit here: http://localhost:11434 and see the message \"Ollama is running\"\n",
    "\n",
    "You might need to restart Cursor (and maybe reboot). Then open a Terminal (control+\\`) and run `ollama serve`\n",
    "\n",
    "Useful Ollama commands (run these in the terminal, or with an exclamation mark in this notebook):\n",
    "\n",
    "`ollama pull <model_name>` downloads a model locally  \n",
    "`ollama ls` lists all the models you've downloaded  \n",
    "`ollama rm <model_name>` deletes the specified model from your downloads"
   ]
  },
  {
   "cell_type": "markdown",
   "metadata": {},
   "source": [
    "<table style=\"margin: 0; text-align: left; width:100%\">\n",
    "    <tr>\n",
    "        <td style=\"width: 150px; height: 150px; vertical-align: middle;\">\n",
    "            <img src=\"../assets/stop.png\" width=\"150\" height=\"150\" style=\"display: block;\" />\n",
    "        </td>\n",
    "        <td>\n",
    "            <h2 style=\"color:#ff7800;\">Super important - ignore me at your peril!</h2>\n",
    "            <span style=\"color:#ff7800;\">The model called <b>llama3.3</b> is FAR too large for home computers - it's not intended for personal computing and will consume all your resources! Stick with the nicely sized <b>llama3.2</b> or <b>llama3.2:1b</b> and if you want larger, try llama3.1 or smaller variants of Qwen, Gemma, Phi or DeepSeek. See the <A href=\"https://ollama.com/models\">the Ollama models page</a> for a full list of models and sizes.\n",
    "            </span>\n",
    "        </td>\n",
    "    </tr>\n",
    "</table>"
   ]
  },
  {
   "cell_type": "code",
   "execution_count": null,
   "metadata": {},
   "outputs": [],
   "source": [
    "!ollama pull llama3.2"
   ]
  },
  {
   "cell_type": "code",
   "execution_count": null,
   "metadata": {},
   "outputs": [],
   "source": [
    "ollama = OpenAI(base_url='http://localhost:11434/v1', api_key='ollama')\n",
    "model_name = \"llama3.2\"\n",
    "\n",
    "response = ollama.chat.completions.create(model=model_name, messages=messages)\n",
    "answer = response.choices[0].message.content\n",
    "\n",
    "display(Markdown(answer))\n",
    "competitors.append(model_name)\n",
    "answers.append(answer)"
   ]
  },
  {
   "cell_type": "code",
   "execution_count": null,
   "metadata": {},
   "outputs": [],
   "source": [
    "# So where are we?\n",
    "\n",
    "print(competitors)\n",
    "print(answers)\n"
   ]
  },
  {
   "cell_type": "code",
   "execution_count": null,
   "metadata": {},
   "outputs": [],
   "source": [
    "# It's nice to know how to use \"zip\"\n",
    "for competitor, answer in zip(competitors, answers):\n",
    "    print(f\"Competitor: {competitor}\\n\\n{answer}\")\n"
   ]
  },
  {
   "cell_type": "code",
   "execution_count": 20,
   "metadata": {},
   "outputs": [],
   "source": [
    "# Let's bring this together - note the use of \"enumerate\"\n",
    "\n",
    "together = \"\"\n",
    "for index, answer in enumerate(answers):\n",
    "    together += f\"# Response from competitor {index+1}\\n\\n\"\n",
    "    together += answer + \"\\n\\n\""
   ]
  },
  {
   "cell_type": "code",
   "execution_count": null,
   "metadata": {},
   "outputs": [],
   "source": [
    "print(together)"
   ]
  },
  {
   "cell_type": "code",
   "execution_count": 22,
   "metadata": {},
   "outputs": [],
   "source": [
    "judge = f\"\"\"You are judging a competition between {len(competitors)} competitors.\n",
    "Each model has been given this question:\n",
    "\n",
    "{question}\n",
    "\n",
    "Your job is to evaluate each response for clarity and strength of argument, and rank them in order of best to worst.\n",
    "Respond with JSON, and only JSON, with the following format:\n",
    "{{\"results\": [\"best competitor number\", \"second best competitor number\", \"third best competitor number\", ...]}}\n",
    "\n",
    "Here are the responses from each competitor:\n",
    "\n",
    "{together}\n",
    "\n",
    "Now respond with the JSON with the ranked order of the competitors, nothing else. Do not include markdown formatting or code blocks.\"\"\"\n"
   ]
  },
  {
   "cell_type": "code",
   "execution_count": null,
   "metadata": {},
   "outputs": [],
   "source": [
    "print(judge)"
   ]
  },
  {
   "cell_type": "code",
   "execution_count": 29,
   "metadata": {},
   "outputs": [],
   "source": [
    "judge_messages = [{\"role\": \"user\", \"content\": judge}]"
   ]
  },
  {
   "cell_type": "code",
   "execution_count": null,
   "metadata": {},
   "outputs": [],
   "source": [
    "# Judgement time!\n",
    "\n",
    "openai = OpenAI()\n",
    "response = openai.chat.completions.create(\n",
    "    model=\"o3-mini\",\n",
    "    messages=judge_messages,\n",
    ")\n",
    "results = response.choices[0].message.content\n",
    "print(results)\n"
   ]
  },
  {
   "cell_type": "code",
   "execution_count": null,
   "metadata": {},
   "outputs": [],
   "source": [
    "# OK let's turn this into results!\n",
    "\n",
    "results_dict = json.loads(results)\n",
    "ranks = results_dict[\"results\"]\n",
    "for index, result in enumerate(ranks):\n",
    "    competitor = competitors[int(result)-1]\n",
    "    print(f\"Rank {index+1}: {competitor}\")"
   ]
  },
  {
   "cell_type": "markdown",
   "metadata": {},
   "source": [
    "<table style=\"margin: 0; text-align: left; width:100%\">\n",
    "    <tr>\n",
    "        <td style=\"width: 150px; height: 150px; vertical-align: middle;\">\n",
    "            <img src=\"../assets/exercise.png\" width=\"150\" height=\"150\" style=\"display: block;\" />\n",
    "        </td>\n",
    "        <td>\n",
    "            <h2 style=\"color:#ff7800;\">Exercise</h2>\n",
    "            <span style=\"color:#ff7800;\">Which pattern(s) did this use? Try updating this to add another Agentic design pattern.\n",
    "            </span>\n",
    "        </td>\n",
    "    </tr>\n",
    "</table>"
   ]
  },
  {
   "cell_type": "markdown",
   "metadata": {},
   "source": [
    "<table style=\"margin: 0; text-align: left; width:100%\">\n",
    "    <tr>\n",
    "        <td style=\"width: 150px; height: 150px; vertical-align: middle;\">\n",
    "            <img src=\"../assets/business.png\" width=\"150\" height=\"150\" style=\"display: block;\" />\n",
    "        </td>\n",
    "        <td>\n",
    "            <h2 style=\"color:#00bfff;\">Commercial implications</h2>\n",
    "            <span style=\"color:#00bfff;\">These kinds of patterns - to send a task to multiple models, and evaluate results,\n",
    "            are common where you need to improve the quality of your LLM response. This approach can be universally applied\n",
    "            to business projects where accuracy is critical.\n",
    "            </span>\n",
    "        </td>\n",
    "    </tr>\n",
    "</table>"
   ]
  }
 ],
 "metadata": {
  "kernelspec": {
   "display_name": ".venv",
   "language": "python",
   "name": "python3"
  },
  "language_info": {
   "codemirror_mode": {
    "name": "ipython",
    "version": 3
   },
   "file_extension": ".py",
   "mimetype": "text/x-python",
   "name": "python",
   "nbconvert_exporter": "python",
   "pygments_lexer": "ipython3",
   "version": "3.12.7"
  }
 },
 "nbformat": 4,
 "nbformat_minor": 4
}
