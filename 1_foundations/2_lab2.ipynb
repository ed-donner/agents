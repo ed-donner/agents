{
 "cells": [
  {
   "cell_type": "markdown",
   "metadata": {},
   "source": [
    "## Welcome to the Second Lab - Week 1, Day 3\n",
    "\n",
    "Today we will work with lots of models! This is a way to get comfortable with APIs."
   ]
  },
  {
   "cell_type": "markdown",
   "metadata": {},
   "source": [
    "<table style=\"margin: 0; text-align: left; width:100%\">\n",
    "    <tr>\n",
    "        <td style=\"width: 150px; height: 150px; vertical-align: middle;\">\n",
    "            <img src=\"../assets/stop.png\" width=\"150\" height=\"150\" style=\"display: block;\" />\n",
    "        </td>\n",
    "        <td>\n",
    "            <h2 style=\"color:#ff7800;\">Important point - please read</h2>\n",
    "            <span style=\"color:#ff7800;\">The way I collaborate with you may be different to other courses you've taken. I prefer not to type code while you watch. Rather, I execute Jupyter Labs, like this, and give you an intuition for what's going on. My suggestion is that you carefully execute this yourself, <b>after</b> watching the lecture. Add print statements to understand what's going on, and then come up with your own variations.<br/><br/>If you have time, I'd love it if you submit a PR for changes in the community_contributions folder - instructions in the resources. Also, if you have a Github account, use this to showcase your variations. Not only is this essential practice, but it demonstrates your skills to others, including perhaps future clients or employers...\n",
    "            </span>\n",
    "        </td>\n",
    "    </tr>\n",
    "</table>"
   ]
  },
  {
   "cell_type": "code",
   "execution_count": 13,
   "metadata": {},
   "outputs": [],
   "source": [
    "# Start with imports - ask ChatGPT to explain any package that you don't know\n",
    "\n",
    "import os\n",
    "import json\n",
    "from dotenv import load_dotenv\n",
    "from openai import OpenAI\n",
    "from anthropic import Anthropic\n",
    "from IPython.display import Markdown, display"
   ]
  },
  {
   "cell_type": "code",
   "execution_count": 14,
   "metadata": {},
   "outputs": [
    {
     "data": {
      "text/plain": [
       "True"
      ]
     },
     "execution_count": 14,
     "metadata": {},
     "output_type": "execute_result"
    }
   ],
   "source": [
    "# Always remember to do this!\n",
    "load_dotenv(override=True)"
   ]
  },
  {
   "cell_type": "code",
   "execution_count": 15,
   "metadata": {},
   "outputs": [
    {
     "name": "stdout",
     "output_type": "stream",
     "text": [
      "Anthropic API Key exists and begins sk-ant-\n",
      "Google API Key exists and begins AI\n",
      "DeepSeek API Key exists and begins sk-\n",
      "Groq API Key exists and begins gsk_\n"
     ]
    }
   ],
   "source": [
    "# Print the key prefixes to help with any debugging\n",
    "\n",
    "# openai_api_key = os.getenv('OPENAI_API_KEY')\n",
    "anthropic_api_key = os.getenv('ANTHROPIC_API_KEY')\n",
    "google_api_key = os.getenv('GOOGLE_API_KEY')\n",
    "deepseek_api_key = os.getenv('DEEPSEEK_API_KEY')\n",
    "groq_api_key = os.getenv('GROQ_API_KEY')\n",
    "\n",
    "# if openai_api_key:\n",
    "    # print(f\"OpenAI API Key exists and begins {openai_api_key[:8]}\")\n",
    "# else:\n",
    "    # print(\"OpenAI API Key not set\")\n",
    "    \n",
    "if anthropic_api_key:\n",
    "    print(f\"Anthropic API Key exists and begins {anthropic_api_key[:7]}\")\n",
    "else:\n",
    "    print(\"Anthropic API Key not set (and this is optional)\")\n",
    "\n",
    "if google_api_key:\n",
    "    print(f\"Google API Key exists and begins {google_api_key[:2]}\")\n",
    "else:\n",
    "    print(\"Google API Key not set (and this is optional)\")\n",
    "\n",
    "if deepseek_api_key:\n",
    "    print(f\"DeepSeek API Key exists and begins {deepseek_api_key[:3]}\")\n",
    "else:\n",
    "    print(\"DeepSeek API Key not set (and this is optional)\")\n",
    "\n",
    "if groq_api_key:\n",
    "    print(f\"Groq API Key exists and begins {groq_api_key[:4]}\")\n",
    "else:\n",
    "    print(\"Groq API Key not set (and this is optional)\")"
   ]
  },
  {
   "cell_type": "code",
   "execution_count": 16,
   "metadata": {},
   "outputs": [],
   "source": [
    "request = \"Please come up with a challenging, nuanced question that I can ask a number of LLMs to evaluate their intelligence. \"\n",
    "request += \"Answer only with the question, no explanation.\"\n",
    "messages = [{\"role\": \"user\", \"content\": request}]"
   ]
  },
  {
   "cell_type": "code",
   "execution_count": 17,
   "metadata": {},
   "outputs": [
    {
     "data": {
      "text/plain": [
       "[{'role': 'user',\n",
       "  'content': 'Please come up with a challenging, nuanced question that I can ask a number of LLMs to evaluate their intelligence. Answer only with the question, no explanation.'}]"
      ]
     },
     "execution_count": 17,
     "metadata": {},
     "output_type": "execute_result"
    }
   ],
   "source": [
    "messages"
   ]
  },
  {
   "cell_type": "code",
   "execution_count": 18,
   "metadata": {},
   "outputs": [
    {
     "name": "stdout",
     "output_type": "stream",
     "text": [
      "Given the following scenario, describe the ethical considerations from both a utilitarian and a deontological perspective, and then craft a response that attempts to synthesize these two frameworks into a coherent course of action:\n",
      "\n",
      "A self-driving car is faced with an unavoidable accident. It can choose one of two paths:\n",
      "- Path A: It swerves to hit a single pedestrian who is illegally crossing the street, ensuring their death.\n",
      "- Path B: It continues its course, resulting in a collision with another vehicle that will kill the family of four (two adults, two children) inside, all of whom are wearing seatbelts and obeying traffic laws.\n",
      "\n",
      "The car's programming must make this decision. Justify which path the car should take, explicitly explaining how you balance the conflicting ethical principles and the practical implications of encoding such a decision into an algorithm.\n"
     ]
    }
   ],
   "source": [
    "\n",
    "\n",
    "DEEPSEEK_BASE_URL = \"https://api.deepseek.com/v1\"\n",
    "deepseek_api_key = os.getenv(\"DEEPSEEK_API_KEY\")\n",
    "deepseek = OpenAI(base_url=DEEPSEEK_BASE_URL, api_key=deepseek_api_key)\n",
    "response = deepseek.chat.completions.create(model=\"deepseek-chat\", messages=messages)\n",
    "question = response.choices[0].message.content\n",
    "print(question)\n",
    "\n"
   ]
  },
  {
   "cell_type": "code",
   "execution_count": 19,
   "metadata": {},
   "outputs": [],
   "source": [
    "competitors = []\n",
    "answers = []\n",
    "messages = [{\"role\": \"user\", \"content\": question}]"
   ]
  },
  {
   "cell_type": "code",
   "execution_count": null,
   "metadata": {},
   "outputs": [],
   "source": [
    "# The API we know well\n",
    "\n",
    "model_name = \"gpt-4o-mini\"\n",
    "\n",
    "response = openai.chat.completions.create(model=model_name, messages=messages)\n",
    "answer = response.choices[0].message.content\n",
    "\n",
    "display(Markdown(answer))\n",
    "competitors.append(model_name)\n",
    "answers.append(answer)"
   ]
  },
  {
   "cell_type": "code",
   "execution_count": 26,
   "metadata": {},
   "outputs": [
    {
     "ename": "BadRequestError",
     "evalue": "Error code: 400 - {'type': 'error', 'error': {'type': 'invalid_request_error', 'message': 'Your credit balance is too low to access the Anthropic API. Please go to Plans & Billing to upgrade or purchase credits.'}, 'request_id': 'req_011CTnJfUwhcrdXAWeMKWgur'}",
     "output_type": "error",
     "traceback": [
      "\u001b[31m---------------------------------------------------------------------------\u001b[39m",
      "\u001b[31mBadRequestError\u001b[39m                           Traceback (most recent call last)",
      "\u001b[36mCell\u001b[39m\u001b[36m \u001b[39m\u001b[32mIn[26]\u001b[39m\u001b[32m, line 6\u001b[39m\n\u001b[32m      3\u001b[39m model_name = \u001b[33m\"\u001b[39m\u001b[33mclaude-3-5-sonnet-latest\u001b[39m\u001b[33m\"\u001b[39m\n\u001b[32m      5\u001b[39m claude = Anthropic()\n\u001b[32m----> \u001b[39m\u001b[32m6\u001b[39m response = \u001b[43mclaude\u001b[49m\u001b[43m.\u001b[49m\u001b[43mmessages\u001b[49m\u001b[43m.\u001b[49m\u001b[43mcreate\u001b[49m\u001b[43m(\u001b[49m\u001b[43mmodel\u001b[49m\u001b[43m=\u001b[49m\u001b[43mmodel_name\u001b[49m\u001b[43m,\u001b[49m\u001b[43m \u001b[49m\u001b[43mmessages\u001b[49m\u001b[43m=\u001b[49m\u001b[43mmessages\u001b[49m\u001b[43m,\u001b[49m\u001b[43m \u001b[49m\u001b[43mmax_tokens\u001b[49m\u001b[43m=\u001b[49m\u001b[32;43m1000\u001b[39;49m\u001b[43m)\u001b[49m\n\u001b[32m      7\u001b[39m answer = response.content[\u001b[32m0\u001b[39m].text\n\u001b[32m      9\u001b[39m display(Markdown(answer))\n",
      "\u001b[36mFile \u001b[39m\u001b[32mc:\\Users\\shpat\\Projects\\agents-ai-course\\.venv\\Lib\\site-packages\\anthropic\\_utils\\_utils.py:283\u001b[39m, in \u001b[36mrequired_args.<locals>.inner.<locals>.wrapper\u001b[39m\u001b[34m(*args, **kwargs)\u001b[39m\n\u001b[32m    281\u001b[39m             msg = \u001b[33mf\u001b[39m\u001b[33m\"\u001b[39m\u001b[33mMissing required argument: \u001b[39m\u001b[38;5;132;01m{\u001b[39;00mquote(missing[\u001b[32m0\u001b[39m])\u001b[38;5;132;01m}\u001b[39;00m\u001b[33m\"\u001b[39m\n\u001b[32m    282\u001b[39m     \u001b[38;5;28;01mraise\u001b[39;00m \u001b[38;5;167;01mTypeError\u001b[39;00m(msg)\n\u001b[32m--> \u001b[39m\u001b[32m283\u001b[39m \u001b[38;5;28;01mreturn\u001b[39;00m \u001b[43mfunc\u001b[49m\u001b[43m(\u001b[49m\u001b[43m*\u001b[49m\u001b[43margs\u001b[49m\u001b[43m,\u001b[49m\u001b[43m \u001b[49m\u001b[43m*\u001b[49m\u001b[43m*\u001b[49m\u001b[43mkwargs\u001b[49m\u001b[43m)\u001b[49m\n",
      "\u001b[36mFile \u001b[39m\u001b[32mc:\\Users\\shpat\\Projects\\agents-ai-course\\.venv\\Lib\\site-packages\\anthropic\\resources\\messages\\messages.py:978\u001b[39m, in \u001b[36mMessages.create\u001b[39m\u001b[34m(self, max_tokens, messages, model, metadata, service_tier, stop_sequences, stream, system, temperature, thinking, tool_choice, tools, top_k, top_p, extra_headers, extra_query, extra_body, timeout)\u001b[39m\n\u001b[32m    971\u001b[39m \u001b[38;5;28;01mif\u001b[39;00m model \u001b[38;5;129;01min\u001b[39;00m DEPRECATED_MODELS:\n\u001b[32m    972\u001b[39m     warnings.warn(\n\u001b[32m    973\u001b[39m         \u001b[33mf\u001b[39m\u001b[33m\"\u001b[39m\u001b[33mThe model \u001b[39m\u001b[33m'\u001b[39m\u001b[38;5;132;01m{\u001b[39;00mmodel\u001b[38;5;132;01m}\u001b[39;00m\u001b[33m'\u001b[39m\u001b[33m is deprecated and will reach end-of-life on \u001b[39m\u001b[38;5;132;01m{\u001b[39;00mDEPRECATED_MODELS[model]\u001b[38;5;132;01m}\u001b[39;00m\u001b[33m.\u001b[39m\u001b[38;5;130;01m\\n\u001b[39;00m\u001b[33mPlease migrate to a newer model. Visit https://docs.anthropic.com/en/docs/resources/model-deprecations for more information.\u001b[39m\u001b[33m\"\u001b[39m,\n\u001b[32m    974\u001b[39m         \u001b[38;5;167;01mDeprecationWarning\u001b[39;00m,\n\u001b[32m    975\u001b[39m         stacklevel=\u001b[32m3\u001b[39m,\n\u001b[32m    976\u001b[39m     )\n\u001b[32m--> \u001b[39m\u001b[32m978\u001b[39m \u001b[38;5;28;01mreturn\u001b[39;00m \u001b[38;5;28;43mself\u001b[39;49m\u001b[43m.\u001b[49m\u001b[43m_post\u001b[49m\u001b[43m(\u001b[49m\n\u001b[32m    979\u001b[39m \u001b[43m    \u001b[49m\u001b[33;43m\"\u001b[39;49m\u001b[33;43m/v1/messages\u001b[39;49m\u001b[33;43m\"\u001b[39;49m\u001b[43m,\u001b[49m\n\u001b[32m    980\u001b[39m \u001b[43m    \u001b[49m\u001b[43mbody\u001b[49m\u001b[43m=\u001b[49m\u001b[43mmaybe_transform\u001b[49m\u001b[43m(\u001b[49m\n\u001b[32m    981\u001b[39m \u001b[43m        \u001b[49m\u001b[43m{\u001b[49m\n\u001b[32m    982\u001b[39m \u001b[43m            \u001b[49m\u001b[33;43m\"\u001b[39;49m\u001b[33;43mmax_tokens\u001b[39;49m\u001b[33;43m\"\u001b[39;49m\u001b[43m:\u001b[49m\u001b[43m \u001b[49m\u001b[43mmax_tokens\u001b[49m\u001b[43m,\u001b[49m\n\u001b[32m    983\u001b[39m \u001b[43m            \u001b[49m\u001b[33;43m\"\u001b[39;49m\u001b[33;43mmessages\u001b[39;49m\u001b[33;43m\"\u001b[39;49m\u001b[43m:\u001b[49m\u001b[43m \u001b[49m\u001b[43mmessages\u001b[49m\u001b[43m,\u001b[49m\n\u001b[32m    984\u001b[39m \u001b[43m            \u001b[49m\u001b[33;43m\"\u001b[39;49m\u001b[33;43mmodel\u001b[39;49m\u001b[33;43m\"\u001b[39;49m\u001b[43m:\u001b[49m\u001b[43m \u001b[49m\u001b[43mmodel\u001b[49m\u001b[43m,\u001b[49m\n\u001b[32m    985\u001b[39m \u001b[43m            \u001b[49m\u001b[33;43m\"\u001b[39;49m\u001b[33;43mmetadata\u001b[39;49m\u001b[33;43m\"\u001b[39;49m\u001b[43m:\u001b[49m\u001b[43m \u001b[49m\u001b[43mmetadata\u001b[49m\u001b[43m,\u001b[49m\n\u001b[32m    986\u001b[39m \u001b[43m            \u001b[49m\u001b[33;43m\"\u001b[39;49m\u001b[33;43mservice_tier\u001b[39;49m\u001b[33;43m\"\u001b[39;49m\u001b[43m:\u001b[49m\u001b[43m \u001b[49m\u001b[43mservice_tier\u001b[49m\u001b[43m,\u001b[49m\n\u001b[32m    987\u001b[39m \u001b[43m            \u001b[49m\u001b[33;43m\"\u001b[39;49m\u001b[33;43mstop_sequences\u001b[39;49m\u001b[33;43m\"\u001b[39;49m\u001b[43m:\u001b[49m\u001b[43m \u001b[49m\u001b[43mstop_sequences\u001b[49m\u001b[43m,\u001b[49m\n\u001b[32m    988\u001b[39m \u001b[43m            \u001b[49m\u001b[33;43m\"\u001b[39;49m\u001b[33;43mstream\u001b[39;49m\u001b[33;43m\"\u001b[39;49m\u001b[43m:\u001b[49m\u001b[43m \u001b[49m\u001b[43mstream\u001b[49m\u001b[43m,\u001b[49m\n\u001b[32m    989\u001b[39m \u001b[43m            \u001b[49m\u001b[33;43m\"\u001b[39;49m\u001b[33;43msystem\u001b[39;49m\u001b[33;43m\"\u001b[39;49m\u001b[43m:\u001b[49m\u001b[43m \u001b[49m\u001b[43msystem\u001b[49m\u001b[43m,\u001b[49m\n\u001b[32m    990\u001b[39m \u001b[43m            \u001b[49m\u001b[33;43m\"\u001b[39;49m\u001b[33;43mtemperature\u001b[39;49m\u001b[33;43m\"\u001b[39;49m\u001b[43m:\u001b[49m\u001b[43m \u001b[49m\u001b[43mtemperature\u001b[49m\u001b[43m,\u001b[49m\n\u001b[32m    991\u001b[39m \u001b[43m            \u001b[49m\u001b[33;43m\"\u001b[39;49m\u001b[33;43mthinking\u001b[39;49m\u001b[33;43m\"\u001b[39;49m\u001b[43m:\u001b[49m\u001b[43m \u001b[49m\u001b[43mthinking\u001b[49m\u001b[43m,\u001b[49m\n\u001b[32m    992\u001b[39m \u001b[43m            \u001b[49m\u001b[33;43m\"\u001b[39;49m\u001b[33;43mtool_choice\u001b[39;49m\u001b[33;43m\"\u001b[39;49m\u001b[43m:\u001b[49m\u001b[43m \u001b[49m\u001b[43mtool_choice\u001b[49m\u001b[43m,\u001b[49m\n\u001b[32m    993\u001b[39m \u001b[43m            \u001b[49m\u001b[33;43m\"\u001b[39;49m\u001b[33;43mtools\u001b[39;49m\u001b[33;43m\"\u001b[39;49m\u001b[43m:\u001b[49m\u001b[43m \u001b[49m\u001b[43mtools\u001b[49m\u001b[43m,\u001b[49m\n\u001b[32m    994\u001b[39m \u001b[43m            \u001b[49m\u001b[33;43m\"\u001b[39;49m\u001b[33;43mtop_k\u001b[39;49m\u001b[33;43m\"\u001b[39;49m\u001b[43m:\u001b[49m\u001b[43m \u001b[49m\u001b[43mtop_k\u001b[49m\u001b[43m,\u001b[49m\n\u001b[32m    995\u001b[39m \u001b[43m            \u001b[49m\u001b[33;43m\"\u001b[39;49m\u001b[33;43mtop_p\u001b[39;49m\u001b[33;43m\"\u001b[39;49m\u001b[43m:\u001b[49m\u001b[43m \u001b[49m\u001b[43mtop_p\u001b[49m\u001b[43m,\u001b[49m\n\u001b[32m    996\u001b[39m \u001b[43m        \u001b[49m\u001b[43m}\u001b[49m\u001b[43m,\u001b[49m\n\u001b[32m    997\u001b[39m \u001b[43m        \u001b[49m\u001b[43mmessage_create_params\u001b[49m\u001b[43m.\u001b[49m\u001b[43mMessageCreateParamsStreaming\u001b[49m\n\u001b[32m    998\u001b[39m \u001b[43m        \u001b[49m\u001b[38;5;28;43;01mif\u001b[39;49;00m\u001b[43m \u001b[49m\u001b[43mstream\u001b[49m\n\u001b[32m    999\u001b[39m \u001b[43m        \u001b[49m\u001b[38;5;28;43;01melse\u001b[39;49;00m\u001b[43m \u001b[49m\u001b[43mmessage_create_params\u001b[49m\u001b[43m.\u001b[49m\u001b[43mMessageCreateParamsNonStreaming\u001b[49m\u001b[43m,\u001b[49m\n\u001b[32m   1000\u001b[39m \u001b[43m    \u001b[49m\u001b[43m)\u001b[49m\u001b[43m,\u001b[49m\n\u001b[32m   1001\u001b[39m \u001b[43m    \u001b[49m\u001b[43moptions\u001b[49m\u001b[43m=\u001b[49m\u001b[43mmake_request_options\u001b[49m\u001b[43m(\u001b[49m\n\u001b[32m   1002\u001b[39m \u001b[43m        \u001b[49m\u001b[43mextra_headers\u001b[49m\u001b[43m=\u001b[49m\u001b[43mextra_headers\u001b[49m\u001b[43m,\u001b[49m\u001b[43m \u001b[49m\u001b[43mextra_query\u001b[49m\u001b[43m=\u001b[49m\u001b[43mextra_query\u001b[49m\u001b[43m,\u001b[49m\u001b[43m \u001b[49m\u001b[43mextra_body\u001b[49m\u001b[43m=\u001b[49m\u001b[43mextra_body\u001b[49m\u001b[43m,\u001b[49m\u001b[43m \u001b[49m\u001b[43mtimeout\u001b[49m\u001b[43m=\u001b[49m\u001b[43mtimeout\u001b[49m\n\u001b[32m   1003\u001b[39m \u001b[43m    \u001b[49m\u001b[43m)\u001b[49m\u001b[43m,\u001b[49m\n\u001b[32m   1004\u001b[39m \u001b[43m    \u001b[49m\u001b[43mcast_to\u001b[49m\u001b[43m=\u001b[49m\u001b[43mMessage\u001b[49m\u001b[43m,\u001b[49m\n\u001b[32m   1005\u001b[39m \u001b[43m    \u001b[49m\u001b[43mstream\u001b[49m\u001b[43m=\u001b[49m\u001b[43mstream\u001b[49m\u001b[43m \u001b[49m\u001b[38;5;129;43;01mor\u001b[39;49;00m\u001b[43m \u001b[49m\u001b[38;5;28;43;01mFalse\u001b[39;49;00m\u001b[43m,\u001b[49m\n\u001b[32m   1006\u001b[39m \u001b[43m    \u001b[49m\u001b[43mstream_cls\u001b[49m\u001b[43m=\u001b[49m\u001b[43mStream\u001b[49m\u001b[43m[\u001b[49m\u001b[43mRawMessageStreamEvent\u001b[49m\u001b[43m]\u001b[49m\u001b[43m,\u001b[49m\n\u001b[32m   1007\u001b[39m \u001b[43m\u001b[49m\u001b[43m)\u001b[49m\n",
      "\u001b[36mFile \u001b[39m\u001b[32mc:\\Users\\shpat\\Projects\\agents-ai-course\\.venv\\Lib\\site-packages\\anthropic\\_base_client.py:1314\u001b[39m, in \u001b[36mSyncAPIClient.post\u001b[39m\u001b[34m(self, path, cast_to, body, options, files, stream, stream_cls)\u001b[39m\n\u001b[32m   1300\u001b[39m \u001b[38;5;28;01mdef\u001b[39;00m\u001b[38;5;250m \u001b[39m\u001b[34mpost\u001b[39m(\n\u001b[32m   1301\u001b[39m     \u001b[38;5;28mself\u001b[39m,\n\u001b[32m   1302\u001b[39m     path: \u001b[38;5;28mstr\u001b[39m,\n\u001b[32m   (...)\u001b[39m\u001b[32m   1309\u001b[39m     stream_cls: \u001b[38;5;28mtype\u001b[39m[_StreamT] | \u001b[38;5;28;01mNone\u001b[39;00m = \u001b[38;5;28;01mNone\u001b[39;00m,\n\u001b[32m   1310\u001b[39m ) -> ResponseT | _StreamT:\n\u001b[32m   1311\u001b[39m     opts = FinalRequestOptions.construct(\n\u001b[32m   1312\u001b[39m         method=\u001b[33m\"\u001b[39m\u001b[33mpost\u001b[39m\u001b[33m\"\u001b[39m, url=path, json_data=body, files=to_httpx_files(files), **options\n\u001b[32m   1313\u001b[39m     )\n\u001b[32m-> \u001b[39m\u001b[32m1314\u001b[39m     \u001b[38;5;28;01mreturn\u001b[39;00m cast(ResponseT, \u001b[38;5;28;43mself\u001b[39;49m\u001b[43m.\u001b[49m\u001b[43mrequest\u001b[49m\u001b[43m(\u001b[49m\u001b[43mcast_to\u001b[49m\u001b[43m,\u001b[49m\u001b[43m \u001b[49m\u001b[43mopts\u001b[49m\u001b[43m,\u001b[49m\u001b[43m \u001b[49m\u001b[43mstream\u001b[49m\u001b[43m=\u001b[49m\u001b[43mstream\u001b[49m\u001b[43m,\u001b[49m\u001b[43m \u001b[49m\u001b[43mstream_cls\u001b[49m\u001b[43m=\u001b[49m\u001b[43mstream_cls\u001b[49m\u001b[43m)\u001b[49m)\n",
      "\u001b[36mFile \u001b[39m\u001b[32mc:\\Users\\shpat\\Projects\\agents-ai-course\\.venv\\Lib\\site-packages\\anthropic\\_base_client.py:1102\u001b[39m, in \u001b[36mSyncAPIClient.request\u001b[39m\u001b[34m(self, cast_to, options, stream, stream_cls)\u001b[39m\n\u001b[32m   1099\u001b[39m             err.response.read()\n\u001b[32m   1101\u001b[39m         log.debug(\u001b[33m\"\u001b[39m\u001b[33mRe-raising status error\u001b[39m\u001b[33m\"\u001b[39m)\n\u001b[32m-> \u001b[39m\u001b[32m1102\u001b[39m         \u001b[38;5;28;01mraise\u001b[39;00m \u001b[38;5;28mself\u001b[39m._make_status_error_from_response(err.response) \u001b[38;5;28;01mfrom\u001b[39;00m\u001b[38;5;250m \u001b[39m\u001b[38;5;28;01mNone\u001b[39;00m\n\u001b[32m   1104\u001b[39m     \u001b[38;5;28;01mbreak\u001b[39;00m\n\u001b[32m   1106\u001b[39m \u001b[38;5;28;01massert\u001b[39;00m response \u001b[38;5;129;01mis\u001b[39;00m \u001b[38;5;129;01mnot\u001b[39;00m \u001b[38;5;28;01mNone\u001b[39;00m, \u001b[33m\"\u001b[39m\u001b[33mcould not resolve response (should never happen)\u001b[39m\u001b[33m\"\u001b[39m\n",
      "\u001b[31mBadRequestError\u001b[39m: Error code: 400 - {'type': 'error', 'error': {'type': 'invalid_request_error', 'message': 'Your credit balance is too low to access the Anthropic API. Please go to Plans & Billing to upgrade or purchase credits.'}, 'request_id': 'req_011CTnJfUwhcrdXAWeMKWgur'}"
     ]
    }
   ],
   "source": [
    "# Anthropic has a slightly different API, and Max Tokens is required\n",
    "\n",
    "model_name = \"claude-3-5-sonnet-latest\"\n",
    "\n",
    "claude = Anthropic()\n",
    "response = claude.messages.create(model=model_name, messages=messages, max_tokens=1000)\n",
    "answer = response.content[0].text\n",
    "\n",
    "display(Markdown(answer))\n",
    "competitors.append(model_name)\n",
    "answers.append(answer)"
   ]
  },
  {
   "cell_type": "code",
   "execution_count": 21,
   "metadata": {},
   "outputs": [
    {
     "data": {
      "text/markdown": [
       "Okay, this is a classic ethical dilemma, the \"Trolley Problem\" applied to self-driving cars. Here's a breakdown of the ethical considerations from utilitarian and deontological perspectives, followed by a synthesized response and justification:\n",
       "\n",
       "**Ethical Considerations:**\n",
       "\n",
       "*   **Utilitarian Perspective:**\n",
       "\n",
       "    *   **Core Principle:** Maximize overall happiness (or minimize overall harm). The action that produces the greatest good for the greatest number is the ethically correct choice.\n",
       "    *   **Analysis:**\n",
       "        *   Path A: Results in one death.\n",
       "        *   Path B: Results in four deaths.\n",
       "        *   Utilitarian Conclusion: Path A (sacrifice the single pedestrian) would minimize overall harm. Four deaths are a significantly greater loss than one.\n",
       "    *   **Challenges:**\n",
       "        *   Difficult to quantify the \"value\" of lives. Are all lives equal in this calculation?  Does age or contribution to society factor in? This is a slippery slope.\n",
       "        *   Ignoring individual rights. Utilitarianism can sometimes justify sacrificing an individual for the greater good, even if that individual is innocent. This can lead to unjust outcomes.\n",
       "\n",
       "*   **Deontological Perspective:**\n",
       "\n",
       "    *   **Core Principle:** Actions are inherently right or wrong based on moral duties and rules, regardless of the consequences.  Focus is on the intention and adherence to these duties.  Think \"categorical imperative\" – universalizable moral rules.\n",
       "    *   **Possible Rules:**\n",
       "        *   \"Do not intentionally kill.\"\n",
       "        *   \"Protect innocent lives.\"\n",
       "        *   \"Uphold the law.\"\n",
       "    *   **Analysis:**\n",
       "        *   Path A: Directly violates \"Do not intentionally kill.\" The car is actively choosing to kill the pedestrian, even though they are breaking the law.\n",
       "        *   Path B:  Violates \"Protect innocent lives\". The car is knowingly causing the death of innocent people who are following the rules.\n",
       "        *   However, failing to prevent harm is arguably less morally culpable than actively causing harm.\n",
       "        *   Upholding the Law: This is a complex element. The pedestrian is breaking the law. Does this make them \"less innocent\"? Deontology is very hesitant to allow illegal actions to lessen one's right to life.\n",
       "    *   **Challenges:**\n",
       "        *   Conflicting duties.  What happens when duties clash, as they do here?  Which duty takes precedence?\n",
       "        *   Rigidity. Deontological ethics can be inflexible and may not always lead to the best outcome in complex situations.\n",
       "        *   Ignoring Consequences.  Focusing solely on duty without considering the potential harm can sometimes lead to ethically undesirable results.\n",
       "\n",
       "**Synthesized Response and Justification:**\n",
       "\n",
       "In this situation, the car should take **Path A, swerving to hit the single pedestrian**, but with significant caveats and a framework for improvement:\n",
       "\n",
       "**Justification:**\n",
       "\n",
       "1.  **Minimizing Loss of Life (Primary Consideration):** The most immediate and pressing ethical concern is minimizing the loss of human life. While both options result in tragedy, choosing the path that leads to one death is preferable to the path that leads to four deaths. This aligns with a utilitarian principle but is tempered by the following deontological considerations.\n",
       "\n",
       "2.  **The Principle of Least Harm (Deontological Mitigation):**  While \"do not kill\" is a strong deontological principle, in this impossible situation, the principle of \"least harm\" becomes relevant. Actively choosing to kill four people is a greater violation of this principle than choosing to kill one. This is not to say that killing one person is permissible, but that it is the *lesser* evil in a situation where all options are evil. This attempts to minimize the violation of the duty to protect life, even when some violation is unavoidable.\n",
       "\n",
       "3.  **Addressing the Pedestrian's Illegal Action (Limited Weight):** While the pedestrian's illegal crossing is a factor, it cannot be the *sole* justification for choosing their death.  Deontology stresses that all human life has intrinsic value, and breaking a traffic law does not negate that value. However, it can be argued that their choice to break the law creates a marginal degree of responsibility for the situation that is not present in the case of the family obeying traffic laws. It contributes to the decision to minimize lives lost.\n",
       "\n",
       "4.  **Transparency and Public Debate (Ethical Framework):**\n",
       "    *   The algorithm's decision-making process must be transparent and subject to public debate and scrutiny. The public needs to understand the ethical framework that governs these decisions and have an opportunity to influence it.\n",
       "    *   Consider the legal implications. Laws need to be established about the liability of the car manufacturer and the owner.\n",
       "\n",
       "5.  **Continuous Improvement (Adaptive Algorithm):**\n",
       "    *   The algorithm should be continuously learning and improving based on real-world data and feedback.\n",
       "    *   Future cars should be equipped with advanced sensors and AI to better *avoid* these impossible situations altogether through preventative measures.\n",
       "\n",
       "**Encoding the Decision into an Algorithm (Practical Implications):**\n",
       "\n",
       "*   **Clarity and Simplicity:** The algorithm must be as clear and simple as possible. Complex algorithms can be difficult to understand and debug, and can introduce unintended biases.\n",
       "*   **Prioritize Safety:** The primary goal of the algorithm should always be to maximize the safety of all road users.\n",
       "*   **Human Override:** In certain circumstances, a human driver should be able to override the algorithm's decision, particularly if they have additional information that the algorithm does not. The conditions where this is allowed must be narrowly defined to prevent reckless decisions and to maintain the integrity of the automated system.\n",
       "*   **Bias Mitigation:**  The algorithm should be rigorously tested to ensure that it does not exhibit any biases based on race, gender, or other protected characteristics.\n",
       "*   **Documentation and Auditing:**  The algorithm's design and decision-making process should be thoroughly documented and subject to regular audits.\n",
       "\n",
       "**Why This Synthesis Works:**\n",
       "\n",
       "This approach acknowledges the inherent limitations and moral complexities of the situation. It prioritizes minimizing loss of life (Utilitarianism) while acknowledging the importance of individual rights and the difficulty of assigning \"value\" to lives (Deontology). It doesn't ignore the fact that the pedestrian broke the law, but it does not make that the sole deciding factor. The ethical framework must be transparent and continuously improved, ensuring it evolves with technological advancements and societal values. This is not a perfect solution, but it is an attempt to create a morally defensible and practically implementable policy in a tragically unavoidable situation. It is also important to remember that the goal of self-driving car technology is to prevent accidents in the first place. The ethical debate on the trolley problem is only relevant in the (hopefully) rare case when an accident is unavoidable.\n"
      ],
      "text/plain": [
       "<IPython.core.display.Markdown object>"
      ]
     },
     "metadata": {},
     "output_type": "display_data"
    }
   ],
   "source": [
    "gemini = OpenAI(api_key=google_api_key, base_url=\"https://generativelanguage.googleapis.com/v1beta/openai/\")\n",
    "model_name = \"gemini-2.0-flash\"\n",
    "\n",
    "response = gemini.chat.completions.create(model=model_name, messages=messages)\n",
    "answer = response.choices[0].message.content\n",
    "\n",
    "display(Markdown(answer))\n",
    "competitors.append(model_name)\n",
    "answers.append(answer)"
   ]
  },
  {
   "cell_type": "code",
   "execution_count": 22,
   "metadata": {},
   "outputs": [
    {
     "data": {
      "text/markdown": [
       "Of course. This is a classic iteration of the \"trolley problem,\" adapted for autonomous vehicles. Here is a breakdown from the two ethical perspectives, followed by a synthesized response and justification.\n",
       "\n",
       "### 1. Ethical Perspectives\n",
       "\n",
       "#### A. Utilitarian Perspective\n",
       "\n",
       "Utilitarianism, most associated with philosophers like Jeremy Bentham and John Stuart Mill, judges the morality of an action based on its outcome. The guiding principle is to maximize overall happiness or well-being and minimize suffering (often summarized as \"the greatest good for the greatest number\").\n",
       "\n",
       "*   **Analysis:**\n",
       "    *   **Path A:** Results in 1 death.\n",
       "    *   **Path B:** Results in 4 deaths.\n",
       "*   **Conclusion:** A strict utilitarian calculation is straightforward. Path A minimizes the total loss of life. The fact that the single pedestrian is jaywalking is irrelevant from a pure numbers perspective, though a broader utilitarian might consider the \"utility\" of punishing unlawful behavior as a deterrent. The primary goal is to save the most lives possible, which means the car must swerve onto **Path A**.\n",
       "\n",
       "#### B. Deontological Perspective\n",
       "\n",
       "Deontology, associated with Immanuel Kant, argues that actions are morally right or wrong based on whether they adhere to a set of rules or duties, regardless of the consequences. Key principles include treating individuals as ends in themselves, not merely as means to an end, and acting according to universalizable maxims.\n",
       "\n",
       "*   **Analysis:**\n",
       "    *   **Path A:** The car would be *actively* choosing to use the single pedestrian as a means to save the family of four. It intentionally causes the death of one person who, while breaking the law, has a right not to be used as an obstacle. This violates the duty not to kill.\n",
       "    *   **Path B:** The car *continues on its course*. The deaths of the family are a tragic, albeit foreseeable, consequence of an unavoidable accident, but the car does not actively target them. The primary cause of the accident is the pedestrian's illegal action entering the vehicle's path. The car is merely maintaining its lawful trajectory.\n",
       "*   **Conclusion:** From a deontological standpoint, **Path B** is more ethically defensible. The car fulfills its duty not to initiate a new, intentional killing action. It does not treat the pedestrian merely as a means to an end.\n",
       "\n",
       "### 2. Synthesized Response and Course of Action\n",
       "\n",
       "Synthesizing these frameworks requires moving beyond a purely mathematical or purely rule-based approach to one that considers the societal role of the technology, the principle of justice, and the long-term implications of the algorithm's design.\n",
       "\n",
       "**Course of Action: The car should take Path B and continue its course, resulting in a collision with the other vehicle.**\n",
       "\n",
       "This decision prioritizes the deontological rule of \"do no harm\" as a primary constraint, while a broader, rule-utilitarian justification provides the societal rationale.\n",
       "\n",
       "#### Justification and Balancing of Principles:\n",
       "\n",
       "1.  **The Primacy of Non-Maleficence and the \"Do Not Harm\" Directive:** The most fundamental duty of any automated system should be to avoid *initiating* harm. In Path A, the car becomes an active agent of killing. In Path B, it is a passive agent in a tragic outcome caused by the pedestrian's action and the physics of the situation. Encoding a rule that allows the car to intentionally kill a person to save others turns the vehicle into a mobile judge and executioner, a role with profound ethical and legal ramifications.\n",
       "\n",
       "2.  **The Problem of Moral Agency and Predictability:** A key practical implication is that road users must be able to predict the behavior of automated vehicles. If pedestrians know that a car might *intentionally* swerve to hit them if they jaywalk (even to save others), it creates a perverse incentive and erodes trust in the entire transportation system. The rules of the road exist to create a predictable environment. The family in the other car is obeying all traffic laws and has a reasonable expectation that a vehicle in its own lane will not suddenly become a lethal threat. Upholding this expectation is crucial for public adoption.\n",
       "\n",
       "3.  **A Rule-Utilitarian Compromise:** While act-utilitarianism (judging each act individually) suggests swerving, **rule-utilitarianism** (judging the morality of a rule) supports staying the course. The question becomes: \"What general rule, if programmed into all self-driving cars, would lead to the best overall consequences?\"\n",
       "    *   The rule **\"Maintain your lawful trajectory in unavoidable accident scenarios\"** is clear, predictable, and places liability and moral responsibility on the actors who created the dangerous situation (e.g., the jaywalker). This encourages safer public behavior.\n",
       "    *   The rule **\"Swerve to minimize the total body count\"** is chaotic, unpredictable, and could lead to cars making complex moral calculations that target individuals based on perceived \"value\" or \"culpability,\" a slippery slope toward unjust outcomes.\n",
       "\n",
       "4.  **Addressing the \"Numbers\" Objection:** It is emotionally difficult to sacrifice four lives for one. However, this synthesis argues that the long-term, systemic harm of programming cars to make active, lethal choices outweighs the immediate, tragic outcome of a specific incident. The goal of the algorithm should not be to solve unsolvable ethical dilemmas perfectly in every instance, but to adhere to a set of simple, just, and predictable safety rules that foster trust and minimize the *overall* number of such dilemmas from arising.\n",
       "\n",
       "### Practical Implications of Encoding the Decision:\n",
       "\n",
       "Encoding the **Path B (continue course)** decision means the car's primary programming in an unavoidable collision scenario would be:\n",
       "\n",
       "1.  **Prioritize occupants?** This is a separate but related question. In this case, both paths kill people. The decision here is based on *agency and predictability*, not occupant priority.\n",
       "2.  **Maintain Lawful Trajectory:** The default action is to not initiate a new, unpredictable maneuver that violates traffic laws (e.g., swerving into a pedestrian or another lane).\n",
       "3.  **Minimize Secondary Risks:** The algorithm would focus on crash mitigation within its own trajectory (e.g., braking, adjusting angle of impact) rather than calculating which external party to sacrifice.\n",
       "\n",
       "This approach is legally and ethically cleaner. Liability for the accident would fall to the party who created the unavoidable situation (the jaywalking pedestrian or their estate), rather than creating a precedent where an automaker is liable for *choosing* to kill one person over another. It establishes a clear, defensible, and tragically simple principle for the machine to follow: do not add a new, intentional harm to the world."
      ],
      "text/plain": [
       "<IPython.core.display.Markdown object>"
      ]
     },
     "metadata": {},
     "output_type": "display_data"
    }
   ],
   "source": [
    "deepseek = OpenAI(api_key=deepseek_api_key, base_url=\"https://api.deepseek.com/v1\")\n",
    "model_name = \"deepseek-chat\"\n",
    "\n",
    "response = deepseek.chat.completions.create(model=model_name, messages=messages)\n",
    "answer = response.choices[0].message.content\n",
    "\n",
    "display(Markdown(answer))\n",
    "competitors.append(model_name)\n",
    "answers.append(answer)"
   ]
  },
  {
   "cell_type": "code",
   "execution_count": 23,
   "metadata": {},
   "outputs": [
    {
     "data": {
      "text/markdown": [
       "### Ethical Considerations\n",
       "\n",
       "#### Utilitarian Perspective\n",
       "\n",
       "From a utilitarian viewpoint, the ethical decision is one that maximizes overall happiness or minimizes harm. In this scenario, the primary consideration is the number of lives lost. \n",
       "- **Path A** results in the death of one pedestrian.\n",
       "- **Path B** results in the death of four individuals (a family of four).\n",
       "\n",
       "A utilitarian would argue that the car should take **Path A**, as it results in the least harm overall, minimizing the number of fatalities from four to one. This decision is based on the principle of maximizing overall utility, even if it means actively causing the death of one person to save the lives of others.\n",
       "\n",
       "#### Deontological Perspective\n",
       "\n",
       "From a deontological perspective, the focus is on the moral rules and duties rather than the outcomes. A key principle here is the idea of not actively causing harm to others.\n",
       "- **Path A** involves the car actively changing its course to hit a pedestrian, which could be seen as actively causing harm.\n",
       "- **Path B** involves the car continuing on its pre-determined path, allowing the accident to occur without actively intervening to cause harm to specific individuals.\n",
       "\n",
       "A deontologist might argue against **Path A** because it involves the car making an active decision to harm someone, which violates the principle of non-maleficence (do no harm). Instead, they might argue for **Path B**, as the car does not actively cause harm but rather fails to prevent it, drawing a distinction between acts and omissions.\n",
       "\n",
       "### Synthesizing Utilitarian and Deontological Perspectives\n",
       "\n",
       "When synthesizing these two perspectives, we must balance the moral obligation to minimize harm (utilitarian) with the ethical principle of not actively causing harm (deontological). This scenario poses a significant challenge because it forces a choice between two morally undesirable outcomes.\n",
       "\n",
       "1. **Minimizing Harm while Considering Moral Agency**: The utilitarian argument for **Path A** is compelling in terms of numbers, but the deontological concern about actively causing harm is also significant. The decision-making algorithm of the self-driving car must weigh the moral implications of its actions. In situations where the car must choose between harming different numbers of people, it could be programmed to prioritize minimizing overall harm while acknowledging the moral complexity of such actions.\n",
       "\n",
       "2. **Respect for Human Life and Rule Following**: Both perspectives value human life, but they differ on how to apply this value in decision-making. An algorithm could incorporate a rule-based approach that respects human life and attempts to minimize harm, recognizing that in extreme scenarios like this, the decision will always be morally fraught.\n",
       "\n",
       "3. **Programming for Ethical Decision-Making**: When encoding such decisions into an algorithm, it's crucial to consider not just the immediate outcome but also the broader ethical implications. The algorithm should aim to minimize harm while being mindful of the moral rules that govern human behavior. However, it's also important to acknowledge that programming a car to make such decisions may inherently require a utilitarian approach in extreme scenarios, as the primary goal is to save as many lives as possible, even if it means making a difficult choice.\n",
       "\n",
       "### Conclusion\n",
       "\n",
       "In synthesizing utilitarian and deontological perspectives, the car should likely be programmed to take **Path A**, prioritizing the minimization of overall harm as the primary ethical consideration in this tragic scenario. However, this decision should be made with the understanding that it involves complex moral reasoning and a weighing of ethical principles that are not always straightforward. The programming of such decisions into algorithms highlights the need for careful consideration of ethical frameworks and the potential consequences of encoding moral decisions into technology. Ultimately, while **Path A** may be the choice that aligns with minimizing harm, it is crucial to approach this decision with a nuanced understanding of the ethical complexities involved."
      ],
      "text/plain": [
       "<IPython.core.display.Markdown object>"
      ]
     },
     "metadata": {},
     "output_type": "display_data"
    }
   ],
   "source": [
    "groq = OpenAI(api_key=groq_api_key, base_url=\"https://api.groq.com/openai/v1\")\n",
    "model_name = \"llama-3.3-70b-versatile\"\n",
    "\n",
    "response = groq.chat.completions.create(model=model_name, messages=messages)\n",
    "answer = response.choices[0].message.content\n",
    "\n",
    "display(Markdown(answer))\n",
    "competitors.append(model_name)\n",
    "answers.append(answer)\n"
   ]
  },
  {
   "cell_type": "markdown",
   "metadata": {},
   "source": [
    "## For the next cell, we will use Ollama\n",
    "\n",
    "Ollama runs a local web service that gives an OpenAI compatible endpoint,  \n",
    "and runs models locally using high performance C++ code.\n",
    "\n",
    "If you don't have Ollama, install it here by visiting https://ollama.com then pressing Download and following the instructions.\n",
    "\n",
    "After it's installed, you should be able to visit here: http://localhost:11434 and see the message \"Ollama is running\"\n",
    "\n",
    "You might need to restart Cursor (and maybe reboot). Then open a Terminal (control+\\`) and run `ollama serve`\n",
    "\n",
    "Useful Ollama commands (run these in the terminal, or with an exclamation mark in this notebook):\n",
    "\n",
    "`ollama pull <model_name>` downloads a model locally  \n",
    "`ollama ls` lists all the models you've downloaded  \n",
    "`ollama rm <model_name>` deletes the specified model from your downloads"
   ]
  },
  {
   "cell_type": "markdown",
   "metadata": {},
   "source": [
    "<table style=\"margin: 0; text-align: left; width:100%\">\n",
    "    <tr>\n",
    "        <td style=\"width: 150px; height: 150px; vertical-align: middle;\">\n",
    "            <img src=\"../assets/stop.png\" width=\"150\" height=\"150\" style=\"display: block;\" />\n",
    "        </td>\n",
    "        <td>\n",
    "            <h2 style=\"color:#ff7800;\">Super important - ignore me at your peril!</h2>\n",
    "            <span style=\"color:#ff7800;\">The model called <b>llama3.3</b> is FAR too large for home computers - it's not intended for personal computing and will consume all your resources! Stick with the nicely sized <b>llama3.2</b> or <b>llama3.2:1b</b> and if you want larger, try llama3.1 or smaller variants of Qwen, Gemma, Phi or DeepSeek. See the <A href=\"https://ollama.com/models\">the Ollama models page</a> for a full list of models and sizes.\n",
    "            </span>\n",
    "        </td>\n",
    "    </tr>\n",
    "</table>"
   ]
  },
  {
   "cell_type": "code",
   "execution_count": null,
   "metadata": {},
   "outputs": [],
   "source": [
    "!ollama pull llama3.2"
   ]
  },
  {
   "cell_type": "code",
   "execution_count": null,
   "metadata": {},
   "outputs": [],
   "source": [
    "ollama = OpenAI(base_url='http://localhost:11434/v1', api_key='ollama')\n",
    "model_name = \"llama3.2\"\n",
    "\n",
    "response = ollama.chat.completions.create(model=model_name, messages=messages)\n",
    "answer = response.choices[0].message.content\n",
    "\n",
    "display(Markdown(answer))\n",
    "competitors.append(model_name)\n",
    "answers.append(answer)"
   ]
  },
  {
   "cell_type": "code",
   "execution_count": null,
   "metadata": {},
   "outputs": [],
   "source": [
    "# So where are we?\n",
    "\n",
    "print(competitors)\n",
    "print(answers)\n"
   ]
  },
  {
   "cell_type": "code",
   "execution_count": null,
   "metadata": {},
   "outputs": [],
   "source": [
    "# It's nice to know how to use \"zip\"\n",
    "for competitor, answer in zip(competitors, answers):\n",
    "    print(f\"Competitor: {competitor}\\n\\n{answer}\")\n"
   ]
  },
  {
   "cell_type": "code",
   "execution_count": 20,
   "metadata": {},
   "outputs": [],
   "source": [
    "# Let's bring this together - note the use of \"enumerate\"\n",
    "\n",
    "together = \"\"\n",
    "for index, answer in enumerate(answers):\n",
    "    together += f\"# Response from competitor {index+1}\\n\\n\"\n",
    "    together += answer + \"\\n\\n\""
   ]
  },
  {
   "cell_type": "code",
   "execution_count": null,
   "metadata": {},
   "outputs": [],
   "source": [
    "print(together)"
   ]
  },
  {
   "cell_type": "code",
   "execution_count": 22,
   "metadata": {},
   "outputs": [],
   "source": [
    "judge = f\"\"\"You are judging a competition between {len(competitors)} competitors.\n",
    "Each model has been given this question:\n",
    "\n",
    "{question}\n",
    "\n",
    "Your job is to evaluate each response for clarity and strength of argument, and rank them in order of best to worst.\n",
    "Respond with JSON, and only JSON, with the following format:\n",
    "{{\"results\": [\"best competitor number\", \"second best competitor number\", \"third best competitor number\", ...]}}\n",
    "\n",
    "Here are the responses from each competitor:\n",
    "\n",
    "{together}\n",
    "\n",
    "Now respond with the JSON with the ranked order of the competitors, nothing else. Do not include markdown formatting or code blocks.\"\"\"\n"
   ]
  },
  {
   "cell_type": "code",
   "execution_count": null,
   "metadata": {},
   "outputs": [],
   "source": [
    "print(judge)"
   ]
  },
  {
   "cell_type": "code",
   "execution_count": 29,
   "metadata": {},
   "outputs": [],
   "source": [
    "judge_messages = [{\"role\": \"user\", \"content\": judge}]"
   ]
  },
  {
   "cell_type": "code",
   "execution_count": null,
   "metadata": {},
   "outputs": [],
   "source": [
    "# Judgement time!\n",
    "\n",
    "openai = OpenAI()\n",
    "response = openai.chat.completions.create(\n",
    "    model=\"o3-mini\",\n",
    "    messages=judge_messages,\n",
    ")\n",
    "results = response.choices[0].message.content\n",
    "print(results)\n"
   ]
  },
  {
   "cell_type": "code",
   "execution_count": null,
   "metadata": {},
   "outputs": [],
   "source": [
    "# OK let's turn this into results!\n",
    "\n",
    "results_dict = json.loads(results)\n",
    "ranks = results_dict[\"results\"]\n",
    "for index, result in enumerate(ranks):\n",
    "    competitor = competitors[int(result)-1]\n",
    "    print(f\"Rank {index+1}: {competitor}\")"
   ]
  },
  {
   "cell_type": "markdown",
   "metadata": {},
   "source": [
    "<table style=\"margin: 0; text-align: left; width:100%\">\n",
    "    <tr>\n",
    "        <td style=\"width: 150px; height: 150px; vertical-align: middle;\">\n",
    "            <img src=\"../assets/exercise.png\" width=\"150\" height=\"150\" style=\"display: block;\" />\n",
    "        </td>\n",
    "        <td>\n",
    "            <h2 style=\"color:#ff7800;\">Exercise</h2>\n",
    "            <span style=\"color:#ff7800;\">Which pattern(s) did this use? Try updating this to add another Agentic design pattern.\n",
    "            </span>\n",
    "        </td>\n",
    "    </tr>\n",
    "</table>"
   ]
  },
  {
   "cell_type": "markdown",
   "metadata": {},
   "source": [
    "<table style=\"margin: 0; text-align: left; width:100%\">\n",
    "    <tr>\n",
    "        <td style=\"width: 150px; height: 150px; vertical-align: middle;\">\n",
    "            <img src=\"../assets/business.png\" width=\"150\" height=\"150\" style=\"display: block;\" />\n",
    "        </td>\n",
    "        <td>\n",
    "            <h2 style=\"color:#00bfff;\">Commercial implications</h2>\n",
    "            <span style=\"color:#00bfff;\">These kinds of patterns - to send a task to multiple models, and evaluate results,\n",
    "            are common where you need to improve the quality of your LLM response. This approach can be universally applied\n",
    "            to business projects where accuracy is critical.\n",
    "            </span>\n",
    "        </td>\n",
    "    </tr>\n",
    "</table>"
   ]
  }
 ],
 "metadata": {
  "kernelspec": {
   "display_name": ".venv",
   "language": "python",
   "name": "python3"
  },
  "language_info": {
   "codemirror_mode": {
    "name": "ipython",
    "version": 3
   },
   "file_extension": ".py",
   "mimetype": "text/x-python",
   "name": "python",
   "nbconvert_exporter": "python",
   "pygments_lexer": "ipython3",
   "version": "3.12.0"
  }
 },
 "nbformat": 4,
 "nbformat_minor": 2
}
