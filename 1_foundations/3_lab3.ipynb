{
 "cells": [
  {
   "cell_type": "markdown",
   "metadata": {},
   "source": [
    "## Welcome to Lab 3 for Week 1 Day 4\n",
    "\n",
    "Today we're going to build something with immediate value!\n",
    "\n",
    "In the folder `me` I've put a single file `linkedin.pdf` - it's a PDF download of my LinkedIn profile.\n",
    "\n",
    "Please replace it with yours!\n",
    "\n",
    "I've also made a file called `summary.txt`\n",
    "\n",
    "We're not going to use Tools just yet - we're going to add the tool tomorrow."
   ]
  },
  {
   "cell_type": "markdown",
   "metadata": {},
   "source": [
    "<table style=\"margin: 0; text-align: left; width:100%\">\n",
    "    <tr>\n",
    "        <td style=\"width: 150px; height: 150px; vertical-align: middle;\">\n",
    "            <img src=\"../assets/tools.png\" width=\"150\" height=\"150\" style=\"display: block;\" />\n",
    "        </td>\n",
    "        <td>\n",
    "            <h2 style=\"color:#00bfff;\">Looking up packages</h2>\n",
    "            <span style=\"color:#00bfff;\">In this lab, we're going to use the wonderful Gradio package for building quick UIs, \n",
    "            and we're also going to use the popular PyPDF PDF reader. You can get guides to these packages by asking \n",
    "            ChatGPT or Claude, and you find all open-source packages on the repository <a href=\"https://pypi.org\">https://pypi.org</a>.\n",
    "            </span>\n",
    "        </td>\n",
    "    </tr>\n",
    "</table>"
   ]
  },
  {
   "cell_type": "code",
   "execution_count": 1,
   "metadata": {},
   "outputs": [
    {
     "name": "stderr",
     "output_type": "stream",
     "text": [
      "c:\\Users\\drhan\\OneDrive\\Documents\\GitHub\\llms\\.venv\\Lib\\site-packages\\tqdm\\auto.py:21: TqdmWarning: IProgress not found. Please update jupyter and ipywidgets. See https://ipywidgets.readthedocs.io/en/stable/user_install.html\n",
      "  from .autonotebook import tqdm as notebook_tqdm\n"
     ]
    }
   ],
   "source": [
    "# If you don't know what any of these packages do - you can always ask ChatGPT for a guide!\n",
    "\n",
    "from dotenv import load_dotenv\n",
    "from openai import OpenAI\n",
    "from pypdf import PdfReader\n",
    "import gradio as gr"
   ]
  },
  {
   "cell_type": "code",
   "execution_count": 2,
   "metadata": {},
   "outputs": [],
   "source": [
    "load_dotenv(override=True)\n",
    "openai = OpenAI()"
   ]
  },
  {
   "cell_type": "code",
   "execution_count": 3,
   "metadata": {},
   "outputs": [],
   "source": [
    "reader = PdfReader(\"me/Profile.pdf\")\n",
    "linkedin = \"\"\n",
    "for page in reader.pages:\n",
    "    text = page.extract_text()\n",
    "    if text:\n",
    "        linkedin += text"
   ]
  },
  {
   "cell_type": "code",
   "execution_count": 4,
   "metadata": {},
   "outputs": [
    {
     "name": "stdout",
     "output_type": "stream",
     "text": [
      "   \n",
      "Contact\n",
      "drhandran@gmail.com\n",
      "www.linkedin.com/in/\n",
      "shawnhandran (LinkedIn)\n",
      "vizualize.me/shandran (Other)\n",
      "Top Skills\n",
      "Data Analytics\n",
      "ChatGPT\n",
      "Generative AI\n",
      "Languages\n",
      "Mandarin (non-fluent)\n",
      "Certifications\n",
      "Accredited Interscholastic Coach\n",
      "Level 1\n",
      "R Programming A-Z™: R For Data\n",
      "Science\n",
      "Python Data Visualization: Plotly and\n",
      "Dash\n",
      "Python Data Analysis & Visualization\n",
      "Certificate\n",
      "Publications\n",
      "Spatial Distribution and Coexistence\n",
      "of Klebsiella pneumoniae and\n",
      "Pseudomonas aeruginosa in Biofilms\n",
      "Ionized intracellular calcium\n",
      "concentration predicts excitotoxic\n",
      "neuronal death: observations with\n",
      "low-affinity fluorescent calcium\n",
      "indicators\n",
      "Huntington's Disease: New Progress\n",
      "(Workshop Report)\n",
      "Abnormal calcium homeostasis\n",
      "and mitochondrial polarization in a\n",
      "human encephalomyopathy\n",
      "What's Killing Neurons in\n",
      "Huntington's Disease (Workshop\n",
      "Report)\n",
      "Shawn Handran\n",
      "Consultant in statistics, data analytics, marketing, and business\n",
      "strategy\n",
      "Fremont, California, United States\n",
      "Summary\n",
      "I love designing and performing experiments, analyzing data, and\n",
      "creating compelling stories that relate individual experimental results\n",
      "to the larger narrative of the worldwide scientific endeavor. My goal\n",
      "as a teacher is to make science education as practical and hands-on\n",
      "as possible—having students themselves design, perform, analyze\n",
      "and interpret their own experiments.\n",
      "Experience\n",
      "S:H Consulting\n",
      "Consultant\n",
      "September 2023 - Present (1 year 9 months)\n",
      "San Francisco Bay Area\n",
      "Consulting services in data analytics, strategy, marketing, scientific writing,\n",
      "curriculum and pedagogical development. Statistical and data analytics\n",
      "support include: Quality of Life in Canine Patients Undergoing Treatment for\n",
      "Brain Tumors (Univ of Edinburgh), and A Historical Sociolinguistic Study of\n",
      "Paleo-Hebrew Script in Second Temple Period Judea and Samaria (Columbia\n",
      "International University). Editorial support example includes: A Comprehensive\n",
      "Database of HiChIP Regulatory Interactions (Stanford University). Marketing\n",
      "and business strategy consultations for Tu Design and Estex Precision.\n",
      "Bedford, Freeman & Worth High School Publishers\n",
      "Teacher Advocate\n",
      "February 2021 - December 2023 (2 years 11 months)\n",
      "California State University - East Bay\n",
      "Adjunct Faculty Instructor\n",
      "July 2019 - December 2023 (4 years 6 months)\n",
      "San Francisco Bay Area\n",
      "Part-time adjunct instructor of Statistics, and Pre-Professional Health\n",
      "Academic Program. \n",
      "  Page 1 of 5   \n",
      "Stanford University\n",
      "Visiting Teacher\n",
      "May 2022 - March 2023 (11 months)\n",
      "ETS\n",
      "AP Reader\n",
      "June 2019 - March 2023 (3 years 10 months)\n",
      "Fremont Christian School\n",
      "AP Statistics and STEM Teacher\n",
      "October 2012 - August 2022 (9 years 11 months)\n",
      "Fremont, California\n",
      "> High school science and statistics teacher for Biology, Physics, AP Biology,\n",
      "Biotechnology, and AP Statistics\n",
      "> Head of Science Department, 2014-2018\n",
      "> Head of school-wide Science Fair Expo, 2014-2016\n",
      "> Winter interim short course teacher for Forensic science (2014),\n",
      "Standardized test preparation (2015), and Electron and Light Microscopy\n",
      "(2016-2018)\n",
      "> Workshop Presenter at Society for Science and the Public Science Teacher\n",
      "Conference, \"Beginner's Guide to Getting Public Datasets into the Classroom.\"\n",
      "October 16, 2015, Washington DC\n",
      "> Expertise in teaching laboratory techniques including liquid handling, solution\n",
      "preparation, sterile technique, bacterial transformation, gel electrophoresis,\n",
      "restriction enzyme cloning, DNA isolation and purification, restriction fragment\n",
      "length polymorphism analysis, PCR, UV and visible light spectrophotometry,\n",
      "colorimetric assays, SDS-PAGE, light microscopy, wet-mount preparation,\n",
      "histology\n",
      "> Expertise in teaching students Microsoft Office, Google Apps, Minitab,\n",
      "Tableau Public, Gapminder, StatCrunch, and lab acquisition software in\n",
      "laboratory or classroom setting\n",
      "> Expertise in Renweb, Moodle, Google Classroom, and Badge List education\n",
      "platforms \n",
      "> Guided Language Acquisition Design (GLAD) certified, 2013-present\n",
      "> Head Coach, Girl's Volleyball, 2014\n",
      "> Assistant Coach, Track and Field, 2014-present\n",
      "> NFHS Certified Interscholastic Coach Level 2\n",
      "> USATF Level 1 Coach (and coach of a 2015 Junior Olympian)\n",
      "> Class advisor 2013-2016\n",
      "> American Cancer Society Club Advisor, 2015-2016\n",
      "  Page 2 of 5   \n",
      "Ohlone College\n",
      "Adjunct Instructor\n",
      "May 2018 - August 2018 (4 months)\n",
      "Fremont, California\n",
      "Adjunct instructor for Introduction to Biology for Pre-Health Sciences and non-\n",
      "Biology majors.\n",
      "Gotta Go\n",
      "Director of Partnership Development\n",
      "August 2008 - November 2011 (3 years 4 months)\n",
      "> Conducted foundation research, prepared grant proposals and financial\n",
      "partnership invitations > Prepared business plan with cash flow and break-\n",
      "even analysis for potential donors interested in investing in two social\n",
      "entrepreneurial business ventures > Raised $251K in donations, grants\n",
      "and personal support during tenure > Communicated vision and impact of\n",
      "organization with individuals, small groups, businesses, churches and schools\n",
      "> Networked with like-minded individuals and organizations for partnership\n",
      "opportunities, volunteer placement, information sharing and referrals > Visited\n",
      "team members in Asia and conducted training seminar on relationships and\n",
      "life skills\n",
      "Tu Design\n",
      "Editor\n",
      "June 2007 - December 2008 (1 year 7 months)\n",
      "Served as the Editor-in-Chief for TUNE, a quarterly newsletter produced by Tu\n",
      "Design\n",
      "Molecular Devices\n",
      "3 years 9 months\n",
      "Director of Marketing\n",
      "September 2006 - May 2007 (9 months)\n",
      "> Product evangelism and brand messaging for emerging or innovative\n",
      "technologies in image-based cell screening assays > Responsible and\n",
      "accountable for product portfolio and expenditures budget > Developed\n",
      "champion and thought-leader relationships with scientists in academic,\n",
      "pharmaceutical and CRO sectors > Quantitative market research > Strategic\n",
      "planning > Go-to-market preparedness > Set strategic vision for product\n",
      "portfolio > Speaker at product workshops in US, Japan, China, and Singapore\n",
      "> Trained sales personnel in the Great Demo! method > Developed Excel\n",
      "analysis tools for corporate leadership for gross margin and historical\n",
      "  Page 3 of 5   \n",
      "performance analysis of product lines > Led New Product Introduction team\n",
      "consisting of members from multiple departments\n",
      "Product Marketing Manager\n",
      "September 2003 - August 2006 (3 years)\n",
      "> Product manager for innovative technology used in ion channel drug\n",
      "discovery, cell-based screening, and cardiovascular (hERG) safety screening\n",
      "and profiling > Developed relationships with thought-leaders and scientists\n",
      "in ion channel drug discovery at Amgen, AstraZeneca, BioFocus, ChanTest,\n",
      "Cytomyx, GlaxoSmithKline, Icagen, Merck, Pfizer, Purdue Pharma, Roche,\n",
      "and Schering-Plough > Co-organized automated electrophysiology user\n",
      "meeting (Biophysical Society Satellite meeting, 2005-2006) > Scientific advisor\n",
      "for pharmaceutical drug discovery meeting (SRI, 2004-2005) > Co-author\n",
      "on scientific paper describing innovative technical advance in ion channel\n",
      "screening (see full text article below) > Organized and hosted WebEx webinars\n",
      "> Developed Excel tool for ROI and break-even analysis > Script writer and\n",
      "creative lead for product animations > Copywriting/editing for all marketing\n",
      "collateral (ad, print, web) > Co-developed MS Access customer database\n",
      "Axon Instruments\n",
      "Product Line Manager\n",
      "June 2000 - March 2003 (2 years 10 months)\n",
      "> Performed due diligence and market research in innovative in vitro\n",
      "diagnostic (IVD) opportunities using DNA microarray technology that provided\n",
      "executive management with information to make informed and actionable\n",
      "decisions > Evaluated microarray technology for M. tuberculosis antibiotic\n",
      "resistance > Established collaboration to use laser scanner device for\n",
      "intraoperative biopsy analysis in Mohs skin cancer surgery (see: http://\n",
      "www.ncbi.nlm.nih.gov/pmc/articles/PMC2756582/pdf/nihms87304.pdf)\n",
      "> Succeeded in campaign to establish product file format as the industry\n",
      "standard > Primary liaison on co-development project with partner company\n",
      "using innovative silicon-based technology for protein microarrays > Co-\n",
      "authored book chapter on image analysis considerations in DNA microarray\n",
      "data analysis\n",
      "Washington University in St. Louis\n",
      "Guest Lecturer, Lecturer and Teaching Assistant\n",
      "January 1994 - December 1997 (4 years)\n",
      "> Guest lecturer for adult evening class Introduction to the Nervous\n",
      "System (1996-1997) and graduate course Biological Applications of\n",
      "  Page 4 of 5   \n",
      "Optical Microscopy (1997) > Course lecturer for graduate course Biological\n",
      "Applications of Optical Microscopy (1996) > Teaching assistant for graduate\n",
      "course Biological Applications of Optical Microscopy (1995) and medical\n",
      "school course The Human Nervous System (1994)\n",
      "Cold Spring Harbor Laboratory\n",
      "Summer Course Teaching Assistant\n",
      "June 1995 - June 1995 (1 month)\n",
      "Teaching Assistant for summer laboratory course Imaging Structure and\n",
      "Function of the Nervous System\n",
      "Center for Biofilm Engineering\n",
      "Research Associate\n",
      "June 1991 - May 1992 (1 year)\n",
      "> Maintenance and operation of microbiology laboratory > Preparation of\n",
      "microbial frozen stock cultures > Ensured laboratory safety > Training staff\n",
      "in conventional and confocal microscopy > Design and implementation of\n",
      "experimental protocols\n",
      "Montana State University\n",
      "Tutor\n",
      "January 1989 - May 1991 (2 years 5 months)\n",
      "Tutor for undergraduate students in subjects of organic chemistry,\n",
      "biochemistry and microbiology\n",
      "Education\n",
      "Harvard Medical School\n",
      "Postdoctoral Fellow, Neurology · (1998 - 2000)\n",
      "Washington University in St. Louis School of Medicine\n",
      "PhD, Neuroscience · (1992 - 1997)\n",
      "Montana State University-Bozeman\n",
      "BS, Microbiology · (1986 - 1991)\n",
      "  Page 5 of 5\n"
     ]
    }
   ],
   "source": [
    "print(linkedin)"
   ]
  },
  {
   "cell_type": "code",
   "execution_count": 5,
   "metadata": {},
   "outputs": [],
   "source": [
    "with open(\"me/summary.txt\", \"r\", encoding=\"utf-8\") as f:\n",
    "    summary = f.read()"
   ]
  },
  {
   "cell_type": "code",
   "execution_count": 6,
   "metadata": {},
   "outputs": [],
   "source": [
    "# name = \"Ed Donner\"\n",
    "\n",
    "name = \"Shawn Handran\""
   ]
  },
  {
   "cell_type": "code",
   "execution_count": 7,
   "metadata": {},
   "outputs": [],
   "source": [
    "system_prompt = f\"You are acting as {name}. You are answering questions on {name}'s website, \\\n",
    "particularly questions related to {name}'s career, background, skills and experience. \\\n",
    "Your responsibility is to represent {name} for interactions on the website as faithfully as possible. \\\n",
    "You are given a summary of {name}'s background and LinkedIn profile which you can use to answer questions. \\\n",
    "Be professional and engaging, as if talking to a potential client or future employer who came across the website. \\\n",
    "If you don't know the answer, say so.\"\n",
    "\n",
    "system_prompt += f\"\\n\\n## Summary:\\n{summary}\\n\\n## LinkedIn Profile:\\n{linkedin}\\n\\n\"\n",
    "system_prompt += f\"With this context, please chat with the user, always staying in character as {name}.\"\n"
   ]
  },
  {
   "cell_type": "code",
   "execution_count": 8,
   "metadata": {},
   "outputs": [
    {
     "data": {
      "text/plain": [
       "'You are acting as Shawn Handran. You are answering questions on Shawn Handran\\'s website, particularly questions related to Shawn Handran\\'s career, background, skills and experience. Your responsibility is to represent Shawn Handran for interactions on the website as faithfully as possible. You are given a summary of Shawn Handran\\'s background and LinkedIn profile which you can use to answer questions. Be professional and engaging, as if talking to a potential client or future employer who came across the website. If you don\\'t know the answer, say so.\\n\\n## Summary:\\nMy name is Shawn Handran. I\\'m a neuroscientist, teacher, and data scientist. I\\'m originally from Montana, but have lived in St. Louis, Boston, and since 2000, the SF Bay Area and Silicon Valley.\\nI love hiking, mountain climbing and landscape photography. I also create graphics that help explain the Bible and have a free resource website called \"Basics of the Bible.org\" that features my designs.\\n\\n## LinkedIn Profile:\\n\\xa0 \\xa0\\nContact\\ndrhandran@gmail.com\\nwww.linkedin.com/in/\\nshawnhandran (LinkedIn)\\nvizualize.me/shandran (Other)\\nTop Skills\\nData Analytics\\nChatGPT\\nGenerative AI\\nLanguages\\nMandarin (non-fluent)\\nCertifications\\nAccredited Interscholastic Coach\\nLevel 1\\nR Programming A-Z™: R For Data\\nScience\\nPython Data Visualization: Plotly and\\nDash\\nPython Data Analysis & Visualization\\nCertificate\\nPublications\\nSpatial Distribution and Coexistence\\nof Klebsiella pneumoniae and\\nPseudomonas aeruginosa in Biofilms\\nIonized intracellular calcium\\nconcentration predicts excitotoxic\\nneuronal death: observations with\\nlow-affinity fluorescent calcium\\nindicators\\nHuntington\\'s Disease: New Progress\\n(Workshop Report)\\nAbnormal calcium homeostasis\\nand mitochondrial polarization in a\\nhuman encephalomyopathy\\nWhat\\'s Killing Neurons in\\nHuntington\\'s Disease (Workshop\\nReport)\\nShawn Handran\\nConsultant in statistics, data analytics, marketing, and business\\nstrategy\\nFremont, California, United States\\nSummary\\nI love designing and performing experiments, analyzing data, and\\ncreating compelling stories that relate individual experimental results\\nto the larger narrative of the worldwide scientific endeavor. My goal\\nas a teacher is to make science education as practical and hands-on\\nas possible—having students themselves design, perform, analyze\\nand interpret their own experiments.\\nExperience\\nS:H Consulting\\nConsultant\\nSeptember 2023\\xa0-\\xa0Present\\xa0(1 year 9 months)\\nSan Francisco Bay Area\\nConsulting services in data analytics, strategy, marketing, scientific writing,\\ncurriculum and pedagogical development. Statistical and data analytics\\nsupport include: Quality of Life in Canine Patients Undergoing Treatment for\\nBrain Tumors (Univ of Edinburgh), and A Historical Sociolinguistic Study of\\nPaleo-Hebrew Script in Second Temple Period Judea and Samaria (Columbia\\nInternational University). Editorial support example includes: A Comprehensive\\nDatabase of HiChIP Regulatory Interactions (Stanford University). Marketing\\nand business strategy consultations for Tu Design and Estex Precision.\\nBedford, Freeman & Worth High School Publishers\\nTeacher Advocate\\nFebruary 2021\\xa0-\\xa0December 2023\\xa0(2 years 11 months)\\nCalifornia State University - East Bay\\nAdjunct Faculty Instructor\\nJuly 2019\\xa0-\\xa0December 2023\\xa0(4 years 6 months)\\nSan Francisco Bay Area\\nPart-time adjunct instructor of Statistics, and Pre-Professional Health\\nAcademic Program. \\n\\xa0 Page 1 of 5\\xa0 \\xa0\\nStanford University\\nVisiting Teacher\\nMay 2022\\xa0-\\xa0March 2023\\xa0(11 months)\\nETS\\nAP Reader\\nJune 2019\\xa0-\\xa0March 2023\\xa0(3 years 10 months)\\nFremont Christian School\\nAP Statistics and STEM Teacher\\nOctober 2012\\xa0-\\xa0August 2022\\xa0(9 years 11 months)\\nFremont, California\\n> High school science and statistics teacher for Biology, Physics, AP Biology,\\nBiotechnology, and AP Statistics\\n> Head of Science Department, 2014-2018\\n> Head of school-wide Science Fair Expo, 2014-2016\\n> Winter interim short course teacher for Forensic science (2014),\\nStandardized test preparation (2015), and Electron and Light Microscopy\\n(2016-2018)\\n> Workshop Presenter at Society for Science and the Public Science Teacher\\nConference, \"Beginner\\'s Guide to Getting Public Datasets into the Classroom.\"\\nOctober 16, 2015, Washington DC\\n> Expertise in teaching laboratory techniques including liquid handling, solution\\npreparation, sterile technique, bacterial transformation, gel electrophoresis,\\nrestriction enzyme cloning, DNA isolation and purification, restriction fragment\\nlength polymorphism analysis, PCR, UV and visible light spectrophotometry,\\ncolorimetric assays, SDS-PAGE, light microscopy, wet-mount preparation,\\nhistology\\n> Expertise in teaching students Microsoft Office, Google Apps, Minitab,\\nTableau Public, Gapminder, StatCrunch, and lab acquisition software in\\nlaboratory or classroom setting\\n> Expertise in Renweb, Moodle, Google Classroom, and Badge List education\\nplatforms \\n> Guided Language Acquisition Design (GLAD) certified, 2013-present\\n> Head Coach, Girl\\'s Volleyball, 2014\\n> Assistant Coach, Track and Field, 2014-present\\n> NFHS Certified Interscholastic Coach Level 2\\n> USATF Level 1 Coach (and coach of a 2015 Junior Olympian)\\n> Class advisor 2013-2016\\n> American Cancer Society Club Advisor, 2015-2016\\n\\xa0 Page 2 of 5\\xa0 \\xa0\\nOhlone College\\nAdjunct Instructor\\nMay 2018\\xa0-\\xa0August 2018\\xa0(4 months)\\nFremont, California\\nAdjunct instructor for Introduction to Biology for Pre-Health Sciences and non-\\nBiology majors.\\nGotta Go\\nDirector of Partnership Development\\nAugust 2008\\xa0-\\xa0November 2011\\xa0(3 years 4 months)\\n> Conducted foundation research, prepared grant proposals and financial\\npartnership invitations > Prepared business plan with cash flow and break-\\neven analysis for potential donors interested in investing in two social\\nentrepreneurial business ventures > Raised $251K in donations, grants\\nand personal support during tenure > Communicated vision and impact of\\norganization with individuals, small groups, businesses, churches and schools\\n> Networked with like-minded individuals and organizations for partnership\\nopportunities, volunteer placement, information sharing and referrals > Visited\\nteam members in Asia and conducted training seminar on relationships and\\nlife skills\\nTu Design\\nEditor\\nJune 2007\\xa0-\\xa0December 2008\\xa0(1 year 7 months)\\nServed as the Editor-in-Chief for TUNE, a quarterly newsletter produced by Tu\\nDesign\\nMolecular Devices\\n3 years 9 months\\nDirector of Marketing\\nSeptember 2006\\xa0-\\xa0May 2007\\xa0(9 months)\\n> Product evangelism and brand messaging for emerging or innovative\\ntechnologies in image-based cell screening assays > Responsible and\\naccountable for product portfolio and expenditures budget > Developed\\nchampion and thought-leader relationships with scientists in academic,\\npharmaceutical and CRO sectors > Quantitative market research > Strategic\\nplanning > Go-to-market preparedness > Set strategic vision for product\\nportfolio > Speaker at product workshops in US, Japan, China, and Singapore\\n> Trained sales personnel in the Great Demo! method > Developed Excel\\nanalysis tools for corporate leadership for gross margin and historical\\n\\xa0 Page 3 of 5\\xa0 \\xa0\\nperformance analysis of product lines > Led New Product Introduction team\\nconsisting of members from multiple departments\\nProduct Marketing Manager\\nSeptember 2003\\xa0-\\xa0August 2006\\xa0(3 years)\\n> Product manager for innovative technology used in ion channel drug\\ndiscovery, cell-based screening, and cardiovascular (hERG) safety screening\\nand profiling > Developed relationships with thought-leaders and scientists\\nin ion channel drug discovery at Amgen, AstraZeneca, BioFocus, ChanTest,\\nCytomyx, GlaxoSmithKline, Icagen, Merck, Pfizer, Purdue Pharma, Roche,\\nand Schering-Plough > Co-organized automated electrophysiology user\\nmeeting (Biophysical Society Satellite meeting, 2005-2006) > Scientific advisor\\nfor pharmaceutical drug discovery meeting (SRI, 2004-2005) > Co-author\\non scientific paper describing innovative technical advance in ion channel\\nscreening (see full text article below) > Organized and hosted WebEx webinars\\n> Developed Excel tool for ROI and break-even analysis > Script writer and\\ncreative lead for product animations > Copywriting/editing for all marketing\\ncollateral (ad, print, web) > Co-developed MS Access customer database\\nAxon Instruments\\nProduct Line Manager\\nJune 2000\\xa0-\\xa0March 2003\\xa0(2 years 10 months)\\n> Performed due diligence and market research in innovative in vitro\\ndiagnostic (IVD) opportunities using DNA microarray technology that provided\\nexecutive management with information to make informed and actionable\\ndecisions > Evaluated microarray technology for M. tuberculosis antibiotic\\nresistance > Established collaboration to use laser scanner device for\\nintraoperative biopsy analysis in Mohs skin cancer surgery (see: http://\\nwww.ncbi.nlm.nih.gov/pmc/articles/PMC2756582/pdf/nihms87304.pdf)\\n> Succeeded in campaign to establish product file format as the industry\\nstandard > Primary liaison on co-development project with partner company\\nusing innovative silicon-based technology for protein microarrays > Co-\\nauthored book chapter on image analysis considerations in DNA microarray\\ndata analysis\\nWashington University in St. Louis\\nGuest Lecturer, Lecturer and Teaching Assistant\\nJanuary 1994\\xa0-\\xa0December 1997\\xa0(4 years)\\n> Guest lecturer for adult evening class Introduction to the Nervous\\nSystem (1996-1997) and graduate course Biological Applications of\\n\\xa0 Page 4 of 5\\xa0 \\xa0\\nOptical Microscopy (1997) > Course lecturer for graduate course Biological\\nApplications of Optical Microscopy (1996) > Teaching assistant for graduate\\ncourse Biological Applications of Optical Microscopy (1995) and medical\\nschool course The Human Nervous System (1994)\\nCold Spring Harbor Laboratory\\nSummer Course Teaching Assistant\\nJune 1995\\xa0-\\xa0June 1995\\xa0(1 month)\\nTeaching Assistant for summer laboratory course Imaging Structure and\\nFunction of the Nervous System\\nCenter for Biofilm Engineering\\nResearch Associate\\nJune 1991\\xa0-\\xa0May 1992\\xa0(1 year)\\n> Maintenance and operation of microbiology laboratory > Preparation of\\nmicrobial frozen stock cultures > Ensured laboratory safety > Training staff\\nin conventional and confocal microscopy > Design and implementation of\\nexperimental protocols\\nMontana State University\\nTutor\\nJanuary 1989\\xa0-\\xa0May 1991\\xa0(2 years 5 months)\\nTutor for undergraduate students in subjects of organic chemistry,\\nbiochemistry and microbiology\\nEducation\\nHarvard Medical School\\nPostdoctoral Fellow,\\xa0Neurology\\xa0·\\xa0(1998\\xa0-\\xa02000)\\nWashington University in St. Louis School of Medicine\\nPhD,\\xa0Neuroscience\\xa0·\\xa0(1992\\xa0-\\xa01997)\\nMontana State University-Bozeman\\nBS,\\xa0Microbiology\\xa0·\\xa0(1986\\xa0-\\xa01991)\\n\\xa0 Page 5 of 5\\n\\nWith this context, please chat with the user, always staying in character as Shawn Handran.'"
      ]
     },
     "execution_count": 8,
     "metadata": {},
     "output_type": "execute_result"
    }
   ],
   "source": [
    "system_prompt"
   ]
  },
  {
   "cell_type": "code",
   "execution_count": 9,
   "metadata": {},
   "outputs": [],
   "source": [
    "def chat(message, history):\n",
    "    messages = [{\"role\": \"system\", \"content\": system_prompt}] + history + [{\"role\": \"user\", \"content\": message}]\n",
    "    response = openai.chat.completions.create(model=\"gpt-4o-mini\", messages=messages)\n",
    "    return response.choices[0].message.content"
   ]
  },
  {
   "cell_type": "code",
   "execution_count": 10,
   "metadata": {},
   "outputs": [
    {
     "name": "stdout",
     "output_type": "stream",
     "text": [
      "* Running on local URL:  http://127.0.0.1:7860\n",
      "* To create a public link, set `share=True` in `launch()`.\n"
     ]
    },
    {
     "data": {
      "text/html": [
       "<div><iframe src=\"http://127.0.0.1:7860/\" width=\"100%\" height=\"500\" allow=\"autoplay; camera; microphone; clipboard-read; clipboard-write;\" frameborder=\"0\" allowfullscreen></iframe></div>"
      ],
      "text/plain": [
       "<IPython.core.display.HTML object>"
      ]
     },
     "metadata": {},
     "output_type": "display_data"
    },
    {
     "data": {
      "text/plain": []
     },
     "execution_count": 10,
     "metadata": {},
     "output_type": "execute_result"
    }
   ],
   "source": [
    "gr.ChatInterface(chat, type=\"messages\").launch()"
   ]
  },
  {
   "cell_type": "markdown",
   "metadata": {},
   "source": [
    "## A lot is about to happen...\n",
    "\n",
    "1. Be able to ask an LLM to evaluate an answer\n",
    "2. Be able to rerun if the answer fails evaluation\n",
    "3. Put this together into 1 workflow\n",
    "\n",
    "All without any Agentic framework!"
   ]
  },
  {
   "cell_type": "code",
   "execution_count": 11,
   "metadata": {},
   "outputs": [],
   "source": [
    "# Create a Pydantic model for the Evaluation\n",
    "\n",
    "from pydantic import BaseModel\n",
    "\n",
    "class Evaluation(BaseModel):\n",
    "    is_acceptable: bool\n",
    "    feedback: str\n"
   ]
  },
  {
   "cell_type": "code",
   "execution_count": 12,
   "metadata": {},
   "outputs": [],
   "source": [
    "evaluator_system_prompt = f\"You are an evaluator that decides whether a response to a question is acceptable. \\\n",
    "You are provided with a conversation between a User and an Agent. Your task is to decide whether the Agent's latest response is acceptable quality. \\\n",
    "The Agent is playing the role of {name} and is representing {name} on their website. \\\n",
    "The Agent has been instructed to be professional and engaging, as if talking to a potential client or future employer who came across the website. \\\n",
    "The Agent has been provided with context on {name} in the form of their summary and LinkedIn details. Here's the information:\"\n",
    "\n",
    "evaluator_system_prompt += f\"\\n\\n## Summary:\\n{summary}\\n\\n## LinkedIn Profile:\\n{linkedin}\\n\\n\"\n",
    "evaluator_system_prompt += f\"With this context, please evaluate the latest response, replying with whether the response is acceptable and your feedback.\""
   ]
  },
  {
   "cell_type": "code",
   "execution_count": 13,
   "metadata": {},
   "outputs": [],
   "source": [
    "def evaluator_user_prompt(reply, message, history):\n",
    "    user_prompt = f\"Here's the conversation between the User and the Agent: \\n\\n{history}\\n\\n\"\n",
    "    user_prompt += f\"Here's the latest message from the User: \\n\\n{message}\\n\\n\"\n",
    "    user_prompt += f\"Here's the latest response from the Agent: \\n\\n{reply}\\n\\n\"\n",
    "    user_prompt += \"Please evaluate the response, replying with whether it is acceptable and your feedback.\"\n",
    "    return user_prompt"
   ]
  },
  {
   "cell_type": "code",
   "execution_count": 14,
   "metadata": {},
   "outputs": [],
   "source": [
    "import os\n",
    "gemini = OpenAI(\n",
    "    api_key=os.getenv(\"GOOGLE_API_KEY\"), \n",
    "    base_url=\"https://generativelanguage.googleapis.com/v1beta/openai/\"\n",
    ")"
   ]
  },
  {
   "cell_type": "code",
   "execution_count": 15,
   "metadata": {},
   "outputs": [],
   "source": [
    "def evaluate(reply, message, history) -> Evaluation:\n",
    "\n",
    "    messages = [{\"role\": \"system\", \"content\": evaluator_system_prompt}] + [{\"role\": \"user\", \"content\": evaluator_user_prompt(reply, message, history)}]\n",
    "    response = gemini.beta.chat.completions.parse(model=\"gemini-2.0-flash\", messages=messages, response_format=Evaluation)\n",
    "    return response.choices[0].message.parsed"
   ]
  },
  {
   "cell_type": "code",
   "execution_count": 16,
   "metadata": {},
   "outputs": [],
   "source": [
    "messages = [{\"role\": \"system\", \"content\": system_prompt}] + [{\"role\": \"user\", \"content\": \"do you hold a patent?\"}]\n",
    "response = openai.chat.completions.create(model=\"gpt-4o-mini\", messages=messages)\n",
    "reply = response.choices[0].message.content"
   ]
  },
  {
   "cell_type": "code",
   "execution_count": 17,
   "metadata": {},
   "outputs": [
    {
     "data": {
      "text/plain": [
       "'I do not hold a patent. However, my career has focused on research, data analytics, teaching, and consulting, particularly within neuroscience and data science. If you have any specific questions about my work or expertise, feel free to ask!'"
      ]
     },
     "execution_count": 17,
     "metadata": {},
     "output_type": "execute_result"
    }
   ],
   "source": [
    "reply"
   ]
  },
  {
   "cell_type": "code",
   "execution_count": 18,
   "metadata": {},
   "outputs": [
    {
     "data": {
      "text/plain": [
       "Evaluation(is_acceptable=True, feedback=\"This is a great response, answering the user's question directly, and also inviting them to ask further questions. The agent is doing a good job of representing Shawn Handran in a professional and engaging manner.\")"
      ]
     },
     "execution_count": 18,
     "metadata": {},
     "output_type": "execute_result"
    }
   ],
   "source": [
    "evaluate(reply, \"do you hold a patent?\", messages[:1])"
   ]
  },
  {
   "cell_type": "code",
   "execution_count": 19,
   "metadata": {},
   "outputs": [],
   "source": [
    "def rerun(reply, message, history, feedback):\n",
    "    updated_system_prompt = system_prompt + \"\\n\\n## Previous answer rejected\\nYou just tried to reply, but the quality control rejected your reply\\n\"\n",
    "    updated_system_prompt += f\"## Your attempted answer:\\n{reply}\\n\\n\"\n",
    "    updated_system_prompt += f\"## Reason for rejection:\\n{feedback}\\n\\n\"\n",
    "    messages = [{\"role\": \"system\", \"content\": updated_system_prompt}] + history + [{\"role\": \"user\", \"content\": message}]\n",
    "    response = openai.chat.completions.create(model=\"gpt-4o-mini\", messages=messages)\n",
    "    return response.choices[0].message.content"
   ]
  },
  {
   "cell_type": "code",
   "execution_count": 20,
   "metadata": {},
   "outputs": [],
   "source": [
    "def chat(message, history):\n",
    "    if \"patent\" in message:\n",
    "        system = system_prompt + \"\\n\\nEverything in your reply needs to be in pig latin - \\\n",
    "              it is mandatory that you respond only and entirely in pig latin\"\n",
    "    else:\n",
    "        system = system_prompt\n",
    "    messages = [{\"role\": \"system\", \"content\": system}] + history + [{\"role\": \"user\", \"content\": message}]\n",
    "    response = openai.chat.completions.create(model=\"gpt-4o-mini\", messages=messages)\n",
    "    reply =response.choices[0].message.content\n",
    "\n",
    "    evaluation = evaluate(reply, message, history)\n",
    "    \n",
    "    if evaluation.is_acceptable:\n",
    "        print(\"Passed evaluation - returning reply\")\n",
    "    else:\n",
    "        print(\"Failed evaluation - retrying\")\n",
    "        print(evaluation.feedback)\n",
    "        reply = rerun(reply, message, history, evaluation.feedback)       \n",
    "    return reply"
   ]
  },
  {
   "cell_type": "code",
   "execution_count": null,
   "metadata": {},
   "outputs": [
    {
     "name": "stdout",
     "output_type": "stream",
     "text": [
      "* Running on local URL:  http://127.0.0.1:7861\n",
      "* To create a public link, set `share=True` in `launch()`.\n"
     ]
    },
    {
     "data": {
      "text/html": [
       "<div><iframe src=\"http://127.0.0.1:7861/\" width=\"100%\" height=\"500\" allow=\"autoplay; camera; microphone; clipboard-read; clipboard-write;\" frameborder=\"0\" allowfullscreen></iframe></div>"
      ],
      "text/plain": [
       "<IPython.core.display.HTML object>"
      ]
     },
     "metadata": {},
     "output_type": "display_data"
    },
    {
     "data": {
      "text/plain": []
     },
     "execution_count": 21,
     "metadata": {},
     "output_type": "execute_result"
    },
    {
     "name": "stdout",
     "output_type": "stream",
     "text": [
      "Passed evaluation - returning reply\n",
      "Passed evaluation - returning reply\n",
      "Failed evaluation - retrying\n",
      "The response provided by the agent is not acceptable. The response is written in Pig Latin, which does not align with the professional tone the agent is instructed to maintain.\n",
      "Passed evaluation - returning reply\n"
     ]
    }
   ],
   "source": [
    "gr.ChatInterface(chat, type=\"messages\").launch()"
   ]
  },
  {
   "cell_type": "markdown",
   "metadata": {},
   "source": []
  },
  {
   "cell_type": "code",
   "execution_count": null,
   "metadata": {},
   "outputs": [],
   "source": []
  },
  {
   "cell_type": "markdown",
   "metadata": {},
   "source": [
    "# Summary\n",
    "1. **The importance of using Gradio** when you wish to have an interactive chat window when using API calls to LLMs.\n",
    "\n",
    "2. **Embedding *Resources* in the prompt to provide specific and detailed context.** In this case, using the LinkedIn automatic resume building PDF, and a short summary text file to provide personalized information about myself.\n",
    "\n",
    "3. **Creating *no framework* style agents with a few simple def functions.** In this example, one LLM is generating the interactive chat, while a second LLM is running quality control of each response -- if a response doesn't meet a condition (e.g., professional and engaging), it is rejected and prompts the first LLM to rerun the response, providing the reason for rejection as additional context. In this example, when the word *patent* was detected, the first LLM was instructed to respond in pig latin; the evaluator LLM detected it (lack of professional response), rejected it and asked the LLM to reply again correctly. On the gradio userface, the user never sees the pig latin response, however, the code output showed that the pig latin response was correctly identified."
   ]
  },
  {
   "cell_type": "markdown",
   "metadata": {},
   "source": []
  }
 ],
 "metadata": {
  "kernelspec": {
   "display_name": ".venv",
   "language": "python",
   "name": "python3"
  },
  "language_info": {
   "codemirror_mode": {
    "name": "ipython",
    "version": 3
   },
   "file_extension": ".py",
   "mimetype": "text/x-python",
   "name": "python",
   "nbconvert_exporter": "python",
   "pygments_lexer": "ipython3",
   "version": "3.12.10"
  }
 },
 "nbformat": 4,
 "nbformat_minor": 2
}
