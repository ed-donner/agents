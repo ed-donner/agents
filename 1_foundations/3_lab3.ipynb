{
 "cells": [
  {
   "cell_type": "markdown",
   "metadata": {},
   "source": [
    "## Welcome to Lab 3 for Week 1 Day 4\n",
    "\n",
    "Today we're going to build something with immediate value!\n",
    "\n",
    "In the folder `me` I've put a single file `linkedin.pdf` - it's a PDF download of my LinkedIn profile.\n",
    "\n",
    "Please replace it with yours!\n",
    "\n",
    "I've also made a file called `summary.txt`\n",
    "\n",
    "We're not going to use Tools just yet - we're going to add the tool tomorrow."
   ]
  },
  {
   "cell_type": "markdown",
   "metadata": {},
   "source": [
    "<table style=\"margin: 0; text-align: left; width:100%\">\n",
    "    <tr>\n",
    "        <td style=\"width: 150px; height: 150px; vertical-align: middle;\">\n",
    "            <img src=\"../assets/tools.png\" width=\"150\" height=\"150\" style=\"display: block;\" />\n",
    "        </td>\n",
    "        <td>\n",
    "            <h2 style=\"color:#00bfff;\">Looking up packages</h2>\n",
    "            <span style=\"color:#00bfff;\">In this lab, we're going to use the wonderful Gradio package for building quick UIs, \n",
    "            and we're also going to use the popular PyPDF PDF reader. You can get guides to these packages by asking \n",
    "            ChatGPT or Claude, and you find all open-source packages on the repository <a href=\"https://pypi.org\">https://pypi.org</a>.\n",
    "            </span>\n",
    "        </td>\n",
    "    </tr>\n",
    "</table>"
   ]
  },
  {
   "cell_type": "code",
   "execution_count": 1,
   "metadata": {},
   "outputs": [],
   "source": [
    "# If you don't know what any of these packages do - you can always ask ChatGPT for a guide!\n",
    "\n",
    "from dotenv import load_dotenv\n",
    "from openai import OpenAI\n",
    "from pypdf import PdfReader\n",
    "import gradio as gr"
   ]
  },
  {
   "cell_type": "code",
   "execution_count": 2,
   "metadata": {},
   "outputs": [],
   "source": [
    "load_dotenv(override=True)\n",
    "openai = OpenAI()"
   ]
  },
  {
   "cell_type": "code",
   "execution_count": 3,
   "metadata": {},
   "outputs": [],
   "source": [
    "reader = PdfReader(\"me/linkedin.pdf\")\n",
    "linkedin = \"\"\n",
    "for page in reader.pages:\n",
    "    text = page.extract_text()\n",
    "    if text:\n",
    "        linkedin += text"
   ]
  },
  {
   "cell_type": "code",
   "execution_count": 4,
   "metadata": {},
   "outputs": [
    {
     "name": "stdout",
     "output_type": "stream",
     "text": [
      "   \n",
      "Contact\n",
      "sakshamsamj22@gmail.com\n",
      "www.linkedin.com/in/saksham-li\n",
      "(LinkedIn)\n",
      "sakshamjain.com/ (Portfolio)\n",
      "booksoverflow.in/ (Personal)\n",
      "Top Skills\n",
      "Project Management\n",
      "Microsoft Azure\n",
      "Scrum\n",
      "Certifications\n",
      "Business Analytics and Digital Media\n",
      "Finance and Banking Fundamentals\n",
      "FinTech and the Transformation in\n",
      "Financial Services\n",
      "Fundamentals of Visualization with\n",
      "Tableau\n",
      "CFA Investment Foundation\n",
      "Program\n",
      "Honors-Awards\n",
      "Bronze Award\n",
      "Silver Award\n",
      "Saksham Jain\n",
      "Building user centric digital solutions | Tech Enthusiast | Problem\n",
      "Solver\n",
      "Bengaluru, Karnataka, India\n",
      "Summary\n",
      "I transform complex technical challenges into seamless user\n",
      "experiences that drive business results.\n",
      "As an Engineer turned MBA with a passion for emerging\n",
      "technologies, I've delivered measurable outcomes across fintech\n",
      "and lending platforms while constantly expanding my technical toolkit\n",
      "through hands-on side projects.\n",
      "Key Achievements: \n",
      "● Conceptualized and launched Klub Connect (API Suite) from MVP\n",
      "to market, co-creating GTM & product roadmap\n",
      "● Elevated CSAT score from 3.1 to 3.7 through data-driven decision\n",
      "making\n",
      "● Boosted user engagement by 15% by leading development of an\n",
      "omni-channel communication module\n",
      "● Increased conversion rates by 20% through structured user\n",
      "research and A/B testing\n",
      "● Drove a 15% increase in sign-up completion by resolving cross-\n",
      "exchange cookie issues\n",
      "Beyond my professional work, I build technology solutions that solve\n",
      "real problems:\n",
      "- IPO Alert System: Created an automated WhatsApp notification\n",
      "service using Python and GitHub Actions that delivers real-time\n",
      "investment opportunities\n",
      "- AI Course Generator: Developed a personalized learning platform\n",
      "that creates custom educational content using large language\n",
      "models\n",
      "- Book Summarizer: Built an AI-powered tool that extracts key\n",
      "insights from lengthy texts, saving readers hours of time\n",
      "- Smart Skimmer: Engineered a Chrome extension that uses\n",
      "machine learning to highlight important content as users browse\n",
      "  Page 1 of 5   \n",
      "These projects demonstrate my commitment to staying at the cutting\n",
      "edge of technology while creating practical solutions that enhance\n",
      "user experiences.\n",
      "Technical Toolkit:\n",
      "- AI/ML: OpenAI, Claude, Gemini, Perplexity - leveraging these to\n",
      "create intelligent user experiences\n",
      "- Development: Python, TypeScript, JavaScript - building functional\n",
      "prototypes and production-ready solutions\n",
      "- Tools & Platforms: Postman, VS Code, GitHub, Lovable, Bolt -\n",
      "maintaining efficient development workflows\n",
      "- API Integration: OpenAI, DeepSeek, WhatsApp - connecting\n",
      "services to create seamless experiences\n",
      "Looking to connect with fellow product enthusiasts, tech innovators,\n",
      "and hiring managers in the fintech, e-commerce, AI/ML space. Open\n",
      "to discussing product strategies, emerging tech trends, or potential\n",
      "opportunities.\n",
      "Portfolio: https://sakshamjain.com\n",
      "GitHub: https://github.com/sakshamsan\n",
      "Side Project: https://booksoverflow.softr.app\n",
      "✍️ Medium: https://medium.com/@jain.saksham\n",
      "Experience\n",
      "Bajaj Finserv\n",
      "Associate Lead - PMO\n",
      "October 2024 - Present (10 months)\n",
      "Bengaluru, Karnataka, India\n",
      "• Enhanced Gold Loan journey to increase loan disbursed amount by 12% Q-\n",
      "o-Q from the online channel\n",
      "• Owned implementation roadmap of New Engagement vertical, captured over\n",
      "a million monthly visitors\n",
      "• Spearheaded Agile process, applied Scrum frameworks on Azure DevOps,\n",
      "bolstered capacity utilization by 20%\n",
      "  Page 2 of 5   \n",
      "• Optimized project planning & execution, reducing interdependencies and\n",
      "requirement closure time by 30%, leading to shorter go-to-market time and\n",
      "improved delivery timelines\n",
      "Klub\n",
      "Product Manager\n",
      "2023 - September 2024 (1 year)\n",
      "Bengaluru, Karnataka, India\n",
      "• Led cross-organization teams to develop Embedded Lending API suite.\n",
      "Successfully integrated with the demand partners for providing one-stop\n",
      "capital solution.\n",
      "• Increased brand registration by 25% through embedded, grew loan book by\n",
      "40% Q-o-Q \n",
      "• Proposed and implemented strategic initiatives to develop a scalable,\n",
      "partner-level configurable product\n",
      "• Optimized user journey through A/B testing, increased discovery to\n",
      "submission conversion rates by 15%\n",
      "Books Overflow\n",
      "Project\n",
      "September 2022 - March 2023 (7 months)\n",
      "• Project I ideated and built for young professionals and recent graduates to\n",
      "read book summaries under-4-minutes\n",
      "• Interviewed 18 target users to understand their behavior and current friction\n",
      "points & conducted competitive research\n",
      "• Leveraged user insights to define product’s vision, scope and strategy and\n",
      "define PRD with prioritized features and goals\n",
      "• Designed user journey and go-to-market strategy; 172 users engaged with\n",
      "396 views and 62 subscribers in first 4 weeks\n",
      "Ecolibria\n",
      "1 year 9 months\n",
      "President\n",
      "April 2022 - March 2023 (1 year)\n",
      "• Leading a team of 30 members for Economics and Strategy Cell of NMIMS\n",
      "Mumbai\n",
      "• Organizing events by collaborating with Editorial, Event and Marketing\n",
      "Verticals\n",
      "Junior Committee Member\n",
      "July 2021 - April 2022 (10 months)\n",
      "  Page 3 of 5   \n",
      "Mumbai, Maharashtra, India\n",
      "• Conducting events for Economics and Strategy Cell, NMIMS Mumbai\n",
      "• Analysing different sectors of the Indian economy and studying current\n",
      "industry trends\n",
      "CampusVeda\n",
      "Consultant\n",
      "July 2022 - September 2022 (3 months)\n",
      "• Increased the completion rate of the finance courses from 57% to 73%\n",
      "through proposed enhancements in three months\n",
      "• Enhanced the Customer Satisfaction (CSAT) score from 7.5 to 8.2 by\n",
      "strategizing an MVP portal for the hiring partners\n",
      "Enrichmentors\n",
      "Product Strategy Intern\n",
      "December 2021 - January 2022 (2 months)\n",
      "• Interviewed over 25 users and conducted further research, found 5 unmet\n",
      "needs of target customers, and devised PRD for new product\n",
      "• Suggested course got implemented and garnered, 4200+ enrollments with\n",
      "4.6-stars rating\n",
      "Bank of America\n",
      "3 years\n",
      "Analyst\n",
      "June 2020 - May 2021 (1 year)\n",
      "Gurugram, Haryana, India\n",
      "• Developed a web-based product which improved operational efficiency and\n",
      "data reconciliation\n",
      "• Collaborated with Product Owner to develop and enhance UI/UX using front-\n",
      "end technologies\n",
      "• Exercised Agile Methodologies through JIRA to ensure flawless and timely\n",
      "delivery\n",
      "• Engaged with stakeholders and cross-functional teams to analyse business\n",
      "requirements and deliver solutions by leveraging technical expertise\n",
      "• Verified loan applications of MSMEs under the $150 billion CARE Act Relief\n",
      "fund. \n",
      "• Received Bank of America’s Global Recognition Silver Award under the\n",
      "CARES Program\n",
      "Junior Analyst\n",
      "  Page 4 of 5   \n",
      "June 2018 - May 2020 (2 years)\n",
      "Gurgaon, India\n",
      "• Member of the defect remediation team\n",
      "• Member of the .NET Development team where we developed a web-based\n",
      "application using C️, jQuery, MVC Architecture, JavaScript, HTML, and CSS\n",
      "• Recommended solutions and explained root cause analysis to data domain\n",
      "leads and LOBs\n",
      "Education\n",
      "SVKM's Narsee Monjee Institute of Management Studies (NMIMS)\n",
      "Master of Business Administration - MBA \n",
      "Vellore Institute of Technology\n",
      "Bachelor of Technology (BTech), Electronics and Communications\n",
      "Engineering\n",
      "D.A.V. Public School - India\n",
      "Science\n",
      "D.A.V. Public School - India\n",
      "  Page 5 of 5\n"
     ]
    }
   ],
   "source": [
    "print(linkedin)"
   ]
  },
  {
   "cell_type": "code",
   "execution_count": 5,
   "metadata": {},
   "outputs": [],
   "source": [
    "with open(\"me/summary.txt\", \"r\", encoding=\"utf-8\") as f:\n",
    "    summary = f.read()"
   ]
  },
  {
   "cell_type": "code",
   "execution_count": 6,
   "metadata": {},
   "outputs": [
    {
     "data": {
      "text/plain": [
       "\"I transform complex technical challenges into seamless user experiences that drive business results.\\n\\nAs an Engineer turned MBA with a passion for emerging technologies, I've delivered measurable outcomes across fintech and lending platforms while constantly expanding my technical toolkit through hands-on side projects.\\n\\nKey Achievements: \\n● Conceptualized and launched Klub Connect (API Suite) from MVP to market, co-creating GTM & product roadmap\\n● Elevated CSAT score from 3.1 to 3.7 through data-driven decision making\\n● Boosted user engagement by 15% by leading development of an omni-channel communication module\\n● Increased conversion rates by 20% through structured user research and A/B testing\\n● Drove a 15% increase in sign-up completion by resolving cross-exchange cookie issues\\n\\nBeyond my professional work, I build technology solutions that solve real problems:\\n\\n- IPO Alert System: Created an automated WhatsApp notification service using Python and GitHub Actions that delivers real-time investment opportunities\\n- AI Course Generator: Developed a personalized learning platform that creates custom educational content using large language models\\n- Book Summarizer: Built an AI-powered tool that extracts key insights from lengthy texts, saving readers hours of time\\n- Smart Skimmer: Engineered a Chrome extension that uses machine learning to highlight important content as users browse\\n\\nThese projects demonstrate my commitment to staying at the cutting edge of technology while creating practical solutions that enhance user experiences.\\n\\nTechnical Toolkit:\\n- AI/ML: OpenAI, Claude, Gemini, Perplexity - leveraging these to create intelligent user experiences\\n- Development: Python, TypeScript, JavaScript - building functional prototypes and production-ready solutions\\n- Tools & Platforms: Postman, VS Code, GitHub, Lovable, Bolt - maintaining efficient development workflows\\n- API Integration: OpenAI, DeepSeek, WhatsApp - connecting services to create seamless experiences\\n\\nLooking to connect with fellow product enthusiasts, tech innovators, and hiring managers in the fintech, e-commerce, AI/ML space. Open to discussing product strategies, emerging tech trends, or potential opportunities.\\n\\n📂 Portfolio: https://sakshamjain.com\\n💻 GitHub: https://github.com/sakshamsan\\n🚀 Side Project: https://booksoverflow.softr.app\\n✍️ Medium: https://medium.com/@jain.saksham\""
      ]
     },
     "execution_count": 6,
     "metadata": {},
     "output_type": "execute_result"
    }
   ],
   "source": [
    "summary"
   ]
  },
  {
   "cell_type": "code",
   "execution_count": 7,
   "metadata": {},
   "outputs": [],
   "source": [
    "name = \"Saksham Jain\""
   ]
  },
  {
   "cell_type": "code",
   "execution_count": 11,
   "metadata": {},
   "outputs": [],
   "source": [
    "reader = PdfReader(\"me/Resume.pdf\")\n",
    "resume = \"\"\n",
    "for page in reader.pages:\n",
    "    text = page.extract_text()\n",
    "    if text:\n",
    "        resume += text"
   ]
  },
  {
   "cell_type": "code",
   "execution_count": 12,
   "metadata": {},
   "outputs": [],
   "source": [
    "system_prompt = f\"You are acting as {name}. You are answering questions on {name}'s website, \\\n",
    "particularly questions related to {name}'s career, background, skills and experience. \\\n",
    "Your responsibility is to represent {name} for interactions on the website as faithfully as possible. \\\n",
    "You are given a summary of {name}'s background, resume and LinkedIn profile which you can use to answer questions. \\\n",
    "Be professional and engaging, as if talking to a potential client or future employer who came across the website. \\\n",
    "If you don't know the answer, say so.\"\n",
    "\n",
    "system_prompt += f\"\\n\\n## Summary:\\n{summary}\\n\\n## LinkedIn Profile:\\n{linkedin}\\n\\n Resume:\\n{resume}\\n\\n\"\n",
    "system_prompt += f\"With this context, please chat with the user, always staying in character as {name}.\"\n"
   ]
  },
  {
   "cell_type": "code",
   "execution_count": 13,
   "metadata": {},
   "outputs": [
    {
     "data": {
      "text/plain": [
       "\"You are acting as Saksham Jain. You are answering questions on Saksham Jain's website, particularly questions related to Saksham Jain's career, background, skills and experience. Your responsibility is to represent Saksham Jain for interactions on the website as faithfully as possible. You are given a summary of Saksham Jain's background, resume and LinkedIn profile which you can use to answer questions. Be professional and engaging, as if talking to a potential client or future employer who came across the website. If you don't know the answer, say so.\\n\\n## Summary:\\nI transform complex technical challenges into seamless user experiences that drive business results.\\n\\nAs an Engineer turned MBA with a passion for emerging technologies, I've delivered measurable outcomes across fintech and lending platforms while constantly expanding my technical toolkit through hands-on side projects.\\n\\nKey Achievements: \\n● Conceptualized and launched Klub Connect (API Suite) from MVP to market, co-creating GTM & product roadmap\\n● Elevated CSAT score from 3.1 to 3.7 through data-driven decision making\\n● Boosted user engagement by 15% by leading development of an omni-channel communication module\\n● Increased conversion rates by 20% through structured user research and A/B testing\\n● Drove a 15% increase in sign-up completion by resolving cross-exchange cookie issues\\n\\nBeyond my professional work, I build technology solutions that solve real problems:\\n\\n- IPO Alert System: Created an automated WhatsApp notification service using Python and GitHub Actions that delivers real-time investment opportunities\\n- AI Course Generator: Developed a personalized learning platform that creates custom educational content using large language models\\n- Book Summarizer: Built an AI-powered tool that extracts key insights from lengthy texts, saving readers hours of time\\n- Smart Skimmer: Engineered a Chrome extension that uses machine learning to highlight important content as users browse\\n\\nThese projects demonstrate my commitment to staying at the cutting edge of technology while creating practical solutions that enhance user experiences.\\n\\nTechnical Toolkit:\\n- AI/ML: OpenAI, Claude, Gemini, Perplexity - leveraging these to create intelligent user experiences\\n- Development: Python, TypeScript, JavaScript - building functional prototypes and production-ready solutions\\n- Tools & Platforms: Postman, VS Code, GitHub, Lovable, Bolt - maintaining efficient development workflows\\n- API Integration: OpenAI, DeepSeek, WhatsApp - connecting services to create seamless experiences\\n\\nLooking to connect with fellow product enthusiasts, tech innovators, and hiring managers in the fintech, e-commerce, AI/ML space. Open to discussing product strategies, emerging tech trends, or potential opportunities.\\n\\n📂 Portfolio: https://sakshamjain.com\\n💻 GitHub: https://github.com/sakshamsan\\n🚀 Side Project: https://booksoverflow.softr.app\\n✍️ Medium: https://medium.com/@jain.saksham\\n\\n## LinkedIn Profile:\\n\\xa0 \\xa0\\nContact\\nsakshamsamj22@gmail.com\\nwww.linkedin.com/in/saksham-li\\n(LinkedIn)\\nsakshamjain.com/ (Portfolio)\\nbooksoverflow.in/ (Personal)\\nTop Skills\\nProject Management\\nMicrosoft Azure\\nScrum\\nCertifications\\nBusiness Analytics and Digital Media\\nFinance and Banking Fundamentals\\nFinTech and the Transformation in\\nFinancial Services\\nFundamentals of Visualization with\\nTableau\\nCFA Investment Foundation\\nProgram\\nHonors-Awards\\nBronze Award\\nSilver Award\\nSaksham Jain\\nBuilding user centric digital solutions | Tech Enthusiast | Problem\\nSolver\\nBengaluru, Karnataka, India\\nSummary\\nI transform complex technical challenges into seamless user\\nexperiences that drive business results.\\nAs an Engineer turned MBA with a passion for emerging\\ntechnologies, I've delivered measurable outcomes across fintech\\nand lending platforms while constantly expanding my technical toolkit\\nthrough hands-on side projects.\\nKey Achievements: \\n● Conceptualized and launched Klub Connect (API Suite) from MVP\\nto market, co-creating GTM & product roadmap\\n● Elevated CSAT score from 3.1 to 3.7 through data-driven decision\\nmaking\\n● Boosted user engagement by 15% by leading development of an\\nomni-channel communication module\\n● Increased conversion rates by 20% through structured user\\nresearch and A/B testing\\n● Drove a 15% increase in sign-up completion by resolving cross-\\nexchange cookie issues\\nBeyond my professional work, I build technology solutions that solve\\nreal problems:\\n- IPO Alert System: Created an automated WhatsApp notification\\nservice using Python and GitHub Actions that delivers real-time\\ninvestment opportunities\\n- AI Course Generator: Developed a personalized learning platform\\nthat creates custom educational content using large language\\nmodels\\n- Book Summarizer: Built an AI-powered tool that extracts key\\ninsights from lengthy texts, saving readers hours of time\\n- Smart Skimmer: Engineered a Chrome extension that uses\\nmachine learning to highlight important content as users browse\\n\\xa0 Page 1 of 5\\xa0 \\xa0\\nThese projects demonstrate my commitment to staying at the cutting\\nedge of technology while creating practical solutions that enhance\\nuser experiences.\\nTechnical Toolkit:\\n- AI/ML: OpenAI, Claude, Gemini, Perplexity - leveraging these to\\ncreate intelligent user experiences\\n- Development: Python, TypeScript, JavaScript - building functional\\nprototypes and production-ready solutions\\n- Tools & Platforms: Postman, VS Code, GitHub, Lovable, Bolt -\\nmaintaining efficient development workflows\\n- API Integration: OpenAI, DeepSeek, WhatsApp - connecting\\nservices to create seamless experiences\\nLooking to connect with fellow product enthusiasts, tech innovators,\\nand hiring managers in the fintech, e-commerce, AI/ML space. Open\\nto discussing product strategies, emerging tech trends, or potential\\nopportunities.\\nPortfolio: https://sakshamjain.com\\nGitHub: https://github.com/sakshamsan\\nSide Project: https://booksoverflow.softr.app\\n✍️ Medium: https://medium.com/@jain.saksham\\nExperience\\nBajaj Finserv\\nAssociate Lead - PMO\\nOctober 2024\\xa0-\\xa0Present\\xa0(10 months)\\nBengaluru, Karnataka, India\\n• Enhanced Gold Loan journey to increase loan disbursed amount by 12% Q-\\no-Q from the online channel\\n• Owned implementation roadmap of New Engagement vertical, captured over\\na million monthly visitors\\n• Spearheaded Agile process, applied Scrum frameworks on Azure DevOps,\\nbolstered capacity utilization by 20%\\n\\xa0 Page 2 of 5\\xa0 \\xa0\\n• Optimized project planning & execution, reducing interdependencies and\\nrequirement closure time by 30%, leading to shorter go-to-market time and\\nimproved delivery timelines\\nKlub\\nProduct Manager\\n2023\\xa0-\\xa0September 2024\\xa0(1 year)\\nBengaluru, Karnataka, India\\n• Led cross-organization teams to develop Embedded Lending API suite.\\nSuccessfully integrated with the demand partners for providing one-stop\\ncapital solution.\\n• Increased brand registration by 25% through embedded, grew loan book by\\n40% Q-o-Q \\n• Proposed and implemented strategic initiatives to develop a scalable,\\npartner-level configurable product\\n• Optimized user journey through A/B testing, increased discovery to\\nsubmission conversion rates by 15%\\nBooks Overflow\\nProject\\nSeptember 2022\\xa0-\\xa0March 2023\\xa0(7 months)\\n• Project I ideated and built for young professionals and recent graduates to\\nread book summaries under-4-minutes\\n• Interviewed 18 target users to understand their behavior and current friction\\npoints & conducted competitive research\\n• Leveraged user insights to define product’s vision, scope and strategy and\\ndefine PRD with prioritized features and goals\\n• Designed user journey and go-to-market strategy; 172 users engaged with\\n396 views and 62 subscribers in first 4 weeks\\nEcolibria\\n1 year 9 months\\nPresident\\nApril 2022\\xa0-\\xa0March 2023\\xa0(1 year)\\n• Leading a team of 30 members for Economics and Strategy Cell of NMIMS\\nMumbai\\n• Organizing events by collaborating with Editorial, Event and Marketing\\nVerticals\\nJunior Committee Member\\nJuly 2021\\xa0-\\xa0April 2022\\xa0(10 months)\\n\\xa0 Page 3 of 5\\xa0 \\xa0\\nMumbai, Maharashtra, India\\n• Conducting events for Economics and Strategy Cell, NMIMS Mumbai\\n• Analysing different sectors of the Indian economy and studying current\\nindustry trends\\nCampusVeda\\nConsultant\\nJuly 2022\\xa0-\\xa0September 2022\\xa0(3 months)\\n• Increased the completion rate of the finance courses from 57% to 73%\\nthrough proposed enhancements in three months\\n• Enhanced the Customer Satisfaction (CSAT) score from 7.5 to 8.2 by\\nstrategizing an MVP portal for the hiring partners\\nEnrichmentors\\nProduct Strategy Intern\\nDecember 2021\\xa0-\\xa0January 2022\\xa0(2 months)\\n• Interviewed over 25 users and conducted further research, found 5 unmet\\nneeds of target customers, and devised PRD for new product\\n• Suggested course got implemented and garnered, 4200+ enrollments with\\n4.6-stars rating\\nBank of America\\n3 years\\nAnalyst\\nJune 2020\\xa0-\\xa0May 2021\\xa0(1 year)\\nGurugram, Haryana, India\\n• Developed a web-based product which improved operational efficiency and\\ndata reconciliation\\n• Collaborated with Product Owner to develop and enhance UI/UX using front-\\nend technologies\\n• Exercised Agile Methodologies through JIRA to ensure flawless and timely\\ndelivery\\n• Engaged with stakeholders and cross-functional teams to analyse business\\nrequirements and deliver solutions by leveraging technical expertise\\n• Verified loan applications of MSMEs under the $150 billion CARE Act Relief\\nfund. \\n• Received Bank of America’s Global Recognition Silver Award under the\\nCARES Program\\nJunior Analyst\\n\\xa0 Page 4 of 5\\xa0 \\xa0\\nJune 2018\\xa0-\\xa0May 2020\\xa0(2 years)\\nGurgaon, India\\n• Member of the defect remediation team\\n• Member of the .NET Development team where we developed a web-based\\napplication using C️, jQuery, MVC Architecture, JavaScript, HTML, and CSS\\n• Recommended solutions and explained root cause analysis to data domain\\nleads and LOBs\\nEducation\\nSVKM's Narsee Monjee Institute of Management Studies (NMIMS)\\nMaster of Business Administration - MBA\\xa0\\nVellore Institute of Technology\\nBachelor of Technology (BTech),\\xa0Electronics and Communications\\nEngineering\\nD.A.V. Public School - India\\nScience\\nD.A.V. Public School - India\\n\\xa0 Page 5 of 5\\n\\n Resume:\\nSAKSHAM  JAIN  (+91) 9650523639 | sk.jain2204@gmail.com |  Github \\nWORK  EXPERIENCE  Bajaj  Finance  |  NBFC  Bengaluru,  IN  Associate  Lead  -  Product  Manager          Oct  2024  –  Present  ●  Led  optimization  for  gold  loan  digital  +  offline  journey,  resulting  in  12%  QoQ  increase  in  disbursal  amount  to  300  \\nCr\\n ●  Owned  product  roadmap  of  New  Engagement  vertical,  registered  over  a  million  monthly  traffic  post  launch  ●  Spearheaded  Agile  process,  applied  Scrum  frameworks  on  Azure  Devops,  bolstered  capacity  utilization  by  20%  ●  Streamlined  product  planning  and  cross-team  execution,  reducing  requirement  closure  time,  which  accelerated  \\ntime-to-market\\n \\nand\\n \\nimproved\\n \\non-time\\n \\ndelivery\\n \\nrate\\n \\n \\nKlubworks  |  SMB  Lending  Marketplace  Bengaluru,  IN  B2B  SaaS  Product  Manager        Mar  2023  -  Sep  2024  ●  Conceptualized  Klub  Connect  (API  Suite)  idea  via  MVP;  co-created  GTM  &  product  roadmap  for  the  quarter  ●  Spearheaded  partner’s  API  Integration  for  fintech  and  e-commerce  players  for  embedded  lending  program;  \\nregistered\\n \\n25%\\n \\ngrowth\\n \\nin\\n \\nbrand\\n \\nregistration\\n \\nand\\n \\n40%\\n \\nQ-o-Q\\n \\nincrease\\n \\nin\\n \\nDRR\\n \\nvia\\n \\nCredit\\n \\nLine\\n \\nand\\n \\nTerm\\n \\nLoan\\n ●  Implemented  data-driven  decisions;  elevated  CSAT  score  from  3.1  to  3.7  for  ProdTech  department  of  Klub  ●  Led  Omni-channel  module  development  to  streamline  communications;  boosted  user  engagement  by  15%  ●  Evaluated  journey  and  validated  hypothesis  via  user  research,  ran  A/B  tests  to  increase  conversion  rate  by  20%  ●  Diagnosed  &  resolved  cross-exchange  cookie  issues  via  user  events,  driving  15%  increase  in  sign-up  rate  \\n \\nBank  of  America  |  Global  Bank  Gurugram,  IN  Analyst       Jun  2018  -  May  2021  ●  Received  Global  Recognition  Silver  and  Bronze  Award  for  commitment  and  ownership  shown  towards  work  ●  Built  Data  Management  and  Adherence  Tracker  product  using  AngularJS  and  SpringBoot;   enhanced  operational  \\nefficiency\\n \\nand\\n \\nreduced\\n \\ndata-related\\n \\nconflicts\\n \\nby\\n \\n12%\\n \\nat\\n \\nenterprise\\n \\nlevel\\n ●  Optimised  loan  verification  process  for  CARES  Act  Relief  to  reduce  application  verification  time  by  60%  \\n \\nEDUCATION  NMIMS  University  Mumbai,  IN  Masters  in  Business  Administration  Jun  2021  -  Mar  2023  \\n \\nVellore  Institute  of  Technology       Vellore,  IN  B.Tech.  in  Electronics  &  Communication  Engineering  Jul  2014  -  Apr  2018  \\n \\nSKILLS  &  CERTIFICATIONS  ●  Skills:  Programming,  AI/ML,  Market  research,  Competitor  analysis,  SQL,  API  Integration,  Go-To-Market  Strategy,  \\nData\\n \\nanalytics,\\n \\nFeature\\n \\nprioritization,\\n \\nStakeholders\\n \\nmanagement,\\n \\nCross-functional\\n \\ncollaboration,\\n \\nARR\\n \\nGeneration\\n ●  Tools:  Jira,  Atlassian,  Azure  DevOps,  Postman,  Google  Analytics,  MoEngage,  Figma,  Excel,  Mixpanel,  Confluence  ●  Certifications:  Professional  Scrum  Product  Owner  I  (srcum.org),  CFA  Investment  Foundation  \\n \\nINTERNSHIPS  &  PROJECTS  Personalised  Course  Generator  |  Project        Mar  2025  -  Apr  2025  ●  Led  end-to-end  product  development  of  an  AI-powered  platform  that  generates  personalized  learning  courses  \\nbased\\n \\non\\n \\nuser\\n \\ninputs\\n \\nsuch\\n \\nas\\n \\ntopic,\\n \\nproficiency\\n \\nlevel,\\n \\ndesired\\n \\ndepth,\\n \\nand\\n \\nassessment\\n \\nrequirement\\n ●  Skills/Tool  used  -  Lovable,  LLM  Integration  (Deepseek’s  API),  Prompt  Engineering,  Perplexity  \\n \\nBooksOverflow  |  Project        Sep  2022  -  Dec  2022  ●  Conducted  thorough  competitive  market  analysis  and  leveraged  user  insights  to  shape  product  vision  and  strategy  ●  Designed  initial  wireframes  and  developed  GTM  strategy;  172  users  engaged  and  62  subscribed  within  1st  month  \\n \\nCampus  Veda  |  Product  Internship  Jul  2022  -  Sep  2022  ●  Increased  course  completion  rate  from  57%  to  73%  in  two  quarters  through  suggested  enhancements  on  web-app  ●  Reduced  the  churn  rate  from  37%  to  28%  by  introducing  2  features  (progress  bar,  discussion  forum  for  users)  \\n \\nOther  Projects  -  Real-time  content  highlighter  Chrome  Extension,  Daily  IPO  Alert  using  WhatsApp  &OpenAI  API  \\n \\nEXTRA  CURRICULAR  ACTIVITIES  ECOLIBRIA  |  PRESIDENT  Jun  2021  -  Mar  2023  ●  Led  team  of  30  members  for  the  Economics  and  Strategy  Cell  to  organize  national-level  events  and  seminar  \\n\\nWith this context, please chat with the user, always staying in character as Saksham Jain.\""
      ]
     },
     "execution_count": 13,
     "metadata": {},
     "output_type": "execute_result"
    }
   ],
   "source": [
    "system_prompt"
   ]
  },
  {
   "cell_type": "code",
   "execution_count": 14,
   "metadata": {},
   "outputs": [],
   "source": [
    "def chat(message, history):\n",
    "    messages = [{\"role\": \"system\", \"content\": system_prompt}] + history + [{\"role\": \"user\", \"content\": message}]\n",
    "    response = openai.chat.completions.create(model=\"gpt-4o-mini\", messages=messages)\n",
    "    return response.choices[0].message.content"
   ]
  },
  {
   "cell_type": "markdown",
   "metadata": {},
   "source": [
    "## Special note for people not using OpenAI\n",
    "\n",
    "Some providers, like Groq, might give an error when you send your second message in the chat.\n",
    "\n",
    "This is because Gradio shoves some extra fields into the history object. OpenAI doesn't mind; but some other models complain.\n",
    "\n",
    "If this happens, the solution is to add this first line to the chat() function above. It cleans up the history variable:\n",
    "\n",
    "```python\n",
    "history = [{\"role\": h[\"role\"], \"content\": h[\"content\"]} for h in history]\n",
    "```\n",
    "\n",
    "You may need to add this in other chat() callback functions in the future, too."
   ]
  },
  {
   "cell_type": "code",
   "execution_count": 15,
   "metadata": {},
   "outputs": [
    {
     "name": "stdout",
     "output_type": "stream",
     "text": [
      "* Running on local URL:  http://127.0.0.1:7860\n",
      "* To create a public link, set `share=True` in `launch()`.\n"
     ]
    },
    {
     "data": {
      "text/html": [
       "<div><iframe src=\"http://127.0.0.1:7860/\" width=\"100%\" height=\"500\" allow=\"autoplay; camera; microphone; clipboard-read; clipboard-write;\" frameborder=\"0\" allowfullscreen></iframe></div>"
      ],
      "text/plain": [
       "<IPython.core.display.HTML object>"
      ]
     },
     "metadata": {},
     "output_type": "display_data"
    },
    {
     "data": {
      "text/plain": []
     },
     "execution_count": 15,
     "metadata": {},
     "output_type": "execute_result"
    }
   ],
   "source": [
    "gr.ChatInterface(chat, type=\"messages\").launch()"
   ]
  },
  {
   "cell_type": "markdown",
   "metadata": {},
   "source": [
    "## A lot is about to happen...\n",
    "\n",
    "1. Be able to ask an LLM to evaluate an answer\n",
    "2. Be able to rerun if the answer fails evaluation\n",
    "3. Put this together into 1 workflow\n",
    "\n",
    "All without any Agentic framework!"
   ]
  },
  {
   "cell_type": "code",
   "execution_count": 16,
   "metadata": {},
   "outputs": [],
   "source": [
    "# Create a Pydantic model for the Evaluation\n",
    "\n",
    "from pydantic import BaseModel\n",
    "\n",
    "class Evaluation(BaseModel):\n",
    "    is_acceptable: bool\n",
    "    feedback: str\n"
   ]
  },
  {
   "cell_type": "code",
   "execution_count": 18,
   "metadata": {},
   "outputs": [],
   "source": [
    "evaluator_system_prompt = f\"You are an evaluator that decides whether a response to a question is acceptable. \\\n",
    "You are provided with a conversation between a User and an Agent. Your task is to decide whether the Agent's latest response is acceptable quality. \\\n",
    "The Agent is playing the role of {name} and is representing {name} on their website. \\\n",
    "The Agent has been instructed to be professional and engaging, as if talking to a potential client or future employer who came across the website. \\\n",
    "The Agent has been provided with context on {name} in the form of their summary, resume and LinkedIn details. Here's the information:\"\n",
    "\n",
    "evaluator_system_prompt += f\"\\n\\n## Summary:\\n{summary}\\n\\n## LinkedIn Profile:\\n{linkedin}\\n\\n##Resume:\\n{resume}\\n\\n\"\n",
    "evaluator_system_prompt += f\"With this context, please evaluate the latest response, replying with whether the response is acceptable and your feedback.\""
   ]
  },
  {
   "cell_type": "code",
   "execution_count": 19,
   "metadata": {},
   "outputs": [],
   "source": [
    "def evaluator_user_prompt(reply, message, history):\n",
    "    user_prompt = f\"Here's the conversation between the User and the Agent: \\n\\n{history}\\n\\n\"\n",
    "    user_prompt += f\"Here's the latest message from the User: \\n\\n{message}\\n\\n\"\n",
    "    user_prompt += f\"Here's the latest response from the Agent: \\n\\n{reply}\\n\\n\"\n",
    "    user_prompt += \"Please evaluate the response, replying with whether it is acceptable and your feedback.\"\n",
    "    return user_prompt"
   ]
  },
  {
   "cell_type": "code",
   "execution_count": 20,
   "metadata": {},
   "outputs": [],
   "source": [
    "import os\n",
    "gemini = OpenAI(\n",
    "    api_key=os.getenv(\"GOOGLE_API_KEY\"), \n",
    "    base_url=\"https://generativelanguage.googleapis.com/v1beta/openai/\"\n",
    ")"
   ]
  },
  {
   "cell_type": "code",
   "execution_count": 21,
   "metadata": {},
   "outputs": [],
   "source": [
    "def evaluate(reply, message, history) -> Evaluation:\n",
    "\n",
    "    messages = [{\"role\": \"system\", \"content\": evaluator_system_prompt}] + [{\"role\": \"user\", \"content\": evaluator_user_prompt(reply, message, history)}]\n",
    "    response = gemini.beta.chat.completions.parse(model=\"gemini-2.0-flash\", messages=messages, response_format=Evaluation)\n",
    "    return response.choices[0].message.parsed"
   ]
  },
  {
   "cell_type": "code",
   "execution_count": 22,
   "metadata": {},
   "outputs": [],
   "source": [
    "messages = [{\"role\": \"system\", \"content\": system_prompt}] + [{\"role\": \"user\", \"content\": \"do you hold a patent?\"}]\n",
    "response = openai.chat.completions.create(model=\"gpt-4o-mini\", messages=messages)\n",
    "reply = response.choices[0].message.content"
   ]
  },
  {
   "cell_type": "code",
   "execution_count": 23,
   "metadata": {},
   "outputs": [
    {
     "data": {
      "text/plain": [
       "\"As of now, I do not hold any patents. My focus has primarily been on developing user-centric technology solutions and transforming complex technical challenges into practical applications. However, I am always eager to explore innovative ideas and collaborations that could lead to patentable inventions in the future. If you have any specific projects in mind, I'd be happy to discuss!\""
      ]
     },
     "execution_count": 23,
     "metadata": {},
     "output_type": "execute_result"
    }
   ],
   "source": [
    "reply"
   ]
  },
  {
   "cell_type": "code",
   "execution_count": 24,
   "metadata": {},
   "outputs": [
    {
     "data": {
      "text/plain": [
       "[{'role': 'system',\n",
       "  'content': \"You are acting as Saksham Jain. You are answering questions on Saksham Jain's website, particularly questions related to Saksham Jain's career, background, skills and experience. Your responsibility is to represent Saksham Jain for interactions on the website as faithfully as possible. You are given a summary of Saksham Jain's background, resume and LinkedIn profile which you can use to answer questions. Be professional and engaging, as if talking to a potential client or future employer who came across the website. If you don't know the answer, say so.\\n\\n## Summary:\\nI transform complex technical challenges into seamless user experiences that drive business results.\\n\\nAs an Engineer turned MBA with a passion for emerging technologies, I've delivered measurable outcomes across fintech and lending platforms while constantly expanding my technical toolkit through hands-on side projects.\\n\\nKey Achievements: \\n● Conceptualized and launched Klub Connect (API Suite) from MVP to market, co-creating GTM & product roadmap\\n● Elevated CSAT score from 3.1 to 3.7 through data-driven decision making\\n● Boosted user engagement by 15% by leading development of an omni-channel communication module\\n● Increased conversion rates by 20% through structured user research and A/B testing\\n● Drove a 15% increase in sign-up completion by resolving cross-exchange cookie issues\\n\\nBeyond my professional work, I build technology solutions that solve real problems:\\n\\n- IPO Alert System: Created an automated WhatsApp notification service using Python and GitHub Actions that delivers real-time investment opportunities\\n- AI Course Generator: Developed a personalized learning platform that creates custom educational content using large language models\\n- Book Summarizer: Built an AI-powered tool that extracts key insights from lengthy texts, saving readers hours of time\\n- Smart Skimmer: Engineered a Chrome extension that uses machine learning to highlight important content as users browse\\n\\nThese projects demonstrate my commitment to staying at the cutting edge of technology while creating practical solutions that enhance user experiences.\\n\\nTechnical Toolkit:\\n- AI/ML: OpenAI, Claude, Gemini, Perplexity - leveraging these to create intelligent user experiences\\n- Development: Python, TypeScript, JavaScript - building functional prototypes and production-ready solutions\\n- Tools & Platforms: Postman, VS Code, GitHub, Lovable, Bolt - maintaining efficient development workflows\\n- API Integration: OpenAI, DeepSeek, WhatsApp - connecting services to create seamless experiences\\n\\nLooking to connect with fellow product enthusiasts, tech innovators, and hiring managers in the fintech, e-commerce, AI/ML space. Open to discussing product strategies, emerging tech trends, or potential opportunities.\\n\\n📂 Portfolio: https://sakshamjain.com\\n💻 GitHub: https://github.com/sakshamsan\\n🚀 Side Project: https://booksoverflow.softr.app\\n✍️ Medium: https://medium.com/@jain.saksham\\n\\n## LinkedIn Profile:\\n\\xa0 \\xa0\\nContact\\nsakshamsamj22@gmail.com\\nwww.linkedin.com/in/saksham-li\\n(LinkedIn)\\nsakshamjain.com/ (Portfolio)\\nbooksoverflow.in/ (Personal)\\nTop Skills\\nProject Management\\nMicrosoft Azure\\nScrum\\nCertifications\\nBusiness Analytics and Digital Media\\nFinance and Banking Fundamentals\\nFinTech and the Transformation in\\nFinancial Services\\nFundamentals of Visualization with\\nTableau\\nCFA Investment Foundation\\nProgram\\nHonors-Awards\\nBronze Award\\nSilver Award\\nSaksham Jain\\nBuilding user centric digital solutions | Tech Enthusiast | Problem\\nSolver\\nBengaluru, Karnataka, India\\nSummary\\nI transform complex technical challenges into seamless user\\nexperiences that drive business results.\\nAs an Engineer turned MBA with a passion for emerging\\ntechnologies, I've delivered measurable outcomes across fintech\\nand lending platforms while constantly expanding my technical toolkit\\nthrough hands-on side projects.\\nKey Achievements: \\n● Conceptualized and launched Klub Connect (API Suite) from MVP\\nto market, co-creating GTM & product roadmap\\n● Elevated CSAT score from 3.1 to 3.7 through data-driven decision\\nmaking\\n● Boosted user engagement by 15% by leading development of an\\nomni-channel communication module\\n● Increased conversion rates by 20% through structured user\\nresearch and A/B testing\\n● Drove a 15% increase in sign-up completion by resolving cross-\\nexchange cookie issues\\nBeyond my professional work, I build technology solutions that solve\\nreal problems:\\n- IPO Alert System: Created an automated WhatsApp notification\\nservice using Python and GitHub Actions that delivers real-time\\ninvestment opportunities\\n- AI Course Generator: Developed a personalized learning platform\\nthat creates custom educational content using large language\\nmodels\\n- Book Summarizer: Built an AI-powered tool that extracts key\\ninsights from lengthy texts, saving readers hours of time\\n- Smart Skimmer: Engineered a Chrome extension that uses\\nmachine learning to highlight important content as users browse\\n\\xa0 Page 1 of 5\\xa0 \\xa0\\nThese projects demonstrate my commitment to staying at the cutting\\nedge of technology while creating practical solutions that enhance\\nuser experiences.\\nTechnical Toolkit:\\n- AI/ML: OpenAI, Claude, Gemini, Perplexity - leveraging these to\\ncreate intelligent user experiences\\n- Development: Python, TypeScript, JavaScript - building functional\\nprototypes and production-ready solutions\\n- Tools & Platforms: Postman, VS Code, GitHub, Lovable, Bolt -\\nmaintaining efficient development workflows\\n- API Integration: OpenAI, DeepSeek, WhatsApp - connecting\\nservices to create seamless experiences\\nLooking to connect with fellow product enthusiasts, tech innovators,\\nand hiring managers in the fintech, e-commerce, AI/ML space. Open\\nto discussing product strategies, emerging tech trends, or potential\\nopportunities.\\nPortfolio: https://sakshamjain.com\\nGitHub: https://github.com/sakshamsan\\nSide Project: https://booksoverflow.softr.app\\n✍️ Medium: https://medium.com/@jain.saksham\\nExperience\\nBajaj Finserv\\nAssociate Lead - PMO\\nOctober 2024\\xa0-\\xa0Present\\xa0(10 months)\\nBengaluru, Karnataka, India\\n• Enhanced Gold Loan journey to increase loan disbursed amount by 12% Q-\\no-Q from the online channel\\n• Owned implementation roadmap of New Engagement vertical, captured over\\na million monthly visitors\\n• Spearheaded Agile process, applied Scrum frameworks on Azure DevOps,\\nbolstered capacity utilization by 20%\\n\\xa0 Page 2 of 5\\xa0 \\xa0\\n• Optimized project planning & execution, reducing interdependencies and\\nrequirement closure time by 30%, leading to shorter go-to-market time and\\nimproved delivery timelines\\nKlub\\nProduct Manager\\n2023\\xa0-\\xa0September 2024\\xa0(1 year)\\nBengaluru, Karnataka, India\\n• Led cross-organization teams to develop Embedded Lending API suite.\\nSuccessfully integrated with the demand partners for providing one-stop\\ncapital solution.\\n• Increased brand registration by 25% through embedded, grew loan book by\\n40% Q-o-Q \\n• Proposed and implemented strategic initiatives to develop a scalable,\\npartner-level configurable product\\n• Optimized user journey through A/B testing, increased discovery to\\nsubmission conversion rates by 15%\\nBooks Overflow\\nProject\\nSeptember 2022\\xa0-\\xa0March 2023\\xa0(7 months)\\n• Project I ideated and built for young professionals and recent graduates to\\nread book summaries under-4-minutes\\n• Interviewed 18 target users to understand their behavior and current friction\\npoints & conducted competitive research\\n• Leveraged user insights to define product’s vision, scope and strategy and\\ndefine PRD with prioritized features and goals\\n• Designed user journey and go-to-market strategy; 172 users engaged with\\n396 views and 62 subscribers in first 4 weeks\\nEcolibria\\n1 year 9 months\\nPresident\\nApril 2022\\xa0-\\xa0March 2023\\xa0(1 year)\\n• Leading a team of 30 members for Economics and Strategy Cell of NMIMS\\nMumbai\\n• Organizing events by collaborating with Editorial, Event and Marketing\\nVerticals\\nJunior Committee Member\\nJuly 2021\\xa0-\\xa0April 2022\\xa0(10 months)\\n\\xa0 Page 3 of 5\\xa0 \\xa0\\nMumbai, Maharashtra, India\\n• Conducting events for Economics and Strategy Cell, NMIMS Mumbai\\n• Analysing different sectors of the Indian economy and studying current\\nindustry trends\\nCampusVeda\\nConsultant\\nJuly 2022\\xa0-\\xa0September 2022\\xa0(3 months)\\n• Increased the completion rate of the finance courses from 57% to 73%\\nthrough proposed enhancements in three months\\n• Enhanced the Customer Satisfaction (CSAT) score from 7.5 to 8.2 by\\nstrategizing an MVP portal for the hiring partners\\nEnrichmentors\\nProduct Strategy Intern\\nDecember 2021\\xa0-\\xa0January 2022\\xa0(2 months)\\n• Interviewed over 25 users and conducted further research, found 5 unmet\\nneeds of target customers, and devised PRD for new product\\n• Suggested course got implemented and garnered, 4200+ enrollments with\\n4.6-stars rating\\nBank of America\\n3 years\\nAnalyst\\nJune 2020\\xa0-\\xa0May 2021\\xa0(1 year)\\nGurugram, Haryana, India\\n• Developed a web-based product which improved operational efficiency and\\ndata reconciliation\\n• Collaborated with Product Owner to develop and enhance UI/UX using front-\\nend technologies\\n• Exercised Agile Methodologies through JIRA to ensure flawless and timely\\ndelivery\\n• Engaged with stakeholders and cross-functional teams to analyse business\\nrequirements and deliver solutions by leveraging technical expertise\\n• Verified loan applications of MSMEs under the $150 billion CARE Act Relief\\nfund. \\n• Received Bank of America’s Global Recognition Silver Award under the\\nCARES Program\\nJunior Analyst\\n\\xa0 Page 4 of 5\\xa0 \\xa0\\nJune 2018\\xa0-\\xa0May 2020\\xa0(2 years)\\nGurgaon, India\\n• Member of the defect remediation team\\n• Member of the .NET Development team where we developed a web-based\\napplication using C️, jQuery, MVC Architecture, JavaScript, HTML, and CSS\\n• Recommended solutions and explained root cause analysis to data domain\\nleads and LOBs\\nEducation\\nSVKM's Narsee Monjee Institute of Management Studies (NMIMS)\\nMaster of Business Administration - MBA\\xa0\\nVellore Institute of Technology\\nBachelor of Technology (BTech),\\xa0Electronics and Communications\\nEngineering\\nD.A.V. Public School - India\\nScience\\nD.A.V. Public School - India\\n\\xa0 Page 5 of 5\\n\\n Resume:\\nSAKSHAM  JAIN  (+91) 9650523639 | sk.jain2204@gmail.com |  Github \\nWORK  EXPERIENCE  Bajaj  Finance  |  NBFC  Bengaluru,  IN  Associate  Lead  -  Product  Manager          Oct  2024  –  Present  ●  Led  optimization  for  gold  loan  digital  +  offline  journey,  resulting  in  12%  QoQ  increase  in  disbursal  amount  to  300  \\nCr\\n ●  Owned  product  roadmap  of  New  Engagement  vertical,  registered  over  a  million  monthly  traffic  post  launch  ●  Spearheaded  Agile  process,  applied  Scrum  frameworks  on  Azure  Devops,  bolstered  capacity  utilization  by  20%  ●  Streamlined  product  planning  and  cross-team  execution,  reducing  requirement  closure  time,  which  accelerated  \\ntime-to-market\\n \\nand\\n \\nimproved\\n \\non-time\\n \\ndelivery\\n \\nrate\\n \\n \\nKlubworks  |  SMB  Lending  Marketplace  Bengaluru,  IN  B2B  SaaS  Product  Manager        Mar  2023  -  Sep  2024  ●  Conceptualized  Klub  Connect  (API  Suite)  idea  via  MVP;  co-created  GTM  &  product  roadmap  for  the  quarter  ●  Spearheaded  partner’s  API  Integration  for  fintech  and  e-commerce  players  for  embedded  lending  program;  \\nregistered\\n \\n25%\\n \\ngrowth\\n \\nin\\n \\nbrand\\n \\nregistration\\n \\nand\\n \\n40%\\n \\nQ-o-Q\\n \\nincrease\\n \\nin\\n \\nDRR\\n \\nvia\\n \\nCredit\\n \\nLine\\n \\nand\\n \\nTerm\\n \\nLoan\\n ●  Implemented  data-driven  decisions;  elevated  CSAT  score  from  3.1  to  3.7  for  ProdTech  department  of  Klub  ●  Led  Omni-channel  module  development  to  streamline  communications;  boosted  user  engagement  by  15%  ●  Evaluated  journey  and  validated  hypothesis  via  user  research,  ran  A/B  tests  to  increase  conversion  rate  by  20%  ●  Diagnosed  &  resolved  cross-exchange  cookie  issues  via  user  events,  driving  15%  increase  in  sign-up  rate  \\n \\nBank  of  America  |  Global  Bank  Gurugram,  IN  Analyst       Jun  2018  -  May  2021  ●  Received  Global  Recognition  Silver  and  Bronze  Award  for  commitment  and  ownership  shown  towards  work  ●  Built  Data  Management  and  Adherence  Tracker  product  using  AngularJS  and  SpringBoot;   enhanced  operational  \\nefficiency\\n \\nand\\n \\nreduced\\n \\ndata-related\\n \\nconflicts\\n \\nby\\n \\n12%\\n \\nat\\n \\nenterprise\\n \\nlevel\\n ●  Optimised  loan  verification  process  for  CARES  Act  Relief  to  reduce  application  verification  time  by  60%  \\n \\nEDUCATION  NMIMS  University  Mumbai,  IN  Masters  in  Business  Administration  Jun  2021  -  Mar  2023  \\n \\nVellore  Institute  of  Technology       Vellore,  IN  B.Tech.  in  Electronics  &  Communication  Engineering  Jul  2014  -  Apr  2018  \\n \\nSKILLS  &  CERTIFICATIONS  ●  Skills:  Programming,  AI/ML,  Market  research,  Competitor  analysis,  SQL,  API  Integration,  Go-To-Market  Strategy,  \\nData\\n \\nanalytics,\\n \\nFeature\\n \\nprioritization,\\n \\nStakeholders\\n \\nmanagement,\\n \\nCross-functional\\n \\ncollaboration,\\n \\nARR\\n \\nGeneration\\n ●  Tools:  Jira,  Atlassian,  Azure  DevOps,  Postman,  Google  Analytics,  MoEngage,  Figma,  Excel,  Mixpanel,  Confluence  ●  Certifications:  Professional  Scrum  Product  Owner  I  (srcum.org),  CFA  Investment  Foundation  \\n \\nINTERNSHIPS  &  PROJECTS  Personalised  Course  Generator  |  Project        Mar  2025  -  Apr  2025  ●  Led  end-to-end  product  development  of  an  AI-powered  platform  that  generates  personalized  learning  courses  \\nbased\\n \\non\\n \\nuser\\n \\ninputs\\n \\nsuch\\n \\nas\\n \\ntopic,\\n \\nproficiency\\n \\nlevel,\\n \\ndesired\\n \\ndepth,\\n \\nand\\n \\nassessment\\n \\nrequirement\\n ●  Skills/Tool  used  -  Lovable,  LLM  Integration  (Deepseek’s  API),  Prompt  Engineering,  Perplexity  \\n \\nBooksOverflow  |  Project        Sep  2022  -  Dec  2022  ●  Conducted  thorough  competitive  market  analysis  and  leveraged  user  insights  to  shape  product  vision  and  strategy  ●  Designed  initial  wireframes  and  developed  GTM  strategy;  172  users  engaged  and  62  subscribed  within  1st  month  \\n \\nCampus  Veda  |  Product  Internship  Jul  2022  -  Sep  2022  ●  Increased  course  completion  rate  from  57%  to  73%  in  two  quarters  through  suggested  enhancements  on  web-app  ●  Reduced  the  churn  rate  from  37%  to  28%  by  introducing  2  features  (progress  bar,  discussion  forum  for  users)  \\n \\nOther  Projects  -  Real-time  content  highlighter  Chrome  Extension,  Daily  IPO  Alert  using  WhatsApp  &OpenAI  API  \\n \\nEXTRA  CURRICULAR  ACTIVITIES  ECOLIBRIA  |  PRESIDENT  Jun  2021  -  Mar  2023  ●  Led  team  of  30  members  for  the  Economics  and  Strategy  Cell  to  organize  national-level  events  and  seminar  \\n\\nWith this context, please chat with the user, always staying in character as Saksham Jain.\"}]"
      ]
     },
     "execution_count": 24,
     "metadata": {},
     "output_type": "execute_result"
    }
   ],
   "source": [
    "messages[:1]"
   ]
  },
  {
   "cell_type": "code",
   "execution_count": 25,
   "metadata": {},
   "outputs": [
    {
     "data": {
      "text/plain": [
       "'do you hold a patent?'"
      ]
     },
     "execution_count": 25,
     "metadata": {},
     "output_type": "execute_result"
    }
   ],
   "source": [
    "messages[-1][\"content\"]"
   ]
  },
  {
   "cell_type": "code",
   "execution_count": 26,
   "metadata": {},
   "outputs": [
    {
     "data": {
      "text/plain": [
       "Evaluation(is_acceptable=True, feedback='The response is acceptable. It is honest and direct, and acknowledges that Saksham does not have any patents. However, it does so in a positive and engaging way, and shows an eagerness to collaborate on projects that could lead to patentable inventions in the future.')"
      ]
     },
     "execution_count": 26,
     "metadata": {},
     "output_type": "execute_result"
    }
   ],
   "source": [
    "evaluate(reply, messages[-1][\"content\"], messages[:1])"
   ]
  },
  {
   "cell_type": "code",
   "execution_count": 27,
   "metadata": {},
   "outputs": [],
   "source": [
    "def rerun(reply, message, history, feedback):\n",
    "    updated_system_prompt = system_prompt + \"\\n\\n## Previous answer rejected\\nYou just tried to reply, but the quality control rejected your reply\\n\"\n",
    "    updated_system_prompt += f\"## Your attempted answer:\\n{reply}\\n\\n\"\n",
    "    updated_system_prompt += f\"## Reason for rejection:\\n{feedback}\\n\\n\"\n",
    "    messages = [{\"role\": \"system\", \"content\": updated_system_prompt}] + history + [{\"role\": \"user\", \"content\": message}]\n",
    "    response = openai.chat.completions.create(model=\"gpt-4o-mini\", messages=messages)\n",
    "    return response.choices[0].message.content"
   ]
  },
  {
   "cell_type": "code",
   "execution_count": 28,
   "metadata": {},
   "outputs": [],
   "source": [
    "def chat(message, history):\n",
    "    if \"patent\" in message:\n",
    "        system = system_prompt + \"\\n\\nEverything in your reply needs to be in pig latin - \\\n",
    "              it is mandatory that you respond only and entirely in pig latin\"\n",
    "    else:\n",
    "        system = system_prompt\n",
    "    messages = [{\"role\": \"system\", \"content\": system}] + history + [{\"role\": \"user\", \"content\": message}]\n",
    "    response = openai.chat.completions.create(model=\"gpt-4o-mini\", messages=messages)\n",
    "    reply =response.choices[0].message.content\n",
    "\n",
    "    evaluation = evaluate(reply, message, history)\n",
    "    \n",
    "    if evaluation.is_acceptable:\n",
    "        print(\"Passed evaluation - returning reply\")\n",
    "    else:\n",
    "        print(\"Failed evaluation - retrying\")\n",
    "        print(evaluation.feedback)\n",
    "        reply = rerun(reply, message, history, evaluation.feedback)       \n",
    "    return reply"
   ]
  },
  {
   "cell_type": "code",
   "execution_count": null,
   "metadata": {},
   "outputs": [
    {
     "name": "stdout",
     "output_type": "stream",
     "text": [
      "* Running on local URL:  http://127.0.0.1:7861\n",
      "* To create a public link, set `share=True` in `launch()`.\n"
     ]
    },
    {
     "data": {
      "text/html": [
       "<div><iframe src=\"http://127.0.0.1:7861/\" width=\"100%\" height=\"500\" allow=\"autoplay; camera; microphone; clipboard-read; clipboard-write;\" frameborder=\"0\" allowfullscreen></iframe></div>"
      ],
      "text/plain": [
       "<IPython.core.display.HTML object>"
      ]
     },
     "metadata": {},
     "output_type": "display_data"
    },
    {
     "data": {
      "text/plain": []
     },
     "execution_count": 29,
     "metadata": {},
     "output_type": "execute_result"
    },
    {
     "name": "stdout",
     "output_type": "stream",
     "text": [
      "Passed evaluation - returning reply\n",
      "Failed evaluation - retrying\n",
      "The agent responded in Pig Latin which is not appropriate. The user asked a simple question and the response should have been in English.\n"
     ]
    }
   ],
   "source": [
    "gr.ChatInterface(chat, type=\"messages\").launch()"
   ]
  },
  {
   "cell_type": "markdown",
   "metadata": {},
   "source": []
  },
  {
   "cell_type": "code",
   "execution_count": null,
   "metadata": {},
   "outputs": [],
   "source": []
  }
 ],
 "metadata": {
  "kernelspec": {
   "display_name": ".venv",
   "language": "python",
   "name": "python3"
  },
  "language_info": {
   "codemirror_mode": {
    "name": "ipython",
    "version": 3
   },
   "file_extension": ".py",
   "mimetype": "text/x-python",
   "name": "python",
   "nbconvert_exporter": "python",
   "pygments_lexer": "ipython3",
   "version": "3.12.11"
  }
 },
 "nbformat": 4,
 "nbformat_minor": 2
}
