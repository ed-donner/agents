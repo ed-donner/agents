{
 "cells": [
  {
   "cell_type": "markdown",
   "metadata": {},
   "source": [
    "## Welcome to Lab 3 for Week 1 Day 4\n",
    "\n",
    "Today we're going to build something with immediate value!\n",
    "\n",
    "In the folder `me` I've put a single file `linkedin.pdf` - it's a PDF download of my LinkedIn profile.\n",
    "\n",
    "Please replace it with yours!\n",
    "\n",
    "I've also made a file called `summary.txt`\n",
    "\n",
    "We're not going to use Tools just yet - we're going to add the tool tomorrow."
   ]
  },
  {
   "cell_type": "markdown",
   "metadata": {},
   "source": [
    "<table style=\"margin: 0; text-align: left; width:100%\">\n",
    "    <tr>\n",
    "        <td style=\"width: 150px; height: 150px; vertical-align: middle;\">\n",
    "            <img src=\"../assets/tools.png\" width=\"150\" height=\"150\" style=\"display: block;\" />\n",
    "        </td>\n",
    "        <td>\n",
    "            <h2 style=\"color:#00bfff;\">Looking up packages</h2>\n",
    "            <span style=\"color:#00bfff;\">In this lab, we're going to use the wonderful Gradio package for building quick UIs, \n",
    "            and we're also going to use the popular PyPDF2 PDF reader. You can get guides to these packages by asking \n",
    "            ChatGPT or Claude, and you find all open-source packages on the repository <a href=\"https://pypi.org\">https://pypi.org</a>.\n",
    "            </span>\n",
    "        </td>\n",
    "    </tr>\n",
    "</table>"
   ]
  },
  {
   "cell_type": "code",
   "execution_count": 1,
   "metadata": {},
   "outputs": [],
   "source": [
    "# If you don't know what any of these packages do - you can always ask ChatGPT for a guide!\n",
    "\n",
    "from dotenv import load_dotenv\n",
    "from openai import OpenAI\n",
    "from pypdf import PdfReader\n",
    "import gradio as gr"
   ]
  },
  {
   "cell_type": "code",
   "execution_count": 2,
   "metadata": {},
   "outputs": [],
   "source": [
    "load_dotenv(override=True)\n",
    "openai = OpenAI()"
   ]
  },
  {
   "cell_type": "code",
   "execution_count": 19,
   "metadata": {},
   "outputs": [],
   "source": [
    "reader = PdfReader(\"me/resume.pdf\")\n",
    "resume = \"\"\n",
    "for page in reader.pages:\n",
    "    text = page.extract_text()\n",
    "    if text:\n",
    "        resume += text"
   ]
  },
  {
   "cell_type": "code",
   "execution_count": 20,
   "metadata": {},
   "outputs": [
    {
     "name": "stdout",
     "output_type": "stream",
     "text": [
      " \n",
      "Claudia  Fernandes  claudiacsf@gmail.com  |  LinkedIn |  GitHub Content,  Inbound  Growth,  Email  Automation,  SEO,  CRO  \n",
      "Iʼm  a  SaaS  B2B  Content  Marketing  Manager  with  a  track  record  of  driving  brand  awareness  through  organic  growth  and  creating  content  that  resonates  with  technical  audiences .  Currently  working  to  stay  ahead  of  evolving  search  trends ,  and  leveraging  AI  to  improve  quality  while  accelerating  project  timelines.  \n",
      "Present  一  06/2023  \n",
      "Product  Marketing  Manager  一  Content  Marketing  Manager  \n",
      "●  \n",
      "Developed  and  executed  Assemblaʼs  content  strategy  from  the  ground  up,  scaling  organic  blog  traffic  from  20  to  2,500  monthly  visits  within  12  months .  This  high-intent  inbound  traffic  contributed  to  5%  of  Free  Trial  conversions  during  peak  months,  ultimately  driving  a  nearly  70%  uplift  in  subscription  rates .  The  Free  Trial-to-Paid  conversion  rate  surged  from  below  3%  to  10%  at  its  peak.  ●  \n",
      "Developed  content  that  adapted  well  to  evolving  search  trends,  with  ChatGPT  referrals  converting  at  4% .  ●  \n",
      "Hired  and  managed  a  team  of  external  content  producers ,  establishing  processes  that  improved  technical  accuracy  and  output  quality.  ●  \n",
      "Collaborated  with  Product  to  release  product  updates   tailored  for  CTOs,  tech  leads,  and  engineers.  ●  \n",
      "Managed  the  WordPress  backend  of  our  website  to  ensure  SEO  best  practices.  ●  \n",
      "Developed  high-converting  landing  pages  to  support  PPC  and  email  marketing  nurture  campaigns,  improving  engagement  and  conversion  rates.  ●  \n",
      "Worked  alongside  the  Marketing  Manager  to  design  demand  generation  campaigns  with  a  $50k  monthly  budget.  ●  \n",
      "Recently  expanded  role  as  Product  Marketing  Manager ,  driving  efforts  in  product  positioning,  competitive  analysis  to  support  growth  initiatives.  \n",
      "Assembla,  Inc.  一  Austin,  TX,  (Remote) DevOps,  Version  Control  and  Agile  Project  Management  B2B,  SaaS  \n",
      "Technologies  used  Eloqua,  Pendo,  Salesforce,  ChatGPT,  Clarity,  Hotjar,  Leadfeeder,  SEMrush,  Ahrefs,  Buzzsumo,  WordPress,  Figma,  Hubspot,  Jira,  Clickup,  Monday.com,  Intercom,  HTML,  CSS,  Sprout  Social,  Keyword  Planner,  GA4,  Tag  Manager,  Search  Console,  PageSpeed  Insights,  Yellowfin  BI,  Looker  Studio  \n",
      "05/2023  一  01/2016  \n",
      "Co-Founder  &  Lead  Marketing  Strategist   \n",
      "●  \n",
      "Developed  and  executed  content  and  growth  marketing  initiatives  for  leading  SaaS,  digital  and  e-commerce  companies :  infraspeak.com,  myforce.com,  fixando.com,  yourhero.pt,  filigranaportuguesa.pt,  outmarketing.pt.  ●  \n",
      "Managed  SEO  campaigns ,  achieving  top  Google  rankings  through  on-page  optimization,  backlink  strategies,  and  influencer  partnerships.  ●  \n",
      "Designed  and  implemented  email  marketing  automation  workflows  to  nurture  leads  and  customers  and  improve  client  conversions.  \n",
      "Leadcontent  一  Portugal  (Remote) Content  Marketing  Agency  B2B,  B2C,  SaaS,  e-commerce  \n",
      "Technologies  used  GA4,  Search  Console,  Klaviyo,  Ahrefs,  SEMrush,  Screaming  Frog,  WordPress,  Webflow,  Moz,  Google  Tag  Manager,  Hubspot,  HTML,  CSS,  Ubersuggest,  WooCommerce,  Shopify,  Prestashop,  Airtable  \n",
      "12/2015  一  08/2013  \n",
      "Head  of  Marketing  \n",
      "●  \n",
      "Led  the  digital  marketing  transformation  initiative,  implementing  marketing  automation,  nurture  campaigns,  and  CRM  processes  that  enhanced  customer  retention  and  boosted  lifetime  value.  This  resulted  in  an  80%  increase  in  opportunities,  significantly  strengthening  the  sales  pipeline  and  improving  ROI.  ●  \n",
      "Developed  the  websiteʼs  structure  and  content  from  scratch,  implementing  SEO  best  practices.  \n",
      "Malabar  一  Porto,  Portugal  (On-site) Furniture  Design  and  Manufacturing  B2B  \n",
      "Technologies  used  GA4,  Search  Console,  RDStation,  e-goi,  WordPress,  Adobe  Muse,  Pipedrive,  \n",
      "07/2013  一  02/2013  \n",
      "CMS  and  Content  Manager  \n",
      "●  \n",
      "Managed  website  content  using  WordPress  CMS  and  MySQL,  creating  and  optimizing  copy  to  enhance  user  engagement  and  improve  listings.  \n",
      "Warmrental  一  Portugal  (Remote) Portuguese  AirBnB  analog  B2C,  Digital  \n",
      "12/2012  一  06/2012  \n",
      "Junior  Digital  Marketing  Specialist  \n",
      "●  \n",
      "Managed  social  media  channels  and  optimized  website  content  to  engage  with  global  interior  designers  and  furniture  stores.  \n",
      "Boca  do  Lobo  一  Porto,  Portugal  (On-site) Furniture  Design  and  Manufacturing  B2B  \n",
      " \n",
      " \n",
      "TRAINING  \n",
      "Front  End  Web  Development  —  3  months  Udacity.com  2020  \n",
      "Git,  APIs,  Javascript,  HTML,  CSS,  Visual  Studio,  GitHub  \n",
      "Writing  and  Editing  Specialization  —  46  hours  University  of  Michigan  —  Coursera 2024  \n",
      "Writing,  Editing,  Drafting,  Proofreading,  Structure  and  Organization  \n",
      " \n",
      "DevSecOps  Foundations  —  12  hours  LinkedIn  Learning  2024  \n",
      "CI/CD,  Shift  Left  Security,  Continuous  Monitoring,  Threat  Management  \n",
      " \n",
      "Content  Marketing  —  10  hours  Hubspot  2023  \n",
      "Strategy,  Personas,  Storytelling,  ROI  measurement,  SEO  tactics  \n",
      " \n",
      "Software  Version  Control   —  2  hours  LinkedIn  Learning  2023  \n",
      "Git,  Branching  and  Merging,  Workflows,  CI/CD  Integration  \n",
      "EDUCATION  \n",
      "BA  in  Marketing  and  Advertising Lisbonʼs  School  of  Communication  and  Media  Studies  2007 一 2012  \n",
      " \n",
      "SAMPLES  \n",
      "5  Reasons  to  Link  Code  Commits  to  Tickets \n",
      " \n",
      "Customer  Story:  Falconʼs  Beyond While  the  Falcon's  team  were  already  well-versed  in  how  to  operate  Perforce,  the  managed  approach  which  Assembla  provided  has  allowed  them  to  stay  focused  on  development  and  pipeline  management  rather  than  maintaining  the  infrastructure  backing  the  instance  –  a  time-intensive  aspect  that  diverted  important  development  resources  from  the  main  value-add  of  their  work.  \n",
      " \n",
      "Customer  Story:  Two  Point  Studios Two  Point  Studios  faced  significant  hurdles  as  they  sought  to  establish  an  efficient  and  scalable  development  workflow.  Like  many  indie  studios,  they  were  keen  to  maintain  a  lean  and  agile  team  structure,  but  this  ambition  came  with  certain  obstacles,  particularly  in  the  realm  of  version  control  and  system  administration.  \n",
      "Product  News:  Introducing  a  Major  Wiki  Tool  Upgrade \n",
      " \n",
      " \n",
      "Perforce  Pricing  Breakdown:  Helix  Core  Hosting  Plans \n",
      "Thought  Leadership:  Is  SVN  Still  Used  Today? The  short  answer  to  the  question  “Is  SVN  still  used?”  is  yes.  But  you  might  be  wondering  where  itʼs  still  being  used  and  why,  and  it  really  comes  down  to  its  ability  to  handle  large  files  and  support  centralized  workflows.  Subversion  (SVN)  remains  the  second  most  popular  choice  for  version  control  and  is  often  the  first  choice  among  enterprise  software  development  companies,  like  manufacturing  and  chip  design.  \n",
      " Keyword  Research,  Editing,  Copywriting,  SEO,  Research,  CRO,  Performance  Tracking,  Visuals,  Product  Alignment,  Interviewing,  Gap  Analysis,  Content  Audit,  Editorial  Planning  \n",
      " \n",
      "\n"
     ]
    }
   ],
   "source": [
    "print(resume)"
   ]
  },
  {
   "cell_type": "code",
   "execution_count": 16,
   "metadata": {},
   "outputs": [],
   "source": [
    "with open(\"me/summary.txt\", \"r\", encoding=\"utf-8\") as f:\n",
    "    summary = f.read()"
   ]
  },
  {
   "cell_type": "code",
   "execution_count": 17,
   "metadata": {},
   "outputs": [],
   "source": [
    "name = \"Claudia Fernandes\""
   ]
  },
  {
   "cell_type": "code",
   "execution_count": 23,
   "metadata": {},
   "outputs": [],
   "source": [
    "system_prompt = f\"You are acting as {name}. You are answering questions on {name}'s website, \\\n",
    "particularly questions related to {name}'s career, background, skills and experience. \\\n",
    "Your responsibility is to represent {name} for interactions on the website as faithfully as possible. \\\n",
    "You are given a summary of {name}'s background and resume which you can use to answer questions. \\\n",
    "Be professional and engaging, as if talking to a potential client or future employer who came across the website. \\\n",
    "If you don't know the answer, say so.\"\n",
    "\n",
    "system_prompt += f\"\\n\\n## Summary:\\n{summary}\\n\\n## Resume:\\n{resume}\\n\\n\"\n",
    "system_prompt += f\"With this context, please chat with the user, always staying in character as {name}.\"\n"
   ]
  },
  {
   "cell_type": "code",
   "execution_count": 22,
   "metadata": {},
   "outputs": [
    {
     "data": {
      "text/plain": [
       "\"You are acting as Claudia Fernandes. You are answering questions on Claudia Fernandes's website, particularly questions related to Claudia Fernandes's career, background, skills and experience. Your responsibility is to represent Claudia Fernandes for interactions on the website as faithfully as possible. You are given a summary of Claudia Fernandes's background and LinkedIn profile which you can use to answer questions. Be professional and engaging, as if talking to a potential client or future employer who came across the website. If you don't know the answer, say so.\\n\\n## Summary:\\nMy name is Claudia Fernandes. I'm a digital marketer based, an entrepreneur and wannabe AI engineer. I've watched all 16 seasons of Masterchef Australia.\\n\\n## Resume:\\n \\nClaudia  Fernandes  claudiacsf@gmail.com  |  LinkedIn |  GitHub Content,  Inbound  Growth,  Email  Automation,  SEO,  CRO  \\nIʼm  a  SaaS  B2B  Content  Marketing  Manager  with  a  track  record  of  driving  brand  awareness  through  organic  growth  and  creating  content  that  resonates  with  technical  audiences .  Currently  working  to  stay  ahead  of  evolving  search  trends ,  and  leveraging  AI  to  improve  quality  while  accelerating  project  timelines.  \\nPresent  一  06/2023  \\nProduct  Marketing  Manager  一  Content  Marketing  Manager  \\n●  \\nDeveloped  and  executed  Assemblaʼs  content  strategy  from  the  ground  up,  scaling  organic  blog  traffic  from  20  to  2,500  monthly  visits  within  12  months .  This  high-intent  inbound  traffic  contributed  to  5%  of  Free  Trial  conversions  during  peak  months,  ultimately  driving  a  nearly  70%  uplift  in  subscription  rates .  The  Free  Trial-to-Paid  conversion  rate  surged  from  below  3%  to  10%  at  its  peak.  ●  \\nDeveloped  content  that  adapted  well  to  evolving  search  trends,  with  ChatGPT  referrals  converting  at  4% .  ●  \\nHired  and  managed  a  team  of  external  content  producers ,  establishing  processes  that  improved  technical  accuracy  and  output  quality.  ●  \\nCollaborated  with  Product  to  release  product  updates   tailored  for  CTOs,  tech  leads,  and  engineers.  ●  \\nManaged  the  WordPress  backend  of  our  website  to  ensure  SEO  best  practices.  ●  \\nDeveloped  high-converting  landing  pages  to  support  PPC  and  email  marketing  nurture  campaigns,  improving  engagement  and  conversion  rates.  ●  \\nWorked  alongside  the  Marketing  Manager  to  design  demand  generation  campaigns  with  a  $50k  monthly  budget.  ●  \\nRecently  expanded  role  as  Product  Marketing  Manager ,  driving  efforts  in  product  positioning,  competitive  analysis  to  support  growth  initiatives.  \\nAssembla,  Inc.  一  Austin,  TX,  (Remote) DevOps,  Version  Control  and  Agile  Project  Management  B2B,  SaaS  \\nTechnologies  used  Eloqua,  Pendo,  Salesforce,  ChatGPT,  Clarity,  Hotjar,  Leadfeeder,  SEMrush,  Ahrefs,  Buzzsumo,  WordPress,  Figma,  Hubspot,  Jira,  Clickup,  Monday.com,  Intercom,  HTML,  CSS,  Sprout  Social,  Keyword  Planner,  GA4,  Tag  Manager,  Search  Console,  PageSpeed  Insights,  Yellowfin  BI,  Looker  Studio  \\n05/2023  一  01/2016  \\nCo-Founder  &  Lead  Marketing  Strategist   \\n●  \\nDeveloped  and  executed  content  and  growth  marketing  initiatives  for  leading  SaaS,  digital  and  e-commerce  companies :  infraspeak.com,  myforce.com,  fixando.com,  yourhero.pt,  filigranaportuguesa.pt,  outmarketing.pt.  ●  \\nManaged  SEO  campaigns ,  achieving  top  Google  rankings  through  on-page  optimization,  backlink  strategies,  and  influencer  partnerships.  ●  \\nDesigned  and  implemented  email  marketing  automation  workflows  to  nurture  leads  and  customers  and  improve  client  conversions.  \\nLeadcontent  一  Portugal  (Remote) Content  Marketing  Agency  B2B,  B2C,  SaaS,  e-commerce  \\nTechnologies  used  GA4,  Search  Console,  Klaviyo,  Ahrefs,  SEMrush,  Screaming  Frog,  WordPress,  Webflow,  Moz,  Google  Tag  Manager,  Hubspot,  HTML,  CSS,  Ubersuggest,  WooCommerce,  Shopify,  Prestashop,  Airtable  \\n12/2015  一  08/2013  \\nHead  of  Marketing  \\n●  \\nLed  the  digital  marketing  transformation  initiative,  implementing  marketing  automation,  nurture  campaigns,  and  CRM  processes  that  enhanced  customer  retention  and  boosted  lifetime  value.  This  resulted  in  an  80%  increase  in  opportunities,  significantly  strengthening  the  sales  pipeline  and  improving  ROI.  ●  \\nDeveloped  the  websiteʼs  structure  and  content  from  scratch,  implementing  SEO  best  practices.  \\nMalabar  一  Porto,  Portugal  (On-site) Furniture  Design  and  Manufacturing  B2B  \\nTechnologies  used  GA4,  Search  Console,  RDStation,  e-goi,  WordPress,  Adobe  Muse,  Pipedrive,  \\n07/2013  一  02/2013  \\nCMS  and  Content  Manager  \\n●  \\nManaged  website  content  using  WordPress  CMS  and  MySQL,  creating  and  optimizing  copy  to  enhance  user  engagement  and  improve  listings.  \\nWarmrental  一  Portugal  (Remote) Portuguese  AirBnB  analog  B2C,  Digital  \\n12/2012  一  06/2012  \\nJunior  Digital  Marketing  Specialist  \\n●  \\nManaged  social  media  channels  and  optimized  website  content  to  engage  with  global  interior  designers  and  furniture  stores.  \\nBoca  do  Lobo  一  Porto,  Portugal  (On-site) Furniture  Design  and  Manufacturing  B2B  \\n \\n \\nTRAINING  \\nFront  End  Web  Development  —  3  months  Udacity.com  2020  \\nGit,  APIs,  Javascript,  HTML,  CSS,  Visual  Studio,  GitHub  \\nWriting  and  Editing  Specialization  —  46  hours  University  of  Michigan  —  Coursera 2024  \\nWriting,  Editing,  Drafting,  Proofreading,  Structure  and  Organization  \\n \\nDevSecOps  Foundations  —  12  hours  LinkedIn  Learning  2024  \\nCI/CD,  Shift  Left  Security,  Continuous  Monitoring,  Threat  Management  \\n \\nContent  Marketing  —  10  hours  Hubspot  2023  \\nStrategy,  Personas,  Storytelling,  ROI  measurement,  SEO  tactics  \\n \\nSoftware  Version  Control   —  2  hours  LinkedIn  Learning  2023  \\nGit,  Branching  and  Merging,  Workflows,  CI/CD  Integration  \\nEDUCATION  \\nBA  in  Marketing  and  Advertising Lisbonʼs  School  of  Communication  and  Media  Studies  2007 一 2012  \\n \\nSAMPLES  \\n5  Reasons  to  Link  Code  Commits  to  Tickets \\n \\nCustomer  Story:  Falconʼs  Beyond While  the  Falcon's  team  were  already  well-versed  in  how  to  operate  Perforce,  the  managed  approach  which  Assembla  provided  has  allowed  them  to  stay  focused  on  development  and  pipeline  management  rather  than  maintaining  the  infrastructure  backing  the  instance  –  a  time-intensive  aspect  that  diverted  important  development  resources  from  the  main  value-add  of  their  work.  \\n \\nCustomer  Story:  Two  Point  Studios Two  Point  Studios  faced  significant  hurdles  as  they  sought  to  establish  an  efficient  and  scalable  development  workflow.  Like  many  indie  studios,  they  were  keen  to  maintain  a  lean  and  agile  team  structure,  but  this  ambition  came  with  certain  obstacles,  particularly  in  the  realm  of  version  control  and  system  administration.  \\nProduct  News:  Introducing  a  Major  Wiki  Tool  Upgrade \\n \\n \\nPerforce  Pricing  Breakdown:  Helix  Core  Hosting  Plans \\nThought  Leadership:  Is  SVN  Still  Used  Today? The  short  answer  to  the  question  “Is  SVN  still  used?”  is  yes.  But  you  might  be  wondering  where  itʼs  still  being  used  and  why,  and  it  really  comes  down  to  its  ability  to  handle  large  files  and  support  centralized  workflows.  Subversion  (SVN)  remains  the  second  most  popular  choice  for  version  control  and  is  often  the  first  choice  among  enterprise  software  development  companies,  like  manufacturing  and  chip  design.  \\n Keyword  Research,  Editing,  Copywriting,  SEO,  Research,  CRO,  Performance  Tracking,  Visuals,  Product  Alignment,  Interviewing,  Gap  Analysis,  Content  Audit,  Editorial  Planning  \\n \\n\\n\\nWith this context, please chat with the user, always staying in character as Claudia Fernandes.\""
      ]
     },
     "execution_count": 22,
     "metadata": {},
     "output_type": "execute_result"
    }
   ],
   "source": [
    "system_prompt"
   ]
  },
  {
   "cell_type": "code",
   "execution_count": 9,
   "metadata": {},
   "outputs": [],
   "source": [
    "def chat(message, history):\n",
    "    messages = [{\"role\": \"system\", \"content\": system_prompt}] + history + [{\"role\": \"user\", \"content\": message}]\n",
    "    response = openai.chat.completions.create(model=\"gpt-4o-mini\", messages=messages)\n",
    "    return response.choices[0].message.content"
   ]
  },
  {
   "cell_type": "code",
   "execution_count": 24,
   "metadata": {},
   "outputs": [
    {
     "name": "stdout",
     "output_type": "stream",
     "text": [
      "* Running on local URL:  http://127.0.0.1:7861\n",
      "* To create a public link, set `share=True` in `launch()`.\n"
     ]
    },
    {
     "data": {
      "text/html": [
       "<div><iframe src=\"http://127.0.0.1:7861/\" width=\"100%\" height=\"500\" allow=\"autoplay; camera; microphone; clipboard-read; clipboard-write;\" frameborder=\"0\" allowfullscreen></iframe></div>"
      ],
      "text/plain": [
       "<IPython.core.display.HTML object>"
      ]
     },
     "metadata": {},
     "output_type": "display_data"
    },
    {
     "data": {
      "text/plain": []
     },
     "execution_count": 24,
     "metadata": {},
     "output_type": "execute_result"
    }
   ],
   "source": [
    "gr.ChatInterface(chat, type=\"messages\").launch()"
   ]
  },
  {
   "cell_type": "markdown",
   "metadata": {},
   "source": [
    "## A lot is about to happen...\n",
    "\n",
    "1. Be able to ask an LLM to evaluate an answer\n",
    "2. Be able to rerun if the answer fails evaluation\n",
    "3. Put this together into 1 workflow\n",
    "\n",
    "All without any Agentic framework!"
   ]
  },
  {
   "cell_type": "code",
   "execution_count": 26,
   "metadata": {},
   "outputs": [],
   "source": [
    "# Create a Pydantic model for the Evaluation\n",
    "\n",
    "from pydantic import BaseModel\n",
    "\n",
    "class Evaluation(BaseModel):\n",
    "    is_acceptable: bool\n",
    "    feedback: str\n"
   ]
  },
  {
   "cell_type": "code",
   "execution_count": 27,
   "metadata": {},
   "outputs": [],
   "source": [
    "evaluator_system_prompt = f\"You are an evaluator that decides whether a response to a question is acceptable. \\\n",
    "You are provided with a conversation between a User and an Agent. Your task is to decide whether the Agent's latest response is acceptable quality. \\\n",
    "The Agent is playing the role of {name} and is representing {name} on their website. \\\n",
    "The Agent has been instructed to be professional and engaging, as if talking to a potential client or future employer who came across the website. \\\n",
    "The Agent has been provided with context on {name} in the form of their summary and resume details. Here's the information:\"\n",
    "\n",
    "evaluator_system_prompt += f\"\\n\\n## Summary:\\n{summary}\\n\\n## resume:\\n{resume}\\n\\n\"\n",
    "evaluator_system_prompt += f\"With this context, please evaluate the latest response, replying with whether the response is acceptable and your feedback.\""
   ]
  },
  {
   "cell_type": "code",
   "execution_count": 39,
   "metadata": {},
   "outputs": [],
   "source": [
    "def evaluator_user_prompt(reply, message, history):\n",
    "    user_prompt = f\"Here's the conversation between the User and the Agent: \\n\\n{history}\\n\\n\"\n",
    "    user_prompt += f\"Here's the latest message from the User: \\n\\n{message}\\n\\n\"\n",
    "    user_prompt += f\"Here's the latest response from the Agent: \\n\\n{reply}\\n\\n\"\n",
    "    user_prompt += f\"Please evaluate the response, replying with whether it is acceptable and your feedback.\"\n",
    "    return user_prompt"
   ]
  },
  {
   "cell_type": "code",
   "execution_count": 40,
   "metadata": {},
   "outputs": [],
   "source": [
    "import os\n",
    "from anthropic import Anthropic\n",
    "from dotenv import load_dotenv\n",
    "\n",
    "load_dotenv()\n",
    "\n",
    "anthropic = Anthropic(api_key=os.getenv(\"ANTHROPIC_API_KEY\"))"
   ]
  },
  {
   "cell_type": "code",
   "execution_count": 63,
   "metadata": {},
   "outputs": [],
   "source": [
    "def evaluate(reply, message, history) -> Evaluation:\n",
    "    system_prompt = evaluator_system_prompt\n",
    "    user_prompt = evaluator_user_prompt(reply, message, history)\n",
    "\n",
    "    response = anthropic.messages.create(\n",
    "        model=\"claude-3-5-sonnet-20240620\",\n",
    "        system=system_prompt,\n",
    "        messages=[{\"role\": \"user\", \"content\": user_prompt}],\n",
    "        max_tokens=1000\n",
    "    )\n",
    "\n",
    "    raw_text = response.content[0].text.strip()\n",
    "\n",
    "    # 🔧 Crude logic to extract \"is_acceptable\" from the text\n",
    "    is_acceptable = \"not acceptable\" not in raw_text.lower()  # simple rule\n",
    "    feedback = raw_text\n",
    "\n",
    "    return Evaluation(is_acceptable=is_acceptable, feedback=feedback)\n"
   ]
  },
  {
   "cell_type": "code",
   "execution_count": 64,
   "metadata": {},
   "outputs": [],
   "source": [
    "messages = [{\"role\": \"system\", \"content\": system_prompt}] + [{\"role\": \"user\", \"content\": \"do you hold a patent?\"}]\n",
    "response = openai.chat.completions.create(model=\"gpt-4o-mini\", messages=messages)\n",
    "reply = response.choices[0].message.content"
   ]
  },
  {
   "cell_type": "code",
   "execution_count": 65,
   "metadata": {},
   "outputs": [
    {
     "data": {
      "text/plain": [
       "'No, I do not hold a patent. My focus has primarily been on digital marketing, content strategy, and leveraging AI for marketing purposes. If you have any specific questions about my skills or experience, feel free to ask!'"
      ]
     },
     "execution_count": 65,
     "metadata": {},
     "output_type": "execute_result"
    }
   ],
   "source": [
    "reply"
   ]
  },
  {
   "cell_type": "code",
   "execution_count": 66,
   "metadata": {},
   "outputs": [
    {
     "data": {
      "text/plain": [
       "Evaluation(is_acceptable=True, feedback='The response is acceptable. Here\\'s my feedback:\\n\\n1. Directness: The agent directly answers the question with a clear \"No,\" which is appropriate and honest.\\n\\n2. Relevance: While the agent doesn\\'t have a patent, they redirected the conversation to their areas of expertise, which is a good way to keep the interaction productive.\\n\\n3. Professionalism: The response maintains a professional tone, which aligns with the instruction to be professional and engaging.\\n\\n4. Accuracy: The response aligns with the information provided in Claudia\\'s resume and summary, which don\\'t mention any patents.\\n\\n5. Engagement: The agent invites further questions, which encourages continued interaction and shows openness to discuss their skills and experience.\\n\\n6. Brevity: The response is concise but informative, which is appropriate for a website interaction.\\n\\nOverall, this is an acceptable response that accurately represents Claudia Fernandes based on the provided information, while maintaining a professional and engaging tone.')"
      ]
     },
     "execution_count": 66,
     "metadata": {},
     "output_type": "execute_result"
    }
   ],
   "source": [
    "evaluate(reply, \"do you hold a patent?\", messages[:1])"
   ]
  },
  {
   "cell_type": "code",
   "execution_count": 67,
   "metadata": {},
   "outputs": [],
   "source": [
    "def rerun(reply, message, history, feedback):\n",
    "    updated_system_prompt = system_prompt + f\"\\n\\n## Previous answer rejected\\nYou just tried to reply, but the quality control rejected your reply\\n\"\n",
    "    updated_system_prompt += f\"## Your attempted answer:\\n{reply}\\n\\n\"\n",
    "    updated_system_prompt += f\"## Reason for rejection:\\n{feedback}\\n\\n\"\n",
    "    messages = [{\"role\": \"system\", \"content\": updated_system_prompt}] + history + [{\"role\": \"user\", \"content\": message}]\n",
    "    response = openai.chat.completions.create(model=\"gpt-4o-mini\", messages=messages)\n",
    "    return response.choices[0].message.content"
   ]
  },
  {
   "cell_type": "code",
   "execution_count": 68,
   "metadata": {},
   "outputs": [],
   "source": [
    "def chat(message, history):\n",
    "    if \"patent\" in message:\n",
    "        system = system_prompt + \"\\n\\nEverything in your reply needs to be in pig latin - \\\n",
    "              it is mandatory that you respond only and entirely in pig latin\"\n",
    "    else:\n",
    "        system = system_prompt\n",
    "    messages = [{\"role\": \"system\", \"content\": system}] + history + [{\"role\": \"user\", \"content\": message}]\n",
    "    response = openai.chat.completions.create(model=\"gpt-4o-mini\", messages=messages)\n",
    "    reply =response.choices[0].message.content\n",
    "\n",
    "    evaluation = evaluate(reply, message, history)\n",
    "    \n",
    "    if evaluation.is_acceptable:\n",
    "        print(\"Passed evaluation - returning reply\")\n",
    "    else:\n",
    "        print(\"Failed evaluation - retrying\")\n",
    "        print(evaluation.feedback)\n",
    "        reply = rerun(reply, message, history, evaluation.feedback)       \n",
    "    return reply"
   ]
  },
  {
   "cell_type": "code",
   "execution_count": 69,
   "metadata": {},
   "outputs": [
    {
     "name": "stdout",
     "output_type": "stream",
     "text": [
      "* Running on local URL:  http://127.0.0.1:7864\n",
      "* To create a public link, set `share=True` in `launch()`.\n"
     ]
    },
    {
     "data": {
      "text/html": [
       "<div><iframe src=\"http://127.0.0.1:7864/\" width=\"100%\" height=\"500\" allow=\"autoplay; camera; microphone; clipboard-read; clipboard-write;\" frameborder=\"0\" allowfullscreen></iframe></div>"
      ],
      "text/plain": [
       "<IPython.core.display.HTML object>"
      ]
     },
     "metadata": {},
     "output_type": "display_data"
    },
    {
     "data": {
      "text/plain": []
     },
     "execution_count": 69,
     "metadata": {},
     "output_type": "execute_result"
    },
    {
     "name": "stdout",
     "output_type": "stream",
     "text": [
      "Passed evaluation - returning reply\n",
      "Failed evaluation - retrying\n",
      "The response is not acceptable. Here's my feedback:\n",
      "\n",
      "1. The response is written in Pig Latin, which is unprofessional and inappropriate for representing Claudia Fernandes on her website.\n",
      "\n",
      "2. It fails to maintain the professional and engaging tone expected when communicating with potential clients or employers.\n",
      "\n",
      "3. The response doesn't provide a clear or informative answer to the user's question about patents.\n",
      "\n",
      "4. It doesn't align with the context provided about Claudia's background and experience.\n",
      "\n",
      "5. The agent missed an opportunity to elaborate on Claudia's professional accomplishments or to redirect the conversation to her areas of expertise.\n",
      "\n",
      "A more appropriate response would have been a straightforward answer about not holding any patents, possibly followed by information about Claudia's actual achievements or areas of expertise in digital marketing and content strategy.\n"
     ]
    }
   ],
   "source": [
    "gr.ChatInterface(chat, type=\"messages\").launch()"
   ]
  },
  {
   "cell_type": "markdown",
   "metadata": {},
   "source": []
  },
  {
   "cell_type": "code",
   "execution_count": null,
   "metadata": {},
   "outputs": [],
   "source": []
  }
 ],
 "metadata": {
  "kernelspec": {
   "display_name": ".venv",
   "language": "python",
   "name": "python3"
  },
  "language_info": {
   "codemirror_mode": {
    "name": "ipython",
    "version": 3
   },
   "file_extension": ".py",
   "mimetype": "text/x-python",
   "name": "python",
   "nbconvert_exporter": "python",
   "pygments_lexer": "ipython3",
   "version": "3.12.11"
  }
 },
 "nbformat": 4,
 "nbformat_minor": 2
}
