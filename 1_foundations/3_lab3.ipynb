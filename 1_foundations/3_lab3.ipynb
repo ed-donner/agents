{
 "cells": [
  {
   "cell_type": "markdown",
   "metadata": {},
   "source": [
    "## Welcome to Lab 3 for Week 1 Day 4\n",
    "\n",
    "Today we're going to build something with immediate value!\n",
    "\n",
    "In the folder `me` I've put a single file `linkedin.pdf` - it's a PDF download of my LinkedIn profile.\n",
    "\n",
    "Please replace it with yours!\n",
    "\n",
    "I've also made a file called `summary.txt`\n",
    "\n",
    "We're not going to use Tools just yet - we're going to add the tool tomorrow."
   ]
  },
  {
   "cell_type": "markdown",
   "metadata": {},
   "source": [
    "<table style=\"margin: 0; text-align: left; width:100%\">\n",
    "    <tr>\n",
    "        <td style=\"width: 150px; height: 150px; vertical-align: middle;\">\n",
    "            <img src=\"../assets/tools.png\" width=\"150\" height=\"150\" style=\"display: block;\" />\n",
    "        </td>\n",
    "        <td>\n",
    "            <h2 style=\"color:#00bfff;\">Looking up packages</h2>\n",
    "            <span style=\"color:#00bfff;\">In this lab, we're going to use the wonderful Gradio package for building quick UIs, \n",
    "            and we're also going to use the popular PyPDF PDF reader. You can get guides to these packages by asking \n",
    "            ChatGPT or Claude, and you find all open-source packages on the repository <a href=\"https://pypi.org\">https://pypi.org</a>.\n",
    "            </span>\n",
    "        </td>\n",
    "    </tr>\n",
    "</table>"
   ]
  },
  {
   "cell_type": "code",
   "execution_count": 1,
   "metadata": {},
   "outputs": [],
   "source": [
    "# If you don't know what any of these packages do - you can always ask ChatGPT for a guide!\n",
    "\n",
    "from dotenv import load_dotenv\n",
    "from openai import OpenAI\n",
    "from pypdf import PdfReader\n",
    "import gradio as gr"
   ]
  },
  {
   "cell_type": "code",
   "execution_count": 2,
   "metadata": {},
   "outputs": [],
   "source": [
    "load_dotenv(override=True)\n",
    "openai = OpenAI()"
   ]
  },
  {
   "cell_type": "code",
   "execution_count": 3,
   "metadata": {},
   "outputs": [],
   "source": [
    "reader = PdfReader(\"me/Aditya Mandlekar - TPM.pdf\")\n",
    "linkedin = \"\"\n",
    "for page in reader.pages:\n",
    "    text = page.extract_text()\n",
    "    if text:\n",
    "        linkedin += text"
   ]
  },
  {
   "cell_type": "code",
   "execution_count": 4,
   "metadata": {},
   "outputs": [
    {
     "name": "stdout",
     "output_type": "stream",
     "text": [
      "Page 1 of 4 \n",
      "Aditya Mandlekar \n",
      "Technical Program Manager (SaaS Products  | Cybersecurity & Risk\n",
      "Management | Digital Transformation & Modernization (Cloud, AI, Data,\n",
      "Quality Engineering) \n",
      "Product, Program, and\n",
      " \n",
      "Technology Leader with ~ 20 years of experience serving as a Technical Program\n",
      "Manager/Product Owner for SaaS Products, cross-functional leadership roles, Customer Governance &\n",
      "relationships, End to End Test Automation Architect & Management, Test Advisory, Agile Full Stack\n",
      "development, Pre-sales/solutions primarily in the domain of Banking & Financial (Investment banking,\n",
      "Lending & Capital Market, Cards, Treasury), Hi-Technolgy (MSN Global), Utility, Forensics Insurance\n",
      "Accounting, Cybersecurity, Conversation AIs, Cloud/DB migrations, Digital Transformation & Modernization\n",
      "programs running in the global multi-culture environment.\n",
      " \n",
      "AWS Certiﬁed Developer Associate, PMP\n",
      "certiﬁed, Certiﬁed Product Owner. Certiﬁed SAFe 5 Agilist.\n",
      " \n",
      "adityamandlekar@gmail.com \n",
      "469-992-1496 \n",
      "Chantilly, VA, United States \n",
      "linkedin.com/in/aditya-mandlekar-5023196 \n",
      "github.com/adityamandlekar \n",
      "SKILLS \n",
      "Technical Product Ownership (SaaS Product) \n",
      "Product Development/Program Management \n",
      "Test Management/Advisory \n",
      "Global Cross Functional Leadership \n",
      "Management Consulting \n",
      "Agile Software Development/BDD/TDD \n",
      "Springboot Microservices \n",
      "Test \n",
      "Automation \n",
      "(REST API, Selenium, Integrations) \n",
      "Customer Governance \n",
      "Cybersecurity & Risk Management \n",
      "AI - Conversational Bots/LLMs \n",
      "Intelligent Automation (Appian, RPA) \n",
      "Maximo (Functional, Integrations) \n",
      "Requirements Gathering/Prioritization/Sprint Planning, Reﬁnement, Product Reviews \n",
      "Continuous Integrations/Deployments (Openshift, Jenkins, Puppet) \n",
      "Java 8 \n",
      "Full Stack Development -MEAN \n",
      "Multi-cloud/Hybrid cloud native technologies \n",
      "Python (Robot Automation Framework) \n",
      "Banking & Financial Services \n",
      "(Multiple domains) \n",
      "Cloud/DB Migration \n",
      "DevSecOps \n",
      "Code Reviews \n",
      "End-to-End Testing (Functional, Non-Functional, Data Quality/Integrations) \n",
      "Solutioning /Pre-Sales/Sales Excellence \n",
      "Relational Databases ( Oracle, Microsoft, Postgress, IBM DB2,Aurora,H2) \n",
      "System/Database/ MOM Administration \n",
      "Atlassian Suite (JIRA, Bitbucket) \n",
      "Linux/Network Administration tools \n",
      "Production Servers/Monitoring \n",
      "NoSQL DB( MongoDB, Dynamo, Redis) \n",
      "Scripting \n",
      "Capacity Testing (Intel Vtune) \n",
      "Page 2 of 4 \n",
      "WORK EXPERIENCE \n",
      "Senior Technical Program Manager | Product Owner \n",
      "Ampcus Inc \n",
      "07/2023 - Present\n",
      ", \n",
      " \n",
      "Chantilly VA \n",
      "Saas Product - ComplyX (01/13/25- Till Now)\n",
      " - As a Program Manager, responsible for on-time delivery, of product responsible for\n",
      "Third-party Risk Management of customers, managing overall Cybersecurity posture and their Vendors with PCI-DSS, Red-Teaming using\n",
      "spiderfoot Integrations, (In Progress) - Continuous Monitoring for ESG, Financial Risk & Modern Slavery. \n",
      "SaaS Product - \n",
      "Ampcus Forensic Insurance Accounting\n",
      " \n",
      "- (9/16/24 - 1/13/24): \n",
      "Product capable of end-to-end Automated Claim\n",
      "processing. Product Features - AI Conversational chatbot (Open AI), Multi Language capabilities, Karbon Workﬂows integrations,\n",
      "Tesseract-based OCR, SendGrid email integrations, Microsoft One Drive Integrations (Graph APIs), Microsoft Outlook integrations for\n",
      "scheduling; Tech Stack - React, Java , Python Azure DevOps Pipeline. \n",
      "Board of Governors\n",
      " \n",
      "- \n",
      "Federal Reserve Board - DCCA (Department of Community & Consumer Aﬀairs) 06/24- 9/13:\n",
      " \n",
      "Product Manager,\n",
      "member of DCCA Program Management oﬃce responsible for oversight of multiple product implementations as part of the Technology\n",
      "Modernization for Community Reinvestment Act (CRA), collaborations with Board IT, Delivery partners from 12 Federal Reserve boards,\n",
      "FDIC, OCC, and indirect 8+ stakeholders for budgeting, scheduling, and program management needs. \n",
      "Saas Product - Acquaa - DC Water (Utility Sector) 07/23- 05/24\n",
      " \n",
      ": \n",
      "Responsible for Product Ownership, Customer & Vendor governance\n",
      "& demonstrations, Product Engineering Management, Quality Certiﬁcations, and Coaching for Engineering, UX Design, Infrastructure,\n",
      "and\n",
      " \n",
      "Business/QA teams. Successful integrations with PaymentUS, Maximo Asset Management, Work order management, inventory\n",
      "Management, SAP integrations, GIS, and SendGrid. Tech Stack - Java, Kotlin, React, Springboot Microservices AWS cloud, QMetry. \n",
      "60+\n",
      "product feature enhancements are \n",
      "appreciated by DC water Customer.\n",
      " \n",
      "Enterprise Pre-Sales & Product Quality Support : \n",
      "Quantitative Survey, \n",
      "Analysis on the Integration of multiple AI/LLM based Solutions\n",
      "developed within the organization, Proposition for AI solutions for Acquisition & procurement Lifecycle for Federal customers , Cognos to\n",
      "Power BI Migration & Automation Anywhere to Power Automate Migration, Learning & Development SaaS product, Appian Projects\n",
      "proposals. Technical Solution Plan development for Humanoid Robot solution as Oﬃcial virtual assistant & possible Drone Integrations\n",
      "(Temi & PX4) for end-to-end use cases. \n",
      "Senior Consultant - Quality Engineering \n",
      "Deloitte LLP \n",
      "07/2021 - 05/2023\n",
      ", \n",
      " \n",
      "Mclean, VA (Remote) \n",
      "Core Business Operations \n",
      "- Application Modernization & Innovation \n",
      "State Street (11/22- 05/23)\n",
      ": Test Manager responsible for test strategy for data quality & services for end-to-end data ﬂow from\n",
      "external vendors to customer environment using Snowﬂake in Azure cloud environment \n",
      "Vanguard RIG DB2 Modernization (03/22- 10/22)\n",
      " : Test Manager (40+ team size) for 3 Product families responsible for managing\n",
      "Customer governance, Requirements Gathering/prioritization, Test strategy reviews for API, Data, and Performance workstreams.\n",
      "successfully migrated \n",
      "60m+ DB2 records to the AWS Dynamo DB/Aurora DB\n",
      ". Performance monitoring using Cloud watch, Daily\n",
      "Troubleshooting of DB Migrations, AWS glue jobs, lambda functions, reports generated in S3. Integration of JIRA & X-Ray. \n",
      "AIG Reinsurance Financial Transformation (11/21 - 03/22)\n",
      " : \n",
      "Test Manager responsible for governance, advisory responsibilities across\n",
      "multiple vendors for an end to end Data Integration Quality, Command centers, defect Triage of 2 parallel releases. \n",
      "Intel - SK Hynix AEM website launch (09/21 - 11/21)\n",
      " : \n",
      "Performance Test Manager for newly launched AEM-based Website using cloud-\n",
      "based load generators. \n",
      "Dell - Customer Insights and Experience (07/21 - 09/21) \n",
      ": \n",
      "Test Strategy delivered for \n",
      "End-to-End testing, Test Environment, and Test\n",
      "Data governance helped to win implementation phase. POC, Feasibility Analysis on Deloitte Internal tools for Big Data Test Engine/E2E\n",
      "Test Orchestration. \n",
      "Firm Initiatives\n",
      ": QE Financial services Go to Market Pre-sales , QE Win-loss Analysis for 2022. Webinar lead for 5G /cloud Alliances \n",
      "SaaS Product Leadership - Successfully delivered Products ( Utility, Forensics Accounting, Cybersecurity & Third Party Risk Management) \n",
      "Achievements/Tasks Page 3 of 4 \n",
      "WORK EXPERIENCE \n",
      "Agile Software Developer \n",
      "Cognizant Technology Solutions \n",
      "03/2017 - 07/2021\n",
      ", \n",
      " \n",
      "Digital COE Transformation \n",
      "Freddie Mac, McLean VA (09/2018 - 05/2021)\n",
      " : Successfully migrated monolithic architecture to 30+ microservices. Design, CI/CD and\n",
      "integration testing of Spring-boot Microservices using Java 8,Redis, Mongo DB/In-Memory DB, Swagger, Basic/OAuth 2.0 Authentication,\n",
      "Open-Shift 3.11/4.3 Platform, ATDD approach, WireMock, Hamcrest \n",
      "Support for Operational \n",
      "Readiness using SONAR, FORTIFY /Secure Assist Fixes , Production Incident Management\n",
      " \n",
      "using \n",
      "Kibana \n",
      "API \n",
      "& Functional Test Automation using BDD approach with help of rest Assured, Selenium, Cucumber \n",
      "PI/Sprint Planning, Reﬁnements, Epic/Feature Stories Backlog Development, Product Reviews \n",
      "Thomson Reuters, St Louis MO (03/17 - 09/18)\n",
      " : Test Automation Development using Python, Robot \n",
      "Automation Framework. Capacity\n",
      "Testing, Release schedules and dependencies coordination with \n",
      "Global UAT Team coordination, 10+ scrum masters/Tech leads\n",
      "responsible for venues deployment. \n",
      "Successful Pre-Delivery (~30K+ Saves) of annual test Automation schedule, Eﬀective Automation\n",
      "suite code reviews. \n",
      "Firm Initiatives : \n",
      "Digital COE POV for multi cloud, Test Automation Proposals \n",
      "Test Automation Lead \n",
      "Tata Consultancy Services \n",
      "07/2005 - 03/2017\n",
      ", \n",
      " \n",
      "Quality \n",
      "Engineering for Hi-Tech Customers, Banking & Financial Services (Investment Banking, Retail Banking, Mortgage, Card Services, Treasury) domains \n",
      "JPMC (Investment Bnking), Dallas TX/Bangalore ,India (11/2013 - 03/2017)\n",
      " : \n",
      "Test Automation Architect responsible for Metrics Design\n",
      "& Governance, Cross browser test Automation framework development, Flex based application using QTP, Test automation coverage\n",
      "expansion, backend test automation. Pre-sales lead for multiple business proposals, multi year Test Automation Vision with heat map\n",
      "analysis of Investment Banking portfolio 300+ applications & Technology Stack resulting in Team size Growth (~85%), managed services\n",
      "model transition \n",
      "JPMC (Loans Processing), Wilmington DE/India (02/12- 11/2013) \n",
      ": \n",
      "Test lead responsible for end-to-end testing of Loans processing and\n",
      "data quality ﬂow to capital markets, Team management, customer governance. Functional support for Automation suite for interface\n",
      "testing \n",
      "JPMC (Card Services Operations), Mechanicsburg PA (04/2009 - 03/2012)\n",
      " : \n",
      "Test Lead and Single point of contact for SOAP UI to QTP\n",
      "Test Automation (~$80k+ Cost saves), Web services validations 18+ Credit/Debit Card launches, customer governance \n",
      "JPMC (Treasury Services), Chicago IL (04/2009- 10/2009) \n",
      ": QA Analyst responsible for functional and Database testing \n",
      "Microsoft , Redmond WA /Pune, India (07/2005 - 04/2009)\n",
      " : Functional of Testing - Indigo/Longhorn OS , SeaDragon, MSN maps/Earth\n",
      "Tech Launch, \n",
      "ETL Packages testing, MSN Production Server Support, System - Database - Microsoft Operations Manager Administration \n",
      "CERTIFICATES \n",
      "AWS Certiﬁed Software Developer Associate\n",
      " (12/2020 - Present)\n",
      " \n",
      "Certiﬁed Product Owner (Scrum Alliance)\n",
      " (02/2024 - Present)\n",
      " \n",
      "Certiﬁed AI security specialist (CAISS \n",
      "- Ampcus cyber)\n",
      " (03/2024 - Present)\n",
      " \n",
      "Project Management Professional\n",
      " (05/2024 - Present)\n",
      " \n",
      "Certiﬁcation # 3811786 \n",
      "Certiﬁed SAFe 5 Agilist\n",
      " (10/2020 - Present)\n",
      " \n",
      "Udemy Full Stack Development bootcamp (40 hours) \n",
      "HP (QTP 11.0) AIS - Functional Testing v11\n",
      " (09/2012 - Present)\n",
      " \n",
      "TCS Certiﬁed Software Estimator \n",
      "TCS - Banking and Financial Services Domain\n",
      "Certiﬁcations. \n",
      "Microsoft Certiﬁed Database Administrator/SQL\n",
      "Developer/Professional (SQL 2000) \n",
      "ISTQB Certiﬁed Test Engineer \n",
      "Achievements/Tasks \n",
      "Achievements/Tasks Page 4 of 4 \n",
      "EDUCATION \n",
      "Bachelor of Engineering in Computer Science \n",
      "Visvesvaraya National Institute Of Technology \n",
      "07/2002 - 07/2005\n",
      ", \n",
      " \n",
      "Nagpur, India \n",
      "Diploma in Computer Technology \n",
      "Bombay Technical Education Board \n",
      "07/1999 - 05/2002\n",
      ", \n",
      " \n",
      "Nagpur, India \n"
     ]
    }
   ],
   "source": [
    "print(linkedin)"
   ]
  },
  {
   "cell_type": "code",
   "execution_count": 5,
   "metadata": {},
   "outputs": [],
   "source": [
    "with open(\"me/summary.txt\", \"r\", encoding=\"utf-8\") as f:\n",
    "    summary = f.read()"
   ]
  },
  {
   "cell_type": "code",
   "execution_count": 6,
   "metadata": {},
   "outputs": [],
   "source": [
    "name = \"Aditya Mandlekar\""
   ]
  },
  {
   "cell_type": "code",
   "execution_count": 7,
   "metadata": {},
   "outputs": [],
   "source": [
    "system_prompt = f\"You are acting as {name}. You are answering questions on {name}'s website, \\\n",
    "particularly questions related to {name}'s career, background, skills and experience. \\\n",
    "Your responsibility is to represent {name} for interactions on the website as faithfully as possible. \\\n",
    "You are given a summary of {name}'s background and LinkedIn profile which you can use to answer questions. \\\n",
    "Be professional and engaging, as if talking to a potential client or future employer who came across the website. \\\n",
    "If you don't know the answer, say so.\"\n",
    "\n",
    "system_prompt += f\"\\n\\n## Summary:\\n{summary}\\n\\n## LinkedIn Profile:\\n{linkedin}\\n\\n\"\n",
    "system_prompt += f\"With this context, please chat with the user, always staying in character as {name}.\"\n"
   ]
  },
  {
   "cell_type": "code",
   "execution_count": 8,
   "metadata": {},
   "outputs": [
    {
     "data": {
      "text/plain": [
       "'You are acting as Aditya Mandlekar. You are answering questions on Aditya Mandlekar\\'s website, particularly questions related to Aditya Mandlekar\\'s career, background, skills and experience. Your responsibility is to represent Aditya Mandlekar for interactions on the website as faithfully as possible. You are given a summary of Aditya Mandlekar\\'s background and LinkedIn profile which you can use to answer questions. Be professional and engaging, as if talking to a potential client or future employer who came across the website. If you don\\'t know the answer, say so.\\n\\n## Summary:\\nMy name is Aditya Mandlekar. I\\'m an IT Professional with 20 Years of Experience. \\n\\nI\\'m originally from Nagpur, India, but I have been travelling to various Cities of India and United States mostly from July 2005 for the IT Projects. \\n\\nI currently live in Chantilly Virginia. I love all Vegetarian foods, particularly Indian (Street) Chat food. I believe in leadership as an Action, not a position. \\n\\nI believe in God, Spirituality, Laws of \"Karma\", Philanthropy, Society contributions and enjoys spending time with my family. \\n\\n## LinkedIn Profile:\\nPage 1 of 4 \\nAditya Mandlekar \\nTechnical Program Manager (SaaS Products  | Cybersecurity & Risk\\nManagement | Digital Transformation & Modernization (Cloud, AI, Data,\\nQuality Engineering) \\nProduct, Program, and\\n \\nTechnology Leader with ~ 20 years of experience serving as a Technical Program\\nManager/Product Owner for SaaS Products, cross-functional leadership roles, Customer Governance &\\nrelationships, End to End Test Automation Architect & Management, Test Advisory, Agile Full Stack\\ndevelopment, Pre-sales/solutions primarily in the domain of Banking & Financial (Investment banking,\\nLending & Capital Market, Cards, Treasury), Hi-Technolgy (MSN Global), Utility, Forensics Insurance\\nAccounting, Cybersecurity, Conversation AIs, Cloud/DB migrations, Digital Transformation & Modernization\\nprograms running in the global multi-culture environment.\\n \\nAWS Certiﬁed Developer Associate, PMP\\ncertiﬁed, Certiﬁed Product Owner. Certiﬁed SAFe 5 Agilist.\\n \\nadityamandlekar@gmail.com \\n469-992-1496 \\nChantilly, VA, United States \\nlinkedin.com/in/aditya-mandlekar-5023196 \\ngithub.com/adityamandlekar \\nSKILLS \\nTechnical Product Ownership (SaaS Product) \\nProduct Development/Program Management \\nTest Management/Advisory \\nGlobal Cross Functional Leadership \\nManagement Consulting \\nAgile Software Development/BDD/TDD \\nSpringboot Microservices \\nTest \\nAutomation \\n(REST API, Selenium, Integrations) \\nCustomer Governance \\nCybersecurity & Risk Management \\nAI - Conversational Bots/LLMs \\nIntelligent Automation (Appian, RPA) \\nMaximo (Functional, Integrations) \\nRequirements Gathering/Prioritization/Sprint Planning, Reﬁnement, Product Reviews \\nContinuous Integrations/Deployments (Openshift, Jenkins, Puppet) \\nJava 8 \\nFull Stack Development -MEAN \\nMulti-cloud/Hybrid cloud native technologies \\nPython (Robot Automation Framework) \\nBanking & Financial Services \\n(Multiple domains) \\nCloud/DB Migration \\nDevSecOps \\nCode Reviews \\nEnd-to-End Testing (Functional, Non-Functional, Data Quality/Integrations) \\nSolutioning /Pre-Sales/Sales Excellence \\nRelational Databases ( Oracle, Microsoft, Postgress, IBM DB2,Aurora,H2) \\nSystem/Database/ MOM Administration \\nAtlassian Suite (JIRA, Bitbucket) \\nLinux/Network Administration tools \\nProduction Servers/Monitoring \\nNoSQL DB( MongoDB, Dynamo, Redis) \\nScripting \\nCapacity Testing (Intel Vtune) \\nPage 2 of 4 \\nWORK EXPERIENCE \\nSenior Technical Program Manager | Product Owner \\nAmpcus Inc \\n07/2023 - Present\\n, \\n \\nChantilly VA \\nSaas Product - ComplyX (01/13/25- Till Now)\\n - As a Program Manager, responsible for on-time delivery, of product responsible for\\nThird-party Risk Management of customers, managing overall Cybersecurity posture and their Vendors with PCI-DSS, Red-Teaming using\\nspiderfoot Integrations, (In Progress) - Continuous Monitoring for ESG, Financial Risk & Modern Slavery. \\nSaaS Product - \\nAmpcus Forensic Insurance Accounting\\n \\n- (9/16/24 - 1/13/24): \\nProduct capable of end-to-end Automated Claim\\nprocessing. Product Features - AI Conversational chatbot (Open AI), Multi Language capabilities, Karbon Workﬂows integrations,\\nTesseract-based OCR, SendGrid email integrations, Microsoft One Drive Integrations (Graph APIs), Microsoft Outlook integrations for\\nscheduling; Tech Stack - React, Java , Python Azure DevOps Pipeline. \\nBoard of Governors\\n \\n- \\nFederal Reserve Board - DCCA (Department of Community & Consumer Aﬀairs) 06/24- 9/13:\\n \\nProduct Manager,\\nmember of DCCA Program Management oﬃce responsible for oversight of multiple product implementations as part of the Technology\\nModernization for Community Reinvestment Act (CRA), collaborations with Board IT, Delivery partners from 12 Federal Reserve boards,\\nFDIC, OCC, and indirect 8+ stakeholders for budgeting, scheduling, and program management needs. \\nSaas Product - Acquaa - DC Water (Utility Sector) 07/23- 05/24\\n \\n: \\nResponsible for Product Ownership, Customer & Vendor governance\\n& demonstrations, Product Engineering Management, Quality Certiﬁcations, and Coaching for Engineering, UX Design, Infrastructure,\\nand\\n \\nBusiness/QA teams. Successful integrations with PaymentUS, Maximo Asset Management, Work order management, inventory\\nManagement, SAP integrations, GIS, and SendGrid. Tech Stack - Java, Kotlin, React, Springboot Microservices AWS cloud, QMetry. \\n60+\\nproduct feature enhancements are \\nappreciated by DC water Customer.\\n \\nEnterprise Pre-Sales & Product Quality Support : \\nQuantitative Survey, \\nAnalysis on the Integration of multiple AI/LLM based Solutions\\ndeveloped within the organization, Proposition for AI solutions for Acquisition & procurement Lifecycle for Federal customers , Cognos to\\nPower BI Migration & Automation Anywhere to Power Automate Migration, Learning & Development SaaS product, Appian Projects\\nproposals. Technical Solution Plan development for Humanoid Robot solution as Oﬃcial virtual assistant & possible Drone Integrations\\n(Temi & PX4) for end-to-end use cases. \\nSenior Consultant - Quality Engineering \\nDeloitte LLP \\n07/2021 - 05/2023\\n, \\n \\nMclean, VA (Remote) \\nCore Business Operations \\n- Application Modernization & Innovation \\nState Street (11/22- 05/23)\\n: Test Manager responsible for test strategy for data quality & services for end-to-end data ﬂow from\\nexternal vendors to customer environment using Snowﬂake in Azure cloud environment \\nVanguard RIG DB2 Modernization (03/22- 10/22)\\n : Test Manager (40+ team size) for 3 Product families responsible for managing\\nCustomer governance, Requirements Gathering/prioritization, Test strategy reviews for API, Data, and Performance workstreams.\\nsuccessfully migrated \\n60m+ DB2 records to the AWS Dynamo DB/Aurora DB\\n. Performance monitoring using Cloud watch, Daily\\nTroubleshooting of DB Migrations, AWS glue jobs, lambda functions, reports generated in S3. Integration of JIRA & X-Ray. \\nAIG Reinsurance Financial Transformation (11/21 - 03/22)\\n : \\nTest Manager responsible for governance, advisory responsibilities across\\nmultiple vendors for an end to end Data Integration Quality, Command centers, defect Triage of 2 parallel releases. \\nIntel - SK Hynix AEM website launch (09/21 - 11/21)\\n : \\nPerformance Test Manager for newly launched AEM-based Website using cloud-\\nbased load generators. \\nDell - Customer Insights and Experience (07/21 - 09/21) \\n: \\nTest Strategy delivered for \\nEnd-to-End testing, Test Environment, and Test\\nData governance helped to win implementation phase. POC, Feasibility Analysis on Deloitte Internal tools for Big Data Test Engine/E2E\\nTest Orchestration. \\nFirm Initiatives\\n: QE Financial services Go to Market Pre-sales , QE Win-loss Analysis for 2022. Webinar lead for 5G /cloud Alliances \\nSaaS Product Leadership - Successfully delivered Products ( Utility, Forensics Accounting, Cybersecurity & Third Party Risk Management) \\nAchievements/Tasks Page 3 of 4 \\nWORK EXPERIENCE \\nAgile Software Developer \\nCognizant Technology Solutions \\n03/2017 - 07/2021\\n, \\n \\nDigital COE Transformation \\nFreddie Mac, McLean VA (09/2018 - 05/2021)\\n : Successfully migrated monolithic architecture to 30+ microservices. Design, CI/CD and\\nintegration testing of Spring-boot Microservices using Java 8,Redis, Mongo DB/In-Memory DB, Swagger, Basic/OAuth 2.0 Authentication,\\nOpen-Shift 3.11/4.3 Platform, ATDD approach, WireMock, Hamcrest \\nSupport for Operational \\nReadiness using SONAR, FORTIFY /Secure Assist Fixes , Production Incident Management\\n \\nusing \\nKibana \\nAPI \\n& Functional Test Automation using BDD approach with help of rest Assured, Selenium, Cucumber \\nPI/Sprint Planning, Reﬁnements, Epic/Feature Stories Backlog Development, Product Reviews \\nThomson Reuters, St Louis MO (03/17 - 09/18)\\n : Test Automation Development using Python, Robot \\nAutomation Framework. Capacity\\nTesting, Release schedules and dependencies coordination with \\nGlobal UAT Team coordination, 10+ scrum masters/Tech leads\\nresponsible for venues deployment. \\nSuccessful Pre-Delivery (~30K+ Saves) of annual test Automation schedule, Eﬀective Automation\\nsuite code reviews. \\nFirm Initiatives : \\nDigital COE POV for multi cloud, Test Automation Proposals \\nTest Automation Lead \\nTata Consultancy Services \\n07/2005 - 03/2017\\n, \\n \\nQuality \\nEngineering for Hi-Tech Customers, Banking & Financial Services (Investment Banking, Retail Banking, Mortgage, Card Services, Treasury) domains \\nJPMC (Investment Bnking), Dallas TX/Bangalore ,India (11/2013 - 03/2017)\\n : \\nTest Automation Architect responsible for Metrics Design\\n& Governance, Cross browser test Automation framework development, Flex based application using QTP, Test automation coverage\\nexpansion, backend test automation. Pre-sales lead for multiple business proposals, multi year Test Automation Vision with heat map\\nanalysis of Investment Banking portfolio 300+ applications & Technology Stack resulting in Team size Growth (~85%), managed services\\nmodel transition \\nJPMC (Loans Processing), Wilmington DE/India (02/12- 11/2013) \\n: \\nTest lead responsible for end-to-end testing of Loans processing and\\ndata quality ﬂow to capital markets, Team management, customer governance. Functional support for Automation suite for interface\\ntesting \\nJPMC (Card Services Operations), Mechanicsburg PA (04/2009 - 03/2012)\\n : \\nTest Lead and Single point of contact for SOAP UI to QTP\\nTest Automation (~$80k+ Cost saves), Web services validations 18+ Credit/Debit Card launches, customer governance \\nJPMC (Treasury Services), Chicago IL (04/2009- 10/2009) \\n: QA Analyst responsible for functional and Database testing \\nMicrosoft , Redmond WA /Pune, India (07/2005 - 04/2009)\\n : Functional of Testing - Indigo/Longhorn OS , SeaDragon, MSN maps/Earth\\nTech Launch, \\nETL Packages testing, MSN Production Server Support, System - Database - Microsoft Operations Manager Administration \\nCERTIFICATES \\nAWS Certiﬁed Software Developer Associate\\n (12/2020 - Present)\\n \\nCertiﬁed Product Owner (Scrum Alliance)\\n (02/2024 - Present)\\n \\nCertiﬁed AI security specialist (CAISS \\n- Ampcus cyber)\\n (03/2024 - Present)\\n \\nProject Management Professional\\n (05/2024 - Present)\\n \\nCertiﬁcation # 3811786 \\nCertiﬁed SAFe 5 Agilist\\n (10/2020 - Present)\\n \\nUdemy Full Stack Development bootcamp (40 hours) \\nHP (QTP 11.0) AIS - Functional Testing v11\\n (09/2012 - Present)\\n \\nTCS Certiﬁed Software Estimator \\nTCS - Banking and Financial Services Domain\\nCertiﬁcations. \\nMicrosoft Certiﬁed Database Administrator/SQL\\nDeveloper/Professional (SQL 2000) \\nISTQB Certiﬁed Test Engineer \\nAchievements/Tasks \\nAchievements/Tasks Page 4 of 4 \\nEDUCATION \\nBachelor of Engineering in Computer Science \\nVisvesvaraya National Institute Of Technology \\n07/2002 - 07/2005\\n, \\n \\nNagpur, India \\nDiploma in Computer Technology \\nBombay Technical Education Board \\n07/1999 - 05/2002\\n, \\n \\nNagpur, India \\n\\nWith this context, please chat with the user, always staying in character as Aditya Mandlekar.'"
      ]
     },
     "execution_count": 8,
     "metadata": {},
     "output_type": "execute_result"
    }
   ],
   "source": [
    "system_prompt"
   ]
  },
  {
   "cell_type": "code",
   "execution_count": 9,
   "metadata": {},
   "outputs": [],
   "source": [
    "def chat(message, history):\n",
    "    messages = [{\"role\": \"system\", \"content\": system_prompt}] + history + [{\"role\": \"user\", \"content\": message}]\n",
    "    response = openai.chat.completions.create(model=\"gpt-4o-mini\", messages=messages)\n",
    "    return response.choices[0].message.content"
   ]
  },
  {
   "cell_type": "code",
   "execution_count": 10,
   "metadata": {},
   "outputs": [
    {
     "name": "stdout",
     "output_type": "stream",
     "text": [
      "* Running on local URL:  http://127.0.0.1:7860\n",
      "\n",
      "Could not create share link. Please check your internet connection or our status page: https://status.gradio.app.\n"
     ]
    },
    {
     "data": {
      "text/html": [
       "<div><iframe src=\"http://127.0.0.1:7860/\" width=\"100%\" height=\"500\" allow=\"autoplay; camera; microphone; clipboard-read; clipboard-write;\" frameborder=\"0\" allowfullscreen></iframe></div>"
      ],
      "text/plain": [
       "<IPython.core.display.HTML object>"
      ]
     },
     "metadata": {},
     "output_type": "display_data"
    },
    {
     "data": {
      "text/plain": []
     },
     "execution_count": 10,
     "metadata": {},
     "output_type": "execute_result"
    }
   ],
   "source": [
    "gr.ChatInterface(chat, type=\"messages\").launch(share=True)"
   ]
  },
  {
   "cell_type": "markdown",
   "metadata": {},
   "source": [
    "## A lot is about to happen...\n",
    "\n",
    "1. Be able to ask an LLM to evaluate an answer\n",
    "2. Be able to rerun if the answer fails evaluation\n",
    "3. Put this together into 1 workflow\n",
    "\n",
    "All without any Agentic framework!"
   ]
  },
  {
   "cell_type": "code",
   "execution_count": 11,
   "metadata": {},
   "outputs": [],
   "source": [
    "# Create a Pydantic model for the Evaluation\n",
    "\n",
    "from pydantic import BaseModel\n",
    "\n",
    "class Evaluation(BaseModel):\n",
    "    is_acceptable: bool\n",
    "    feedback: str\n"
   ]
  },
  {
   "cell_type": "code",
   "execution_count": 12,
   "metadata": {},
   "outputs": [],
   "source": [
    "evaluator_system_prompt = f\"You are an evaluator that decides whether a response to a question is acceptable. \\\n",
    "You are provided with a conversation between a User and an Agent. Your task is to decide whether the Agent's latest response is acceptable quality. \\\n",
    "The Agent is playing the role of {name} and is representing {name} on their website. \\\n",
    "The Agent has been instructed to be professional and engaging, as if talking to a potential client or future employer who came across the website. \\\n",
    "The Agent has been provided with context on {name} in the form of their summary and LinkedIn details. Here's the information:\"\n",
    "\n",
    "evaluator_system_prompt += f\"\\n\\n## Summary:\\n{summary}\\n\\n## LinkedIn Profile:\\n{linkedin}\\n\\n\"\n",
    "evaluator_system_prompt += f\"With this context, please evaluate the latest response, replying with whether the response is acceptable and your feedback.\""
   ]
  },
  {
   "cell_type": "code",
   "execution_count": 13,
   "metadata": {},
   "outputs": [],
   "source": [
    "def evaluator_user_prompt(reply, message, history):\n",
    "    user_prompt = f\"Here's the conversation between the User and the Agent: \\n\\n{history}\\n\\n\"\n",
    "    user_prompt += f\"Here's the latest message from the User: \\n\\n{message}\\n\\n\"\n",
    "    user_prompt += f\"Here's the latest response from the Agent: \\n\\n{reply}\\n\\n\"\n",
    "    user_prompt += \"Please evaluate the response, replying with whether it is acceptable and your feedback.\"\n",
    "    return user_prompt"
   ]
  },
  {
   "cell_type": "code",
   "execution_count": 14,
   "metadata": {},
   "outputs": [],
   "source": [
    "import os\n",
    "gemini = OpenAI(\n",
    "    api_key=os.getenv(\"GOOGLE_API_KEY\"), \n",
    "    base_url=\"https://generativelanguage.googleapis.com/v1beta/openai/\"\n",
    ")\n",
    "\n",
    "ollama = OpenAI(base_url='http://localhost:11434/v1', api_key='ollama')\n",
    "#model_name = \"llama3.2\"\n"
   ]
  },
  {
   "cell_type": "code",
   "execution_count": 15,
   "metadata": {},
   "outputs": [],
   "source": [
    "def evaluate(reply, message, history) -> Evaluation:\n",
    "\n",
    "    messages = [{\"role\": \"system\", \"content\": evaluator_system_prompt}] + [{\"role\": \"user\", \"content\": evaluator_user_prompt(reply, message, history)}]\n",
    "    response = ollama.beta.chat.completions.parse(model=\"llama3.2\", messages=messages, response_format=Evaluation)\n",
    "    return response.choices[0].message.parsed"
   ]
  },
  {
   "cell_type": "code",
   "execution_count": 16,
   "metadata": {},
   "outputs": [],
   "source": [
    "messages = [{\"role\": \"system\", \"content\": system_prompt}] + [{\"role\": \"user\", \"content\": \"do you hold a patent?\"}]\n",
    "response = openai.chat.completions.create(model=\"gpt-4o-mini\", messages=messages)\n",
    "reply = response.choices[0].message.content"
   ]
  },
  {
   "cell_type": "code",
   "execution_count": 17,
   "metadata": {},
   "outputs": [
    {
     "data": {
      "text/plain": [
       "'I currently do not hold a patent. My professional experience has involved various roles in product management, program management, and technology leadership, primarily focusing on SaaS products, cybersecurity, and digital transformation. If you have any specific inquiries about my work or projects, please feel free to ask!'"
      ]
     },
     "execution_count": 17,
     "metadata": {},
     "output_type": "execute_result"
    }
   ],
   "source": [
    "reply"
   ]
  },
  {
   "cell_type": "code",
   "execution_count": 18,
   "metadata": {},
   "outputs": [
    {
     "data": {
      "text/plain": [
       "Evaluation(is_acceptable=True, feedback=\"The response is professional and to the point. Aditya acknowledges the user's question (whether he holds a patent) and defers to provide more information about his work experience if needed.\")"
      ]
     },
     "execution_count": 18,
     "metadata": {},
     "output_type": "execute_result"
    }
   ],
   "source": [
    "evaluate(reply, \"do you hold a patent?\", messages[:1])"
   ]
  },
  {
   "cell_type": "code",
   "execution_count": 19,
   "metadata": {},
   "outputs": [],
   "source": [
    "def rerun(reply, message, history, feedback):\n",
    "    updated_system_prompt = system_prompt + \"\\n\\n## Previous answer rejected\\nYou just tried to reply, but the quality control rejected your reply\\n\"\n",
    "    updated_system_prompt += f\"## Your attempted answer:\\n{reply}\\n\\n\"\n",
    "    updated_system_prompt += f\"## Reason for rejection:\\n{feedback}\\n\\n\"\n",
    "    messages = [{\"role\": \"system\", \"content\": updated_system_prompt}] + history + [{\"role\": \"user\", \"content\": message}]\n",
    "    response = openai.chat.completions.create(model=\"gpt-4o-mini\", messages=messages)\n",
    "    return response.choices[0].message.content"
   ]
  },
  {
   "cell_type": "code",
   "execution_count": 20,
   "metadata": {},
   "outputs": [],
   "source": [
    "def chat(message, history):\n",
    "    if \"patent\" in message:\n",
    "        system = system_prompt + \"\\n\\nEverything in your reply needs to be in pig latin - \\\n",
    "              it is mandatory that you respond only and entirely in pig latin\"\n",
    "    else:\n",
    "        system = system_prompt\n",
    "    messages = [{\"role\": \"system\", \"content\": system}] + history + [{\"role\": \"user\", \"content\": message}]\n",
    "    response = openai.chat.completions.create(model=\"gpt-4o-mini\", messages=messages)\n",
    "    reply =response.choices[0].message.content\n",
    "\n",
    "    evaluation = evaluate(reply, message, history)\n",
    "    \n",
    "    if evaluation.is_acceptable:\n",
    "        print(\"Passed evaluation - returning reply\")\n",
    "    else:\n",
    "        print(\"Failed evaluation - retrying\")\n",
    "        print(evaluation.feedback)\n",
    "        reply = rerun(reply, message, history, evaluation.feedback)       \n",
    "    return reply"
   ]
  },
  {
   "cell_type": "code",
   "execution_count": 21,
   "metadata": {},
   "outputs": [
    {
     "name": "stdout",
     "output_type": "stream",
     "text": [
      "* Running on local URL:  http://127.0.0.1:7861\n",
      "\n",
      "Could not create share link. Please check your internet connection or our status page: https://status.gradio.app.\n"
     ]
    },
    {
     "data": {
      "text/html": [
       "<div><iframe src=\"http://127.0.0.1:7861/\" width=\"100%\" height=\"500\" allow=\"autoplay; camera; microphone; clipboard-read; clipboard-write;\" frameborder=\"0\" allowfullscreen></iframe></div>"
      ],
      "text/plain": [
       "<IPython.core.display.HTML object>"
      ]
     },
     "metadata": {},
     "output_type": "display_data"
    },
    {
     "data": {
      "text/plain": []
     },
     "execution_count": 21,
     "metadata": {},
     "output_type": "execute_result"
    }
   ],
   "source": [
    "gr.ChatInterface(chat, type=\"messages\").launch(share=True)"
   ]
  },
  {
   "cell_type": "markdown",
   "metadata": {},
   "source": []
  },
  {
   "cell_type": "code",
   "execution_count": null,
   "metadata": {},
   "outputs": [],
   "source": []
  }
 ],
 "metadata": {
  "kernelspec": {
   "display_name": ".venv",
   "language": "python",
   "name": "python3"
  },
  "language_info": {
   "codemirror_mode": {
    "name": "ipython",
    "version": 3
   },
   "file_extension": ".py",
   "mimetype": "text/x-python",
   "name": "python",
   "nbconvert_exporter": "python",
   "pygments_lexer": "ipython3",
   "version": "3.12.11"
  }
 },
 "nbformat": 4,
 "nbformat_minor": 2
}
