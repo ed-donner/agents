{
 "cells": [
  {
   "cell_type": "markdown",
   "id": "913642ed",
   "metadata": {},
   "source": [
    "<h1>Using Multi Agent system for creating React app</h1>"
   ]
  },
  {
   "cell_type": "code",
   "execution_count": 1,
   "id": "deb297e4",
   "metadata": {},
   "outputs": [
    {
     "data": {
      "text/plain": [
       "True"
      ]
     },
     "execution_count": 1,
     "metadata": {},
     "output_type": "execute_result"
    }
   ],
   "source": [
    "# Import environment variables\n",
    "from dotenv import load_dotenv\n",
    "load_dotenv(override=True)"
   ]
  },
  {
   "cell_type": "code",
   "execution_count": null,
   "id": "70a6cd59",
   "metadata": {},
   "outputs": [
    {
     "ename": "ModuleNotFoundError",
     "evalue": "No module named 'agent_instructions'",
     "output_type": "error",
     "traceback": [
      "\u001b[31m---------------------------------------------------------------------------\u001b[39m",
      "\u001b[31mModuleNotFoundError\u001b[39m                       Traceback (most recent call last)",
      "\u001b[36mCell\u001b[39m\u001b[36m \u001b[39m\u001b[32mIn[3]\u001b[39m\u001b[32m, line 1\u001b[39m\n\u001b[32m----> \u001b[39m\u001b[32m1\u001b[39m \u001b[38;5;28;01mimport\u001b[39;00m\u001b[38;5;250m \u001b[39m\u001b[34;01magent_instructions\u001b[39;00m \n\u001b[32m      2\u001b[39m \u001b[38;5;28;01mfrom\u001b[39;00m\u001b[38;5;250m \u001b[39m\u001b[34;01magents\u001b[39;00m\u001b[38;5;250m \u001b[39m\u001b[38;5;28;01mimport\u001b[39;00m Agent, Runner, trace, function_tool\n\u001b[32m      3\u001b[39m \u001b[38;5;28;01mfrom\u001b[39;00m\u001b[38;5;250m \u001b[39m\u001b[34;01mopenai\u001b[39;00m\u001b[34;01m.\u001b[39;00m\u001b[34;01mtypes\u001b[39;00m\u001b[34;01m.\u001b[39;00m\u001b[34;01mresponses\u001b[39;00m\u001b[38;5;250m \u001b[39m\u001b[38;5;28;01mimport\u001b[39;00m ResponseTextDeltaEvent\n",
      "\u001b[31mModuleNotFoundError\u001b[39m: No module named 'agent_instructions'"
     ]
    }
   ],
   "source": [
    "\n",
    "from agents import Agent, Runner, trace, function_tool\n",
    "from openai.types.responses import ResponseTextDeltaEvent\n",
    "from typing import Dict\n",
    "import json\n",
    "import asyncio\n",
    "from IPython.display import display, Markdown"
   ]
  },
  {
   "cell_type": "code",
   "execution_count": null,
   "id": "5e04651b",
   "metadata": {},
   "outputs": [],
   "source": [
    "ideator_instructions = \"\"\" \n",
    "You are an expert Software developer. You're solving the next big user problems\n",
    "for small business. Discover the next big pain points for small businesses. Come up with a list of \n",
    "5 innovative ideas that can be solved with React app, using Agentic AI. Rate each idea based on \n",
    "its potential impact on solving user problems and its feasibility for development. Respond \n",
    "with only a JSON, each containing the following fields:\n",
    "- idea: A short description of the idea. \n",
    "- impact: A rating from 1-10 on solving user problems.\n",
    "- cost: A rating from 1-10 on the cost for user to use the app.\n",
    "\"\"\""
   ]
  },
  {
   "cell_type": "code",
   "execution_count": null,
   "id": "45c5c194",
   "metadata": {},
   "outputs": [],
   "source": [
    "# This Agent comes up with innovative ideas,to solve problems for small business.\n",
    "thinker_agent = Agent(\n",
    "    name=\"Ideator\",\n",
    "    instructions=ideator_instructions,\n",
    "    model=\"gpt-4o\",\n",
    "    handoff_description=\"Select the best idea from the list\"\n",
    ")"
   ]
  },
  {
   "cell_type": "code",
   "execution_count": null,
   "id": "d58bb603",
   "metadata": {},
   "outputs": [],
   "source": [
    "# Idea Selector Agent selects the best idea from the list, based on solving user's problems and cost considerations.\n",
    "idea_selector = Agent(\n",
    "    name=\"Idea Selector\",\n",
    "    instructions=f\"You select the best idea from {thinker_agent} list, based on solving user problems and cost to user.\",\n",
    "    model=\"gpt-4o-mini\",\n",
    "    handoffs=\n",
    ")\n"
   ]
  },
  {
   "cell_type": "code",
   "execution_count": null,
   "id": "6decda11",
   "metadata": {},
   "outputs": [],
   "source": [
    "app_file_structure_instructions = f\"\"\"\n",
    "Create a detailed react app file structure for the idea selected by the Idea Selector agent.\n",
    "Respond with only a JSON, each containing the following fields:\n",
    "- directory: The directory in the project.\n",
    "    - filename: The name of the file in the project.\n",
    "    - file_type: The type of the file (e.g., .tsx, .js, .css, .json, etc.).\n",
    "        - content: empty string for now.\n",
    "    - purpose: The purpose of the file in the project.\n",
    "-components: All component files required for the project.\n",
    "-pages: All page files required for the project.\n",
    "-services: All service files required for the project.\n",
    "-utils: All utility files required for the project.\n",
    "-hooks: All custom hook files required for the project.\n",
    "-database: The database schema used in the project.\n",
    "    -schema: User schema and other necessary schemas.\n",
    "-API: The API used in the project.\n",
    "-Payment: The payment gateway used in the project, such as Stripe or PayPal.\n",
    "    - Monthly subscription or one-time payment.\n",
    "-authentication: The authentication method used in the project, such as OAuth.\n",
    "    - Social login options like Google, Facebook, etc.\n",
    "-dependencies: The dependencies required for the file.\n",
    "Make sure to include all necessary files and directories for a complete React application\n",
    "\n",
    "-Crucial:\n",
    "-Please include files package.json, tsconfig.json, .gitignore, public/index.html, src/index.tsx, and src/App.tsx.\n",
    "-Double check for any missing files or directories. \n",
    "-Double check all of the structures and files are included.\n",
    "\"\"\"\n",
    "\n",
    "file_structure_agent = Agent(\n",
    "    name=\"File Structure Creator\",\n",
    "    instructions=app_file_structure_instructions,\n",
    "    model=\"gpt-4o-mini\",\n",
    ")\n"
   ]
  },
  {
   "cell_type": "code",
   "execution_count": null,
   "id": "9d13ff14",
   "metadata": {},
   "outputs": [],
   "source": [
    "developer_instructions = \"\"\" \n",
    "You are an expert React developer. You will be provided with a file structure from File Structure Creator Agent,  for a React app.\n",
    "Your task is to generate the code for each file in the structure. You are provided with \n",
    "the tools to create files and write code to them.\n",
    "-Crucial:\n",
    "Please use tools to write the code to files. \n",
    "Divide the code, so each Agent can write 10% of the code from the file structure. \n",
    "Your job is to check the code written by the other Agents, and make sure the code is correct. \n",
    "If you find any issues with the code, fix them using the tools provided.\n",
    "You can also add comments to the code, to explain what the code is doing.\n",
    "\"\"\""
   ]
  },
  {
   "cell_type": "code",
   "execution_count": null,
   "id": "f6ea5b97",
   "metadata": {},
   "outputs": [],
   "source": [
    "developer_agent = Agent(\n",
    "    name=\"Code developer\",\n",
    "    instructions=developer_instructions,\n",
    "    model=\"gpt-4o-mini\",\n",
    ")    "
   ]
  },
  {
   "cell_type": "code",
   "execution_count": null,
   "id": "d2c16ef3",
   "metadata": {},
   "outputs": [],
   "source": [
    "message = \"Create a React app to solve the problems of small business.\"\n",
    "with trace('Parallel Multi-Agent React App Creator'):\n",
    "    results = await asyncio.gather(\n",
    "        Runner.run(thinker_agent,'Come up with innovative ideas for small business.'),\n",
    "        Runner.run(idea_selector,'Select the best idea from the list provided by the thinker agent.'),\n",
    "        Runner.run(file_structure_agent,'Create a detailed react app file structure for the selected idea.'),\n",
    "        Runner.run(developer_agent,'Write code for the login page of the app.'),\n",
    "    )\n",
    "    \n",
    "    outputs = [result.final_output for result in results]\n",
    "    \n",
    "    for output in outputs:\n",
    "        print(output)"
   ]
  },
  {
   "cell_type": "markdown",
   "id": "ca1c3fdc",
   "metadata": {},
   "source": [
    "Second version | \n",
    "Hierarchical Agents "
   ]
  },
  {
   "cell_type": "code",
   "execution_count": null,
   "id": "3b593c77",
   "metadata": {},
   "outputs": [],
   "source": [
    "thinker_instruction = \"\"\"Please come up with innovative ideas for small business, using Agentic AI.\n",
    "The ideas should focus on solving real world problems, with low cost to the user.\n",
    "Respond with only a JSON, each containing the following fields:\n",
    "- idea: A short description of the idea.\n",
    "- impact: A rating from 1-10 on solving user problems.\n",
    "- cost: A rating from 1-10 on the cost for user to use the app.\"\"\""
   ]
  },
  {
   "cell_type": "code",
   "execution_count": null,
   "id": "7733ca1a",
   "metadata": {},
   "outputs": [],
   "source": [
    "\n",
    "idea_selector_instruction = \"Please select the best idea from the list provided by the thinker agent.\"\n"
   ]
  },
  {
   "cell_type": "code",
   "execution_count": null,
   "id": "f338d916",
   "metadata": {},
   "outputs": [],
   "source": [
    "\n",
    "app_file_structure_instructions = \"\"\"Please create a detailed react app file structure for the idea selected by the Idea Selector agent. \n",
    "The file structure should include all necessary files and directories for a complete React applications.\n",
    "Also include files package.json, tsconfig.json, .gitignore, public/index.html, src/index.tsx, and src/App.tsx.\n",
    "Respond with only a JSON, each containing the following fields:\n",
    "- directory: The directory in the project.\n",
    "    - filename: The name of the file in the project.\n",
    "    - file_type: The type of the file (e.g., .tsx, .js, .css, .json, etc.).\n",
    "        - content: empty string for now.\n",
    "    - purpose: The purpose of the file in the project.\n",
    "-components: All component files required for the project.\n",
    "-pages: All page files required for the project.\n",
    "    * PageName.tsx: The main file for the page\n",
    "-services: All service files required for the project.\n",
    "-utils: All utility files required for the project.\n",
    "-hooks: All custom hook files required for the project.\n",
    "-database: The database schema used in the project.\n",
    "    -schema: User schema and other necessary schemas.\n",
    "-API: The API used in the project.\n",
    "-Payment: The payment gateway used in the project, such as Stripe or PayPal.\n",
    "    - Monthly subscription or one-time payment.\n",
    "-authentication: The authentication method used in the project, such as OAuth.\n",
    "    - Social login options like Google, Facebook, etc.\n",
    "-dependencies: The dependencies required for the file.\n",
    "Make sure to include all necessary files and directories for a complete React application.\n",
    "Double check for any missing files or directories. \n",
    "Double check all of the structures and files are included. \"\"\"\n"
   ]
  },
  {
   "cell_type": "code",
   "execution_count": null,
   "id": "71123476",
   "metadata": {},
   "outputs": [],
   "source": [
    "developer_instruction = \"\"\"Please write the code for the app file structure provided by the File Structure Creator agent.\n",
    "Create as many agents as needed to write the code for the entire file structure.\n",
    "Divide the code, so each Agent can write 10% of the code from the file structure.\n",
    "Your job is to check the code written by the other Agents, and make sure the code is correct.\n",
    "If you find any issues with the code, fix them.\n",
    "Respond with JSON each containing the following fields:\n",
    "AgentName: The name of the agent writing the code.\n",
    "FileName: The name of the file being written.\n",
    "DirectoryPath: The path of the directory where the file is will be saved.\n",
    "FileType: The type of the file being written.\n",
    "Code: The code written by the agent.\"\"\"\n",
    " "
   ]
  },
  {
   "cell_type": "code",
   "execution_count": null,
   "id": "17805a40",
   "metadata": {},
   "outputs": [],
   "source": [
    "\n",
    "developer_agent = Agent(\n",
    "    name=\"Directory Creator\",\n",
    "    instructions=app_file_structure_instructions,\n",
    "    model=\"gpt-4o-mini\",\n",
    ")\n",
    "streamed= \"\"\n",
    "results = Runner.run_streamed(developer_agent, developer_instruction)\n",
    "async for event in results.stream_events():\n",
    "    if event.type == \"raw_response_event\" and isinstance(event.data, ResponseTextDeltaEvent):\n",
    "        streamed += event.data.delta\n",
    "        #print(event.data.delta, end='', flush=True)"
   ]
  },
  {
   "cell_type": "code",
   "execution_count": null,
   "id": "27bbb559",
   "metadata": {},
   "outputs": [],
   "source": [
    "display(Markdown(streamed))"
   ]
  },
  {
   "cell_type": "code",
   "execution_count": null,
   "id": "7f428d65",
   "metadata": {},
   "outputs": [],
   "source": [
    "data = json.loads(streamed)\n",
    "print(data)"
   ]
  }
 ],
 "metadata": {
  "kernelspec": {
   "display_name": ".venv",
   "language": "python",
   "name": "python3"
  },
  "language_info": {
   "codemirror_mode": {
    "name": "ipython",
    "version": 3
   },
   "file_extension": ".py",
   "mimetype": "text/x-python",
   "name": "python",
   "nbconvert_exporter": "python",
   "pygments_lexer": "ipython3",
   "version": "3.12.2"
  }
 },
 "nbformat": 4,
 "nbformat_minor": 5
}
