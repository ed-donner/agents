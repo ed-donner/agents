{
 "cells": [
  {
   "cell_type": "markdown",
   "id": "913642ed",
   "metadata": {},
   "source": [
    "<h1>Using Multi Agent system for creating React app</h1>"
   ]
  },
  {
   "cell_type": "code",
   "execution_count": null,
   "id": "deb297e4",
   "metadata": {},
   "outputs": [],
   "source": [
    "# Import environment variables\n",
    "from dotenv import load_dotenv\n",
    "load_dotenv(override=True)"
   ]
  },
  {
   "cell_type": "code",
   "execution_count": 1,
   "id": "85cc9f57",
   "metadata": {},
   "outputs": [],
   "source": [
    "openai_model=\"gpt-4o-mini\"\n",
    "deepseek_model='deepseek-chat'"
   ]
  },
  {
   "cell_type": "code",
   "execution_count": null,
   "id": "70a6cd59",
   "metadata": {},
   "outputs": [],
   "source": [
    "\n",
    "from agents import Agent, Runner, trace, function_tool\n",
    "from openai.types.responses import ResponseTextDeltaEvent\n",
    "from agent_instructions import * \n",
    "from agent_tools import save_app_file_structure, create_app_file_structure\n",
    "from typing import Dict\n",
    "import os \n",
    "import json\n",
    "import asyncio\n",
    "from IPython.display import display, Markdown"
   ]
  },
  {
   "cell_type": "code",
   "execution_count": null,
   "id": "45c5c194",
   "metadata": {},
   "outputs": [],
   "source": [
    "# Innovator agent comes up with innovative ideas,to solve problems for small business.\n",
    "innovator_agent = Agent(\n",
    "    name=\"Innovator\",\n",
    "    instructions=innovator_instructions,\n",
    "    model=openai_model\n",
    ")"
   ]
  },
  {
   "cell_type": "code",
   "execution_count": null,
   "id": "d58bb603",
   "metadata": {},
   "outputs": [],
   "source": [
    "# Idea Selector Agent selects the best idea from the list, based on solving user's problems and cost considerations.\n",
    "idea_selector_agent = Agent(\n",
    "    name=\"Idea Selector\",\n",
    "    instructions=idea_selector_instructions,\n",
    "    model=openai_model\n",
    ")"
   ]
  },
  {
   "cell_type": "code",
   "execution_count": null,
   "id": "c9a3fcd3",
   "metadata": {},
   "outputs": [],
   "source": [
    "app_file_structure_agent = Agent(\n",
    "    name='App Structure Generator',\n",
    "    instructions=app_file_structure_instructions,\n",
    "    model=openai_model\n",
    ")"
   ]
  },
  {
   "cell_type": "code",
   "execution_count": null,
   "id": "e02c0571",
   "metadata": {},
   "outputs": [],
   "source": [
    "file_structure_evaluator_agent = Agent(\n",
    "    name='Evaluator',\n",
    "    instructions=file_structure_evaluator_instructions,\n",
    "    model=openai_model,\n",
    "    tool=save_app_file_structure\n",
    ")"
   ]
  },
  {
   "cell_type": "code",
   "execution_count": null,
   "id": "ba326dfd",
   "metadata": {},
   "outputs": [],
   "source": [
    "component_agent = Agent(\n",
    "    name='Component Generator',\n",
    "    instructions=components_instructions,\n",
    "    model=openai_model\n",
    ")"
   ]
  },
  {
   "cell_type": "code",
   "execution_count": null,
   "id": "53823151",
   "metadata": {},
   "outputs": [],
   "source": [
    "page_creator_agent = Agent(\n",
    "    name='Page Generator',\n",
    "    instructions=pages_instructions,\n",
    "    model=openai_model\n",
    ")"
   ]
  },
  {
   "cell_type": "code",
   "execution_count": null,
   "id": "6d704fda",
   "metadata": {},
   "outputs": [],
   "source": [
    "hooks_creator_agent = Agent(\n",
    "    name='Hooks Generator',\n",
    "    instructions=hooks_instructions,\n",
    "    model=openai_model\n",
    ")"
   ]
  },
  {
   "cell_type": "code",
   "execution_count": null,
   "id": "3ff4d372",
   "metadata": {},
   "outputs": [],
   "source": [
    "database_creator_agent = Agent(\n",
    "    name='Database Designer',\n",
    "    instructions=database_instructions,\n",
    "    model=openai_model\n",
    ")"
   ]
  },
  {
   "cell_type": "code",
   "execution_count": null,
   "id": "e2c0bed6",
   "metadata": {},
   "outputs": [],
   "source": [
    "api_creator_agent = Agent(\n",
    "    name='API Generator',\n",
    "    instructions=api_instructions,\n",
    "    model=openai_model\n",
    ")"
   ]
  },
  {
   "cell_type": "code",
   "execution_count": null,
   "id": "97a45ee1",
   "metadata": {},
   "outputs": [],
   "source": [
    "dependencies_generator_agent = Agent(\n",
    "    name='Dependency Generator',\n",
    "    instructions=dependencies_instructions,\n",
    "    model=openai_model\n",
    ")"
   ]
  },
  {
   "cell_type": "code",
   "execution_count": null,
   "id": "6e192e59",
   "metadata": {},
   "outputs": [],
   "source": [
    "payment_handling_agent = Agent(\n",
    "    name='Payment Handler',\n",
    "    instructions=payment_instructions,\n",
    "    model=openai_model\n",
    ")"
   ]
  },
  {
   "cell_type": "code",
   "execution_count": null,
   "id": "d09a3c4b",
   "metadata": {},
   "outputs": [],
   "source": [
    "tester_agent = Agent(\n",
    "    name='QA Tester',\n",
    "    instructions=tester_instructions,\n",
    "    model=openai_model\n",
    ")"
   ]
  },
  {
   "cell_type": "code",
   "execution_count": null,
   "id": "47f7dc7e",
   "metadata": {},
   "outputs": [],
   "source": [
    "innovator_agent.handoffs = idea_selector_agent\n",
    "innovator_agent.handoff_description=\"Please select the best idea from the list of ideas.\"\n",
    "\n",
    "idea_selector_agent.handoffs= app_file_structure_agent\n",
    "idea_selector_agent.handoff_description=\"Please create a react app files structure for the selected idea.\"\n",
    "\n",
    "app_file_structure_agent.handoffs=file_structure_evaluator_agent\n",
    "app-file_structure_evaluator_agent.instructions=\"Please evaluate the file structure for the selected idea.\"\n"
   ]
  },
  {
   "cell_type": "code",
   "execution_count": null,
   "id": "aa5381f2",
   "metadata": {},
   "outputs": [],
   "source": [
    "# Tools for developer agent\n",
    "component_agent.as_tool(tool_name='Component Generator', tool_description=\"Use this tool to assist in writing components source code for the page directory in the file structure\")\n",
    "page_creator_agent.as_tool(tool_name='Page Generator', tool_description='Use this tool to assist in writing the source code for the the page directory in the file structure')\n",
    "hooks_creator_agent.as_tool(tool_name='Hooks Creator', tool_description='Use this tool to assist in writing the hooks source code for the hooks directory in the file structure ')\n",
    "database_creator_agent.as_tool(tool_name='Database Designer', tool_description='Use this tool to assist in designing the database schema for the app file structure')\n",
    "dependencies_generator_agent.as_tool(tool_name='Dependency Generator', tool_description='Use this tool to assist in writing the dependencies for the file structure')\n",
    "api_creator_agent.as_tool(tool_name='API Generator', tool_description='Use this tool to assist in writing the source code for the api section in the file structure ')\n",
    "payment_handling_agent.as_tool(tool_name='Payment Handler', tool_description='Use this tool to assist in writing the source code for setting up payment in the app file structure')\n",
    "tester_agent.as_tool(tool_name='QA Tester', tool_description='Use this tool to assist you testing all the source code.')\n"
   ]
  },
  {
   "cell_type": "code",
   "execution_count": null,
   "id": "1f506451",
   "metadata": {},
   "outputs": [],
   "source": [
    "# Tools for the developer agent\n",
    "tools = [\n",
    "    component_agent,\n",
    "    page_creator_agent,\n",
    "    hooks_creator_agent,\n",
    "    database_creator_agent,\n",
    "    dependencies_generator_agent,\n",
    "    api_creator_agent,\n",
    "    payment_handling_agent,\n",
    "    tester_agent,\n",
    "    save_app_file_structure,\n",
    "    create_app_file_structure\n",
    "]"
   ]
  },
  {
   "cell_type": "code",
   "execution_count": null,
   "id": "dcf4c000",
   "metadata": {},
   "outputs": [],
   "source": [
    "developer_agent = Agent(\n",
    "    name='Developer', \n",
    "    instructions=developer_instructions,\n",
    "    model=openai_model,\n",
    "    tools=tools\n",
    ")"
   ]
  },
  {
   "cell_type": "code",
   "execution_count": null,
   "id": "d2c16ef3",
   "metadata": {},
   "outputs": [],
   "source": [
    "message = \"Create a React app to solve the problems of small business.\"\n",
    "with trace('Parallel Multi-Agent React App Creator'):\n",
    "    results = await asyncio.gather(\n",
    "        Runner.run(thinker_agent,'Come up with innovative ideas for small business.'),\n",
    "        Runner.run(idea_selector,'Select the best idea from the list provided by the thinker agent.'),\n",
    "        Runner.run(file_structure_agent,'Create a detailed react app file structure for the selected idea.'),\n",
    "        Runner.run(developer_agent,'Write code for the login page of the app.'),\n",
    "    )\n",
    "    \n",
    "    outputs = [result.final_output for result in results]\n",
    "    \n",
    "    for output in outputs:\n",
    "        print(output)"
   ]
  },
  {
   "cell_type": "markdown",
   "id": "ca1c3fdc",
   "metadata": {},
   "source": [
    "Second version | \n",
    "Hierarchical Agents "
   ]
  },
  {
   "cell_type": "code",
   "execution_count": null,
   "id": "17805a40",
   "metadata": {},
   "outputs": [],
   "source": [
    "\n",
    "developer_agent = Agent(\n",
    "    name=\"Directory Creator\",\n",
    "    instructions=app_file_structure_instructions,\n",
    "    model=\"gpt-4o-mini\",\n",
    ")\n",
    "streamed= \"\"\n",
    "results = Runner.run_streamed(developer_agent, developer_instruction)\n",
    "async for event in results.stream_events():\n",
    "    if event.type == \"raw_response_event\" and isinstance(event.data, ResponseTextDeltaEvent):\n",
    "        streamed += event.data.delta\n",
    "        #print(event.data.delta, end='', flush=True)"
   ]
  },
  {
   "cell_type": "code",
   "execution_count": null,
   "id": "27bbb559",
   "metadata": {},
   "outputs": [],
   "source": [
    "display(Markdown(streamed))"
   ]
  },
  {
   "cell_type": "code",
   "execution_count": null,
   "id": "7f428d65",
   "metadata": {},
   "outputs": [],
   "source": [
    "data = json.loads(streamed)\n",
    "print(data)"
   ]
  }
 ],
 "metadata": {
  "kernelspec": {
   "display_name": ".venv",
   "language": "python",
   "name": "python3"
  },
  "language_info": {
   "codemirror_mode": {
    "name": "ipython",
    "version": 3
   },
   "file_extension": ".py",
   "mimetype": "text/x-python",
   "name": "python",
   "nbconvert_exporter": "python",
   "pygments_lexer": "ipython3",
   "version": "3.12.2"
  }
 },
 "nbformat": 4,
 "nbformat_minor": 5
}
