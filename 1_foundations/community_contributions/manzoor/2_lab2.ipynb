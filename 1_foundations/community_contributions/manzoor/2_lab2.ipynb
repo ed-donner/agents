{
 "cells": [
  {
   "cell_type": "markdown",
   "id": "170cd80a",
   "metadata": {},
   "source": [
    "## Week 1, Lab2, Using Multi Models react App\n",
    "We'll use models to come with best idea, and then create app file structure for the selected idea."
   ]
  },
  {
   "cell_type": "code",
   "execution_count": null,
   "id": "a54fbbfb",
   "metadata": {},
   "outputs": [],
   "source": [
    "# The imports\n",
    "import os\n",
    "import json\n",
    "from dotenv import load_dotenv\n",
    "from openai import OpenAI\n",
    "from IPython.display import Markdown, display"
   ]
  },
  {
   "cell_type": "code",
   "execution_count": null,
   "id": "a2191eb6",
   "metadata": {},
   "outputs": [],
   "source": [
    "# Let's not forget \n",
    "load_dotenv(override=True)"
   ]
  },
  {
   "cell_type": "code",
   "execution_count": null,
   "id": "dd0751b1",
   "metadata": {},
   "outputs": [],
   "source": [
    "OPENAI_API_KEY= os.getenv('OPENAI_API_KEY')\n",
    "DEEPSEEK_API_KEY=os.getenv('DEEPSEEK_API_KEY')\n",
    "\n",
    "if OPENAI_API_KEY:\n",
    "    print(f'OpenAI: {OPENAI_API_KEY[:5]} *** {OPENAI_API_KEY[-5:]}')\n",
    "else:\n",
    "    print('OpenAI key is not set!')\n",
    "if DEEPSEEK_API_KEY:\n",
    "    print(f'Deepseek:{DEEPSEEK_API_KEY[:5]} *** {DEEPSEEK_API_KEY[-5:]}')\n",
    "else:\n",
    "    print('Deepseek api key is not set!')\n"
   ]
  },
  {
   "cell_type": "code",
   "execution_count": null,
   "id": "b6557f35",
   "metadata": {},
   "outputs": [],
   "source": [
    "request_ideas = \"\"\"You always come up with best ideas for small businesses. You use Agentic AI \n",
    "to solve emerging problems in this area. Please come with 5 ideas that can help small businesses solve their problems \n",
    "with Agents. List the idea based on the following:\n",
    "- Business Pain points: rate from 1-10 on how this idea can solve small business problems.\n",
    "- Time Saving: rate from 1-10 on how much it saves.\n",
    "- Cost: rate from 1-10 on how much the cost for the business.\n",
    "- Training: rate from 1-10 now how quick the user can use the app. \n",
    "\n",
    "Sort the ideas by ratings, and respond with the best one first in list. \n",
    "- \"\"\""
   ]
  },
  {
   "cell_type": "code",
   "execution_count": null,
   "id": "8cfb7402",
   "metadata": {},
   "outputs": [],
   "source": [
    "messages= [{\"role\": \"user\", \"content\" :request_ideas}]"
   ]
  },
  {
   "cell_type": "code",
   "execution_count": null,
   "id": "b77f7912",
   "metadata": {},
   "outputs": [],
   "source": [
    "agents = []\n",
    "ideas = []"
   ]
  },
  {
   "cell_type": "code",
   "execution_count": null,
   "id": "dc38be29",
   "metadata": {},
   "outputs": [],
   "source": [
    "openai = OpenAI()\n",
    "model_name = 'gpt-4o-mini'\n",
    "\n",
    "response = openai.chat.completions.create(\n",
    "    model=model_name, \n",
    "    messages=messages,\n",
    ")\n",
    "\n",
    "idea = response.choices[0].message.content\n",
    "\n",
    "display(Markdown(idea))\n",
    "agents.append(model_name)\n",
    "ideas.append(idea)\n"
   ]
  },
  {
   "cell_type": "code",
   "execution_count": null,
   "id": "0e3dbe7b",
   "metadata": {},
   "outputs": [],
   "source": [
    "client = OpenAI(api_key=DEEPSEEK_API_KEY,base_url='https://api.deepseek.com')\n",
    "deepseek_model_name = 'deepseek-chat'\n",
    "\n",
    "request = client.chat.completions.create(\n",
    "    model=deepseek_model_name,\n",
    "    messages=messages,\n",
    ")\n",
    "deep_response = request.choices[0].message.content\n"
   ]
  },
  {
   "cell_type": "code",
   "execution_count": null,
   "id": "8764c909",
   "metadata": {},
   "outputs": [],
   "source": [
    "\n",
    "display(Markdown(deep_response))\n",
    "agents.append(deepseek_model_name)\n",
    "ideas.append(deep_response)"
   ]
  },
  {
   "cell_type": "code",
   "execution_count": null,
   "id": "1a211915",
   "metadata": {},
   "outputs": [],
   "source": [
    "print(agents)\n",
    "print(ideas)"
   ]
  },
  {
   "cell_type": "code",
   "execution_count": null,
   "id": "441458ea",
   "metadata": {},
   "outputs": [],
   "source": [
    "for agent, idea in zip(agents,ideas):\n",
    "    print(f\"Competitors: {agent}\\n\\n Ideas: {idea}\")"
   ]
  },
  {
   "cell_type": "code",
   "execution_count": null,
   "id": "01feaa46",
   "metadata": {},
   "outputs": [],
   "source": [
    "print(agents)\n",
    "print(ideas)"
   ]
  },
  {
   "cell_type": "code",
   "execution_count": null,
   "id": "bb98f13a",
   "metadata": {},
   "outputs": [],
   "source": [
    "together = \"\"\n",
    "for index, answer in enumerate(ideas):\n",
    "    together += f\"# Response from competitor {index+1}\\n\\n\"\n",
    "    together += answer + \"\\n\\n\""
   ]
  },
  {
   "cell_type": "code",
   "execution_count": null,
   "id": "9ba01606",
   "metadata": {},
   "outputs": [],
   "source": [
    "print(together)"
   ]
  },
  {
   "cell_type": "code",
   "execution_count": null,
   "id": "bc08e1eb",
   "metadata": {},
   "outputs": [],
   "source": [
    "judge = f\"\"\"You're a judging a competition between {len(agents)}) competitors.\n",
    "each model has given this \n",
    "\n",
    "{request_ideas}\n",
    "\n",
    "and here is the response from each competitor.\n",
    "\n",
    "{together}\n",
    "Your job is to evaluate each response for the best idea, and select the best idea \n",
    "list the selected idea and the competitor, nothing more.\n",
    "\n",
    "\"\"\""
   ]
  },
  {
   "cell_type": "code",
   "execution_count": null,
   "id": "5c31ede3",
   "metadata": {},
   "outputs": [],
   "source": [
    "print(judge)"
   ]
  },
  {
   "cell_type": "code",
   "execution_count": null,
   "id": "a5cab0f1",
   "metadata": {},
   "outputs": [],
   "source": [
    "judge_message =[{\"role\":\"user\", \"content\":judge}]"
   ]
  },
  {
   "cell_type": "code",
   "execution_count": null,
   "id": "d1f91147",
   "metadata": {},
   "outputs": [],
   "source": [
    "# Judgement time \n",
    "judge_response = openai.chat.completions.create(\n",
    "    messages=judge_message,\n",
    "    model='gpt-4o-mini'\n",
    ")\n",
    "results = judge_response.choices[0].message.content\n"
   ]
  },
  {
   "cell_type": "code",
   "execution_count": null,
   "id": "05800427",
   "metadata": {},
   "outputs": [],
   "source": [
    "print(results)"
   ]
  }
 ],
 "metadata": {
  "kernelspec": {
   "display_name": ".venv",
   "language": "python",
   "name": "python3"
  },
  "language_info": {
   "codemirror_mode": {
    "name": "ipython",
    "version": 3
   },
   "file_extension": ".py",
   "mimetype": "text/x-python",
   "name": "python",
   "nbconvert_exporter": "python",
   "pygments_lexer": "ipython3",
   "version": "3.12.2"
  }
 },
 "nbformat": 4,
 "nbformat_minor": 5
}
