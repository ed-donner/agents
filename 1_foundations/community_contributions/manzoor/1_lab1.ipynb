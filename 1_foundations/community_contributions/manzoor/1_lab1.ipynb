{
 "cells": [
  {
   "cell_type": "markdown",
   "metadata": {},
   "source": [
    "<h1>Create React App Structure Using Multi Agents </h1>\n",
    "<h3>Using only OpenAI to create an app structure for react native apps. </h3>\n",
    "<h6>The files won't contain any source code yet, for this OpenAI SDK would be the best.</h6>"
   ]
  },
  {
   "cell_type": "code",
   "execution_count": 1,
   "metadata": {},
   "outputs": [
    {
     "data": {
      "text/plain": [
       "True"
      ]
     },
     "execution_count": 1,
     "metadata": {},
     "output_type": "execute_result"
    }
   ],
   "source": [
    "# Let's import environment variables\n",
    "from dotenv import load_dotenv\n",
    "load_dotenv(override=True)"
   ]
  },
  {
   "cell_type": "code",
   "execution_count": 3,
   "metadata": {},
   "outputs": [],
   "source": [
    "import os\n",
    "import json\n",
    "from IPython.display import Markdown, display\n",
    "from openai import OpenAI"
   ]
  },
  {
   "cell_type": "code",
   "execution_count": 4,
   "metadata": {},
   "outputs": [
    {
     "name": "stdout",
     "output_type": "stream",
     "text": [
      "OpenAI: 58Yr-1Ir0A\n",
      "\n",
      "Deepseek: 8babea2e37\n",
      "\n"
     ]
    }
   ],
   "source": [
    "openai_api_key = os.getenv('OPENAI_API_KEY')\n",
    "deepseek_api_key = os.getenv('DEEPSEEK_API_KEY')\n",
    "\n",
    "if not openai_api_key:\n",
    "    print('Missing OpenaAI API key.')\n",
    "if not deepseek_api_key:\n",
    "    print('Missing Deepseek API key')\n",
    "if openai_api_key and deepseek_api_key:\n",
    "    print(f'OpenAI: {openai_api_key[-10:]}\\n')\n",
    "    print(f'Deepseek: {deepseek_api_key[-10:]}\\n')\n"
   ]
  },
  {
   "cell_type": "code",
   "execution_count": 4,
   "metadata": {},
   "outputs": [],
   "source": [
    "openai = OpenAI()"
   ]
  },
  {
   "cell_type": "code",
   "execution_count": 5,
   "metadata": {},
   "outputs": [],
   "source": [
    "\n",
    "deepseek = OpenAI(api_key=deepseek_api_key, base_url=\"https://api.deepseek.com\")"
   ]
  },
  {
   "cell_type": "code",
   "execution_count": 6,
   "metadata": {},
   "outputs": [
    {
     "data": {
      "text/markdown": [
       "Contract and Invoice Management"
      ],
      "text/plain": [
       "<IPython.core.display.Markdown object>"
      ]
     },
     "metadata": {},
     "output_type": "display_data"
    }
   ],
   "source": [
    "# system prompt form entrepreneur want to create a SASS app.  \n",
    " \n",
    "system_prompt = \"\"\"\n",
    "You're an entrepreneur looking to develop and invest in emerging AI-driven small SaaS applications, \n",
    "to solve huge numbers of users' pain point for small business, for example book keeping, reservations, taxes, employees records and so on. \n",
    "You focus on solutions that use agentic AI for solving real-world small business problems with minimal human oversight,\n",
    "offering scalability and innovation. You select the the idea that that has the highest potential for market disruption at the same time,\n",
    "helping small business to save time and money. \n",
    "\"\"\"\n",
    "\n",
    "user_prompt = \"Pick a business area that might be worth exploring for Agentic AI, Respond with just the business area name. \"\n",
    "\n",
    "messages = [\n",
    "    {\"role\": \"system\", \"content\":system_prompt},\n",
    "    {\"role\": \"user\", \"content\": user_prompt},\n",
    "]\n",
    "\n",
    "# Call openai\n",
    "response = openai.chat.completions.create(\n",
    "    model=\"gpt-4.1-mini\",\n",
    "    messages=messages\n",
    ")\n",
    "\n",
    "# Then read the business idea:\n",
    "business_idea = response.choices[0].message.content\n",
    "display(Markdown(business_idea))"
   ]
  },
  {
   "cell_type": "code",
   "execution_count": 7,
   "metadata": {},
   "outputs": [],
   "source": [
    "# We'll store the structure of the app\n",
    "app = []"
   ]
  },
  {
   "cell_type": "code",
   "execution_count": 8,
   "metadata": {},
   "outputs": [],
   "source": [
    "app.append(\n",
    "    {\"business_idea\": business_idea}\n",
    ")"
   ]
  },
  {
   "cell_type": "code",
   "execution_count": 13,
   "metadata": {},
   "outputs": [
    {
     "data": {
      "text/plain": [
       "[{'business_idea': 'Appointment Scheduling and Management'}]"
      ]
     },
     "execution_count": 13,
     "metadata": {},
     "output_type": "execute_result"
    }
   ],
   "source": [
    "app"
   ]
  },
  {
   "cell_type": "code",
   "execution_count": 9,
   "metadata": {},
   "outputs": [],
   "source": [
    "# Create a second prompt for pain points in business idea category\n",
    "user_second_prompt = f\"Find user pain points in {business_idea} areas. Give reasons and why this pain point is the best to solve. List the top 1.\"\n",
    "second_messages = [\n",
    "    {\"role\": \"system\", \"content\": system_prompt},\n",
    "    {\"role\": \"user\", \"content\": user_second_prompt}\n",
    "]"
   ]
  },
  {
   "cell_type": "code",
   "execution_count": 10,
   "metadata": {},
   "outputs": [
    {
     "data": {
      "text/markdown": [
       "**Top Pain Point in Contract and Invoice Management:**\n",
       "\n",
       "### Automating Contract and Invoice Review & Compliance Checking\n",
       "\n",
       "---\n",
       "\n",
       "### Why This is the Top Pain Point:\n",
       "\n",
       "**1. Complexity and Risk:**  \n",
       "Small businesses often deal with numerous contracts and invoices containing complex legal and financial terms. Misinterpretation or oversight can lead to compliance issues, financial losses, or legal disputes.\n",
       "\n",
       "**2. Time-Consuming Manual Processes:**  \n",
       "Reviewing contracts and matching invoices to contracts or purchase orders typically requires painstaking manual effort. Small businesses usually don't have dedicated legal or finance teams, leading to delays and errors.\n",
       "\n",
       "**3. Lack of Expertise and Resources:**  \n",
       "Small businesses often lack in-house legal expertise to verify contract clauses or invoice correctness. This gap increases risk, causing underpayment, overpayment, or penalties.\n",
       "\n",
       "**4. Regulatory Compliance & Audits:**  \n",
       "Contracts and invoices must comply with local regulations (tax, labor, contract laws). Manual checking is error-prone, risking fines and audits.\n",
       "\n",
       "**5. Scalability Challenge:**  \n",
       "As small businesses grow, the volume of contracts and invoices grows exponentially. Manual processes don’t scale, constraining growth.\n",
       "\n",
       "---\n",
       "\n",
       "### Why This Pain Point is the Best to Solve:\n",
       "\n",
       "- **High Impact on Cost and Risk Reduction:** Automating review and compliance checking minimizes costly human errors, penalties, and cash flow issues.\n",
       "- **Clear ROI:** Savings from reduced legal/finance overhead and faster invoice processing flow directly affect the bottom line.\n",
       "- **Fit for Agentic AI:** AI agents can autonomously read contracts/invoices, extract key data, flag anomalies, and ensure regulatory compliance with minimal supervision.\n",
       "- **Market Demand & Scalability:** All small businesses handle contracts and invoices—massive potential market with consistent recurring needs.\n",
       "- **Innovation Potential:** Combining NLP and rule-based AI with real-time regulatory updates can create a dynamic, intelligent system unmatched by traditional tools.\n",
       "\n",
       "---\n",
       "\n",
       "**Summary:**  \n",
       "Automating contract and invoice review & compliance checking combats complexity, risk, and inefficiency. It empowers small businesses to operate confidently and scale rapidly by reducing dependency on costly human expertise. This creates a highly scalable, impactful AI-driven SaaS opportunity with strong market disruption potential."
      ],
      "text/plain": [
       "<IPython.core.display.Markdown object>"
      ]
     },
     "metadata": {},
     "output_type": "display_data"
    }
   ],
   "source": [
    "# Call openai for pain points \n",
    "response = openai.chat.completions.create(\n",
    "    messages=second_messages,\n",
    "    model=\"gpt-4.1-mini\"\n",
    ")\n",
    "\n",
    "pain_point = response.choices[0].message.content\n",
    "display(Markdown(pain_point))"
   ]
  },
  {
   "cell_type": "code",
   "execution_count": 11,
   "metadata": {},
   "outputs": [],
   "source": [
    "# Add pain points \n",
    "app.append({\"pain_points\": pain_point})"
   ]
  },
  {
   "cell_type": "code",
   "execution_count": 16,
   "metadata": {},
   "outputs": [
    {
     "data": {
      "text/plain": [
       "[{'business_idea': 'Local Service Appointment Management'},\n",
       " {'pain_points': '**Top Pain Point in Local Service Appointment Management:**  \\n**No-Show and Last-Minute Cancellations**\\n\\n### Reasons Why This is the #1 Pain Point:\\n1. **Revenue Loss:**  \\n   No-shows and last-minute cancellations cause direct financial losses. For small local businesses (e.g., salons, repair shops, wellness centers), appointment slots are prime revenue units. When clients don’t show up, that time remains unproductive and unrecoverable.\\n\\n2. **Operational Inefficiency:**  \\n   Staff and resources are allocated based on scheduled appointments. No-shows lead to wasted labor hours and disrupt daily workflows, causing inefficiency and reduced morale.\\n\\n3. **Capacity and Scheduling Challenges:**  \\n   Small businesses often operate with limited staff and tight schedules. Last-minute cancellations don’t allow enough time to fill the vacant spot with another client, leading to underutilization.\\n\\n4. **Customer Relationship Impact:**  \\n   Constantly managing no-shows strains communication and creates frustration. Businesses may hesitate to overbook or double-book, impacting customer wait times.\\n\\n5. **Lack of Scalable, Automated Solutions:**  \\n   Existing solutions are often manual or require heavy human oversight (calling customers, tracking excuses). There’s a need for agentic AI that can automatically mitigate no-shows through smart reminders, incentives, and dynamic overbooking.\\n\\n### Why This Pain Point is Best to Solve:\\n- **High Frequency and Wide Impact:** Nearly every small local service business faces this issue regardless of industry.  \\n- **Easy Entry Point for AI Intervention:** Agentic AI can automate appointment confirmation, rescheduling, predictive no-show detection, and customer engagement with minimal human intervention.  \\n- **Clear ROI:** Reducing no-shows translates directly into increased revenue and operational efficiency, making the value proposition easy to communicate.  \\n- **Scalability:** The service can be packaged as a SaaS with plug-and-play bot components for various niches, allowing rapid deployment and scaling.  \\n- **User-Friendly:** Clients benefit from better communication, and businesses avoid manual chasing, making adoption smooth.\\n\\n---\\n\\n### Summary:\\n**No-shows and last-minute cancellations in appointment management cause significant revenue loss, inefficiencies, and client communication headaches.**  \\nSolving this pain point with agentic AI-driven automation — automated reminders, intelligent rescheduling, overbooking strategies, and no-show prediction — presents a scalable and impactful SaaS opportunity for small local businesses that is easy to implement and offers measurable benefits.'}]"
      ]
     },
     "execution_count": 16,
     "metadata": {},
     "output_type": "execute_result"
    }
   ],
   "source": [
    "app"
   ]
  },
  {
   "cell_type": "code",
   "execution_count": 12,
   "metadata": {},
   "outputs": [
    {
     "data": {
      "text/markdown": [
       "```json\n",
       "{\n",
       "  \"public\": {\n",
       "    \"favicon.ico\": \"Favicon for the app\",\n",
       "    \"index.html\": \"Main HTML file - root div for React app\",\n",
       "    \"manifest.json\": \"Web app manifest for PWA capabilities\",\n",
       "    \"robots.txt\": \"Instructions for search engine crawlers\"\n",
       "  },\n",
       "  \"src\": {\n",
       "    \"index.tsx\": \"Main entry point for React app; renders <App /> into root div\",\n",
       "    \"App.tsx\": \"Root React component handling routes and global providers\",\n",
       "    \"api\": {\n",
       "      \"stripe.ts\": \"Stripe payment backend API calls for subscription management, payment intents, and billing portal integration\",\n",
       "      \"auth.ts\": \"Authentication-related API calls such as login, logout, token refresh, social OAuth integrations (Google, Microsoft)\",\n",
       "      \"contracts.ts\": \"API calls for uploading, fetching, and managing contracts\",\n",
       "      \"invoices.ts\": \"API calls for uploading, fetching, matching, and managing invoices\",\n",
       "      \"compliance.ts\": \"Endpoints to validate contract/invoice compliance, check regulatory rules, and flag anomalies\"\n",
       "    },\n",
       "    \"components\": {\n",
       "      \"auth\": {\n",
       "        \"Login.tsx\": \"Login form component with email/password and social login buttons (Google, Microsoft)\",\n",
       "        \"Register.tsx\": \"User registration form with validation\",\n",
       "        \"ForgotPassword.tsx\": \"Password reset request form\"\n",
       "      },\n",
       "      \"dashboard\": {\n",
       "        \"Dashboard.tsx\": \"Main user dashboard showing summary stats like compliance status, invoices due, contracts expiring\",\n",
       "        \"ContractsOverview.tsx\": \"List and filterable view of all uploaded contracts with status badges (reviewed, compliant, flagged)\",\n",
       "        \"InvoicesOverview.tsx\": \"List and filterable view of all invoices, highlighting matches to contracts and anomalies\",\n",
       "        \"ComplianceAlerts.tsx\": \"Real-time alerts panel listing flagged compliance issues or contract deviations\"\n",
       "      },\n",
       "      \"contracts\": {\n",
       "        \"ContractUpload.tsx\": \"Form and drag/drop uploader for contracts in PDF/Word formats with OCR preprocessing status\",\n",
       "        \"ContractDetails.tsx\": \"Detailed view of individual contract data extracted by AI agents with editable fields\",\n",
       "        \"ContractReview.tsx\": \"AI-powered contract clause explanation and risk flagging interface\"\n",
       "      },\n",
       "      \"invoices\": {\n",
       "        \"InvoiceUpload.tsx\": \"Invoice file upload form with fields for vendor, amount, and purchase order matching\",\n",
       "        \"InvoiceDetails.tsx\": \"Detailed invoice data and status of matching with contracts and compliance checking\",\n",
       "        \"MatchInvoicesToContracts.tsx\": \"Interface to manually confirm or correct AI-driven invoice-to-contract matches\"\n",
       "      },\n",
       "      \"payments\": {\n",
       "        \"SubscriptionPlan.tsx\": \"Shows pricing tiers and feature differences for subscription plans\",\n",
       "        \"PaymentForm.tsx\": \"Stripe-integrated secure payment form supporting Visa, Mastercard, AMEX, for USA, Canada, Europe\",\n",
       "        \"BillingPortal.tsx\": \"Link/interface to Stripe Billing portal for managing invoices and payment methods\"\n",
       "      },\n",
       "      \"shared\": {\n",
       "        \"LoadingSpinner.tsx\": \"Reusable loading spinner component\",\n",
       "        \"Modal.tsx\": \"Generic modal component for confirmations and alerts\",\n",
       "        \"Notification.tsx\": \"Toast notification system for user feedback\",\n",
       "        \"ErrorBoundary.tsx\": \"Component to catch and display UI errors gracefully\"\n",
       "      }\n",
       "    },\n",
       "    \"contexts\": {\n",
       "      \"AuthContext.tsx\": \"React context providing user authentication state and methods\",\n",
       "      \"StripeContext.tsx\": \"Provides Stripe client instance and payment state to components\",\n",
       "      \"ComplianceContext.tsx\": \"Stores compliance check results and alert states globally\"\n",
       "    },\n",
       "    \"hooks\": {\n",
       "      \"useAuth.ts\": \"Custom hook for accessing and managing AuthContext\",\n",
       "      \"useStripePayments.ts\": \"Hook to initialize Stripe elements and handle payment flows\",\n",
       "      \"useContracts.ts\": \"Hooks for fetching, updating contract data and caching\",\n",
       "      \"useInvoices.ts\": \"Hooks for invoice data state and mutation operations\",\n",
       "      \"useCompliance.ts\": \"Hook for triggering and managing compliance checks on contracts/invoices\"\n",
       "    },\n",
       "    \"models\": {\n",
       "      \"User.ts\": \"TypeScript interfaces/types for user profiles, roles, and permissions\",\n",
       "      \"Contract.ts\": \"Types and interfaces describing contract structure, AI-extracted fields, risk flags\",\n",
       "      \"Invoice.ts\": \"Data models for invoices, line items, matching status, anomalies\",\n",
       "      \"Payment.ts\": \"Models for payment status, subscription plans, and billing info\",\n",
       "      \"ComplianceRule.ts\": \"Defines compliance check rules, regulatory references, and severity levels\"\n",
       "    },\n",
       "    \"services\": {\n",
       "      \"aiAgentService.ts\": \"Integration with AI backend that processes contracts/invoices, performs NLP extraction and compliance validation autonomously\",\n",
       "      \"regulationsService.ts\": \"Fetches up-to-date local regulations and tax laws dynamically to keep compliance engine current\",\n",
       "      \"notificationService.ts\": \"Push notifications or emails for compliance alerts, payment reminders\",\n",
       "      \"storageService.ts\": \"Handles upload/download of contract/invoice files securely (e.g. AWS S3 or similar)\"\n",
       "    },\n",
       "    \"utils\": {\n",
       "      \"dateUtils.ts\": \"Date formatting and comparison utilities tailored for contract and invoice timelines\",\n",
       "      \"currencyUtils.ts\": \"Helpers for formatting and converting multiple currencies\",\n",
       "      \"validationUtils.ts\": \"Form validations especially for invoices, payment info, and contract fields\",\n",
       "      \"regexPatterns.ts\": \"Common regex patterns used to parse contract clauses, invoice data extraction\"\n",
       "    },\n",
       "    \"styles\": {\n",
       "      \"globals.css\": \"Global CSS styles including resets and typography\",\n",
       "      \"theme.ts\": \"Defines theme tokens such as colors, typography scales, spacing for styled components or MUI\",\n",
       "      \"components\": {\n",
       "        \"Button.module.css\": \"Scoped styles for buttons\",\n",
       "        \"Form.module.css\": \"Styles for forms and input elements\"\n",
       "      }\n",
       "    },\n",
       "    \"config\": {\n",
       "      \"stripeConfig.ts\": \"Stripe keys and configuration loaded from environment variables\",\n",
       "      \"appConfig.ts\": \"General app-wide configuration such as API base URLs, feature flags\",\n",
       "      \"routes.ts\": \"Defines app routes and permission requirements for route guarding\"\n",
       "    },\n",
       "    \"database\": {\n",
       "      \"migrations\": {\n",
       "        \"001_create_users_table.sql\": \"SQL or ORM migration for users table with fields for authentication and profile\",\n",
       "        \"002_create_contracts_table.sql\": \"Table for storing contract metadata, AI-extracted fields, compliance statuses\",\n",
       "        \"003_create_invoices_table.sql\": \"Stores invoice metadata, matching contract IDs, payment statuses\",\n",
       "        \"004_create_payments_table.sql\": \"Captures payment transactions, subscription plans, billing cycles\",\n",
       "        \"005_create_compliance_rules_table.sql\": \"Holds dynamic regulatory rules and logic versioning\"\n",
       "      },\n",
       "      \"models\": {\n",
       "        \"UserModel.ts\": \"ORM or Database schema definition for users\",\n",
       "        \"ContractModel.ts\": \"Schema/model to represent contracts and extracted info\",\n",
       "        \"InvoiceModel.ts\": \"Schema/model representing invoices and linkage to contracts\",\n",
       "        \"PaymentModel.ts\": \"Schema for payment and subscription tracking\",\n",
       "        \"ComplianceRuleModel.ts\": \"Model to persist rules and compliance checks records\"\n",
       "      },\n",
       "      \"repository\": {\n",
       "        \"UserRepository.ts\": \"Data access layer for user CRUD, login, registration\",\n",
       "        \"ContractRepository.ts\": \"Access and mutation methods for contracts\",\n",
       "        \"InvoiceRepository.ts\": \"Interface for querying, updating invoice data\",\n",
       "        \"PaymentRepository.ts\": \"Interface for payments and subscription management\",\n",
       "        \"ComplianceRepository.ts\": \"For storing compliance check results and rules\"\n",
       "      }\n",
       "    },\n",
       "    \"types\": {\n",
       "      \"api.ts\": \"Shared API request/response DTO TypeScript interfaces\",\n",
       "      \"stripe.ts\": \"Types related to Stripe SDK responses and events\",\n",
       "      \"ai.ts\": \"Types for AI agent's extraction results, confidence scores, and anomaly flags\"\n",
       "    },\n",
       "    \"tests\": {\n",
       "      \"components\": {\n",
       "        \"Login.test.tsx\": \"Unit tests for login component validating input and social login flows\",\n",
       "        \"ContractUpload.test.tsx\": \"Tests for contract upload form validation and API integration\"\n",
       "      },\n",
       "      \"hooks\": {\n",
       "        \"useAuth.test.ts\": \"Tests auth state transitions and token refresh logic\",\n",
       "        \"useStripePayments.test.ts\": \"Tests payment flow logic, error handling\"\n",
       "      },\n",
       "      \"services\": {\n",
       "        \"aiAgentService.test.ts\": \"Mock tests for AI backend interactions and response parsing\",\n",
       "        \"regulationsService.test.ts\": \"Tests fetching and updating local regulation definitions\"\n",
       "      }\n",
       "    }\n",
       "  }\n",
       "}\n",
       "```"
      ],
      "text/plain": [
       "<IPython.core.display.Markdown object>"
      ]
     },
     "metadata": {},
     "output_type": "display_data"
    }
   ],
   "source": [
    "# Let's create an app structure, for website, since we have all the information. \n",
    "third_user_prompt =f\"\"\"Please create a react website file directory structure. You're given the business idea, along \n",
    "with the following pain points \\n. {pain_point}.\n",
    "Respond in json format. The structure should also include stripe payment, and a database.\n",
    "Please, add as much details as possible for explaining directory and files/ components. \n",
    "For example:\n",
    "\n",
    "    \"payment.tsx\" : \"stripe payment integration endpoints, for visa, credit and any other cards. User from USA, CANADA, and EUROPE, can make easy monthly subscription. \"\n",
    "    \"user.tsx\" : \"user authentication and management APIs with the following library Authlib, and with social logins API such as Google and Microsoft... \"\n",
    "\n",
    "\"\"\"\n",
    "\n",
    "third_messages = [\n",
    "    {\"role\": \"system\", \"content\": system_prompt},\n",
    "    {\"role\": \"user\", \"content\": third_user_prompt}\n",
    "]\n",
    "\n",
    "response  = openai.chat.completions.create(\n",
    "    messages=third_messages,\n",
    "    model=\"gpt-4.1-mini\"    \n",
    ")\n",
    "structure = response.choices[0].message.content\n",
    "display(Markdown(structure))\n"
   ]
  },
  {
   "cell_type": "code",
   "execution_count": 13,
   "metadata": {},
   "outputs": [],
   "source": [
    "app.append({\"app_structure\": structure})"
   ]
  },
  {
   "cell_type": "code",
   "execution_count": 14,
   "metadata": {},
   "outputs": [
    {
     "data": {
      "text/plain": [
       "[{'business_idea': 'Contract and Invoice Management'},\n",
       " {'pain_points': \"**Top Pain Point in Contract and Invoice Management:**\\n\\n### Automating Contract and Invoice Review & Compliance Checking\\n\\n---\\n\\n### Why This is the Top Pain Point:\\n\\n**1. Complexity and Risk:**  \\nSmall businesses often deal with numerous contracts and invoices containing complex legal and financial terms. Misinterpretation or oversight can lead to compliance issues, financial losses, or legal disputes.\\n\\n**2. Time-Consuming Manual Processes:**  \\nReviewing contracts and matching invoices to contracts or purchase orders typically requires painstaking manual effort. Small businesses usually don't have dedicated legal or finance teams, leading to delays and errors.\\n\\n**3. Lack of Expertise and Resources:**  \\nSmall businesses often lack in-house legal expertise to verify contract clauses or invoice correctness. This gap increases risk, causing underpayment, overpayment, or penalties.\\n\\n**4. Regulatory Compliance & Audits:**  \\nContracts and invoices must comply with local regulations (tax, labor, contract laws). Manual checking is error-prone, risking fines and audits.\\n\\n**5. Scalability Challenge:**  \\nAs small businesses grow, the volume of contracts and invoices grows exponentially. Manual processes don’t scale, constraining growth.\\n\\n---\\n\\n### Why This Pain Point is the Best to Solve:\\n\\n- **High Impact on Cost and Risk Reduction:** Automating review and compliance checking minimizes costly human errors, penalties, and cash flow issues.\\n- **Clear ROI:** Savings from reduced legal/finance overhead and faster invoice processing flow directly affect the bottom line.\\n- **Fit for Agentic AI:** AI agents can autonomously read contracts/invoices, extract key data, flag anomalies, and ensure regulatory compliance with minimal supervision.\\n- **Market Demand & Scalability:** All small businesses handle contracts and invoices—massive potential market with consistent recurring needs.\\n- **Innovation Potential:** Combining NLP and rule-based AI with real-time regulatory updates can create a dynamic, intelligent system unmatched by traditional tools.\\n\\n---\\n\\n**Summary:**  \\nAutomating contract and invoice review & compliance checking combats complexity, risk, and inefficiency. It empowers small businesses to operate confidently and scale rapidly by reducing dependency on costly human expertise. This creates a highly scalable, impactful AI-driven SaaS opportunity with strong market disruption potential.\"},\n",
       " {'app_structure': '```json\\n{\\n  \"public\": {\\n    \"favicon.ico\": \"Favicon for the app\",\\n    \"index.html\": \"Main HTML file - root div for React app\",\\n    \"manifest.json\": \"Web app manifest for PWA capabilities\",\\n    \"robots.txt\": \"Instructions for search engine crawlers\"\\n  },\\n  \"src\": {\\n    \"index.tsx\": \"Main entry point for React app; renders <App /> into root div\",\\n    \"App.tsx\": \"Root React component handling routes and global providers\",\\n    \"api\": {\\n      \"stripe.ts\": \"Stripe payment backend API calls for subscription management, payment intents, and billing portal integration\",\\n      \"auth.ts\": \"Authentication-related API calls such as login, logout, token refresh, social OAuth integrations (Google, Microsoft)\",\\n      \"contracts.ts\": \"API calls for uploading, fetching, and managing contracts\",\\n      \"invoices.ts\": \"API calls for uploading, fetching, matching, and managing invoices\",\\n      \"compliance.ts\": \"Endpoints to validate contract/invoice compliance, check regulatory rules, and flag anomalies\"\\n    },\\n    \"components\": {\\n      \"auth\": {\\n        \"Login.tsx\": \"Login form component with email/password and social login buttons (Google, Microsoft)\",\\n        \"Register.tsx\": \"User registration form with validation\",\\n        \"ForgotPassword.tsx\": \"Password reset request form\"\\n      },\\n      \"dashboard\": {\\n        \"Dashboard.tsx\": \"Main user dashboard showing summary stats like compliance status, invoices due, contracts expiring\",\\n        \"ContractsOverview.tsx\": \"List and filterable view of all uploaded contracts with status badges (reviewed, compliant, flagged)\",\\n        \"InvoicesOverview.tsx\": \"List and filterable view of all invoices, highlighting matches to contracts and anomalies\",\\n        \"ComplianceAlerts.tsx\": \"Real-time alerts panel listing flagged compliance issues or contract deviations\"\\n      },\\n      \"contracts\": {\\n        \"ContractUpload.tsx\": \"Form and drag/drop uploader for contracts in PDF/Word formats with OCR preprocessing status\",\\n        \"ContractDetails.tsx\": \"Detailed view of individual contract data extracted by AI agents with editable fields\",\\n        \"ContractReview.tsx\": \"AI-powered contract clause explanation and risk flagging interface\"\\n      },\\n      \"invoices\": {\\n        \"InvoiceUpload.tsx\": \"Invoice file upload form with fields for vendor, amount, and purchase order matching\",\\n        \"InvoiceDetails.tsx\": \"Detailed invoice data and status of matching with contracts and compliance checking\",\\n        \"MatchInvoicesToContracts.tsx\": \"Interface to manually confirm or correct AI-driven invoice-to-contract matches\"\\n      },\\n      \"payments\": {\\n        \"SubscriptionPlan.tsx\": \"Shows pricing tiers and feature differences for subscription plans\",\\n        \"PaymentForm.tsx\": \"Stripe-integrated secure payment form supporting Visa, Mastercard, AMEX, for USA, Canada, Europe\",\\n        \"BillingPortal.tsx\": \"Link/interface to Stripe Billing portal for managing invoices and payment methods\"\\n      },\\n      \"shared\": {\\n        \"LoadingSpinner.tsx\": \"Reusable loading spinner component\",\\n        \"Modal.tsx\": \"Generic modal component for confirmations and alerts\",\\n        \"Notification.tsx\": \"Toast notification system for user feedback\",\\n        \"ErrorBoundary.tsx\": \"Component to catch and display UI errors gracefully\"\\n      }\\n    },\\n    \"contexts\": {\\n      \"AuthContext.tsx\": \"React context providing user authentication state and methods\",\\n      \"StripeContext.tsx\": \"Provides Stripe client instance and payment state to components\",\\n      \"ComplianceContext.tsx\": \"Stores compliance check results and alert states globally\"\\n    },\\n    \"hooks\": {\\n      \"useAuth.ts\": \"Custom hook for accessing and managing AuthContext\",\\n      \"useStripePayments.ts\": \"Hook to initialize Stripe elements and handle payment flows\",\\n      \"useContracts.ts\": \"Hooks for fetching, updating contract data and caching\",\\n      \"useInvoices.ts\": \"Hooks for invoice data state and mutation operations\",\\n      \"useCompliance.ts\": \"Hook for triggering and managing compliance checks on contracts/invoices\"\\n    },\\n    \"models\": {\\n      \"User.ts\": \"TypeScript interfaces/types for user profiles, roles, and permissions\",\\n      \"Contract.ts\": \"Types and interfaces describing contract structure, AI-extracted fields, risk flags\",\\n      \"Invoice.ts\": \"Data models for invoices, line items, matching status, anomalies\",\\n      \"Payment.ts\": \"Models for payment status, subscription plans, and billing info\",\\n      \"ComplianceRule.ts\": \"Defines compliance check rules, regulatory references, and severity levels\"\\n    },\\n    \"services\": {\\n      \"aiAgentService.ts\": \"Integration with AI backend that processes contracts/invoices, performs NLP extraction and compliance validation autonomously\",\\n      \"regulationsService.ts\": \"Fetches up-to-date local regulations and tax laws dynamically to keep compliance engine current\",\\n      \"notificationService.ts\": \"Push notifications or emails for compliance alerts, payment reminders\",\\n      \"storageService.ts\": \"Handles upload/download of contract/invoice files securely (e.g. AWS S3 or similar)\"\\n    },\\n    \"utils\": {\\n      \"dateUtils.ts\": \"Date formatting and comparison utilities tailored for contract and invoice timelines\",\\n      \"currencyUtils.ts\": \"Helpers for formatting and converting multiple currencies\",\\n      \"validationUtils.ts\": \"Form validations especially for invoices, payment info, and contract fields\",\\n      \"regexPatterns.ts\": \"Common regex patterns used to parse contract clauses, invoice data extraction\"\\n    },\\n    \"styles\": {\\n      \"globals.css\": \"Global CSS styles including resets and typography\",\\n      \"theme.ts\": \"Defines theme tokens such as colors, typography scales, spacing for styled components or MUI\",\\n      \"components\": {\\n        \"Button.module.css\": \"Scoped styles for buttons\",\\n        \"Form.module.css\": \"Styles for forms and input elements\"\\n      }\\n    },\\n    \"config\": {\\n      \"stripeConfig.ts\": \"Stripe keys and configuration loaded from environment variables\",\\n      \"appConfig.ts\": \"General app-wide configuration such as API base URLs, feature flags\",\\n      \"routes.ts\": \"Defines app routes and permission requirements for route guarding\"\\n    },\\n    \"database\": {\\n      \"migrations\": {\\n        \"001_create_users_table.sql\": \"SQL or ORM migration for users table with fields for authentication and profile\",\\n        \"002_create_contracts_table.sql\": \"Table for storing contract metadata, AI-extracted fields, compliance statuses\",\\n        \"003_create_invoices_table.sql\": \"Stores invoice metadata, matching contract IDs, payment statuses\",\\n        \"004_create_payments_table.sql\": \"Captures payment transactions, subscription plans, billing cycles\",\\n        \"005_create_compliance_rules_table.sql\": \"Holds dynamic regulatory rules and logic versioning\"\\n      },\\n      \"models\": {\\n        \"UserModel.ts\": \"ORM or Database schema definition for users\",\\n        \"ContractModel.ts\": \"Schema/model to represent contracts and extracted info\",\\n        \"InvoiceModel.ts\": \"Schema/model representing invoices and linkage to contracts\",\\n        \"PaymentModel.ts\": \"Schema for payment and subscription tracking\",\\n        \"ComplianceRuleModel.ts\": \"Model to persist rules and compliance checks records\"\\n      },\\n      \"repository\": {\\n        \"UserRepository.ts\": \"Data access layer for user CRUD, login, registration\",\\n        \"ContractRepository.ts\": \"Access and mutation methods for contracts\",\\n        \"InvoiceRepository.ts\": \"Interface for querying, updating invoice data\",\\n        \"PaymentRepository.ts\": \"Interface for payments and subscription management\",\\n        \"ComplianceRepository.ts\": \"For storing compliance check results and rules\"\\n      }\\n    },\\n    \"types\": {\\n      \"api.ts\": \"Shared API request/response DTO TypeScript interfaces\",\\n      \"stripe.ts\": \"Types related to Stripe SDK responses and events\",\\n      \"ai.ts\": \"Types for AI agent\\'s extraction results, confidence scores, and anomaly flags\"\\n    },\\n    \"tests\": {\\n      \"components\": {\\n        \"Login.test.tsx\": \"Unit tests for login component validating input and social login flows\",\\n        \"ContractUpload.test.tsx\": \"Tests for contract upload form validation and API integration\"\\n      },\\n      \"hooks\": {\\n        \"useAuth.test.ts\": \"Tests auth state transitions and token refresh logic\",\\n        \"useStripePayments.test.ts\": \"Tests payment flow logic, error handling\"\\n      },\\n      \"services\": {\\n        \"aiAgentService.test.ts\": \"Mock tests for AI backend interactions and response parsing\",\\n        \"regulationsService.test.ts\": \"Tests fetching and updating local regulation definitions\"\\n      }\\n    }\\n  }\\n}\\n```'}]"
      ]
     },
     "execution_count": 14,
     "metadata": {},
     "output_type": "execute_result"
    }
   ],
   "source": [
    "app"
   ]
  },
  {
   "cell_type": "code",
   "execution_count": 20,
   "metadata": {},
   "outputs": [],
   "source": [
    "system_prompt = \"You're a react app developer\""
   ]
  },
  {
   "cell_type": "code",
   "execution_count": 15,
   "metadata": {},
   "outputs": [],
   "source": [
    "double_check_app_structure_prompt = f\"\"\"You're given the following {app}, please double check \n",
    "if there are any errors with structure, or  navigation. If there're mistake please show them with an explanation.\n",
    "If no errors, please jus say 'No need to modify' \"\"\""
   ]
  },
  {
   "cell_type": "code",
   "execution_count": 16,
   "metadata": {},
   "outputs": [],
   "source": [
    "messages = [\n",
    "    {\"role\": \"system\", \"content\" : system_prompt},\n",
    "    {\"role\": \"user\", \"content\": double_check_app_structure_prompt}\n",
    "]"
   ]
  },
  {
   "cell_type": "code",
   "execution_count": 17,
   "metadata": {},
   "outputs": [
    {
     "data": {
      "text/markdown": [
       "No need to modify"
      ],
      "text/plain": [
       "<IPython.core.display.Markdown object>"
      ]
     },
     "metadata": {},
     "output_type": "display_data"
    }
   ],
   "source": [
    "\"\"\"\n",
    "We need to double check if the app structure is correct. We can use other models, \n",
    "deepseek seems to add extra files, and stays out of context, so let's stick with \n",
    "openai for now. \n",
    "\"\"\"\n",
    "response = openai.chat.completions.create(\n",
    "    messages=messages,\n",
    "    model=\"gpt-4.1\"  \n",
    ")\n",
    "\n",
    "double_check = response.choices[0].message.content\n",
    "display(Markdown(double_check))"
   ]
  },
  {
   "cell_type": "code",
   "execution_count": 22,
   "metadata": {},
   "outputs": [],
   "source": [
    "implement = False\n",
    "if double_check == 'No need to modify':\n",
    "    implement = True\n",
    "else:\n",
    "    implement = False\n"
   ]
  },
  {
   "cell_type": "code",
   "execution_count": 33,
   "metadata": {},
   "outputs": [],
   "source": [
    "# Create the file structure recursively, from structure in current directory\n",
    "def create_file_structure(structure, parent_dir='.'):\n",
    "    for name, content in structure.items():\n",
    "        path = os.path.join(parent_dir, name)\n",
    "        if isinstance(content, dict):\n",
    "            # It's a directory\n",
    "            os.makedirs(path, exist_ok=True)\n",
    "            create_file_structure(content, path)\n",
    "        else:\n",
    "            # It's a file, create empty file\n",
    "            os.makedirs(parent_dir, exist_ok=True)\n",
    "            with open(path, 'w', encoding='utf-8') as f:\n",
    "                # We can write the description as comment for reference, or leave empty\n",
    "                # Here writing description as comment to the file\n",
    "                if name.endswith(('.ts', '.tsx', '.js', '.jsx')):\n",
    "                    # for typescript/js files, use empty lines\n",
    "                    for line in content.split('\\n'):\n",
    "                        f.write(f\"\\n\")\n",
    "                elif name.endswith(('.css', '.json')):\n",
    "                    # css uses /* */, json uses nothing usually, write as json comment-like\n",
    "                    for line in content.split('\\n'):\n",
    "                        f.write(f\"\\n\")\n",
    "                elif name.endswith('.md'):\n",
    "                    # markdown use >\n",
    "                    for line in content.split('\\n'):\n",
    "                        f.write(f\"\\n\")\n",
    "                else:\n",
    "                    # default write plain text description\n",
    "                    f.write(content + '\\n')"
   ]
  },
  {
   "cell_type": "code",
   "execution_count": null,
   "metadata": {},
   "outputs": [],
   "source": []
  },
  {
   "cell_type": "code",
   "execution_count": 35,
   "metadata": {},
   "outputs": [
    {
     "name": "stdout",
     "output_type": "stream",
     "text": [
      "Creating the app structure directory and files...\n",
      "App structure created.\n"
     ]
    }
   ],
   "source": [
    "if implement:\n",
    "    print(\"Creating the app structure directory and files...\")\n",
    "    # Remove markdown code block if present\n",
    "    if structure.startswith(\"```json\"):\n",
    "        json_str = structure.strip()[7:-3].strip()\n",
    "    else:\n",
    "        json_str = structure\n",
    "        \n",
    "    structure_dict = json.loads(json_str)\n",
    "    create_file_structure(structure_dict)\n",
    "    print(\"App structure created.\")\n",
    "else:\n",
    "    print(\"App structure needs modification, not implementing yet.\")\n",
    "    \n",
    "    # Let's call openai to fix the structure, if needed.\n",
    "    # We can loop until the structure is correct, but for now let's stop here.\n",
    "    # TODO"
   ]
  },
  {
   "cell_type": "code",
   "execution_count": 30,
   "metadata": {},
   "outputs": [
    {
     "data": {
      "text/markdown": [
       "```python\n",
       "import os\n",
       "\n",
       "def create_file_structure(structure, parent_dir='.'):\n",
       "    for name, content in structure.items():\n",
       "        path = os.path.join(parent_dir, name)\n",
       "        if isinstance(content, dict):\n",
       "            # It's a directory\n",
       "            os.makedirs(path, exist_ok=True)\n",
       "            create_file_structure(content, path)\n",
       "        else:\n",
       "            # It's a file, create empty file\n",
       "            os.makedirs(parent_dir, exist_ok=True)\n",
       "            with open(path, 'w', encoding='utf-8') as f:\n",
       "                # We can write the description as comment for reference, or leave empty\n",
       "                # Here writing description as comment to the file\n",
       "                if name.endswith(('.ts', '.tsx', '.js', '.jsx')):\n",
       "                    # for typescript/js files, use single line comment //\n",
       "                    for line in content.split('\\n'):\n",
       "                        f.write(f\"// {line}\\n\")\n",
       "                elif name.endswith(('.css', '.json')):\n",
       "                    # css uses /* */, json uses nothing usually, write as json comment-like\n",
       "                    for line in content.split('\\n'):\n",
       "                        f.write(f\"/* {line} */\\n\")\n",
       "                elif name.endswith('.md'):\n",
       "                    # markdown use >\n",
       "                    for line in content.split('\\n'):\n",
       "                        f.write(f\"> {line}\\n\")\n",
       "                else:\n",
       "                    # default write plain text description\n",
       "                    f.write(content + '\\n')\n",
       "```\n",
       "\n",
       "This function, given the dictionary structure as input, will recursively create directories and files under the current directory (or provided parent directory). For each file it writes its description as a comment inside it for reference."
      ],
      "text/plain": [
       "<IPython.core.display.Markdown object>"
      ]
     },
     "metadata": {},
     "output_type": "display_data"
    }
   ],
   "source": [
    "response = openai.chat.completions.create(\n",
    "    messages=[\n",
    "        {\"role\":\"system\", \"content\": system_prompt},\n",
    "        {\"role\": \"user\",\"content\": function_prompt}\n",
    "    ],\n",
    "    model=\"gpt-4.1-mini\"\n",
    ")\n",
    "dir_func = response.choices[0].message.content\n",
    "display(Markdown(dir_func))"
   ]
  },
  {
   "cell_type": "markdown",
   "metadata": {},
   "source": []
  },
  {
   "cell_type": "code",
   "execution_count": 43,
   "metadata": {},
   "outputs": [],
   "source": [
    "system_prompt = f\"\"\"You're Senior react developer with over 10 years of experience. \n",
    "You always double check your work.\"\"\"\n",
    "\n",
    "user_prompt = f\"\"\"Please write the source code for src/components files only. You're given \n",
    "the following app details in the {structure}\\n\n",
    "You're also provided with tool to save the source code.\"\"\""
   ]
  }
 ],
 "metadata": {
  "kernelspec": {
   "display_name": ".venv",
   "language": "python",
   "name": "python3"
  },
  "language_info": {
   "codemirror_mode": {
    "name": "ipython",
    "version": 3
   },
   "file_extension": ".py",
   "mimetype": "text/x-python",
   "name": "python",
   "nbconvert_exporter": "python",
   "pygments_lexer": "ipython3",
   "version": "3.12.2"
  }
 },
 "nbformat": 4,
 "nbformat_minor": 2
}
