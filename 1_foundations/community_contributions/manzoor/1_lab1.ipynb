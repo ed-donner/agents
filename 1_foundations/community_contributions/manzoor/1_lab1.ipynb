{
 "cells": [
  {
   "cell_type": "markdown",
   "metadata": {},
   "source": [
    "<h1>Create React App Using Multi Agents </h1>"
   ]
  },
  {
   "cell_type": "code",
   "execution_count": null,
   "metadata": {},
   "outputs": [
    {
     "data": {
      "text/plain": [
       "True"
      ]
     },
     "execution_count": 5,
     "metadata": {},
     "output_type": "execute_result"
    }
   ],
   "source": [
    "from dotenv import load_dotenv\n",
    "load_dotenv(override=True)"
   ]
  },
  {
   "cell_type": "code",
   "execution_count": 6,
   "metadata": {},
   "outputs": [],
   "source": [
    "import os\n",
    "import json\n",
    "from IPython.display import Markdown, display\n",
    "from openai import OpenAI"
   ]
  },
  {
   "cell_type": "code",
   "execution_count": 7,
   "metadata": {},
   "outputs": [
    {
     "name": "stdout",
     "output_type": "stream",
     "text": [
      "OpenAI: 58Yr-1Ir0A\n",
      "\n",
      "Deepseek: 8babea2e37\n",
      "\n"
     ]
    }
   ],
   "source": [
    "openai_api_key = os.getenv('OPENAI_API_KEY')\n",
    "deepseek_api_key = os.getenv('DEEPSEEK_API_KEY')\n",
    "\n",
    "if not openai_api_key:\n",
    "    print('Missing OpenaAI API key.')\n",
    "if not deepseek_api_key:\n",
    "    print('Missing Deepseek API key')\n",
    "if openai_api_key and deepseek_api_key:\n",
    "    print(f'OpenAI: {openai_api_key[-10:]}\\n')\n",
    "    print(f'Deepseek: {deepseek_api_key[-10:]}\\n')\n"
   ]
  },
  {
   "cell_type": "code",
   "execution_count": 8,
   "metadata": {},
   "outputs": [],
   "source": [
    "openai = OpenAI()"
   ]
  },
  {
   "cell_type": "code",
   "execution_count": 9,
   "metadata": {},
   "outputs": [],
   "source": [
    "\n",
    "deepseek = OpenAI(api_key=deepseek_api_key, base_url=\"https://api.deepseek.com\")"
   ]
  },
  {
   "cell_type": "code",
   "execution_count": 10,
   "metadata": {},
   "outputs": [
    {
     "data": {
      "text/markdown": [
       "Appointment Scheduling and Management"
      ],
      "text/plain": [
       "<IPython.core.display.Markdown object>"
      ]
     },
     "metadata": {},
     "output_type": "display_data"
    }
   ],
   "source": [
    "# system prompt form entrepreneur want to create a SASS app.  \n",
    " \n",
    "system_prompt = \"\"\"\n",
    "You're an entrepreneur looking to develop and invest in emerging AI-driven small SaaS applications that are easy to implement, \n",
    "and solve huge numbers of users' pain point for small business. \n",
    "You focus on solutions that use agentic AI for solving real-world small business problems with minimal human oversight,\n",
    "offering scalability and innovation. Your goal is to find user pain points for small businesses, improving services\n",
    "for business and users, while being user-friendly and ready to scale.\n",
    "You select the the idea that is easy to to implement in a short amount of time. \n",
    "\"\"\"\n",
    "\n",
    "user_prompt = \"Pick a business area that might be worth exploring for Agentic AI, Respond with just the business area name. \"\n",
    "\n",
    "messages = [\n",
    "    {\"role\": \"system\", \"content\":system_prompt},\n",
    "    {\"role\": \"user\", \"content\": user_prompt},\n",
    "]\n",
    "\n",
    "# Call openai\n",
    "response = openai.chat.completions.create(\n",
    "    model=\"gpt-4.1-mini\",\n",
    "    messages=messages\n",
    ")\n",
    "\n",
    "# Then read the business idea:\n",
    "business_idea = response.choices[0].message.content\n",
    "display(Markdown(business_idea))"
   ]
  },
  {
   "cell_type": "code",
   "execution_count": 11,
   "metadata": {},
   "outputs": [],
   "source": [
    "# We'll store the structure of the app\n",
    "app = []"
   ]
  },
  {
   "cell_type": "code",
   "execution_count": 12,
   "metadata": {},
   "outputs": [],
   "source": [
    "app.append(\n",
    "    {\"business_idea\": business_idea}\n",
    ")"
   ]
  },
  {
   "cell_type": "code",
   "execution_count": 13,
   "metadata": {},
   "outputs": [
    {
     "data": {
      "text/plain": [
       "[{'business_idea': 'Appointment Scheduling and Management'}]"
      ]
     },
     "execution_count": 13,
     "metadata": {},
     "output_type": "execute_result"
    }
   ],
   "source": [
    "app"
   ]
  },
  {
   "cell_type": "code",
   "execution_count": 15,
   "metadata": {},
   "outputs": [],
   "source": [
    "# Create a second prompt for pain points in business idea category\n",
    "user_second_prompt = f\"Find user pain points in {business_idea} areas. Give reasons and why this pain point is the best to solve. List the top 1.\"\n",
    "second_messages = [\n",
    "    {\"role\": \"system\", \"content\": system_prompt},\n",
    "    {\"role\": \"user\", \"content\": user_second_prompt}\n",
    "]"
   ]
  },
  {
   "cell_type": "code",
   "execution_count": 16,
   "metadata": {},
   "outputs": [
    {
     "data": {
      "text/markdown": [
       "**Top Pain Point in Appointment Scheduling and Management:**  \n",
       "**No-shows and last-minute cancellations cause revenue loss and operational inefficiency.**\n",
       "\n",
       "---\n",
       "\n",
       "### Why is this the top pain point?\n",
       "\n",
       "1. **Direct Revenue Impact:**  \n",
       "   No-shows or last-minute cancellations lead to lost income since the time slot could have been booked by another paying customer.\n",
       "\n",
       "2. **Operational Disruptions:**  \n",
       "   Staff and resources are allocated for appointments that do not happen, causing inefficiency and wasted effort.\n",
       "\n",
       "3. **User Frustration:**  \n",
       "   Small business owners spend significant time rescheduling, following up, or managing empty slots, which limits their ability to focus on growth.\n",
       "\n",
       "4. **Limited Automation in Existing Solutions:**  \n",
       "   Most appointment systems rely on manual reminders or non-personalized notifications, which are often ignored or ineffective.\n",
       "\n",
       "5. **High Scalability Potential:**  \n",
       "   A solution that proactively reduces no-shows through agentic AI (e.g., intelligent rescheduling, personalized reminders, or dynamic booking slot optimization) can scale across industries like salons, clinics, tutoring, fitness, and more.\n",
       "\n",
       "---\n",
       "\n",
       "### Why is this pain point best to solve?\n",
       "\n",
       "- **High demand across many small business sectors:** Almost every appointment-based business faces no-shows.\n",
       "- **Agentic AI can automate complex tasks:** An AI agent can autonomously manage reminders, offer alternative slots, and even handle dynamic rescheduling with minimal human input.\n",
       "- **Immediate ROI:** Reducing no-shows quickly improves cash flow and utilization of time/resources.\n",
       "- **User-friendly and quick to adopt:** Simple UI enhancements (like SMS or app-based intelligent reminders) are easy to implement and integrate with existing solutions.\n",
       "- **Clear measurable impact:** Businesses can directly see improvements from fewer no-shows/cancellations.\n",
       "\n",
       "---\n",
       "\n",
       "**Summary:**  \n",
       "Solving the problem of no-shows and last-minute cancellations with an AI-driven autonomous assistant that manages scheduling adjustments and personalized reminders is the top appointment scheduling pain point to address. It leads to significant revenue recovery, operational efficiency, and is highly scalable across small business verticals with relatively easy implementation."
      ],
      "text/plain": [
       "<IPython.core.display.Markdown object>"
      ]
     },
     "metadata": {},
     "output_type": "display_data"
    }
   ],
   "source": [
    "# Call openai for pain points \n",
    "response = openai.chat.completions.create(\n",
    "    messages=second_messages,\n",
    "    model=\"gpt-4.1-mini\"\n",
    ")\n",
    "\n",
    "pain_point = response.choices[0].message.content\n",
    "display(Markdown(pain_point))"
   ]
  },
  {
   "cell_type": "code",
   "execution_count": 17,
   "metadata": {},
   "outputs": [],
   "source": [
    "# Add pain points \n",
    "app.append({\"pain_points\": pain_point})"
   ]
  },
  {
   "cell_type": "code",
   "execution_count": 18,
   "metadata": {},
   "outputs": [
    {
     "data": {
      "text/plain": [
       "[{'business_idea': 'Appointment Scheduling and Management'},\n",
       " {'pain_points': '**Top Pain Point in Appointment Scheduling and Management:**  \\n**No-shows and last-minute cancellations cause revenue loss and operational inefficiency.**\\n\\n---\\n\\n### Why is this the top pain point?\\n\\n1. **Direct Revenue Impact:**  \\n   No-shows or last-minute cancellations lead to lost income since the time slot could have been booked by another paying customer.\\n\\n2. **Operational Disruptions:**  \\n   Staff and resources are allocated for appointments that do not happen, causing inefficiency and wasted effort.\\n\\n3. **User Frustration:**  \\n   Small business owners spend significant time rescheduling, following up, or managing empty slots, which limits their ability to focus on growth.\\n\\n4. **Limited Automation in Existing Solutions:**  \\n   Most appointment systems rely on manual reminders or non-personalized notifications, which are often ignored or ineffective.\\n\\n5. **High Scalability Potential:**  \\n   A solution that proactively reduces no-shows through agentic AI (e.g., intelligent rescheduling, personalized reminders, or dynamic booking slot optimization) can scale across industries like salons, clinics, tutoring, fitness, and more.\\n\\n---\\n\\n### Why is this pain point best to solve?\\n\\n- **High demand across many small business sectors:** Almost every appointment-based business faces no-shows.\\n- **Agentic AI can automate complex tasks:** An AI agent can autonomously manage reminders, offer alternative slots, and even handle dynamic rescheduling with minimal human input.\\n- **Immediate ROI:** Reducing no-shows quickly improves cash flow and utilization of time/resources.\\n- **User-friendly and quick to adopt:** Simple UI enhancements (like SMS or app-based intelligent reminders) are easy to implement and integrate with existing solutions.\\n- **Clear measurable impact:** Businesses can directly see improvements from fewer no-shows/cancellations.\\n\\n---\\n\\n**Summary:**  \\nSolving the problem of no-shows and last-minute cancellations with an AI-driven autonomous assistant that manages scheduling adjustments and personalized reminders is the top appointment scheduling pain point to address. It leads to significant revenue recovery, operational efficiency, and is highly scalable across small business verticals with relatively easy implementation.'}]"
      ]
     },
     "execution_count": 18,
     "metadata": {},
     "output_type": "execute_result"
    }
   ],
   "source": [
    "app"
   ]
  },
  {
   "cell_type": "code",
   "execution_count": 28,
   "metadata": {},
   "outputs": [
    {
     "data": {
      "text/markdown": [
       "```json\n",
       "{\n",
       "  \"src\": {\n",
       "    \"components\": {\n",
       "      \"AppointmentScheduler\": {\n",
       "        \"AppointmentScheduler.tsx\": \"Main UI component for booking, rescheduling, and canceling appointments; integrates with AI agent to suggest optimal slots and handle dynamic rebooking.\",\n",
       "        \"AppointmentList.tsx\": \"Displays a list/calendar view of upcoming appointments with status indicators (confirmed, pending, rescheduled, no-show).\",\n",
       "        \"AppointmentDetails.tsx\": \"Detailed view of a single appointment, showing customer info, history, and AI-driven recommendations for reminders or rescheduling.\"\n",
       "      },\n",
       "      \"AI\": {\n",
       "        \"AgentController.tsx\": \"Manages communication with backend AI agent that autonomously monitors appointments to detect potential no-shows and triggers actions (reminders, rescheduling offers).\",\n",
       "        \"ReminderGenerator.tsx\": \"Component responsible for generating personalized reminder messages using AI, adapting tone and timing based on user behavior and preferences.\",\n",
       "        \"RescheduleAssistant.tsx\": \"Handles dynamic suggestions for alternative appointment slots, offering seamless rescheduling options via AI prediction models.\"\n",
       "      },\n",
       "      \"Auth\": {\n",
       "        \"Login.tsx\": \"User login UI supporting email/password and social logins.\",\n",
       "        \"Register.tsx\": \"Signup and onboarding UI with form validation.\",\n",
       "        \"AuthProvider.tsx\": \"Context/provider managing authentication state, integrates with Authlib or similar libs, and handles token storage.\",\n",
       "        \"SocialLoginButtons.tsx\": \"Buttons/components for social login integrations (Google, Microsoft).\"\n",
       "      },\n",
       "      \"Payment\": {\n",
       "        \"PaymentForm.tsx\": \"Stripe payment form UI for collecting card details with PCI-compliant elements.\",\n",
       "        \"SubscriptionManager.tsx\": \"Allows users to select subscription plans and manage billing cycles (monthly/yearly) with region-specific pricing for USA, Canada, and Europe.\",\n",
       "        \"PaymentHistory.tsx\": \"Displays past invoices and payment statuses retrieved from Stripe API.\"\n",
       "      },\n",
       "      \"Dashboard\": {\n",
       "        \"BusinessDashboard.tsx\": \"Main business owner dashboard showing KPIs such as no-show rates, revenue impact, and appointment utilization rates with charts.\",\n",
       "        \"NotificationsPanel.tsx\": \"Shows system notifications, reminders sent, and AI suggestions history.\"\n",
       "      },\n",
       "      \"UI\": {\n",
       "        \"Button.tsx\": \"Reusable button component with multiple variants (primary, secondary, disabled).\",\n",
       "        \"Modal.tsx\": \"Generic modal/dialog component used across the app for confirmations and forms.\",\n",
       "        \"Input.tsx\": \"Generic input field with validation and error display.\",\n",
       "        \"LoadingSpinner.tsx\": \"Loading spinner animation used during async operations.\"\n",
       "      }\n",
       "    },\n",
       "    \"pages\": {\n",
       "      \"index.tsx\": \"Homepage presenting product overview, benefits of AI-driven no-show mitigation, and key features.\",\n",
       "      \"dashboard.tsx\": \"Protected route displaying BusinessDashboard component, accessible only by authenticated users.\",\n",
       "      \"login.tsx\": \"Page housing the Login component.\",\n",
       "      \"register.tsx\": \"Page for user registration.\",\n",
       "      \"payment.tsx\": \"Allows users to subscribe or upgrade plans, integrates PaymentForm and SubscriptionManager components.\",\n",
       "      \"appointments.tsx\": \"Page showing appointment scheduler interface with AppointmentScheduler and AI agent interactions.\"\n",
       "    },\n",
       "    \"api\": {\n",
       "      \"auth.ts\": \"API endpoints handling login, registration, logout, and social OAuth callbacks; integrates with Authlib or a chosen authentication provider.\",\n",
       "      \"appointments.ts\": \"REST/GraphQL API endpoints to create, update, delete, and fetch appointments; triggers AI agent tasks such as monitoring and rebooking logic.\",\n",
       "      \"payments.ts\": \"Stripe webhook handlers and payment processing APIs for subscription creation, upgrades, cancellations, and invoice retrieval.\",\n",
       "      \"ai-agent.ts\": \"Endpoints that interface with the backend AI models/services (could be serverless functions) for dynamic reminder generation, reschedule proposals, and no-show risk scoring.\"\n",
       "    },\n",
       "    \"hooks\": {\n",
       "      \"useAuth.ts\": \"Custom React hook to manage authentication state and provide user info and token refresh logic.\",\n",
       "      \"useAppointments.ts\": \"Hook encapsulating appointment CRUD logic and state management.\",\n",
       "      \"usePayment.ts\": \"Handles payment logic including subscription status, billing info retrieval, and Stripe interaction.\",\n",
       "      \"useAgent.ts\": \"Provides AI-related operations, fetches AI recommendations for reminders and scheduling optimizations.\"\n",
       "    },\n",
       "    \"utils\": {\n",
       "      \"apiClient.ts\": \"Configured HTTP client (axios or fetch wrapper) for making authenticated API requests.\",\n",
       "      \"dateUtils.ts\": \"Helper functions for date/time formatting, time zone conversions, and slot availability calculations.\",\n",
       "      \"validation.ts\": \"Form validation utilities for user inputs, appointment forms, and payment details.\",\n",
       "      \"notifications.ts\": \"Utility for in-app notifications and toast messages to inform users about booking status, payments or AI suggestions.\"\n",
       "    },\n",
       "    \"contexts\": {\n",
       "      \"AuthContext.tsx\": \"Provides authentication context to the app, shares user/session state globally.\",\n",
       "      \"AgentContext.tsx\": \"Shares AI agent state and actions globally for seamless appointment optimization flow.\"\n",
       "    },\n",
       "    \"config\": {\n",
       "      \"stripe.ts\": \"Stripe client configuration including public keys and environment variables.\",\n",
       "      \"appConfig.ts\": \"General app configuration constants such as API base URLs, supported regions, and feature flags.\"\n",
       "    },\n",
       "    \"database\": {\n",
       "      \"index.ts\": \"Database connection setup (e.g., Prisma or TypeORM config for PostgreSQL or MongoDB).\",\n",
       "      \"models\": {\n",
       "        \"User.ts\": \"User schema/model defining authentication fields, role, subscriptions and preferences.\",\n",
       "        \"Appointment.ts\": \"Model defining appointment details, status, associated user, and AI agent metadata (risk scores, reminder history).\",\n",
       "        \"Subscription.ts\": \"Schema for tracking subscription plans, payment status, and billing periods.\",\n",
       "        \"Notification.ts\": \"Stores sent reminders, user notifications, and AI feedback logs.\"\n",
       "      },\n",
       "      \"migrations\": \"Folder containing DB migration scripts to evolve schema safely.\"\n",
       "    },\n",
       "    \"styles\": {\n",
       "      \"globals.css\": \"Global styling rules and base resets.\",\n",
       "      \"theme.ts\": \"Defines color palette, typography, and spacing tokens for consistent design.\",\n",
       "      \"components\": {\n",
       "        \"Button.module.css\": \"CSS module for button styling.\",\n",
       "        \"Modal.module.css\": \"Modal specific styles.\"\n",
       "      }\n",
       "    },\n",
       "    \"types\": {\n",
       "      \"appointment.d.ts\": \"TypeScript types/interfaces for appointment objects and AI metadata.\",\n",
       "      \"user.d.ts\": \"Type definitions for user/auth data and social login payloads.\",\n",
       "      \"payment.d.ts\": \"Types representing payment and subscription data structures.\",\n",
       "      \"api.d.ts\": \"General types for API request and response payloads.\"\n",
       "    },\n",
       "    \"tests\": {\n",
       "      \"components\": {\n",
       "        \"AppointmentScheduler.test.tsx\": \"Unit and integration tests to cover appointment booking flows and AI interactions.\",\n",
       "        \"PaymentForm.test.tsx\": \"Payment form UI and input validation tests.\"\n",
       "      },\n",
       "      \"api\": {\n",
       "        \"appointments.test.ts\": \"API tests for appointment CRUD and AI webhook endpoints.\",\n",
       "        \"payments.test.ts\": \"Stripe API integration and webhook behavior tests.\"\n",
       "      },\n",
       "      \"e2e\": {\n",
       "        \"bookingFlow.spec.ts\": \"End-to-end test for the full booking, reminder, and rescheduling lifecycle.\"\n",
       "      }\n",
       "    }\n",
       "  },\n",
       "  \"public\": {\n",
       "    \"favicon.ico\": \"App icon.\",\n",
       "    \"robots.txt\": \"SEO and crawler settings.\",\n",
       "    \"manifest.json\": \"Progressive Web App manifest file.\"\n",
       "  },\n",
       "  \"README.md\": \"Documentation on project setup, running, environment variables, and deployment guidelines.\",\n",
       "  \".env.example\": \"Template environment variables for API keys, database URLs, Stripe keys, and AI service credentials.\"\n",
       "}\n",
       "```"
      ],
      "text/plain": [
       "<IPython.core.display.Markdown object>"
      ]
     },
     "metadata": {},
     "output_type": "display_data"
    }
   ],
   "source": [
    "# Let's create an app structure, for website, since we have all the information. \n",
    "third_user_prompt =f\"\"\"Please create a react website file directory structure. You're given the business idea, along \n",
    "with the following pain points \\n. {pain_point}.\n",
    "Respond in json format. The structure should also include stripe payment, and a database.\n",
    "Please, add as much details as possible for explaining directory and files/ components. \n",
    "For example:\n",
    "\n",
    "    \"payment.tsx\" : \"stripe payment integration endpoints, for visa, credit and any other cards. User from USA, CANADA, and EUROPE, can make easy monthly subscription. \"\n",
    "    \"user.tsx\" : \"user authentication and management APIs with the following library Authlib, and with social logins API such as Google and Microsoft... \"\n",
    "\n",
    "\"\"\"\n",
    "\n",
    "third_messages = [\n",
    "    {\"role\": \"system\", \"content\": system_prompt},\n",
    "    {\"role\": \"user\", \"content\": third_user_prompt}\n",
    "]\n",
    "\n",
    "response  = openai.chat.completions.create(\n",
    "    messages=third_messages,\n",
    "    model=\"gpt-4.1-mini\"    \n",
    ")\n",
    "structure = response.choices[0].message.content\n",
    "display(Markdown(structure))\n"
   ]
  },
  {
   "cell_type": "code",
   "execution_count": 29,
   "metadata": {},
   "outputs": [],
   "source": [
    "app.append({\"app_structure\": structure})"
   ]
  },
  {
   "cell_type": "code",
   "execution_count": 30,
   "metadata": {},
   "outputs": [
    {
     "data": {
      "text/plain": [
       "[{'business_idea': 'Appointment Scheduling and Management'},\n",
       " {'pain_points': '**Top Pain Point in Appointment Scheduling and Management:**  \\n**No-shows and last-minute cancellations cause revenue loss and operational inefficiency.**\\n\\n---\\n\\n### Why is this the top pain point?\\n\\n1. **Direct Revenue Impact:**  \\n   No-shows or last-minute cancellations lead to lost income since the time slot could have been booked by another paying customer.\\n\\n2. **Operational Disruptions:**  \\n   Staff and resources are allocated for appointments that do not happen, causing inefficiency and wasted effort.\\n\\n3. **User Frustration:**  \\n   Small business owners spend significant time rescheduling, following up, or managing empty slots, which limits their ability to focus on growth.\\n\\n4. **Limited Automation in Existing Solutions:**  \\n   Most appointment systems rely on manual reminders or non-personalized notifications, which are often ignored or ineffective.\\n\\n5. **High Scalability Potential:**  \\n   A solution that proactively reduces no-shows through agentic AI (e.g., intelligent rescheduling, personalized reminders, or dynamic booking slot optimization) can scale across industries like salons, clinics, tutoring, fitness, and more.\\n\\n---\\n\\n### Why is this pain point best to solve?\\n\\n- **High demand across many small business sectors:** Almost every appointment-based business faces no-shows.\\n- **Agentic AI can automate complex tasks:** An AI agent can autonomously manage reminders, offer alternative slots, and even handle dynamic rescheduling with minimal human input.\\n- **Immediate ROI:** Reducing no-shows quickly improves cash flow and utilization of time/resources.\\n- **User-friendly and quick to adopt:** Simple UI enhancements (like SMS or app-based intelligent reminders) are easy to implement and integrate with existing solutions.\\n- **Clear measurable impact:** Businesses can directly see improvements from fewer no-shows/cancellations.\\n\\n---\\n\\n**Summary:**  \\nSolving the problem of no-shows and last-minute cancellations with an AI-driven autonomous assistant that manages scheduling adjustments and personalized reminders is the top appointment scheduling pain point to address. It leads to significant revenue recovery, operational efficiency, and is highly scalable across small business verticals with relatively easy implementation.'},\n",
       " {'app_structure': '```json\\n{\\n  \"src\": {\\n    \"components\": {\\n      \"AppointmentScheduler\": {\\n        \"AppointmentScheduler.tsx\": \"Main UI component for booking, rescheduling, and canceling appointments; integrates with AI agent to suggest optimal slots and handle dynamic rebooking.\",\\n        \"AppointmentList.tsx\": \"Displays a list/calendar view of upcoming appointments with status indicators (confirmed, pending, rescheduled, no-show).\",\\n        \"AppointmentDetails.tsx\": \"Detailed view of a single appointment, showing customer info, history, and AI-driven recommendations for reminders or rescheduling.\"\\n      },\\n      \"AI\": {\\n        \"AgentController.tsx\": \"Manages communication with backend AI agent that autonomously monitors appointments to detect potential no-shows and triggers actions (reminders, rescheduling offers).\",\\n        \"ReminderGenerator.tsx\": \"Component responsible for generating personalized reminder messages using AI, adapting tone and timing based on user behavior and preferences.\",\\n        \"RescheduleAssistant.tsx\": \"Handles dynamic suggestions for alternative appointment slots, offering seamless rescheduling options via AI prediction models.\"\\n      },\\n      \"Auth\": {\\n        \"Login.tsx\": \"User login UI supporting email/password and social logins.\",\\n        \"Register.tsx\": \"Signup and onboarding UI with form validation.\",\\n        \"AuthProvider.tsx\": \"Context/provider managing authentication state, integrates with Authlib or similar libs, and handles token storage.\",\\n        \"SocialLoginButtons.tsx\": \"Buttons/components for social login integrations (Google, Microsoft).\"\\n      },\\n      \"Payment\": {\\n        \"PaymentForm.tsx\": \"Stripe payment form UI for collecting card details with PCI-compliant elements.\",\\n        \"SubscriptionManager.tsx\": \"Allows users to select subscription plans and manage billing cycles (monthly/yearly) with region-specific pricing for USA, Canada, and Europe.\",\\n        \"PaymentHistory.tsx\": \"Displays past invoices and payment statuses retrieved from Stripe API.\"\\n      },\\n      \"Dashboard\": {\\n        \"BusinessDashboard.tsx\": \"Main business owner dashboard showing KPIs such as no-show rates, revenue impact, and appointment utilization rates with charts.\",\\n        \"NotificationsPanel.tsx\": \"Shows system notifications, reminders sent, and AI suggestions history.\"\\n      },\\n      \"UI\": {\\n        \"Button.tsx\": \"Reusable button component with multiple variants (primary, secondary, disabled).\",\\n        \"Modal.tsx\": \"Generic modal/dialog component used across the app for confirmations and forms.\",\\n        \"Input.tsx\": \"Generic input field with validation and error display.\",\\n        \"LoadingSpinner.tsx\": \"Loading spinner animation used during async operations.\"\\n      }\\n    },\\n    \"pages\": {\\n      \"index.tsx\": \"Homepage presenting product overview, benefits of AI-driven no-show mitigation, and key features.\",\\n      \"dashboard.tsx\": \"Protected route displaying BusinessDashboard component, accessible only by authenticated users.\",\\n      \"login.tsx\": \"Page housing the Login component.\",\\n      \"register.tsx\": \"Page for user registration.\",\\n      \"payment.tsx\": \"Allows users to subscribe or upgrade plans, integrates PaymentForm and SubscriptionManager components.\",\\n      \"appointments.tsx\": \"Page showing appointment scheduler interface with AppointmentScheduler and AI agent interactions.\"\\n    },\\n    \"api\": {\\n      \"auth.ts\": \"API endpoints handling login, registration, logout, and social OAuth callbacks; integrates with Authlib or a chosen authentication provider.\",\\n      \"appointments.ts\": \"REST/GraphQL API endpoints to create, update, delete, and fetch appointments; triggers AI agent tasks such as monitoring and rebooking logic.\",\\n      \"payments.ts\": \"Stripe webhook handlers and payment processing APIs for subscription creation, upgrades, cancellations, and invoice retrieval.\",\\n      \"ai-agent.ts\": \"Endpoints that interface with the backend AI models/services (could be serverless functions) for dynamic reminder generation, reschedule proposals, and no-show risk scoring.\"\\n    },\\n    \"hooks\": {\\n      \"useAuth.ts\": \"Custom React hook to manage authentication state and provide user info and token refresh logic.\",\\n      \"useAppointments.ts\": \"Hook encapsulating appointment CRUD logic and state management.\",\\n      \"usePayment.ts\": \"Handles payment logic including subscription status, billing info retrieval, and Stripe interaction.\",\\n      \"useAgent.ts\": \"Provides AI-related operations, fetches AI recommendations for reminders and scheduling optimizations.\"\\n    },\\n    \"utils\": {\\n      \"apiClient.ts\": \"Configured HTTP client (axios or fetch wrapper) for making authenticated API requests.\",\\n      \"dateUtils.ts\": \"Helper functions for date/time formatting, time zone conversions, and slot availability calculations.\",\\n      \"validation.ts\": \"Form validation utilities for user inputs, appointment forms, and payment details.\",\\n      \"notifications.ts\": \"Utility for in-app notifications and toast messages to inform users about booking status, payments or AI suggestions.\"\\n    },\\n    \"contexts\": {\\n      \"AuthContext.tsx\": \"Provides authentication context to the app, shares user/session state globally.\",\\n      \"AgentContext.tsx\": \"Shares AI agent state and actions globally for seamless appointment optimization flow.\"\\n    },\\n    \"config\": {\\n      \"stripe.ts\": \"Stripe client configuration including public keys and environment variables.\",\\n      \"appConfig.ts\": \"General app configuration constants such as API base URLs, supported regions, and feature flags.\"\\n    },\\n    \"database\": {\\n      \"index.ts\": \"Database connection setup (e.g., Prisma or TypeORM config for PostgreSQL or MongoDB).\",\\n      \"models\": {\\n        \"User.ts\": \"User schema/model defining authentication fields, role, subscriptions and preferences.\",\\n        \"Appointment.ts\": \"Model defining appointment details, status, associated user, and AI agent metadata (risk scores, reminder history).\",\\n        \"Subscription.ts\": \"Schema for tracking subscription plans, payment status, and billing periods.\",\\n        \"Notification.ts\": \"Stores sent reminders, user notifications, and AI feedback logs.\"\\n      },\\n      \"migrations\": \"Folder containing DB migration scripts to evolve schema safely.\"\\n    },\\n    \"styles\": {\\n      \"globals.css\": \"Global styling rules and base resets.\",\\n      \"theme.ts\": \"Defines color palette, typography, and spacing tokens for consistent design.\",\\n      \"components\": {\\n        \"Button.module.css\": \"CSS module for button styling.\",\\n        \"Modal.module.css\": \"Modal specific styles.\"\\n      }\\n    },\\n    \"types\": {\\n      \"appointment.d.ts\": \"TypeScript types/interfaces for appointment objects and AI metadata.\",\\n      \"user.d.ts\": \"Type definitions for user/auth data and social login payloads.\",\\n      \"payment.d.ts\": \"Types representing payment and subscription data structures.\",\\n      \"api.d.ts\": \"General types for API request and response payloads.\"\\n    },\\n    \"tests\": {\\n      \"components\": {\\n        \"AppointmentScheduler.test.tsx\": \"Unit and integration tests to cover appointment booking flows and AI interactions.\",\\n        \"PaymentForm.test.tsx\": \"Payment form UI and input validation tests.\"\\n      },\\n      \"api\": {\\n        \"appointments.test.ts\": \"API tests for appointment CRUD and AI webhook endpoints.\",\\n        \"payments.test.ts\": \"Stripe API integration and webhook behavior tests.\"\\n      },\\n      \"e2e\": {\\n        \"bookingFlow.spec.ts\": \"End-to-end test for the full booking, reminder, and rescheduling lifecycle.\"\\n      }\\n    }\\n  },\\n  \"public\": {\\n    \"favicon.ico\": \"App icon.\",\\n    \"robots.txt\": \"SEO and crawler settings.\",\\n    \"manifest.json\": \"Progressive Web App manifest file.\"\\n  },\\n  \"README.md\": \"Documentation on project setup, running, environment variables, and deployment guidelines.\",\\n  \".env.example\": \"Template environment variables for API keys, database URLs, Stripe keys, and AI service credentials.\"\\n}\\n```'}]"
      ]
     },
     "execution_count": 30,
     "metadata": {},
     "output_type": "execute_result"
    }
   ],
   "source": [
    "app"
   ]
  },
  {
   "cell_type": "code",
   "execution_count": 31,
   "metadata": {},
   "outputs": [],
   "source": [
    "system_prompt = \"You're a react app developer\""
   ]
  },
  {
   "cell_type": "code",
   "execution_count": 32,
   "metadata": {},
   "outputs": [],
   "source": [
    "double_check_app_structure_prompt = f\"\"\"You're given the following {app}, please double check \n",
    "if there are any errors with structure, or  navigation. If there're mistake please show them with an explanation.\n",
    "If no errors, please jus say 'No need to modify' \"\"\""
   ]
  },
  {
   "cell_type": "code",
   "execution_count": 33,
   "metadata": {},
   "outputs": [],
   "source": [
    "messages = [\n",
    "    {\"role\": \"system\", \"content\" : system_prompt},\n",
    "    {\"role\": \"user\", \"content\": double_check_app_structure_prompt}\n",
    "]"
   ]
  },
  {
   "cell_type": "code",
   "execution_count": null,
   "metadata": {},
   "outputs": [
    {
     "data": {
      "text/markdown": [
       "No need to modify"
      ],
      "text/plain": [
       "<IPython.core.display.Markdown object>"
      ]
     },
     "metadata": {},
     "output_type": "display_data"
    }
   ],
   "source": [
    "\"\"\"\n",
    "We need to double check if the app structure is correct. We can use other models, \n",
    "deepseek seems to add extra files, and stays out of context, so let's stick with \n",
    "openai for now. \n",
    "\"\"\"\n",
    "response = openai.chat.completions.create(\n",
    "    messages=messages,\n",
    "    model=\"gpt-4.1\"  \n",
    ")\n",
    "\n",
    "double_check = response.choices[0].message.content\n",
    "display(Markdown(double_check))"
   ]
  },
  {
   "cell_type": "code",
   "execution_count": 41,
   "metadata": {},
   "outputs": [],
   "source": [
    "implement = False\n",
    "if double_check == 'No need to modify':\n",
    "    implement = True\n",
    "else:\n",
    "    implement = False\n"
   ]
  },
  {
   "cell_type": "code",
   "execution_count": null,
   "metadata": {},
   "outputs": [],
   "source": [
    "def create_app_file_structure(json_app_structure):\n",
    "    try:\n",
    "        # Parse the data\n",
    "        data = json.loads(json_app_structure)\n",
    "        files = data[\"src\"]\n",
    "        \n",
    "        # Loop through dir and files\n",
    "        # if dir contains files\n",
    "            # loop\n",
    "        \n",
    "    except json.JSONDecodeError as e:\n",
    "        print(f'Error encoding JSON {e}')\n",
    "    except KeyError as e:\n",
    "        print(f'Missing key in JSON {e} ')\n",
    "    except Exception as e:\n",
    "        print(f'Unknown error {e}')\n",
    "        "
   ]
  },
  {
   "cell_type": "code",
   "execution_count": 43,
   "metadata": {},
   "outputs": [],
   "source": [
    "system_prompt = f\"\"\"You're Senior react developer with over 10 years of experience. \n",
    "You always double check your work.\"\"\"\n",
    "\n",
    "user_prompt = f\"\"\"Please write the source code for src/components files only. You're given \n",
    "the following app details in the {structure}\\n\n",
    "You're also provided with tool to save the source code.\"\"\""
   ]
  }
 ],
 "metadata": {
  "kernelspec": {
   "display_name": ".venv",
   "language": "python",
   "name": "python3"
  },
  "language_info": {
   "codemirror_mode": {
    "name": "ipython",
    "version": 3
   },
   "file_extension": ".py",
   "mimetype": "text/x-python",
   "name": "python",
   "nbconvert_exporter": "python",
   "pygments_lexer": "ipython3",
   "version": "3.12.2"
  }
 },
 "nbformat": 4,
 "nbformat_minor": 2
}
