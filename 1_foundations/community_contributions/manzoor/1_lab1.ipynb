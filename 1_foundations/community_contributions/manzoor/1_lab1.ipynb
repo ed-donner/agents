{
 "cells": [
  {
   "cell_type": "markdown",
   "metadata": {},
   "source": [
    "<h1>Create React App Structure Using Multi Agents </h1>\n",
    "<h3>Using only OpenAI to create an app structure for react native apps. </h3>\n",
    "<h6>The files won't contain any source code yet, for this OpenAI SDK would be the best, to create Agents and create source code.</h6>"
   ]
  },
  {
   "cell_type": "code",
   "execution_count": null,
   "metadata": {},
   "outputs": [],
   "source": [
    "# Let's import environment variables\n",
    "from dotenv import load_dotenv\n",
    "load_dotenv(override=True)"
   ]
  },
  {
   "cell_type": "code",
   "execution_count": null,
   "metadata": {},
   "outputs": [],
   "source": [
    "import os\n",
    "import json\n",
    "from IPython.display import Markdown, display\n",
    "from openai import OpenAI"
   ]
  },
  {
   "cell_type": "code",
   "execution_count": null,
   "metadata": {},
   "outputs": [],
   "source": [
    "openai_api_key = os.getenv('OPENAI_API_KEY')\n",
    "deepseek_api_key = os.getenv('DEEPSEEK_API_KEY')\n",
    "\n",
    "if not openai_api_key:\n",
    "    print('Missing OpenaAI API key.')\n",
    "if not deepseek_api_key:\n",
    "    print('Missing Deepseek API key')\n",
    "if openai_api_key and deepseek_api_key:\n",
    "    print(f'OpenAI: {openai_api_key[-10:]}\\n')\n",
    "    print(f'Deepseek: {deepseek_api_key[-10:]}\\n')\n"
   ]
  },
  {
   "cell_type": "code",
   "execution_count": null,
   "metadata": {},
   "outputs": [],
   "source": [
    "openai = OpenAI()"
   ]
  },
  {
   "cell_type": "code",
   "execution_count": null,
   "metadata": {},
   "outputs": [],
   "source": [
    "\n",
    "deepseek = OpenAI(api_key=deepseek_api_key, base_url=\"https://api.deepseek.com\")"
   ]
  },
  {
   "cell_type": "code",
   "execution_count": null,
   "metadata": {},
   "outputs": [],
   "source": [
    "# system prompt form entrepreneur want to create a SASS app.  \n",
    " \n",
    "system_prompt = \"\"\"\n",
    "You're an entrepreneur looking to develop and invest in emerging AI-driven small SaaS applications, \n",
    "to solve huge numbers of users' pain point for small business, for example book keeping, reservations, taxes, employees records and so on. \n",
    "You focus on solutions that use agentic AI for solving real-world small business problems with minimal human oversight,\n",
    "offering scalability and innovation. You select the the idea that that has the highest potential for market disruption at the same time,\n",
    "helping small business to save time and money. \n",
    "\"\"\"\n",
    "\n",
    "user_prompt = \"Pick a business area that might be worth exploring for Agentic AI, Respond with just the business area name. \"\n",
    "\n",
    "messages = [\n",
    "    {\"role\": \"system\", \"content\":system_prompt},\n",
    "    {\"role\": \"user\", \"content\": user_prompt},\n",
    "]\n",
    "\n",
    "# Call openai\n",
    "response = openai.chat.completions.create(\n",
    "    model=\"gpt-4.1-mini\",\n",
    "    messages=messages\n",
    ")\n",
    "\n",
    "# Then read the business idea:\n",
    "business_idea = response.choices[0].message.content\n",
    "display(Markdown(business_idea))"
   ]
  },
  {
   "cell_type": "code",
   "execution_count": null,
   "metadata": {},
   "outputs": [],
   "source": [
    "# We'll store the structure of the app\n",
    "app = []"
   ]
  },
  {
   "cell_type": "code",
   "execution_count": null,
   "metadata": {},
   "outputs": [],
   "source": [
    "app.append(\n",
    "    {\"business_idea\": business_idea}\n",
    ")"
   ]
  },
  {
   "cell_type": "code",
   "execution_count": null,
   "metadata": {},
   "outputs": [],
   "source": [
    "app"
   ]
  },
  {
   "cell_type": "code",
   "execution_count": null,
   "metadata": {},
   "outputs": [],
   "source": [
    "# Create a second prompt for pain points in business idea category\n",
    "user_second_prompt = f\"Find user pain points in {business_idea} areas. Give reasons and why this pain point is the best to solve. List the top 1.\"\n",
    "second_messages = [\n",
    "    {\"role\": \"system\", \"content\": system_prompt},\n",
    "    {\"role\": \"user\", \"content\": user_second_prompt}\n",
    "]"
   ]
  },
  {
   "cell_type": "code",
   "execution_count": null,
   "metadata": {},
   "outputs": [],
   "source": [
    "# Call openai for pain points \n",
    "response = openai.chat.completions.create(\n",
    "    messages=second_messages,\n",
    "    model=\"gpt-4.1-mini\"\n",
    ")\n",
    "\n",
    "pain_point = response.choices[0].message.content\n",
    "display(Markdown(pain_point))"
   ]
  },
  {
   "cell_type": "code",
   "execution_count": null,
   "metadata": {},
   "outputs": [],
   "source": [
    "# Add pain points \n",
    "app.append({\"pain_points\": pain_point})"
   ]
  },
  {
   "cell_type": "code",
   "execution_count": null,
   "metadata": {},
   "outputs": [],
   "source": [
    "app"
   ]
  },
  {
   "cell_type": "code",
   "execution_count": null,
   "metadata": {},
   "outputs": [],
   "source": [
    "# Let's create an app structure, for website, since we have all the information. \n",
    "third_user_prompt =f\"\"\"Please create a react website file directory structure. You're given the business idea, along \n",
    "with the following pain points \\n. {pain_point}.\n",
    "Respond in json format. The structure should also include stripe payment, and a database.\n",
    "Please, add as much details as possible for explaining directory and files/ components. \n",
    "For example:\n",
    "\n",
    "    \"payment.tsx\" : \"stripe payment integration endpoints, for visa, credit and any other cards. User from USA, CANADA, and EUROPE, can make easy monthly subscription. \"\n",
    "    \"user.tsx\" : \"user authentication and management APIs with the following library Authlib, and with social logins API such as Google and Microsoft... \"\n",
    "\n",
    "\"\"\"\n",
    "\n",
    "third_messages = [\n",
    "    {\"role\": \"system\", \"content\": system_prompt},\n",
    "    {\"role\": \"user\", \"content\": third_user_prompt}\n",
    "]\n",
    "\n",
    "response  = openai.chat.completions.create(\n",
    "    messages=third_messages,\n",
    "    model=\"gpt-4.1-mini\"    \n",
    ")\n",
    "structure = response.choices[0].message.content\n",
    "display(Markdown(structure))\n"
   ]
  },
  {
   "cell_type": "code",
   "execution_count": null,
   "metadata": {},
   "outputs": [],
   "source": [
    "app.append({\"app_structure\": structure})"
   ]
  },
  {
   "cell_type": "code",
   "execution_count": null,
   "metadata": {},
   "outputs": [],
   "source": [
    "app"
   ]
  },
  {
   "cell_type": "code",
   "execution_count": null,
   "metadata": {},
   "outputs": [],
   "source": [
    "system_prompt = \"You're a react app developer\""
   ]
  },
  {
   "cell_type": "code",
   "execution_count": null,
   "metadata": {},
   "outputs": [],
   "source": [
    "double_check_app_structure_prompt = f\"\"\"You're given the following {app}, please double check \n",
    "if there are any errors with structure, or  navigation. If there're mistake please show them with an explanation.\n",
    "If no errors, please jus say 'No need to modify' \"\"\""
   ]
  },
  {
   "cell_type": "code",
   "execution_count": null,
   "metadata": {},
   "outputs": [],
   "source": [
    "messages = [\n",
    "    {\"role\": \"system\", \"content\" : system_prompt},\n",
    "    {\"role\": \"user\", \"content\": double_check_app_structure_prompt}\n",
    "]"
   ]
  },
  {
   "cell_type": "code",
   "execution_count": null,
   "metadata": {},
   "outputs": [],
   "source": [
    "\"\"\"\n",
    "We need to double check if the app structure is correct. We can use other models, \n",
    "deepseek seems to add extra files, and stays out of context, so let's stick with \n",
    "openai for now. \n",
    "\"\"\"\n",
    "response = openai.chat.completions.create(\n",
    "    messages=messages,\n",
    "    model=\"gpt-4.1\"  \n",
    ")\n",
    "\n",
    "double_check = response.choices[0].message.content\n",
    "display(Markdown(double_check))"
   ]
  },
  {
   "cell_type": "code",
   "execution_count": null,
   "metadata": {},
   "outputs": [],
   "source": [
    "implement = False\n",
    "if double_check == 'No need to modify':\n",
    "    implement = True\n",
    "else:\n",
    "    implement = False\n"
   ]
  },
  {
   "cell_type": "code",
   "execution_count": null,
   "metadata": {},
   "outputs": [],
   "source": [
    "# Create the file structure recursively, from structure in current directory\n",
    "def create_file_structure(structure, parent_dir='.'):\n",
    "    for name, content in structure.items():\n",
    "        path = os.path.join(parent_dir, name)\n",
    "        if isinstance(content, dict):\n",
    "            # It's a directory\n",
    "            os.makedirs(path, exist_ok=True)\n",
    "            create_file_structure(content, path)\n",
    "        else:\n",
    "            # It's a file, create empty file\n",
    "            os.makedirs(parent_dir, exist_ok=True)\n",
    "            with open(path, 'w', encoding='utf-8') as f:\n",
    "                # We can write the description as comment for reference, or leave empty\n",
    "                # Here writing description as comment to the file\n",
    "                if name.endswith(('.ts', '.tsx', '.js', '.jsx')):\n",
    "                    # for typescript/js files, use empty lines\n",
    "                    for line in content.split('\\n'):\n",
    "                        f.write(f\"\\n\")\n",
    "                elif name.endswith(('.css', '.json')):\n",
    "                    # css uses /* */, json uses nothing usually, write as json comment-like\n",
    "                    for line in content.split('\\n'):\n",
    "                        f.write(f\"\\n\")\n",
    "                elif name.endswith('.md'):\n",
    "                    # markdown use >\n",
    "                    for line in content.split('\\n'):\n",
    "                        f.write(f\"\\n\")\n",
    "                else:\n",
    "                    # default write plain text description\n",
    "                    f.write(content + '\\n')"
   ]
  },
  {
   "cell_type": "code",
   "execution_count": null,
   "metadata": {},
   "outputs": [],
   "source": [
    "if implement:\n",
    "    print(\"Creating the app structure directory and files...\")\n",
    "    # Remove markdown code block if present\n",
    "    if structure.startswith(\"```json\"):\n",
    "        json_str = structure.strip()[7:-3].strip()\n",
    "    else:\n",
    "        json_str = structure\n",
    "        \n",
    "    structure_dict = json.loads(json_str)\n",
    "    create_file_structure(structure_dict)\n",
    "    print(\"App structure created.\")\n",
    "else:\n",
    "    print(\"App structure needs modification, not implementing yet.\")\n",
    "    \n",
    "    # Let's call openai to fix the structure, if needed.\n",
    "    # We can loop until the structure is correct, but for now let's stop here.\n",
    "    # TODO"
   ]
  },
  {
   "cell_type": "code",
   "execution_count": null,
   "metadata": {},
   "outputs": [],
   "source": [
    "response = openai.chat.completions.create(\n",
    "    messages=[\n",
    "        {\"role\":\"system\", \"content\": system_prompt},\n",
    "        {\"role\": \"user\",\"content\": function_prompt}\n",
    "    ],\n",
    "    model=\"gpt-4.1-mini\"\n",
    ")\n",
    "dir_func = response.choices[0].message.content\n",
    "display(Markdown(dir_func))"
   ]
  },
  {
   "cell_type": "markdown",
   "metadata": {},
   "source": []
  },
  {
   "cell_type": "code",
   "execution_count": null,
   "metadata": {},
   "outputs": [],
   "source": [
    "system_prompt = f\"\"\"You're Senior react developer with over 10 years of experience. \n",
    "You always double check your work.\"\"\"\n",
    "\n",
    "user_prompt = f\"\"\"Please write the source code for src/components files only. You're given \n",
    "the following app details in the {structure}\\n\n",
    "You're also provided with tool to save the source code.\"\"\""
   ]
  }
 ],
 "metadata": {
  "kernelspec": {
   "display_name": ".venv",
   "language": "python",
   "name": "python3"
  },
  "language_info": {
   "codemirror_mode": {
    "name": "ipython",
    "version": 3
   },
   "file_extension": ".py",
   "mimetype": "text/x-python",
   "name": "python",
   "nbconvert_exporter": "python",
   "pygments_lexer": "ipython3",
   "version": "3.12.2"
  }
 },
 "nbformat": 4,
 "nbformat_minor": 2
}
