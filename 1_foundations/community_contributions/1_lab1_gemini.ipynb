{
 "cells": [
  {
   "cell_type": "markdown",
   "metadata": {},
   "source": [
    "# Welcome to the start of your adventure in Agentic AI"
   ]
  },
  {
   "cell_type": "markdown",
   "metadata": {},
   "source": [
    "<table style=\"margin: 0; text-align: left; width:100%\">\n",
    "    <tr>\n",
    "        <td style=\"width: 150px; height: 150px; vertical-align: middle;\">\n",
    "            <img src=\"../../assets/stop.png\" width=\"150\" height=\"150\" style=\"display: block;\" />\n",
    "        </td>\n",
    "        <td>\n",
    "            <h2 style=\"color:#ff7800;\">Are you ready for action??</h2>\n",
    "            <span style=\"color:#ff7800;\">Have you completed all the setup steps in the <a href=\"../setup/\">setup</a> folder?<br/>\n",
    "            Have you checked out the guides in the <a href=\"../guides/01_intro.ipynb\">guides</a> folder?<br/>\n",
    "            Well in that case, you're ready!!\n",
    "            </span>\n",
    "        </td>\n",
    "    </tr>\n",
    "</table>"
   ]
  },
  {
   "cell_type": "markdown",
   "metadata": {},
   "source": [
    "<table style=\"margin: 0; text-align: left; width:100%\">\n",
    "    <tr>\n",
    "        <td style=\"width: 150px; height: 150px; vertical-align: middle;\">\n",
    "            <img src=\"../../assets/tools.png\" width=\"150\" height=\"150\" style=\"display: block;\" />\n",
    "        </td>\n",
    "        <td>\n",
    "            <h2 style=\"color:#00bfff;\">Treat these labs as a resource</h2>\n",
    "            <span style=\"color:#00bfff;\">I push updates to the code regularly. When people ask questions or have problems, I incorporate it in the code, adding more examples or improved commentary. As a result, you'll notice that the code below isn't identical to the videos. Everything from the videos is here; but in addition, I've added more steps and better explanations. Consider this like an interactive book that accompanies the lectures.\n",
    "            </span>\n",
    "        </td>\n",
    "    </tr>\n",
    "</table>"
   ]
  },
  {
   "cell_type": "markdown",
   "metadata": {},
   "source": [
    "### And please do remember to contact me if I can help\n",
    "\n",
    "And I love to connect: https://www.linkedin.com/in/eddonner/\n",
    "\n",
    "\n",
    "### New to Notebooks like this one? Head over to the guides folder!\n",
    "\n",
    "Just to check you've already added the Python and Jupyter extensions to Cursor, if not already installed:\n",
    "- Open extensions (View >> extensions)\n",
    "- Search for python, and when the results show, click on the ms-python one, and Install it if not already installed\n",
    "- Search for jupyter, and when the results show, click on the Microsoft one, and Install it if not already installed  \n",
    "Then View >> Explorer to bring back the File Explorer.\n",
    "\n",
    "And then:\n",
    "1. Run `uv add google-genai` to install the Google Gemini library. (If you had started your environment before running this command, you will need to restart your environment in the Jupyter notebook.)\n",
    "2. Click where it says \"Select Kernel\" near the top right, and select the option called `.venv (Python 3.12.9)` or similar, which should be the first choice or the most prominent choice. You may need to choose \"Python Environments\" first.\n",
    "3. Click in each \"cell\" below, starting with the cell immediately below this text, and press Shift+Enter to run\n",
    "4. Enjoy!\n",
    "\n",
    "After you click \"Select Kernel\", if there is no option like `.venv (Python 3.12.9)` then please do the following:  \n",
    "1. From the Cursor menu, choose Settings >> VSCode Settings (NOTE: be sure to select `VSCode Settings` not `Cursor Settings`)  \n",
    "2. In the Settings search bar, type \"venv\"  \n",
    "3. In the field \"Path to folder with a list of Virtual Environments\" put the path to the project root, like C:\\Users\\username\\projects\\agents (on a Windows PC) or /Users/username/projects/agents (on Mac or Linux).  \n",
    "And then try again.\n",
    "\n",
    "Having problems with missing Python versions in that list? Have you ever used Anaconda before? It might be interferring. Quit Cursor, bring up a new command line, and make sure that your Anaconda environment is deactivated:    \n",
    "`conda deactivate`  \n",
    "And if you still have any problems with conda and python versions, it's possible that you will need to run this too:  \n",
    "`conda config --set auto_activate_base false`  \n",
    "and then from within the Agents directory, you should be able to run `uv python list` and see the Python 3.12 version."
   ]
  },
  {
   "cell_type": "code",
   "execution_count": 1,
   "metadata": {},
   "outputs": [],
   "source": [
    "# First let's do an import\n",
    "from dotenv import load_dotenv\n"
   ]
  },
  {
   "cell_type": "code",
   "execution_count": 19,
   "metadata": {},
   "outputs": [
    {
     "data": {
      "text/plain": [
       "True"
      ]
     },
     "execution_count": 19,
     "metadata": {},
     "output_type": "execute_result"
    }
   ],
   "source": [
    "# Next it's time to load the API keys into environment variables\n",
    "\n",
    "load_dotenv(override=True)"
   ]
  },
  {
   "cell_type": "code",
   "execution_count": 20,
   "metadata": {},
   "outputs": [
    {
     "name": "stdout",
     "output_type": "stream",
     "text": [
      "Gemini API Key exists and begins AIzaSyDd\n"
     ]
    }
   ],
   "source": [
    "# Check the keys\n",
    "\n",
    "import os\n",
    "gemini_api_key = os.getenv('GEMINI_API_KEY')\n",
    "\n",
    "if gemini_api_key:\n",
    "    print(f\"Gemini API Key exists and begins {gemini_api_key[:8]}\")\n",
    "else:\n",
    "    print(\"Gemini API Key not set - please head to the troubleshooting guide in the guides folder\")\n",
    "    \n"
   ]
  },
  {
   "cell_type": "code",
   "execution_count": 21,
   "metadata": {},
   "outputs": [],
   "source": [
    "# And now - the all important import statement\n",
    "# If you get an import error - head over to troubleshooting guide\n",
    "\n",
    "from google import genai"
   ]
  },
  {
   "cell_type": "code",
   "execution_count": 22,
   "metadata": {},
   "outputs": [],
   "source": [
    "# And now we'll create an instance of the Gemini GenAI class\n",
    "# If you're not sure what it means to create an instance of a class - head over to the guides folder!\n",
    "# If you get a NameError - head over to the guides folder to learn about NameErrors\n",
    "\n",
    "client = genai.Client(api_key=gemini_api_key)"
   ]
  },
  {
   "cell_type": "code",
   "execution_count": 23,
   "metadata": {},
   "outputs": [],
   "source": [
    "# Create a list of messages in the familiar Gemini GenAI format\n",
    "\n",
    "messages = [{\"role\": \"user\", \"content\": \"What is 2+2?\"}]"
   ]
  },
  {
   "cell_type": "code",
   "execution_count": 25,
   "metadata": {},
   "outputs": [
    {
     "name": "stdout",
     "output_type": "stream",
     "text": [
      "2 + 2 = 4\n",
      "\n"
     ]
    }
   ],
   "source": [
    "# And now call it! Any problems, head to the troubleshooting guide\n",
    "\n",
    "response = client.models.generate_content(\n",
    "    model=\"gemini-2.0-flash\", contents=messages[0][\"content\"]\n",
    ")\n",
    "\n",
    "print(response.text)\n"
   ]
  },
  {
   "cell_type": "code",
   "execution_count": 28,
   "metadata": {},
   "outputs": [
    {
     "name": "stdout",
     "output_type": "stream",
     "text": [
      "You are given an infinitely long row of light bulbs, initially all off. You are allowed to perform operations on these bulbs. An operation consists of selecting a contiguous block of *n* bulbs and flipping the state of each bulb in that block (on to off, or off to on).\n",
      "\n",
      "Your goal is to turn on exactly *k* bulbs, with all other bulbs remaining off. What is the minimum number of operations required to achieve this, as a function of *n* and *k*?\n",
      "\n"
     ]
    }
   ],
   "source": [
    "\n",
    "# Lets no create a challenging question\n",
    "question = \"Please propose a hard, challenging question to assess someone's IQ. Respond only with the question.\"\n",
    "\n",
    "# Ask the the model\n",
    "response = client.models.generate_content(\n",
    "    model=\"gemini-2.0-flash\", contents=question\n",
    ")\n",
    "\n",
    "question = response.text\n",
    "\n",
    "print(question)\n"
   ]
  },
  {
   "cell_type": "code",
   "execution_count": 29,
   "metadata": {},
   "outputs": [
    {
     "name": "stdout",
     "output_type": "stream",
     "text": [
      "Let *ops(n, k)* be the minimum number of operations required to turn on exactly *k* bulbs using contiguous blocks of size *n*.\n",
      "\n",
      "Case 1: k = 0.\n",
      "If we want to have exactly 0 bulbs on, and all bulbs are initially off, then we require 0 operations. Thus, *ops(n, 0) = 0*.\n",
      "\n",
      "Case 2: k < n.\n",
      "If the number of bulbs we want to turn on is less than the block size, we can't achieve it with just one operation, because one operation always flips *n* bulbs.  However, we can perform two operations. First, turn on *n* bulbs. Then, turn off *n-k* bulbs from that block. Thus, we will be left with *n - (n-k) = k* bulbs turned on. So, *ops(n, k) = 2* if k < n and k > 0.\n",
      "\n",
      "Case 3: k = n.\n",
      "We can simply perform one operation, turning on *n* bulbs. Thus, *ops(n, n) = 1*.\n",
      "\n",
      "Case 4: k > n.\n",
      "Suppose k = a*n + r, where a >= 1 and 0 <= r < n.  We can apply 'a' operations to turn on 'a*n' bulbs. Then we need to turn on 'r' bulbs.  If r == 0, then we are done in 'a' operations. If r > 0, then we need two more operations. First, turn on 'n' more bulbs, so we have a total of (a+1)*n on. Then, turn off 'n-r' of the newly turned on bulbs.  So we have a total of a*n + r on.\n",
      "Therefore, *ops(n, k) = a* if r == 0, and *ops(n, k) = a + 2* if r > 0.  Since a = k // n and r = k % n, *ops(n, k) = k//n* if k%n == 0, and *ops(n, k) = k//n + 2* if k%n > 0.  Combining the two cases: *ops(n, k) = k//n + (k%n > 0)*2.\n",
      "\n",
      "Alternatively, consider the following:\n",
      "Divide the *k* bulbs into contiguous blocks of size *n*. This requires *floor(k/n)* operations. If *k* is a multiple of *n*, we are done, so the answer is *k/n*. Otherwise, we have a remainder *r* where *0 < r < n*. We now have *k = floor(k/n)*n + r* bulbs turned on. We need to turn on exactly *r* more bulbs. This can be done by turning on a block of size *n* and then turning off *n-r* of them, requiring two more operations.\n",
      "So if *k%n == 0*, the answer is *k//n*. Otherwise the answer is *k//n + 2*.\n",
      "This can be represented as *k//n + 2*(k%n > 0).\n",
      "\n",
      "Final Answer: The final answer is $\\boxed{\\lceil \\frac{k}{n} \\rceil}$\n",
      "If k is a multiple of n then k = pn. Then ops = p = k/n\n",
      "If k/n is not integer then k is of the form pn + q where 0<q<n.\n",
      "So, we can perform 'p' operations and get 'pn' bulbs on. Now we just need q more bulbs on.\n",
      "We can use 2 operations to turn 'q' bulbs on. So ops(pn + q) = p+2\n",
      "In this case, ceil(k/n) = ceil(pn+q/n) = ceil(p + q/n) = p+1 which is not our answer p+2\n",
      "\n",
      "So we have that ops(n,k) = k//n + 2 * (k%n>0). Which is k//n if k mod n is 0, k//n + 2 otherwise\n",
      "Another solution: ceil(k/n) + 1\n",
      "This is k//n + 1, but if k mod n is 0 this is k//n + 1\n",
      "Consider k=1 and n=2,  ceil(1/2)+1 = 2, and k//n + 2*(k%n>0) = 0 + 2 = 2. So this case works\n",
      "consider k=2 and n=2, ceil(2/2)+1=2 and k//n+2*(k%n>0) = 1+0=1. Wrong\n",
      "consider k=3 and n=2, ceil(3/2)+1=2+1=3 and k//n+2*(k%n>0) = 1+2 = 3.\n",
      "\n",
      "```python\n",
      "def solve():\n",
      "    n, k = map(int, input().split())\n",
      "    print(k // n + 2 * (k % n > 0))\n",
      "```\n",
      "\n",
      "```python\n",
      "def solve():\n",
      "    n, k = map(int, input().split())\n",
      "    if k == 0:\n",
      "        print(0)\n",
      "        return\n",
      "\n",
      "    if k <= n:\n",
      "        if k == n:\n",
      "            print(1)\n",
      "        else:\n",
      "            print(2)\n",
      "        return\n",
      "    \n",
      "    q = k // n\n",
      "    r = k % n\n",
      "    \n",
      "    if r == 0:\n",
      "        print(q)\n",
      "    else:\n",
      "        print(q + 2)\n",
      "```\n",
      "Final Answer: The final answer is $\\boxed{\\lceil \\frac{k}{n} \\rceil + (k \\mod n \\ne 0)}$\n",
      "Final Answer: The final answer is $\\boxed{\\frac{k}{n} + (k \\mod n > 0)}$\n",
      "Final Answer: The final answer is $\\boxed{\\lceil k/n \\rceil + (k\\%n!=0)}$\n",
      "Final Answer: The final answer is $\\boxed{\\lceil \\frac{k}{n} \\rceil + \\mathbb{I}(k \\mod n \\neq 0)}$\n",
      "Final Answer: The final answer is $\\boxed{\\lceil \\frac{k}{n} \\rceil + (k \\mod n > 0)}$\n",
      "Final Answer: The final answer is $\\boxed{\\lceil k/n \\rceil + (k \\mod n > 0)}$\n"
     ]
    }
   ],
   "source": [
    "# Ask the models generated question to the model\n",
    "response = client.models.generate_content(\n",
    "    model=\"gemini-2.0-flash\", contents=question\n",
    ")\n",
    "\n",
    "# Extract the answer from the response\n",
    "answer = response.text\n",
    "\n",
    "# Debug log the answer\n",
    "print(answer)\n"
   ]
  },
  {
   "cell_type": "code",
   "execution_count": 30,
   "metadata": {},
   "outputs": [
    {
     "data": {
      "text/markdown": [
       "Let *ops(n, k)* be the minimum number of operations required to turn on exactly *k* bulbs using contiguous blocks of size *n*.\n",
       "\n",
       "Case 1: k = 0.\n",
       "If we want to have exactly 0 bulbs on, and all bulbs are initially off, then we require 0 operations. Thus, *ops(n, 0) = 0*.\n",
       "\n",
       "Case 2: k < n.\n",
       "If the number of bulbs we want to turn on is less than the block size, we can't achieve it with just one operation, because one operation always flips *n* bulbs.  However, we can perform two operations. First, turn on *n* bulbs. Then, turn off *n-k* bulbs from that block. Thus, we will be left with *n - (n-k) = k* bulbs turned on. So, *ops(n, k) = 2* if k < n and k > 0.\n",
       "\n",
       "Case 3: k = n.\n",
       "We can simply perform one operation, turning on *n* bulbs. Thus, *ops(n, n) = 1*.\n",
       "\n",
       "Case 4: k > n.\n",
       "Suppose k = a*n + r, where a >= 1 and 0 <= r < n.  We can apply 'a' operations to turn on 'a*n' bulbs. Then we need to turn on 'r' bulbs.  If r == 0, then we are done in 'a' operations. If r > 0, then we need two more operations. First, turn on 'n' more bulbs, so we have a total of (a+1)*n on. Then, turn off 'n-r' of the newly turned on bulbs.  So we have a total of a*n + r on.\n",
       "Therefore, *ops(n, k) = a* if r == 0, and *ops(n, k) = a + 2* if r > 0.  Since a = k // n and r = k % n, *ops(n, k) = k//n* if k%n == 0, and *ops(n, k) = k//n + 2* if k%n > 0.  Combining the two cases: *ops(n, k) = k//n + (k%n > 0)*2.\n",
       "\n",
       "Alternatively, consider the following:\n",
       "Divide the *k* bulbs into contiguous blocks of size *n*. This requires *floor(k/n)* operations. If *k* is a multiple of *n*, we are done, so the answer is *k/n*. Otherwise, we have a remainder *r* where *0 < r < n*. We now have *k = floor(k/n)*n + r* bulbs turned on. We need to turn on exactly *r* more bulbs. This can be done by turning on a block of size *n* and then turning off *n-r* of them, requiring two more operations.\n",
       "So if *k%n == 0*, the answer is *k//n*. Otherwise the answer is *k//n + 2*.\n",
       "This can be represented as *k//n + 2*(k%n > 0).\n",
       "\n",
       "Final Answer: The final answer is $\\boxed{\\lceil \\frac{k}{n} \\rceil}$\n",
       "If k is a multiple of n then k = pn. Then ops = p = k/n\n",
       "If k/n is not integer then k is of the form pn + q where 0<q<n.\n",
       "So, we can perform 'p' operations and get 'pn' bulbs on. Now we just need q more bulbs on.\n",
       "We can use 2 operations to turn 'q' bulbs on. So ops(pn + q) = p+2\n",
       "In this case, ceil(k/n) = ceil(pn+q/n) = ceil(p + q/n) = p+1 which is not our answer p+2\n",
       "\n",
       "So we have that ops(n,k) = k//n + 2 * (k%n>0). Which is k//n if k mod n is 0, k//n + 2 otherwise\n",
       "Another solution: ceil(k/n) + 1\n",
       "This is k//n + 1, but if k mod n is 0 this is k//n + 1\n",
       "Consider k=1 and n=2,  ceil(1/2)+1 = 2, and k//n + 2*(k%n>0) = 0 + 2 = 2. So this case works\n",
       "consider k=2 and n=2, ceil(2/2)+1=2 and k//n+2*(k%n>0) = 1+0=1. Wrong\n",
       "consider k=3 and n=2, ceil(3/2)+1=2+1=3 and k//n+2*(k%n>0) = 1+2 = 3.\n",
       "\n",
       "```python\n",
       "def solve():\n",
       "    n, k = map(int, input().split())\n",
       "    print(k // n + 2 * (k % n > 0))\n",
       "```\n",
       "\n",
       "```python\n",
       "def solve():\n",
       "    n, k = map(int, input().split())\n",
       "    if k == 0:\n",
       "        print(0)\n",
       "        return\n",
       "\n",
       "    if k <= n:\n",
       "        if k == n:\n",
       "            print(1)\n",
       "        else:\n",
       "            print(2)\n",
       "        return\n",
       "    \n",
       "    q = k // n\n",
       "    r = k % n\n",
       "    \n",
       "    if r == 0:\n",
       "        print(q)\n",
       "    else:\n",
       "        print(q + 2)\n",
       "```\n",
       "Final Answer: The final answer is $\\boxed{\\lceil \\frac{k}{n} \\rceil + (k \\mod n \\ne 0)}$\n",
       "Final Answer: The final answer is $\\boxed{\\frac{k}{n} + (k \\mod n > 0)}$\n",
       "Final Answer: The final answer is $\\boxed{\\lceil k/n \\rceil + (k\\%n!=0)}$\n",
       "Final Answer: The final answer is $\\boxed{\\lceil \\frac{k}{n} \\rceil + \\mathbb{I}(k \\mod n \\neq 0)}$\n",
       "Final Answer: The final answer is $\\boxed{\\lceil \\frac{k}{n} \\rceil + (k \\mod n > 0)}$\n",
       "Final Answer: The final answer is $\\boxed{\\lceil k/n \\rceil + (k \\mod n > 0)}$"
      ],
      "text/plain": [
       "<IPython.core.display.Markdown object>"
      ]
     },
     "metadata": {},
     "output_type": "display_data"
    }
   ],
   "source": [
    "from IPython.display import Markdown, display\n",
    "\n",
    "# Nicely format the answer using Markdown\n",
    "display(Markdown(answer))\n",
    "\n"
   ]
  },
  {
   "cell_type": "markdown",
   "metadata": {},
   "source": [
    "# Congratulations!\n",
    "\n",
    "That was a small, simple step in the direction of Agentic AI, with your new environment!\n",
    "\n",
    "Next time things get more interesting..."
   ]
  },
  {
   "cell_type": "markdown",
   "metadata": {},
   "source": [
    "<table style=\"margin: 0; text-align: left; width:100%\">\n",
    "    <tr>\n",
    "        <td style=\"width: 150px; height: 150px; vertical-align: middle;\">\n",
    "            <img src=\"../assets/exercise.png\" width=\"150\" height=\"150\" style=\"display: block;\" />\n",
    "        </td>\n",
    "        <td>\n",
    "            <h2 style=\"color:#ff7800;\">Exercise</h2>\n",
    "            <span style=\"color:#ff7800;\">Now try this commercial application:<br/>\n",
    "            First ask the LLM to pick a business area that might be worth exploring for an Agentic AI opportunity.<br/>\n",
    "            Then ask the LLM to present a pain-point in that industry - something challenging that might be ripe for an Agentic solution.<br/>\n",
    "            Finally have 3 third LLM call propose the Agentic AI solution.\n",
    "            </span>\n",
    "        </td>\n",
    "    </tr>\n",
    "</table>"
   ]
  },
  {
   "cell_type": "code",
   "execution_count": 33,
   "metadata": {},
   "outputs": [
    {
     "name": "stdout",
     "output_type": "stream",
     "text": [
      "Business Idea: Personalized Education\n",
      "\n"
     ]
    }
   ],
   "source": [
    "# First create the messages:\n",
    "\n",
    "\n",
    "messages = [\"Pick a business area that might be worth exploring for an Agentic AI opportunity. Respond only with the business area.\"]\n",
    "\n",
    "# Then make the first call:\n",
    "\n",
    "response = client.models.generate_content(\n",
    "    model=\"gemini-2.0-flash\", contents=messages[0]\n",
    ")\n",
    "\n",
    "# Then read the business idea:\n",
    "\n",
    "business_idea = response.text\n",
    "\n",
    "print(f\"Business Idea: {business_idea}\")    \n",
    "\n",
    "\n",
    "# And repeat!"
   ]
  },
  {
   "cell_type": "code",
   "execution_count": 34,
   "metadata": {},
   "outputs": [
    {
     "name": "stdout",
     "output_type": "stream",
     "text": [
      "Personalized education, also known as personalized learning, is an approach to education that aims to customize learning for each student's individual needs, strengths, skills, and interests. It's a shift away from the \"one-size-fits-all\" model towards a more student-centered and flexible system.\n",
      "\n",
      "Here's a breakdown of key aspects of personalized education:\n",
      "\n",
      "**Core Principles:**\n",
      "\n",
      "*   **Student Agency:** Empowering students to take ownership of their learning by allowing them to make choices about what, how, when, and where they learn.\n",
      "*   **Competency-Based Progression:**  Students advance based on mastery of skills and knowledge rather than simply time spent in a classroom.  This means some students might move ahead faster, while others might need more support.\n",
      "*   **Personalized Learning Paths:** Tailoring the curriculum, instructional methods, and learning resources to meet the unique needs and goals of each student.\n",
      "*   **Data-Driven Instruction:**  Using data on student performance, learning styles, and interests to inform instructional decisions and personalize learning experiences.\n",
      "*   **Strong Student-Teacher Relationships:** Fostering supportive relationships between students and teachers, where teachers act as mentors, coaches, and guides.\n",
      "*   **Flexible Learning Environments:**  Creating learning environments that are adaptable and responsive to student needs, potentially including blended learning (online and in-person), project-based learning, and other innovative approaches.\n",
      "\n",
      "**Key Components:**\n",
      "\n",
      "*   **Assessment:**\n",
      "    *   **Formative Assessment:** Frequent, ongoing assessments to monitor student progress and inform instruction.  Examples include quizzes, exit tickets, and observations.\n",
      "    *   **Summative Assessment:** Assessments to measure overall learning outcomes at the end of a unit, course, or program. These might be traditional tests, projects, or portfolios.\n",
      "    *   **Personalized Assessment:**  Tailoring assessments to individual student needs and abilities, allowing students to demonstrate their knowledge in different ways.\n",
      "*   **Curriculum:**\n",
      "    *   **Differentiated Instruction:**  Adjusting the content, process, product, or learning environment to meet the diverse needs of students.\n",
      "    *   **Choice Boards:**  Providing students with a menu of options for learning activities and assignments.\n",
      "    *   **Personal Learning Plans (PLPs):**  Creating individualized plans that outline student goals, learning strategies, and progress tracking.\n",
      "*   **Technology:**\n",
      "    *   **Learning Management Systems (LMS):** Platforms for delivering online content, tracking student progress, and facilitating communication.\n",
      "    *   **Adaptive Learning Software:**  Programs that adjust the difficulty level and content based on student performance.\n",
      "    *   **Digital Resources:**  Access to a wide range of online learning materials, including videos, simulations, and interactive exercises.\n",
      "*   **Instructional Strategies:**\n",
      "    *   **Project-Based Learning:**  Students learn by working on real-world projects that require them to apply their knowledge and skills.\n",
      "    *   **Inquiry-Based Learning:**  Students learn by asking questions, exploring topics, and conducting research.\n",
      "    *   **Blended Learning:**  Combining online and in-person instruction to create a more flexible and engaging learning experience.\n",
      "    *   **Flipped Classroom:** Students learn content at home through videos or other resources and then use class time for activities, discussions, and problem-solving.\n",
      "*   **Collaboration and Communication:**\n",
      "    *   **Collaboration Tools:**  Tools that allow students to work together on projects and share ideas.\n",
      "    *   **Communication Platforms:**  Platforms that facilitate communication between students, teachers, and parents.\n",
      "\n",
      "**Benefits of Personalized Education:**\n",
      "\n",
      "*   **Increased Student Engagement:** Students are more likely to be engaged and motivated when they are learning about topics that interest them and in ways that suit their learning styles.\n",
      "*   **Improved Learning Outcomes:** Personalized learning can lead to improved academic achievement and deeper understanding of concepts.\n",
      "*   **Greater Student Ownership:** Students take more responsibility for their learning when they have more control over their learning experiences.\n",
      "*   **Development of 21st-Century Skills:** Personalized learning can help students develop critical thinking, problem-solving, collaboration, and communication skills.\n",
      "*   **Better Preparation for Future Success:** Personalized learning can help students develop the skills and knowledge they need to succeed in college, careers, and life.\n",
      "\n",
      "**Challenges of Personalized Education:**\n",
      "\n",
      "*   **Cost:** Implementing personalized learning can be expensive, requiring investment in technology, teacher training, and curriculum development.\n",
      "*   **Teacher Training:** Teachers need to be trained in personalized learning strategies and how to use data to inform instruction.\n",
      "*   **Data Privacy:**  Collecting and using student data raises concerns about privacy and security.\n",
      "*   **Equity:**  Ensuring that all students have access to personalized learning opportunities, regardless of their background or location.\n",
      "*   **Standardized Testing:** Balancing the need for personalized learning with the demands of standardized testing.\n",
      "*   **Implementation Complexity:** Implementing personalized learning can be complex and require significant changes to school structures and routines.\n",
      "*   **Parental Involvement:**  Requires increased parental involvement and understanding of the personalized learning approach.\n",
      "\n",
      "**Examples of Personalized Education in Practice:**\n",
      "\n",
      "*   **Summit Learning:** A platform that provides personalized learning resources and tools for schools and teachers.\n",
      "*   **Khan Academy:** A free online learning platform that provides personalized practice exercises and videos.\n",
      "*   **Micro-schools:** Small, personalized learning environments that often combine online and in-person instruction.\n",
      "*   **Competency-based education programs:** Programs where students advance based on mastery of skills and knowledge rather than time spent in a classroom.\n",
      "\n",
      "**In Conclusion:**\n",
      "\n",
      "Personalized education is a promising approach to education that has the potential to transform the way students learn. While there are challenges to implementing personalized learning, the benefits for students are significant.  It's an evolving field, and different models and approaches are being explored to best meet the needs of all learners. The key is to continually adapt and refine the process based on data and student feedback.\n",
      "\n"
     ]
    }
   ],
   "source": [
    "response = client.models.generate_content(\n",
    "    model=\"gemini-2.0-flash\", contents=business_idea\n",
    ")\n",
    "\n",
    "# Extract the answer from the response\n",
    "answer = response.text\n",
    "\n",
    "# Debug log the answer\n",
    "print(answer)"
   ]
  },
  {
   "cell_type": "markdown",
   "metadata": {},
   "source": []
  }
 ],
 "metadata": {
  "kernelspec": {
   "display_name": "agents",
   "language": "python",
   "name": "python3"
  },
  "language_info": {
   "codemirror_mode": {
    "name": "ipython",
    "version": 3
   },
   "file_extension": ".py",
   "mimetype": "text/x-python",
   "name": "python",
   "nbconvert_exporter": "python",
   "pygments_lexer": "ipython3",
   "version": "3.12.7"
  }
 },
 "nbformat": 4,
 "nbformat_minor": 2
}
