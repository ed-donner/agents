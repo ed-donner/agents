{
 "cells": [
  {
   "cell_type": "markdown",
   "id": "194b758a",
   "metadata": {},
   "source": [
    "Notes:\n",
    "\n",
    "- Used Telegram to send notification\n",
    "- uses Azure **Azure AI Foundry**, modify code to use different LLM\n",
    "\n",
    "\n",
    "\n"
   ]
  },
  {
   "cell_type": "markdown",
   "id": "9ebf6e1d",
   "metadata": {},
   "source": [
    "\n",
    "# 1. Prerequisites\n",
    "\n",
    "## Install dependencies\n",
    "\n",
    "Create and activate a virtual environment (recommended):\n",
    "\n",
    "    ```powershell\n",
    "    uv init\n",
    "\n",
    "    uv pip install python-dotenv openai pypdf gradio requests\n",
    "    ```\n",
    "\n"
   ]
  },
  {
   "cell_type": "markdown",
   "id": "5ab9d3b5",
   "metadata": {},
   "source": [
    "# 2. Configuration Files Required\n",
    "   \n",
    "./me/Profile.pdf — the PDF you want parsed into the chatbot context. (LinkedIn Profile)\n",
    "\n",
    "./me/summary.txt — a short, high-signal summary of your background.\n",
    "\n",
    "The app concatenates PDF text and summary into the system prompt used for every chat session."
   ]
  },
  {
   "cell_type": "markdown",
   "id": "3e72a13a",
   "metadata": {},
   "source": [
    "\n",
    "# 3. Environment Variables\n",
    "Create a .env file in the project root with the following keys. All are required for a full setup.\n",
    "\n",
    "```md\n",
    "## --- Azure OpenAI ---\n",
    "AZURE_OPENAI_API_KEY=\"<your-azure-openai-key>\"\n",
    "AZURE_OPENAI_ENDPOINT=\"https://<your-resource-name>.openai.azure.com/\"\n",
    "AZURE_OPENAI_API_VERSION=\"2024-02-15-preview\"   # or the version you’re using\n",
    "\n",
    "## --- Telegram ---\n",
    "Telegram_TOKEN=\"<your-telegram-bot-token>\"      # from @BotFather\n",
    "Telegram_CHAT_ID=\"<your-chat-or-user-id>\"       # your own ID or a group/channel ID\n",
    "```"
   ]
  },
  {
   "cell_type": "markdown",
   "id": "a02736e8",
   "metadata": {},
   "source": [
    "# 4. Create the bot and get the API key (a.k.a. bot token)\n",
    "   \n",
    "Open Telegram and start a chat with @BotFather.\n",
    "\n",
    "Send /newbot.\n",
    "\n",
    "Give your bot a name (display name) and then a username (must end in bot, e.g., cloud_helper_bot).\n",
    "\n",
    "BotFather replies with your bot token — looks like 1234567890:AA....\n",
    "\n",
    "Save this token securely. Treat it like a password.\n",
    "\n",
    "(Optional but useful) In @BotFather → /mybots → YourBot → Bot Settings:\n",
    "\n",
    "Group Privacy: toggle if you want the bot to see all group messages (Off) or only commands (On).\n",
    "\n",
    "Rotate Token if it ever leaks."
   ]
  },
  {
   "cell_type": "markdown",
   "id": "242d76ee",
   "metadata": {},
   "source": [
    "# 5. Get your user ID (chat ID for a 1:1 chat)\n",
    "   \n",
    "**Option A: Quick way via the Bot API**\n",
    "\n",
    "Open a chat with your new bot and send /start (or any message).\n",
    "\n",
    "In a browser or terminal, call getUpdates:\n",
    "\n",
    "\n",
    "```bash\n",
    "curl \"https://api.telegram.org/bot<YOUR_BOT_TOKEN>/getUpdates\"\n",
    "```\n",
    "\n",
    "In the JSON response, look for:\n",
    "\n",
    "- message.from.id → your user ID (an integer).\n",
    "\n",
    "- message.chat.id → chat ID for this 1:1 chat (same as your user ID).\n",
    "\n",
    "**Option B: Use a helper bot**\n",
    "\n",
    "DM something like @userinfobot or @RawDataBot and it will reply with your ID. (The getUpdates method above is the most “official”/direct way.)"
   ]
  }
 ],
 "metadata": {
  "language_info": {
   "name": "python"
  }
 },
 "nbformat": 4,
 "nbformat_minor": 5
}
